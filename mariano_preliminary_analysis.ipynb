{
 "cells": [
  {
   "cell_type": "markdown",
   "metadata": {},
   "source": [
    "# Preliminary Analysis"
   ]
  },
  {
   "cell_type": "markdown",
   "metadata": {},
   "source": []
  },
  {
   "cell_type": "code",
   "execution_count": 1,
   "metadata": {},
   "outputs": [],
   "source": [
    "import numpy as np\n",
    "import pandas as pd\n",
    "import seaborn as sns\n",
    "import matplotlib.pyplot as plt\n",
    "from sklearn import preprocessing\n"
   ]
  },
  {
   "cell_type": "markdown",
   "metadata": {},
   "source": [
    "We import all the various datasets"
   ]
  },
  {
   "cell_type": "code",
   "execution_count": 2,
   "metadata": {},
   "outputs": [],
   "source": [
    "mcf7_smartS_meta = pd.read_csv(\"Data/SmartSeq/MCF7_SmartS_MetaData.tsv\",delimiter=\"\\t\", index_col=0)\n",
    "mcf7_smartS_filn = pd.read_csv(\"Data/SmartSeq/MCF7_SmartS_Filtered_Normalised_3000_Data_train.txt\",delimiter=\" \",index_col=0).T\n",
    "hcc_smartS_meta = pd.read_csv(\"Data/SmartSeq/HCC1806_SmartS_MetaData.tsv\",delimiter=\"\\t\",index_col=0)\n",
    "hcc_smartS_filn = pd.read_csv(\"Data/SmartSeq/HCC1806_SmartS_Filtered_Normalised_3000_Data_train.txt\",delimiter=\" \",index_col=0).T\n",
    "mcf7_dropS_filn = pd.read_csv(\"Data/DropSeq/MCF7_Filtered_Normalised_3000_Data_train.txt\",delimiter=\" \",index_col=0).T\n",
    "hcc_dropS_filn = pd.read_csv(\"Data/DropSeq/HCC1806_Filtered_Normalised_3000_Data_train.txt\",delimiter=\" \",index_col=0).T\n",
    "mcf7_smartS_filt = pd.read_csv(\"Data/SmartSeq/MCF7_SmartS_Filtered_Data.txt\",delimiter=\" \",index_col=0).T\n",
    "hcc_smartS_filt = pd.read_csv(\"Data/SmartSeq/HCC1806_SmartS_Filtered_Data.txt\",delimiter=\" \",index_col=0).T\n",
    "mcf7_smartS_raw = pd.read_csv(\"Data/SmartSeq/MCF7_SmartS_Unfiltered_Data.txt\",delimiter=\" \",index_col=0).T\n",
    "hcc_smartS_raw = pd.read_csv(\"Data/SmartSeq/HCC1806_SmartS_Unfiltered_Data.txt\",delimiter=\" \",index_col=0).T"
   ]
  },
  {
   "cell_type": "markdown",
   "metadata": {},
   "source": [
    "## Smartseq"
   ]
  },
  {
   "cell_type": "markdown",
   "metadata": {},
   "source": [
    "Since we have unfiltered data only for the Smart sequencing, we will focus on Smartseq. Let us start with MCF7"
   ]
  },
  {
   "cell_type": "code",
   "execution_count": 3,
   "metadata": {},
   "outputs": [
    {
     "data": {
      "text/html": [
       "<div>\n",
       "<style scoped>\n",
       "    .dataframe tbody tr th:only-of-type {\n",
       "        vertical-align: middle;\n",
       "    }\n",
       "\n",
       "    .dataframe tbody tr th {\n",
       "        vertical-align: top;\n",
       "    }\n",
       "\n",
       "    .dataframe thead th {\n",
       "        text-align: right;\n",
       "    }\n",
       "</style>\n",
       "<table border=\"1\" class=\"dataframe\">\n",
       "  <thead>\n",
       "    <tr style=\"text-align: right;\">\n",
       "      <th></th>\n",
       "      <th>WASH7P</th>\n",
       "      <th>MIR6859-1</th>\n",
       "      <th>WASH9P</th>\n",
       "      <th>OR4F29</th>\n",
       "      <th>MTND1P23</th>\n",
       "      <th>MTND2P28</th>\n",
       "      <th>MTCO1P12</th>\n",
       "      <th>MTCO2P12</th>\n",
       "      <th>MTATP8P1</th>\n",
       "      <th>MTATP6P1</th>\n",
       "      <th>...</th>\n",
       "      <th>MT-TH</th>\n",
       "      <th>MT-TS2</th>\n",
       "      <th>MT-TL2</th>\n",
       "      <th>MT-ND5</th>\n",
       "      <th>MT-ND6</th>\n",
       "      <th>MT-TE</th>\n",
       "      <th>MT-CYB</th>\n",
       "      <th>MT-TT</th>\n",
       "      <th>MT-TP</th>\n",
       "      <th>MAFIP</th>\n",
       "    </tr>\n",
       "  </thead>\n",
       "  <tbody>\n",
       "    <tr>\n",
       "      <th>output.STAR.1_A10_Hypo_S28_Aligned.sortedByCoord.out.bam</th>\n",
       "      <td>0</td>\n",
       "      <td>0</td>\n",
       "      <td>1</td>\n",
       "      <td>0</td>\n",
       "      <td>0</td>\n",
       "      <td>2</td>\n",
       "      <td>2</td>\n",
       "      <td>0</td>\n",
       "      <td>0</td>\n",
       "      <td>29</td>\n",
       "      <td>...</td>\n",
       "      <td>0</td>\n",
       "      <td>0</td>\n",
       "      <td>0</td>\n",
       "      <td>505</td>\n",
       "      <td>147</td>\n",
       "      <td>4</td>\n",
       "      <td>270</td>\n",
       "      <td>0</td>\n",
       "      <td>5</td>\n",
       "      <td>8</td>\n",
       "    </tr>\n",
       "    <tr>\n",
       "      <th>output.STAR.1_A11_Hypo_S29_Aligned.sortedByCoord.out.bam</th>\n",
       "      <td>0</td>\n",
       "      <td>0</td>\n",
       "      <td>0</td>\n",
       "      <td>0</td>\n",
       "      <td>0</td>\n",
       "      <td>0</td>\n",
       "      <td>0</td>\n",
       "      <td>0</td>\n",
       "      <td>0</td>\n",
       "      <td>0</td>\n",
       "      <td>...</td>\n",
       "      <td>1</td>\n",
       "      <td>1</td>\n",
       "      <td>0</td>\n",
       "      <td>1</td>\n",
       "      <td>0</td>\n",
       "      <td>0</td>\n",
       "      <td>1</td>\n",
       "      <td>0</td>\n",
       "      <td>0</td>\n",
       "      <td>0</td>\n",
       "    </tr>\n",
       "    <tr>\n",
       "      <th>output.STAR.1_A12_Hypo_S30_Aligned.sortedByCoord.out.bam</th>\n",
       "      <td>0</td>\n",
       "      <td>0</td>\n",
       "      <td>0</td>\n",
       "      <td>0</td>\n",
       "      <td>0</td>\n",
       "      <td>1</td>\n",
       "      <td>1</td>\n",
       "      <td>1</td>\n",
       "      <td>0</td>\n",
       "      <td>12</td>\n",
       "      <td>...</td>\n",
       "      <td>0</td>\n",
       "      <td>0</td>\n",
       "      <td>0</td>\n",
       "      <td>1</td>\n",
       "      <td>0</td>\n",
       "      <td>0</td>\n",
       "      <td>76</td>\n",
       "      <td>0</td>\n",
       "      <td>0</td>\n",
       "      <td>0</td>\n",
       "    </tr>\n",
       "    <tr>\n",
       "      <th>output.STAR.1_A1_Norm_S1_Aligned.sortedByCoord.out.bam</th>\n",
       "      <td>0</td>\n",
       "      <td>0</td>\n",
       "      <td>0</td>\n",
       "      <td>0</td>\n",
       "      <td>0</td>\n",
       "      <td>0</td>\n",
       "      <td>0</td>\n",
       "      <td>0</td>\n",
       "      <td>0</td>\n",
       "      <td>7</td>\n",
       "      <td>...</td>\n",
       "      <td>1</td>\n",
       "      <td>0</td>\n",
       "      <td>0</td>\n",
       "      <td>44</td>\n",
       "      <td>8</td>\n",
       "      <td>0</td>\n",
       "      <td>66</td>\n",
       "      <td>0</td>\n",
       "      <td>1</td>\n",
       "      <td>0</td>\n",
       "    </tr>\n",
       "    <tr>\n",
       "      <th>output.STAR.1_A2_Norm_S2_Aligned.sortedByCoord.out.bam</th>\n",
       "      <td>0</td>\n",
       "      <td>0</td>\n",
       "      <td>0</td>\n",
       "      <td>0</td>\n",
       "      <td>0</td>\n",
       "      <td>0</td>\n",
       "      <td>0</td>\n",
       "      <td>0</td>\n",
       "      <td>0</td>\n",
       "      <td>68</td>\n",
       "      <td>...</td>\n",
       "      <td>0</td>\n",
       "      <td>0</td>\n",
       "      <td>0</td>\n",
       "      <td>237</td>\n",
       "      <td>31</td>\n",
       "      <td>3</td>\n",
       "      <td>727</td>\n",
       "      <td>0</td>\n",
       "      <td>0</td>\n",
       "      <td>0</td>\n",
       "    </tr>\n",
       "    <tr>\n",
       "      <th>...</th>\n",
       "      <td>...</td>\n",
       "      <td>...</td>\n",
       "      <td>...</td>\n",
       "      <td>...</td>\n",
       "      <td>...</td>\n",
       "      <td>...</td>\n",
       "      <td>...</td>\n",
       "      <td>...</td>\n",
       "      <td>...</td>\n",
       "      <td>...</td>\n",
       "      <td>...</td>\n",
       "      <td>...</td>\n",
       "      <td>...</td>\n",
       "      <td>...</td>\n",
       "      <td>...</td>\n",
       "      <td>...</td>\n",
       "      <td>...</td>\n",
       "      <td>...</td>\n",
       "      <td>...</td>\n",
       "      <td>...</td>\n",
       "      <td>...</td>\n",
       "    </tr>\n",
       "    <tr>\n",
       "      <th>output.STAR.4_H5_Norm_S359_Aligned.sortedByCoord.out.bam</th>\n",
       "      <td>0</td>\n",
       "      <td>0</td>\n",
       "      <td>0</td>\n",
       "      <td>0</td>\n",
       "      <td>0</td>\n",
       "      <td>0</td>\n",
       "      <td>1</td>\n",
       "      <td>0</td>\n",
       "      <td>0</td>\n",
       "      <td>49</td>\n",
       "      <td>...</td>\n",
       "      <td>0</td>\n",
       "      <td>0</td>\n",
       "      <td>1</td>\n",
       "      <td>341</td>\n",
       "      <td>46</td>\n",
       "      <td>1</td>\n",
       "      <td>570</td>\n",
       "      <td>0</td>\n",
       "      <td>0</td>\n",
       "      <td>0</td>\n",
       "    </tr>\n",
       "    <tr>\n",
       "      <th>output.STAR.4_H6_Norm_S360_Aligned.sortedByCoord.out.bam</th>\n",
       "      <td>0</td>\n",
       "      <td>0</td>\n",
       "      <td>1</td>\n",
       "      <td>0</td>\n",
       "      <td>0</td>\n",
       "      <td>2</td>\n",
       "      <td>5</td>\n",
       "      <td>5</td>\n",
       "      <td>0</td>\n",
       "      <td>370</td>\n",
       "      <td>...</td>\n",
       "      <td>0</td>\n",
       "      <td>0</td>\n",
       "      <td>2</td>\n",
       "      <td>1612</td>\n",
       "      <td>215</td>\n",
       "      <td>6</td>\n",
       "      <td>3477</td>\n",
       "      <td>3</td>\n",
       "      <td>7</td>\n",
       "      <td>6</td>\n",
       "    </tr>\n",
       "    <tr>\n",
       "      <th>output.STAR.4_H7_Hypo_S379_Aligned.sortedByCoord.out.bam</th>\n",
       "      <td>1</td>\n",
       "      <td>0</td>\n",
       "      <td>1</td>\n",
       "      <td>0</td>\n",
       "      <td>0</td>\n",
       "      <td>7</td>\n",
       "      <td>0</td>\n",
       "      <td>0</td>\n",
       "      <td>0</td>\n",
       "      <td>33</td>\n",
       "      <td>...</td>\n",
       "      <td>0</td>\n",
       "      <td>0</td>\n",
       "      <td>0</td>\n",
       "      <td>62</td>\n",
       "      <td>20</td>\n",
       "      <td>0</td>\n",
       "      <td>349</td>\n",
       "      <td>0</td>\n",
       "      <td>2</td>\n",
       "      <td>0</td>\n",
       "    </tr>\n",
       "    <tr>\n",
       "      <th>output.STAR.4_H8_Hypo_S380_Aligned.sortedByCoord.out.bam</th>\n",
       "      <td>0</td>\n",
       "      <td>0</td>\n",
       "      <td>4</td>\n",
       "      <td>1</td>\n",
       "      <td>0</td>\n",
       "      <td>29</td>\n",
       "      <td>4</td>\n",
       "      <td>0</td>\n",
       "      <td>0</td>\n",
       "      <td>228</td>\n",
       "      <td>...</td>\n",
       "      <td>3</td>\n",
       "      <td>0</td>\n",
       "      <td>2</td>\n",
       "      <td>1934</td>\n",
       "      <td>575</td>\n",
       "      <td>7</td>\n",
       "      <td>2184</td>\n",
       "      <td>2</td>\n",
       "      <td>28</td>\n",
       "      <td>1</td>\n",
       "    </tr>\n",
       "    <tr>\n",
       "      <th>output.STAR.4_H9_Hypo_S381_Aligned.sortedByCoord.out.bam</th>\n",
       "      <td>1</td>\n",
       "      <td>0</td>\n",
       "      <td>5</td>\n",
       "      <td>0</td>\n",
       "      <td>0</td>\n",
       "      <td>5</td>\n",
       "      <td>3</td>\n",
       "      <td>0</td>\n",
       "      <td>0</td>\n",
       "      <td>71</td>\n",
       "      <td>...</td>\n",
       "      <td>5</td>\n",
       "      <td>2</td>\n",
       "      <td>3</td>\n",
       "      <td>1328</td>\n",
       "      <td>490</td>\n",
       "      <td>4</td>\n",
       "      <td>1149</td>\n",
       "      <td>2</td>\n",
       "      <td>11</td>\n",
       "      <td>4</td>\n",
       "    </tr>\n",
       "  </tbody>\n",
       "</table>\n",
       "<p>383 rows × 22934 columns</p>\n",
       "</div>"
      ],
      "text/plain": [
       "                                                    WASH7P  MIR6859-1  WASH9P  \\\n",
       "output.STAR.1_A10_Hypo_S28_Aligned.sortedByCoor...       0          0       1   \n",
       "output.STAR.1_A11_Hypo_S29_Aligned.sortedByCoor...       0          0       0   \n",
       "output.STAR.1_A12_Hypo_S30_Aligned.sortedByCoor...       0          0       0   \n",
       "output.STAR.1_A1_Norm_S1_Aligned.sortedByCoord....       0          0       0   \n",
       "output.STAR.1_A2_Norm_S2_Aligned.sortedByCoord....       0          0       0   \n",
       "...                                                    ...        ...     ...   \n",
       "output.STAR.4_H5_Norm_S359_Aligned.sortedByCoor...       0          0       0   \n",
       "output.STAR.4_H6_Norm_S360_Aligned.sortedByCoor...       0          0       1   \n",
       "output.STAR.4_H7_Hypo_S379_Aligned.sortedByCoor...       1          0       1   \n",
       "output.STAR.4_H8_Hypo_S380_Aligned.sortedByCoor...       0          0       4   \n",
       "output.STAR.4_H9_Hypo_S381_Aligned.sortedByCoor...       1          0       5   \n",
       "\n",
       "                                                    OR4F29  MTND1P23  \\\n",
       "output.STAR.1_A10_Hypo_S28_Aligned.sortedByCoor...       0         0   \n",
       "output.STAR.1_A11_Hypo_S29_Aligned.sortedByCoor...       0         0   \n",
       "output.STAR.1_A12_Hypo_S30_Aligned.sortedByCoor...       0         0   \n",
       "output.STAR.1_A1_Norm_S1_Aligned.sortedByCoord....       0         0   \n",
       "output.STAR.1_A2_Norm_S2_Aligned.sortedByCoord....       0         0   \n",
       "...                                                    ...       ...   \n",
       "output.STAR.4_H5_Norm_S359_Aligned.sortedByCoor...       0         0   \n",
       "output.STAR.4_H6_Norm_S360_Aligned.sortedByCoor...       0         0   \n",
       "output.STAR.4_H7_Hypo_S379_Aligned.sortedByCoor...       0         0   \n",
       "output.STAR.4_H8_Hypo_S380_Aligned.sortedByCoor...       1         0   \n",
       "output.STAR.4_H9_Hypo_S381_Aligned.sortedByCoor...       0         0   \n",
       "\n",
       "                                                    MTND2P28  MTCO1P12  \\\n",
       "output.STAR.1_A10_Hypo_S28_Aligned.sortedByCoor...         2         2   \n",
       "output.STAR.1_A11_Hypo_S29_Aligned.sortedByCoor...         0         0   \n",
       "output.STAR.1_A12_Hypo_S30_Aligned.sortedByCoor...         1         1   \n",
       "output.STAR.1_A1_Norm_S1_Aligned.sortedByCoord....         0         0   \n",
       "output.STAR.1_A2_Norm_S2_Aligned.sortedByCoord....         0         0   \n",
       "...                                                      ...       ...   \n",
       "output.STAR.4_H5_Norm_S359_Aligned.sortedByCoor...         0         1   \n",
       "output.STAR.4_H6_Norm_S360_Aligned.sortedByCoor...         2         5   \n",
       "output.STAR.4_H7_Hypo_S379_Aligned.sortedByCoor...         7         0   \n",
       "output.STAR.4_H8_Hypo_S380_Aligned.sortedByCoor...        29         4   \n",
       "output.STAR.4_H9_Hypo_S381_Aligned.sortedByCoor...         5         3   \n",
       "\n",
       "                                                    MTCO2P12  MTATP8P1  \\\n",
       "output.STAR.1_A10_Hypo_S28_Aligned.sortedByCoor...         0         0   \n",
       "output.STAR.1_A11_Hypo_S29_Aligned.sortedByCoor...         0         0   \n",
       "output.STAR.1_A12_Hypo_S30_Aligned.sortedByCoor...         1         0   \n",
       "output.STAR.1_A1_Norm_S1_Aligned.sortedByCoord....         0         0   \n",
       "output.STAR.1_A2_Norm_S2_Aligned.sortedByCoord....         0         0   \n",
       "...                                                      ...       ...   \n",
       "output.STAR.4_H5_Norm_S359_Aligned.sortedByCoor...         0         0   \n",
       "output.STAR.4_H6_Norm_S360_Aligned.sortedByCoor...         5         0   \n",
       "output.STAR.4_H7_Hypo_S379_Aligned.sortedByCoor...         0         0   \n",
       "output.STAR.4_H8_Hypo_S380_Aligned.sortedByCoor...         0         0   \n",
       "output.STAR.4_H9_Hypo_S381_Aligned.sortedByCoor...         0         0   \n",
       "\n",
       "                                                    MTATP6P1  ...  MT-TH  \\\n",
       "output.STAR.1_A10_Hypo_S28_Aligned.sortedByCoor...        29  ...      0   \n",
       "output.STAR.1_A11_Hypo_S29_Aligned.sortedByCoor...         0  ...      1   \n",
       "output.STAR.1_A12_Hypo_S30_Aligned.sortedByCoor...        12  ...      0   \n",
       "output.STAR.1_A1_Norm_S1_Aligned.sortedByCoord....         7  ...      1   \n",
       "output.STAR.1_A2_Norm_S2_Aligned.sortedByCoord....        68  ...      0   \n",
       "...                                                      ...  ...    ...   \n",
       "output.STAR.4_H5_Norm_S359_Aligned.sortedByCoor...        49  ...      0   \n",
       "output.STAR.4_H6_Norm_S360_Aligned.sortedByCoor...       370  ...      0   \n",
       "output.STAR.4_H7_Hypo_S379_Aligned.sortedByCoor...        33  ...      0   \n",
       "output.STAR.4_H8_Hypo_S380_Aligned.sortedByCoor...       228  ...      3   \n",
       "output.STAR.4_H9_Hypo_S381_Aligned.sortedByCoor...        71  ...      5   \n",
       "\n",
       "                                                    MT-TS2  MT-TL2  MT-ND5  \\\n",
       "output.STAR.1_A10_Hypo_S28_Aligned.sortedByCoor...       0       0     505   \n",
       "output.STAR.1_A11_Hypo_S29_Aligned.sortedByCoor...       1       0       1   \n",
       "output.STAR.1_A12_Hypo_S30_Aligned.sortedByCoor...       0       0       1   \n",
       "output.STAR.1_A1_Norm_S1_Aligned.sortedByCoord....       0       0      44   \n",
       "output.STAR.1_A2_Norm_S2_Aligned.sortedByCoord....       0       0     237   \n",
       "...                                                    ...     ...     ...   \n",
       "output.STAR.4_H5_Norm_S359_Aligned.sortedByCoor...       0       1     341   \n",
       "output.STAR.4_H6_Norm_S360_Aligned.sortedByCoor...       0       2    1612   \n",
       "output.STAR.4_H7_Hypo_S379_Aligned.sortedByCoor...       0       0      62   \n",
       "output.STAR.4_H8_Hypo_S380_Aligned.sortedByCoor...       0       2    1934   \n",
       "output.STAR.4_H9_Hypo_S381_Aligned.sortedByCoor...       2       3    1328   \n",
       "\n",
       "                                                    MT-ND6  MT-TE  MT-CYB  \\\n",
       "output.STAR.1_A10_Hypo_S28_Aligned.sortedByCoor...     147      4     270   \n",
       "output.STAR.1_A11_Hypo_S29_Aligned.sortedByCoor...       0      0       1   \n",
       "output.STAR.1_A12_Hypo_S30_Aligned.sortedByCoor...       0      0      76   \n",
       "output.STAR.1_A1_Norm_S1_Aligned.sortedByCoord....       8      0      66   \n",
       "output.STAR.1_A2_Norm_S2_Aligned.sortedByCoord....      31      3     727   \n",
       "...                                                    ...    ...     ...   \n",
       "output.STAR.4_H5_Norm_S359_Aligned.sortedByCoor...      46      1     570   \n",
       "output.STAR.4_H6_Norm_S360_Aligned.sortedByCoor...     215      6    3477   \n",
       "output.STAR.4_H7_Hypo_S379_Aligned.sortedByCoor...      20      0     349   \n",
       "output.STAR.4_H8_Hypo_S380_Aligned.sortedByCoor...     575      7    2184   \n",
       "output.STAR.4_H9_Hypo_S381_Aligned.sortedByCoor...     490      4    1149   \n",
       "\n",
       "                                                    MT-TT  MT-TP  MAFIP  \n",
       "output.STAR.1_A10_Hypo_S28_Aligned.sortedByCoor...      0      5      8  \n",
       "output.STAR.1_A11_Hypo_S29_Aligned.sortedByCoor...      0      0      0  \n",
       "output.STAR.1_A12_Hypo_S30_Aligned.sortedByCoor...      0      0      0  \n",
       "output.STAR.1_A1_Norm_S1_Aligned.sortedByCoord....      0      1      0  \n",
       "output.STAR.1_A2_Norm_S2_Aligned.sortedByCoord....      0      0      0  \n",
       "...                                                   ...    ...    ...  \n",
       "output.STAR.4_H5_Norm_S359_Aligned.sortedByCoor...      0      0      0  \n",
       "output.STAR.4_H6_Norm_S360_Aligned.sortedByCoor...      3      7      6  \n",
       "output.STAR.4_H7_Hypo_S379_Aligned.sortedByCoor...      0      2      0  \n",
       "output.STAR.4_H8_Hypo_S380_Aligned.sortedByCoor...      2     28      1  \n",
       "output.STAR.4_H9_Hypo_S381_Aligned.sortedByCoor...      2     11      4  \n",
       "\n",
       "[383 rows x 22934 columns]"
      ]
     },
     "execution_count": 3,
     "metadata": {},
     "output_type": "execute_result"
    }
   ],
   "source": [
    "mcf7_smartS_raw"
   ]
  },
  {
   "cell_type": "code",
   "execution_count": 4,
   "metadata": {},
   "outputs": [
    {
     "data": {
      "text/html": [
       "<div>\n",
       "<style scoped>\n",
       "    .dataframe tbody tr th:only-of-type {\n",
       "        vertical-align: middle;\n",
       "    }\n",
       "\n",
       "    .dataframe tbody tr th {\n",
       "        vertical-align: top;\n",
       "    }\n",
       "\n",
       "    .dataframe thead th {\n",
       "        text-align: right;\n",
       "    }\n",
       "</style>\n",
       "<table border=\"1\" class=\"dataframe\">\n",
       "  <thead>\n",
       "    <tr style=\"text-align: right;\">\n",
       "      <th></th>\n",
       "      <th>WASH7P</th>\n",
       "      <th>MIR6859-1</th>\n",
       "      <th>WASH9P</th>\n",
       "      <th>OR4F29</th>\n",
       "      <th>MTND1P23</th>\n",
       "      <th>MTND2P28</th>\n",
       "      <th>MTCO1P12</th>\n",
       "      <th>MTCO2P12</th>\n",
       "      <th>MTATP8P1</th>\n",
       "      <th>MTATP6P1</th>\n",
       "      <th>...</th>\n",
       "      <th>MT-TH</th>\n",
       "      <th>MT-TS2</th>\n",
       "      <th>MT-TL2</th>\n",
       "      <th>MT-ND5</th>\n",
       "      <th>MT-ND6</th>\n",
       "      <th>MT-TE</th>\n",
       "      <th>MT-CYB</th>\n",
       "      <th>MT-TT</th>\n",
       "      <th>MT-TP</th>\n",
       "      <th>MAFIP</th>\n",
       "    </tr>\n",
       "  </thead>\n",
       "  <tbody>\n",
       "    <tr>\n",
       "      <th>output.STAR.1_A10_Hypo_S28_Aligned.sortedByCoord.out.bam</th>\n",
       "      <td>0</td>\n",
       "      <td>0</td>\n",
       "      <td>1</td>\n",
       "      <td>0</td>\n",
       "      <td>0</td>\n",
       "      <td>2</td>\n",
       "      <td>2</td>\n",
       "      <td>0</td>\n",
       "      <td>0</td>\n",
       "      <td>29</td>\n",
       "      <td>...</td>\n",
       "      <td>0</td>\n",
       "      <td>0</td>\n",
       "      <td>0</td>\n",
       "      <td>505</td>\n",
       "      <td>147</td>\n",
       "      <td>4</td>\n",
       "      <td>270</td>\n",
       "      <td>0</td>\n",
       "      <td>5</td>\n",
       "      <td>8</td>\n",
       "    </tr>\n",
       "    <tr>\n",
       "      <th>output.STAR.1_A12_Hypo_S30_Aligned.sortedByCoord.out.bam</th>\n",
       "      <td>0</td>\n",
       "      <td>0</td>\n",
       "      <td>0</td>\n",
       "      <td>0</td>\n",
       "      <td>0</td>\n",
       "      <td>1</td>\n",
       "      <td>1</td>\n",
       "      <td>1</td>\n",
       "      <td>0</td>\n",
       "      <td>12</td>\n",
       "      <td>...</td>\n",
       "      <td>0</td>\n",
       "      <td>0</td>\n",
       "      <td>0</td>\n",
       "      <td>1</td>\n",
       "      <td>0</td>\n",
       "      <td>0</td>\n",
       "      <td>76</td>\n",
       "      <td>0</td>\n",
       "      <td>0</td>\n",
       "      <td>0</td>\n",
       "    </tr>\n",
       "    <tr>\n",
       "      <th>output.STAR.1_A2_Norm_S2_Aligned.sortedByCoord.out.bam</th>\n",
       "      <td>0</td>\n",
       "      <td>0</td>\n",
       "      <td>0</td>\n",
       "      <td>0</td>\n",
       "      <td>0</td>\n",
       "      <td>0</td>\n",
       "      <td>0</td>\n",
       "      <td>0</td>\n",
       "      <td>0</td>\n",
       "      <td>68</td>\n",
       "      <td>...</td>\n",
       "      <td>0</td>\n",
       "      <td>0</td>\n",
       "      <td>0</td>\n",
       "      <td>237</td>\n",
       "      <td>31</td>\n",
       "      <td>3</td>\n",
       "      <td>727</td>\n",
       "      <td>0</td>\n",
       "      <td>0</td>\n",
       "      <td>0</td>\n",
       "    </tr>\n",
       "    <tr>\n",
       "      <th>output.STAR.1_A3_Norm_S3_Aligned.sortedByCoord.out.bam</th>\n",
       "      <td>0</td>\n",
       "      <td>0</td>\n",
       "      <td>1</td>\n",
       "      <td>0</td>\n",
       "      <td>0</td>\n",
       "      <td>1</td>\n",
       "      <td>3</td>\n",
       "      <td>0</td>\n",
       "      <td>0</td>\n",
       "      <td>203</td>\n",
       "      <td>...</td>\n",
       "      <td>1</td>\n",
       "      <td>0</td>\n",
       "      <td>0</td>\n",
       "      <td>894</td>\n",
       "      <td>113</td>\n",
       "      <td>3</td>\n",
       "      <td>2717</td>\n",
       "      <td>1</td>\n",
       "      <td>1</td>\n",
       "      <td>0</td>\n",
       "    </tr>\n",
       "    <tr>\n",
       "      <th>output.STAR.1_A4_Norm_S4_Aligned.sortedByCoord.out.bam</th>\n",
       "      <td>0</td>\n",
       "      <td>0</td>\n",
       "      <td>10</td>\n",
       "      <td>0</td>\n",
       "      <td>0</td>\n",
       "      <td>3</td>\n",
       "      <td>10</td>\n",
       "      <td>1</td>\n",
       "      <td>0</td>\n",
       "      <td>691</td>\n",
       "      <td>...</td>\n",
       "      <td>1</td>\n",
       "      <td>0</td>\n",
       "      <td>3</td>\n",
       "      <td>1279</td>\n",
       "      <td>131</td>\n",
       "      <td>0</td>\n",
       "      <td>9326</td>\n",
       "      <td>1</td>\n",
       "      <td>1</td>\n",
       "      <td>0</td>\n",
       "    </tr>\n",
       "    <tr>\n",
       "      <th>...</th>\n",
       "      <td>...</td>\n",
       "      <td>...</td>\n",
       "      <td>...</td>\n",
       "      <td>...</td>\n",
       "      <td>...</td>\n",
       "      <td>...</td>\n",
       "      <td>...</td>\n",
       "      <td>...</td>\n",
       "      <td>...</td>\n",
       "      <td>...</td>\n",
       "      <td>...</td>\n",
       "      <td>...</td>\n",
       "      <td>...</td>\n",
       "      <td>...</td>\n",
       "      <td>...</td>\n",
       "      <td>...</td>\n",
       "      <td>...</td>\n",
       "      <td>...</td>\n",
       "      <td>...</td>\n",
       "      <td>...</td>\n",
       "      <td>...</td>\n",
       "    </tr>\n",
       "    <tr>\n",
       "      <th>output.STAR.4_H5_Norm_S359_Aligned.sortedByCoord.out.bam</th>\n",
       "      <td>0</td>\n",
       "      <td>0</td>\n",
       "      <td>0</td>\n",
       "      <td>0</td>\n",
       "      <td>0</td>\n",
       "      <td>0</td>\n",
       "      <td>1</td>\n",
       "      <td>0</td>\n",
       "      <td>0</td>\n",
       "      <td>49</td>\n",
       "      <td>...</td>\n",
       "      <td>0</td>\n",
       "      <td>0</td>\n",
       "      <td>1</td>\n",
       "      <td>341</td>\n",
       "      <td>46</td>\n",
       "      <td>1</td>\n",
       "      <td>570</td>\n",
       "      <td>0</td>\n",
       "      <td>0</td>\n",
       "      <td>0</td>\n",
       "    </tr>\n",
       "    <tr>\n",
       "      <th>output.STAR.4_H6_Norm_S360_Aligned.sortedByCoord.out.bam</th>\n",
       "      <td>0</td>\n",
       "      <td>0</td>\n",
       "      <td>1</td>\n",
       "      <td>0</td>\n",
       "      <td>0</td>\n",
       "      <td>2</td>\n",
       "      <td>5</td>\n",
       "      <td>5</td>\n",
       "      <td>0</td>\n",
       "      <td>370</td>\n",
       "      <td>...</td>\n",
       "      <td>0</td>\n",
       "      <td>0</td>\n",
       "      <td>2</td>\n",
       "      <td>1612</td>\n",
       "      <td>215</td>\n",
       "      <td>6</td>\n",
       "      <td>3477</td>\n",
       "      <td>3</td>\n",
       "      <td>7</td>\n",
       "      <td>6</td>\n",
       "    </tr>\n",
       "    <tr>\n",
       "      <th>output.STAR.4_H7_Hypo_S379_Aligned.sortedByCoord.out.bam</th>\n",
       "      <td>1</td>\n",
       "      <td>0</td>\n",
       "      <td>1</td>\n",
       "      <td>0</td>\n",
       "      <td>0</td>\n",
       "      <td>7</td>\n",
       "      <td>0</td>\n",
       "      <td>0</td>\n",
       "      <td>0</td>\n",
       "      <td>33</td>\n",
       "      <td>...</td>\n",
       "      <td>0</td>\n",
       "      <td>0</td>\n",
       "      <td>0</td>\n",
       "      <td>62</td>\n",
       "      <td>20</td>\n",
       "      <td>0</td>\n",
       "      <td>349</td>\n",
       "      <td>0</td>\n",
       "      <td>2</td>\n",
       "      <td>0</td>\n",
       "    </tr>\n",
       "    <tr>\n",
       "      <th>output.STAR.4_H8_Hypo_S380_Aligned.sortedByCoord.out.bam</th>\n",
       "      <td>0</td>\n",
       "      <td>0</td>\n",
       "      <td>4</td>\n",
       "      <td>1</td>\n",
       "      <td>0</td>\n",
       "      <td>29</td>\n",
       "      <td>4</td>\n",
       "      <td>0</td>\n",
       "      <td>0</td>\n",
       "      <td>228</td>\n",
       "      <td>...</td>\n",
       "      <td>3</td>\n",
       "      <td>0</td>\n",
       "      <td>2</td>\n",
       "      <td>1934</td>\n",
       "      <td>575</td>\n",
       "      <td>7</td>\n",
       "      <td>2184</td>\n",
       "      <td>2</td>\n",
       "      <td>28</td>\n",
       "      <td>1</td>\n",
       "    </tr>\n",
       "    <tr>\n",
       "      <th>output.STAR.4_H9_Hypo_S381_Aligned.sortedByCoord.out.bam</th>\n",
       "      <td>1</td>\n",
       "      <td>0</td>\n",
       "      <td>5</td>\n",
       "      <td>0</td>\n",
       "      <td>0</td>\n",
       "      <td>5</td>\n",
       "      <td>3</td>\n",
       "      <td>0</td>\n",
       "      <td>0</td>\n",
       "      <td>71</td>\n",
       "      <td>...</td>\n",
       "      <td>5</td>\n",
       "      <td>2</td>\n",
       "      <td>3</td>\n",
       "      <td>1328</td>\n",
       "      <td>490</td>\n",
       "      <td>4</td>\n",
       "      <td>1149</td>\n",
       "      <td>2</td>\n",
       "      <td>11</td>\n",
       "      <td>4</td>\n",
       "    </tr>\n",
       "  </tbody>\n",
       "</table>\n",
       "<p>313 rows × 18945 columns</p>\n",
       "</div>"
      ],
      "text/plain": [
       "                                                    WASH7P  MIR6859-1  WASH9P  \\\n",
       "output.STAR.1_A10_Hypo_S28_Aligned.sortedByCoor...       0          0       1   \n",
       "output.STAR.1_A12_Hypo_S30_Aligned.sortedByCoor...       0          0       0   \n",
       "output.STAR.1_A2_Norm_S2_Aligned.sortedByCoord....       0          0       0   \n",
       "output.STAR.1_A3_Norm_S3_Aligned.sortedByCoord....       0          0       1   \n",
       "output.STAR.1_A4_Norm_S4_Aligned.sortedByCoord....       0          0      10   \n",
       "...                                                    ...        ...     ...   \n",
       "output.STAR.4_H5_Norm_S359_Aligned.sortedByCoor...       0          0       0   \n",
       "output.STAR.4_H6_Norm_S360_Aligned.sortedByCoor...       0          0       1   \n",
       "output.STAR.4_H7_Hypo_S379_Aligned.sortedByCoor...       1          0       1   \n",
       "output.STAR.4_H8_Hypo_S380_Aligned.sortedByCoor...       0          0       4   \n",
       "output.STAR.4_H9_Hypo_S381_Aligned.sortedByCoor...       1          0       5   \n",
       "\n",
       "                                                    OR4F29  MTND1P23  \\\n",
       "output.STAR.1_A10_Hypo_S28_Aligned.sortedByCoor...       0         0   \n",
       "output.STAR.1_A12_Hypo_S30_Aligned.sortedByCoor...       0         0   \n",
       "output.STAR.1_A2_Norm_S2_Aligned.sortedByCoord....       0         0   \n",
       "output.STAR.1_A3_Norm_S3_Aligned.sortedByCoord....       0         0   \n",
       "output.STAR.1_A4_Norm_S4_Aligned.sortedByCoord....       0         0   \n",
       "...                                                    ...       ...   \n",
       "output.STAR.4_H5_Norm_S359_Aligned.sortedByCoor...       0         0   \n",
       "output.STAR.4_H6_Norm_S360_Aligned.sortedByCoor...       0         0   \n",
       "output.STAR.4_H7_Hypo_S379_Aligned.sortedByCoor...       0         0   \n",
       "output.STAR.4_H8_Hypo_S380_Aligned.sortedByCoor...       1         0   \n",
       "output.STAR.4_H9_Hypo_S381_Aligned.sortedByCoor...       0         0   \n",
       "\n",
       "                                                    MTND2P28  MTCO1P12  \\\n",
       "output.STAR.1_A10_Hypo_S28_Aligned.sortedByCoor...         2         2   \n",
       "output.STAR.1_A12_Hypo_S30_Aligned.sortedByCoor...         1         1   \n",
       "output.STAR.1_A2_Norm_S2_Aligned.sortedByCoord....         0         0   \n",
       "output.STAR.1_A3_Norm_S3_Aligned.sortedByCoord....         1         3   \n",
       "output.STAR.1_A4_Norm_S4_Aligned.sortedByCoord....         3        10   \n",
       "...                                                      ...       ...   \n",
       "output.STAR.4_H5_Norm_S359_Aligned.sortedByCoor...         0         1   \n",
       "output.STAR.4_H6_Norm_S360_Aligned.sortedByCoor...         2         5   \n",
       "output.STAR.4_H7_Hypo_S379_Aligned.sortedByCoor...         7         0   \n",
       "output.STAR.4_H8_Hypo_S380_Aligned.sortedByCoor...        29         4   \n",
       "output.STAR.4_H9_Hypo_S381_Aligned.sortedByCoor...         5         3   \n",
       "\n",
       "                                                    MTCO2P12  MTATP8P1  \\\n",
       "output.STAR.1_A10_Hypo_S28_Aligned.sortedByCoor...         0         0   \n",
       "output.STAR.1_A12_Hypo_S30_Aligned.sortedByCoor...         1         0   \n",
       "output.STAR.1_A2_Norm_S2_Aligned.sortedByCoord....         0         0   \n",
       "output.STAR.1_A3_Norm_S3_Aligned.sortedByCoord....         0         0   \n",
       "output.STAR.1_A4_Norm_S4_Aligned.sortedByCoord....         1         0   \n",
       "...                                                      ...       ...   \n",
       "output.STAR.4_H5_Norm_S359_Aligned.sortedByCoor...         0         0   \n",
       "output.STAR.4_H6_Norm_S360_Aligned.sortedByCoor...         5         0   \n",
       "output.STAR.4_H7_Hypo_S379_Aligned.sortedByCoor...         0         0   \n",
       "output.STAR.4_H8_Hypo_S380_Aligned.sortedByCoor...         0         0   \n",
       "output.STAR.4_H9_Hypo_S381_Aligned.sortedByCoor...         0         0   \n",
       "\n",
       "                                                    MTATP6P1  ...  MT-TH  \\\n",
       "output.STAR.1_A10_Hypo_S28_Aligned.sortedByCoor...        29  ...      0   \n",
       "output.STAR.1_A12_Hypo_S30_Aligned.sortedByCoor...        12  ...      0   \n",
       "output.STAR.1_A2_Norm_S2_Aligned.sortedByCoord....        68  ...      0   \n",
       "output.STAR.1_A3_Norm_S3_Aligned.sortedByCoord....       203  ...      1   \n",
       "output.STAR.1_A4_Norm_S4_Aligned.sortedByCoord....       691  ...      1   \n",
       "...                                                      ...  ...    ...   \n",
       "output.STAR.4_H5_Norm_S359_Aligned.sortedByCoor...        49  ...      0   \n",
       "output.STAR.4_H6_Norm_S360_Aligned.sortedByCoor...       370  ...      0   \n",
       "output.STAR.4_H7_Hypo_S379_Aligned.sortedByCoor...        33  ...      0   \n",
       "output.STAR.4_H8_Hypo_S380_Aligned.sortedByCoor...       228  ...      3   \n",
       "output.STAR.4_H9_Hypo_S381_Aligned.sortedByCoor...        71  ...      5   \n",
       "\n",
       "                                                    MT-TS2  MT-TL2  MT-ND5  \\\n",
       "output.STAR.1_A10_Hypo_S28_Aligned.sortedByCoor...       0       0     505   \n",
       "output.STAR.1_A12_Hypo_S30_Aligned.sortedByCoor...       0       0       1   \n",
       "output.STAR.1_A2_Norm_S2_Aligned.sortedByCoord....       0       0     237   \n",
       "output.STAR.1_A3_Norm_S3_Aligned.sortedByCoord....       0       0     894   \n",
       "output.STAR.1_A4_Norm_S4_Aligned.sortedByCoord....       0       3    1279   \n",
       "...                                                    ...     ...     ...   \n",
       "output.STAR.4_H5_Norm_S359_Aligned.sortedByCoor...       0       1     341   \n",
       "output.STAR.4_H6_Norm_S360_Aligned.sortedByCoor...       0       2    1612   \n",
       "output.STAR.4_H7_Hypo_S379_Aligned.sortedByCoor...       0       0      62   \n",
       "output.STAR.4_H8_Hypo_S380_Aligned.sortedByCoor...       0       2    1934   \n",
       "output.STAR.4_H9_Hypo_S381_Aligned.sortedByCoor...       2       3    1328   \n",
       "\n",
       "                                                    MT-ND6  MT-TE  MT-CYB  \\\n",
       "output.STAR.1_A10_Hypo_S28_Aligned.sortedByCoor...     147      4     270   \n",
       "output.STAR.1_A12_Hypo_S30_Aligned.sortedByCoor...       0      0      76   \n",
       "output.STAR.1_A2_Norm_S2_Aligned.sortedByCoord....      31      3     727   \n",
       "output.STAR.1_A3_Norm_S3_Aligned.sortedByCoord....     113      3    2717   \n",
       "output.STAR.1_A4_Norm_S4_Aligned.sortedByCoord....     131      0    9326   \n",
       "...                                                    ...    ...     ...   \n",
       "output.STAR.4_H5_Norm_S359_Aligned.sortedByCoor...      46      1     570   \n",
       "output.STAR.4_H6_Norm_S360_Aligned.sortedByCoor...     215      6    3477   \n",
       "output.STAR.4_H7_Hypo_S379_Aligned.sortedByCoor...      20      0     349   \n",
       "output.STAR.4_H8_Hypo_S380_Aligned.sortedByCoor...     575      7    2184   \n",
       "output.STAR.4_H9_Hypo_S381_Aligned.sortedByCoor...     490      4    1149   \n",
       "\n",
       "                                                    MT-TT  MT-TP  MAFIP  \n",
       "output.STAR.1_A10_Hypo_S28_Aligned.sortedByCoor...      0      5      8  \n",
       "output.STAR.1_A12_Hypo_S30_Aligned.sortedByCoor...      0      0      0  \n",
       "output.STAR.1_A2_Norm_S2_Aligned.sortedByCoord....      0      0      0  \n",
       "output.STAR.1_A3_Norm_S3_Aligned.sortedByCoord....      1      1      0  \n",
       "output.STAR.1_A4_Norm_S4_Aligned.sortedByCoord....      1      1      0  \n",
       "...                                                   ...    ...    ...  \n",
       "output.STAR.4_H5_Norm_S359_Aligned.sortedByCoor...      0      0      0  \n",
       "output.STAR.4_H6_Norm_S360_Aligned.sortedByCoor...      3      7      6  \n",
       "output.STAR.4_H7_Hypo_S379_Aligned.sortedByCoor...      0      2      0  \n",
       "output.STAR.4_H8_Hypo_S380_Aligned.sortedByCoor...      2     28      1  \n",
       "output.STAR.4_H9_Hypo_S381_Aligned.sortedByCoor...      2     11      4  \n",
       "\n",
       "[313 rows x 18945 columns]"
      ]
     },
     "execution_count": 4,
     "metadata": {},
     "output_type": "execute_result"
    }
   ],
   "source": [
    "mcf7_smartS_filt"
   ]
  },
  {
   "cell_type": "code",
   "execution_count": 5,
   "metadata": {},
   "outputs": [
    {
     "data": {
      "text/html": [
       "<div>\n",
       "<style scoped>\n",
       "    .dataframe tbody tr th:only-of-type {\n",
       "        vertical-align: middle;\n",
       "    }\n",
       "\n",
       "    .dataframe tbody tr th {\n",
       "        vertical-align: top;\n",
       "    }\n",
       "\n",
       "    .dataframe thead th {\n",
       "        text-align: right;\n",
       "    }\n",
       "</style>\n",
       "<table border=\"1\" class=\"dataframe\">\n",
       "  <thead>\n",
       "    <tr style=\"text-align: right;\">\n",
       "      <th></th>\n",
       "      <th>CYP1B1</th>\n",
       "      <th>CYP1B1-AS1</th>\n",
       "      <th>CYP1A1</th>\n",
       "      <th>NDRG1</th>\n",
       "      <th>DDIT4</th>\n",
       "      <th>PFKFB3</th>\n",
       "      <th>HK2</th>\n",
       "      <th>AREG</th>\n",
       "      <th>MYBL2</th>\n",
       "      <th>ADM</th>\n",
       "      <th>...</th>\n",
       "      <th>CD27-AS1</th>\n",
       "      <th>DNAI7</th>\n",
       "      <th>MAFG</th>\n",
       "      <th>LZTR1</th>\n",
       "      <th>BCO2</th>\n",
       "      <th>GRIK5</th>\n",
       "      <th>SLC25A27</th>\n",
       "      <th>DENND5A</th>\n",
       "      <th>CDK5R1</th>\n",
       "      <th>FAM13A-AS1</th>\n",
       "    </tr>\n",
       "  </thead>\n",
       "  <tbody>\n",
       "    <tr>\n",
       "      <th>output.STAR.2_B3_Norm_S57_Aligned.sortedByCoord.out.bam</th>\n",
       "      <td>343</td>\n",
       "      <td>140</td>\n",
       "      <td>0</td>\n",
       "      <td>0</td>\n",
       "      <td>386</td>\n",
       "      <td>75</td>\n",
       "      <td>0</td>\n",
       "      <td>0</td>\n",
       "      <td>476</td>\n",
       "      <td>0</td>\n",
       "      <td>...</td>\n",
       "      <td>63</td>\n",
       "      <td>0</td>\n",
       "      <td>17</td>\n",
       "      <td>59</td>\n",
       "      <td>0</td>\n",
       "      <td>0</td>\n",
       "      <td>0</td>\n",
       "      <td>51</td>\n",
       "      <td>0</td>\n",
       "      <td>0</td>\n",
       "    </tr>\n",
       "    <tr>\n",
       "      <th>output.STAR.2_B4_Norm_S58_Aligned.sortedByCoord.out.bam</th>\n",
       "      <td>131</td>\n",
       "      <td>59</td>\n",
       "      <td>0</td>\n",
       "      <td>1</td>\n",
       "      <td>289</td>\n",
       "      <td>42</td>\n",
       "      <td>0</td>\n",
       "      <td>856</td>\n",
       "      <td>1586</td>\n",
       "      <td>0</td>\n",
       "      <td>...</td>\n",
       "      <td>0</td>\n",
       "      <td>0</td>\n",
       "      <td>1</td>\n",
       "      <td>25</td>\n",
       "      <td>0</td>\n",
       "      <td>0</td>\n",
       "      <td>0</td>\n",
       "      <td>34</td>\n",
       "      <td>0</td>\n",
       "      <td>0</td>\n",
       "    </tr>\n",
       "    <tr>\n",
       "      <th>output.STAR.2_B5_Norm_S59_Aligned.sortedByCoord.out.bam</th>\n",
       "      <td>452</td>\n",
       "      <td>203</td>\n",
       "      <td>0</td>\n",
       "      <td>0</td>\n",
       "      <td>0</td>\n",
       "      <td>0</td>\n",
       "      <td>0</td>\n",
       "      <td>0</td>\n",
       "      <td>775</td>\n",
       "      <td>0</td>\n",
       "      <td>...</td>\n",
       "      <td>15</td>\n",
       "      <td>0</td>\n",
       "      <td>23</td>\n",
       "      <td>0</td>\n",
       "      <td>0</td>\n",
       "      <td>0</td>\n",
       "      <td>0</td>\n",
       "      <td>0</td>\n",
       "      <td>0</td>\n",
       "      <td>0</td>\n",
       "    </tr>\n",
       "    <tr>\n",
       "      <th>output.STAR.2_B6_Norm_S60_Aligned.sortedByCoord.out.bam</th>\n",
       "      <td>27</td>\n",
       "      <td>7</td>\n",
       "      <td>0</td>\n",
       "      <td>0</td>\n",
       "      <td>288</td>\n",
       "      <td>214</td>\n",
       "      <td>15</td>\n",
       "      <td>242</td>\n",
       "      <td>1191</td>\n",
       "      <td>0</td>\n",
       "      <td>...</td>\n",
       "      <td>1</td>\n",
       "      <td>0</td>\n",
       "      <td>3</td>\n",
       "      <td>10</td>\n",
       "      <td>0</td>\n",
       "      <td>0</td>\n",
       "      <td>0</td>\n",
       "      <td>4</td>\n",
       "      <td>0</td>\n",
       "      <td>0</td>\n",
       "    </tr>\n",
       "    <tr>\n",
       "      <th>output.STAR.2_B7_Hypo_S79_Aligned.sortedByCoord.out.bam</th>\n",
       "      <td>5817</td>\n",
       "      <td>2669</td>\n",
       "      <td>0</td>\n",
       "      <td>654</td>\n",
       "      <td>2484</td>\n",
       "      <td>1603</td>\n",
       "      <td>748</td>\n",
       "      <td>436</td>\n",
       "      <td>0</td>\n",
       "      <td>0</td>\n",
       "      <td>...</td>\n",
       "      <td>0</td>\n",
       "      <td>0</td>\n",
       "      <td>63</td>\n",
       "      <td>0</td>\n",
       "      <td>0</td>\n",
       "      <td>0</td>\n",
       "      <td>0</td>\n",
       "      <td>60</td>\n",
       "      <td>0</td>\n",
       "      <td>0</td>\n",
       "    </tr>\n",
       "    <tr>\n",
       "      <th>...</th>\n",
       "      <td>...</td>\n",
       "      <td>...</td>\n",
       "      <td>...</td>\n",
       "      <td>...</td>\n",
       "      <td>...</td>\n",
       "      <td>...</td>\n",
       "      <td>...</td>\n",
       "      <td>...</td>\n",
       "      <td>...</td>\n",
       "      <td>...</td>\n",
       "      <td>...</td>\n",
       "      <td>...</td>\n",
       "      <td>...</td>\n",
       "      <td>...</td>\n",
       "      <td>...</td>\n",
       "      <td>...</td>\n",
       "      <td>...</td>\n",
       "      <td>...</td>\n",
       "      <td>...</td>\n",
       "      <td>...</td>\n",
       "      <td>...</td>\n",
       "    </tr>\n",
       "    <tr>\n",
       "      <th>output.STAR.4_H5_Norm_S359_Aligned.sortedByCoord.out.bam</th>\n",
       "      <td>196</td>\n",
       "      <td>102</td>\n",
       "      <td>1</td>\n",
       "      <td>243</td>\n",
       "      <td>266</td>\n",
       "      <td>278</td>\n",
       "      <td>78</td>\n",
       "      <td>1</td>\n",
       "      <td>199</td>\n",
       "      <td>0</td>\n",
       "      <td>...</td>\n",
       "      <td>79</td>\n",
       "      <td>0</td>\n",
       "      <td>1</td>\n",
       "      <td>0</td>\n",
       "      <td>0</td>\n",
       "      <td>0</td>\n",
       "      <td>0</td>\n",
       "      <td>45</td>\n",
       "      <td>19</td>\n",
       "      <td>0</td>\n",
       "    </tr>\n",
       "    <tr>\n",
       "      <th>output.STAR.4_H6_Norm_S360_Aligned.sortedByCoord.out.bam</th>\n",
       "      <td>504</td>\n",
       "      <td>238</td>\n",
       "      <td>0</td>\n",
       "      <td>62</td>\n",
       "      <td>417</td>\n",
       "      <td>932</td>\n",
       "      <td>275</td>\n",
       "      <td>0</td>\n",
       "      <td>33</td>\n",
       "      <td>0</td>\n",
       "      <td>...</td>\n",
       "      <td>86</td>\n",
       "      <td>0</td>\n",
       "      <td>0</td>\n",
       "      <td>0</td>\n",
       "      <td>0</td>\n",
       "      <td>0</td>\n",
       "      <td>0</td>\n",
       "      <td>0</td>\n",
       "      <td>0</td>\n",
       "      <td>0</td>\n",
       "    </tr>\n",
       "    <tr>\n",
       "      <th>output.STAR.4_H7_Hypo_S379_Aligned.sortedByCoord.out.bam</th>\n",
       "      <td>34565</td>\n",
       "      <td>13717</td>\n",
       "      <td>11274</td>\n",
       "      <td>1263</td>\n",
       "      <td>4256</td>\n",
       "      <td>5663</td>\n",
       "      <td>701</td>\n",
       "      <td>0</td>\n",
       "      <td>0</td>\n",
       "      <td>0</td>\n",
       "      <td>...</td>\n",
       "      <td>0</td>\n",
       "      <td>0</td>\n",
       "      <td>45</td>\n",
       "      <td>0</td>\n",
       "      <td>0</td>\n",
       "      <td>0</td>\n",
       "      <td>0</td>\n",
       "      <td>140</td>\n",
       "      <td>0</td>\n",
       "      <td>32</td>\n",
       "    </tr>\n",
       "    <tr>\n",
       "      <th>output.STAR.4_H8_Hypo_S380_Aligned.sortedByCoord.out.bam</th>\n",
       "      <td>20024</td>\n",
       "      <td>7835</td>\n",
       "      <td>563</td>\n",
       "      <td>925</td>\n",
       "      <td>12733</td>\n",
       "      <td>2187</td>\n",
       "      <td>1141</td>\n",
       "      <td>0</td>\n",
       "      <td>20</td>\n",
       "      <td>81</td>\n",
       "      <td>...</td>\n",
       "      <td>0</td>\n",
       "      <td>0</td>\n",
       "      <td>57</td>\n",
       "      <td>8</td>\n",
       "      <td>0</td>\n",
       "      <td>0</td>\n",
       "      <td>0</td>\n",
       "      <td>7</td>\n",
       "      <td>0</td>\n",
       "      <td>11</td>\n",
       "    </tr>\n",
       "    <tr>\n",
       "      <th>output.STAR.4_H9_Hypo_S381_Aligned.sortedByCoord.out.bam</th>\n",
       "      <td>5953</td>\n",
       "      <td>2367</td>\n",
       "      <td>522</td>\n",
       "      <td>1572</td>\n",
       "      <td>2275</td>\n",
       "      <td>3269</td>\n",
       "      <td>2247</td>\n",
       "      <td>169</td>\n",
       "      <td>2</td>\n",
       "      <td>0</td>\n",
       "      <td>...</td>\n",
       "      <td>0</td>\n",
       "      <td>0</td>\n",
       "      <td>165</td>\n",
       "      <td>0</td>\n",
       "      <td>0</td>\n",
       "      <td>0</td>\n",
       "      <td>0</td>\n",
       "      <td>37</td>\n",
       "      <td>0</td>\n",
       "      <td>12</td>\n",
       "    </tr>\n",
       "  </tbody>\n",
       "</table>\n",
       "<p>250 rows × 3000 columns</p>\n",
       "</div>"
      ],
      "text/plain": [
       "                                                    CYP1B1  CYP1B1-AS1  \\\n",
       "output.STAR.2_B3_Norm_S57_Aligned.sortedByCoord...     343         140   \n",
       "output.STAR.2_B4_Norm_S58_Aligned.sortedByCoord...     131          59   \n",
       "output.STAR.2_B5_Norm_S59_Aligned.sortedByCoord...     452         203   \n",
       "output.STAR.2_B6_Norm_S60_Aligned.sortedByCoord...      27           7   \n",
       "output.STAR.2_B7_Hypo_S79_Aligned.sortedByCoord...    5817        2669   \n",
       "...                                                    ...         ...   \n",
       "output.STAR.4_H5_Norm_S359_Aligned.sortedByCoor...     196         102   \n",
       "output.STAR.4_H6_Norm_S360_Aligned.sortedByCoor...     504         238   \n",
       "output.STAR.4_H7_Hypo_S379_Aligned.sortedByCoor...   34565       13717   \n",
       "output.STAR.4_H8_Hypo_S380_Aligned.sortedByCoor...   20024        7835   \n",
       "output.STAR.4_H9_Hypo_S381_Aligned.sortedByCoor...    5953        2367   \n",
       "\n",
       "                                                    CYP1A1  NDRG1  DDIT4  \\\n",
       "output.STAR.2_B3_Norm_S57_Aligned.sortedByCoord...       0      0    386   \n",
       "output.STAR.2_B4_Norm_S58_Aligned.sortedByCoord...       0      1    289   \n",
       "output.STAR.2_B5_Norm_S59_Aligned.sortedByCoord...       0      0      0   \n",
       "output.STAR.2_B6_Norm_S60_Aligned.sortedByCoord...       0      0    288   \n",
       "output.STAR.2_B7_Hypo_S79_Aligned.sortedByCoord...       0    654   2484   \n",
       "...                                                    ...    ...    ...   \n",
       "output.STAR.4_H5_Norm_S359_Aligned.sortedByCoor...       1    243    266   \n",
       "output.STAR.4_H6_Norm_S360_Aligned.sortedByCoor...       0     62    417   \n",
       "output.STAR.4_H7_Hypo_S379_Aligned.sortedByCoor...   11274   1263   4256   \n",
       "output.STAR.4_H8_Hypo_S380_Aligned.sortedByCoor...     563    925  12733   \n",
       "output.STAR.4_H9_Hypo_S381_Aligned.sortedByCoor...     522   1572   2275   \n",
       "\n",
       "                                                    PFKFB3   HK2  AREG  MYBL2  \\\n",
       "output.STAR.2_B3_Norm_S57_Aligned.sortedByCoord...      75     0     0    476   \n",
       "output.STAR.2_B4_Norm_S58_Aligned.sortedByCoord...      42     0   856   1586   \n",
       "output.STAR.2_B5_Norm_S59_Aligned.sortedByCoord...       0     0     0    775   \n",
       "output.STAR.2_B6_Norm_S60_Aligned.sortedByCoord...     214    15   242   1191   \n",
       "output.STAR.2_B7_Hypo_S79_Aligned.sortedByCoord...    1603   748   436      0   \n",
       "...                                                    ...   ...   ...    ...   \n",
       "output.STAR.4_H5_Norm_S359_Aligned.sortedByCoor...     278    78     1    199   \n",
       "output.STAR.4_H6_Norm_S360_Aligned.sortedByCoor...     932   275     0     33   \n",
       "output.STAR.4_H7_Hypo_S379_Aligned.sortedByCoor...    5663   701     0      0   \n",
       "output.STAR.4_H8_Hypo_S380_Aligned.sortedByCoor...    2187  1141     0     20   \n",
       "output.STAR.4_H9_Hypo_S381_Aligned.sortedByCoor...    3269  2247   169      2   \n",
       "\n",
       "                                                    ADM  ...  CD27-AS1  DNAI7  \\\n",
       "output.STAR.2_B3_Norm_S57_Aligned.sortedByCoord...    0  ...        63      0   \n",
       "output.STAR.2_B4_Norm_S58_Aligned.sortedByCoord...    0  ...         0      0   \n",
       "output.STAR.2_B5_Norm_S59_Aligned.sortedByCoord...    0  ...        15      0   \n",
       "output.STAR.2_B6_Norm_S60_Aligned.sortedByCoord...    0  ...         1      0   \n",
       "output.STAR.2_B7_Hypo_S79_Aligned.sortedByCoord...    0  ...         0      0   \n",
       "...                                                 ...  ...       ...    ...   \n",
       "output.STAR.4_H5_Norm_S359_Aligned.sortedByCoor...    0  ...        79      0   \n",
       "output.STAR.4_H6_Norm_S360_Aligned.sortedByCoor...    0  ...        86      0   \n",
       "output.STAR.4_H7_Hypo_S379_Aligned.sortedByCoor...    0  ...         0      0   \n",
       "output.STAR.4_H8_Hypo_S380_Aligned.sortedByCoor...   81  ...         0      0   \n",
       "output.STAR.4_H9_Hypo_S381_Aligned.sortedByCoor...    0  ...         0      0   \n",
       "\n",
       "                                                    MAFG  LZTR1  BCO2  GRIK5  \\\n",
       "output.STAR.2_B3_Norm_S57_Aligned.sortedByCoord...    17     59     0      0   \n",
       "output.STAR.2_B4_Norm_S58_Aligned.sortedByCoord...     1     25     0      0   \n",
       "output.STAR.2_B5_Norm_S59_Aligned.sortedByCoord...    23      0     0      0   \n",
       "output.STAR.2_B6_Norm_S60_Aligned.sortedByCoord...     3     10     0      0   \n",
       "output.STAR.2_B7_Hypo_S79_Aligned.sortedByCoord...    63      0     0      0   \n",
       "...                                                  ...    ...   ...    ...   \n",
       "output.STAR.4_H5_Norm_S359_Aligned.sortedByCoor...     1      0     0      0   \n",
       "output.STAR.4_H6_Norm_S360_Aligned.sortedByCoor...     0      0     0      0   \n",
       "output.STAR.4_H7_Hypo_S379_Aligned.sortedByCoor...    45      0     0      0   \n",
       "output.STAR.4_H8_Hypo_S380_Aligned.sortedByCoor...    57      8     0      0   \n",
       "output.STAR.4_H9_Hypo_S381_Aligned.sortedByCoor...   165      0     0      0   \n",
       "\n",
       "                                                    SLC25A27  DENND5A  CDK5R1  \\\n",
       "output.STAR.2_B3_Norm_S57_Aligned.sortedByCoord...         0       51       0   \n",
       "output.STAR.2_B4_Norm_S58_Aligned.sortedByCoord...         0       34       0   \n",
       "output.STAR.2_B5_Norm_S59_Aligned.sortedByCoord...         0        0       0   \n",
       "output.STAR.2_B6_Norm_S60_Aligned.sortedByCoord...         0        4       0   \n",
       "output.STAR.2_B7_Hypo_S79_Aligned.sortedByCoord...         0       60       0   \n",
       "...                                                      ...      ...     ...   \n",
       "output.STAR.4_H5_Norm_S359_Aligned.sortedByCoor...         0       45      19   \n",
       "output.STAR.4_H6_Norm_S360_Aligned.sortedByCoor...         0        0       0   \n",
       "output.STAR.4_H7_Hypo_S379_Aligned.sortedByCoor...         0      140       0   \n",
       "output.STAR.4_H8_Hypo_S380_Aligned.sortedByCoor...         0        7       0   \n",
       "output.STAR.4_H9_Hypo_S381_Aligned.sortedByCoor...         0       37       0   \n",
       "\n",
       "                                                    FAM13A-AS1  \n",
       "output.STAR.2_B3_Norm_S57_Aligned.sortedByCoord...           0  \n",
       "output.STAR.2_B4_Norm_S58_Aligned.sortedByCoord...           0  \n",
       "output.STAR.2_B5_Norm_S59_Aligned.sortedByCoord...           0  \n",
       "output.STAR.2_B6_Norm_S60_Aligned.sortedByCoord...           0  \n",
       "output.STAR.2_B7_Hypo_S79_Aligned.sortedByCoord...           0  \n",
       "...                                                        ...  \n",
       "output.STAR.4_H5_Norm_S359_Aligned.sortedByCoor...           0  \n",
       "output.STAR.4_H6_Norm_S360_Aligned.sortedByCoor...           0  \n",
       "output.STAR.4_H7_Hypo_S379_Aligned.sortedByCoor...          32  \n",
       "output.STAR.4_H8_Hypo_S380_Aligned.sortedByCoor...          11  \n",
       "output.STAR.4_H9_Hypo_S381_Aligned.sortedByCoor...          12  \n",
       "\n",
       "[250 rows x 3000 columns]"
      ]
     },
     "execution_count": 5,
     "metadata": {},
     "output_type": "execute_result"
    }
   ],
   "source": [
    "mcf7_smartS_filn"
   ]
  },
  {
   "cell_type": "markdown",
   "metadata": {},
   "source": [
    "We first check that the filtered dataset is a subset of the raw dataset, we do this by checking that the shape of the filtered dataset and the intersection between the latter and the raw one coincide."
   ]
  },
  {
   "cell_type": "code",
   "execution_count": 6,
   "metadata": {},
   "outputs": [
    {
     "name": "stdout",
     "output_type": "stream",
     "text": [
      "True\n"
     ]
    }
   ],
   "source": [
    "\n",
    "# Find the intersection of rows and columns\n",
    "common_rows = mcf7_smartS_raw.index.intersection(mcf7_smartS_filt.index)\n",
    "common_columns = mcf7_smartS_raw.columns.intersection(mcf7_smartS_filt.columns)\n",
    "\n",
    "# Create a new DataFrame based on the intersection of rows and columns\n",
    "df_inters = mcf7_smartS_raw.loc[common_rows, common_columns]\n",
    "\n",
    "# Compare the shapes\n",
    "print(df_inters.shape == mcf7_smartS_filt.shape)\n"
   ]
  },
  {
   "cell_type": "markdown",
   "metadata": {},
   "source": [
    "It is indeed true. Now we check if there are rows or columns with missing values in the raw dataset. We see that there are not. The same holds for rows or columns with just zeros."
   ]
  },
  {
   "cell_type": "code",
   "execution_count": 7,
   "metadata": {},
   "outputs": [
    {
     "name": "stdout",
     "output_type": "stream",
     "text": [
      "Shape of df_: (383, 22934)\n"
     ]
    }
   ],
   "source": [
    "# Drop rows with any missing values\n",
    "df_ = mcf7_smartS_raw.dropna(axis=0, how='any')\n",
    "\n",
    "# Drop columns with any missing values\n",
    "df_ = df_.dropna(axis=1, how='any')\n",
    "\n",
    "\n",
    "# Display the resulting dataset\n",
    "print(\"Shape of df_:\", df_.shape)\n",
    "\n",
    "\n"
   ]
  },
  {
   "cell_type": "code",
   "execution_count": 8,
   "metadata": {},
   "outputs": [
    {
     "name": "stdout",
     "output_type": "stream",
     "text": [
      "Shape of df_nonzero: (383, 22934)\n"
     ]
    }
   ],
   "source": [
    "# Drop columns that are all zeros\n",
    "df_nonzero = mcf7_smartS_raw.loc[:, (mcf7_smartS_raw != 0).any(axis=0)]\n",
    "\n",
    "# Drop rows that are all zeros\n",
    "df_nonzero= df_nonzero.loc[(df_nonzero != 0).any(axis=1), :]\n",
    "\n",
    "\n",
    "# Display the resulting dataset\n",
    "print(\"Shape of df_nonzero:\", df_nonzero.shape)\n",
    "\n",
    "\n"
   ]
  },
  {
   "cell_type": "markdown",
   "metadata": {},
   "source": [
    "Now we take a look at the removed rows and removed columns."
   ]
  },
  {
   "cell_type": "code",
   "execution_count": 9,
   "metadata": {},
   "outputs": [
    {
     "name": "stdout",
     "output_type": "stream",
     "text": [
      "Rows Removed: 70\n",
      "Columns Removed: 3989\n",
      "\n",
      "Columns Removed:\n",
      "['A1CF', 'A2M', 'A2ML1', 'A2MP1', 'AANAT', 'ABCA13', 'ABCA4', 'ABCA8', 'ABCB11', 'ABCC13', 'ABCC5-AS1', 'ABCC9', 'ABCG4', 'ABHD12B', 'ABHD17AP4', 'ABHD17AP5', 'ABITRAMP1', 'ABO', 'ABRA', 'ABT1P1', 'ACAN', 'ACAP2-IT1', 'ACER1', 'ACER2P1', 'ACKR4P1', 'ACOXL-AS1', 'ACP4', 'ACSL5', 'ACSM4', 'ACTBL2', 'ACTL6B', 'ACTN2', 'ACTN3', 'ACTP1', 'ACTR3-AS1', 'ADAM21', 'ADAM21P1', 'ADAM29', 'ADAMTS10', 'ADAMTS14', 'ADAMTS15', 'ADAMTS2', 'ADAMTS20', 'ADAMTS3', 'ADAMTS4', 'ADAMTS5', 'ADAMTS6', 'ADAMTS7P1', 'ADARB2', 'ADCY10', 'ADCY2', 'ADCY4', 'ADGRA1', 'ADGRA1-AS1', 'ADGRD2', 'ADGRE1', 'ADGRE3', 'ADGRF5P1', 'ADGRG3', 'ADH4', 'ADH5P2', 'ADH6', 'ADIPOQ', 'ADIPOQ-AS1', 'ADM-DT', 'ADORA3', 'ADRA1B', 'ADRA1D', 'ADTRP', 'AFAP1L1', 'AFF2', 'AGBL1', 'AGBL4-AS1', 'AGBL5-AS1', 'AGGF1P1', 'AGK-DT', 'AGPAT4', 'AGRP', 'AGT', 'AGXT', 'AHCYP2', 'AHCYP4', 'AHCYP7', 'AHSG', 'AIFM3', 'AJAP1', 'AK4P6', 'AKAP14', 'AKIRIN1P2', 'AKIRIN2P1', 'AKR1B1', 'AKR1C4', 'AKR7A2P2', 'ALAS2', 'ALDOB', 'ALG1L10P', 'ALG1L3P', 'ALG3P1', 'ALK', 'ALMS1P1', 'ALOX15B', 'ALOX15P1', 'ALOX15P2', 'ALPK2', 'ALPL', 'AMD1P1', 'AMDHD1', 'AMHR2', 'AMMECR1LP1', 'AMPH', 'ANAPC10P1', 'ANAPC15P1', 'ANGPT1', 'ANGPT4', 'ANGPTL1', 'ANGPTL2', 'ANGPTL7', 'ANKFN1', 'ANKK1', 'ANKLE1', 'ANKRD11P1', 'ANKRD20A18P', 'ANKRD20A19P', 'ANKRD20A9P', 'ANKRD30A', 'ANKRD30BL', 'ANKRD30BP1', 'ANKRD30BP3', 'ANKRD33B', 'ANKRD36BP2', 'ANKRD44-AS1', 'ANKRD44-IT1', 'ANKRD45', 'ANKRD49P2', 'ANKRD55', 'ANKRD62', 'ANKRD62P1-PARP4P3', 'ANKRD63', 'ANKRD7', 'ANTXR2', 'ANXA8L1', 'AOC1', 'AOC3', 'APBB1', 'APLN', 'APOA1', 'APOA1-AS', 'APOB', 'APOBEC3G', 'APOC1P1', 'APOL3', 'APOL6', 'APOOP2', 'APP-DT', 'AQP1', 'AQP12B', 'AQP4-AS1', 'AQP7', 'AQP8', 'ARAP3', 'ARF1P1', 'ARF1P3', 'ARF4P2', 'ARG1', 'ARGFXP2', 'ARHGAP23', 'ARHGAP26-IT1', 'ARHGAP42P2', 'ARHGAP44-AS1', 'ARHGEF15', 'ARHGEF18-AS1', 'ARHGEF2-AS2', 'ARHGEF25', 'ARHGEF33', 'ARHGEF38-IT1', 'ARL4AP1', 'ARL5AP5', 'ARL9', 'ARMC12', 'ARMC8P1', 'ARNILA', 'ARPC3P2', 'ARPC3P4', 'ARPP19P1', 'ARPP21', 'ARSF', 'ARSL', 'ART4', 'ART5', 'ASAP1-IT2', 'ASB2', 'ASB5', 'ASB9P1', 'ASGR1', 'ASGR2', 'ASPA', 'ASS1P2', 'ASS1P8', 'ASTN1', 'ASTN2-AS1', 'ATP10B', 'ATP11A-AS1', 'ATP13A5', 'ATP1B2', 'ATP1B3-AS1', 'ATP2B2', 'ATP4B', 'ATP5F1AP1', 'ATP5F1AP4', 'ATP5MC1P7', 'ATP5MC1P8', 'ATP5MC2P2', 'ATP5MFP4', 'ATP5MGP3', 'ATP5MGP4', 'ATP5PBP2', 'ATP5PBP7', 'ATP5PDP1', 'ATP5POP1', 'ATP6V0CP4', 'ATP6V0E1P2', 'ATP6V0E1P3', 'ATP6V1B1-AS1', 'ATP8A1-DT', 'ATP8A2P2', 'AURKC', 'AZU1', 'B3GALNT1P1', 'B3GALT1', 'B3GALT1-AS1', 'B3GALT2', 'BAALC-AS2', 'BACH1-AS1', 'BACH1-IT1', 'BACH1-IT2', 'BAIAP2L2', 'BANF1P4', 'BANK1', 'BATF2', 'BATF3', 'BCAP31P1', 'BCAR4', 'BCAS2P1', 'BCAT1', 'BCL2A1', 'BCL2L12P1', 'BCL6B', 'BCRP2', 'BCRP3', 'BCRP8', 'BDH2P1', 'BDKRB1', 'BEAN1', 'BEND7P1', 'BIRC7', 'BLACAT1', 'BLZF2P', 'BMP2KL', 'BMS1P14', 'BMS1P15', 'BMS1P3', 'BNC1', 'BNC2-AS1', 'BNIP3P10', 'BNIP3P26', 'BNIP3P27', 'BNIP3P37', 'BOLA3P3', 'BOLA3P4', 'BPIFA2', 'BPIFA4P', 'BRAFP1', 'BRD7P3', 'BRD7P4', 'BRD7P5', 'BRDT', 'BRINP1', 'BRINP3', 'BRK1P1', 'BSNDP2', 'BST1', 'BTBD10P1', 'BTBD10P2', 'BTBD19', 'BTBD6P1', 'BTF3L4P1', 'BTF3P4', 'BTF3P6', 'BTF3P7', 'BTF3P9', 'BTK', 'BTN3A1', 'BTN3A2', 'BUD31P2', 'C10orf90', 'C11orf21', 'C11orf42', 'C11orf94', 'C11orf98P1', 'C12orf56', 'C16orf54', 'C16orf86', 'C16orf96', 'C17orf50', 'C18orf15', 'C19orf18', 'C1QTNF2', 'C1QTNF4', 'C1QTNF9', 'C1orf158', 'C1orf162', 'C1orf94', 'C2-AS1', 'C20orf202', 'C21orf62', 'C21orf91-OT1', 'C22orf31', 'C2CD6', 'C2orf78', 'C2orf88', 'C3orf35', 'C3orf86', 'C4B', 'C4orf45', 'C5orf46', 'C5orf47', 'C5orf60', 'C5orf64', 'C6orf118', 'C6orf15', 'C6orf58', 'C7orf57', 'C8orf34', 'C8orf34-AS1', 'C8orf74', 'C9orf153', 'C9orf57', 'CA15P1', 'CA5A', 'CABP1', 'CABP4', 'CACNA1A', 'CACNA1C-AS2', 'CACNA1S', 'CACYBPP1', 'CALCA', 'CALCB', 'CALD1', 'CALHM4', 'CALM1P2', 'CALM2P1', 'CALM2P4', 'CALML3', 'CALML6', 'CALN1', 'CALR3', 'CAMK1G', 'CAMK4', 'CAMTA1-AS1', 'CAND2', 'CAPN11', 'CAPN14', 'CAPN3', 'CAPNS2', 'CAPZA1P3', 'CARMN', 'CASC18', 'CASQ1', 'CASQ2', 'CAV3', 'CAVIN3', 'CBX1P2', 'CBX3P1', 'CBX3P3', 'CBX3P4', 'CBX3P5', 'CCBE1', 'CCDC116', 'CCDC13-AS1', 'CCDC17', 'CCDC185', 'CCDC190', 'CCDC194', 'CCDC3', 'CCDC39-AS1', 'CCDC60', 'CCDC92B', 'CCL16', 'CCL17', 'CCL3', 'CCL4L2', 'CCL5', 'CCN3', 'CCN6', 'CCNB2P1', 'CCNB3', 'CCND2', 'CCND2-AS1', 'CCND3P1', 'CCNJP2', 'CCNQP3', 'CCNYL4', 'CCNYL7', 'CCR2', 'CCR4', 'CCR5AS', 'CCR8', 'CD177', 'CD180', 'CD274', 'CD300C', 'CD34', 'CD3E', 'CD5', 'CD6', 'CD70', 'CD84', 'CD96', 'CDC37P1', 'CDC42-IT1', 'CDC42P5', 'CDCA4P4', 'CDCP1', 'CDH17', 'CDH2', 'CDH20', 'CDH22', 'CDH23', 'CDH5', 'CDH6', 'CDH7', 'CDHR1', 'CDHR4', 'CDHR5', 'CDK15', 'CDK5P1', 'CDKL4', 'CDKN2AIPNLP1', 'CDR2-DT', 'CEACAM16', 'CEACAM21', 'CEACAM3', 'CEACAM7', 'CEACAMP10', 'CEACAMP11', 'CEACAMP5', 'CEBPE', 'CECR7', 'CELA2A', 'CELA2B', 'CELF3', 'CELF4', 'CELP', 'CENPCP1', 'CEP57L1P1', 'CEP72-DT', 'CERNA3', 'CES3', 'CES5AP1', 'CETN4P', 'CFAP299', 'CFAP47', 'CFAP58', 'CFHR5', 'CFL1P3', 'CFL1P7', 'CFP', 'CGB3', 'CH25H', 'CHCHD2P5', 'CHCHD2P8', 'CHCHD3P1', 'CHCHD4P4', 'CHGA', 'CHI3L1', 'CHI3L2', 'CHMP4BP1', 'CHORDC1P4', 'CHP1P3', 'CHRFAM7A', 'CHRNA4', 'CHRNG', 'CHST4', 'CHST5', 'CHST6', 'CHST9', 'CHSY3', 'CIB4', 'CICP13', 'CICP23', 'CICP3', 'CICP4', 'CICP9', 'CIDEC', 'CIR1P1', 'CIR1P2', 'CKS1BP6', 'CKS1BP7', 'CLCA3P', 'CLCA4-AS1', 'CLCN1', 'CLCN3P1', 'CLDN11', 'CLDN16', 'CLDN20', 'CLDN25', 'CLEC18B', 'CLEC18C', 'CLEC1A', 'CLEC2A', 'CLIC4P3', 'CLIC5', 'CLLU1', 'CLNS1AP1', 'CLPS', 'CLRN1-AS1', 'CLUHP6', 'CMA1', 'CMTM2', 'CNEP1R1P1', 'CNGB1', 'CNIH3-AS1', 'CNN2P1', 'CNN2P12', 'CNN3', 'CNOT6LP1', 'CNPY1', 'CNTF', 'CNTN2', 'CNTN4', 'CNTNAP3B', 'CNTNAP3P1', 'CNTNAP5', 'COL18A1-AS2', 'COL20A1', 'COL26A1', 'COL2A1', 'COL4A2-AS1', 'COL6A6', 'COL8A1', 'COLCA1', 'COLCA2', 'COLGALT2', 'COMETT', 'COMMD4P1', 'COMP', 'COP1P1', 'COPS5P2', 'COQ10BP2', 'CORIN', 'COX20P2', 'COX4I1P1', 'COX4I2', 'COX5BP3', 'COX5BP6', 'COX6B1P4', 'COX6B2', 'COX6CP2', 'COX7A2P1', 'COX7BP2', 'CPA1', 'CPA3', 'CPA5', 'CPB2', 'CPB2-AS1', 'CPED1', 'CPLX3', 'CPN1', 'CPNE6', 'CPP', 'CPSF1P1', 'CRCT1', 'CREB3L2-AS1', 'CRHR1', 'CRHR2', 'CRISP1', 'CRMP1', 'CROCC2', 'CROCCP4', 'CRP', 'CRPPA-AS1', 'CRYAB', 'CRYBA2', 'CRYBB2', 'CSF2RA', 'CSF3R', 'CSGALNACT2P1', 'CSMD1', 'CSMD2', 'CSNK1A1L', 'CSNK1A1P1', 'CSP2', 'CST11', 'CST9L', 'CSTL1', 'CT45A11P', 'CTAGE11P', 'CTAGE13P', 'CTAGE3P', 'CTAGE6', 'CTBP2P3', 'CTBP2P6', 'CTDSPL2P1', 'CTRB2', 'CTSE', 'CTSLP2', 'CTSLP3', 'CTSS', 'CTSW', 'CTXN2-AS1', 'CTXND1', 'CUBNP2', 'CUX2', 'CX3CL1', 'CX3CR1', 'CXCL14', 'CXCL8', 'CYB5R2', 'CYBB', 'CYCSP24', 'CYCSP38', 'CYCSP45', 'CYCSP52', 'CYCSP55', 'CYP11A1', 'CYP17A1', 'CYP1A2', 'CYP21A2', 'CYP27A1', 'CYP2B6', 'CYP2D6', 'CYP2D8P', 'CYP2F1', 'CYP2G2P', 'CYP2T3P', 'CYP4A22', 'CYP4F2', 'CYP4F26P', 'CYP4F3', 'CYP4F35P', 'CYP4X1', 'CYP4Z1', 'CYP51A1P3', 'CYTH4', 'DAAM2-AS1', 'DACT2', 'DAND5', 'DAOA-AS1', 'DAPL1', 'DBH', 'DBH-AS1', 'DBIL5P2', 'DCAF12L2', 'DCDC1', 'DCHS1', 'DCHS1-AS1', 'DCX', 'DDC', 'DDC-AS1', 'DDR1-DT', 'DDX10P1', 'DDX10P2', 'DDX11L8', 'DDX11L9', 'DDX18P3', 'DDX3ILA1', 'DDX3P3', 'DDX3Y', 'DDX4', 'DDX55P1', 'DDX6P1', 'DEFB1', 'DEFB126', 'DENND6A-DT', 'DEPDC1P1', 'DEPDC7', 'DES', 'DGAT2L7P', 'DGKK', 'DHDDS-AS1', 'DHH', 'DHRS9', 'DHRSX-IT1', 'DHX58', 'DIO2', 'DIRAS3', 'DIRC3-AS1', 'DISC1-IT1', 'DKK3', 'DLGAP1', 'DLGAP2', 'DLK1', 'DLL3', 'DNAH12', 'DNAH17-AS1', 'DNAH8', 'DNAH9', 'DNAI1', 'DNAJA4-DT', 'DNAJB5-DT', 'DNAJB6P3', 'DNAJC19P5', 'DNAJC8P1', 'DOC2B', 'DOK5', 'DPEP2', 'DPP3P1', 'DPP3P2', 'DPP6', 'DPPA4', 'DPRXP4', 'DPY19L2P4', 'DPY19L4P2', 'DPYSL3', 'DRC1', 'DRD2', 'DSCAS', 'DSG4', 'DSPP', 'DUSP5P1', 'DUSP5P2', 'DUTP7', 'DUX4L16', 'DUX4L19', 'DUX4L34', 'DUX4L35', 'DUX4L46', 'DUX4L9', 'DYNAP', 'DYNLL1P7', 'DYNLT3P1', 'E2F3P2', 'E2F5-DT', 'EBAG9P1', 'EBF3', 'ECE2', 'ECEL1P1', 'ECM2', 'ECMXP', 'ECRG4', 'ECT2L', 'EEF1A1P1', 'EEF1A1P15', 'EEF1A1P17', 'EEF1A1P2', 'EEF1A1P28', 'EEF1A1P30', 'EEF1A1P32', 'EEF1B2P7', 'EEF1B2P8', 'EEF1DP8', 'EEF1GP3', 'EFS', 'EGLN3-AS1', 'EHD4-AS1', 'EHF', 'EIF1P7', 'EIF2S2P3', 'EIF3FP1', 'EIF3KP3', 'EIF3LP1', 'EIF3LP2', 'EIF4A1P11', 'EIF4A1P5', 'EIF4A1P9', 'EIF4A2P1', 'EIF4A2P2', 'EIF4BP2', 'EIF4BP5', 'EIF4BP8', 'EIF4E2P2', 'EIF4EP1', 'EIF4EP5', 'EIF5AP3', 'EIPR1-IT1', 'ELK2BP', 'ELMO1', 'ELMOD1', 'ELN', 'ELOBP1', 'ELOBP4', 'ELOCP28', 'ELOCP31', 'ENAM', 'ENDOU', 'ENO1P2', 'ENPP2', 'ENPP3', 'ENPP7P6', 'ENPP7P7', 'ENSAP1', 'ENTR1P1', 'ENTR1P2', 'EPHX3', 'EPIST', 'EPN2-AS1', 'EPO', 'EPPIN', 'EPPIN-WFDC6', 'EPSTI1', 'EPX', 'ERAS', 'ERFL', 'ERVK-28', 'ERVK9-11', 'ETNPPL', 'ETV5-AS1', 'ETV7', 'EVA1A', 'EVI2B', 'EVX1', 'EVX2', 'EXD1', 'EXOC3L2', 'EYS', 'F10', 'F11-AS1', 'F13A1', 'F7', 'FABP3', 'FABP5P8', 'FABP6-AS1', 'FABP7', 'FAF1-AS1', 'FAM107A', 'FAM131B', 'FAM133CP', 'FAM133FP', 'FAM135A', 'FAM153A', 'FAM163A', 'FAM166C', 'FAM167B', 'FAM169B', 'FAM181B', 'FAM187B2P', 'FAM189A1', 'FAM204DP', 'FAM20A', 'FAM220CP', 'FAM222A-AS1', 'FAM225B', 'FAM228A', 'FAM230I', 'FAM238C', 'FAM240C', 'FAM25BP', 'FAM30A', 'FAM32BP', 'FAM3D', 'FAM3D-AS1', 'FAM43B', 'FAM66E', 'FAM71F2', 'FAM72C', 'FAM83A-AS1', 'FAM86MP', 'FAM90A1', 'FAM91A2P', 'FANCD2P2', 'FAR1-IT1', 'FAR2P2', 'FAR2P3', 'FAT2', 'FAUP2', 'FBLN5', 'FBN3', 'FBXL7', 'FBXO36P1', 'FBXO38-DT', 'FBXO47', 'FBXW10', 'FCAR', 'FCER1G', 'FCF1P1', 'FCF1P5', 'FCF1P7', 'FCF1P8', 'FCGBP', 'FCGR2A', 'FCN3', 'FCRL2', 'FCRL6', 'FDPSP2', 'FDPSP3', 'FDPSP8', 'FEN1P1', 'FENDRR', 'FER1L6', 'FER1L6-AS2', 'FETUB', 'FEZF1', 'FEZF1-AS1', 'FGD5P1', 'FGF12-AS1', 'FGF13-AS1', 'FGF19', 'FGF5', 'FGF7', 'FGF9', 'FGFBP1', 'FGFBP2', 'FGG', 'FGL1', 'FGL2', 'FHAD1-AS1', 'FLG-AS1', 'FLG2', 'FLNC', 'FLNC-AS1', 'FLRT2', 'FMO2', 'FMR1-IT1', 'FNDC11', 'FNDC3CP', 'FNDC7', 'FNDC8', 'FNTAP1', 'FOXA3', 'FOXB1', 'FOXD4', 'FOXD4L1', 'FOXJ1', 'FOXL2NB', 'FOXN4', 'FREM1', 'FREM2-AS1', 'FRG1FP', 'FRG1KP', 'FRG2', 'FRMD1', 'FRMD7', 'FRMPD3-AS1', 'FRRS1L', 'FRZB', 'FST', 'FTCD-AS1', 'FTH1P1', 'FTH1P25', 'FTLP1', 'FTLP10', 'FTLP12', 'FTLP15', 'FTLP5', 'FTOP1', 'FUT6', 'FUT7', 'FXYD1', 'FXYD2', 'FXYD7', 'FYB1', 'G0S2', 'G2E3-AS1', 'GAB3', 'GABARAPL3', 'GABRG2', 'GABRR1', 'GABRR2', 'GAL3ST2', 'GALNT13', 'GALNT15', 'GALNT17', 'GALNT9', 'GALNTL5', 'GALR3', 'GAPDHP19', 'GAPDHP24', 'GAPDHP26', 'GAPDHP31', 'GAPDHP33', 'GAPDHP39', 'GAPDHP45', 'GAPDHP47', 'GAPDHP48', 'GAPDHP51', 'GAPDHP52', 'GAPDHP66', 'GAPDHP67', 'GAPDHP76', 'GAPLINC', 'GARS1P1', 'GAS1', 'GAS7', 'GATA1', 'GBP4', 'GCATP1', 'GCGR', 'GCM1', 'GCM2', 'GCSAM', 'GDAP1L1', 'GDI2P1', 'GDNF', 'GDNF-AS1', 'GDPD2', 'GEMIN2P2', 'GGT2', 'GGT3P', 'GGTLC2', 'GHRH', 'GIMAP2', 'GIP', 'GJA1', 'GJA1P1', 'GJA3', 'GJA4', 'GJB4', 'GJC1', 'GLB1L3', 'GLIPR1L1', 'GLIS1', 'GLP2R', 'GLRX5P2', 'GLYATL1', 'GM2AP1', 'GMCL1P2', 'GMFBP1', 'GNAT1', 'GNG10P1', 'GNG14', 'GNG8', 'GNLY', 'GNRHR', 'GNRHR2P1', 'GOLGA2P1', 'GOLGA2P2Y', 'GOLGA2P6', 'GOLGA6L17P', 'GOLGA8H', 'GOLGA8M', 'GOLGA8R', 'GOLM2P1', 'GORAB-AS1', 'GOSR2-DT', 'GOT2P3', 'GP6', 'GPBAR1', 'GPC5', 'GPC6-AS2', 'GPR148', 'GPR150', 'GPR162', 'GPR171', 'GPR176-DT', 'GPR182', 'GPR20', 'GPR34', 'GPR4', 'GPR45', 'GPR55', 'GPR65', 'GPR75', 'GPR83', 'GPS2P2', 'GPX1', 'GRASLND', 'GREB1L-DT', 'GREM1', 'GRIA3', 'GRIN2A', 'GRIN2B', 'GRIP2', 'GRK5', 'GRK7', 'GRM1', 'GRM2', 'GRM3', 'GRM5P1', 'GRM6', 'GRPEL2P2', 'GRPR', 'GRXCR2', 'GSDMC', 'GSDME', 'GSPT2', 'GSTA8P', 'GSTCD-AS1', 'GSTM2P1', 'GSTM5P1', 'GSTP1P1', 'GTF2IP3', 'GUCA1A', 'GUCA1B', 'GUCY2D', 'GUSBP14', 'GUSBP7', 'GVINP1', 'GYG1P1', 'GYG2P1', 'GZMM', 'H1-1', 'H2AC5P', 'H2AP', 'H2AZP4', 'H2AZP6', 'H2BC3', 'H2BE1', 'H3-2', 'H3C15', 'H3P11', 'H3P12', 'H3P2', 'H3P24', 'H3P31', 'H3P37', 'H3P42', 'H3P43', 'H3P45', 'H3Y1', 'HABP2', 'HAL', 'HAPLN1', 'HAPLN2', 'HAUS1P1', 'HAUS1P2', 'HAUS5-DT', 'HBZ', 'HCCAT5', 'HCG15', 'HCLS1', 'HCRTR2', 'HDGFL1', 'HDX', 'HECW1', 'HECW2-AS1', 'HEPACAM2', 'HES7', 'HHIP', 'HHIP-AS1', 'HHIPL1', 'HHLA2', 'HIF3A', 'HIGD1AP10', 'HIGD1AP17', 'HIGD1AP8', 'HIGD2AP1', 'HIKESHIP1', 'HK3', 'HKDC1', 'HLA-DMB', 'HLA-DPB1', 'HLA-DQA1', 'HLA-DQA2', 'HLA-DRA', 'HLA-P', 'HLA-S', 'HLA-U', 'HLX', 'HLX-AS1', 'HMGA1P3', 'HMGA1P8', 'HMGA2-AS1', 'HMGB1P16', 'HMGB1P19', 'HMGB1P21', 'HMGB1P26', 'HMGB1P7', 'HMGB3P17', 'HMGB3P20', 'HMGB3P27', 'HMGB3P8', 'HMGN1P15', 'HMGN1P30', 'HMGN1P35', 'HMGN1P8', 'HMGN2P10', 'HMGN2P13', 'HMGN2P18', 'HMGN2P2', 'HMGN2P23', 'HMGN2P27', 'HMGN2P28', 'HMGN2P34', 'HMGN2P36', 'HMGN2P38', 'HMGN2P48', 'HMGN3P1', 'HMX3', 'HNF4A', 'HNRNPA1P1', 'HNRNPA1P12', 'HNRNPA1P15', 'HNRNPA1P2', 'HNRNPA1P21', 'HNRNPA1P26', 'HNRNPA1P27', 'HNRNPA1P35', 'HNRNPA1P37', 'HNRNPA1P4', 'HNRNPA1P41', 'HNRNPA1P44', 'HNRNPA1P46', 'HNRNPA1P47', 'HNRNPA1P49', 'HNRNPA1P5', 'HNRNPA1P50', 'HNRNPA1P54', 'HNRNPA1P55', 'HNRNPA1P61', 'HNRNPA1P66', 'HNRNPA1P71', 'HNRNPA3P10', 'HNRNPA3P11', 'HNRNPA3P14', 'HNRNPA3P9', 'HNRNPABP1', 'HNRNPH1P1', 'HOMER2P1', 'HOXA1', 'HOXA9', 'HOXB-AS1', 'HOXB1', 'HOXB3', 'HOXC12', 'HPCAL4', 'HPR', 'HRH1', 'HRH4', 'HS3ST6', 'HSBP1P1', 'HSD17B13', 'HSD17B2', 'HSF5', 'HSFX1', 'HSP90AA4P', 'HSP90AA6P', 'HSP90AB6P', 'HSP90AB7P', 'HSPA8P16', 'HSPA8P3', 'HSPA8P4', 'HSPB6', 'HSPD1P10', 'HSPD1P7', 'HSPE1P13', 'HSPE1P4', 'HSPE1P6', 'HSPE1P7', 'HTR2B', 'HTR2C', 'HTR5A', 'HTR6', 'HTR7', 'HTRA3', 'HTRA4', 'HYAL4', 'ICAM4', 'ICAM5', 'ICOSLG', 'IFI16', 'IFIT1P1', 'IFIT3', 'IFITM3P9', 'IFITM4P', 'IFNL3P1', 'IFT74-AS1', 'IGBP1-AS1', 'IGBP1P1', 'IGBP1P2', 'IGBP1P4', 'IGDCC4', 'IGF1', 'IGF2-AS', 'IGF2BP2-AS1', 'IGF2BP3', 'IGFL1', 'IGFL2', 'IGHA1', 'IGHD', 'IGHGP', 'IGHM', 'IGHV4-28', 'IGHV4-34', 'IGLL3P', 'IGLV1-51', 'IGSF11', 'IGSF22', 'IHO1', 'IL12RB2', 'IL13', 'IL15', 'IL17B', 'IL17REL', 'IL1A', 'IL1B', 'IL2', 'IL27', 'IL2RB', 'IL2RG', 'IL34', 'IL37', 'IL5RA', 'IL6', 'IL6-AS1', 'IL6R-AS1', 'ILF2P2', 'IMPDH1P11', 'IMPDH1P2', 'IMPDH1P3', 'IMPDH1P4', 'IMPDH1P9', 'IMPG1', 'INGX', 'INHBA-AS1', 'INHBC', 'INHBE', 'INMT', 'INSC', 'INSL4', 'INSM1', 'INSRR', 'IP6K3', 'IPCEF1', 'IPO8P1', 'IQCA1-AS1', 'IQGAP2', 'IRAK2', 'IRF4', 'IRS3P', 'IRS4', 'ISCA1P1', 'ISCA1P2', 'ISCA2P1', 'ISL1-DT', 'ISLR2', 'ISM1', 'ISM1-AS1', 'ITCH-AS1', 'ITGA1', 'ITGA11', 'ITGA9', 'ITGA9-AS1', 'ITGAM', 'ITGAX', 'ITGB1BP2', 'ITGB7', 'ITIH2', 'ITIH3', 'ITIH4', 'ITIH4-AS1', 'ITPK1-AS1', 'ITPK1P1', 'ITPKB-IT1', 'ITPRID1', 'IVL', 'IZUMO1R', 'JAKMIP1-DT', 'JAM3', 'JPH4', 'JTBP1', 'KANK4', 'KBTBD11-AS1', 'KBTBD11-OT1', 'KCNAB1-AS2', 'KCNC1', 'KCNC2', 'KCND3-AS1', 'KCNG2', 'KCNG3', 'KCNG4', 'KCNH1-IT1', 'KCNH6', 'KCNIP1-AS1', 'KCNIP2', 'KCNIP2-AS1', 'KCNJ2', 'KCNJ6', 'KCNJ9', 'KCNK13', 'KCNK7', 'KCNK9', 'KCNMB2', 'KCNN3', 'KCNQ1-AS1', 'KCNS2', 'KCNT1', 'KCNU1', 'KCNV2', 'KCTD16', 'KCTD19', 'KCTD5P1', 'KCTD9P1', 'KCTD9P2', 'KCTD9P3', 'KCTD9P4', 'KDM5D', 'KHDC1L', 'KHSRPP1', 'KIAA1210', 'KIAA1549L', 'KIF19', 'KIF25', 'KIF26B', 'KIRREL1', 'KISS1', 'KISS1R', 'KLF1', 'KLF14', 'KLF2-DT', 'KLF2P3', 'KLF3P1', 'KLF7P1', 'KLHDC7A', 'KLHDC7B', 'KLHDC7B-DT', 'KLHL14', 'KLHL30', 'KLHL32', 'KLHL38', 'KLHL6', 'KLK13', 'KLK4', 'KLK7', 'KLRB1', 'KLRG1', 'KNOP1P1', 'KNOP1P2', 'KPNA4P1', 'KRR1P1', 'KRT12', 'KRT126P', 'KRT14', 'KRT16P1', 'KRT16P3', 'KRT17P3', 'KRT17P6', 'KRT18P53', 'KRT18P62', 'KRT18P9', 'KRT2', 'KRT20', 'KRT3', 'KRT37', 'KRT41P', 'KRT6A', 'KRT6B', 'KRT76', 'KRT77', 'KRT79', 'KRT84', 'KRT8P26', 'KRT8P27', 'KRT8P28', 'KRT8P29', 'KRT8P34', 'KRT8P6', 'KRTAP1-3', 'KRTAP10-2', 'KRTAP10-6', 'KRTAP3-1', 'KRTAP5-5', 'KRTAP5-8', 'KRTAP9-12P', 'KRTDAP', 'LAMA1', 'LAMB4', 'LANCL1-AS1', 'LAPTM4BP1', 'LARP1P1', 'LAX1', 'LBH', 'LBP', 'LBX1-AS1', 'LCE1B', 'LCK', 'LCN2', 'LCN8', 'LCP2', 'LDB2', 'LDHC', 'LDLRAD4-AS1', 'LEFTY1', 'LEMD1-DT', 'LETM1P2', 'LETR1', 'LGALS12', 'LGALS4', 'LGALSL-DT', 'LGI2', 'LGI3', 'LHFPL4', 'LHX3', 'LHX9', 'LIF-AS1', 'LILRA1', 'LILRA6', 'LILRB3', 'LILRB5', 'LIMS1-AS1', 'LIN28A', 'LINC00102', 'LINC00161', 'LINC00184', 'LINC00266-1', 'LINC00276', 'LINC00304', 'LINC00310', 'LINC00311', 'LINC00313', 'LINC00315', 'LINC00323', 'LINC00327', 'LINC00350', 'LINC00381', 'LINC00412', 'LINC00426', 'LINC00437', 'LINC00456', 'LINC00460', 'LINC00470', 'LINC00477', 'LINC00491', 'LINC00501', 'LINC00519', 'LINC00572', 'LINC00608', 'LINC00626', 'LINC00635', 'LINC00639', 'LINC00648', 'LINC00654', 'LINC00661', 'LINC00664', 'LINC00668', 'LINC00705', 'LINC00839', 'LINC00840', 'LINC00842', 'LINC00845', 'LINC00865', 'LINC00867', 'LINC00870', 'LINC00877', 'LINC00892', 'LINC00899', 'LINC00920', 'LINC00939', 'LINC00941', 'LINC00942', 'LINC00951', 'LINC00955', 'LINC00964', 'LINC00989', 'LINC01001', 'LINC01013', 'LINC01031', 'LINC01033', 'LINC01058', 'LINC01068', 'LINC01070', 'LINC01085', 'LINC01090', 'LINC01091', 'LINC01093', 'LINC01094', 'LINC01102', 'LINC01114', 'LINC01121', 'LINC01124', 'LINC01139', 'LINC01140', 'LINC01152', 'LINC01168', 'LINC01180', 'LINC01182', 'LINC01191', 'LINC01204', 'LINC01216', 'LINC01218', 'LINC01224', 'LINC01226', 'LINC01227', 'LINC01228', 'LINC01234', 'LINC01257', 'LINC01267', 'LINC01277', 'LINC01285', 'LINC01287', 'LINC01300', 'LINC01305', 'LINC01320', 'LINC01338', 'LINC01341', 'LINC01344', 'LINC01351', 'LINC01353', 'LINC01356', 'LINC01361', 'LINC01362', 'LINC01366', 'LINC01391', 'LINC01395', 'LINC01397', 'LINC01399', 'LINC01411', 'LINC01429', 'LINC01433', 'LINC01446', 'LINC01449', 'LINC01456', 'LINC01470', 'LINC01482', 'LINC01485', 'LINC01494', 'LINC01513', 'LINC01518', 'LINC01545', 'LINC01562', 'LINC01585', 'LINC01600', 'LINC01603', 'LINC01608', 'LINC01611', 'LINC01612', 'LINC01623', 'LINC01633', 'LINC01635', 'LINC01641', 'LINC01644', 'LINC01645', 'LINC01670', 'LINC01742', 'LINC01747', 'LINC01749', 'LINC01768', 'LINC01781', 'LINC01782', 'LINC01786', 'LINC01792', 'LINC01808', 'LINC01819', 'LINC01833', 'LINC01863', 'LINC01864', 'LINC01874', 'LINC01879', 'LINC01892', 'LINC01901', 'LINC01907', 'LINC01910', 'LINC01933', 'LINC01950', 'LINC01954', 'LINC01962', 'LINC01968', 'LINC01978', 'LINC01979', 'LINC01980', 'LINC01990', 'LINC02009', 'LINC02012', 'LINC02014', 'LINC02015', 'LINC02029', 'LINC02035', 'LINC02042', 'LINC02051', 'LINC02052', 'LINC02054', 'LINC02055', 'LINC02068', 'LINC02073', 'LINC02076', 'LINC02080', 'LINC02088', 'LINC02099', 'LINC02101', 'LINC02111', 'LINC02137', 'LINC02156', 'LINC02157', 'LINC02165', 'LINC02169', 'LINC02177', 'LINC02181', 'LINC02183', 'LINC02198', 'LINC02200', 'LINC02217', 'LINC02223', 'LINC02226', 'LINC02242', 'LINC02254', 'LINC02273', 'LINC02277', 'LINC02280', 'LINC02287', 'LINC02289', 'LINC02290', 'LINC02293', 'LINC02298', 'LINC02300', 'LINC02302', 'LINC02318', 'LINC02322', 'LINC02334', 'LINC02335', 'LINC02341', 'LINC02345', 'LINC02367', 'LINC02381', 'LINC02385', 'LINC02394', 'LINC02396', 'LINC02408', 'LINC02412', 'LINC02413', 'LINC02427', 'LINC02432', 'LINC02450', 'LINC02454', 'LINC02463', 'LINC02476', 'LINC02477', 'LINC02485', 'LINC02519', 'LINC02523', 'LINC02544', 'LINC02560', 'LINC02572', 'LINC02579', 'LINC02625', 'LINC02631', 'LINC02652', 'LINC02664', 'LINC02669', 'LINC02679', 'LINC02681', 'LINC02685', 'LINC02694', 'LINC02709', 'LINC02718', 'LINC02724', 'LINC02728', 'LINC02731', 'LINC02736', 'LINC02742', 'LINC02754', 'LINC02771', 'LINC02776', 'LINC02790', 'LINC02798', 'LINC02806', 'LINC02811', 'LINC02816', 'LINC02826', 'LINC02827', 'LINC02835', 'LINC02844', 'LINC02847', 'LINC02862', 'LINC02869', 'LINC02881', 'LINC02883', 'LINC02888', 'LINC02895', 'LINC02896', 'LINC02904', 'LINC02906', 'LINC02907', 'LINC02912', 'LINP1', 'LIPJ', 'LIPK', 'LIPM', 'LMNB1-DT', 'LMO3', 'LMOD3', 'LONRF2P1', 'LOXL4', 'LPA', 'LPP-AS1', 'LRAT', 'LRIG3-DT', 'LRRC15', 'LRRC2-AS1', 'LRRC3-DT', 'LRRC34', 'LRRC37A11P', 'LRRC37A14P', 'LRRC37A7P', 'LRRC43', 'LRRC4B', 'LRRC63', 'LRRC9', 'LRRIQ1', 'LRRIQ4', 'LRRN3', 'LRRTM3', 'LRRTM4', 'LRTM1', 'LRTM2', 'LSAMP', 'LSAMP-AS1', 'LSM3P3', 'LSM3P4', 'LST1', 'LTA', 'LTF', 'LTV1P1', 'LUADT1', 'LY6G6F', 'LY75', 'LY96', 'LYNX1', 'LYZL1', 'LYZL2', 'MAB21L1', 'MACROD2-IT1', 'MAGEA4', 'MAGEA4-AS1', 'MAGEB6', 'MAGED4', 'MAGED4B', 'MAGEE1', 'MAGI1-IT1', 'MALLP1', 'MAMDC2-AS1', 'MANEA-DT', 'MANSC4', 'MAP1LC3A', 'MAP3K7CL', 'MAPK11', 'MAPK4', 'MAPK6P5', 'MAPK8IP1P1', 'MAPRE1P1', 'MAPRE3-AS1', 'MAPT-IT1', 'MARCKSL1P1', 'MARK2P16', 'MARK2P8', 'MARK3P3', 'MAS1', 'MASP1', 'MAT1A', 'MBOAT4', 'MCCD1', 'MCF2', 'MCFD2P1', 'MCM8-AS1', 'MCTP2', 'MCUR1P1', 'MDFIC', 'MDGA1', 'MDS2', 'MEAF6P1', 'MECOM-AS1', 'MED28-DT', 'MED28P3', 'MEDAG', 'MEF2C-AS1', 'MEG8', 'MEG9', 'MEGF10', 'MEI1', 'MEMO1P2', 'MESP2', 'MESTP4', 'METTL14-DT', 'METTL8P1', 'MFSD13B', 'MFSD4BP1', 'MGAM', 'MGAM2', 'MGAT3', 'MGAT3-AS1', 'MICD', 'MICOS10P3', 'MID1IP1-AS1', 'MILR1', 'MIOX', 'MIR1184-1', 'MIR1206', 'MIR1228', 'MIR1234', 'MIR1260B', 'MIR1266', 'MIR1279', 'MIR1294', 'MIR1296', 'MIR1302-9HG', 'MIR1304', 'MIR132', 'MIR133A1HG', 'MIR146B', 'MIR151B', 'MIR1539', 'MIR155', 'MIR155HG', 'MIR16-1', 'MIR17', 'MIR181B2', 'MIR18A', 'MIR191', 'MIR1910', 'MIR1915', 'MIR193B', 'MIR194-2HG', 'MIR197', 'MIR19B1', 'MIR205', 'MIR2052HG', 'MIR20A', 'MIR215', 'MIR23A', 'MIR26B', 'MIR27A', 'MIR2861', 'MIR298', 'MIR29B2', 'MIR30B', 'MIR3115', 'MIR3124', 'MIR3127', 'MIR3139', 'MIR3143', 'MIR3175', 'MIR3188', 'MIR3189', 'MIR3190', 'MIR3191', 'MIR3192', 'MIR3198-1', 'MIR320E', 'MIR330', 'MIR342', 'MIR345', 'MIR3609', 'MIR365A', 'MIR3662', 'MIR3667HG', 'MIR367', 'MIR3671', 'MIR3674', 'MIR3679', 'MIR3680-2', 'MIR378H', 'MIR378I', 'MIR3928', 'MIR3929', 'MIR3942', 'MIR3944', 'MIR3960', 'MIR424', 'MIR425', 'MIR4259', 'MIR4271', 'MIR4284', 'MIR429', 'MIR4322', 'MIR4434', 'MIR4449', 'MIR4458', 'MIR4467', 'MIR4472-2', 'MIR4505', 'MIR4513', 'MIR4523', 'MIR4633', 'MIR4634', 'MIR4641', 'MIR4651', 'MIR4656', 'MIR4667', 'MIR4668', 'MIR4675', 'MIR4683', 'MIR4714', 'MIR4724', 'MIR4728', 'MIR4738', 'MIR4740', 'MIR4743', 'MIR4745', 'MIR4774', 'MIR4777', 'MIR4786', 'MIR4799', 'MIR5000', 'MIR5004', 'MIR503', 'MIR5087', 'MIR5091', 'MIR5094', 'MIR5188', 'MIR544B', 'MIR548AA1', 'MIR548D1', 'MIR548L', 'MIR548O', 'MIR548V', 'MIR571', 'MIR572', 'MIR574', 'MIR583HG', 'MIR589', 'MIR590', 'MIR604', 'MIR6070', 'MIR6075', 'MIR6124', 'MIR6165', 'MIR645', 'MIR6505', 'MIR659', 'MIR664B', 'MIR6744', 'MIR6757', 'MIR6766', 'MIR6768', 'MIR6769B', 'MIR6772', 'MIR6780A', 'MIR6780B', 'MIR6795', 'MIR6801', 'MIR6806', 'MIR6812', 'MIR6814', 'MIR6815', 'MIR6822', 'MIR6832', 'MIR6834', 'MIR6845', 'MIR6858', 'MIR6870', 'MIR6874', 'MIR6876', 'MIR6883', 'MIR6884', 'MIR7-1', 'MIR7161', 'MIR744', 'MIR760', 'MIR7704', 'MIR7851', 'MIR8071-1', 'MIR8076', 'MIR933', 'MIRLET7A1', 'MIRLET7F1', 'MIX23P1', 'MIX23P3', 'MIX23P5', 'MIXL1', 'MLANA', 'MLLT10P1', 'MLNR', 'MME-AS1', 'MMP1', 'MMP10', 'MMP14', 'MMP2', 'MMP21', 'MMP23A', 'MOBP', 'MOGAT1', 'MOGAT3', 'MORF4', 'MOV10L1', 'MPP4', 'MPPED2-AS1', 'MRAP-AS1', 'MRGPRF', 'MRGPRX3', 'MROH2A', 'MROH7', 'MRPL20P1', 'MRPL23-AS1', 'MRPL2P1', 'MRPL36P1', 'MRPL40P1', 'MRPL48P1', 'MRPS11P1', 'MRPS16P1', 'MRPS18BP2', 'MRPS18CP7', 'MRPS31P2', 'MRPS5P3', 'MRPS9-AS2', 'MRRFP1', 'MSANTD1', 'MSANTD5', 'MSH2-OT1', 'MSN', 'MSR1', 'MSX2P1', 'MT1B', 'MT1E', 'MT1G', 'MT1IP', 'MT1L', 'MT1M', 'MTAPP2', 'MTATP6P11', 'MTATP6P27', 'MTATP8P2', 'MTCO1P14', 'MTCO1P19', 'MTCO1P2', 'MTCO1P21', 'MTCO1P22', 'MTCO2P11', 'MTCO2P2', 'MTCO2P29', 'MTCO3P11', 'MTCO3P22', 'MTCO3P29', 'MTCYBP35', 'MTDHP1', 'MTHFD2P7', 'MTIF2P1', 'MTND1P11', 'MTND1P32', 'MTND3P25', 'MTND4LP30', 'MTND4LP7', 'MTND4P11', 'MTND4P15', 'MTND5P1', 'MTND5P10', 'MTND5P12', 'MTND5P2', 'MTND5P26', 'MTND6P22', 'MTND6P3', 'MTRNR2L1', 'MTRNR2L11', 'MTUS2-AS1', 'MUC17', 'MUC19', 'MUC4', 'MUC6', 'MUCL3', 'MUSTN1', 'MXRA5', 'MXRA7P1', 'MXRA8', 'MYBPC1', 'MYBPH', 'MYCBPAP', 'MYCNOS', 'MYCNUT', 'MYH15', 'MYH3', 'MYL4', 'MYL6BP1', 'MYL6P4', 'MYL7', 'MYLK2', 'MYMX', 'MYO16-AS2', 'MYO18B', 'MYO1A', 'MYO1G', 'MYOCOS', 'MYOG', 'MYPN', 'MYT1L', 'NAA20P1', 'NAALAD2', 'NAALADL2-AS1', 'NACAD', 'NACAP2', 'NADK2-AS1', 'NAIPP3', 'NALCN', 'NALF1', 'NANOGNB', 'NANOGNBP3', 'NANOGP5', 'NAP1L1P1', 'NAP1L1P3', 'NAP1L3', 'NAP1L4P3', 'NAPSB', 'NARF-IT1', 'NASPP1', 'NAT8', 'NAV2-AS3', 'NAV2-AS6', 'NBEAP1', 'NBPF18P', 'NCAN', 'NCCRP1', 'NCF1', 'NCF1C', 'NCF4-AS1', 'NCKAP1L', 'NCOA4P4', 'NDST3', 'NDST4', 'NDUFA3P1', 'NDUFA3P4', 'NDUFAB1P1', 'NDUFAF2P1', 'NDUFAF4P1', 'NDUFB10P2', 'NDUFB1P2', 'NDUFB4P1', 'NDUFB4P2', 'NDUFB9P1', 'NECAP1P1', 'NEFH', 'NEGR1', 'NEK2P4', 'NELL1', 'NENFP1', 'NEU4', 'NEUROG2', 'NEUROG2-AS1', 'NEXN', 'NEXN-AS1', 'NF1P11', 'NF1P8', 'NFE2L3P1', 'NFU1P1', 'NFYBP1', 'NFYCP2', 'NHLH1', 'NHLH2', 'NIFKP4', 'NIFKP6', 'NIFKP8', 'NIP7P3', 'NKAIN2', 'NKAIN4', 'NKX1-2', 'NKX2-1', 'NKX2-5', 'NLGN1', 'NLGN3', 'NLRC4', 'NLRP13', 'NLRP2', 'NLRP2B', 'NLRP3', 'NLRP6', 'NLRP7P1', 'NLRP9', 'NMD3P2', 'NME2P2', 'NME9', 'NMRAL2P', 'NMRK2', 'NMUR1', 'NNAT', 'NOL4', 'NOL4L-DT', 'NOL8P1', 'NOS2', 'NOTO', 'NOTUM', 'NOVA2', 'NOX1', 'NPFFR2', 'NPIPA3', 'NPIPB1P', 'NPM1P11', 'NPM1P12', 'NPM1P14', 'NPM1P19', 'NPM1P2', 'NPM1P20', 'NPM1P22', 'NPM1P24', 'NPM1P29', 'NPM1P38', 'NPM1P40', 'NPM1P46', 'NPM1P50', 'NPM1P52', 'NPM1P9', 'NPSR1-AS1', 'NPTX1', 'NPTX2', 'NR0B2', 'NR1I2', 'NRADDP', 'NRAP', 'NRBF2P3', 'NRBF2P4', 'NRIP3', 'NRXN3', 'NSA2P2', 'NSA2P4', 'NSFP1', 'NSG2', 'NSRP1P1', 'NT5DC1P1', 'NTN5', 'NTRK1', 'NUDT16L2P', 'NUDT19P5', 'NUDT4B', 'NUDT9P1', 'NUGGC', 'NUP50P1', 'NUP93-DT', 'NUPR2', 'NUTF2P3', 'NUTF2P6', 'NUTF2P7', 'NUTM2A', 'NUTM2B', 'NUTM2F', 'NWD1', 'NXNL1', 'OAS2', 'OAZ1P1', 'OBP2B', 'ODC1-DT', 'ODF3', 'ODF3L1', 'ODF3L2', 'OGN', 'OLFML2B', 'OPRM1', 'OR10AC1', 'OR10AH1P', 'OR10D3', 'OR10G7', 'OR10H1', 'OR10H5', 'OR1H1P', 'OR1J2', 'OR1L8', 'OR2A4', 'OR2A42', 'OR2A7', 'OR2AO1P', 'OR2AT2P', 'OR2G6', 'OR2T27', 'OR2V1', 'OR2V2', 'OR2W2P', 'OR3B1P', 'OR4F1P', 'OR4F21', 'OR51B5', 'OR51P1P', 'OR52K3P', 'OR5AU1', 'OR6K3', 'OR6K4P', 'OR7A19P', 'OR7E100P', 'OR7E104P', 'OR7E122P', 'OR7E128P', 'OR7E12P', 'OR7E136P', 'OR7E25P', 'OR7E29P', 'OR7E37P', 'OR7E46P', 'OR7E47P', 'OR7E55P', 'OR7E7P', 'OR7E87P', 'OR7E90P', 'OR7E97P', 'OR7E99P', 'OR7M1P', 'OR8A2P', 'OR8A3P', 'OR8B10P', 'OR8B12', 'OR8B1P', 'OR8B2', 'OR8B3', 'OR8B5P', 'OR8B6P', 'OR8B7P', 'OR8B8', 'OR8F1P', 'OR8T1P', 'ORM1', 'ORM2', 'OSBPL10-AS1', 'OSTCP1', 'OSTCP2', 'OSTCP6', 'OTOAP1', 'OTOP2', 'OTOP3', 'OTX2-AS1', 'OVAAL', 'OVCH1-AS1', 'OVOL1-AS1', 'OXGR1', 'P2RX7', 'P2RY1', 'P3H3', 'PA2G4P3', 'PABPC1L2B', 'PABPC1P2', 'PACRG-AS1', 'PADI1', 'PAEP', 'PAFAH1B1P2', 'PAFAH1B2P1', 'PAK3', 'PAMR1', 'PAPOLB', 'PAPPA', 'PAQR5-DT', 'PARD6G-AS1', 'PARK7P2', 'PARP4P2', 'PATE2', 'PATE3', 'PATL1-DT', 'PAX2', 'PAX7', 'PCBP2P1', 'PCDH18', 'PCDH19', 'PCDH20', 'PCDHB17P', 'PCDHB5', 'PCNPP3', 'PCSK1', 'PCSK9', 'PCYT1B', 'PDC-AS1', 'PDCD5P1', 'PDCD6IPP2', 'PDCL3P2', 'PDE1B', 'PDE1C', 'PDE2A', 'PDE4B', 'PDE4DIPP7', 'PDE6C', 'PDE7A-DT', 'PDGFRB', 'PDIA3P2', 'PDPN', 'PDSS1P1', 'PDX1', 'PDZD3', 'PDZPH1P', 'PDZRN3-AS1', 'PEAK3', 'PECAM1', 'PEG10', 'PES1P2', 'PFKP-DT', 'PFN1P2', 'PFN3', 'PGAM1P10', 'PGAM1P4', 'PGAM1P6', 'PGAP4', 'PGGT1BP2', 'PGLYRP4', 'PGPEP1L', 'PHACTR3', 'PHB2P1', 'PHBP1', 'PHBP16', 'PHBP19', 'PHBP4', 'PHF24', 'PHGR1', 'PHKA1-AS1', 'PHYHD1', 'PI3', 'PICART1', 'PIEZO1P2', 'PIGFP1', 'PIGY-DT', 'PIMREGP1', 'PIMREGP2', 'PIMREGP3', 'PIN1-DT', 'PIN1P1', 'PINCR', 'PIP5K1P1', 'PIP5K1P2', 'PITPNM2-AS1', 'PIWIL2', 'PIWIL2-DT', 'PKD1L1', 'PKD1P2', 'PKNOX2', 'PLA1A', 'PLA2G1B', 'PLAC8L1', 'PLAC9', 'PLAT', 'PLB1', 'PLCL2', 'PLCL2-AS1', 'PLCXD2-AS1', 'PLD5', 'PLEKHA3P1', 'PLIN1', 'PLK5', 'PLP1', 'PLPPR1', 'PLSCR2', 'PLSCR4', 'PMS2P12', 'PNLDC1', 'PNLIPRP1', 'PNMA8B', 'PNMT', 'PNPLA1', 'PNPT1P1', 'POLR2CP1', 'POLR2DP1', 'POLR2MP1', 'POLR3GP1', 'POM121L2', 'POM121L4P', 'PON1', 'POTEG', 'POU3F2', 'POU4F3', 'POU5F1P3', 'POU5F1P4', 'POU5F1P6', 'POU6F2', 'POU6F2-AS2', 'PPARGC1A', 'PPATP1', 'PPFIA2', 'PPIAL4A', 'PPIAP14', 'PPIAP15', 'PPIAP20', 'PPIAP33', 'PPIAP38', 'PPIAP39', 'PPIAP43', 'PPIAP50', 'PPIAP51', 'PPIAP52', 'PPIAP55', 'PPIAP58', 'PPIAP59', 'PPIAP60', 'PPIAP64', 'PPIAP65', 'PPIAP70', 'PPIAP72', 'PPIAP74', 'PPIAP76', 'PPIAP79', 'PPIAP80', 'PPIAP83', 'PPIAP85', 'PPIAP91', 'PPP1R11P1', 'PPP1R2P1', 'PPP1R2P2', 'PPP1R2P4', 'PPP1R9A-AS1', 'PPP2R5CP', 'PPP4R1-AS1', 'PRADC1P1', 'PRAL', 'PRAM1', 'PRAME', 'PRAMENP', 'PRB2', 'PRDM7', 'PRDM9', 'PRDX2P2', 'PRDX3P3', 'PRDX3P4', 'PRELID2P1', 'PRELP', 'PRKAR2B-AS1', 'PRKCA-AS1', 'PRKCB', 'PRKCQ', 'PRKX-AS1', 'PRKY', 'PRL', 'PROC', 'PROK1', 'PROKR1', 'PROM1', 'PROZ', 'PRPH2', 'PRR13P7', 'PRR29-AS1', 'PRSS1', 'PRSS12', 'PRSS21', 'PRSS3', 'PRSS30P', 'PRSS37', 'PRSS57', 'PRXL2AP2', 'PSAT1', 'PSAT1P1', 'PSG1', 'PSG2', 'PSG3', 'PSG7', 'PSMA1P1', 'PSMA2P2', 'PSMA3P1', 'PSMA6P4', 'PSMB3P2', 'PSMC1P10', 'PSMC1P11', 'PSMC1P3', 'PSMC1P7', 'PSMD10P3', 'PSME2P5', 'PTCHD3', 'PTCHD3P2', 'PTCHD3P3', 'PTCHD4', 'PTGER1', 'PTGES3P4', 'PTGIS', 'PTH2', 'PTMAP1', 'PTMAP11', 'PTMAP15', 'PTMAP8', 'PTP4A1P4', 'PTPN2P2', 'PTPN7', 'PTPRC', 'PTPRD', 'PTPRM', 'PTPRO', 'PTPRVP', 'PTTG1IP2', 'PTX3', 'PTX4', 'PUDPP2', 'PVALB', 'PXDNL', 'PYDC1', 'PYGM', 'PYY', 'PZP', 'QRFP', 'QRICH2', 'RAB40A', 'RAB41', 'RAB43P1', 'RAB44', 'RAB5CP2', 'RABGAP1L-AS1', 'RABGAP1L-IT1', 'RAC1P5', 'RAC2', 'RACGAP1P1', 'RAD17P2', 'RAD21L1', 'RADX', 'RAI1-AS1', 'RALBP1P1', 'RANP5', 'RANP8', 'RARRES1', 'RASA2-IT1', 'RASA3-IT1', 'RASL12', 'RASSF10-DT', 'RASSF3-DT', 'RBBP4P4', 'RBFOX1', 'RBFOX3', 'RBM12B-DT', 'RBM20', 'RBM22P3', 'RBM22P4', 'RBMS3', 'RBMX2P2', 'RBMX2P3', 'RBP2', 'RBP4', 'RBP5', 'RC3H1-IT1', 'RCC2P7', 'RDH10-AS1', 'RDM1P3', 'RDXP3', 'REC114', 'REN', 'RENBP', 'REP15', 'RERE-AS1', 'RETN', 'RFESDP1', 'RFPL1S', 'RFPL3', 'RFPL3S', 'RFX4', 'RGN', 'RGS7BP', 'RHAG', 'RHBDL3', 'RHEX', 'RHO', 'RHOQP2', 'RHOQP3', 'RHOT1P1', 'RHOT1P3', 'RHOXF1P1', 'RHPN2P1', 'RIC3', 'RIIAD1', 'RIMBP2', 'RIMBP3B', 'RIMBP3C', 'RIMKLBP1', 'RIPOR2', 'RLIMP1', 'RN7SKP114', 'RN7SKP160', 'RN7SKP209', 'RN7SKP239', 'RN7SKP243', 'RN7SKP249', 'RN7SKP271', 'RN7SKP30', 'RN7SKP36', 'RN7SKP38', 'RN7SKP56', 'RN7SKP78', 'RN7SKP97', 'RN7SL118P', 'RN7SL130P', 'RN7SL141P', 'RN7SL151P', 'RN7SL164P', 'RN7SL166P', 'RN7SL170P', 'RN7SL181P', 'RN7SL208P', 'RN7SL230P', 'RN7SL233P', 'RN7SL236P', 'RN7SL246P', 'RN7SL253P', 'RN7SL263P', 'RN7SL277P', 'RN7SL3', 'RN7SL305P', 'RN7SL306P', 'RN7SL336P', 'RN7SL350P', 'RN7SL354P', 'RN7SL370P', 'RN7SL375P', 'RN7SL37P', 'RN7SL388P', 'RN7SL393P', 'RN7SL40P', 'RN7SL414P', 'RN7SL430P', 'RN7SL431P', 'RN7SL443P', 'RN7SL452P', 'RN7SL459P', 'RN7SL466P', 'RN7SL472P', 'RN7SL47P', 'RN7SL481P', 'RN7SL4P', 'RN7SL558P', 'RN7SL559P', 'RN7SL55P', 'RN7SL566P', 'RN7SL574P', 'RN7SL57P', 'RN7SL587P', 'RN7SL589P', 'RN7SL605P', 'RN7SL606P', 'RN7SL619P', 'RN7SL659P', 'RN7SL672P', 'RN7SL677P', 'RN7SL67P', 'RN7SL688P', 'RN7SL711P', 'RN7SL716P', 'RN7SL724P', 'RN7SL749P', 'RN7SL756P', 'RN7SL76P', 'RN7SL775P', 'RN7SL79P', 'RN7SL812P', 'RN7SL81P', 'RN7SL834P', 'RN7SL835P', 'RN7SL851P', 'RN7SL89P', 'RNA5SP101', 'RNA5SP141', 'RNA5SP160', 'RNA5SP18', 'RNA5SP203', 'RNA5SP212', 'RNA5SP221', 'RNA5SP260', 'RNA5SP282', 'RNA5SP295', 'RNA5SP301', 'RNA5SP319', 'RNA5SP343', 'RNA5SP383', 'RNA5SP392', 'RNA5SP395', 'RNA5SP429', 'RNA5SP437', 'RNA5SP439', 'RNA5SP440', 'RNA5SP449', 'RNA5SP450', 'RNA5SP469', 'RNA5SP473', 'RNA5SP474', 'RNA5SP477', 'RNA5SP494', 'RNA5SP68', 'RNA5SP78', 'RNA5SP92', 'RNASEH1P2', 'RNF113B', 'RNF11P1', 'RNF133', 'RNF138P1', 'RNF14P1', 'RNF14P3', 'RNF14P4', 'RNF216-IT1', 'RNF222', 'RNF225', 'RNU1-1', 'RNU1-123P', 'RNU1-134P', 'RNU1-153P', 'RNU1-27P', 'RNU1-67P', 'RNU11-4P', 'RNU12', 'RNU2-11P', 'RNU2-30P', 'RNU2-63P', 'RNU2-7P', 'RNU4-36P', 'RNU4-46P', 'RNU4-47P', 'RNU4-78P', 'RNU4ATAC12P', 'RNU4ATAC18P', 'RNU5A-8P', 'RNU5B-1', 'RNU5E-6P', 'RNU5F-1', 'RNU6-1008P', 'RNU6-100P', 'RNU6-1011P', 'RNU6-1055P', 'RNU6-1061P', 'RNU6-1081P', 'RNU6-1083P', 'RNU6-1098P', 'RNU6-1099P', 'RNU6-1107P', 'RNU6-1136P', 'RNU6-1140P', 'RNU6-1157P', 'RNU6-1164P', 'RNU6-118P', 'RNU6-1266P', 'RNU6-1280P', 'RNU6-1281P', 'RNU6-1283P', 'RNU6-1285P', 'RNU6-1318P', 'RNU6-163P', 'RNU6-16P', 'RNU6-181P', 'RNU6-194P', 'RNU6-218P', 'RNU6-228P', 'RNU6-244P', 'RNU6-25P', 'RNU6-26P', 'RNU6-29P', 'RNU6-30P', 'RNU6-312P', 'RNU6-319P', 'RNU6-379P', 'RNU6-37P', 'RNU6-384P', 'RNU6-414P', 'RNU6-430P', 'RNU6-436P', 'RNU6-455P', 'RNU6-460P', 'RNU6-472P', 'RNU6-481P', 'RNU6-4P', 'RNU6-501P', 'RNU6-510P', 'RNU6-513P', 'RNU6-516P', 'RNU6-518P', 'RNU6-539P', 'RNU6-5P', 'RNU6-611P', 'RNU6-623P', 'RNU6-678P', 'RNU6-681P', 'RNU6-703P', 'RNU6-780P', 'RNU6-807P', 'RNU6-879P', 'RNU6-882P', 'RNU6-883P', 'RNU6-885P', 'RNU6-886P', 'RNU6-890P', 'RNU6-9', 'RNU6-91P', 'RNU6-927P', 'RNU6-934P', 'RNU6-94P', 'RNU6-957P', 'RNU6-977P', 'RNU6ATAC9P', 'RNU6V', 'RNU7-3P', 'RNU7-40P', 'RNU7-41P', 'RNU7-71P', 'RNU7-77P', 'RNVU1-21', 'RNVU1-22', 'RNVU1-29', 'RNVU1-3', 'RNVU1-33', 'RNVU1-34', 'RNY1P13', 'RNY1P16', 'RNY1P6', 'RNY1P9', 'RNY3', 'ROBO4', 'ROCR', 'ROPN1B', 'ROR1-AS1', 'RORB', 'ROS1', 'RP1', 'RP1L1', 'RPA2P2', 'RPA3P1', 'RPEP4', 'RPH3A', 'RPL10P13', 'RPL10P19', 'RPL10P2', 'RPL10P4', 'RPL12P10', 'RPL12P11', 'RPL12P12', 'RPL12P14', 'RPL12P19', 'RPL12P21', 'RPL12P29', 'RPL12P33', 'RPL12P37', 'RPL12P42', 'RPL12P47', 'RPL12P50', 'RPL13AP2', 'RPL13AP23', 'RPL13AP3', 'RPL13P', 'RPL13P2', 'RPL14P3', 'RPL15P20', 'RPL17P17', 'RPL17P26', 'RPL18AP15', 'RPL18AP16', 'RPL18AP7', 'RPL19P14', 'RPL19P20', 'RPL19P21', 'RPL19P5', 'RPL21P123', 'RPL21P131', 'RPL21P134', 'RPL21P135', 'RPL21P136', 'RPL21P17', 'RPL21P18', 'RPL21P24', 'RPL21P30', 'RPL21P34', 'RPL21P39', 'RPL21P41', 'RPL21P5', 'RPL21P65', 'RPL21P66', 'RPL21P7', 'RPL21P8', 'RPL21P89', 'RPL21P93', 'RPL22P16', 'RPL23AP10', 'RPL23AP12', 'RPL23AP15', 'RPL23AP19', 'RPL23AP23', 'RPL23AP32', 'RPL23AP35', 'RPL23AP48', 'RPL23AP52', 'RPL23AP64', 'RPL23AP66', 'RPL23AP67', 'RPL23AP73', 'RPL23AP77', 'RPL23AP78', 'RPL23AP8', 'RPL23AP81', 'RPL23AP86', 'RPL23AP94', 'RPL23AP95', 'RPL23P2', 'RPL26P29', 'RPL26P6', 'RPL27P7', 'RPL29P19', 'RPL29P23', 'RPL29P24', 'RPL29P30', 'RPL30P11', 'RPL30P13', 'RPL30P14', 'RPL30P2', 'RPL30P7', 'RPL31P11', 'RPL31P2', 'RPL31P28', 'RPL31P7', 'RPL32P13', 'RPL32P2', 'RPL32P20', 'RPL32P21', 'RPL32P5', 'RPL32P6', 'RPL34-DT', 'RPL34P1', 'RPL34P34', 'RPL35AP13', 'RPL35AP14', 'RPL35AP16', 'RPL35AP17', 'RPL35AP19', 'RPL35AP2', 'RPL35AP20', 'RPL35AP21', 'RPL35AP23', 'RPL35AP27', 'RPL35AP28', 'RPL35AP5', 'RPL35AP7', 'RPL35P3', 'RPL35P9', 'RPL36AP13', 'RPL36AP16', 'RPL36AP26', 'RPL36AP39', 'RPL36AP45', 'RPL36AP48', 'RPL36P2', 'RPL36P4', 'RPL37AP8', 'RPL38P3', 'RPL38P4', 'RPL39P16', 'RPL39P18', 'RPL39P38', 'RPL3P8', 'RPL4P2', 'RPL4P7', 'RPL5P13', 'RPL5P18', 'RPL5P22', 'RPL5P28', 'RPL5P29', 'RPL5P3', 'RPL5P30', 'RPL5P5', 'RPL5P6', 'RPL6P25', 'RPL7AP14', 'RPL7AP3', 'RPL7AP34', 'RPL7AP4', 'RPL7AP65', 'RPL7AP7', 'RPL7L1P11', 'RPL7L1P13', 'RPL7L1P2', 'RPL7L1P3', 'RPL7P10', 'RPL7P13', 'RPL7P14', 'RPL7P16', 'RPL7P20', 'RPL7P21', 'RPL7P28', 'RPL7P29', 'RPL7P36', 'RPL7P37', 'RPL7P38', 'RPL7P39', 'RPL7P46', 'RPL7P48', 'RPL7P49', 'RPL7P52', 'RPL7P58', 'RPL7P60', 'RPL7P7', 'RPL8P1', 'RPL8P2', 'RPL9P18', 'RPL9P5', 'RPRML', 'RPS10P14', 'RPS10P18', 'RPS10P28', 'RPS12P17', 'RPS12P27', 'RPS12P28', 'RPS12P31', 'RPS13P3', 'RPS15AP14', 'RPS15AP17', 'RPS15AP39', 'RPS15AP40', 'RPS15P9', 'RPS16P2', 'RPS16P9', 'RPS17P1', 'RPS17P2', 'RPS17P5', 'RPS17P8', 'RPS18P6', 'RPS20P2', 'RPS20P32', 'RPS20P4', 'RPS20P9', 'RPS24P12', 'RPS24P16', 'RPS26P11', 'RPS26P13', 'RPS26P20', 'RPS26P38', 'RPS26P39', 'RPS26P41', 'RPS26P43', 'RPS27AP2', 'RPS27AP6', 'RPS27P16', 'RPS27P21', 'RPS27P27', 'RPS27P29', 'RPS28P4', 'RPS29P11', 'RPS29P17', 'RPS29P3', 'RPS29P7', 'RPS2P1', 'RPS2P15', 'RPS2P18', 'RPS2P2', 'RPS2P24', 'RPS2P41', 'RPS2P44', 'RPS2P45', 'RPS2P6', 'RPS3AP12', 'RPS3AP14', 'RPS3AP18', 'RPS3AP27', 'RPS3AP28', 'RPS3AP29', 'RPS3AP3', 'RPS3AP34', 'RPS3AP36', 'RPS3AP39', 'RPS3AP44', 'RPS3AP51', 'RPS3P2', 'RPS4XP19', 'RPS4XP20', 'RPS4XP5', 'RPS4XP7', 'RPS5P2', 'RPS5P7', 'RPS6KA2-IT1', 'RPS7P11', 'RPS7P14', 'RPS7P3', 'RPS8P4', 'RPSAP11', 'RPSAP21', 'RPSAP29', 'RPSAP31', 'RPSAP49', 'RPSAP5', 'RPSAP55', 'RPSAP6', 'RPSAP70', 'RRAD', 'RRAGAP1-AS1', 'RRN3P4', 'RSF1-IT1', 'RSL24D1P1', 'RSL24D1P6', 'RSPH6A', 'RSPO1', 'RSU1P1', 'RSU1P3', 'RUNX2-AS1', 'RUNX3', 'RUVBL1-AS1', 'RWDD4P1', 'RXRG', 'RYKP1', 'S100A11P2', 'S100A12', 'S100A3', 'S100A5', 'S100A7', 'S100G', 'S1PR1', 'SAG', 'SALL4P5', 'SALL4P7', 'SAMD11P1', 'SAMD13', 'SAMSN1', 'SAP18P3', 'SAPCD2P3', 'SATB1', 'SAXO1', 'SBF1P1', 'SBSPON', 'SCARNA10', 'SCARNA18', 'SCARNA18B', 'SCARNA21B', 'SCARNA23', 'SCARNA3', 'SCARNA4', 'SCARNA6', 'SCARNA7', 'SCG2', 'SCGB1A1', 'SCGB1C1', 'SCGB1C2', 'SCGB2A2', 'SCGB3A1', 'SCML2P1', 'SCN3B', 'SCN4B', 'SCT', 'SCUBE1', 'SDAD1-AS1', 'SDAD1P2', 'SDAD1P4', 'SDHCP3', 'SDHDP3', 'SDHDP6', 'SDR9C7', 'SEC13P1', 'SEC14L3', 'SEC14L4', 'SEC14L5', 'SEC62-AS1', 'SEL1L2', 'SELENOKP1', 'SELENOKP2', 'SELENOKP3', 'SELENOOLP', 'SELPLG', 'SEMA3A', 'SEMA3G', 'SEMA6A-AS2', 'SEMA7A', 'SEPHS1P1', 'SEPHS1P2', 'SEPTIN14P12', 'SEPTIN14P8', 'SEPTIN7P12', 'SEPTIN7P8', 'SERBP1P6', 'SERF1A', 'SERPINA11', 'SERPINA4', 'SERPINA9', 'SERPINB9P1', 'SERPINC1', 'SERPIND1', 'SERTAD3-AS1', 'SETP10', 'SETP20', 'SETP22', 'SETP5', 'SEZ6', 'SEZ6L', 'SFTA2', 'SFTPA1', 'SFTPC', 'SGCA', 'SGCD', 'SGK2', 'SH2D1B', 'SH2D2A', 'SH2D4B', 'SH2D7', 'SH3TC1', 'SH3TC2-DT', 'SHANK2-AS2', 'SHC1P1', 'SHC1P2', 'SHD', 'SHE', 'SHISA5P1', 'SHISA5P2', 'SHISA7', 'SHISAL2A', 'SHLD2P2', 'SHROOM3-AS1', 'SILC1', 'SIM1', 'SKOR1', 'SLAMF8', 'SLAMF9', 'SLC10A4', 'SLC10A5', 'SLC12A3', 'SLC13A5', 'SLC14A2', 'SLC16A6P1', 'SLC16A8', 'SLC19A3', 'SLC22A11', 'SLC22A13', 'SLC22A14', 'SLC22A24', 'SLC24A2', 'SLC25A14P1', 'SLC25A15P4', 'SLC25A1P3', 'SLC25A1P4', 'SLC25A34-AS1', 'SLC25A53P1', 'SLC25A5P9', 'SLC25A6P3', 'SLC25A6P5', 'SLC26A4', 'SLC26A8', 'SLC28A2', 'SLC28A3', 'SLC2A7', 'SLC2A9', 'SLC34A3', 'SLC35D3', 'SLC35F4', 'SLC36A2', 'SLC38A5', 'SLC39A5', 'SLC43A3', 'SLC44A3-AS1', 'SLC47A2', 'SLC4A1', 'SLC51B', 'SLC5A1', 'SLC5A11', 'SLC5A4', 'SLC6A1', 'SLC6A12', 'SLC6A12-AS1', 'SLC6A16', 'SLC6A17-AS1', 'SLC6A19', 'SLC6A20', 'SLC6A4', 'SLC7A13', 'SLC7A14-AS1', 'SLC7A2-IT1', 'SLC7A7', 'SLC7A9', 'SLC8A3', 'SLC9A9', 'SLC9C2', 'SLCO2B1', 'SLFN11', 'SLFN13', 'SLFNL1', 'SLIRPP1', 'SLIT3', 'SLIT3-AS2', 'SLITRK5', 'SLN', 'SLX1B', 'SMARCE1P1', 'SMARCE1P2', 'SMC3P1', 'SMCO2', 'SMG6-IT1', 'SMILR', 'SMIM10L2B-AS1', 'SMIM17', 'SMIM23', 'SMIM31', 'SMIM35', 'SMIM41', 'SMOC1', 'SMPD4P1', 'SMYD3-AS1', 'SNAP23P1', 'SNAP91', 'SNCA', 'SNCAIP', 'SNF8P1', 'SNHG26', 'SNORA15', 'SNORA15B-1', 'SNORA16B', 'SNORA19', 'SNORA20', 'SNORA22', 'SNORA23', 'SNORA25', 'SNORA36A', 'SNORA52', 'SNORA54', 'SNORA55', 'SNORA59A', 'SNORA5B', 'SNORA63D', 'SNORA63E', 'SNORA68B', 'SNORA69', 'SNORA70B', 'SNORA71D', 'SNORA74B', 'SNORA77', 'SNORA79B', 'SNORA80B', 'SNORD105', 'SNORD11', 'SNORD12', 'SNORD121B', 'SNORD125', 'SNORD12B', 'SNORD15B', 'SNORD19C', 'SNORD1C', 'SNORD21', 'SNORD38B', 'SNORD3B-2', 'SNORD41', 'SNORD42A', 'SNORD43', 'SNORD45A', 'SNORD45B', 'SNORD61', 'SNORD62A', 'SNORD88A', 'SNORD97', 'SNORD98', 'SNPH', 'SNRPCP10', 'SNRPCP4', 'SNRPEP3', 'SNRPN', 'SNTG1', 'SNTG2-AS1', 'SNURF', 'SNX18P7', 'SNX19P2', 'SNX6P1', 'SOHLH1', 'SOHLH2', 'SORBS2', 'SOST', 'SOSTDC1', 'SOWAHCP2', 'SOX10', 'SOX21-AS1', 'SOX7', 'SP5', 'SP7', 'SP9', 'SPAG16', 'SPAG6', 'SPAM1', 'SPANXC', 'SPATA25', 'SPATA31D5P', 'SPATA45', 'SPATA46', 'SPATC1', 'SPDYE10P', 'SPDYE19P', 'SPDYE22P', 'SPDYE2B', 'SPDYE7P', 'SPECC1-DT', 'SPI1', 'SPIB', 'SPINK1', 'SPINK7', 'SPNS3', 'SPOCK2', 'SPON1', 'SPRR2G', 'SPRR3', 'SPTLC1P2', 'SPX', 'SQLE-DT', 'SRARP', 'SRD5A1P1', 'SRD5A2', 'SREK1IP1P1', 'SREK1IP1P2', 'SRGAP2-AS1', 'SRGAP3-AS4', 'SRSF10P1', 'SRSF3P4', 'SRSF3P5', 'SRSF3P6', 'SRSF9P1', 'SSBL2P', 'SSBL5P', 'SSBP3-AS1', 'SSC5D', 'SSTR1', 'SSTR5-AS1', 'ST13P13', 'ST13P18', 'ST18', 'ST3GAL1P1', 'ST6GAL2', 'ST8SIA2', 'ST8SIA5', 'STAB2', 'STAR', 'STARD6', 'STARD8', 'STAU2-AS1', 'STEAP1B', 'STEAP2', 'STH', 'STK16P1', 'STK32B', 'STK33', 'STPG2', 'STPG3-AS1', 'STPG4', 'STRC', 'STRCP1', 'STUB1P1', 'STX8P1', 'SUB1P3', 'SUCLA2P3', 'SUGT1P2', 'SULT1C4', 'SUMO1P2', 'SUMO2P20', 'SUMO2P3', 'SUMO2P8', 'SUN3', 'SV2A', 'SV2C', 'SVOP', 'SYNPO2L', 'SYNPR', 'SYP-AS1', 'SYT11', 'SYT13', 'SYT2', 'SYT9', 'TAB3-AS1', 'TAC3', 'TAC4', 'TACR3', 'TAF11L11', 'TAF9P3', 'TAFA4', 'TAL2', 'TARDBPP1', 'TARID', 'TAS1R1', 'TAS2R10', 'TAS2R13', 'TAS2R20', 'TAS2R2P', 'TAS2R30', 'TAS2R4', 'TAS2R43', 'TAS2R46', 'TAS2R5', 'TAS2R50', 'TAS2R63P', 'TBATA', 'TBC1D10C', 'TBC1D26', 'TBC1D28', 'TBC1D3I', 'TBC1D3P1', 'TBILA', 'TBL1Y', 'TBPL2', 'TBR1', 'TBX21', 'TBX3-AS1', 'TBX5', 'TBXA2R', 'TCERG1L', 'TCF4', 'TCF7L1-IT1', 'TCHHL1', 'TCL1A', 'TCL1B', 'TCL6', 'TCN1', 'TDRP', 'TERF1P7', 'TERT', 'TESC-AS1', 'TEX11', 'TEX12', 'TEX38', 'TEX44', 'TEX46', 'TEX53', 'TF', 'TFDP1P1', 'TFDP1P3', 'TFGP1', 'TG', 'TGIF1P1', 'TGIF2LX', 'TGM3', 'THAP12P1', 'THAP12P3', 'THAP12P7', 'THAP5P1', 'THORLNC', 'THRB-IT1', 'THSD4-AS1', 'THUMPD1P1', 'TIGD4', 'TIMM9P2', 'TIMP4', 'TLK1P1', 'TLK2P2', 'TLR3', 'TLR6', 'TLR9', 'TLX1', 'TM4SF20', 'TMC1', 'TMCO2', 'TMED10P2', 'TMEFF2', 'TMEM108', 'TMEM121B', 'TMEM132D-AS1', 'TMEM132E', 'TMEM14EP', 'TMEM151A', 'TMEM178A', 'TMEM232', 'TMEM239', 'TMEM251P1', 'TMEM256P1', 'TMEM271', 'TMEM47', 'TMEM52B', 'TMEM74', 'TMEM88', 'TMEM89', 'TMEM92', 'TMEM92-AS1', 'TMEM95', 'TMEM98', 'TMPRSS11A', 'TMPRSS11CP', 'TMPRSS5', 'TNFAIP6', 'TNFRSF14', 'TNFSF14', 'TNFSF15', 'TNIP2P1', 'TNN', 'TNNC1', 'TNNI1', 'TNNI3K', 'TNR', 'TOGARAM2', 'TOMM20L-DT', 'TOMM20P1', 'TOMM22P5', 'TOMM40P3', 'TP73-AS3', 'TPH1', 'TPM3P1', 'TPM3P4', 'TPM3P7', 'TPRG1-AS1', 'TPRG1-AS2', 'TPRKBP2', 'TPRXL', 'TPT1P10', 'TPT1P6', 'TPTE2P6', 'TRABD2B', 'TRAF6P1', 'TRAV18', 'TRAV19', 'TRAV27', 'TRAV32', 'TRAV36DV7', 'TRAV41', 'TRBV20OR9-2', 'TRBV6-1', 'TRBV6-5', 'TRBV6-6', 'TRBV6-7', 'TRBV6-8', 'TRBV7-3', 'TRBV8-2', 'TRBV9', 'TRDN', 'TRGC1', 'TRGC2', 'TRH', 'TRIM15', 'TRIM17', 'TRIM43', 'TRIM50', 'TRIM55', 'TRIM64EP', 'TRIM67', 'TRIM72', 'TRIM75P', 'TRIM80P', 'TRIML2', 'TRMT1P1', 'TRMT9B', 'TRO', 'TRPC3', 'TRPC4', 'TRPC7-AS1', 'TRPM2', 'TRPM3', 'TRPV2', 'TSHR', 'TSPAN2', 'TSPAN32', 'TSPEAR', 'TSPEAR-AS1', 'TSPEAR-AS2', 'TSPOAP1', 'TTBK1', 'TTC12-DT', 'TTC9-DT', 'TTLL10', 'TTLL6', 'TTLL8', 'TTR', 'TUBA3GP', 'TUBA4B', 'TUBAP11', 'TUBAP13', 'TUBAP4', 'TUBAP6', 'TUBB3P1', 'TUBB8P1', 'TUBB8P2', 'TUBBP2', 'TUBBP3', 'TUBBP6', 'TULP2', 'TUSC8', 'TWF1P2', 'TXN2P1', 'TXNDC8', 'TXNL4AP1', 'TYRO3P', 'UBA52P3', 'UBA7', 'UBAP1L', 'UBE2CP1', 'UBE2CP2', 'UBE2E1-AS1', 'UBE2E2-AS1', 'UBE2Q2L', 'UBE2R2-AS1', 'UBE2V1P1', 'UBE2V2P3', 'UBE2V2P4', 'UBE2WP1', 'UBE3AP2', 'UFM1P2', 'UFM1P3', 'UGT1A12P', 'UGT2B10', 'UICLM', 'ULK4P2', 'UMODL1-AS1', 'UNC13A', 'UNC13C', 'UNC80', 'UNC93B4', 'UNC93B6', 'UPB1', 'UPF3AP2', 'UPF3AP3', 'UPK3A', 'UQCR10P1', 'UQCRBP2', 'UROC1', 'USH1C', 'USH2A', 'USHBP1', 'USP12-AS2', 'USP12P1', 'USP12PY', 'USP32P3', 'USP44', 'USP8P2', 'VAMP9P', 'VANGL2', 'VAV1', 'VAX1', 'VCX', 'VCX3B', 'VDAC1P3', 'VDAC1P5', 'VDAC1P7', 'VDAC2P3', 'VEGFD', 'VEZTP1', 'VGLL1', 'VILL', 'VIT', 'VKORC1P1', 'VN1R110P', 'VN1R4', 'VN1R48P', 'VN1R82P', 'VN2R17P', 'VPREB3', 'VPS26BP1', 'VPS35P1', 'VSIG10L-AS1', 'VSIG2', 'VSIR', 'VSTM2L', 'VSTM4', 'VSX1', 'VTI1BP2', 'VTRNA1-1', 'VWA2', 'VWA3A', 'VWA8-AS1', 'WASIR1', 'WBP11P2', 'WBP11P3', 'WBP1P1', 'WBP1P2', 'WDR82P1', 'WDR87', 'WDR95P', 'WFDC10A', 'WFDC5', 'WFDC6', 'WFIKKN2', 'WHSC1L2P', 'WIPF3', 'WNT1', 'WNT10A', 'WNT16', 'WNT3A', 'WNT5A-AS1', 'WNT7A', 'WNT8B', 'WWC2-AS1', 'WWC2-AS2', 'WWOX-AS1', 'WWTR1-IT1', 'XAF1', 'XAGE2', 'XBP1P1', 'XCL1', 'XIAPP1', 'XKR7', 'XRCC6P3', 'XRCC6P5', 'YES1P1', 'YPEL4', 'YWHABP1', 'YWHAQP8', 'YWHAZP4', 'YWHAZP8', 'ZAP70', 'ZAR1L', 'ZBBX', 'ZBED9-AS1', 'ZBTB12BP', 'ZBTB20-AS3', 'ZBTB40-IT1', 'ZBTB45P2', 'ZBTB46-AS1', 'ZC3H11B', 'ZC3H12B', 'ZC3H12D', 'ZCCHC12', 'ZDHHC15', 'ZDHHC20-IT1', 'ZFP2', 'ZFP3-DT', 'ZFP37', 'ZFPM1-AS1', 'ZFPM2', 'ZFPM2-AS1', 'ZKSCAN7', 'ZKSCAN7-AS1', 'ZKSCAN8P1', 'ZMYND19P1', 'ZNF175', 'ZNF197-AS1', 'ZNF209P', 'ZNF22-AS1', 'ZNF280A', 'ZNF280B', 'ZNF285B', 'ZNF30-AS1', 'ZNF32-AS3', 'ZNF341-AS1', 'ZNF382', 'ZNF45-AS1', 'ZNF474', 'ZNF479', 'ZNF516-DT', 'ZNF521', 'ZNF534', 'ZNF536', 'ZNF542P', 'ZNF578', 'ZNF648', 'ZNF649', 'ZNF649-AS1', 'ZNF660', 'ZNF676', 'ZNF677', 'ZNF705E', 'ZNF716', 'ZNF725P', 'ZNF727', 'ZNF826P', 'ZNF831', 'ZNF90P1', 'ZNHIT1P1', 'ZNRF3-AS1', 'ZSCAN1', 'ZSCAN5B']\n"
     ]
    }
   ],
   "source": [
    "\n",
    "rows_removed = mcf7_smartS_raw.loc[~mcf7_smartS_raw.index.isin(mcf7_smartS_filt.index)]\n",
    "\n",
    "# Step 2: Compare Columns\n",
    "columns_removed = mcf7_smartS_raw.columns.difference(mcf7_smartS_filt.columns).tolist()\n",
    "\n",
    "\n",
    "# Display Results\n",
    "print(\"Rows Removed:\", len(rows_removed))\n",
    "print(\"Columns Removed:\", len(columns_removed))\n",
    "print(\"\\nColumns Removed:\")\n",
    "print(columns_removed)  # Display the removed columns\n"
   ]
  },
  {
   "cell_type": "markdown",
   "metadata": {},
   "source": [
    "By looking at some of those columns in the text file, we see that there is a common trend. It seems that these columns contain lots of zero values for the corresponding gene expression in the observation. So we try to verify the hypotesis that the removal of a column is due to a vertical sum along the column that is below a certain threshold.\n",
    "\n",
    "So we look at the smallest vertical sum among the non-removed columns, and at the highest among the removed ones. If the first is higher than the second, our hypothesis is correct, else, we need to make another try. "
   ]
  },
  {
   "cell_type": "code",
   "execution_count": 10,
   "metadata": {},
   "outputs": [
    {
     "data": {
      "text/plain": [
       "1530"
      ]
     },
     "execution_count": 10,
     "metadata": {},
     "output_type": "execute_result"
    }
   ],
   "source": [
    "mcf7_smartS_raw[columns_removed].sum(axis=0).max()"
   ]
  },
  {
   "cell_type": "code",
   "execution_count": 11,
   "metadata": {},
   "outputs": [
    {
     "data": {
      "text/plain": [
       "6"
      ]
     },
     "execution_count": 11,
     "metadata": {},
     "output_type": "execute_result"
    }
   ],
   "source": [
    "mcf7_smartS_filt.sum(axis=0).min()"
   ]
  },
  {
   "cell_type": "markdown",
   "metadata": {},
   "source": [
    "As 6 < 1530, our hypothesis was incorrect. Now we take a look at the non-removed columns that have 6 as vertical sum."
   ]
  },
  {
   "cell_type": "code",
   "execution_count": 12,
   "metadata": {},
   "outputs": [
    {
     "name": "stdout",
     "output_type": "stream",
     "text": [
      "Columns not rem where the sum is 6:\n",
      "['MIR6726', 'DYNLL1P3', 'NUTF2P4', 'HNRNPA1P43', 'RNU6-307P', 'NSA2P1', 'GAPDHP25', 'ATP1B3P1', 'RPL21P37', 'SUPT4H1P1', 'FUNDC2P2', 'ACTR1AP1', 'NPM1P32', 'IDI1P1', 'UBBP3', 'HMGB1P4', 'HMGB1P9', 'RNU6-268P', 'RNU7-18P', 'HNRNPA1P67', 'RNU6-469P', 'RACK1P3', 'BTF3P13', 'RPS26P28', 'RPS4XP6', 'PDCD5P2', 'MIR1244-2', 'SUMO2P6', 'COX11P1', 'ATP5PBP6', 'KATNBL1P6', 'PSMC1P2', 'TUBG1P', 'PMS2P11', 'TFDP1P2', 'RPS11P7', 'SDCBPP3', 'AP1M2P1', 'MKRN5P', 'NT5DC1P2', 'RAC1P4', 'MAPK6P4', 'BRIX1P1', 'GLTPP1', 'EIF4A2P3', 'MIR6753', 'RBMXP3', 'DDX18P5', 'PSME2P6', 'SDHCP2', 'RPL15P13', 'MFAP5', 'PSMC1P8', 'NACAP8', 'MIR6762', 'HNRNPA3P5', 'ZDHHC20P4', 'RPL7P44', 'RANBP20P', 'RPL12P6', 'COX5AP1', 'EIF2S2P1', 'ELOCP2', 'FDPSP4', 'PPIAP46', 'RPL21P116', 'RRN3P1', 'NDUFA5P11', 'RPS27AP1', 'KRT31', 'RPL21P4', 'RPS26P8', 'RNF126P1', 'MIR6787', 'WBP11P1', 'LIVAR', 'MIR7108', 'CEACAM8', 'ZNF415', 'ZNF665', 'VDAC1P6', 'U2AF1L5', 'GAPDHP14', 'PSMD4P1', 'MIR4760']\n"
     ]
    }
   ],
   "source": [
    "# Get the names of the columns not removed where the sum of the column values is 6\n",
    "columns_not_rem_with_sum_6 = mcf7_smartS_filt.columns[mcf7_smartS_filt.sum() == 6].tolist()\n",
    "\n",
    "# Display the column names\n",
    "print(\"Columns not rem where the sum is 6:\")\n",
    "print(columns_not_rem_with_sum_6)"
   ]
  },
  {
   "cell_type": "markdown",
   "metadata": {},
   "source": [
    "As we did before, we take a look at some of them and we notice that each of these contains exactly six 1s and the rest are zeros. \n",
    "At the same time, we take a look at some of the removed ones with sum 6, and we notice that there are always 5 or less non-zero numbers that contribute to the sum."
   ]
  },
  {
   "cell_type": "code",
   "execution_count": 13,
   "metadata": {},
   "outputs": [
    {
     "name": "stdout",
     "output_type": "stream",
     "text": [
      "Columns not removed where the sum is 6:\n",
      "['MIR6726', 'DYNLL1P3', 'NUTF2P4', 'HNRNPA1P43', 'RNU6-307P', 'ATP1B3P1', 'SUPT4H1P1', 'FUNDC2P2', 'ACTR1AP1', 'IDI1P1', 'HMGB1P4', 'HMGB1P9', 'RNU6-268P', 'RNU7-18P', 'HNRNPA1P67', 'RNU6-469P', 'BTF3P13', 'RPS26P28', 'RPS4XP6', 'PDCD5P2', 'MIR1244-2', 'COX11P1', 'ATP5PBP6', 'KATNBL1P6', 'PSMC1P2', 'TUBG1P', 'PMS2P11', 'TFDP1P2', 'RPS11P7', 'SDCBPP3', 'MKRN5P', 'NT5DC1P2', 'BRIX1P1', 'GLTPP1', 'EIF4A2P3', 'MIR6753', 'RBMXP3', 'DDX18P5', 'SDHCP2', 'RPL15P13', 'NACAP8', 'MIR6762', 'HNRNPA3P5', 'ZDHHC20P4', 'RPL7P44', 'RANBP20P', 'RPL12P6', 'COX5AP1', 'ELOCP2', 'FDPSP4', 'PPIAP46', 'RRN3P1', 'NDUFA5P11', 'RPS27AP1', 'RPL21P4', 'RNF126P1', 'MIR6787', 'WBP11P1', 'LIVAR', 'CEACAM8', 'ZNF415', 'VDAC1P6', 'U2AF1L5', 'GAPDHP14', 'MIR4760']\n",
      "Columns removed where the sum is 6:\n",
      "['ADCY10', 'ANKRD30A', 'ANKRD7', 'ATP2B2', 'ATP8A1-DT', 'B3GALT1-AS1', 'BCAP31P1', 'BCAR4', 'BLZF2P', 'C4B', 'C9orf57', 'CAMTA1-AS1', 'CCDC194', 'CCDC39-AS1', 'CCNYL4', 'CDCA4P4', 'CDHR5', 'CERNA3', 'CHRFAM7A', 'CHRNG', 'CLCN3P1', 'CLLU1', 'CNEP1R1P1', 'COL6A6', 'CORIN', 'CPP', 'CREB3L2-AS1', 'CRYBB2', 'CST11', 'DAOA-AS1', 'DBH', 'DDX10P2', 'DHDDS-AS1', 'DLL3', 'DNAJC8P1', 'DPP3P1', 'DUTP7', 'EEF1B2P7', 'EFS', 'EIF2S2P3', 'EIF4EP1', 'ELN', 'FAM90A1', 'FBXO36P1', 'FGL2', 'FREM2-AS1', 'FXYD2', 'GAPDHP51', 'GAPDHP76', 'GNG14', 'GPR45', 'GRM3', 'GRM6', 'HHLA2', 'HIGD1AP8', 'HIGD2AP1', 'HMGB1P16', 'HMGB1P26', 'HMGB1P7', 'HMGN2P23', 'HMGN2P27', 'HNRNPA3P11', 'HSPE1P6', 'HSPE1P7', 'IFT74-AS1', 'IGF2BP2-AS1', 'INGX', 'IRS4', 'ISCA1P1', 'ITPKB-IT1', 'KIF19', 'KPNA4P1', 'KRT79', 'LEMD1-DT', 'LIN28A', 'LINC00102', 'LINC00266-1', 'LINC00323', 'LINC00470', 'LINC01218', 'LINC01287', 'LINC01351', 'LINC01353', 'LINC01429', 'LINC01433', 'LINC01603', 'LINC01611', 'LINC01612', 'LINC01950', 'LINC02198', 'LINC02226', 'LINC02254', 'LINC02293', 'LINC02298', 'LINC02322', 'LINC02432', 'LINC02844', 'LINC02847', 'LINC02883', 'LPP-AS1', 'LRTM1', 'LSM3P4', 'MAGED4', 'MAGED4B', 'MAPK6P5', 'MCF2', 'MEDAG', 'MFSD13B', 'MIR2861', 'MIR3124', 'MIR3671', 'MIR378H', 'MIR3929', 'MIR4740', 'MIR6757', 'MIR6845', 'MIR6858', 'MIR744', 'MLLT10P1', 'MOGAT1', 'MORF4', 'MRPL36P1', 'MTATP6P11', 'MTIF2P1', 'MTND4P11', 'MTRNR2L1', 'MTUS2-AS1', 'NARF-IT1', 'NDUFB9P1', 'NEUROG2', 'NFYBP1', 'NSRP1P1', 'OGN', 'OR10AH1P', 'OR10H1', 'OR8B3', 'OTOP3', 'PAEP', 'PFN3', 'PHKA1-AS1', 'PKD1P2', 'PLA1A', 'PMS2P12', 'POU5F1P3', 'PSMC1P3', 'PTMAP1', 'RABGAP1L-AS1', 'RALBP1P1', 'RASSF3-DT', 'RBP2', 'RIMBP3C', 'RN7SKP114', 'RN7SL164P', 'RN7SL170P', 'RN7SL4P', 'RNA5SP343', 'RNA5SP477', 'RNF133', 'RNU4-47P', 'RNU5A-8P', 'RNU6-37P', 'RNU6-883P', 'RNVU1-22', 'RPL10P13', 'RPL10P2', 'RPL13AP3', 'RPL21P135', 'RPL21P34', 'RPL23AP23', 'RPL26P29', 'RPL26P6', 'RPL36AP39', 'RPL7AP3', 'RPL7L1P13', 'RPL7P36', 'RPL7P48', 'RPS26P13', 'RPS2P44', 'RPS3AP12', 'RPS4XP7', 'RSF1-IT1', 'SCARNA21B', 'SCN3B', 'SERF1A', 'SLC26A4', 'SLC2A9', 'SLCO2B1', 'SNORA23', 'SNORD125', 'SNORD42A', 'SNORD45A', 'STPG2', 'SUCLA2P3', 'TESC-AS1', 'THAP12P7', 'TMEM121B', 'TPM3P7', 'TPRG1-AS2', 'TRBV20OR9-2', 'UBE2Q2L', 'UBE2V2P4', 'UBE2WP1', 'VSIG10L-AS1', 'WWC2-AS1', 'ZBTB40-IT1', 'ZKSCAN7-AS1', 'ZKSCAN8P1', 'ZNF30-AS1']\n"
     ]
    }
   ],
   "source": [
    "\n",
    "# Identify Columns Removed\n",
    "columns_removed = mcf7_smartS_raw.columns.difference(mcf7_smartS_filt.columns)\n",
    "\n",
    "# Identify Columns Not Removed\n",
    "columns_not_removed = mcf7_smartS_raw.columns.intersection(mcf7_smartS_filt.columns)\n",
    "\n",
    "# Get the names of the columns not removed where the sum of the column values is 6\n",
    "columns_not_removed_with_sum_6 = columns_not_removed[mcf7_smartS_raw[columns_not_removed].sum() == 6].tolist()\n",
    "columns_removed_with_sum_6 = columns_removed[mcf7_smartS_raw[columns_removed].sum() == 6].tolist()\n",
    "\n",
    "# Display the column names\n",
    "print(\"Columns not removed where the sum is 6:\")\n",
    "print(columns_not_removed_with_sum_6)\n",
    "\n",
    "print(\"Columns removed where the sum is 6:\")\n",
    "print(columns_removed_with_sum_6)"
   ]
  },
  {
   "cell_type": "markdown",
   "metadata": {},
   "source": [
    "So this is our new hypotesis, if a column has 5 or less nonzero values, it gets deleted. We check if this is correct by looking at the intersection between the columns with more than 5 nonzero values in the raw dataset, and the columns of the filtered one. If the shape of this intersection matches the one of the latter, our hypotesis is correct."
   ]
  },
  {
   "cell_type": "code",
   "execution_count": 14,
   "metadata": {},
   "outputs": [
    {
     "name": "stdout",
     "output_type": "stream",
     "text": [
      "Is the hypothesis correct? True\n",
      "Shape of the filtered dataset: (313, 18945)\n",
      "Shape of the intersection dataset: (313, 18945)\n"
     ]
    }
   ],
   "source": [
    "# Count the number of non-zero values in each column in the raw dataset\n",
    "non_zero_counts_per_column = (mcf7_smartS_raw != 0).sum(axis=0)\n",
    "\n",
    "# Identify columns with more than 5 non-zero values\n",
    "columns_with_more_than_5_non_zeros = non_zero_counts_per_column[non_zero_counts_per_column > 5].index\n",
    "\n",
    "# Find the intersection of these columns with the columns of the filtered dataset\n",
    "common_columns = columns_with_more_than_5_non_zeros.intersection(mcf7_smartS_filt.columns)\n",
    "\n",
    "# Create a new DataFrame based on the intersection of columns\n",
    "df_inters = mcf7_smartS_filt[common_columns]\n",
    "\n",
    "# Compare the shapes\n",
    "is_hypothesis_correct = df_inters.shape[1] == mcf7_smartS_filt.shape[1]\n",
    "\n",
    "# Display the result\n",
    "print(\"Is the hypothesis correct?\", is_hypothesis_correct)\n",
    "print(\"Shape of the filtered dataset:\", mcf7_smartS_filt.shape)\n",
    "print(\"Shape of the intersection dataset:\", df_inters.shape)\n"
   ]
  },
  {
   "cell_type": "code",
   "execution_count": 57,
   "metadata": {},
   "outputs": [
    {
     "data": {
      "image/png": "[encoded data removed]",
      "text/plain": [
       "<Figure size 1000x600 with 1 Axes>"
      ]
     },
     "metadata": {},
     "output_type": "display_data"
    }
   ],
   "source": [
    "non_zero_counts_per_column = (mcf7_smartS_raw != 0).sum(axis=0)\n",
    "\n",
    "# Plot the histogram\n",
    "plt.figure(figsize=(10, 6))\n",
    "plt.hist(non_zero_counts_per_column, bins=50, edgecolor='black')\n",
    "plt.title('Histogram of Non-Zero Counts per Column in Raw Dataset')\n",
    "plt.xlabel('Number of Non-Zero Values per Column')\n",
    "plt.ylabel('Frequency')\n",
    "plt.grid(True)\n",
    "plt.show()"
   ]
  },
  {
   "cell_type": "code",
   "execution_count": 65,
   "metadata": {},
   "outputs": [
    {
     "name": "stderr",
     "output_type": "stream",
     "text": [
      "C:\\Users\\pizzzauiia\\AppData\\Local\\Temp\\ipykernel_9416\\2169171464.py:16: RuntimeWarning:\n",
      "\n",
      "invalid value encountered in divide\n",
      "\n"
     ]
    },
    {
     "data": {
      "image/png": "[encoded data removed]",
      "text/plain": [
       "<Figure size 1200x800 with 2 Axes>"
      ]
     },
     "metadata": {},
     "output_type": "display_data"
    }
   ],
   "source": [
    "\n",
    "# Count the number of non-zero values in each column for the raw and filtered datasets\n",
    "non_zero_counts_raw = (mcf7_smartS_raw != 0).sum(axis=0)\n",
    "non_zero_counts_filt = (mcf7_smartS_filt != 0).sum(axis=0)\n",
    "\n",
    "# Filter out columns with more than 30 non-zero values\n",
    "filtered_non_zero_counts_raw = non_zero_counts_raw[non_zero_counts_raw <= 30]\n",
    "\n",
    "# Identify columns removed\n",
    "removed_columns = set(non_zero_counts_raw.index) - set(non_zero_counts_filt.index)\n",
    "\n",
    "# Calculate histogram data for filtered raw dataset\n",
    "hist, bins = np.histogram(filtered_non_zero_counts_raw, bins=30, range=(0, 30))\n",
    "\n",
    "# Calculate the percentage of columns removed for each bin\n",
    "removed_counts_per_bin = np.histogram([non_zero_counts_raw[col] for col in removed_columns if non_zero_counts_raw[col] <= 30], bins=bins)[0]\n",
    "percentage_removed_per_bin = (removed_counts_per_bin / hist) * 100\n",
    "\n",
    "# Plot the histogram with colored bars\n",
    "plt.figure(figsize=(12, 8))\n",
    "\n",
    "# Normalize the percentages to [0, 1] range for colormap\n",
    "norm = plt.Normalize(0, 100)\n",
    "colors = plt.cm.viridis(norm(percentage_removed_per_bin))\n",
    "\n",
    "for i in range(len(hist)):\n",
    "    plt.bar(bins[i], hist[i], width=bins[i+1]-bins[i], color=colors[i], edgecolor='black', align='edge')\n",
    "\n",
    "cbar = plt.colorbar(plt.cm.ScalarMappable(norm=norm, cmap='viridis'), ax=plt.gca())\n",
    "cbar.set_label('% of columns removed')\n",
    "\n",
    "plt.title('Histogram of Non-Zero Counts per Column in Raw Dataset (Up to 30 Non-Zero Values)')\n",
    "plt.xlabel('Number of Non-Zero Values per Column')\n",
    "plt.ylabel('Frequency')\n",
    "plt.grid(True)\n",
    "plt.show()\n"
   ]
  },
  {
   "cell_type": "markdown",
   "metadata": {},
   "source": [
    "We see that every column with that characteristic was removed, because every column of the filtered dataset has that characteristic. But as we can see in the next cell code, there are still some columns that were removed but had more than 5 nonzero values."
   ]
  },
  {
   "cell_type": "code",
   "execution_count": 15,
   "metadata": {},
   "outputs": [
    {
     "name": "stdout",
     "output_type": "stream",
     "text": [
      "Number of columns with more than 5 non-zero values: 19182\n",
      "Columns remaining to check: 237\n"
     ]
    }
   ],
   "source": [
    "# Count the number of non-zero values in each column\n",
    "non_zero_counts = (mcf7_smartS_raw != 0).sum(axis=0)\n",
    "\n",
    "# Count columns with more than 5 non-zero values\n",
    "columns_with_more_than_5_non_zeros = (non_zero_counts > 5).sum()\n",
    "\n",
    "# Display the result\n",
    "print(\"Number of columns with more than 5 non-zero values:\", columns_with_more_than_5_non_zeros)\n",
    "print(\"Columns remaining to check:\",columns_with_more_than_5_non_zeros - mcf7_smartS_filt.shape[1])"
   ]
  },
  {
   "cell_type": "markdown",
   "metadata": {},
   "source": [
    "There are indeed 237 columns that were removed for other reasons. We now print their indexes and take a look at them."
   ]
  },
  {
   "cell_type": "code",
   "execution_count": 16,
   "metadata": {},
   "outputs": [
    {
     "name": "stdout",
     "output_type": "stream",
     "text": [
      "(237,)\n",
      "Columns removed with more than 5 non-zero values:\n",
      "['A2M' 'A2ML1' 'ABCC13' 'ABHD12B' 'ADIPOQ' 'ADM-DT' 'AJAP1' 'ALOX15P1'\n",
      " 'AMDHD1' 'AMPH' 'ANGPT4' 'ANKLE1' 'AOC1' 'AQP8' 'ARAP3' 'ARG1'\n",
      " 'ARHGEF18-AS1' 'ARL9' 'ASAP1-IT2' 'BACH1-AS1' 'BANK1' 'BATF2' 'BMS1P3'\n",
      " 'C17orf50' 'C3orf35' 'CA5A' 'CABP1' 'CACNA1A' 'CALD1' 'CCBE1' 'CCN3'\n",
      " 'CD70' 'CELF3' 'CELF4' 'CES3' 'CHMP4BP1' 'CHRNG' 'COLGALT2' 'CPB2-AS1'\n",
      " 'CPLX3' 'CUX2' 'CYP2F1' 'DAND5' 'DDC' 'DDR1-DT' 'DDX10P2' 'DHX58'\n",
      " 'DNAH12' 'DNAJC8P1' 'DPP3P1' 'ELMOD1' 'ENPP3' 'EPO' 'EPSTI1' 'EYS'\n",
      " 'FAM135A' 'FAM71F2' 'FER1L6' 'FER1L6-AS2' 'FEZF1-AS1' 'FNDC8' 'FST'\n",
      " 'FTH1P1' 'GAPDHP39' 'GOLGA8R' 'GOSR2-DT' 'GPR150' 'GZMM' 'H3P42' 'HHIP'\n",
      " 'HLA-DQA2' 'HLA-S' 'HMGA1P3' 'HMGB1P26' 'HMGN2P23' 'HMX3' 'HNRNPA1P35'\n",
      " 'HNRNPA3P9' 'HOXB-AS1' 'HSPB6' 'HSPE1P6' 'HSPE1P7' 'HTR2B' 'IGF2-AS'\n",
      " 'IGLL3P' 'IGLV1-51' 'IPCEF1' 'IQGAP2' 'ITGA1' 'ITGB7' 'ITIH4' 'KCNC1'\n",
      " 'KIF26B' 'KLF1' 'KLHL6' 'KLRG1' 'KRT37' 'LARP1P1' 'LCN2' 'LINC00310'\n",
      " 'LINC00572' 'LINC00661' 'LINC00964' 'LINC01224' 'LINC01456' 'LINC01863'\n",
      " 'LINC02009' 'LINC02014' 'LINC02035' 'LINC02137' 'LINC02169' 'LINC02895'\n",
      " 'LRAT' 'LRIG3-DT' 'LRRC15' 'LRRC43' 'MAMDC2-AS1' 'MAPK11' 'MCTP2'\n",
      " 'MIR2861' 'MIR3143' 'MIR3175' 'MIR3188' 'MIR4271' 'MIR4449' 'MIR503'\n",
      " 'MIR7161' 'MRPL23-AS1' 'MRRFP1' 'MSX2P1' 'MXRA8' 'MYO1A' 'NAPSB'\n",
      " 'NDUFA3P1' 'NFYBP1' 'NOVA2' 'NR1I2' 'NRXN3' 'NUTM2F' 'OR2A7' 'OR4F21'\n",
      " 'OR7E7P' 'OR8B5P' 'OR8B7P' 'P3H3' 'PADI1' 'PARP4P2' 'PCDHB5' 'PDPN'\n",
      " 'PEG10' 'PIWIL2' 'PKD1P2' 'PLAT' 'PNMA8B' 'PPARGC1A' 'PPIAP51' 'PRB2'\n",
      " 'PRSS30P' 'PSAT1' 'PTCHD4' 'PTMAP15' 'QRICH2' 'RALBP1P1' 'RBBP4P4' 'RBP5'\n",
      " 'RN7SKP36' 'RN7SL605P' 'RN7SL688P' 'RNA5SP18' 'RNA5SP392' 'RNA5SP440'\n",
      " 'RNA5SP477' 'RNU1-1' 'RNVU1-21' 'RP1L1' 'RPL12P33' 'RPL21P131' 'RPL21P34'\n",
      " 'RPL23AP10' 'RPL23AP73' 'RPL26P6' 'RPL32P2' 'RPL4P2' 'RPL5P5' 'RPL7P36'\n",
      " 'RPL7P52' 'RPL8P1' 'RPS7P11' 'RRAD' 'S100A7' 'SEC14L5' 'SERPINA4'\n",
      " 'SH3TC1' 'SHD' 'SLC34A3' 'SLC7A2-IT1' 'SLC7A9' 'SLC9C2' 'SNAP91' 'SNCAIP'\n",
      " 'SNORA68B' 'SNORD3B-2' 'SNORD98' 'SNTG1' 'SOHLH2' 'SPATA46' 'SPOCK2'\n",
      " 'STAB2' 'SYT2' 'TAL2' 'TAS2R43' 'TCF7L1-IT1' 'TEX38' 'THSD4-AS1' 'TIGD4'\n",
      " 'TIMP4' 'TLR9' 'TMEM47' 'TMEM88' 'TNNC1' 'TRAV27' 'TRIM17' 'TRIM72'\n",
      " 'TRMT1P1' 'TRPM3' 'TSPEAR' 'TSPEAR-AS2' 'TUSC8' 'TYRO3P' 'UBE2CP2' 'VAV1'\n",
      " 'VILL' 'VTRNA1-1' 'VWA2' 'WIPF3' 'WWC2-AS2' 'XAGE2']\n"
     ]
    }
   ],
   "source": [
    "\n",
    "# Identify Columns Not Removed\n",
    "columns_not_removed = mcf7_smartS_raw.columns.intersection(mcf7_smartS_filt.columns)\n",
    "\n",
    "# Count the number of non-zero values in each column in the raw dataset\n",
    "non_zero_counts = (mcf7_smartS_raw != 0).sum(axis=0)\n",
    "\n",
    "# Identify columns with more than 5 non-zero values\n",
    "columns_with_more_than_5_non_zeros = non_zero_counts[non_zero_counts > 5].index\n",
    "\n",
    "\n",
    "# Find columns that meet both criteria\n",
    "diff_df = columns_with_more_than_5_non_zeros.difference(columns_not_removed)\n",
    "\n",
    "print(diff_df.shape)\n",
    "\n",
    "np.set_printoptions(threshold=np.inf)\n",
    "\n",
    "# Extract the sub-dataset containing these columns\n",
    "sub_dataset = mcf7_smartS_raw[diff_df]\n",
    "\n",
    "# Generate and display the description of the sub-dataset\n",
    "sub_dataset_description = sub_dataset.describe()\n",
    "\n",
    "# Display the resulting columns\n",
    "print(\"Columns removed with more than 5 non-zero values:\")\n",
    "print(diff_df.to_numpy())\n",
    "\n",
    "# Display the description of the sub-dataset\n",
    "# print(sub_dataset_description)\n",
    "#print(sub_dataset)\n"
   ]
  },
  {
   "cell_type": "markdown",
   "metadata": {},
   "source": [
    "By looking at some of them, we noticed that they have very sparse columns. Since the filtered dataset had 70 rows less than the raw one, it is possible that the procedure explained before was performed after the removal of the rows. Hence that the removal of the rows had happend before the one of the columns. The following code checks that"
   ]
  },
  {
   "cell_type": "code",
   "execution_count": 17,
   "metadata": {},
   "outputs": [
    {
     "name": "stdout",
     "output_type": "stream",
     "text": [
      "Columns that were removed and had more than 5 non-zero values originally:\n",
      "['A2M' 'A2ML1' 'ABCC13' 'ABHD12B' 'ADIPOQ' 'ADM-DT' 'AJAP1' 'ALOX15P1'\n",
      " 'AMDHD1' 'AMPH' 'ANGPT4' 'ANKLE1' 'AOC1' 'AQP8' 'ARAP3' 'ARG1'\n",
      " 'ARHGEF18-AS1' 'ARL9' 'ASAP1-IT2' 'BACH1-AS1' 'BANK1' 'BATF2' 'BMS1P3'\n",
      " 'C17orf50' 'C3orf35' 'CA5A' 'CABP1' 'CACNA1A' 'CALD1' 'CCBE1' 'CCN3'\n",
      " 'CD70' 'CELF3' 'CELF4' 'CES3' 'CHMP4BP1' 'CHRNG' 'COLGALT2' 'CPB2-AS1'\n",
      " 'CPLX3' 'CUX2' 'CYP2F1' 'DAND5' 'DDC' 'DDR1-DT' 'DDX10P2' 'DHX58'\n",
      " 'DNAH12' 'DNAJC8P1' 'DPP3P1' 'ELMOD1' 'ENPP3' 'EPO' 'EPSTI1' 'EYS'\n",
      " 'FAM135A' 'FAM71F2' 'FER1L6' 'FER1L6-AS2' 'FEZF1-AS1' 'FNDC8' 'FST'\n",
      " 'FTH1P1' 'GAPDHP39' 'GOLGA8R' 'GOSR2-DT' 'GPR150' 'GZMM' 'H3P42' 'HHIP'\n",
      " 'HLA-DQA2' 'HLA-S' 'HMGA1P3' 'HMGB1P26' 'HMGN2P23' 'HMX3' 'HNRNPA1P35'\n",
      " 'HNRNPA3P9' 'HOXB-AS1' 'HSPB6' 'HSPE1P6' 'HSPE1P7' 'HTR2B' 'IGF2-AS'\n",
      " 'IGLL3P' 'IGLV1-51' 'IPCEF1' 'IQGAP2' 'ITGA1' 'ITGB7' 'ITIH4' 'KCNC1'\n",
      " 'KIF26B' 'KLF1' 'KLHL6' 'KLRG1' 'KRT37' 'LARP1P1' 'LCN2' 'LINC00310'\n",
      " 'LINC00572' 'LINC00661' 'LINC00964' 'LINC01224' 'LINC01456' 'LINC01863'\n",
      " 'LINC02009' 'LINC02014' 'LINC02035' 'LINC02137' 'LINC02169' 'LINC02895'\n",
      " 'LRAT' 'LRIG3-DT' 'LRRC15' 'LRRC43' 'MAMDC2-AS1' 'MAPK11' 'MCTP2'\n",
      " 'MIR2861' 'MIR3143' 'MIR3175' 'MIR3188' 'MIR4271' 'MIR4449' 'MIR503'\n",
      " 'MIR7161' 'MRPL23-AS1' 'MRRFP1' 'MSX2P1' 'MXRA8' 'MYO1A' 'NAPSB'\n",
      " 'NDUFA3P1' 'NFYBP1' 'NOVA2' 'NR1I2' 'NRXN3' 'NUTM2F' 'OR2A7' 'OR4F21'\n",
      " 'OR7E7P' 'OR8B5P' 'OR8B7P' 'P3H3' 'PADI1' 'PARP4P2' 'PCDHB5' 'PDPN'\n",
      " 'PEG10' 'PIWIL2' 'PKD1P2' 'PLAT' 'PNMA8B' 'PPARGC1A' 'PPIAP51' 'PRB2'\n",
      " 'PRSS30P' 'PSAT1' 'PTCHD4' 'PTMAP15' 'QRICH2' 'RALBP1P1' 'RBBP4P4' 'RBP5'\n",
      " 'RN7SKP36' 'RN7SL605P' 'RN7SL688P' 'RNA5SP18' 'RNA5SP392' 'RNA5SP440'\n",
      " 'RNA5SP477' 'RNU1-1' 'RNVU1-21' 'RP1L1' 'RPL12P33' 'RPL21P131' 'RPL21P34'\n",
      " 'RPL23AP10' 'RPL23AP73' 'RPL26P6' 'RPL32P2' 'RPL4P2' 'RPL5P5' 'RPL7P36'\n",
      " 'RPL7P52' 'RPL8P1' 'RPS7P11' 'RRAD' 'S100A7' 'SEC14L5' 'SERPINA4'\n",
      " 'SH3TC1' 'SHD' 'SLC34A3' 'SLC7A2-IT1' 'SLC7A9' 'SLC9C2' 'SNAP91' 'SNCAIP'\n",
      " 'SNORA68B' 'SNORD3B-2' 'SNORD98' 'SNTG1' 'SOHLH2' 'SPATA46' 'SPOCK2'\n",
      " 'STAB2' 'SYT2' 'TAL2' 'TAS2R43' 'TCF7L1-IT1' 'TEX38' 'THSD4-AS1' 'TIGD4'\n",
      " 'TIMP4' 'TLR9' 'TMEM47' 'TMEM88' 'TNNC1' 'TRAV27' 'TRIM17' 'TRIM72'\n",
      " 'TRMT1P1' 'TRPM3' 'TSPEAR' 'TSPEAR-AS2' 'TUSC8' 'TYRO3P' 'UBE2CP2' 'VAV1'\n",
      " 'VILL' 'VTRNA1-1' 'VWA2' 'WIPF3' 'WWC2-AS2' 'XAGE2']\n",
      "Columns from above that have less than or equal to 5 non-zero values after row removal:\n",
      "['A2M' 'A2ML1' 'ABCC13' 'ABHD12B' 'ADIPOQ' 'ADM-DT' 'AJAP1' 'ALOX15P1'\n",
      " 'AMDHD1' 'AMPH' 'ANGPT4' 'ANKLE1' 'AOC1' 'AQP8' 'ARAP3' 'ARG1'\n",
      " 'ARHGEF18-AS1' 'ARL9' 'ASAP1-IT2' 'BACH1-AS1' 'BANK1' 'BATF2' 'BMS1P3'\n",
      " 'C17orf50' 'C3orf35' 'CA5A' 'CABP1' 'CACNA1A' 'CALD1' 'CCBE1' 'CCN3'\n",
      " 'CD70' 'CELF3' 'CELF4' 'CES3' 'CHMP4BP1' 'CHRNG' 'COLGALT2' 'CPB2-AS1'\n",
      " 'CPLX3' 'CUX2' 'CYP2F1' 'DAND5' 'DDC' 'DDR1-DT' 'DDX10P2' 'DHX58'\n",
      " 'DNAH12' 'DNAJC8P1' 'DPP3P1' 'ELMOD1' 'ENPP3' 'EPO' 'EPSTI1' 'EYS'\n",
      " 'FAM135A' 'FAM71F2' 'FER1L6' 'FER1L6-AS2' 'FEZF1-AS1' 'FNDC8' 'FST'\n",
      " 'FTH1P1' 'GAPDHP39' 'GOLGA8R' 'GOSR2-DT' 'GPR150' 'GZMM' 'H3P42' 'HHIP'\n",
      " 'HLA-DQA2' 'HLA-S' 'HMGA1P3' 'HMGB1P26' 'HMGN2P23' 'HMX3' 'HNRNPA1P35'\n",
      " 'HNRNPA3P9' 'HOXB-AS1' 'HSPB6' 'HSPE1P6' 'HSPE1P7' 'HTR2B' 'IGF2-AS'\n",
      " 'IGLL3P' 'IGLV1-51' 'IPCEF1' 'IQGAP2' 'ITGA1' 'ITGB7' 'ITIH4' 'KCNC1'\n",
      " 'KIF26B' 'KLF1' 'KLHL6' 'KLRG1' 'KRT37' 'LARP1P1' 'LCN2' 'LINC00310'\n",
      " 'LINC00572' 'LINC00661' 'LINC00964' 'LINC01224' 'LINC01456' 'LINC01863'\n",
      " 'LINC02009' 'LINC02014' 'LINC02035' 'LINC02137' 'LINC02169' 'LINC02895'\n",
      " 'LRAT' 'LRIG3-DT' 'LRRC15' 'LRRC43' 'MAMDC2-AS1' 'MAPK11' 'MCTP2'\n",
      " 'MIR2861' 'MIR3143' 'MIR3175' 'MIR3188' 'MIR4271' 'MIR4449' 'MIR503'\n",
      " 'MIR7161' 'MRPL23-AS1' 'MRRFP1' 'MSX2P1' 'MXRA8' 'MYO1A' 'NAPSB'\n",
      " 'NDUFA3P1' 'NFYBP1' 'NOVA2' 'NR1I2' 'NRXN3' 'NUTM2F' 'OR2A7' 'OR4F21'\n",
      " 'OR7E7P' 'OR8B5P' 'OR8B7P' 'P3H3' 'PADI1' 'PARP4P2' 'PCDHB5' 'PDPN'\n",
      " 'PEG10' 'PIWIL2' 'PKD1P2' 'PLAT' 'PNMA8B' 'PPARGC1A' 'PPIAP51' 'PRB2'\n",
      " 'PRSS30P' 'PSAT1' 'PTCHD4' 'PTMAP15' 'QRICH2' 'RALBP1P1' 'RBBP4P4' 'RBP5'\n",
      " 'RN7SKP36' 'RN7SL605P' 'RN7SL688P' 'RNA5SP18' 'RNA5SP392' 'RNA5SP440'\n",
      " 'RNA5SP477' 'RNU1-1' 'RNVU1-21' 'RP1L1' 'RPL12P33' 'RPL21P131' 'RPL21P34'\n",
      " 'RPL23AP10' 'RPL23AP73' 'RPL26P6' 'RPL32P2' 'RPL4P2' 'RPL5P5' 'RPL7P36'\n",
      " 'RPL7P52' 'RPL8P1' 'RPS7P11' 'RRAD' 'S100A7' 'SEC14L5' 'SERPINA4'\n",
      " 'SH3TC1' 'SHD' 'SLC34A3' 'SLC7A2-IT1' 'SLC7A9' 'SLC9C2' 'SNAP91' 'SNCAIP'\n",
      " 'SNORA68B' 'SNORD3B-2' 'SNORD98' 'SNTG1' 'SOHLH2' 'SPATA46' 'SPOCK2'\n",
      " 'STAB2' 'SYT2' 'TAL2' 'TAS2R43' 'TCF7L1-IT1' 'TEX38' 'THSD4-AS1' 'TIGD4'\n",
      " 'TIMP4' 'TLR9' 'TMEM47' 'TMEM88' 'TNNC1' 'TRAV27' 'TRIM17' 'TRIM72'\n",
      " 'TRMT1P1' 'TRPM3' 'TSPEAR' 'TSPEAR-AS2' 'TUSC8' 'TYRO3P' 'UBE2CP2' 'VAV1'\n",
      " 'VILL' 'VTRNA1-1' 'VWA2' 'WIPF3' 'WWC2-AS2' 'XAGE2']\n",
      "Is the hypothesis correct? True\n"
     ]
    }
   ],
   "source": [
    "\n",
    "# Identify rows that were removed\n",
    "removed_rows = mcf7_smartS_raw.index.difference(mcf7_smartS_filt.index)\n",
    "\n",
    "# Create a new version of the raw dataset with those rows removed\n",
    "raw_without_removed_rows = mcf7_smartS_raw.drop(index=removed_rows)\n",
    "\n",
    "# Count the number of non-zero values in each column of the new dataset\n",
    "non_zero_counts_after_row_removal = (raw_without_removed_rows != 0).sum(axis=0)\n",
    "\n",
    "# Identify columns that had more than 5 non-zero values in the original raw dataset\n",
    "non_zero_counts_original = (mcf7_smartS_raw != 0).sum(axis=0)\n",
    "columns_with_more_than_5_non_zeros_original = non_zero_counts_original[non_zero_counts_original > 5].index\n",
    "\n",
    "# Identify columns with more than 5 non-zero values in the new dataset (after row removal)\n",
    "columns_with_more_than_5_non_zeros_after_row_removal = non_zero_counts_after_row_removal[non_zero_counts_after_row_removal > 5].index\n",
    "\n",
    "# Find columns that were removed but had more than 5 non-zero values in the original dataset\n",
    "diff_df = columns_with_more_than_5_non_zeros_original.difference(mcf7_smartS_filt.columns)\n",
    "\n",
    "# Check which of these columns have less than or equal to 5 non-zero values after row removal\n",
    "columns_with_less_or_equal_5_after_row_removal = non_zero_counts_after_row_removal[diff_df]\n",
    "columns_removed_due_to_row_removal = columns_with_less_or_equal_5_after_row_removal[columns_with_less_or_equal_5_after_row_removal <= 5].index\n",
    "\n",
    "# Display the result\n",
    "print(\"Columns that were removed and had more than 5 non-zero values originally:\")\n",
    "print(diff_df.to_numpy())\n",
    "\n",
    "print(\"Columns from above that have less than or equal to 5 non-zero values after row removal:\")\n",
    "print(columns_removed_due_to_row_removal.to_numpy())\n",
    "\n",
    "# Validate hypothesis\n",
    "hypothesis_correct = (diff_df.to_numpy().tolist() == columns_removed_due_to_row_removal.to_numpy().tolist())\n",
    "print(\"Is the hypothesis correct?\", hypothesis_correct)\n"
   ]
  },
  {
   "cell_type": "markdown",
   "metadata": {},
   "source": [
    "As we can see, this is the case. Now we need to understand how were those 70 rows removed."
   ]
  },
  {
   "cell_type": "code",
   "execution_count": 18,
   "metadata": {},
   "outputs": [
    {
     "name": "stdout",
     "output_type": "stream",
     "text": [
      "Indexes of the removed rows:\n",
      "['output.STAR.1_A11_Hypo_S29_Aligned.sortedByCoord.out.bam'\n",
      " 'output.STAR.1_A1_Norm_S1_Aligned.sortedByCoord.out.bam'\n",
      " 'output.STAR.1_A7_Hypo_S25_Aligned.sortedByCoord.out.bam'\n",
      " 'output.STAR.1_A8_Hypo_S26_Aligned.sortedByCoord.out.bam'\n",
      " 'output.STAR.1_A9_Hypo_S27_Aligned.sortedByCoord.out.bam'\n",
      " 'output.STAR.1_B10_Hypo_S76_Aligned.sortedByCoord.out.bam'\n",
      " 'output.STAR.1_B1_Norm_S49_Aligned.sortedByCoord.out.bam'\n",
      " 'output.STAR.1_B2_Norm_S50_Aligned.sortedByCoord.out.bam'\n",
      " 'output.STAR.1_B3_Norm_S51_Aligned.sortedByCoord.out.bam'\n",
      " 'output.STAR.1_B9_Hypo_S75_Aligned.sortedByCoord.out.bam'\n",
      " 'output.STAR.1_C3_Norm_S99_Aligned.sortedByCoord.out.bam'\n",
      " 'output.STAR.1_C7_Hypo_S121_Aligned.sortedByCoord.out.bam'\n",
      " 'output.STAR.1_C8_Hypo_S122_Aligned.sortedByCoord.out.bam'\n",
      " 'output.STAR.1_C9_Hypo_S123_Aligned.sortedByCoord.out.bam'\n",
      " 'output.STAR.1_D10_Hypo_S172_Aligned.sortedByCoord.out.bam'\n",
      " 'output.STAR.1_D12_Hypo_S174_Aligned.sortedByCoord.out.bam'\n",
      " 'output.STAR.1_D1_Norm_S145_Aligned.sortedByCoord.out.bam'\n",
      " 'output.STAR.1_D2_Norm_S146_Aligned.sortedByCoord.out.bam'\n",
      " 'output.STAR.1_D3_Norm_S147_Aligned.sortedByCoord.out.bam'\n",
      " 'output.STAR.1_D6_Norm_S150_Aligned.sortedByCoord.out.bam'\n",
      " 'output.STAR.1_D8_Hypo_S170_Aligned.sortedByCoord.out.bam'\n",
      " 'output.STAR.1_E10_Hypo_S220_Aligned.sortedByCoord.out.bam'\n",
      " 'output.STAR.1_E1_Norm_S193_Aligned.sortedByCoord.out.bam'\n",
      " 'output.STAR.1_E4_Norm_S196_Aligned.sortedByCoord.out.bam'\n",
      " 'output.STAR.1_E5_Norm_S197_Aligned.sortedByCoord.out.bam'\n",
      " 'output.STAR.1_E6_Norm_S198_Aligned.sortedByCoord.out.bam'\n",
      " 'output.STAR.1_E7_Hypo_S217_Aligned.sortedByCoord.out.bam'\n",
      " 'output.STAR.1_E8_Hypo_S218_Aligned.sortedByCoord.out.bam'\n",
      " 'output.STAR.1_E9_Hypo_S219_Aligned.sortedByCoord.out.bam'\n",
      " 'output.STAR.1_F10_Hypo_S268_Aligned.sortedByCoord.out.bam'\n",
      " 'output.STAR.1_F1_Norm_S241_Aligned.sortedByCoord.out.bam'\n",
      " 'output.STAR.1_F2_Norm_S242_Aligned.sortedByCoord.out.bam'\n",
      " 'output.STAR.1_F7_Hypo_S265_Aligned.sortedByCoord.out.bam'\n",
      " 'output.STAR.1_F8_Hypo_S266_Aligned.sortedByCoord.out.bam'\n",
      " 'output.STAR.1_G11_Hypo_S317_Aligned.sortedByCoord.out.bam'\n",
      " 'output.STAR.1_G12_Hypo_S318_Aligned.sortedByCoord.out.bam'\n",
      " 'output.STAR.1_G1_Norm_S289_Aligned.sortedByCoord.out.bam'\n",
      " 'output.STAR.1_G2_Norm_S290_Aligned.sortedByCoord.out.bam'\n",
      " 'output.STAR.1_G3_Norm_S291_Aligned.sortedByCoord.out.bam'\n",
      " 'output.STAR.1_G4_Norm_S292_Aligned.sortedByCoord.out.bam'\n",
      " 'output.STAR.1_G5_Norm_S293_Aligned.sortedByCoord.out.bam'\n",
      " 'output.STAR.1_G7_Hypo_S313_Aligned.sortedByCoord.out.bam'\n",
      " 'output.STAR.1_G9_Hypo_S315_Aligned.sortedByCoord.out.bam'\n",
      " 'output.STAR.1_H1_Norm_S337_Aligned.sortedByCoord.out.bam'\n",
      " 'output.STAR.1_H2_Norm_S338_Aligned.sortedByCoord.out.bam'\n",
      " 'output.STAR.1_H3_Norm_S339_Aligned.sortedByCoord.out.bam'\n",
      " 'output.STAR.1_H5_Norm_S341_Aligned.sortedByCoord.out.bam'\n",
      " 'output.STAR.1_H7_Hypo_S361_Aligned.sortedByCoord.out.bam'\n",
      " 'output.STAR.1_H8_Hypo_S362_Aligned.sortedByCoord.out.bam'\n",
      " 'output.STAR.2_A8_Hypo_S32_Aligned.sortedByCoord.out.bam'\n",
      " 'output.STAR.2_B8_Hypo_S80_Aligned.sortedByCoord.out.bam'\n",
      " 'output.STAR.2_C12_Hypo_S132_Aligned.sortedByCoord.out.bam'\n",
      " 'output.STAR.2_C7_Hypo_S127_Aligned.sortedByCoord.out.bam'\n",
      " 'output.STAR.2_D5_Norm_S155_Aligned.sortedByCoord.out.bam'\n",
      " 'output.STAR.2_D6_Norm_S156_Aligned.sortedByCoord.out.bam'\n",
      " 'output.STAR.2_D8_Hypo_S176_Aligned.sortedByCoord.out.bam'\n",
      " 'output.STAR.2_H12_Hypo_S372_Aligned.sortedByCoord.out.bam'\n",
      " 'output.STAR.3_A6_Norm_S18_Aligned.sortedByCoord.out.bam'\n",
      " 'output.STAR.3_D3_Norm_S159_Aligned.sortedByCoord.out.bam'\n",
      " 'output.STAR.3_D4_Norm_S160_Aligned.sortedByCoord.out.bam'\n",
      " 'output.STAR.3_E10_Hypo_S232_Aligned.sortedByCoord.out.bam'\n",
      " 'output.STAR.3_E3_Norm_S207_Aligned.sortedByCoord.out.bam'\n",
      " 'output.STAR.3_E7_Hypo_S229_Aligned.sortedByCoord.out.bam'\n",
      " 'output.STAR.3_F11_Hypo_S281_Aligned.sortedByCoord.out.bam'\n",
      " 'output.STAR.3_G3_Norm_S303_Aligned.sortedByCoord.out.bam'\n",
      " 'output.STAR.3_H7_Hypo_S373_Aligned.sortedByCoord.out.bam'\n",
      " 'output.STAR.4_A12_Hypo_S48_Aligned.sortedByCoord.out.bam'\n",
      " 'output.STAR.4_A3_Norm_S21_Aligned.sortedByCoord.out.bam'\n",
      " 'output.STAR.4_A5_Norm_S23_Aligned.sortedByCoord.out.bam'\n",
      " 'output.STAR.4_H2_Norm_S356_Aligned.sortedByCoord.out.bam']\n"
     ]
    }
   ],
   "source": [
    "# Identify rows that were removed\n",
    "removed_rows = mcf7_smartS_raw.index.difference(mcf7_smartS_filt.index)\n",
    "\n",
    "# Print the indexes of the removed rows\n",
    "print(\"Indexes of the removed rows:\")\n",
    "print(removed_rows.to_numpy())\n"
   ]
  },
  {
   "cell_type": "code",
   "execution_count": 19,
   "metadata": {},
   "outputs": [
    {
     "name": "stdout",
     "output_type": "stream",
     "text": [
      "Sum of inputs in each row for the removed rows:\n",
      "[    281   23499   51389   22704   87386 2287165  131367  128171  208267\n",
      "     129  160882  103751  127574    9790  239896  564282  152337  170166\n",
      "   77094    7366      19   73412     242   45972  110173   94119   69725\n",
      "  106668  180121     157   96688   98198   38467   28803   76280      13\n",
      "    4701  174355   78657  114469     887   22769  122182       1   14645\n",
      "   99079      22    2267    6013 2069263     113 2162257 2308057    6201\n",
      " 1196909      36   36673  871703    1519    8773     153     422      30\n",
      "  595098  817482    8941   70269 1302612    6572  795636]\n"
     ]
    }
   ],
   "source": [
    "\n",
    "# Identify rows that were removed\n",
    "removed_rows = mcf7_smartS_raw.index.difference(mcf7_smartS_filt.index)\n",
    "\n",
    "# Select the removed rows from the raw dataset\n",
    "removed_rows_data = mcf7_smartS_raw.loc[removed_rows]\n",
    "\n",
    "# Calculate the sum of inputs in each row for the removed rows\n",
    "removed_rows_sum = removed_rows_data.sum(axis=1)\n",
    "\n",
    "# Print the sums of the removed rows\n",
    "print(\"Sum of inputs in each row for the removed rows:\")\n",
    "print(removed_rows_sum.to_numpy())\n"
   ]
  },
  {
   "cell_type": "code",
   "execution_count": 20,
   "metadata": {},
   "outputs": [
    {
     "name": "stdout",
     "output_type": "stream",
     "text": [
      "Sum of inputs in each row for the filtered dataset:\n",
      "[ 936059 1982038  333237 1289120 1728927 1439437 1545461 1616084  940724\n",
      "  310372 1559136 1298616  388450 1106482  776727 1427685 1533968  293995\n",
      "  534204  285546 1521105 1429833  943291  461056 1099121  760684  451975\n",
      "  761218 1416180  263343  773248  266752 1375304  268894  644286 1229842\n",
      " 1775947  819236  470831  374756  805460 1393651 1244028 1505568  382918\n",
      " 1265938  659712 1822649 1265845 1801662 1606844 1590490 1164751  923967\n",
      " 1385844 1509423 1563203 1916212 1354593 1853247 1852260 1190040 1085533\n",
      " 1604592 1550826 1717389 1090990  985759 1043203 1734426 1840082 1374320\n",
      " 1639861 1770634 1580080 1473480 1666952 1352802 1470531  957652 1814330\n",
      " 1666022 1414220 1255645 1547154 1625442  432363 1045592 1618615 1724182\n",
      " 1970851  334200  318188 1559445 1504638 1472393 1469857 1665543 1904769\n",
      " 1488396  897753  973800 1617331 1365857 1570662 1679923 1605773 1610803\n",
      " 1661102 1361039 1391606 1446626 1232708  862168  604070  597671 1754394\n",
      "  586647 1023252 1528301 1152291  395258  969601  801889 1150345  737923\n",
      " 1121534  941622  460337  738815  540128  820774 1286781 1640128  880121\n",
      " 1100908 1196173  831204 1477846 1335107 1138703  880717 1448642 1267482\n",
      "  992260 1679921 1618257 1841265 1295372 1275954 1077724 1236127 1366138\n",
      " 1598341  894364 1165569 1322541 1094702 1369930 1312896 1660689 1479510\n",
      " 1223336 1352957 1373170 1388948 1150208 1416183 1215789  970425  684833\n",
      "  759529 1199011 1172282 1253455 1208862  538747 1172862 1160724 1197397\n",
      " 1475243 1512865 1239687 1395594 1152008 1348894 1064211 1460374  951145\n",
      " 1312825 1154922 1269838 1582007 1444696 1554215 1302773 1409423 1247056\n",
      " 1468534 1143801 1323606  565637 1010695 1696338 1317662 1616154 1258186\n",
      " 1132566 1019332 1003615  599648 1728782 1179187  511824  852145  827499\n",
      "  291717  284718  834803  628443 1407404 1547951  889903 1005687 1094334\n",
      " 1457470 1169193  797834 1165453 1183302 1217141  851910  747801  702410\n",
      " 1272578 1320595 1240464 1340859 1554593 1057669 1258499 1764771 1566365\n",
      " 1172218 1265924 1330796 1508876 1484096 1092343 1504418 1302736  590475\n",
      " 1243768 1405557 1142866  937238  645635 1136917  744686 1287640  526593\n",
      " 1141619  770561 1014363  668583 1361542  811558 1209120  729317  493262\n",
      "  991158 1124044  850931 1340002  861230  809225 1157888 1701875 1145808\n",
      "  400876 1035567  813655 1498552 1489903  863506  847787 1223991 1075034\n",
      "  725385 1246074  626930  778930  537960 1120067 1034745 1306899 1207377\n",
      " 1153555 1131144 1057536  759770  985002  914531 1036507  398163  964682\n",
      "  750648  504319  399721 1128848 1411162 1565900 1441364]\n"
     ]
    }
   ],
   "source": [
    "\n",
    "\n",
    "# Calculate the sum of inputs in each row for the filtered dataset\n",
    "filtered_rows_sum = mcf7_smartS_filt.sum(axis=1)\n",
    "\n",
    "# Print the sums of the rows present in the filtered dataset\n",
    "print(\"Sum of inputs in each row for the filtered dataset:\")\n",
    "print(filtered_rows_sum.to_numpy())\n",
    "\n"
   ]
  },
  {
   "cell_type": "code",
   "execution_count": 21,
   "metadata": {},
   "outputs": [
    {
     "name": "stdout",
     "output_type": "stream",
     "text": [
      "Number of nonzero values for each row in the removed ones:\n",
      "[  188  4739  6549  4594  5945  9307  8829  8571  8153    58  9010  7997\n",
      "  7856  3105  8567  2778  8614  8956  7757  3166     7  6379   199  6663\n",
      "  8022  8390  6242  7438  7573   132  8143  8090  5148  5013  6625    13\n",
      "  2200  8035  6863  8380   574  4617  7389     1  3976  7598    22  1120\n",
      "  2195  8362    86  6745  6932  2620 12519    33  5260 12504  1025  3321\n",
      "    98    97    27  2636  3953  2979  3744  9619  3577  1975]\n"
     ]
    }
   ],
   "source": [
    "# Identify rows that were removed\n",
    "removed_rows = mcf7_smartS_raw.index.difference(mcf7_smartS_filt.index)\n",
    "\n",
    "# Select the removed rows from the raw dataset\n",
    "removed_rows_data = mcf7_smartS_raw.loc[removed_rows]\n",
    "\n",
    "# Compute the number of nonzero values in each row for the removed rows\n",
    "removed_rows_nonzero_count = (removed_rows_data != 0).sum(axis=1)\n",
    "\n",
    "# Print the number of nonzero values for each row in the removed ones\n",
    "print(\"Number of nonzero values for each row in the removed ones:\")\n",
    "print(removed_rows_nonzero_count.to_numpy())\n"
   ]
  },
  {
   "cell_type": "code",
   "execution_count": 22,
   "metadata": {},
   "outputs": [
    {
     "name": "stdout",
     "output_type": "stream",
     "text": [
      "Number of nonzero values for each row in the non-removed ones:\n",
      "[ 8664  6433 10007  9778 10598 11663 10584  9623 10546  8863 10892 11254\n",
      "  9066 10324  7986  9791 10020  9846  9571  8436  9349 10597  9717 10436\n",
      " 10031  9516  7478 10085 10648  9533  9758  8161  8872  8855 10131 11050\n",
      " 10709 10160  7938  9073  7768  9971  8940  8900  9810 10663  9029  8905\n",
      "  9586  7481 10478 10641 11779 11243 11027 10919  9796  8277  7017  9014\n",
      "  8257 11294 11780 10282 10686 10124 12217  9689 10303  9451  8936 11108\n",
      " 11910 10425 10995 11196 11040 10748 10840 10953 10629 10208 11432 11822\n",
      " 10539  9661  9136  8308  9605 10067  8471  9218  9601 11042  9818 11102\n",
      " 10486  8916  8869 10231 11052 10698  5527 11868 10391 10889 10740 10093\n",
      "  9980 10203 10384  8963 10253  8199  9866 10617 10209  9224 11420 11125\n",
      " 11918  8432  9865  8482  9780 10697 10015  9851 10339 10890 11805 11342\n",
      "  6416 10738  9165  9978  8959  8846 10392 11060 10761 11985  9515 10650\n",
      " 10264  7807 10150  7051  5974 11312 11407 10598 10711 10519 11767 10033\n",
      " 10516  9061  9264  9698  7858 11612 11662 10620 10265  9290 11437  9219\n",
      " 10186  9792  5322 11294  8000 11445 11310 10650 11342 10827  8681  7876\n",
      "  9444 10127 11460 10029 11251  9984 10905  8538 10963  9209 10772 11882\n",
      " 10476 10033 10690 11351 11482 10728  7523  7882  6305 10067 10821 10192\n",
      " 10904  9939 10869 11309  8965  8529 10015  9285 11199  9496 11081 10770\n",
      " 10616 10998 10372 10650  9073  8952  8145  8273 11341 10504 11488 11720\n",
      " 10128  9220 10308  9737 10529 10230 10685 11092 10768 11097 10659 11660\n",
      " 10956  8220  7453  9443  9635  9551 10765 11265 11671 11122 10875 10499\n",
      " 10429 10126 10434  9763  9691  9155 10061 11122 11479 10233 12026 11030\n",
      "  8431  6920  7047  8419  9970 10561 11592 10839 11887  9769 11599 11989\n",
      "  9147  8792  9373  9161  9321  8731 10886 10644 12068 10445 11076 11896\n",
      " 10303 10554  9065  8163 10078  7859 11638 10636 11082 10177 10843 11201\n",
      " 10825  6601  9675  9082 10181 10849  9708  9436  9698  9254  9458  9785\n",
      "  9922]\n",
      "5322\n"
     ]
    }
   ],
   "source": [
    "\n",
    "\n",
    "# Compute the number of nonzero values in each row for the non-removed rows\n",
    "non_removed_rows_nonzero_count = (mcf7_smartS_filt != 0).sum(axis=1)\n",
    "\n",
    "# Print the number of nonzero values for each row in the non-removed ones\n",
    "print(\"Number of nonzero values for each row in the non-removed ones:\")\n",
    "print(non_removed_rows_nonzero_count.to_numpy())\n",
    "\n",
    "print(min(non_removed_rows_nonzero_count))\n"
   ]
  },
  {
   "cell_type": "code",
   "execution_count": 23,
   "metadata": {},
   "outputs": [
    {
     "name": "stdout",
     "output_type": "stream",
     "text": [
      "Final filtered dataset shape: (347, 19081)\n",
      "                                                    WASH7P  MIR6859-1  WASH9P  \\\n",
      "output.STAR.1_A10_Hypo_S28_Aligned.sortedByCoor...       0          0       1   \n",
      "output.STAR.1_A12_Hypo_S30_Aligned.sortedByCoor...       0          0       0   \n",
      "output.STAR.1_A2_Norm_S2_Aligned.sortedByCoord....       0          0       0   \n",
      "output.STAR.1_A3_Norm_S3_Aligned.sortedByCoord....       0          0       1   \n",
      "output.STAR.1_A4_Norm_S4_Aligned.sortedByCoord....       0          0      10   \n",
      "\n",
      "                                                    OR4F29  MTND1P23  \\\n",
      "output.STAR.1_A10_Hypo_S28_Aligned.sortedByCoor...       0         0   \n",
      "output.STAR.1_A12_Hypo_S30_Aligned.sortedByCoor...       0         0   \n",
      "output.STAR.1_A2_Norm_S2_Aligned.sortedByCoord....       0         0   \n",
      "output.STAR.1_A3_Norm_S3_Aligned.sortedByCoord....       0         0   \n",
      "output.STAR.1_A4_Norm_S4_Aligned.sortedByCoord....       0         0   \n",
      "\n",
      "                                                    MTND2P28  MTCO1P12  \\\n",
      "output.STAR.1_A10_Hypo_S28_Aligned.sortedByCoor...         2         2   \n",
      "output.STAR.1_A12_Hypo_S30_Aligned.sortedByCoor...         1         1   \n",
      "output.STAR.1_A2_Norm_S2_Aligned.sortedByCoord....         0         0   \n",
      "output.STAR.1_A3_Norm_S3_Aligned.sortedByCoord....         1         3   \n",
      "output.STAR.1_A4_Norm_S4_Aligned.sortedByCoord....         3        10   \n",
      "\n",
      "                                                    MTCO2P12  MTATP8P1  \\\n",
      "output.STAR.1_A10_Hypo_S28_Aligned.sortedByCoor...         0         0   \n",
      "output.STAR.1_A12_Hypo_S30_Aligned.sortedByCoor...         1         0   \n",
      "output.STAR.1_A2_Norm_S2_Aligned.sortedByCoord....         0         0   \n",
      "output.STAR.1_A3_Norm_S3_Aligned.sortedByCoord....         0         0   \n",
      "output.STAR.1_A4_Norm_S4_Aligned.sortedByCoord....         1         0   \n",
      "\n",
      "                                                    MTATP6P1  ...  MT-TH  \\\n",
      "output.STAR.1_A10_Hypo_S28_Aligned.sortedByCoor...        29  ...      0   \n",
      "output.STAR.1_A12_Hypo_S30_Aligned.sortedByCoor...        12  ...      0   \n",
      "output.STAR.1_A2_Norm_S2_Aligned.sortedByCoord....        68  ...      0   \n",
      "output.STAR.1_A3_Norm_S3_Aligned.sortedByCoord....       203  ...      1   \n",
      "output.STAR.1_A4_Norm_S4_Aligned.sortedByCoord....       691  ...      1   \n",
      "\n",
      "                                                    MT-TS2  MT-TL2  MT-ND5  \\\n",
      "output.STAR.1_A10_Hypo_S28_Aligned.sortedByCoor...       0       0     505   \n",
      "output.STAR.1_A12_Hypo_S30_Aligned.sortedByCoor...       0       0       1   \n",
      "output.STAR.1_A2_Norm_S2_Aligned.sortedByCoord....       0       0     237   \n",
      "output.STAR.1_A3_Norm_S3_Aligned.sortedByCoord....       0       0     894   \n",
      "output.STAR.1_A4_Norm_S4_Aligned.sortedByCoord....       0       3    1279   \n",
      "\n",
      "                                                    MT-ND6  MT-TE  MT-CYB  \\\n",
      "output.STAR.1_A10_Hypo_S28_Aligned.sortedByCoor...     147      4     270   \n",
      "output.STAR.1_A12_Hypo_S30_Aligned.sortedByCoor...       0      0      76   \n",
      "output.STAR.1_A2_Norm_S2_Aligned.sortedByCoord....      31      3     727   \n",
      "output.STAR.1_A3_Norm_S3_Aligned.sortedByCoord....     113      3    2717   \n",
      "output.STAR.1_A4_Norm_S4_Aligned.sortedByCoord....     131      0    9326   \n",
      "\n",
      "                                                    MT-TT  MT-TP  MAFIP  \n",
      "output.STAR.1_A10_Hypo_S28_Aligned.sortedByCoor...      0      5      8  \n",
      "output.STAR.1_A12_Hypo_S30_Aligned.sortedByCoor...      0      0      0  \n",
      "output.STAR.1_A2_Norm_S2_Aligned.sortedByCoord....      0      0      0  \n",
      "output.STAR.1_A3_Norm_S3_Aligned.sortedByCoord....      1      1      0  \n",
      "output.STAR.1_A4_Norm_S4_Aligned.sortedByCoord....      1      1      0  \n",
      "\n",
      "[5 rows x 19081 columns]\n"
     ]
    }
   ],
   "source": [
    "def filter_columns(df, min_nonzero=5):\n",
    "    \"\"\"Remove columns with less than or equal to `min_nonzero` nonzero values.\"\"\"\n",
    "    non_zero_counts = (df != 0).sum(axis=0)\n",
    "    filtered_df = df.loc[:, non_zero_counts > min_nonzero]\n",
    "    return filtered_df\n",
    "\n",
    "def filter_rows(df, min_nonzero=5321):\n",
    "    \"\"\"Remove rows with less than `min_nonzero` nonzero values.\"\"\"\n",
    "    non_zero_counts = (df != 0).sum(axis=1)\n",
    "    filtered_df = df.loc[non_zero_counts >= min_nonzero, :]\n",
    "    return filtered_df\n",
    "\n",
    "def iterative_filtering(df, column_threshold=5, row_threshold=5321):\n",
    "    \"\"\"Iteratively filter the dataset based on column and row nonzero counts.\"\"\"\n",
    "    previous_shape = None\n",
    "    \n",
    "    while df.shape != previous_shape:\n",
    "        previous_shape = df.shape\n",
    "        df = filter_columns(df, column_threshold)\n",
    "        df = filter_rows(df, row_threshold)\n",
    "    \n",
    "    return df\n",
    "\n",
    "# Apply iterative filtering\n",
    "filtered_dataset = iterative_filtering(mcf7_smartS_raw)\n",
    "\n",
    "# Save the final filtered dataset to a new CSV file (optional)\n",
    "filtered_dataset.to_csv('filtered_dataset.csv', index=False)\n",
    "\n",
    "# Print the shape of the final filtered dataset\n",
    "print(\"Final filtered dataset shape:\", filtered_dataset.shape)\n",
    "\n",
    "# Display the first few rows of the final filtered dataset\n",
    "print(filtered_dataset.head())\n"
   ]
  },
  {
   "cell_type": "code",
   "execution_count": 24,
   "metadata": {},
   "outputs": [
    {
     "name": "stdout",
     "output_type": "stream",
     "text": [
      "Number of nonzero values for each row in the non-removed ones:\n",
      "[ 8676   188  6448  4739 10019  9796 10648 11690 10618  6549  4594  5945\n",
      "  9307  9646 10581  8829  8571  8153  8871 10922 11283  9082 10371    58\n",
      "  8007  9822 10051  9864  9585  9010  8448  9371 10637  7997  7856  3105\n",
      "  8567  9737  2778  8614  8956  7757 10467 10053  3166  9533     7  7481\n",
      "  6379 10105 10703   199  9543  9776  6663  8022  8390  6242  7438  7573\n",
      "   132  8179  8909  8143  8090  8865 10167 11093 10743  5148  5013 10194\n",
      "  7952  6625    13  2200  8035  6863  8380   574  9086  4617  7792  7389\n",
      "  9999  8962  8927     1  3976  7598  9829    22 10703  1120  2195  9044\n",
      "  8945  9622  7508 10526 10694 11832 11265 11065 10940  9838  8362  8308\n",
      "  7068  9052  8281 11347 11812 10326 10730 10147 12260  9712    86 10337\n",
      "  9492  8961  6745 11143 11968 10457 11043 11229 11095  6932 10784 10892\n",
      " 10989 10673 10242 11483 11884 10584  9699  2620 12519  9154    33  8328\n",
      "  9634 10111  8520  9234  9623 11087  9860 11130 10547  8948  8906 10265\n",
      " 11088 10742  5551 11913 10451 10942 10773 10123 10024 10223 10428  8998\n",
      " 10283  8224  9893 10651 10242  9265 11474 11185 11968  8446  9907  8520\n",
      "  9820 10735  5260 10050  9886 10354 10934 11829 11387  6448 10813  9187\n",
      " 10003  8986  8870 10435 11103 10794 12028  9542 12504 10724 10295  7833\n",
      " 10191  7074  6011 11359 11441 10652 10770 10558 11801 10064 10565  9087\n",
      "  9365  9721  7885 11656 11704 10659 10307  9333 11501  9244 10226  9818\n",
      "  5358 11332  8022 11486 11341  1025  3321 10681 11372 10869  8702  7897\n",
      "    98  9506 10172 11497 10062    97 11303 10028 10937    27  8571 10995\n",
      "  9230  2636 10821 11925 10519 10068 10739 11389 11546 10759  7547  7914\n",
      "  6333 10102 10851 10262 10944  3953  9972 10912 11347  8992  8561 10034\n",
      "  9326 11258  9525 11121 10812 10645 11034 10396 10687  2979  9103  8994\n",
      "  8184  8292  3744 11384 10532  9619 11523  3577 11774 10165  9245 10355\n",
      "  9776 10561 10254 10727 11145 10828 11139 10726 11695 11002  8238  7488\n",
      "  9480  9662  9585 10810 11325 11727 11169 10909 10607 10446 10170 10467\n",
      "  9795  9744  9171 10083 11166 11525 10263 12073 11066  8452  6942  7059\n",
      "  8461 10009 10585 11664 10881 11925  9798 11638 12040  9162  8826  9399\n",
      "  9195  9355  8769 10934 10715 12106 10463 11121 11982 10331 10590  9094\n",
      "  8181 10120  7878 11686 10657 11125 10209 10886 11238 10855  6651  9704\n",
      "  9100 10205 10890  1975  9725  9459  9774  9303  9485  9807  9949]\n"
     ]
    }
   ],
   "source": [
    "# Compute the number of nonzero values in each row for the non-removed rows\n",
    "non_removed_rows_nonzero_count = (mcf7_smartS_raw != 0).sum(axis=1)\n",
    "\n",
    "# Print the number of nonzero values for each row in the non-removed ones\n",
    "print(\"Number of nonzero values for each row in the non-removed ones:\")\n",
    "print(non_removed_rows_nonzero_count.to_numpy())"
   ]
  },
  {
   "cell_type": "code",
   "execution_count": 25,
   "metadata": {},
   "outputs": [
    {
     "name": "stdout",
     "output_type": "stream",
     "text": [
      "Duplicated rows in the raw dataset:\n",
      "Empty DataFrame\n",
      "Columns: [WASH7P, MIR6859-1, WASH9P, OR4F29, MTND1P23, MTND2P28, MTCO1P12, MTCO2P12, MTATP8P1, MTATP6P1, MTCO3P12, OR4F16, CICP3, LINC01409, FAM87B, LINC01128, LINC00115, LINC02593, SAMD11, NOC2L, KLHL17, PLEKHN1, PERM1, HES4, ISG15, AGRN, RNF223, C1orf159, MIR429, TTLL10, TNFRSF18, SDF4, B3GALT6, C1QTNF12, UBE2J2, LINC01786, SCNN1D, ACAP3, MIR6726, PUSL1, INTS11, MIR6727, CPTP, TAS1R3, DVL1, MIR6808, MXRA8, AURKAIP1, CCNL2, MRPL20-AS1, MRPL20, RN7SL657P, MRPL20-DT, LINC01770, VWA1, ATAD3C, ATAD3B, ATAD3A, SSU72, FNDC10, MIB2, CDK11B, SLC35E2B, MMP23A, CDK11A, SLC35E2A, NADK, GNB1, CALML6, TMEM52, CFAP74, GABRD, PRKCZ, PRKCZ-AS1, FAAP20, SKI, MORN1, RER1, PEX10, PLCH2, PANK4, TNFRSF14, PRXL2B, MMEL1, PRDM16-DT, PRDM16, ARHGEF16, MEGF6, TPRG1L, WRAP73, TP73, TP73-AS3, TP73-AS1, CCDC27, SMIM1, LRRC47, RN7SL574P, CEP104, DFFB, C1orf174, ...]\n",
      "Index: []\n",
      "\n",
      "[0 rows x 22934 columns]\n"
     ]
    }
   ],
   "source": [
    "\n",
    "\n",
    "# Identify duplicated rows\n",
    "duplicated_rows = mcf7_smartS_raw[mcf7_smartS_raw.duplicated()]\n",
    "\n",
    "# Print the duplicated rows\n",
    "print(\"Duplicated rows in the raw dataset:\")\n",
    "print(duplicated_rows)\n"
   ]
  },
  {
   "cell_type": "code",
   "execution_count": 26,
   "metadata": {},
   "outputs": [
    {
     "name": "stdout",
     "output_type": "stream",
     "text": [
      "Duplicated columns in the raw dataset:\n",
      "Index(['KLF2P3', 'UGT1A9', 'SLC22A14', 'COQ10BP2', 'LAP3P2', 'GALNT17', 'PON1',\n",
      "       'MIR664B', 'KCNS2', 'MIR548D1', 'STRA6LP', 'MUC6', 'LINC00595',\n",
      "       'CACYBPP1', 'KNOP1P1', 'WDR95P', 'MIR19B1', 'RNU6-539P', 'SNURF',\n",
      "       'RBFOX1', 'ASPA', 'BCL6B', 'CCL3L1', 'OTOP3', 'RNA5SP450', 'PSG1',\n",
      "       'MIR3191', 'SEZ6L', 'ADAMTS5'],\n",
      "      dtype='object')\n"
     ]
    }
   ],
   "source": [
    "\n",
    "# Transpose the dataset to treat columns as rows\n",
    "transposed_raw = mcf7_smartS_raw.T\n",
    "\n",
    "# Identify duplicated columns (now treated as rows)\n",
    "duplicated_columns = transposed_raw[transposed_raw.duplicated()]\n",
    "\n",
    "# Get the original names of the duplicated columns\n",
    "duplicated_column_names = duplicated_columns.index\n",
    "\n",
    "# Print the duplicated columns\n",
    "print(\"Duplicated columns in the raw dataset:\")\n",
    "print(duplicated_column_names)\n"
   ]
  },
  {
   "cell_type": "code",
   "execution_count": 27,
   "metadata": {},
   "outputs": [
    {
     "name": "stdout",
     "output_type": "stream",
     "text": [
      "Duplicated columns in the filt dataset:\n",
      "Index(['UGT1A9', 'LAP3P2', 'STRA6LP', 'LINC00595', 'CCL3L1'], dtype='object')\n"
     ]
    }
   ],
   "source": [
    "# Transpose the dataset to treat columns as rows\n",
    "transposed_filt = mcf7_smartS_filt.T\n",
    "\n",
    "# Identify duplicated columns (now treated as rows)\n",
    "duplicated_columns = transposed_filt[transposed_filt.duplicated()]\n",
    "\n",
    "# Get the original names of the duplicated columns\n",
    "duplicated_column_names = duplicated_columns.index\n",
    "\n",
    "# Print the duplicated columns\n",
    "print(\"Duplicated columns in the filt dataset:\")\n",
    "print(duplicated_column_names)"
   ]
  },
  {
   "cell_type": "code",
   "execution_count": 28,
   "metadata": {},
   "outputs": [
    {
     "name": "stdout",
     "output_type": "stream",
     "text": [
      "Number of rows with strictly less than 6 non-zero values: 70\n",
      "First few rows with strictly less than 6 non-zero values:\n"
     ]
    }
   ],
   "source": [
    "\n",
    "# Count the number of non-zero values in each row\n",
    "non_zero_counts_per_row = (mcf7_smartS_raw != 0).sum(axis=1)\n",
    "\n",
    "# Identify rows with strictly less than 6 non-zero values\n",
    "rows_with_less_than_6_non_zeros = mcf7_smartS_raw[non_zero_counts_per_row < 7895]\n",
    "\n",
    "# Display the result\n",
    "print(\"Number of rows with strictly less than 6 non-zero values:\", rows_with_less_than_6_non_zeros.shape[0])\n",
    "print(\"First few rows with strictly less than 6 non-zero values:\")\n",
    "#print(rows_with_less_than_6_non_zeros.head())\n"
   ]
  },
  {
   "cell_type": "code",
   "execution_count": 29,
   "metadata": {},
   "outputs": [
    {
     "name": "stdout",
     "output_type": "stream",
     "text": [
      "70\n",
      "Number of rows with strictly less than 6 non-zero values that were also removed: 51\n",
      "First few rows in the intersection:\n",
      "                                                    WASH7P  MIR6859-1  WASH9P  \\\n",
      "output.STAR.1_A11_Hypo_S29_Aligned.sortedByCoor...       0          0       0   \n",
      "output.STAR.1_A1_Norm_S1_Aligned.sortedByCoord....       0          0       0   \n",
      "output.STAR.1_A7_Hypo_S25_Aligned.sortedByCoord...       0          0       0   \n",
      "output.STAR.1_A8_Hypo_S26_Aligned.sortedByCoord...       0          0       0   \n",
      "output.STAR.1_A9_Hypo_S27_Aligned.sortedByCoord...       0          0       0   \n",
      "\n",
      "                                                    OR4F29  MTND1P23  \\\n",
      "output.STAR.1_A11_Hypo_S29_Aligned.sortedByCoor...       0         0   \n",
      "output.STAR.1_A1_Norm_S1_Aligned.sortedByCoord....       0         0   \n",
      "output.STAR.1_A7_Hypo_S25_Aligned.sortedByCoord...       0         0   \n",
      "output.STAR.1_A8_Hypo_S26_Aligned.sortedByCoord...       0         0   \n",
      "output.STAR.1_A9_Hypo_S27_Aligned.sortedByCoord...       0         0   \n",
      "\n",
      "                                                    MTND2P28  MTCO1P12  \\\n",
      "output.STAR.1_A11_Hypo_S29_Aligned.sortedByCoor...         0         0   \n",
      "output.STAR.1_A1_Norm_S1_Aligned.sortedByCoord....         0         0   \n",
      "output.STAR.1_A7_Hypo_S25_Aligned.sortedByCoord...         0         0   \n",
      "output.STAR.1_A8_Hypo_S26_Aligned.sortedByCoord...         0         0   \n",
      "output.STAR.1_A9_Hypo_S27_Aligned.sortedByCoord...         0         0   \n",
      "\n",
      "                                                    MTCO2P12  MTATP8P1  \\\n",
      "output.STAR.1_A11_Hypo_S29_Aligned.sortedByCoor...         0         0   \n",
      "output.STAR.1_A1_Norm_S1_Aligned.sortedByCoord....         0         0   \n",
      "output.STAR.1_A7_Hypo_S25_Aligned.sortedByCoord...         0         0   \n",
      "output.STAR.1_A8_Hypo_S26_Aligned.sortedByCoord...         0         0   \n",
      "output.STAR.1_A9_Hypo_S27_Aligned.sortedByCoord...         0         0   \n",
      "\n",
      "                                                    MTATP6P1  ...  MT-TH  \\\n",
      "output.STAR.1_A11_Hypo_S29_Aligned.sortedByCoor...         0  ...      1   \n",
      "output.STAR.1_A1_Norm_S1_Aligned.sortedByCoord....         7  ...      1   \n",
      "output.STAR.1_A7_Hypo_S25_Aligned.sortedByCoord...         4  ...      0   \n",
      "output.STAR.1_A8_Hypo_S26_Aligned.sortedByCoord...         0  ...      0   \n",
      "output.STAR.1_A9_Hypo_S27_Aligned.sortedByCoord...         9  ...      0   \n",
      "\n",
      "                                                    MT-TS2  MT-TL2  MT-ND5  \\\n",
      "output.STAR.1_A11_Hypo_S29_Aligned.sortedByCoor...       1       0       1   \n",
      "output.STAR.1_A1_Norm_S1_Aligned.sortedByCoord....       0       0      44   \n",
      "output.STAR.1_A7_Hypo_S25_Aligned.sortedByCoord...       0       0      37   \n",
      "output.STAR.1_A8_Hypo_S26_Aligned.sortedByCoord...       0       0       3   \n",
      "output.STAR.1_A9_Hypo_S27_Aligned.sortedByCoord...       0       0      52   \n",
      "\n",
      "                                                    MT-ND6  MT-TE  MT-CYB  \\\n",
      "output.STAR.1_A11_Hypo_S29_Aligned.sortedByCoor...       0      0       1   \n",
      "output.STAR.1_A1_Norm_S1_Aligned.sortedByCoord....       8      0      66   \n",
      "output.STAR.1_A7_Hypo_S25_Aligned.sortedByCoord...      12      1      30   \n",
      "output.STAR.1_A8_Hypo_S26_Aligned.sortedByCoord...       2      0       1   \n",
      "output.STAR.1_A9_Hypo_S27_Aligned.sortedByCoord...      11      2      56   \n",
      "\n",
      "                                                    MT-TT  MT-TP  MAFIP  \n",
      "output.STAR.1_A11_Hypo_S29_Aligned.sortedByCoor...      0      0      0  \n",
      "output.STAR.1_A1_Norm_S1_Aligned.sortedByCoord....      0      1      0  \n",
      "output.STAR.1_A7_Hypo_S25_Aligned.sortedByCoord...      0      0      0  \n",
      "output.STAR.1_A8_Hypo_S26_Aligned.sortedByCoord...      0      0      0  \n",
      "output.STAR.1_A9_Hypo_S27_Aligned.sortedByCoord...      0      1      0  \n",
      "\n",
      "[5 rows x 22934 columns]\n"
     ]
    }
   ],
   "source": [
    "\n",
    "# Identify Rows Removed\n",
    "rows_removed = mcf7_smartS_raw.loc[~mcf7_smartS_raw.index.isin(mcf7_smartS_filt.index)]\n",
    "\n",
    "# Count the number of non-zero values in each row in the raw dataset\n",
    "non_zero_counts_per_row = (mcf7_smartS_raw != 0).sum(axis=1)\n",
    "\n",
    "# Identify rows with strictly less than 6 non-zero values\n",
    "rows_with_less_than_6_non_zeros = mcf7_smartS_raw[non_zero_counts_per_row < 7895]\n",
    "\n",
    "print(len(rows_with_less_than_6_non_zeros))\n",
    "\n",
    "# Find the intersection of these rows with the rows removed\n",
    "intersection_rows = rows_with_less_than_6_non_zeros.index.intersection(rows_removed.index)\n",
    "\n",
    "# Display the result\n",
    "print(\"Number of rows with strictly less than 6 non-zero values that were also removed:\", len(intersection_rows))\n",
    "print(\"First few rows in the intersection:\")\n",
    "print(mcf7_smartS_raw.loc[intersection_rows].head())\n"
   ]
  },
  {
   "cell_type": "code",
   "execution_count": 30,
   "metadata": {},
   "outputs": [
    {
     "data": {
      "text/plain": [
       "count    3.830000e+02\n",
       "mean     9.946119e+05\n",
       "std      5.503732e+05\n",
       "min      1.000000e+00\n",
       "25%      5.987505e+05\n",
       "50%      1.129334e+06\n",
       "75%      1.408638e+06\n",
       "max      2.308057e+06\n",
       "dtype: float64"
      ]
     },
     "execution_count": 30,
     "metadata": {},
     "output_type": "execute_result"
    }
   ],
   "source": [
    "non_zero_counts_per_row = (mcf7_smartS_raw != 0).sum(axis=1)\n",
    "pierino = (mcf7_smartS_raw).sum(axis=1)\n",
    "\n",
    "pierino.describe()\n"
   ]
  },
  {
   "cell_type": "code",
   "execution_count": 31,
   "metadata": {},
   "outputs": [
    {
     "data": {
      "text/plain": [
       "count      383.000000\n",
       "mean      9124.219321\n",
       "std       2693.309249\n",
       "min          1.000000\n",
       "25%       8456.500000\n",
       "50%       9907.000000\n",
       "75%      10789.000000\n",
       "max      12519.000000\n",
       "dtype: float64"
      ]
     },
     "execution_count": 31,
     "metadata": {},
     "output_type": "execute_result"
    }
   ],
   "source": [
    "non_zero_counts_per_row.describe()"
   ]
  },
  {
   "cell_type": "code",
   "execution_count": null,
   "metadata": {},
   "outputs": [],
   "source": []
  },
  {
   "cell_type": "markdown",
   "metadata": {},
   "source": [
    "### Now we need to understand the passage from the filtered dataset to the filtered and normalized one, that is the normalization process"
   ]
  },
  {
   "cell_type": "code",
   "execution_count": 32,
   "metadata": {},
   "outputs": [
    {
     "name": "stdout",
     "output_type": "stream",
     "text": [
      "Rows Removed: 63\n",
      "Columns Removed: 15945\n",
      "\n",
      "Columns Removed:\n",
      "['A1BG', 'A1BG-AS1', 'AAAS', 'AACS', 'AADAT', 'AAGAB', 'AAK1', 'AAMDC', 'AAMP', 'AAR2', 'AARD', 'AARSD1', 'AARSD1P1', 'AASDH', 'AASDHPPT', 'AASS', 'AATF', 'AATK', 'ABALON', 'ABCA10', 'ABCA11P', 'ABCA17P', 'ABCA5', 'ABCB10', 'ABCB7', 'ABCB9', 'ABCC11', 'ABCC4', 'ABCC6', 'ABCC6P1', 'ABCC6P2', 'ABCD3', 'ABCD4', 'ABCE1', 'ABCF1', 'ABCF2', 'ABCF2-H2BE1', 'ABCF2P1', 'ABCF3', 'ABCG8', 'ABHD1', 'ABHD10', 'ABHD11', 'ABHD11-AS1', 'ABHD12', 'ABHD13', 'ABHD14A', 'ABHD14B', 'ABHD15', 'ABHD15-AS1', 'ABHD16A', 'ABHD16B', 'ABHD17A', 'ABHD17AP1', 'ABHD17AP3', 'ABHD17B', 'ABHD17C', 'ABHD18', 'ABHD2', 'ABHD3', 'ABHD5', 'ABHD6', 'ABHD8', 'ABI1', 'ABI2', 'ABITRAM', 'ABL1', 'ABL2', 'ABLIM2', 'ABR', 'ABRACL', 'ABRAXAS1', 'ABRAXAS2', 'ABT1', 'ABTB1', 'ABTB2', 'ACAA1', 'ACACA', 'ACAD10', 'ACAD11', 'ACAD8', 'ACAD9', 'ACADL', 'ACADM', 'ACADS', 'ACADSB', 'ACADVL', 'ACAP1', 'ACAP2', 'ACAP3', 'ACAT1', 'ACBD3', 'ACBD3-AS1', 'ACBD4', 'ACBD5', 'ACBD6', 'ACBD7', 'ACCS', 'ACD', 'ACER2', 'ACER3', 'ACIN1', 'ACKR2', 'ACKR4', 'ACMSD', 'ACO1', 'ACO2', 'ACOT1', 'ACOT13', 'ACOT2', 'ACOT4', 'ACOT6', 'ACOT8', 'ACOT9', 'ACOX1', 'ACOX3', 'ACOXL', 'ACP1', 'ACP2', 'ACP3', 'ACP6', 'ACSBG1', 'ACSBG2', 'ACSF2', 'ACSF3', 'ACSL3', 'ACSL3-AS1', 'ACSL4', 'ACSM3', 'ACSM6', 'ACSS2', 'ACSS3', 'ACTA1', 'ACTA2-AS1', 'ACTB', 'ACTBP1', 'ACTBP11', 'ACTBP12', 'ACTBP14', 'ACTBP15', 'ACTBP2', 'ACTBP7', 'ACTBP8', 'ACTBP9', 'ACTC1', 'ACTG1P1', 'ACTG1P10', 'ACTG1P12', 'ACTG1P14', 'ACTG1P15', 'ACTG1P17', 'ACTG1P18', 'ACTG1P19', 'ACTG1P20', 'ACTG1P21', 'ACTG1P23', 'ACTG1P24', 'ACTG1P3', 'ACTG1P4', 'ACTG1P9', 'ACTL6A', 'ACTN1-DT', 'ACTN4', 'ACTN4P1', 'ACTR10', 'ACTR1A', 'ACTR1AP1', 'ACTR1B', 'ACTR2', 'ACTR3', 'ACTR3B', 'ACTR3C', 'ACTR3P2', 'ACTR5', 'ACTR6', 'ACTR8', 'ACTRT3', 'ACVR1', 'ACVR1B', 'ACVR1C', 'ACVR2A', 'ACVR2B', 'ACVR2B-AS1', 'ACYP1', 'ACYP2', 'ADAL', 'ADAM10', 'ADAM17', 'ADAM19', 'ADAM1A', 'ADAM20', 'ADAM20P1', 'ADAM22', 'ADAM32', 'ADAM9', 'ADAMTS19', 'ADAMTS19-AS1', 'ADAMTS9-AS1', 'ADAMTS9-AS2', 'ADAMTSL4-AS1', 'ADAMTSL4-AS2', 'ADAMTSL5', 'ADAP1', 'ADAP2', 'ADAR', 'ADARB1', 'ADARB2-AS1', 'ADAT1', 'ADAT2', 'ADAT3', 'ADCK1', 'ADCK2', 'ADCY10P1', 'ADCY3', 'ADCY6-DT', 'ADCY7', 'ADD1', 'ADD3', 'ADD3-AS1', 'ADGRA2', 'ADGRA3', 'ADGRE5', 'ADGRF3', 'ADGRG6', 'ADGRL1', 'ADGRL1-AS1', 'ADGRV1', 'ADH1A', 'ADH5', 'ADH5P4', 'ADI1', 'ADIPOR1', 'ADIPOR1P2', 'ADIPOR2', 'ADIRF', 'ADIRF-AS1', 'ADK', 'ADM2', 'ADM5', 'ADNP', 'ADNP-AS1', 'ADNP2', 'ADO', 'ADORA2A-AS1', 'ADPGK', 'ADPGK-AS1', 'ADPRHL1', 'ADPRM', 'ADPRS', 'ADRA2C', 'ADRB1', 'ADRM1', 'ADSL', 'ADSS1', 'ADSS2', 'AEBP1', 'AEBP2', 'AFAP1', 'AFAP1-AS1', 'AFDN', 'AFDN-DT', 'AFF1', 'AFF4', 'AFF4-DT', 'AFG1L', 'AFG3L2', 'AFG3L2P1', 'AFMID', 'AFTPH', 'AFTPH-DT', 'AGA', 'AGA-DT', 'AGAP1', 'AGAP1-IT1', 'AGAP12P', 'AGAP13P', 'AGAP14P', 'AGAP2', 'AGAP2-AS1', 'AGAP3', 'AGAP4', 'AGAP5', 'AGAP6', 'AGAP7P', 'AGAP9', 'AGBL2', 'AGBL3', 'AGBL5', 'AGBL5-IT1', 'AGER', 'AGFG1', 'AGFG2', 'AGGF1', 'AGK', 'AGKP2', 'AGL', 'AGMAT', 'AGO1', 'AGO2', 'AGO3', 'AGO4', 'AGPAT1', 'AGPAT2', 'AGPAT3', 'AGPAT5', 'AGPS', 'AGRN', 'AGTPBP1', 'AGTRAP', 'AHCTF1', 'AHCTF1P1', 'AHCY', 'AHCYL1', 'AHCYL2', 'AHDC1', 'AHI1', 'AHRR', 'AHSA1', 'AHSA2P', 'AIDA', 'AIF1L', 'AIFM1', 'AIFM2', 'AIG1', 'AIMP1', 'AIMP1P1', 'AIMP2', 'AIP', 'AJM1', 'AJUBA', 'AJUBA-DT', 'AK1', 'AK2', 'AK2P2', 'AK3', 'AK3P3', 'AK3P5', 'AK4', 'AK4P1', 'AK4P3', 'AK6', 'AK7', 'AK8', 'AK9', 'AKAP1', 'AKAP1-DT', 'AKAP10', 'AKAP11', 'AKAP13', 'AKAP17A', 'AKAP5', 'AKAP7', 'AKAP8', 'AKAP8L', 'AKAP9', 'AKIP1', 'AKIRIN1', 'AKIRIN2', 'AKNAD1', 'AKR1A1', 'AKR1C1', 'AKR1C6P', 'AKR1E2', 'AKR7A2', 'AKR7A2P1', 'AKT1', 'AKT1S1', 'AKT2', 'AKT3', 'AKTIP', 'ALAD', 'ALAS1', 'ALDH16A1', 'ALDH18A1', 'ALDH1A2', 'ALDH1B1', 'ALDH1L1-AS1', 'ALDH3A2', 'ALDH3B1', 'ALDH5A1', 'ALDH6A1', 'ALDH7A1', 'ALDH7A1P1', 'ALDH9A1', 'ALDOAP1', 'ALDOAP2', 'ALG1', 'ALG10', 'ALG10B', 'ALG11', 'ALG12', 'ALG13', 'ALG13-AS1', 'ALG14', 'ALG1L', 'ALG1L11P', 'ALG1L12P', 'ALG1L13P', 'ALG1L15P', 'ALG1L2', 'ALG1L6P', 'ALG1L7P', 'ALG1L8P', 'ALG1L9P', 'ALG2', 'ALG3', 'ALG5', 'ALG6', 'ALG8', 'ALG9', 'ALKAL2', 'ALKBH1', 'ALKBH2', 'ALKBH3', 'ALKBH3-AS1', 'ALKBH4', 'ALKBH5', 'ALKBH6', 'ALKBH7', 'ALKBH8', 'ALMS1', 'ALMS1-IT1', 'ALOX12', 'ALOX12-AS1', 'ALOX12P2', 'ALOX15', 'ALOX5AP', 'ALPK1', 'ALS2', 'ALYREF', 'AMACR', 'AMBRA1', 'AMD1', 'AMD1P3', 'AMDHD2', 'AMH', 'AMIGO3', 'AMMECR1', 'AMMECR1L', 'AMN', 'AMN1', 'AMOT', 'AMOTL1', 'AMPD1', 'AMY2B', 'AMZ2', 'AMZ2P1', 'ANAPC1', 'ANAPC10', 'ANAPC11', 'ANAPC13', 'ANAPC15', 'ANAPC16', 'ANAPC1P1', 'ANAPC1P2', 'ANAPC1P4', 'ANAPC2', 'ANAPC4', 'ANAPC5', 'ANAPC7', 'ANG', 'ANGEL1', 'ANGEL2', 'ANGPT2', 'ANGPTL6', 'ANGPTL8', 'ANK3', 'ANK3-DT', 'ANKAR', 'ANKDD1A', 'ANKEF1', 'ANKFY1', 'ANKH', 'ANKHD1', 'ANKHD1-DT', 'ANKHD1-EIF4EBP3', 'ANKIB1', 'ANKLE2', 'ANKMY1', 'ANKMY2', 'ANKRA2', 'ANKRD10', 'ANKRD10-IT1', 'ANKRD11', 'ANKRD11P2', 'ANKRD12', 'ANKRD13A', 'ANKRD13B', 'ANKRD13C', 'ANKRD13D', 'ANKRD16', 'ANKRD17', 'ANKRD17-DT', 'ANKRD18A', 'ANKRD18B', 'ANKRD18CP', 'ANKRD18EP', 'ANKRD19P', 'ANKRD20A11P', 'ANKRD20A21P', 'ANKRD20A5P', 'ANKRD23', 'ANKRD26', 'ANKRD27', 'ANKRD28', 'ANKRD29', 'ANKRD30B', 'ANKRD31', 'ANKRD34A', 'ANKRD34B', 'ANKRD34C-AS1', 'ANKRD36', 'ANKRD36B', 'ANKRD36BP1', 'ANKRD36C', 'ANKRD37', 'ANKRD39', 'ANKRD40', 'ANKRD42', 'ANKRD42-DT', 'ANKRD46', 'ANKRD49', 'ANKRD49P1', 'ANKRD50', 'ANKRD52', 'ANKRD54', 'ANKRD6', 'ANKRD61', 'ANKRD9', 'ANKS1A', 'ANKS1B', 'ANKS3', 'ANKS6', 'ANKUB1', 'ANO1-AS1', 'ANO10', 'ANO6', 'ANO7L1', 'ANO8', 'ANO9', 'ANOS1', 'ANP32A', 'ANP32AP1', 'ANP32B', 'ANP32BP1', 'ANP32BP3', 'ANP32C', 'ANP32D', 'ANP32E', 'ANPEP', 'ANTKMT', 'ANTXR1', 'ANXA11', 'ANXA2P1', 'ANXA2P2', 'ANXA2P3', 'ANXA2R', 'ANXA4', 'ANXA5', 'ANXA7', 'ANXA8', 'AOPEP', 'AOX2P', 'AP1AR', 'AP1AR-DT', 'AP1G1', 'AP1G2', 'AP1G2-AS1', 'AP1M1', 'AP1M2', 'AP1M2P1', 'AP1S1', 'AP1S2', 'AP1S3', 'AP2A1', 'AP2A2', 'AP2B1', 'AP2B1P1', 'AP2M1', 'AP2S1', 'AP3B1', 'AP3D1', 'AP3M1', 'AP3M2', 'AP3S1', 'AP3S2', 'AP4B1', 'AP4B1-AS1', 'AP4E1', 'AP4M1', 'AP4S1', 'AP5B1', 'AP5M1', 'AP5S1', 'AP5Z1', 'APAF1', 'APBA3', 'APBB3', 'APC', 'APC2', 'APCDD1L-DT', 'APEX1', 'APEX2', 'APH1A', 'APH1B', 'API5', 'API5P1', 'APIP', 'APLF', 'APLP1', 'APLP2', 'APMAP', 'APOBEC2', 'APOBEC3A', 'APOBEC3B-AS1', 'APOBEC3C', 'APOBEC3F', 'APOBEC3H', 'APOC1', 'APOD', 'APOF', 'APOL1', 'APOL2', 'APOLD1', 'APOM', 'APOO', 'APOOL', 'APP', 'APPBP2', 'APPBP2-DT', 'APPL1', 'APPL2', 'APRT', 'APTR', 'APTX', 'AQP11', 'AQP5-AS1', 'AQP6', 'AQR', 'AR', 'ARAF', 'ARAP1', 'ARAP1-AS1', 'ARAP1-AS2', 'ARAP2', 'ARCN1', 'AREL1', 'ARF1', 'ARF1P2', 'ARF3', 'ARF4', 'ARF4-AS1', 'ARF4P1', 'ARF5', 'ARF6', 'ARFGAP1', 'ARFGAP2', 'ARFGAP3', 'ARFGEF1', 'ARFGEF1-DT', 'ARFGEF2', 'ARFIP1', 'ARFIP2', 'ARFRP1', 'ARG2', 'ARGLU1', 'ARHGAP1', 'ARHGAP10', 'ARHGAP11A', 'ARHGAP11B', 'ARHGAP11B-DT', 'ARHGAP12', 'ARHGAP16P', 'ARHGAP17', 'ARHGAP18', 'ARHGAP19', 'ARHGAP19-SLIT1', 'ARHGAP21', 'ARHGAP27', 'ARHGAP27P1-BPTFP1-KPNA2P3', 'ARHGAP27P2', 'ARHGAP29', 'ARHGAP29-AS1', 'ARHGAP31-AS1', 'ARHGAP33', 'ARHGAP35', 'ARHGAP39', 'ARHGAP4', 'ARHGAP42', 'ARHGAP42-AS1', 'ARHGAP44', 'ARHGAP45', 'ARHGAP5', 'ARHGAP5-AS1', 'ARHGAP8', 'ARHGAP9', 'ARHGDIA', 'ARHGDIB', 'ARHGDIG', 'ARHGEF1', 'ARHGEF10', 'ARHGEF11', 'ARHGEF12', 'ARHGEF17', 'ARHGEF17-AS1', 'ARHGEF18', 'ARHGEF19-AS1', 'ARHGEF2', 'ARHGEF26', 'ARHGEF26-AS1', 'ARHGEF3', 'ARHGEF34P', 'ARHGEF35', 'ARHGEF35-AS1', 'ARHGEF37', 'ARHGEF38', 'ARHGEF39', 'ARHGEF5', 'ARHGEF7', 'ARHGEF9', 'ARID1A', 'ARID1B', 'ARID2', 'ARID3B', 'ARID3BP1', 'ARID3C', 'ARID4A', 'ARID4B', 'ARID5B', 'ARIH1', 'ARIH2', 'ARIH2OS', 'ARIH2P1', 'ARL1', 'ARL10', 'ARL11', 'ARL13A', 'ARL13B', 'ARL14EP', 'ARL14EPP1', 'ARL15', 'ARL16', 'ARL17A', 'ARL17B', 'ARL2', 'ARL2-SNX15', 'ARL2BP', 'ARL2BPP4', 'ARL3', 'ARL4A', 'ARL4AP2', 'ARL4AP5', 'ARL4D', 'ARL5A', 'ARL5B', 'ARL5C', 'ARL6', 'ARL6IP1P2', 'ARL6IP1P3', 'ARL6IP4', 'ARL6IP5', 'ARL6IP6', 'ARL8A', 'ARL8B', 'ARLNC1', 'ARMC1', 'ARMC10', 'ARMC10P1', 'ARMC2', 'ARMC3', 'ARMC5', 'ARMC7', 'ARMC8', 'ARMCX1', 'ARMCX3', 'ARMCX3-AS1', 'ARMCX5', 'ARMCX5-GPRASP2', 'ARMCX6', 'ARMH3', 'ARMH4', 'ARMT1', 'ARNT', 'ARNTL', 'ARNTL2', 'ARNTL2-AS1', 'ARPC1A', 'ARPC2', 'ARPC3', 'ARPC3P1', 'ARPC3P3', 'ARPC3P5', 'ARPC4', 'ARPC4-TTLL3', 'ARPC5', 'ARPC5L', 'ARPIN', 'ARPIN-AP3S2', 'ARPP19', 'ARPP19P2', 'ARRB1', 'ARRB2', 'ARRDC1', 'ARRDC1-AS1', 'ARRDC2', 'ARRDC3-AS1', 'ARRDC4', 'ARSA', 'ARSB', 'ARSD', 'ARSD-AS1', 'ARSG', 'ARSK', 'ARV1', 'ARX', 'AS3MT', 'ASAH1', 'ASAH2', 'ASAH2B', 'ASAP1', 'ASAP2', 'ASB1', 'ASB14', 'ASB16', 'ASB16-AS1', 'ASB18', 'ASB3', 'ASB6', 'ASB7', 'ASB8', 'ASCC1', 'ASCC2', 'ASCC3', 'ASCL2', 'ASCL5', 'ASF1A', 'ASH1L', 'ASH1L-AS1', 'ASH2L', 'ASL', 'ASLP1', 'ASMTL', 'ASMTL-AS1', 'ASNS', 'ASNSD1', 'ASNSP1', 'ASPHD1', 'ASPSCR1', 'ASRGL1', 'ASS1P1', 'ASS1P10', 'ASS1P11', 'ASS1P12', 'ASS1P13', 'ASS1P14', 'ASS1P3', 'ASS1P7', 'ASS1P9', 'ASTE1', 'ASXL1', 'ASXL2', 'ATAD1', 'ATAD2B', 'ATAD3A', 'ATAD3B', 'ATAD3C', 'ATAD5', 'ATAT1', 'ATE1', 'ATE1-AS1', 'ATF1', 'ATF2', 'ATF4', 'ATF4P3', 'ATF4P4', 'ATF5', 'ATF6', 'ATF6B', 'ATF7', 'ATF7-NPFF', 'ATF7IP', 'ATF7IP2', 'ATG10', 'ATG101', 'ATG12', 'ATG12P1', 'ATG13', 'ATG14', 'ATG16L1', 'ATG16L2', 'ATG2A', 'ATG2B', 'ATG3', 'ATG4A', 'ATG4B', 'ATG4C', 'ATG4D', 'ATG5', 'ATG7', 'ATG9A', 'ATIC', 'ATL1', 'ATL2', 'ATL3', 'ATM', 'ATMIN', 'ATN1', 'ATOH7', 'ATOX1', 'ATP11A', 'ATP11B', 'ATP11C', 'ATP13A1', 'ATP13A3', 'ATP13A4', 'ATP1A1-AS1', 'ATP1B1P1', 'ATP1B3', 'ATP1B3P1', 'ATP23', 'ATP2A1', 'ATP2A1-AS1', 'ATP2A2', 'ATP2B1', 'ATP2B1-AS1', 'ATP2B4', 'ATP2C1', 'ATP2C2-AS1', 'ATP5F1A', 'ATP5F1AP2', 'ATP5F1AP3', 'ATP5F1B', 'ATP5F1BP1', 'ATP5F1C', 'ATP5F1CP1', 'ATP5F1D', 'ATP5F1E', 'ATP5F1EP2', 'ATP5IF1', 'ATP5MC1', 'ATP5MC1P2', 'ATP5MC1P4', 'ATP5MC1P5', 'ATP5MC2', 'ATP5MC2P1', 'ATP5MC2P4', 'ATP5MC3', 'ATP5ME', 'ATP5MF', 'ATP5MF-PTCD1', 'ATP5MFP2', 'ATP5MFP5', 'ATP5MG', 'ATP5MGL', 'ATP5MGP2', 'ATP5MJ', 'ATP5MK', 'ATP5MKP1', 'ATP5PB', 'ATP5PBP1', 'ATP5PBP6', 'ATP5PD', 'ATP5PDP2', 'ATP5PDP4', 'ATP5PF', 'ATP5PO', 'ATP6AP1', 'ATP6AP1L', 'ATP6AP2', 'ATP6V0A1', 'ATP6V0A2', 'ATP6V0B', 'ATP6V0C', 'ATP6V0CP3', 'ATP6V0D1', 'ATP6V0D1-DT', 'ATP6V0D2', 'ATP6V0E1', 'ATP6V0E2', 'ATP6V0E2-AS1', 'ATP6V1A', 'ATP6V1B2', 'ATP6V1C1', 'ATP6V1C2', 'ATP6V1D', 'ATP6V1E1', 'ATP6V1E1P1', 'ATP6V1E1P3', 'ATP6V1E2', 'ATP6V1F', 'ATP6V1G1', 'ATP6V1G2', 'ATP6V1G2-DDX39B', 'ATP6V1H', 'ATP7A', 'ATP8A1', 'ATP8A2', 'ATP8A2P3', 'ATP8B1', 'ATP8B4', 'ATP8B5P', 'ATP9B', 'ATPAF1', 'ATPAF2', 'ATPSCKMT', 'ATR', 'ATRAID', 'ATRIP', 'ATRN', 'ATRNL1', 'ATRX', 'ATXN1', 'ATXN1-AS1', 'ATXN10', 'ATXN1L', 'ATXN2', 'ATXN2-AS', 'ATXN2L', 'ATXN3', 'ATXN7', 'ATXN7L1', 'ATXN7L2', 'ATXN7L3', 'ATXN7L3-AS1', 'ATXN7L3B', 'AUH', 'AUNIP', 'AUP1', 'AURKAIP1', 'AURKAP1', 'AUTS2', 'AVEN', 'AVIL', 'AVL9', 'AXDND1', 'AXIN1', 'AXIN2', 'AXL', 'AZI2', 'AZIN1', 'B2M', 'B3GALNT1', 'B3GALNT2', 'B3GALT4', 'B3GALT5', 'B3GALT5-AS1', 'B3GALT6', 'B3GALT9', 'B3GAT2', 'B3GAT3', 'B3GAT3P1', 'B3GLCT', 'B3GNT2', 'B3GNT4', 'B3GNT5', 'B3GNT7', 'B3GNT9', 'B3GNTL1', 'B4GALNT1', 'B4GALNT4', 'B4GALT1', 'B4GALT1-AS1', 'B4GALT2', 'B4GALT3', 'B4GALT4', 'B4GALT4-AS1', 'B4GALT5', 'B4GALT6', 'B4GALT7', 'B4GAT1', 'B9D1', 'B9D2', 'BAALC', 'BAALC-AS1', 'BABAM1', 'BABAM2', 'BACE1', 'BACE1-AS', 'BACH1', 'BAD', 'BAG2', 'BAG4', 'BAG5', 'BAG6', 'BAGE2', 'BAHCC1', 'BAHD1', 'BAIAP2', 'BAIAP2-DT', 'BAIAP3', 'BAK1', 'BAK1P1', 'BANF1', 'BANF1P1', 'BANF1P2', 'BANF1P3', 'BANP', 'BAP1', 'BARD1', 'BARX1', 'BARX2', 'BASP1', 'BASP1-AS1', 'BATF', 'BAX', 'BAZ1A', 'BAZ1A-AS1', 'BAZ1B', 'BAZ2A', 'BAZ2B', 'BBC3', 'BBIP1', 'BBLN', 'BBOF1', 'BBOX1-AS1', 'BBS1', 'BBS10', 'BBS12', 'BBS2', 'BBS4', 'BBS5', 'BBS7', 'BBS9', 'BBX', 'BCAM', 'BCAN', 'BCAP29', 'BCAP31', 'BCAP31P2', 'BCAR3-AS1', 'BCAS2', 'BCAS2P2', 'BCAS3', 'BCAS4', 'BCAT2', 'BCCIP', 'BCDIN3D', 'BCDIN3D-AS1', 'BCKDHA', 'BCKDHB', 'BCKDK', 'BCL10', 'BCL11A', 'BCL11B', 'BCL2', 'BCL2L1', 'BCL2L10', 'BCL2L12', 'BCL2L13', 'BCL2L15', 'BCL2L2', 'BCL2L2-PABPN1', 'BCL7A', 'BCL7B', 'BCL7C', 'BCL9', 'BCL9L', 'BCLAF1', 'BCLAF1P1', 'BCLAF1P2', 'BCLAF3', 'BCO1', 'BCOR', 'BCR', 'BCS1L', 'BDH1', 'BDH2', 'BDNF-AS', 'BDP1', 'BECN1', 'BEGAIN', 'BEND3', 'BEND3P1', 'BEND3P3', 'BEND6', 'BEND7', 'BEST4', 'BET1', 'BET1-AS1', 'BET1L', 'BEX1', 'BEX2', 'BEX3', 'BEX4', 'BEX5', 'BFAR', 'BFSP1', 'BFSP2-AS1', 'BGLAP', 'BHLHA15', 'BHLHB9', 'BHLHE41', 'BHMT', 'BICD1', 'BICD1-AS1', 'BICD2', 'BICDL1', 'BICDL2', 'BICRA', 'BICRAL', 'BID', 'BIN1', 'BIN3', 'BIRC2', 'BIRC3', 'BIRC6', 'BIRC6-AS1', 'BIRC6-AS2', 'BISPR', 'BIVM', 'BIVM-ERCC5', 'BLCAP', 'BLK', 'BLM', 'BLMH', 'BLOC1S1', 'BLOC1S2', 'BLOC1S3', 'BLOC1S4', 'BLOC1S5', 'BLOC1S6', 'BLVRA', 'BLVRB', 'BLZF1', 'BMF-AS1', 'BMI1', 'BMP2K', 'BMP5', 'BMP6', 'BMP8A', 'BMP8B', 'BMPR1A', 'BMPR1AP1', 'BMPR1B-DT', 'BMPR2', 'BMS1', 'BMS1P1', 'BMS1P10', 'BMS1P12', 'BMS1P2', 'BMS1P22', 'BMS1P4', 'BMS1P8', 'BMS1P9', 'BMT2', 'BNIP1', 'BNIP2', 'BNIP3P1', 'BNIP3P11', 'BNIP3P17', 'BOD1', 'BOD1L1', 'BOK', 'BOK-AS1', 'BOLA1', 'BOLA2', 'BOLA2-SMG1P6', 'BOLA2B', 'BOLA2P3', 'BOLA3', 'BOLA3-AS1', 'BOLL', 'BORA', 'BORCS5', 'BORCS6', 'BORCS7', 'BORCS7-ASMT', 'BORCS8', 'BORCS8-MEF2B', 'BPGM', 'BPHL', 'BPNT1', 'BPNT2', 'BPTF', 'BPTFP1', 'BRAF', 'BRAP', 'BRAT1', 'BRCA1', 'BRCA2', 'BRCC3', 'BRCC3P1', 'BRD1', 'BRD2', 'BRD3', 'BRD3OS', 'BRD4', 'BRD7', 'BRD7P2', 'BRD8', 'BRD9', 'BRD9P2', 'BRF1', 'BRF2', 'BRI3', 'BRI3BP', 'BRICD5', 'BRIX1', 'BRIX1P1', 'BRK1', 'BRME1', 'BRMS1', 'BRMS1L', 'BROX', 'BRPF1', 'BRPF3', 'BRPF3-AS1', 'BRSK1', 'BRSK2', 'BRWD1', 'BRWD1-AS1', 'BRWD1-AS2', 'BRWD1-IT1', 'BRWD1P2', 'BRWD3', 'BSDC1', 'BSG', 'BSG-AS1', 'BSPRY', 'BTAF1', 'BTBD1', 'BTBD10', 'BTBD2', 'BTBD3', 'BTBD6', 'BTBD7', 'BTBD7P1', 'BTBD8', 'BTBD9', 'BTC', 'BTD', 'BTF3', 'BTF3-DT', 'BTF3L4', 'BTF3L4P2', 'BTF3P10', 'BTF3P12', 'BTF3P13', 'BTF3P3', 'BTF3P5', 'BTG1-DT', 'BTG3', 'BTG3-AS1', 'BTN2A1', 'BTN2A3P', 'BTNL9', 'BTRC', 'BUB1B-PAK6', 'BUB3', 'BUB3P1', 'BUD13', 'BUD23', 'BUD31', 'BYSL', 'BZW1', 'BZW1-AS1', 'BZW1P1', 'BZW1P2', 'BZW2', 'C10orf143', 'C10orf67', 'C10orf82', 'C10orf88', 'C10orf88B', 'C10orf95', 'C10orf95-AS1', 'C11orf1', 'C11orf24', 'C11orf49', 'C11orf52', 'C11orf54', 'C11orf58', 'C11orf65', 'C11orf68', 'C11orf71', 'C11orf80', 'C11orf91', 'C11orf96', 'C11orf98', 'C12orf29', 'C12orf4', 'C12orf40', 'C12orf42', 'C12orf43', 'C12orf57', 'C12orf73', 'C12orf75', 'C12orf76', 'C14orf119', 'C14orf178', 'C14orf28', 'C14orf39', 'C14orf93', 'C15orf39', 'C15orf40', 'C15orf48', 'C15orf61', 'C15orf65', 'C16orf46', 'C16orf72', 'C16orf74', 'C16orf87', 'C16orf91', 'C16orf92', 'C16orf95', 'C16orf95-DT', 'C17orf100', 'C17orf113', 'C17orf114', 'C17orf49', 'C17orf58', 'C17orf64', 'C17orf67', 'C17orf75', 'C17orf80', 'C17orf97', 'C18orf21', 'C18orf25', 'C18orf32', 'C18orf54', 'C19orf12', 'C19orf25', 'C19orf33', 'C19orf38', 'C19orf44', 'C19orf47', 'C19orf48', 'C19orf53', 'C19orf54', 'C19orf71', 'C19orf73', 'C19orf81', 'C1D', 'C1DP1', 'C1GALT1', 'C1GALT1C1', 'C1GALT1C1L', 'C1QBP', 'C1QBPP2', 'C1QL1', 'C1QL3', 'C1QTNF3', 'C1QTNF3-AMACR', 'C1QTNF7-AS1', 'C1QTNF9B', 'C1RL', 'C1RL-AS1', 'C1orf105', 'C1orf109', 'C1orf112', 'C1orf115', 'C1orf122', 'C1orf131', 'C1orf147', 'C1orf159', 'C1orf167', 'C1orf174', 'C1orf194', 'C1orf198', 'C1orf21', 'C1orf21-DT', 'C1orf210', 'C1orf220', 'C1orf35', 'C1orf43', 'C1orf50', 'C1orf52', 'C1orf53', 'C1orf54', 'C1orf56', 'C1orf74', 'C2', 'C20orf144', 'C20orf204', 'C20orf27', 'C20orf96', 'C21orf58', 'C21orf62-AS1', 'C21orf91', 'C22orf15', 'C22orf23', 'C22orf39', 'C2CD2', 'C2CD2L', 'C2CD3', 'C2CD4A', 'C2CD4C', 'C2CD4D', 'C2CD4D-AS1', 'C2CD5', 'C2orf15', 'C2orf42', 'C2orf49', 'C2orf49-DT', 'C2orf50', 'C2orf68', 'C2orf69', 'C2orf74', 'C2orf76', 'C2orf81', 'C2orf92', 'C3', 'C3orf14', 'C3orf18', 'C3orf33', 'C3orf38', 'C3orf49', 'C3orf52', 'C3orf62', 'C3orf80', 'C4A', 'C4orf3', 'C4orf33', 'C4orf36', 'C4orf46', 'C4orf47', 'C4orf48', 'C5', 'C5AR1', 'C5AR2', 'C5orf15', 'C5orf22', 'C5orf24', 'C5orf34', 'C5orf34-AS1', 'C5orf38', 'C5orf49', 'C5orf51', 'C5orf63', 'C6orf120', 'C6orf132', 'C6orf136', 'C6orf163', 'C6orf201', 'C6orf223', 'C6orf226', 'C6orf47', 'C6orf47-AS1', 'C6orf52', 'C6orf62', 'C6orf89', 'C7orf25', 'C7orf26', 'C7orf50', 'C8orf33', 'C8orf48', 'C8orf76', 'C8orf82', 'C8orf88', 'C9', 'C9orf116', 'C9orf129', 'C9orf24', 'C9orf40', 'C9orf43', 'C9orf50', 'C9orf64', 'C9orf72', 'C9orf78', 'C9orf85', 'CA11', 'CA13', 'CA14', 'CA3', 'CA3-AS1', 'CA4', 'CA5B', 'CA5BP1', 'CAAP1', 'CAB39', 'CAB39L', 'CAB39P1', 'CABCOCO1', 'CABIN1', 'CABLES2', 'CABP7', 'CABYR', 'CACFD1', 'CACNA1C-AS1', 'CACNA1D', 'CACNA1G', 'CACNA2D2', 'CACNA2D3-AS1', 'CACNA2D4', 'CACNB1', 'CACNB2', 'CACNB3', 'CACNG1', 'CACNG6', 'CACTIN', 'CACTIN-AS1', 'CACUL1', 'CACYBP', 'CACYBPP2', 'CADM2', 'CADM4', 'CADPS', 'CADPS2', 'CAGE1', 'CAHM', 'CALB1', 'CALCOCO2', 'CALHM2', 'CALHM6', 'CALHM6-AS1', 'CALM1', 'CALM1P1', 'CALM2P2', 'CALM2P3', 'CALM3', 'CALML4', 'CALR', 'CALR4P', 'CALU', 'CALY', 'CAMK1', 'CAMK2B', 'CAMK2D', 'CAMK2G', 'CAMK2N1', 'CAMK2N2', 'CAMKK2', 'CAMKMT', 'CAMLG', 'CAMP', 'CAMSAP1', 'CAMSAP2', 'CAMSAP3', 'CAMTA1', 'CAMTA1-DT', 'CAMTA1-IT1', 'CAMTA2', 'CAMTA2-AS1', 'CAND1', 'CANT1', 'CANX', 'CAP1', 'CAP1P1', 'CAP1P2', 'CAP2', 'CAPN1', 'CAPN10', 'CAPN12', 'CAPN15', 'CAPN7', 'CAPNS1', 'CAPRIN1', 'CAPRIN2', 'CAPS', 'CAPS2', 'CAPZA1', 'CAPZA1P1', 'CAPZA1P2', 'CAPZA2', 'CAPZB', 'CARD19', 'CARD8', 'CARD8-AS1', 'CARD9', 'CARF', 'CARHSP1', 'CARM1', 'CARMIL1', 'CARMIL2', 'CARMIL3', 'CARNMT1', 'CARNMT1-AS1', 'CARNS1', 'CARS1', 'CARS1-AS1', 'CARS1P2', 'CARS2', 'CASC11', 'CASC19', 'CASC2', 'CASC3', 'CASC8', 'CASC9', 'CASD1', 'CASK', 'CASK-AS1', 'CASKIN1', 'CASKIN2', 'CASP10', 'CASP16P', 'CASP2', 'CASP3', 'CASP6', 'CASP7', 'CASP8', 'CASP8AP2', 'CASP9', 'CAST', 'CASTOR2', 'CASTOR3', 'CASZ1', 'CAT', 'CATIP', 'CATIP-AS1', 'CATIP-AS2', 'CATSPER2', 'CATSPER2P1', 'CATSPERB', 'CATSPERD', 'CATSPERE', 'CATSPERG', 'CATSPERZ', 'CAVIN4', 'CBARP', 'CBARP-DT', 'CBFA2T2', 'CBFA2T3', 'CBFB', 'CBL', 'CBLB', 'CBLL1', 'CBLL1-AS1', 'CBLN3', 'CBLN4', 'CBR1', 'CBR3', 'CBR3-AS1', 'CBR4', 'CBS', 'CBSL', 'CBWD1', 'CBWD2', 'CBWD3', 'CBWD4P', 'CBWD5', 'CBWD6', 'CBX1', 'CBX1P1', 'CBX2', 'CBX3', 'CBX3P2', 'CBX3P9', 'CBX4', 'CBX5P1', 'CBX6', 'CBX7', 'CBX8', 'CBY1', 'CBY3', 'CC2D1A', 'CC2D1B', 'CC2D2A', 'CC2D2B', 'CCAR1', 'CCAR2', 'CCDC102A', 'CCDC102B', 'CCDC103', 'CCDC106', 'CCDC107', 'CCDC110', 'CCDC112', 'CCDC113', 'CCDC115', 'CCDC117', 'CCDC12', 'CCDC120', 'CCDC121', 'CCDC122', 'CCDC124', 'CCDC125', 'CCDC126', 'CCDC127', 'CCDC134', 'CCDC137', 'CCDC138', 'CCDC14', 'CCDC142', 'CCDC144A', 'CCDC144B', 'CCDC144CP', 'CCDC144NL-AS1', 'CCDC146', 'CCDC148', 'CCDC148-AS1', 'CCDC149', 'CCDC15', 'CCDC15-DT', 'CCDC150', 'CCDC152', 'CCDC153', 'CCDC157', 'CCDC159', 'CCDC160', 'CCDC162P', 'CCDC163', 'CCDC167', 'CCDC169', 'CCDC169-SOHLH2', 'CCDC170', 'CCDC171', 'CCDC173', 'CCDC174', 'CCDC175', 'CCDC18', 'CCDC18-AS1', 'CCDC181', 'CCDC183', 'CCDC183-AS1', 'CCDC186', 'CCDC189', 'CCDC191', 'CCDC192', 'CCDC200', 'CCDC22', 'CCDC24', 'CCDC25', 'CCDC26', 'CCDC27', 'CCDC28A', 'CCDC28A-AS1', 'CCDC28B', 'CCDC30', 'CCDC32', 'CCDC34', 'CCDC38', 'CCDC39', 'CCDC40', 'CCDC43', 'CCDC47', 'CCDC50', 'CCDC51', 'CCDC57', 'CCDC59', 'CCDC6', 'CCDC61', 'CCDC62', 'CCDC65', 'CCDC66', 'CCDC68', 'CCDC7', 'CCDC71', 'CCDC71L', 'CCDC73', 'CCDC74A', 'CCDC74B', 'CCDC74BP1', 'CCDC77', 'CCDC78', 'CCDC81', 'CCDC82', 'CCDC83', 'CCDC85B', 'CCDC85C', 'CCDC86', 'CCDC88A', 'CCDC88B', 'CCDC88C', 'CCDC88C-DT', 'CCDC9', 'CCDC90B', 'CCDC90B-AS1', 'CCDC91', 'CCDC92', 'CCDC93', 'CCDC96', 'CCDC97', 'CCHCR1', 'CCL28', 'CCL3L1', 'CCL3L3', 'CCM2', 'CCM2L', 'CCN4', 'CCNB1IP1', 'CCNB1IP1P1', 'CCNC', 'CCNDBP1', 'CCNE2', 'CCNG1', 'CCNG2', 'CCNH', 'CCNI', 'CCNI2', 'CCNJ', 'CCNJL', 'CCNK', 'CCNL1', 'CCNL2', 'CCNO', 'CCNO-DT', 'CCNP', 'CCNQ', 'CCNT1', 'CCNT2', 'CCNT2-AS1', 'CCNY', 'CCNY-AS1', 'CCNYL1', 'CCNYL6', 'CCP110', 'CCPG1', 'CCR10', 'CCR3', 'CCS', 'CCSAP', 'CCSER1', 'CCSER2', 'CCT2', 'CCT3', 'CCT4', 'CCT5', 'CCT5P1', 'CCT5P2', 'CCT6A', 'CCT6B', 'CCT6P1', 'CCT6P2', 'CCT6P3', 'CCT7', 'CCT7P1', 'CCT8', 'CCT8P1', 'CCZ1', 'CCZ1B', 'CD101', 'CD109', 'CD151', 'CD160', 'CD163L1', 'CD164', 'CD164L2', 'CD200R1', 'CD24', 'CD24P4', 'CD27', 'CD276', 'CD2AP', 'CD2AP-DT', 'CD2BP2', 'CD2BP2-DT', 'CD302', 'CD36', 'CD37', 'CD4', 'CD44-AS1', 'CD46', 'CD47', 'CD58', 'CD63', 'CD63-AS1', 'CD72', 'CD81', 'CD81-AS1', 'CD83', 'CD8A', 'CD99', 'CD99L2', 'CD99P1', 'CDADC1', 'CDAN1', 'CDC123', 'CDC14A', 'CDC14B', 'CDC16', 'CDC20P1', 'CDC23', 'CDC26', 'CDC26P1', 'CDC27', 'CDC34', 'CDC37', 'CDC37L1', 'CDC37L1-DT', 'CDC40', 'CDC42', 'CDC42-AS1', 'CDC42BPA', 'CDC42BPB', 'CDC42EP2', 'CDC42EP4', 'CDC42EP5', 'CDC42P6', 'CDC42SE1', 'CDC42SE2', 'CDC5L', 'CDC7', 'CDC73', 'CDCA7L', 'CDH1', 'CDH13', 'CDH24', 'CDH4', 'CDH8', 'CDH8-AS1', 'CDHR2', 'CDHR3', 'CDIN1', 'CDIPT', 'CDIPTOSP', 'CDK10', 'CDK11A', 'CDK11B', 'CDK12', 'CDK13', 'CDK13-DT', 'CDK14', 'CDK16', 'CDK17', 'CDK18', 'CDK19', 'CDK2', 'CDK20', 'CDK2AP1', 'CDK2AP2', 'CDK2AP2P1', 'CDK2AP2P2', 'CDK3', 'CDK4', 'CDK5', 'CDK5R2', 'CDK5RAP1', 'CDK5RAP2', 'CDK5RAP3', 'CDK7', 'CDK7P1', 'CDK8', 'CDK8P1', 'CDK9', 'CDKAL1', 'CDKL1', 'CDKL2', 'CDKL3', 'CDKL5', 'CDKN1B', 'CDKN1C', 'CDKN2A', 'CDKN2AIP', 'CDKN2AIPNL', 'CDKN2B-AS1', 'CDKN2C', 'CDKN2D', 'CDNF', 'CDON', 'CDPF1', 'CDPF1P1', 'CDR2', 'CDR2L', 'CDRT1', 'CDRT15P1', 'CDRT15P12', 'CDRT15P6', 'CDRT4', 'CDS1', 'CDS2', 'CDV3', 'CDYL', 'CDYL2', 'CEACAM16-AS1', 'CEACAM19', 'CEACAM8', 'CEBPA', 'CEBPA-DT', 'CEBPB', 'CEBPB-AS1', 'CEBPD', 'CEBPZ', 'CEBPZOS', 'CECR2', 'CEL', 'CELF1', 'CELF5', 'CEMIP2', 'CEMP1', 'CENATAC', 'CENATAC-DT', 'CENPA', 'CENPB', 'CENPBD1', 'CENPBD1P1', 'CENPC', 'CENPE', 'CENPH', 'CENPI', 'CENPJ', 'CENPK', 'CENPL', 'CENPN', 'CENPN-AS1', 'CENPO', 'CENPP', 'CENPQ', 'CENPS', 'CENPS-CORT', 'CENPT', 'CENPU', 'CENPV', 'CENPW', 'CENPX', 'CEP104', 'CEP112', 'CEP120', 'CEP126', 'CEP128', 'CEP131', 'CEP135', 'CEP152', 'CEP162', 'CEP164', 'CEP164P1', 'CEP170', 'CEP170B', 'CEP170P1', 'CEP19', 'CEP192', 'CEP192-DT', 'CEP20', 'CEP250', 'CEP250-AS1', 'CEP290', 'CEP295', 'CEP295NL', 'CEP350', 'CEP41', 'CEP43', 'CEP44', 'CEP55', 'CEP57', 'CEP57L1', 'CEP63', 'CEP68', 'CEP70', 'CEP72', 'CEP76', 'CEP78', 'CEP83', 'CEP83-DT', 'CEP85', 'CEP85L', 'CEP89', 'CEP95', 'CEP97', 'CEPT1', 'CERK', 'CERKL', 'CERNA1', 'CEROX1', 'CERS1', 'CERS2', 'CERS5', 'CERS6', 'CERS6-AS1', 'CERT1', 'CES2', 'CETN2', 'CETN3', 'CFAP126', 'CFAP157', 'CFAP161', 'CFAP20', 'CFAP206', 'CFAP20DC', 'CFAP20DC-AS1', 'CFAP221', 'CFAP251', 'CFAP298', 'CFAP298-TCP10L', 'CFAP300', 'CFAP36', 'CFAP410', 'CFAP418', 'CFAP418-AS1', 'CFAP43', 'CFAP44', 'CFAP44-AS1', 'CFAP46', 'CFAP52', 'CFAP53', 'CFAP54', 'CFAP57', 'CFAP58-DT', 'CFAP69', 'CFAP70', 'CFAP73', 'CFAP77', 'CFAP91', 'CFAP92', 'CFAP97', 'CFD', 'CFDP1', 'CFL1', 'CFL1P1', 'CFL1P2', 'CFL1P4', 'CFL1P5', 'CFL2', 'CFLAR', 'CFLAR-AS1', 'CGAS', 'CGGBP1', 'CGREF1', 'CGRRF1', 'CHAC2', 'CHAD', 'CHADL', 'CHAF1A', 'CHAF1B', 'CHAMP1', 'CHASERR', 'CHCHD1', 'CHCHD10', 'CHCHD2', 'CHCHD2P2', 'CHCHD2P6', 'CHCHD2P9', 'CHCHD3', 'CHCHD3P3', 'CHCHD4', 'CHCHD4P3', 'CHCHD4P5', 'CHCHD5', 'CHCHD6', 'CHCHD7', 'CHD1', 'CHD1-DT', 'CHD1L', 'CHD3', 'CHD4', 'CHD6', 'CHD7', 'CHD8', 'CHD9', 'CHEK1', 'CHEK2', 'CHERP', 'CHFR', 'CHIC1', 'CHIC2', 'CHID1', 'CHKA', 'CHKB', 'CHKB-CPT1B', 'CHKB-DT', 'CHM', 'CHML', 'CHMP1A', 'CHMP1B', 'CHMP1B-AS1', 'CHMP2A', 'CHMP2B', 'CHMP3', 'CHMP4A', 'CHMP4B', 'CHMP4C', 'CHMP5', 'CHMP5P1', 'CHMP6', 'CHMP7', 'CHN1', 'CHN2', 'CHORDC1', 'CHP1', 'CHP1P2', 'CHPF2', 'CHPT1', 'CHRAC1', 'CHRM3', 'CHRNA3', 'CHRNA5', 'CHRNA7', 'CHRNB1', 'CHRNB4', 'CHRNE', 'CHROMR', 'CHST10', 'CHST12', 'CHST14', 'CHST15', 'CHST7', 'CHSY1', 'CHTF8', 'CHTOP', 'CHUK', 'CHURC1', 'CHURC1-FNTB', 'CIAO1', 'CIAO2A', 'CIAO2AP2', 'CIAO2B', 'CIAO3', 'CIAPIN1', 'CIAPIN1P', 'CIB1', 'CIB2', 'CIB3', 'CIBAR1', 'CIBAR1-DT', 'CIBAR1P1', 'CIC', 'CICP14', 'CIDEB', 'CIDECP1', 'CIITA', 'CILK1', 'CILP', 'CINP', 'CIP2A', 'CIPC', 'CIR1', 'CIRBP', 'CIRBP-AS1', 'CISD1', 'CISD2', 'CISD3', 'CITED1', 'CITED4', 'CIZ1', 'CKAP2', 'CKAP4', 'CKLF', 'CKLF-CMTM1', 'CKMT1A', 'CKMT1B', 'CKMT2-AS1', 'CKS1B', 'CKS1BP1', 'CKS1BP4', 'CLASP1', 'CLASP1-AS1', 'CLASP2', 'CLASRP', 'CLBA1', 'CLCA2', 'CLCC1', 'CLCF1', 'CLCN2', 'CLCN3', 'CLCN6', 'CLCN7', 'CLDN12', 'CLDN14', 'CLDN15', 'CLDN3', 'CLDN6', 'CLDN7', 'CLDND1', 'CLDND2', 'CLEC11A', 'CLEC16A', 'CLEC18A', 'CLEC2D', 'CLEC3B', 'CLEC4A', 'CLGN', 'CLHC1', 'CLIC1', 'CLIC1P1', 'CLIC2', 'CLIC4', 'CLIC4P1', 'CLINT1', 'CLIP1', 'CLIP1-AS1', 'CLIP3', 'CLK1', 'CLK2', 'CLK2P1', 'CLK4', 'CLMN', 'CLMP', 'CLN3', 'CLN5', 'CLN6', 'CLN8', 'CLN8-AS1', 'CLNS1A', 'CLOCK', 'CLP1', 'CLPB', 'CLPP', 'CLPSL1', 'CLPSL2', 'CLPTM1', 'CLPTM1L', 'CLPX', 'CLSPN', 'CLSTN1', 'CLSTN3', 'CLTA', 'CLTB', 'CLTC', 'CLTRN', 'CLUAP1', 'CLUH', 'CLUHP10', 'CLUHP3', 'CLUL1', 'CLVS1', 'CLYBL', 'CMAS', 'CMBL', 'CMC1', 'CMC2', 'CMC4', 'CMIP', 'CMPK1', 'CMSS1', 'CMTM1', 'CMTM3', 'CMTM4', 'CMTM6', 'CMTM7', 'CMTM8', 'CMTR1', 'CMTR2', 'CMYA5', 'CNBD2', 'CNBP', 'CNDP2', 'CNEP1R1', 'CNFN', 'CNGA1', 'CNGB3', 'CNIH1', 'CNIH2', 'CNIH3', 'CNIH3-AS2', 'CNIH4', 'CNKSR1', 'CNKSR3', 'CNN2P4', 'CNNM2', 'CNNM3', 'CNNM3-DT', 'CNNM4', 'CNOT1', 'CNOT10', 'CNOT10-AS1', 'CNOT11', 'CNOT2', 'CNOT3', 'CNOT4', 'CNOT6', 'CNOT6L', 'CNOT7', 'CNOT7P1', 'CNOT8', 'CNOT9', 'CNP', 'CNPPD1', 'CNPY2', 'CNPY2-AS1', 'CNPY3', 'CNPY4', 'CNR1', 'CNST', 'CNTD1', 'CNTLN', 'CNTNAP2', 'CNTNAP3', 'CNTNAP3C', 'CNTRL', 'CNTROB', 'COA1', 'COA3', 'COA4', 'COA5', 'COA6', 'COA6-AS1', 'COA7', 'COA8', 'COASY', 'COBL', 'COBLL1', 'COCH', 'COG1', 'COG2', 'COG3', 'COG4', 'COG5', 'COG6', 'COG7', 'COG8', 'COIL', 'COILP1', 'COL21A1', 'COL27A1', 'COL5A1', 'COL5A3', 'COL9A3', 'COLGALT1', 'COMMD1', 'COMMD10', 'COMMD2', 'COMMD3', 'COMMD3-BMI1', 'COMMD4', 'COMMD5', 'COMMD6', 'COMMD7', 'COMMD8', 'COMMD9', 'COMT', 'COMTD1', 'COP1', 'COPA', 'COPB1', 'COPB2', 'COPB2-DT', 'COPE', 'COPG1', 'COPG2', 'COPRS', 'COPRSP1', 'COPS2', 'COPS3', 'COPS4', 'COPS5', 'COPS6', 'COPS7A', 'COPS7B', 'COPS8', 'COPS8P2', 'COPS9', 'COPZ1', 'COPZ2', 'COQ10A', 'COQ10B', 'COQ2', 'COQ3', 'COQ4', 'COQ5', 'COQ6', 'COQ7', 'COQ7-DT', 'COQ8A', 'COQ8B', 'COQ9', 'CORO1A-AS1', 'CORO1B', 'CORO1C', 'CORO6', 'CORO7-PAM16', 'CORT', 'COSMOC', 'COX10', 'COX10-AS1', 'COX11', 'COX11P1', 'COX14', 'COX15', 'COX16', 'COX17', 'COX17P1', 'COX18', 'COX19', 'COX20', 'COX20P1', 'COX4I1', 'COX5A', 'COX5AP1', 'COX5AP2', 'COX5B', 'COX5BP7', 'COX6A1', 'COX6A1P2', 'COX6B1', 'COX6B1P1', 'COX6CP1', 'COX7A2', 'COX7A2L', 'COX7A2P2', 'COX7B', 'COX7C', 'COX7CP1', 'COX8A', 'CP', 'CPA6', 'CPD', 'CPEB1-AS1', 'CPEB2-DT', 'CPEB3', 'CPEB4', 'CPHL1P', 'CPLANE1', 'CPLANE2', 'CPLX1', 'CPM', 'CPNE1', 'CPNE2', 'CPNE3', 'CPNE5', 'CPOX', 'CPPED1', 'CPQ', 'CPSF1', 'CPSF2', 'CPSF3', 'CPSF4', 'CPSF4L', 'CPSF6', 'CPSF7', 'CPT1A', 'CPT1B', 'CPT1C', 'CPT2', 'CPTP', 'CPVL', 'CPZ', 'CRABP1', 'CRACD', 'CRACDL', 'CRACR2A', 'CRACR2B', 'CRADD', 'CRAMP1', 'CRB2', 'CRB3', 'CRBN', 'CRCP', 'CREB1', 'CREB3', 'CREB3L2', 'CREBBP', 'CREBL2', 'CREBZF', 'CREG1', 'CREG2', 'CRELD1', 'CREM', 'CRIM1', 'CRIM1-DT', 'CRIP1', 'CRIPT', 'CRISP3', 'CRK', 'CRKL', 'CRLF1', 'CRLF3', 'CRLS1', 'CRNDE', 'CRNKL1', 'CROCCP2', 'CROCCP3', 'CROT', 'CRPPA', 'CRTAC1', 'CRTAP', 'CRTC1', 'CRTC2', 'CRTC3', 'CRTC3-AS1', 'CRY1', 'CRYBB2P1', 'CRYBG1', 'CRYBG3', 'CRYGS', 'CRYL1', 'CRYM-AS1', 'CRYZ', 'CRYZL1', 'CRYZL2P', 'CRYZL2P-SEC16B', 'CRYZP1', 'CS', 'CSAD', 'CSDC2', 'CSDE1', 'CSE1L', 'CSE1L-AS1', 'CSGALNACT2', 'CSGALNACT2-DT', 'CSK', 'CSKMT', 'CSNK1A1', 'CSNK1D', 'CSNK1E', 'CSNK1G1', 'CSNK1G2', 'CSNK1G2-AS1', 'CSNK1G3', 'CSNK2A1', 'CSNK2A2', 'CSNK2A3', 'CSNK2B', 'CSPG4P10', 'CSPG4P12', 'CSPG5', 'CSPP1', 'CSRNP2', 'CSRP1', 'CSRP2', 'CSRP3-AS1', 'CST3', 'CSTA', 'CSTB', 'CSTF1', 'CSTF2', 'CSTF2T', 'CSTF3', 'CSTF3-DT', 'CSTP1', 'CT62', 'CT70', 'CT75', 'CTAGE15', 'CTAGE7P', 'CTBP1', 'CTBP1-AS', 'CTBP1-DT', 'CTBP2', 'CTBP2P4', 'CTBP2P8', 'CTBS', 'CTCF', 'CTCF-DT', 'CTDNEP1', 'CTDP1', 'CTDSP1', 'CTDSP2', 'CTDSPL', 'CTDSPL2', 'CTDSPL2-DT', 'CTF1', 'CTH', 'CTHRC1', 'CTIF', 'CTNNA1', 'CTNNA1-AS1', 'CTNNA1P1', 'CTNNAL1', 'CTNNB1', 'CTNNBIP1', 'CTNNBL1', 'CTNNBL1P1', 'CTNND1', 'CTNS', 'CTPS2', 'CTR9', 'CTRB1', 'CTRL', 'CTSA', 'CTSB', 'CTSC', 'CTSF', 'CTSH', 'CTSK', 'CTSL', 'CTSO', 'CTSV', 'CTSZ', 'CTTN', 'CTTN-DT', 'CTTNBP2NL', 'CTU1', 'CTU2', 'CTXN1', 'CTXN2', 'CUEDC1', 'CUEDC2', 'CUL1', 'CUL2', 'CUL3', 'CUL4A', 'CUL4B', 'CUL5', 'CUL7', 'CUTA', 'CUTALP', 'CUTC', 'CUX1', 'CUZD1', 'CWC15', 'CWC22', 'CWC25', 'CWC27', 'CWF19L1', 'CWF19L2', 'CXADR', 'CXCL16', 'CXCR5', 'CXXC1', 'CXXC4', 'CXXC4-AS1', 'CXXC5-AS1', 'CXorf38', 'CXorf58', 'CYB561', 'CYB561D2', 'CYB5A', 'CYB5B', 'CYB5D1', 'CYB5D2', 'CYB5R1', 'CYB5R3', 'CYB5R4', 'CYB5RL', 'CYBC1', 'CYC1', 'CYCS', 'CYCSP10', 'CYCSP34', 'CYCSP6', 'CYFIP1', 'CYHR1', 'CYLD', 'CYLD-AS1', 'CYP19A1', 'CYP20A1', 'CYP27B1', 'CYP2B7P', 'CYP2F2P', 'CYP2J2', 'CYP2R1', 'CYP2U1', 'CYP2U1-AS1', 'CYP2W1', 'CYP3A5', 'CYP3A7', 'CYP3A7-CYP3A51P', 'CYP46A1', 'CYP4A22-AS1', 'CYP4F11', 'CYP4F8', 'CYP4V2', 'CYP4Z2P', 'CYP51A1', 'CYP51A1-AS1', 'CYP51A1P1', 'CYP51A1P2', 'CYREN', 'CYRIB', 'CYSRT1', 'CYSTM1', 'CYTH1', 'CYTH2', 'CYTH3', 'CZIB', 'D2HGDH', 'DAB1', 'DAB2IP', 'DACH1', 'DACT3', 'DACT3-AS1', 'DAD1', 'DAG1', 'DAGLB', 'DALRD3', 'DANCR', 'DANT2', 'DAP', 'DAP-DT', 'DAP3', 'DAP3P1', 'DAP3P2', 'DARS1', 'DARS1-AS1', 'DARS2', 'DAXX', 'DAZAP1', 'DAZAP2', 'DAZAP2P1', 'DBF4', 'DBF4B', 'DBF4P1', 'DBI', 'DBIL5P', 'DBIP1', 'DBNDD1', 'DBNDD2', 'DBNL', 'DBR1', 'DBT', 'DCAF1', 'DCAF10', 'DCAF11', 'DCAF12', 'DCAF13', 'DCAF13P1', 'DCAF13P3', 'DCAF15', 'DCAF16', 'DCAF17', 'DCAF4', 'DCAF4L1', 'DCAF5', 'DCAF6', 'DCAF7', 'DCAF8', 'DCAKD', 'DCBLD1', 'DCBLD2', 'DCDC2', 'DCDC2B', 'DCK', 'DCLK1', 'DCLK2', 'DCLRE1A', 'DCLRE1B', 'DCLRE1C', 'DCLRE1CP1', 'DCP1A', 'DCP1B', 'DCP2', 'DCPS', 'DCST1', 'DCST1-AS1', 'DCTD', 'DCTN1', 'DCTN1-AS1', 'DCTN2', 'DCTN3', 'DCTN4', 'DCTN5', 'DCTN6', 'DCTN6-DT', 'DCTPP1', 'DCUN1D1', 'DCUN1D2', 'DCUN1D2-AS', 'DCUN1D3', 'DCUN1D4', 'DCUN1D5', 'DCXR-DT', 'DDA1', 'DDAH1', 'DDAH2', 'DDB1', 'DDB2', 'DDHD1', 'DDHD1-DT', 'DDHD2', 'DDI2', 'DDIAS', 'DDIT4L', 'DDN-AS1', 'DDOST', 'DDRGK1', 'DDT', 'DDTL', 'DDX1', 'DDX10', 'DDX11', 'DDX11-AS1', 'DDX11L10', 'DDX11L2', 'DDX12P', 'DDX17', 'DDX18', 'DDX18P5', 'DDX19A', 'DDX19A-DT', 'DDX19B', 'DDX20', 'DDX21', 'DDX23', 'DDX24', 'DDX27', 'DDX28', 'DDX31', 'DDX39A', 'DDX39B', 'DDX39B-AS1', 'DDX3P1', 'DDX3X', 'DDX42', 'DDX43', 'DDX46', 'DDX47', 'DDX49', 'DDX50', 'DDX50P1', 'DDX50P2', 'DDX51', 'DDX52', 'DDX54', 'DDX55', 'DDX56', 'DDX58', 'DDX59', 'DDX59-AS1', 'DDX6', 'DDX60L', 'DDX6P2', 'DEAF1', 'DECR1', 'DECR2', 'DEDD', 'DEF6', 'DEF8', 'DEFB109D', 'DEFB109F', 'DEFB131B', 'DEGS1', 'DEK', 'DELE1', 'DENND10', 'DENND10P1', 'DENND1A', 'DENND1B', 'DENND1C', 'DENND2A', 'DENND2B', 'DENND2C', 'DENND2D', 'DENND3-AS1', 'DENND4A', 'DENND4B', 'DENND4C', 'DENND5B', 'DENND5B-AS1', 'DENND6A', 'DENND6A-AS1', 'DENND6B', 'DENR', 'DEPDC1', 'DEPDC1-AS1', 'DEPDC1B', 'DEPDC4', 'DEPDC5', 'DEPTOR', 'DERA', 'DERL1', 'DERL2', 'DERL3', 'DESI1', 'DESI2', 'DET1', 'DEXI', 'DFFA', 'DFFB', 'DFFBP1', 'DGAT1', 'DGCR11', 'DGCR2', 'DGCR6', 'DGCR6L', 'DGCR8', 'DGKE', 'DGKG', 'DGKH', 'DGKZ', 'DGKZP1', 'DGLUCY', 'DGUOK', 'DGUOK-AS1', 'DHCR24-DT', 'DHDDS', 'DHDH', 'DHFR', 'DHFR2', 'DHFRP1', 'DHODH', 'DHPS', 'DHRS1', 'DHRS11', 'DHRS12', 'DHRS13', 'DHRS4', 'DHRS4-AS1', 'DHRS4L1', 'DHRS4L2', 'DHRS7', 'DHRS7B', 'DHRSX', 'DHX15', 'DHX16', 'DHX29', 'DHX30', 'DHX32', 'DHX33', 'DHX34', 'DHX35', 'DHX35-DT', 'DHX36', 'DHX37', 'DHX38', 'DHX40', 'DHX40P1', 'DHX57', 'DHX8', 'DHX9', 'DHX9P1', 'DIABLO', 'DIAPH1', 'DIAPH1-AS1', 'DIAPH2', 'DIAPH2-AS1', 'DIAPH3', 'DIAPH3-AS1', 'DICER1', 'DICER1-AS1', 'DIDO1', 'DIMT1', 'DINOL', 'DIO2-AS1', 'DIP2A', 'DIP2A-IT1', 'DIP2B', 'DIPK1A', 'DIPK1B', 'DIPK2A', 'DIRAS1', 'DIS3', 'DIS3L', 'DIS3L-AS1', 'DIS3L2', 'DIXDC1', 'DKC1', 'DKKL1', 'DLAT', 'DLD', 'DLEC1', 'DLEU1', 'DLEU2', 'DLEU2L', 'DLEU7', 'DLG1', 'DLG1-AS1', 'DLG2', 'DLG3', 'DLG3-AS1', 'DLG4', 'DLG5-AS1', 'DLGAP1-AS1', 'DLGAP1-AS2', 'DLGAP3', 'DLGAP4', 'DLGAP4-AS1', 'DLST', 'DLSTP1', 'DLX1', 'DLX2', 'DLX2-DT', 'DLX3', 'DLX4', 'DM1-AS', 'DMAC1', 'DMAC2', 'DMAC2L', 'DMAP1', 'DMC1', 'DMGDH', 'DMKN', 'DMRT2', 'DMRTA1', 'DMTF1', 'DMTN', 'DMWD', 'DMXL1', 'DMXL1-DT', 'DMXL2', 'DNA2', 'DNAAF1', 'DNAAF10', 'DNAAF11', 'DNAAF2', 'DNAAF3', 'DNAAF3-AS1', 'DNAAF4', 'DNAAF4-CCPG1', 'DNAAF5', 'DNAAF9', 'DNAH10', 'DNAH10OS', 'DNAH11', 'DNAH14', 'DNAH17', 'DNAH5', 'DNAH6', 'DNAH7', 'DNAI3', 'DNAI4', 'DNAJA1P3', 'DNAJA2', 'DNAJA2-DT', 'DNAJA3', 'DNAJA4', 'DNAJB11', 'DNAJB12', 'DNAJB14', 'DNAJB1P1', 'DNAJB2', 'DNAJB4', 'DNAJB5', 'DNAJB6', 'DNAJB6P1', 'DNAJB6P2', 'DNAJB6P7', 'DNAJB7', 'DNAJB9', 'DNAJC1', 'DNAJC10', 'DNAJC11', 'DNAJC12', 'DNAJC13', 'DNAJC14', 'DNAJC15', 'DNAJC16', 'DNAJC17', 'DNAJC18', 'DNAJC19', 'DNAJC19P9', 'DNAJC2', 'DNAJC21', 'DNAJC24', 'DNAJC25', 'DNAJC25-GNG10', 'DNAJC27', 'DNAJC27-AS1', 'DNAJC28', 'DNAJC3', 'DNAJC3-DT', 'DNAJC30', 'DNAJC4', 'DNAJC5', 'DNAJC6', 'DNAJC7', 'DNAJC8', 'DNAJC9', 'DNAJC9-AS1', 'DNAL1', 'DNAL4', 'DNALI1', 'DNASE1', 'DNASE1L1', 'DNASE2', 'DND1', 'DNLZ', 'DNM1', 'DNM1L', 'DNM1P35', 'DNM2', 'DNM3', 'DNMBP', 'DNMBP-AS1', 'DNMT3A', 'DNMT3B', 'DNPEP', 'DNPH1', 'DNTTIP1', 'DNTTIP2', 'DOC2A', 'DOCK1', 'DOCK10', 'DOCK11', 'DOCK3', 'DOCK5', 'DOCK6', 'DOCK7', 'DOCK8', 'DOCK8-AS1', 'DOCK9', 'DOCK9-DT', 'DOHH', 'DOK1', 'DOK3', 'DOK4', 'DOLPP1', 'DONSON', 'DOP1A', 'DOP1B', 'DOT1L', 'DPAGT1', 'DPCD', 'DPF1', 'DPF2', 'DPF3', 'DPH1', 'DPH2', 'DPH3', 'DPH3P1', 'DPH5', 'DPH6', 'DPH6-DT', 'DPH7', 'DPM1', 'DPM2', 'DPM3', 'DPP3', 'DPP3-DT', 'DPP4', 'DPP4-DT', 'DPP7', 'DPP8', 'DPP9', 'DPP9-AS1', 'DPPA3P1', 'DPPA5P4', 'DPT', 'DPY19L1', 'DPY19L1P1', 'DPY19L1P2', 'DPY19L2', 'DPY19L2P1', 'DPY19L2P3', 'DPY19L3', 'DPY19L3-DT', 'DPY19L4', 'DPY30', 'DPYD', 'DPYD-AS1', 'DPYSL2', 'DPYSL4', 'DR1', 'DRAIC', 'DRAM1', 'DRAM2', 'DRAP1', 'DRAXIN', 'DRC3', 'DRD4', 'DRG1', 'DRG1P1', 'DRG2', 'DROSHA', 'DSC2', 'DSCAML1', 'DSCC1', 'DSCR8', 'DSCR9', 'DSE', 'DSEL', 'DSEL-AS1', 'DSG1', 'DSG1-AS1', 'DSG2-AS1', 'DSN1', 'DST', 'DST-AS1', 'DSTN', 'DSTNP1', 'DSTNP2', 'DSTNP3', 'DSTYK', 'DTD1', 'DTD2', 'DTNA', 'DTNB', 'DTNB-AS1', 'DTNBP1', 'DTWD1', 'DTWD2', 'DTX1', 'DTX2', 'DTX2P1', 'DTX2P1-UPK3BP1-PMS2P11', 'DTX3', 'DTX3L', 'DTX4', 'DUBR', 'DUOX1', 'DUS1L', 'DUS2', 'DUS3L', 'DUS4L', 'DUSP11', 'DUSP12', 'DUSP14', 'DUSP15', 'DUSP16', 'DUSP18', 'DUSP19', 'DUSP22', 'DUSP23', 'DUSP28', 'DUSP3', 'DUSP5-DT', 'DUSP6', 'DUSP7', 'DUSP8P5', 'DUSP9', 'DUT', 'DUT-AS1', 'DUTP1', 'DUTP6', 'DUX4L26', 'DUX4L37', 'DUX4L50', 'DUXAP8', 'DUXAP9', 'DVL1', 'DVL2', 'DVL3', 'DXO', 'DYM', 'DYNC1H1', 'DYNC1I1', 'DYNC1I2', 'DYNC1I2P1', 'DYNC1LI1', 'DYNC1LI2', 'DYNC1LI2-DT', 'DYNC2H1', 'DYNC2I1', 'DYNC2LI1', 'DYNLL1', 'DYNLL1P1', 'DYNLL1P3', 'DYNLL2', 'DYNLRB1', 'DYNLRB2', 'DYNLRB2-AS1', 'DYNLT1', 'DYNLT2', 'DYNLT2B', 'DYNLT3', 'DYNLT3P2', 'DYNLT4', 'DYRK1A', 'DYRK1B', 'DYRK2', 'DYRK3', 'DYRK3-AS1', 'DYRK4', 'DZANK1', 'DZIP3', 'E2F3', 'E2F4', 'E2F5', 'E2F6', 'E2F7', 'E2F8', 'E4F1', 'EAF1', 'EAF1-AS1', 'EAF2', 'EAPP', 'EARS2', 'EBAG9', 'EBF4', 'EBLN2', 'EBLN3P', 'EBNA1BP2', 'EBPL', 'ECD', 'ECE1-AS1', 'ECH1', 'ECHDC1', 'ECHDC2', 'ECHDC3', 'ECHS1', 'ECI1', 'ECI2', 'ECPAS', 'ECSIT', 'ECT2', 'EDARADD', 'EDC3', 'EDC4', 'EDDM13', 'EDEM1', 'EDEM2', 'EDEM3', 'EDF1', 'EDIL3-DT', 'EDNRA', 'EDRF1', 'EDRF1-AS1', 'EDRF1-DT', 'EEA1', 'EED', 'EEF1A1', 'EEF1A1P10', 'EEF1A1P11', 'EEF1A1P12', 'EEF1A1P13', 'EEF1A1P14', 'EEF1A1P16', 'EEF1A1P19', 'EEF1A1P22', 'EEF1A1P24', 'EEF1A1P25', 'EEF1A1P29', 'EEF1A1P3', 'EEF1A1P38', 'EEF1A1P4', 'EEF1A1P5', 'EEF1A1P6', 'EEF1A1P7', 'EEF1A1P8', 'EEF1A1P9', 'EEF1AKMT1', 'EEF1AKMT2', 'EEF1AKMT3', 'EEF1AKMT4', 'EEF1AKMT4-ECE2', 'EEF1B2', 'EEF1B2P1', 'EEF1B2P2', 'EEF1B2P3', 'EEF1B2P6', 'EEF1D', 'EEF1DP1', 'EEF1DP2', 'EEF1DP5', 'EEF1DP7', 'EEF1E1', 'EEF1E1-BLOC1S5', 'EEF1E1P1', 'EEF1G', 'EEF1GP1', 'EEF1GP5', 'EEF2', 'EEF2K', 'EEF2KMT', 'EEFSEC', 'EEPD1', 'EFCAB10', 'EFCAB11', 'EFCAB13', 'EFCAB13-DT', 'EFCAB14', 'EFCAB14-AS1', 'EFCAB14P1', 'EFCAB15P', 'EFCAB2', 'EFCAB5', 'EFCAB6', 'EFCAB7', 'EFCC1', 'EFHB', 'EFHC1', 'EFHC2', 'EFHD2', 'EFL1', 'EFNA2', 'EFNA3', 'EFNA4', 'EFNA5', 'EFNB1', 'EFNB2', 'EFNB3', 'EFR3A', 'EFR3B', 'EFTUD2', 'EGFL7', 'EGFL8', 'EGFLAM', 'EGFLAM-AS1', 'EGFR-AS1', 'EGILA', 'EGLN1', 'EGLN1P1', 'EGLN2', 'EGR3', 'EHBP1', 'EHBP1L1', 'EHD1', 'EHD4', 'EHHADH', 'EHHADH-AS1', 'EHMT1', 'EHMT2', 'EHMT2-AS1', 'EI24', 'EI24P2', 'EID1', 'EID2', 'EID2B', 'EID3', 'EIF1', 'EIF1AD', 'EIF1AX', 'EIF1AXP1', 'EIF1B', 'EIF1B-AS1', 'EIF1P3', 'EIF1P5', 'EIF1P6', 'EIF2A', 'EIF2AK1', 'EIF2AK2', 'EIF2AK3', 'EIF2AK3-DT', 'EIF2AK4', 'EIF2B1', 'EIF2B2', 'EIF2B3', 'EIF2B4', 'EIF2B5', 'EIF2B5-DT', 'EIF2D', 'EIF2S1', 'EIF2S2', 'EIF2S2P1', 'EIF2S2P4', 'EIF2S3', 'EIF2S3B', 'EIF3A', 'EIF3B', 'EIF3C', 'EIF3CL', 'EIF3D', 'EIF3E', 'EIF3EP1', 'EIF3F', 'EIF3FP3', 'EIF3G', 'EIF3H', 'EIF3I', 'EIF3IP1', 'EIF3J', 'EIF3J-DT', 'EIF3K', 'EIF3KP1', 'EIF3L', 'EIF3LP3', 'EIF3M', 'EIF4A1', 'EIF4A1P10', 'EIF4A1P2', 'EIF4A1P4', 'EIF4A1P6', 'EIF4A1P7', 'EIF4A2', 'EIF4A2P3', 'EIF4A2P4', 'EIF4A3', 'EIF4B', 'EIF4BP3', 'EIF4BP6', 'EIF4BP7', 'EIF4E', 'EIF4E2', 'EIF4E3', 'EIF4EBP2', 'EIF4EBP3', 'EIF4ENIF1', 'EIF4EP2', 'EIF4G1', 'EIF4G2', 'EIF4G3', 'EIF4H', 'EIF4HP1', 'EIF4HP2', 'EIF5', 'EIF5A', 'EIF5A2', 'EIF5AL1', 'EIF5B', 'EIF5P1', 'EIF6', 'EIPR1', 'ELAC1', 'ELAC2', 'ELAPOR2', 'ELAVL1', 'ELDR', 'ELF1', 'ELF2', 'ELF3-AS1', 'ELF5', 'ELK1', 'ELK3', 'ELK4', 'ELL', 'ELL2', 'ELL2P1', 'ELL3', 'ELMO2', 'ELMOD2', 'ELMOD3', 'ELOA', 'ELOA-AS1', 'ELOB', 'ELOBP2', 'ELOC', 'ELOCP19', 'ELOCP2', 'ELOCP27', 'ELOF1', 'ELOVL1', 'ELOVL2-AS1', 'ELOVL4', 'ELOVL6', 'ELOVL7', 'ELP1', 'ELP3', 'ELP4', 'ELP5', 'ELP6', 'EMB', 'EMBP1', 'EMC1', 'EMC1-AS1', 'EMC10', 'EMC2', 'EMC3', 'EMC3-AS1', 'EMC4', 'EMC6', 'EMC7', 'EMC8', 'EMC9', 'EMCN', 'EMD', 'EME1', 'EME2', 'EMG1', 'EMID1', 'EMILIN1', 'EMILIN2', 'EMILIN3', 'EML1', 'EML2', 'EML3', 'EML4', 'EML4-AS1', 'EML5', 'EMP2P1', 'EMP3', 'EMSLR', 'EMSY', 'EMSY-DT', 'EN2', 'ENAH', 'ENC1', 'ENDOD1', 'ENDOG', 'ENDOV', 'ENGASE', 'ENHO', 'ENKD1', 'ENKUR', 'ENO1', 'ENO1-AS1', 'ENO1P1', 'ENO1P4', 'ENO3', 'ENO4', 'ENOPH1', 'ENOSF1', 'ENOX2', 'ENPEP', 'ENPP1', 'ENPP4', 'ENPP5', 'ENPP7P2', 'ENPP7P4', 'ENSA', 'ENSAP2', 'ENTPD1-AS1', 'ENTPD2', 'ENTPD3-AS1', 'ENTPD4', 'ENTPD5', 'ENTPD6', 'ENTPD7', 'ENTR1', 'ENY2', 'EOGT', 'EOLA1', 'EOLA2', 'EOMES', 'EP300', 'EP300-AS1', 'EP400', 'EP400P1', 'EPB41', 'EPB41L1', 'EPB41L2', 'EPB41L4A', 'EPB41L4A-AS1', 'EPB41L4A-DT', 'EPB41L4B', 'EPB41L5', 'EPC1', 'EPC2', 'EPCAM', 'EPCAM-DT', 'EPDR1', 'EPG5', 'EPHA1', 'EPHA7', 'EPHB4', 'EPHX1', 'EPHX2', 'EPHX4', 'EPM2A', 'EPM2AIP1', 'EPN1', 'EPN2', 'EPN3', 'EPOP', 'EPOR', 'EPRS1', 'EPS15', 'EPS15-AS1', 'EPS15L1', 'EPS8', 'EPS8L2', 'ERAL1', 'ERAP1', 'ERAP2', 'ERBB2', 'ERBIN', 'ERBIN-DT', 'ERC1', 'ERCC1', 'ERCC2', 'ERCC3', 'ERCC4', 'ERCC5', 'ERCC6', 'ERCC6L', 'ERCC6L2', 'ERCC8', 'ERCC8-AS1', 'EREG', 'ERF', 'ERG28', 'ERGIC1', 'ERGIC2', 'ERGIC3', 'ERH', 'ERHP1', 'ERI1', 'ERI2', 'ERI3', 'ERICH1', 'ERICH2', 'ERICH6', 'ERICH6-AS1', 'ERICH6B', 'ERLEC1', 'ERLIN1', 'ERLIN2', 'ERLNC1', 'ERMAP', 'ERMARD', 'ERMP1', 'ERN2', 'ERO1B', 'ERP29', 'ERP29P1', 'ERP44', 'ERV3-1', 'ERVK13-1', 'ERVK3-1', 'ERVMER34-1', 'ESAM', 'ESAM-AS1', 'ESCO1', 'ESCO2', 'ESD', 'ESF1', 'ESPN', 'ESPNP', 'ESR2', 'ESRP1', 'ESRP2', 'ESRRA', 'ESRRAP2', 'ESRRG', 'ESS2', 'ESYT1', 'ESYT2', 'ETAA1', 'ETF1', 'ETF1P1', 'ETF1P2', 'ETFA', 'ETFB', 'ETFBKMT', 'ETFDH', 'ETFRF1', 'ETHE1', 'ETNK1', 'ETV2', 'ETV3', 'ETV6', 'EVA1B', 'EVA1C', 'EVI2A', 'EVI5', 'EVI5L', 'EVL', 'EWSAT1', 'EWSR1', 'EXD2', 'EXD3', 'EXO5', 'EXOC1', 'EXOC2', 'EXOC3', 'EXOC3-AS1', 'EXOC3L1', 'EXOC4', 'EXOC5', 'EXOC5P1', 'EXOC6', 'EXOC6B', 'EXOC7', 'EXOC8', 'EXOG', 'EXOSC1', 'EXOSC10', 'EXOSC10-AS1', 'EXOSC2', 'EXOSC3', 'EXOSC4', 'EXOSC5', 'EXOSC6', 'EXOSC7', 'EXOSC8', 'EXOSC9', 'EXPH5', 'EXT1', 'EXT2', 'EXTL2', 'EXTL3', 'EXTL3-AS1', 'EYA1', 'EYA2', 'EYA3', 'EZH1', 'EZH2', 'EZR', 'EZR-AS1', 'F11R', 'F12', 'F3', 'F8', 'F8A3', 'FA2H', 'FAAH', 'FAAH2', 'FAAP20', 'FAAP24', 'FABP5', 'FABP5P3', 'FABP5P7', 'FABP5P9', 'FABP6', 'FADD', 'FADS2', 'FAF1', 'FAF2', 'FAF2P1', 'FAH', 'FAHD1', 'FAHD2A', 'FAHD2B', 'FAHD2CP', 'FAIM', 'FALEC', 'FAM104A', 'FAM104B', 'FAM106A', 'FAM107B', 'FAM110A', 'FAM110C', 'FAM111A', 'FAM111A-DT', 'FAM111B', 'FAM114A1', 'FAM114A2', 'FAM117A', 'FAM117B', 'FAM118A', 'FAM118B', 'FAM120A', 'FAM120AOS', 'FAM120B', 'FAM120C', 'FAM126A', 'FAM126B', 'FAM131A', 'FAM131C', 'FAM133A', 'FAM133B', 'FAM133DP', 'FAM136A', 'FAM136BP', 'FAM136DP', 'FAM13B', 'FAM13B-AS1', 'FAM149B1', 'FAM151B', 'FAM151B-DT', 'FAM153CP', 'FAM156A', 'FAM157A', 'FAM157B', 'FAM157C', 'FAM161A', 'FAM161B', 'FAM166A', 'FAM166B', 'FAM168A', 'FAM168B', 'FAM169A', 'FAM171A2', 'FAM171B', 'FAM172A', 'FAM174A', 'FAM174A-DT', 'FAM174B', 'FAM174C', 'FAM177A1', 'FAM178B', 'FAM182B', 'FAM183A', 'FAM184A', 'FAM184B', 'FAM185A', 'FAM185BP', 'FAM186A', 'FAM187A', 'FAM189A2', 'FAM189B', 'FAM192BP', 'FAM193A', 'FAM193B', 'FAM193B-DT', 'FAM199X', 'FAM200A', 'FAM200B', 'FAM201A', 'FAM201B', 'FAM204A', 'FAM204BP', 'FAM207BP', 'FAM209A', 'FAM209B', 'FAM20B', 'FAM20C', 'FAM210A', 'FAM210B', 'FAM214A', 'FAM214B', 'FAM216A', 'FAM217A', 'FAM217B', 'FAM218A', 'FAM219A', 'FAM219B', 'FAM21EP', 'FAM21FP', 'FAM220A', 'FAM221A', 'FAM222B', 'FAM225A', 'FAM227B', 'FAM228B', 'FAM229A', 'FAM229B', 'FAM234A', 'FAM241A', 'FAM241B', 'FAM242C', 'FAM24B', 'FAM25A', 'FAM32A', 'FAM3A', 'FAM3C', 'FAM3C2P', 'FAM47E', 'FAM50A', 'FAM50B', 'FAM53A', 'FAM53B', 'FAM53C', 'FAM66A', 'FAM66B', 'FAM66C', 'FAM66D', 'FAM71D', 'FAM71E1', 'FAM72A', 'FAM72B', 'FAM72D', 'FAM76A', 'FAM76B', 'FAM78A', 'FAM81A', 'FAM83B', 'FAM83F', 'FAM83H', 'FAM85B', 'FAM86B1', 'FAM86B2', 'FAM86B3P', 'FAM86C1P', 'FAM86C2P', 'FAM86DP', 'FAM86EP', 'FAM86FP', 'FAM86GP', 'FAM86HP', 'FAM86JP', 'FAM86KP', 'FAM87A', 'FAM87B', 'FAM89A', 'FAM89B', 'FAM8A1', 'FAM91A1', 'FAM91A3P', 'FAM98A', 'FAM98B', 'FAM98C', 'FAN1', 'FANCB', 'FANCC', 'FANCD2OS', 'FANCE', 'FANCF', 'FANCL', 'FANCM', 'FANK1', 'FAR1', 'FAR2', 'FAR2P1', 'FAR2P4', 'FARP1', 'FARP1-AS1', 'FARP2', 'FARS2', 'FARSA', 'FARSA-AS1', 'FARSB', 'FAS', 'FASTK', 'FASTKD1', 'FASTKD2', 'FASTKD3', 'FASTKD5', 'FAU', 'FAUP1', 'FAXDC2', 'FBH1', 'FBL', 'FBLIM1', 'FBLN1', 'FBP2', 'FBRS', 'FBRSL1', 'FBXL12', 'FBXL13', 'FBXL14', 'FBXL15', 'FBXL16', 'FBXL17', 'FBXL18', 'FBXL19', 'FBXL19-AS1', 'FBXL2', 'FBXL20', 'FBXL22', 'FBXL3', 'FBXL4', 'FBXL5', 'FBXL6', 'FBXL8', 'FBXO11', 'FBXO15', 'FBXO16', 'FBXO17', 'FBXO2', 'FBXO21', 'FBXO22', 'FBXO25', 'FBXO28', 'FBXO3', 'FBXO30', 'FBXO30-DT', 'FBXO31', 'FBXO33', 'FBXO34', 'FBXO34-AS1', 'FBXO36', 'FBXO38', 'FBXO4', 'FBXO41', 'FBXO42', 'FBXO43', 'FBXO44', 'FBXO45', 'FBXO46', 'FBXO48', 'FBXO5', 'FBXO6', 'FBXO7', 'FBXO8', 'FBXO9', 'FBXW11', 'FBXW11P1', 'FBXW2', 'FBXW4', 'FBXW5', 'FBXW7', 'FBXW7-AS1', 'FBXW8', 'FBXW9', 'FCF1', 'FCF1P2', 'FCGR1A', 'FCGR2C', 'FCHO1', 'FCHO2', 'FCHO2-DT', 'FCHSD1', 'FCHSD2', 'FCMR', 'FDPSP1', 'FDPSP4', 'FDPSP5', 'FDPSP7', 'FDX1', 'FDX2', 'FDXACB1', 'FECH', 'FEM1A', 'FEM1B', 'FEM1C', 'FER', 'FER1L4', 'FER1L5', 'FERMT3', 'FERP1', 'FEZ1', 'FEZ2', 'FGD1', 'FGD2', 'FGD4', 'FGD5-AS1', 'FGD6', 'FGF12', 'FGF12-AS2', 'FGF12-AS3', 'FGF13', 'FGF2', 'FGF22', 'FGF7P3', 'FGF7P6', 'FGFBP3', 'FGFR1', 'FGFR1OP2', 'FGGY', 'FGGY-DT', 'FH', 'FHAD1', 'FHDC1', 'FHIP1A', 'FHIP1A-DT', 'FHIP1B', 'FHIP2A', 'FHIP2B', 'FHIT', 'FHL3', 'FHOD1', 'FHP1', 'FIBCD1', 'FIBP', 'FICD', 'FIG4', 'FIGN', 'FIGNL1', 'FILIP1', 'FIP1L1', 'FIRRE', 'FIS1', 'FITM1', 'FITM2', 'FIZ1', 'FJX1', 'FKBP11', 'FKBP14', 'FKBP14-AS1', 'FKBP15', 'FKBP1A', 'FKBP1AP1', 'FKBP1B', 'FKBP1C', 'FKBP2', 'FKBP3', 'FKBP4P1', 'FKBP4P6', 'FKBP5', 'FKBP6', 'FKBP7', 'FKBP8', 'FKBP9', 'FKBP9P1', 'FKBPL', 'FKRP', 'FKTN', 'FLACC1', 'FLAD1', 'FLCN', 'FLII', 'FLNB-AS1', 'FLOT1', 'FLRT1', 'FLT3', 'FLT3LG', 'FLVCR1', 'FLVCR1-DT', 'FLVCR2', 'FLYWCH2', 'FMC1', 'FMC1-LUC7L2', 'FMN1', 'FMN2', 'FMNL1', 'FMNL1-DT', 'FMNL2', 'FMNL3', 'FMO1', 'FMO4', 'FMO5', 'FMR1', 'FMR1-AS1', 'FN3K', 'FN3KRP', 'FNBP1', 'FNBP1L', 'FNBP1P1', 'FNBP4', 'FNDC3A', 'FNIP1', 'FNIP2', 'FNTA', 'FNTB', 'FOCAD', 'FOCAD-AS1', 'FOSB', 'FOSL1P1', 'FOXA1', 'FOXC1', 'FOXCUT', 'FOXD1', 'FOXD1-AS1', 'FOXD2', 'FOXD2-AS1', 'FOXD3', 'FOXD3-AS1', 'FOXH1', 'FOXI3', 'FOXJ2', 'FOXJ3', 'FOXK1', 'FOXK2', 'FOXN2', 'FOXN3', 'FOXN3-AS1', 'FOXO3', 'FOXO3B', 'FOXO6', 'FOXP1', 'FOXP1-AS1', 'FOXP1-IT1', 'FOXP3', 'FOXP4', 'FOXP4-AS1', 'FOXRED1', 'FPGS', 'FPGT', 'FPGT-TNNI3K', 'FRA10AC1', 'FRAT1', 'FRAT2', 'FRG1', 'FRG1-DT', 'FRG1BP', 'FRG1CP', 'FRG1DP', 'FRG1EP', 'FRG1GP', 'FRG1HP', 'FRG1JP', 'FRMD4A', 'FRMD5', 'FRMD6', 'FRMD6-AS1', 'FRMD8', 'FRMD8P1', 'FRS2', 'FRS3', 'FRY', 'FRY-AS1', 'FRYL', 'FSBP', 'FSCN1', 'FSCN1P1', 'FSCN3', 'FSD1L', 'FSD2', 'FSIP1', 'FSIP2', 'FSTL5', 'FTCDNL1', 'FTH1P10', 'FTH1P11', 'FTH1P12', 'FTH1P13', 'FTH1P15', 'FTH1P16', 'FTH1P2', 'FTH1P20', 'FTH1P21', 'FTH1P23', 'FTH1P3', 'FTH1P4', 'FTH1P5', 'FTH1P7', 'FTH1P8', 'FTLP14', 'FTLP2', 'FTLP3', 'FTO', 'FTSJ1', 'FTSJ3', 'FTX', 'FUBP1', 'FUBP3', 'FUCA1', 'FUCA2', 'FUNDC1', 'FUNDC2', 'FUNDC2P1', 'FUNDC2P2', 'FUOM', 'FUS', 'FUT1', 'FUT10', 'FUT2', 'FUT4', 'FUT8', 'FUT8-AS1', 'FUT9', 'FUZ', 'FXN', 'FXNP2', 'FXR1', 'FXR2', 'FXYD4', 'FXYD5', 'FXYD6', 'FXYD6-FXYD2', 'FYCO1', 'FYTTD1', 'FZD2', 'FZD3', 'FZD4', 'FZD4-DT', 'FZD5', 'FZD6', 'FZD7', 'FZD8', 'G2E3', 'G3BP1', 'G3BP1P1', 'G3BP2', 'G6PD', 'GAA', 'GAB1', 'GAB2', 'GABARAP', 'GABARAPL1', 'GABARAPL2', 'GABPA', 'GABPAP', 'GABPB1', 'GABPB1-AS1', 'GABPB1-IT1', 'GABPB2', 'GABRD', 'GACAT2', 'GADD45GIP1', 'GAK', 'GAL', 'GALC', 'GALE', 'GALK1', 'GALK2', 'GALM', 'GALNS', 'GALNT1', 'GALNT10', 'GALNT11', 'GALNT16-AS1', 'GALNT2', 'GALNT3', 'GALNT4', 'GALNT7', 'GALNTL6', 'GALT', 'GAMT', 'GAN', 'GANAB', 'GANC', 'GAPDH-DT', 'GAPDHP1', 'GAPDHP14', 'GAPDHP2', 'GAPDHP21', 'GAPDHP22', 'GAPDHP23', 'GAPDHP25', 'GAPDHP27', 'GAPDHP28', 'GAPDHP32', 'GAPDHP35', 'GAPDHP37', 'GAPDHP38', 'GAPDHP40', 'GAPDHP44', 'GAPDHP46', 'GAPDHP58', 'GAPDHP59', 'GAPDHP60', 'GAPDHP61', 'GAPDHP62', 'GAPDHP63', 'GAPDHP64', 'GAPDHP65', 'GAPDHP68', 'GAPDHP69', 'GAPDHP70', 'GAPDHP71', 'GAPDHP72', 'GAPDHP73', 'GAPDHP74', 'GAPDHS', 'GAPVD1', 'GAR1', 'GAR1-DT', 'GAREM2', 'GARNL3', 'GARRE1', 'GARS1', 'GARS1-DT', 'GART', 'GAS2', 'GAS2L1', 'GAS2L3', 'GAS5', 'GAS5-AS1', 'GAS6', 'GAS6-AS1', 'GAS8', 'GAS8-AS1', 'GASAL1', 'GASK1B', 'GASK1B-AS1', 'GATA2-AS1', 'GATA6', 'GATA6-AS1', 'GATAD1', 'GATAD2A', 'GATAD2B', 'GATB', 'GATC', 'GATD1', 'GATD3A', 'GATD3B', 'GATM', 'GBA', 'GBA2', 'GBAP1', 'GBF1', 'GBP3', 'GBX2', 'GCA', 'GCAT', 'GCAWKR', 'GCC1', 'GCC2', 'GCC2-AS1', 'GCDH', 'GCFC2', 'GCH1', 'GCLC', 'GCLM', 'GCN1', 'GCNT2', 'GCNT3', 'GCNT4', 'GCNT7', 'GCOM1', 'GCSH', 'GCSHP3', 'GCSHP5', 'GDAP1', 'GDAP2', 'GDE1', 'GDF1', 'GDF11', 'GDF9', 'GDI1', 'GDI2', 'GDI2P2', 'GDPD1', 'GDPGP1', 'GEMIN2', 'GEMIN4', 'GEMIN5', 'GEMIN6', 'GEMIN7', 'GEMIN7-AS1', 'GEMIN8', 'GEMIN8P4', 'GEN1', 'GET1', 'GET1-SH3BGR', 'GET3', 'GET4', 'GFAP', 'GFER', 'GFI1B', 'GFM1', 'GFM2', 'GFOD1', 'GFOD1-AS1', 'GFOD2', 'GFPT1', 'GFPT2', 'GFRA3', 'GFUS', 'GGA1', 'GGA2', 'GGA3', 'GGACT', 'GGCT', 'GGCTP1', 'GGCX', 'GGH', 'GGNBP1', 'GGNBP2', 'GGPS1', 'GGT4P', 'GGT7', 'GGTA2P', 'GHITM', 'GHR', 'GHRL', 'GHRLOS', 'GID4', 'GID8', 'GIGYF1', 'GIGYF2', 'GIHCG', 'GIN1', 'GINM1', 'GINS1', 'GINS3', 'GINS4', 'GIPC1', 'GIPC2', 'GIT1', 'GIT2', 'GJA9', 'GJB2', 'GJB7', 'GJC2', 'GJC3', 'GJD3', 'GK', 'GK-AS1', 'GK4P', 'GK5', 'GKAP1', 'GLA', 'GLB1', 'GLB1L', 'GLB1L2', 'GLCCI1', 'GLCCI1-DT', 'GLCE', 'GLDC', 'GLDN', 'GLE1', 'GLG1', 'GLI4', 'GLIDR', 'GLIPR1', 'GLIPR1L2', 'GLIPR2', 'GLIS2', 'GLIS2-AS1', 'GLIS3-AS1', 'GLMN', 'GLMP', 'GLO1', 'GLOD4', 'GLOD5', 'GLRA1', 'GLRA4', 'GLRX', 'GLRX2', 'GLRX3', 'GLRX3P2', 'GLRX5', 'GLS', 'GLT8D1', 'GLT8D2', 'GLTP', 'GLTPD2', 'GLTPP1', 'GLUD1', 'GLUD1P2', 'GLUD1P3', 'GLUD2', 'GLULP3', 'GLULP4', 'GLYATL1B', 'GLYCTK', 'GLYCTK-AS1', 'GLYR1', 'GM2A', 'GMCL1', 'GMCL2', 'GMDS', 'GMDS-DT', 'GMEB1', 'GMEB2', 'GMFB', 'GMIP', 'GMNN', 'GMPPA', 'GMPPB', 'GMPR', 'GMPR2', 'GMPS', 'GMPSP1', 'GNA11', 'GNA12', 'GNA13', 'GNA14-AS1', 'GNA15-DT', 'GNAI1', 'GNAI2', 'GNAI3', 'GNAL', 'GNAO1', 'GNAQ', 'GNAQP1', 'GNAS', 'GNAS-AS1', 'GNAT2', 'GNAZ', 'GNB1', 'GNB1L', 'GNB2', 'GNB3', 'GNB4', 'GNB5', 'GNE', 'GNG10', 'GNG12', 'GNG12-AS1', 'GNG13', 'GNG3', 'GNG4', 'GNG5', 'GNG5P2', 'GNG7', 'GNGT1', 'GNL1', 'GNL2', 'GNL3', 'GNL3L', 'GNL3LP1', 'GNPAT', 'GNPDA1', 'GNPDA2', 'GNPNAT1', 'GNPTAB', 'GNPTG', 'GNRH1', 'GNRHR2', 'GNS', 'GOLGA1', 'GOLGA2', 'GOLGA2P10', 'GOLGA2P5', 'GOLGA2P7', 'GOLGA3', 'GOLGA4', 'GOLGA4-AS1', 'GOLGA5', 'GOLGA6L10', 'GOLGA6L4', 'GOLGA6L5P', 'GOLGA6L9', 'GOLGA7', 'GOLGA7B', 'GOLGA8A', 'GOLGA8B', 'GOLGB1', 'GOLIM4', 'GOLM2', 'GOLPH3', 'GOLPH3-DT', 'GOLPH3L', 'GOLT1A', 'GOLT1B', 'GON4L', 'GON7', 'GOPC', 'GORAB', 'GORASP1', 'GORASP2', 'GOSR1', 'GOSR2', 'GOT1', 'GOT2', 'GOT2P2', 'GP1BA', 'GP1BB', 'GP6-AS1', 'GPALPP1', 'GPAM', 'GPANK1', 'GPAT2', 'GPAT3', 'GPAT4', 'GPAT4-AS1', 'GPATCH1', 'GPATCH11', 'GPATCH2', 'GPATCH2L', 'GPATCH3', 'GPATCH4', 'GPATCH8', 'GPBP1', 'GPBP1L1', 'GPC1', 'GPC2', 'GPC4', 'GPC6', 'GPCPD1', 'GPD1L', 'GPD2', 'GPHN', 'GPKOW', 'GPLD1', 'GPM6B', 'GPN1', 'GPN2', 'GPN3', 'GPR107', 'GPR108', 'GPR132', 'GPR135', 'GPR137', 'GPR137B', 'GPR137C', 'GPR143', 'GPR155', 'GPR157', 'GPR158', 'GPR158-AS1', 'GPR160', 'GPR18', 'GPR180', 'GPR19', 'GPR22', 'GPR27', 'GPR37L1', 'GPR39', 'GPR61', 'GPR62', 'GPR78', 'GPR82', 'GPR85', 'GPR89A', 'GPR89B', 'GPR89P', 'GPRASP2', 'GPRC5B', 'GPRC5D-AS1', 'GPRIN1', 'GPS1', 'GPS2', 'GPS2P1', 'GPSM1', 'GPSM3', 'GPT', 'GPX4', 'GPX8', 'GRAMD1A-AS1', 'GRAMD1C', 'GRAMD2B', 'GRAMD4', 'GRAMD4P8', 'GRB14', 'GRB2', 'GRB7', 'GREB1L', 'GREP1', 'GRHL1', 'GRHL2', 'GRHPR', 'GRID2IP', 'GRIN1', 'GRIN2C', 'GRIN2D', 'GRIN3B', 'GRINA', 'GRIP1', 'GRIPAP1', 'GRK2', 'GRK3', 'GRK4', 'GRK6', 'GRK6P1', 'GRPEL1', 'GRPEL2', 'GRPEL2-AS1', 'GRSF1', 'GRTP1', 'GRTP1-AS1', 'GRWD1', 'GSAP', 'GSC', 'GSE1', 'GSEC', 'GSG1', 'GSK3A', 'GSK3B', 'GSKIP', 'GSN-AS1', 'GSPT1', 'GSR', 'GSS', 'GSTA1', 'GSTA2', 'GSTA4', 'GSTCD', 'GSTK1', 'GSTM1', 'GSTM3P2', 'GSTM4', 'GSTM5', 'GSTO1', 'GSTO2', 'GSTP1', 'GSTT2B', 'GSTZ1', 'GTDC1', 'GTF2A1', 'GTF2A2', 'GTF2B', 'GTF2E1', 'GTF2E2', 'GTF2F1', 'GTF2F2', 'GTF2F2P1', 'GTF2H1', 'GTF2H2', 'GTF2H2B', 'GTF2H2C', 'GTF2H3', 'GTF2H4', 'GTF2H5', 'GTF2I', 'GTF2I-AS1', 'GTF2IP1', 'GTF2IP12', 'GTF2IP13', 'GTF2IP14', 'GTF2IP20', 'GTF2IP23', 'GTF2IP4', 'GTF2IP5', 'GTF2IP6', 'GTF2IP7', 'GTF2IP9', 'GTF2IRD1', 'GTF2IRD1P1', 'GTF2IRD2', 'GTF2IRD2B', 'GTF2IRD2P1', 'GTF3A', 'GTF3C1', 'GTF3C2', 'GTF3C2-AS1', 'GTF3C3', 'GTF3C4', 'GTF3C5', 'GTF3C6', 'GTF3C6P2', 'GTPBP1', 'GTPBP10', 'GTPBP3', 'GTPBP4', 'GTPBP6', 'GTPBP8', 'GUCD1', 'GUCY1B2', 'GUCY2C', 'GUF1', 'GUK1', 'GULP1', 'GUSB', 'GUSBP1', 'GUSBP11', 'GUSBP13', 'GUSBP2', 'GUSBP3', 'GUSBP4', 'GUSBP5', 'GUSBP9', 'GVQW3', 'GXYLT1', 'GXYLT2', 'GYG1', 'GYG1P3', 'GZF1', 'H1-10', 'H1-10-AS1', 'H1-12P', 'H1-3', 'H1-4', 'H2AC10P', 'H2AC11', 'H2AC12', 'H2AC13', 'H2AC14', 'H2AC15', 'H2AC16', 'H2AC17', 'H2AC20', 'H2AC21', 'H2AC4', 'H2AC8', 'H2AC9P', 'H2AW', 'H2AZ1-DT', 'H2AZ2', 'H2AZ2P1', 'H2AZP1', 'H2AZP2', 'H2AZP3', 'H2BC10', 'H2BC11', 'H2BC12', 'H2BC13', 'H2BC14', 'H2BC15', 'H2BC16P', 'H2BC17', 'H2BC18', 'H2BC19P', 'H2BC20P', 'H2BC4', 'H2BC6', 'H2BC7', 'H2BC9', 'H2BP3', 'H2BU1', 'H3-3A', 'H3-3A-DT', 'H3-3B', 'H3-5', 'H3C1', 'H3C10', 'H3C11', 'H3C12', 'H3C13', 'H3C6', 'H3C7', 'H3C8', 'H3C9P', 'H3P1', 'H3P13', 'H3P14', 'H3P16', 'H3P25', 'H3P36', 'H3P44', 'H3P47', 'H3P6', 'H4-16', 'H4C1', 'H4C10P', 'H4C11', 'H4C12', 'H4C14', 'H4C15', 'H4C2', 'H4C4', 'H4C6', 'H4C9', 'HABP4', 'HACD1', 'HACD2', 'HACD3', 'HACE1', 'HACL1', 'HADH', 'HADHA', 'HADHAP1', 'HADHAP2', 'HADHB', 'HADHBP1', 'HAGH', 'HAGHL', 'HAGLR', 'HAGLROS', 'HAND2-AS1', 'HAR1A', 'HAR1B', 'HARBI1', 'HARS1', 'HARS2', 'HAS2', 'HAS2-AS1', 'HAS3', 'HASPIN', 'HAT1', 'HAUS1', 'HAUS2', 'HAUS3', 'HAUS4', 'HAUS5', 'HAUS6', 'HAUS6P1', 'HAUS7', 'HAUS8', 'HAVCR2', 'HAX1', 'HAX1P1', 'HBA1', 'HBB', 'HBP1', 'HBQ1', 'HBS1L', 'HCAR3', 'HCCS', 'HCFC1', 'HCFC1R1', 'HCFC2', 'HCG11', 'HCG14', 'HCG17', 'HCG18', 'HCG25', 'HCG27', 'HCG4', 'HCG4B', 'HCG4P8', 'HCG9', 'HCN2', 'HCRTR1', 'HCST', 'HDAC1', 'HDAC10', 'HDAC11', 'HDAC11-AS1', 'HDAC2', 'HDAC2-AS2', 'HDAC3', 'HDAC4', 'HDAC4-AS1', 'HDAC6', 'HDAC7', 'HDAC8', 'HDDC2', 'HDDC3', 'HDGF', 'HDGFL2', 'HDGFL3', 'HDGFP1', 'HDHD2', 'HDHD3', 'HDHD5', 'HDHD5-AS1', 'HDLBP', 'HEATR1', 'HEATR3', 'HEATR3-AS1', 'HEATR4', 'HEATR5A', 'HEATR5A-DT', 'HEATR5B', 'HEATR6', 'HEATR6-DT', 'HEBP1', 'HEBP2', 'HECA', 'HECTD1', 'HECTD2', 'HECTD4', 'HECW2', 'HEIH', 'HELB', 'HELLPAR', 'HELLS', 'HELQ', 'HELZ', 'HELZ-AS1', 'HELZ2', 'HEMK1', 'HENMT1', 'HEPHL1', 'HERC1', 'HERC2', 'HERC2P2', 'HERC2P3', 'HERC2P4', 'HERC2P5', 'HERC2P9', 'HERC4', 'HERC5', 'HERC6', 'HERPUD2', 'HERPUD2-AS1', 'HES2', 'HES4', 'HES6', 'HESX1', 'HEXA', 'HEXA-AS1', 'HEXB', 'HEXD', 'HEXIM1', 'HEXIM2', 'HFE', 'HGS', 'HGSNAT', 'HHAT', 'HHEX', 'HHLA3', 'HIBADH', 'HIBCH', 'HIC1', 'HIC2', 'HID1', 'HIF1A', 'HIF1A-AS1', 'HIF1A-AS3', 'HIF1AN', 'HIGD1AP1', 'HIGD1AP14', 'HIGD1B', 'HIGD2A', 'HIGD2AP2', 'HIGD2B', 'HIKESHI', 'HIKESHIP2', 'HINFP', 'HINT1', 'HINT1P1', 'HINT2', 'HINT3', 'HIP1', 'HIP1R', 'HIPK1', 'HIPK1-AS1', 'HIPK2', 'HIPK3', 'HIRA', 'HIRIP3', 'HIVEP1', 'HIVEP3', 'HK1', 'HK2-DT', 'HK2P1', 'HLA-A', 'HLA-DMA', 'HLA-DQB1-AS1', 'HLA-DRB5', 'HLA-DRB9', 'HLA-E', 'HLA-F', 'HLA-F-AS1', 'HLA-G', 'HLA-H', 'HLA-J', 'HLA-K', 'HLA-L', 'HLA-T', 'HLA-V', 'HLA-W', 'HLA-Z', 'HLCS', 'HLF', 'HLTF', 'HLTF-AS1', 'HM13', 'HM13-AS1', 'HM13-IT1', 'HMBOX1', 'HMBS', 'HMCES', 'HMCN2', 'HMG20A', 'HMG20B', 'HMGA1', 'HMGA1P2', 'HMGA1P4', 'HMGA1P7', 'HMGB1', 'HMGB1P1', 'HMGB1P10', 'HMGB1P11', 'HMGB1P14', 'HMGB1P20', 'HMGB1P24', 'HMGB1P3', 'HMGB1P31', 'HMGB1P35', 'HMGB1P37', 'HMGB1P4', 'HMGB1P40', 'HMGB1P5', 'HMGB1P51', 'HMGB1P6', 'HMGB1P8', 'HMGB1P9', 'HMGB2P1', 'HMGB3', 'HMGB3P22', 'HMGB3P24', 'HMGB3P6', 'HMGCL', 'HMGCLL1', 'HMGCR', 'HMGCS1', 'HMGN1', 'HMGN1P1', 'HMGN1P3', 'HMGN1P36', 'HMGN1P37', 'HMGN1P38', 'HMGN1P4', 'HMGN1P7', 'HMGN2', 'HMGN2P11', 'HMGN2P15', 'HMGN2P17', 'HMGN2P19', 'HMGN2P20', 'HMGN2P21', 'HMGN2P22', 'HMGN2P24', 'HMGN2P25', 'HMGN2P3', 'HMGN2P31', 'HMGN2P32', 'HMGN2P4', 'HMGN2P41', 'HMGN2P46', 'HMGN2P5', 'HMGN2P6', 'HMGN2P7', 'HMGN2P8', 'HMGN3', 'HMGN3-AS1', 'HMGN4', 'HMGN5', 'HMGXB3', 'HMGXB4', 'HMMR-AS1', 'HMOX2', 'HMSD', 'HNMT', 'HNRNPA0', 'HNRNPA1', 'HNRNPA1L2', 'HNRNPA1P10', 'HNRNPA1P14', 'HNRNPA1P16', 'HNRNPA1P40', 'HNRNPA1P43', 'HNRNPA1P48', 'HNRNPA1P59', 'HNRNPA1P67', 'HNRNPA1P7', 'HNRNPA1P8', 'HNRNPA3', 'HNRNPA3P5', 'HNRNPA3P6', 'HNRNPAB', 'HNRNPC', 'HNRNPCL1', 'HNRNPCL2', 'HNRNPCP1', 'HNRNPCP2', 'HNRNPCP3', 'HNRNPCP4', 'HNRNPCP6', 'HNRNPCP7', 'HNRNPCP8', 'HNRNPD', 'HNRNPD-DT', 'HNRNPDL', 'HNRNPDP1', 'HNRNPF', 'HNRNPH1', 'HNRNPH1P3', 'HNRNPH2', 'HNRNPH3', 'HNRNPK', 'HNRNPKP1', 'HNRNPKP2', 'HNRNPKP4', 'HNRNPL', 'HNRNPLL', 'HNRNPLP1', 'HNRNPLP2', 'HNRNPM', 'HNRNPR', 'HNRNPRP1', 'HNRNPU', 'HNRNPUL1', 'HNRNPUL2', 'HNRNPUL2-BSCL2', 'HNRNPUP1', 'HOMER1', 'HOMER2', 'HOMER3', 'HOMER3-AS1', 'HOMEZ', 'HOOK1', 'HOOK2', 'HOOK3', 'HOPX', 'HORMAD2-AS1', 'HOTAIR', 'HOTAIRM1', 'HOTTIP', 'HOXA-AS2', 'HOXA-AS3', 'HOXA10', 'HOXA10-AS', 'HOXA11', 'HOXA11-AS', 'HOXA13', 'HOXA3', 'HOXA4', 'HOXA5', 'HOXA6', 'HOXB-AS3', 'HOXB2', 'HOXB6', 'HOXB7', 'HOXC-AS1', 'HOXC-AS3', 'HOXC10', 'HOXC11', 'HOXC13', 'HOXC13-AS', 'HOXC4', 'HOXC5', 'HOXC6', 'HOXC8', 'HOXC9', 'HOXD8', 'HP1BP3', 'HPCA', 'HPCAL1', 'HPD', 'HPF1', 'HPGD', 'HPN-AS1', 'HPRT1', 'HPS1', 'HPS3', 'HPS4', 'HPS5', 'HPS6', 'HPSE', 'HRAS', 'HRC', 'HRCT1', 'HRH2', 'HRK', 'HROB', 'HS1BP3', 'HS2ST1', 'HS3ST3B1', 'HS3ST5', 'HS6ST1', 'HS6ST1P1', 'HS6ST2', 'HS6ST3', 'HSBP1', 'HSBP1L1', 'HSBP1P2', 'HSCB', 'HSD11B1L', 'HSD11B2', 'HSD17B1', 'HSD17B1-AS1', 'HSD17B10', 'HSD17B11', 'HSD17B12', 'HSD17B4', 'HSD17B6', 'HSD17B7', 'HSD17B7P2', 'HSD17B8', 'HSD3B7', 'HSDL1', 'HSDL2', 'HSDL2-AS1', 'HSF1', 'HSF2', 'HSF2BP', 'HSF4', 'HSFX3', 'HSFX4', 'HSP90AA2P', 'HSP90AA3P', 'HSP90AA5P', 'HSP90AB1', 'HSP90AB2P', 'HSP90AB3P', 'HSP90AB4P', 'HSP90B1', 'HSP90B2P', 'HSP90B3P', 'HSPA12A', 'HSPA12B', 'HSPA13', 'HSPA14', 'HSPA2-AS1', 'HSPA4', 'HSPA4L', 'HSPA5P1', 'HSPA8P1', 'HSPA8P15', 'HSPA8P5', 'HSPA8P7', 'HSPA8P8', 'HSPA8P9', 'HSPA9', 'HSPA9P1', 'HSPB11', 'HSPB1P1', 'HSPB1P2', 'HSPB2-C11orf52', 'HSPBAP1', 'HSPBP1', 'HSPD1', 'HSPD1P1', 'HSPD1P11', 'HSPD1P12', 'HSPD1P4', 'HSPD1P5', 'HSPD1P6', 'HSPE1', 'HSPE1-MOB4', 'HSPE1P2', 'HSPE1P3', 'HSPE1P5', 'HSPH1', 'HTATIP2', 'HTATSF1', 'HTATSF1P2', 'HTD2', 'HTR5BP', 'HTR7P1', 'HTRA1', 'HTRA2', 'HTT', 'HULC', 'HUNK', 'HUS1', 'HUWE1', 'HVCN1', 'HYAL3', 'HYDIN2', 'HYI', 'HYI-AS1', 'HYKK', 'HYLS1', 'HYMAI', 'HYOU1', 'HYPK', 'IAH1', 'IARS2', 'IBA57', 'IBTK', 'ICA1', 'ICA1L', 'ICAM3', 'ICE1', 'ICE2', 'ICMT', 'ID2-AS1', 'ID2B', 'IDE', 'IDH1', 'IDH1-AS1', 'IDH2-DT', 'IDH3A', 'IDH3B', 'IDH3G', 'IDI1', 'IDI1P1', 'IDI2', 'IDI2-AS1', 'IDNK', 'IDS', 'IDSP1', 'IDUA', 'IER3', 'IER3-AS1', 'IER3IP1', 'IFFO1', 'IFI27L1', 'IFI27L2', 'IFI35', 'IFI44L', 'IFIH1', 'IFIT5', 'IFITM3P2', 'IFITM3P3', 'IFITM3P4', 'IFITM3P5', 'IFITM3P6', 'IFITM9P', 'IFNAR1', 'IFNAR2', 'IFNGR1', 'IFNGR2', 'IFRD2', 'IFT20', 'IFT22', 'IFT27', 'IFT43', 'IFT46', 'IFT52', 'IFT57', 'IFT74', 'IFT80', 'IFT81', 'IFT88', 'IFTAP', 'IGBP1', 'IGBP1-AS2', 'IGF2', 'IGF2BP2', 'IGF2R', 'IGFBP6', 'IGFBP7', 'IGFBP7-AS1', 'IGFLR1', 'IGHEP1', 'IGHG1', 'IGHG2', 'IGHMBP2', 'IGIP', 'IGLV5-52', 'IGSF10', 'IGSF3', 'IGSF5', 'IGSF6', 'IK', 'IKBIP', 'IKBKB', 'IKBKG', 'IKZF2', 'IKZF4', 'IKZF5', 'IL10RB', 'IL10RB-DT', 'IL11', 'IL12A-AS1', 'IL13RA1', 'IL15RA', 'IL16', 'IL17D', 'IL17RA', 'IL17RB', 'IL17RC', 'IL18', 'IL18BP', 'IL1R1-AS1', 'IL1RAP', 'IL20RA', 'IL20RB', 'IL20RB-AS1', 'IL23A', 'IL24', 'IL32', 'IL3RA', 'IL4I1', 'IL4R', 'IL6R', 'IL6ST', 'IL7', 'IL9R', 'IL9RP3', 'ILDR1', 'ILDR2', 'ILF2', 'ILF2P1', 'ILF3', 'ILF3-DT', 'ILK', 'ILKAP', 'ILRUN', 'ILRUN-AS1', 'ILVBL-AS1', 'IMMP1L', 'IMMP2L', 'IMMT', 'IMMTP1', 'IMP3', 'IMP4', 'IMPA1', 'IMPA2', 'IMPACT', 'IMPDH1', 'IMPDH1P10', 'IMPDH1P6', 'IMPDH1P7', 'IMPDH2', 'INAFM1', 'INAFM2', 'INAVA', 'INCA1', 'INCENP', 'INE1', 'INE2', 'INF2', 'ING1', 'ING2', 'ING3', 'ING4', 'ING5', 'INHBB', 'INHCAP', 'INIP', 'INKA2', 'INMT-MINDY4', 'INO80', 'INO80-AS1', 'INO80B', 'INO80B-WBP1', 'INO80C', 'INO80D', 'INO80E', 'INPP1', 'INPP4A', 'INPP5A', 'INPP5B', 'INPP5E', 'INPP5F', 'INPP5J', 'INPP5K', 'INPPL1', 'INS-IGF2', 'INSIG1-DT', 'INSIG2', 'INSL3', 'INSL6', 'INSR', 'INTS10', 'INTS11', 'INTS12', 'INTS13', 'INTS14', 'INTS2', 'INTS3', 'INTS4', 'INTS4P1', 'INTS4P2', 'INTS5', 'INTS6', 'INTS6-AS1', 'INTS6L', 'INTS6L-AS1', 'INTS6P1', 'INTS7', 'INTS8', 'INTS9', 'INTU', 'INVS', 'IP6K1', 'IP6K2', 'IPMK', 'IPO11', 'IPO5', 'IPO5P1', 'IPO7', 'IPO8', 'IPO9', 'IPO9-AS1', 'IPP', 'IPPK', 'IQANK1', 'IQCA1', 'IQCB1', 'IQCB2P', 'IQCC', 'IQCD', 'IQCE', 'IQCG', 'IQCH', 'IQCH-AS1', 'IQCK', 'IQGAP1', 'IQSEC1', 'IQSEC2', 'IQUB', 'IRAIN', 'IRAK1', 'IRAK1BP1', 'IRAK4', 'IREB2', 'IRF1-AS1', 'IRF2', 'IRF2-DT', 'IRF2BP1', 'IRF2BPL', 'IRF3', 'IRF5', 'IRF7', 'IRGQ', 'IRS1', 'IRS2', 'IRX2', 'IRX4', 'IRX4-AS1', 'IRX5', 'ISCA1', 'ISCA1P4', 'ISCA2', 'ISCU', 'ISG20', 'ISG20L2', 'ISL2', 'ISOC2', 'IST1', 'ISY1', 'ISY1-RAB43', 'ITCH', 'ITFG1', 'ITFG1-AS1', 'ITFG2', 'ITFG2-AS1', 'ITGA3', 'ITGA6', 'ITGA6-AS1', 'ITGA7', 'ITGAE', 'ITGAV', 'ITGB1', 'ITGB1BP1', 'ITGB1P1', 'ITGB2-AS1', 'ITGB3BP', 'ITGB8', 'ITGB8-AS1', 'ITM2B', 'ITM2C', 'ITPA', 'ITPKA', 'ITPKB', 'ITPR1-DT', 'ITPR2', 'ITPR3', 'ITPRID2-DT', 'ITPRIPL1', 'ITSN1', 'ITSN2', 'IVD', 'IVNS1ABP', 'IWS1', 'IZUMO1', 'IZUMO4', 'JADE2', 'JADE3', 'JAGN1', 'JAK1', 'JAK2', 'JAK3', 'JAM2', 'JARID2', 'JARID2-AS1', 'JARID2-DT', 'JAZF1', 'JAZF1-AS1', 'JCAD', 'JDP2', 'JHY', 'JKAMP', 'JMJD1C', 'JMJD1C-AS1', 'JMJD4', 'JMJD6', 'JMJD7', 'JMJD7-PLA2G4B', 'JMJD8', 'JMY', 'JOSD1', 'JOSD2', 'JPH1', 'JPH3', 'JPT1', 'JPT2', 'JPX', 'JRK', 'JRKL', 'JSRP1', 'JTB', 'JUND', 'KAAG1', 'KALRN', 'KANK1', 'KANSL1', 'KANSL1-AS1', 'KANSL1L', 'KANSL1L-AS1', 'KANSL2', 'KANSL3', 'KANTR', 'KARS1', 'KARS1P1', 'KAT14', 'KAT2A', 'KAT2B', 'KAT5', 'KAT6A', 'KAT6B', 'KAT7', 'KAT7P1', 'KAT8', 'KATNA1', 'KATNAL1', 'KATNAL2', 'KATNB1', 'KATNBL1', 'KATNBL1P6', 'KATNIP', 'KAZALD1', 'KAZN', 'KBTBD2', 'KBTBD3', 'KBTBD4', 'KBTBD6', 'KBTBD7', 'KBTBD8', 'KCMF1', 'KCNAB1', 'KCNAB2', 'KCNB1', 'KCNC3', 'KCND3', 'KCNE2', 'KCNH2', 'KCNH7', 'KCNIP4', 'KCNJ14', 'KCNJ15', 'KCNJ3', 'KCNK1', 'KCNK15-AS1', 'KCNK4', 'KCNMA1-AS1', 'KCNMB2-AS1', 'KCNMB3', 'KCNMB4', 'KCNQ1OT1', 'KCNQ2', 'KCNRG', 'KCP', 'KCTD1', 'KCTD10', 'KCTD12', 'KCTD13', 'KCTD13-DT', 'KCTD15', 'KCTD17', 'KCTD18', 'KCTD2', 'KCTD20', 'KCTD21', 'KCTD21-AS1', 'KCTD3', 'KCTD5', 'KCTD6', 'KCTD9', 'KDELR1', 'KDELR2', 'KDELR3', 'KDF1', 'KDM1A', 'KDM1B', 'KDM2A', 'KDM2B', 'KDM2B-DT', 'KDM3B', 'KDM4A', 'KDM4A-AS1', 'KDM4C', 'KDM5A', 'KDM5C', 'KDM5C-IT1', 'KDM6A', 'KDM6B', 'KDM7A', 'KDM7A-DT', 'KDSR', 'KDSR-DT', 'KEAP1', 'KHDC1', 'KHDC1-AS1', 'KHDC4', 'KHDRBS1', 'KHDRBS3', 'KHNYN', 'KHSRP', 'KIAA0040', 'KIAA0100', 'KIAA0232', 'KIAA0319L', 'KIAA0586', 'KIAA0753', 'KIAA0825', 'KIAA0895', 'KIAA0895L', 'KIAA0895LP1', 'KIAA0930', 'KIAA1109', 'KIAA1143', 'KIAA1143P1', 'KIAA1191', 'KIAA1328', 'KIAA1522', 'KIAA1586', 'KIAA1614', 'KIAA1614-AS1', 'KIAA1671', 'KIAA1671-AS1', 'KIAA1958', 'KIAA2012-AS1', 'KIAA2013', 'KIAA2026', 'KICS2', 'KIDINS220', 'KIF11', 'KIF13A', 'KIF13B', 'KIF15', 'KIF16B', 'KIF18A', 'KIF1B', 'KIF1C', 'KIF1C-AS1', 'KIF20B', 'KIF21A', 'KIF23-AS1', 'KIF24', 'KIF26A-DT', 'KIF27', 'KIF28P', 'KIF2A', 'KIF3A', 'KIF3B', 'KIF3C', 'KIF4B', 'KIF5B', 'KIF5C', 'KIF6', 'KIF7', 'KIF9', 'KIF9-AS1', 'KIFAP3', 'KIFBP', 'KIFC2', 'KIN', 'KIRREL3', 'KITLG', 'KIZ', 'KIZ-AS1', 'KLB', 'KLC1', 'KLC2-AS1', 'KLC2-AS2', 'KLC3', 'KLC4', 'KLC4-AS1', 'KLF12', 'KLF13', 'KLF16', 'KLF2', 'KLF2P1', 'KLF2P4', 'KLF3-AS1', 'KLF4', 'KLF7-IT1', 'KLF8', 'KLF9', 'KLHDC1', 'KLHDC10', 'KLHDC2', 'KLHDC3', 'KLHDC4', 'KLHDC9', 'KLHL10', 'KLHL11', 'KLHL12', 'KLHL17', 'KLHL18', 'KLHL2', 'KLHL20', 'KLHL21', 'KLHL22', 'KLHL23', 'KLHL25', 'KLHL26', 'KLHL28', 'KLHL2P1', 'KLHL31', 'KLHL35', 'KLHL36', 'KLHL41', 'KLHL42', 'KLHL5', 'KLHL7', 'KLHL7-DT', 'KLHL8', 'KLHL9', 'KLKB1', 'KLKP1', 'KLLN', 'KLRA1P', 'KLRG2', 'KLRK1-AS1', 'KMO', 'KMT2A', 'KMT2B', 'KMT2C', 'KMT2D', 'KMT2E', 'KMT2E-AS1', 'KMT5A', 'KMT5AP1', 'KMT5AP2', 'KMT5AP3', 'KMT5B', 'KMT5C', 'KNDC1', 'KNG1', 'KNL1', 'KNOP1', 'KNTC1', 'KPNA1', 'KPNA2P1', 'KPNA2P2', 'KPNA2P3', 'KPNA3', 'KPNA4', 'KPNA5', 'KPNA6', 'KPNB1', 'KPNB1-DT', 'KPTN', 'KRAS', 'KRBA1', 'KRBA2', 'KRBOX1', 'KRBOX4', 'KRCC1', 'KREMEN1', 'KRI1', 'KRIT1', 'KRR1', 'KRT1', 'KRT10', 'KRT10-AS1', 'KRT125P', 'KRT18', 'KRT18P1', 'KRT18P10', 'KRT18P11', 'KRT18P12', 'KRT18P13', 'KRT18P14', 'KRT18P15', 'KRT18P16', 'KRT18P17', 'KRT18P18', 'KRT18P19', 'KRT18P2', 'KRT18P20', 'KRT18P21', 'KRT18P22', 'KRT18P23', 'KRT18P24', 'KRT18P25', 'KRT18P26', 'KRT18P27', 'KRT18P28', 'KRT18P29', 'KRT18P3', 'KRT18P31', 'KRT18P32', 'KRT18P33', 'KRT18P34', 'KRT18P35', 'KRT18P36', 'KRT18P37', 'KRT18P38', 'KRT18P39', 'KRT18P4', 'KRT18P40', 'KRT18P41', 'KRT18P42', 'KRT18P43', 'KRT18P44', 'KRT18P45', 'KRT18P47', 'KRT18P48', 'KRT18P49', 'KRT18P5', 'KRT18P50', 'KRT18P51', 'KRT18P52', 'KRT18P54', 'KRT18P55', 'KRT18P56', 'KRT18P57', 'KRT18P58', 'KRT18P6', 'KRT18P60', 'KRT18P61', 'KRT18P63', 'KRT18P64', 'KRT18P65', 'KRT18P66', 'KRT18P67', 'KRT18P68', 'KRT18P8', 'KRT19', 'KRT19P1', 'KRT19P2', 'KRT19P3', 'KRT224P', 'KRT24', 'KRT31', 'KRT5', 'KRT7', 'KRT7-AS', 'KRT8', 'KRT85', 'KRT87P', 'KRT8P1', 'KRT8P10', 'KRT8P11', 'KRT8P12', 'KRT8P13', 'KRT8P14', 'KRT8P15', 'KRT8P17', 'KRT8P18', 'KRT8P19', 'KRT8P2', 'KRT8P20', 'KRT8P21', 'KRT8P22', 'KRT8P23', 'KRT8P24', 'KRT8P25', 'KRT8P3', 'KRT8P30', 'KRT8P31', 'KRT8P32', 'KRT8P33', 'KRT8P35', 'KRT8P36', 'KRT8P37', 'KRT8P39', 'KRT8P4', 'KRT8P40', 'KRT8P41', 'KRT8P42', 'KRT8P43', 'KRT8P44', 'KRT8P45', 'KRT8P46', 'KRT8P47', 'KRT8P48', 'KRT8P49', 'KRT8P5', 'KRT8P50', 'KRT8P51', 'KRT8P7', 'KRT8P8', 'KRT8P9', 'KRTAP4-1', 'KRTAP5-1', 'KRTAP5-10', 'KRTAP5-2', 'KRTCAP2', 'KRTCAP2P1', 'KRTCAP3', 'KSR2', 'KTI12', 'KTN1', 'KTN1-AS1', 'KXD1', 'KYAT1', 'KYAT3', 'L2HGDH', 'L3HYPDH', 'L3MBTL2', 'L3MBTL2-AS1', 'LACC1', 'LACTB', 'LACTB2', 'LACTB2-AS1', 'LAD1', 'LAG3', 'LAGE3', 'LAGE3P1', 'LAMA5', 'LAMA5-AS1', 'LAMP1', 'LAMP2', 'LAMTOR1', 'LAMTOR2', 'LAMTOR3', 'LAMTOR4', 'LAMTOR5', 'LAMTOR5-AS1', 'LAMTOR5P1', 'LANCL1', 'LANCL2', 'LANCL3', 'LAP3', 'LAP3P2', 'LAPTM4A', 'LAPTM4A-DT', 'LAPTM4B', 'LAPTM4BP2', 'LARGE-AS1', 'LARGE1', 'LARGE1-AS1', 'LARP1', 'LARP1B', 'LARP4', 'LARP4B', 'LARP4P', 'LARP7', 'LARS1', 'LARS2', 'LAS1L', 'LASP1', 'LAT', 'LAT2', 'LATS1', 'LATS2', 'LATS2-AS1', 'LBHD1', 'LBR', 'LBX2', 'LBX2-AS1', 'LCA5', 'LCA5L', 'LCAT', 'LCLAT1', 'LCMT1', 'LCMT1-AS1', 'LCMT2', 'LCN12', 'LCOR', 'LCORL', 'LCTL', 'LDAF1', 'LDAH', 'LDB1', 'LDHAL6A', 'LDHAP1', 'LDHAP2', 'LDHAP3', 'LDHAP4', 'LDHAP5', 'LDHAP7', 'LDLRAD2', 'LDLRAD3', 'LDLRAD4', 'LDLRAP1', 'LEAP2', 'LEF1-AS1', 'LEKR1', 'LEMD2', 'LEMD3', 'LENG1', 'LENG8', 'LENG8-AS1', 'LENG9', 'LEO1', 'LEPR', 'LEPROT', 'LEPROTL1', 'LERFS', 'LETM1', 'LETM2', 'LETMD1', 'LGALS3', 'LGALS7B', 'LGALS8', 'LGALS8-AS1', 'LGALSL', 'LGI1', 'LGMN', 'LGMNP1', 'LGR4', 'LGR4-AS1', 'LHB', 'LHFPL2', 'LHFPL3-AS2', 'LHFPL5', 'LHPP', 'LHX1', 'LHX1-DT', 'LHX2', 'LHX6', 'LIAS', 'LIF-AS2', 'LIFR', 'LIFR-AS1', 'LIG3', 'LIG4', 'LIMA1', 'LIMD1', 'LIMD1-AS1', 'LIMD2', 'LIME1', 'LIMK1', 'LIMK2', 'LIMS1', 'LIN37', 'LIN52', 'LIN54', 'LIN7B', 'LIN7C', 'LIN9', 'LINC-PINT', 'LINC00106', 'LINC00115', 'LINC00160', 'LINC00167', 'LINC00173', 'LINC00174', 'LINC00205', 'LINC00222', 'LINC00235', 'LINC00239', 'LINC00240', 'LINC00243', 'LINC00265', 'LINC00271', 'LINC00294', 'LINC00322', 'LINC00334', 'LINC00337', 'LINC00339', 'LINC00342', 'LINC00345', 'LINC00449', 'LINC00458', 'LINC00461', 'LINC00467', 'LINC00471', 'LINC00472', 'LINC00475', 'LINC00476', 'LINC00482', 'LINC00504', 'LINC00513', 'LINC00526', 'LINC00534', 'LINC00536', 'LINC00539', 'LINC00552', 'LINC00571', 'LINC00592', 'LINC00595', 'LINC00598', 'LINC00602', 'LINC00612', 'LINC00621', 'LINC00623', 'LINC00624', 'LINC00629', 'LINC00630', 'LINC00632', 'LINC00634', 'LINC00636', 'LINC00640', 'LINC00641', 'LINC00649', 'LINC00652', 'LINC00653', 'LINC00659', 'LINC00662', 'LINC00663', 'LINC00665', 'LINC00667', 'LINC00672', 'LINC00674', 'LINC00680', 'LINC00683', 'LINC00685', 'LINC00689', 'LINC00698', 'LINC00847', 'LINC00852', 'LINC00853', 'LINC00856', 'LINC00858', 'LINC00863', 'LINC00866', 'LINC00869', 'LINC00882', 'LINC00885', 'LINC00888', 'LINC00893', 'LINC00894', 'LINC00910', 'LINC00921', 'LINC00926', 'LINC00933', 'LINC00937', 'LINC00957', 'LINC00960', 'LINC00987', 'LINC00992', 'LINC00994', 'LINC00997', 'LINC01002', 'LINC01003', 'LINC01004', 'LINC01006', 'LINC01011', 'LINC01023', 'LINC01030', 'LINC01063', 'LINC01082', 'LINC01087', 'LINC01089', 'LINC01106', 'LINC01115', 'LINC01116', 'LINC01117', 'LINC01118', 'LINC01122', 'LINC01123', 'LINC01126', 'LINC01128', 'LINC01133', 'LINC01135', 'LINC01137', 'LINC01138', 'LINC01143', 'LINC01145', 'LINC01160', 'LINC01176', 'LINC01184', 'LINC01186', 'LINC01213', 'LINC01214', 'LINC01220', 'LINC01229', 'LINC01232', 'LINC01239', 'LINC01252', 'LINC01264', 'LINC01269', 'LINC01270', 'LINC01271', 'LINC01273', 'LINC01278', 'LINC01290', 'LINC01291', 'LINC01293', 'LINC01301', 'LINC01303', 'LINC01311', 'LINC01315', 'LINC01340', 'LINC01347', 'LINC01348', 'LINC01355', 'LINC01359', 'LINC01376', 'LINC01389', 'LINC01409', 'LINC01410', 'LINC01414', 'LINC01424', 'LINC01425', 'LINC01431', 'LINC01440', 'LINC01441', 'LINC01465', 'LINC01471', 'LINC01473', 'LINC01504', 'LINC01508', 'LINC01515', 'LINC01517', 'LINC01521', 'LINC01522', 'LINC01523', 'LINC01524', 'LINC01529', 'LINC01534', 'LINC01535', 'LINC01547', 'LINC01558', 'LINC01560', 'LINC01569', 'LINC01572', 'LINC01587', 'LINC01588', 'LINC01605', 'LINC01607', 'LINC01619', 'LINC01637', 'LINC01659', 'LINC01661', 'LINC01666', 'LINC01681', 'LINC01695', 'LINC01697', 'LINC01701', 'LINC01703', 'LINC01709', 'LINC01714', 'LINC01715', 'LINC01719', 'LINC01725', 'LINC01730', 'LINC01732', 'LINC01748', 'LINC01750', 'LINC01754', 'LINC01762', 'LINC01764', 'LINC01767', 'LINC01770', 'LINC01771', 'LINC01772', 'LINC01778', 'LINC01806', 'LINC01807', 'LINC01814', 'LINC01816', 'LINC01836', 'LINC01842', 'LINC01843', 'LINC01852', 'LINC01873', 'LINC01875', 'LINC01876', 'LINC01881', 'LINC01909', 'LINC01918', 'LINC01927', 'LINC01943', 'LINC01948', 'LINC01952', 'LINC01963', 'LINC01970', 'LINC01977', 'LINC02004', 'LINC02005', 'LINC02018', 'LINC02019', 'LINC02021', 'LINC02026', 'LINC02028', 'LINC02036', 'LINC02041', 'LINC02043', 'LINC02067', 'LINC02071', 'LINC02100', 'LINC02109', 'LINC02130', 'LINC02147', 'LINC02148', 'LINC02158', 'LINC02163', 'LINC02166', 'LINC02175', 'LINC02178', 'LINC02193', 'LINC02208', 'LINC02210', 'LINC02210-CRHR1', 'LINC02234', 'LINC02235', 'LINC02236', 'LINC02240', 'LINC02246', 'LINC02247', 'LINC02253', 'LINC02256', 'LINC02259', 'LINC02265', 'LINC02269', 'LINC02321', 'LINC02331', 'LINC02340', 'LINC02343', 'LINC02352', 'LINC02361', 'LINC02363', 'LINC02373', 'LINC02428', 'LINC02438', 'LINC02443', 'LINC02447', 'LINC02449', 'LINC02453', 'LINC02478', 'LINC02481', 'LINC02482', 'LINC02489', 'LINC02506', 'LINC02518', 'LINC02541', 'LINC02542', 'LINC02568', 'LINC02569', 'LINC02571', 'LINC02585', 'LINC02595', 'LINC02601', 'LINC02603', 'LINC02604', 'LINC02606', 'LINC02609', 'LINC02614', 'LINC02615', 'LINC02620', 'LINC02635', 'LINC02637', 'LINC02649', 'LINC02656', 'LINC02672', 'LINC02676', 'LINC02680', 'LINC02693', 'LINC02696', 'LINC02700', 'LINC02707', 'LINC02720', 'LINC02749', 'LINC02762', 'LINC02777', 'LINC02803', 'LINC02804', 'LINC02814', 'LINC02820', 'LINC02830', 'LINC02832', 'LINC02848', 'LINC02849', 'LINC02851', 'LINC02870', 'LINC02874', 'LINC02875', 'LINC02882', 'LINC02887', 'LINC02893', 'LINC02894', 'LINC02897', 'LINC02901', 'LINC02908', 'LINC02913', 'LINC02916', 'LINS1', 'LIPA', 'LIPE', 'LIPE-AS1', 'LIPH', 'LIPT1', 'LIPT2', 'LITAF', 'LIVAR', 'LIX1-AS1', 'LIX1L', 'LIX1L-AS1', 'LKAAEAR1', 'LLGL1', 'LLGL2', 'LLPH', 'LLPH-DT', 'LLPHP3', 'LMAN1', 'LMAN2', 'LMAN2L', 'LMBR1', 'LMBRD1', 'LMBRD2', 'LMCD1-AS1', 'LMF1', 'LMF1-AS1', 'LMF2', 'LMLN', 'LMLN-AS1', 'LMLN2', 'LMNB1', 'LMNB2', 'LMNTD1', 'LMNTD2', 'LMNTD2-AS1', 'LMO1', 'LMO2', 'LMO4', 'LMO7', 'LMO7-AS1', 'LMTK2', 'LMTK3', 'LMX1B', 'LNC-LBCS', 'LNCAROD', 'LNCOC1', 'LNCSRLR', 'LNCTAM34A', 'LNP1', 'LNPEP', 'LNPK', 'LNX1', 'LNX1-AS1', 'LNX1-AS2', 'LNX2', 'LOH12CR2', 'LONP1', 'LONP2', 'LONRF1', 'LONRF2', 'LOXL1-AS1', 'LOXL3', 'LPAR2', 'LPAR6', 'LPCAT3', 'LPCAT4', 'LPGAT1', 'LPIN1', 'LPIN2', 'LPIN3', 'LPO', 'LPP-AS2', 'LPXN', 'LRATD2', 'LRBA', 'LRCH1', 'LRCH3', 'LRCH4', 'LRFN1', 'LRFN3', 'LRFN4', 'LRFN5', 'LRIF1', 'LRIG1', 'LRIG2', 'LRIG2-DT', 'LRMDA', 'LRP1-AS', 'LRP10', 'LRP11', 'LRP12', 'LRP1B', 'LRP2BP', 'LRP3', 'LRP4-AS1', 'LRP5', 'LRP6', 'LRPAP1', 'LRPPRC', 'LRR1', 'LRRC1', 'LRRC10B', 'LRRC14', 'LRRC17', 'LRRC19', 'LRRC20', 'LRRC23', 'LRRC24', 'LRRC26', 'LRRC27', 'LRRC28', 'LRRC37A', 'LRRC37A15P', 'LRRC37A16P', 'LRRC37A17P', 'LRRC37A2', 'LRRC37A3', 'LRRC37A4P', 'LRRC37A5P', 'LRRC37B', 'LRRC37BP1', 'LRRC39', 'LRRC40', 'LRRC41', 'LRRC42', 'LRRC46', 'LRRC47', 'LRRC49', 'LRRC51', 'LRRC56', 'LRRC57', 'LRRC58', 'LRRC59', 'LRRC61', 'LRRC69', 'LRRC7', 'LRRC70', 'LRRC73', 'LRRC75A', 'LRRC8A', 'LRRC8B', 'LRRC8C', 'LRRC8C-DT', 'LRRC8D', 'LRRC8D-DT', 'LRRC8E', 'LRRCC1', 'LRRFIP1', 'LRRFIP1P1', 'LRRFIP2', 'LRRIQ3', 'LRSAM1', 'LRTOMT', 'LRWD1', 'LSG1', 'LSM1', 'LSM10', 'LSM11', 'LSM12', 'LSM12P1', 'LSM14A', 'LSM14B', 'LSM2', 'LSM3', 'LSM3P2', 'LSM3P5', 'LSM4', 'LSM5', 'LSM6', 'LSM7', 'LSM8', 'LSMEM2', 'LSP1P4', 'LSR', 'LTA4H', 'LTB4R', 'LTB4R2', 'LTBP3', 'LTBP4', 'LTBR', 'LTC4S', 'LTN1', 'LTO1', 'LTV1', 'LUC7L', 'LUC7L2', 'LUC7L3', 'LURAP1L', 'LURAP1L-AS1', 'LUZP1', 'LUZP2', 'LVRN', 'LY6D', 'LY6E-DT', 'LY6G5B', 'LY6G5C', 'LY6G6C', 'LY6H', 'LY75-CD302', 'LYAR', 'LYG2', 'LYN', 'LYPD5', 'LYPD6', 'LYPLA1', 'LYPLA1P3', 'LYPLA2', 'LYPLA2P1', 'LYPLA2P2', 'LYPLAL1', 'LYPLAL1-DT', 'LYRM1', 'LYRM2', 'LYRM4', 'LYRM7', 'LYRM9', 'LYSMD1', 'LYSMD2', 'LYSMD3', 'LYSMD4', 'LYST', 'LYZ', 'LZIC', 'LZTFL1', 'LZTS2', 'M6PR', 'MACC1', 'MACF1', 'MACIR', 'MACO1', 'MACROD1', 'MACROD2', 'MACROD2-AS1', 'MACROH2A1', 'MACROH2A2', 'MAD1L1', 'MAD2L1', 'MAD2L1-DT', 'MAD2L1BP', 'MAD2L1P1', 'MAD2L2', 'MADCAM1', 'MADCAM1-AS1', 'MAEA', 'MAF', 'MAF1', 'MAFA', 'MAFG-DT', 'MAFIP', 'MAFK', 'MAFTRR', 'MAG', 'MAGEF1', 'MAGEH1', 'MAGI1', 'MAGI1-AS1', 'MAGI2', 'MAGI3', 'MAGIX', 'MAGOH', 'MAGOH3P', 'MAGOHB', 'MAGT1', 'MAILR', 'MAIP1', 'MAK', 'MAK16', 'MAL2', 'MAL2-AS1', 'MALINC1', 'MALL', 'MALSU1', 'MALT1', 'MALT1-AS1', 'MAMDC2', 'MAMDC4', 'MAML1', 'MAML3', 'MAMSTR', 'MAN1A1', 'MAN1A2', 'MAN1B1', 'MAN1B1-DT', 'MAN1C1', 'MAN2A1', 'MAN2A1-DT', 'MAN2B1', 'MAN2B2', 'MAN2C1', 'MANBA', 'MANBAL', 'MANEA', 'MANEAL', 'MANF', 'MANSC1', 'MAP10', 'MAP1LC3B', 'MAP1LC3B2', 'MAP1S', 'MAP2K1', 'MAP2K1P1', 'MAP2K2', 'MAP2K3', 'MAP2K4', 'MAP2K4P1', 'MAP2K5', 'MAP2K5-DT', 'MAP2K6', 'MAP2K7', 'MAP3K10', 'MAP3K11', 'MAP3K12', 'MAP3K13', 'MAP3K14-AS1', 'MAP3K15', 'MAP3K19', 'MAP3K2', 'MAP3K2-DT', 'MAP3K20', 'MAP3K20-AS1', 'MAP3K21', 'MAP3K3', 'MAP3K4', 'MAP3K4-AS1', 'MAP3K5', 'MAP3K5-AS1', 'MAP3K7', 'MAP3K8', 'MAP3K9', 'MAP3K9-DT', 'MAP4', 'MAP4K1-AS1', 'MAP4K2', 'MAP4K3', 'MAP4K3-DT', 'MAP4K4', 'MAP4K5', 'MAP6D1', 'MAP7', 'MAP7D1', 'MAP7D3', 'MAP9', 'MAPK1', 'MAPK10', 'MAPK12', 'MAPK13', 'MAPK14', 'MAPK15', 'MAPK1IP1L', 'MAPK3', 'MAPK6', 'MAPK6-DT', 'MAPK6P4', 'MAPK7', 'MAPK8', 'MAPK8IP1', 'MAPK8IP2', 'MAPK8IP3', 'MAPK9', 'MAPKAP1', 'MAPKAPK2', 'MAPKAPK3', 'MAPKAPK5', 'MAPKAPK5-AS1', 'MAPRE1', 'MAPRE2', 'MAPRE3', 'MAPT', 'MAPT-AS1', 'MARCHF1', 'MARCHF10', 'MARCHF10-DT', 'MARCHF2', 'MARCHF3', 'MARCHF5', 'MARCHF6', 'MARCHF7', 'MARCHF8', 'MARCHF9', 'MARCKS', 'MARCKSL1', 'MARCKSL1P2', 'MARF1', 'MARK1', 'MARK2', 'MARK3', 'MARK4', 'MARS1', 'MARS2', 'MARVELD1', 'MARVELD2', 'MARVELD3', 'MASP2', 'MAST1', 'MAST2', 'MAST3', 'MAST3-AS1', 'MAST4', 'MAST4-AS1', 'MASTL', 'MAT2A', 'MAT2B', 'MATK', 'MATN1', 'MATN1-AS1', 'MATN4', 'MATR3', 'MAU2', 'MAVS', 'MAX', 'MAZ', 'MB21D2', 'MBD1', 'MBD2', 'MBD3', 'MBD4', 'MBD5', 'MBD6', 'MBIP', 'MBLAC1', 'MBLAC2', 'MBNL1', 'MBNL1-AS1', 'MBNL2', 'MBNL3', 'MBOAT1', 'MBOAT2', 'MBOAT7', 'MBP', 'MBTD1', 'MBTPS1-DT', 'MBTPS2', 'MC1R', 'MCAT', 'MCCC1', 'MCCC1-AS1', 'MCCC2', 'MCEE', 'MCF2L', 'MCF2L-AS1', 'MCF2L2', 'MCFD2', 'MCHR2', 'MCL1', 'MCM3AP', 'MCM3AP-AS1', 'MCM8', 'MCM9', 'MCMBP', 'MCMDC2', 'MCOLN1', 'MCOLN2', 'MCOLN3', 'MCPH1', 'MCPH1-AS1', 'MCPH1-DT', 'MCRIP1', 'MCRIP2', 'MCRIP2P1', 'MCRS1', 'MCTP1', 'MCTS1', 'MCTS2P', 'MCU', 'MCUB', 'MCUR1', 'MDC1', 'MDC1-AS1', 'MDH1', 'MDH1B', 'MDH2', 'MDM1', 'MDM2', 'MDM4', 'MDN1', 'MDP1', 'ME1', 'ME2', 'MEA1', 'MEAF6', 'MEAK7', 'MECP2', 'MECR', 'MED1', 'MED10', 'MED11', 'MED12', 'MED12L', 'MED13', 'MED13L', 'MED14', 'MED14OS', 'MED15', 'MED15P4', 'MED15P9', 'MED16', 'MED17', 'MED18', 'MED19', 'MED20', 'MED21', 'MED22', 'MED23', 'MED24', 'MED25', 'MED26', 'MED27', 'MED28', 'MED29', 'MED30', 'MED31', 'MED4', 'MED4-AS1', 'MED6', 'MED7', 'MED8', 'MED8-AS1', 'MED9', 'MEF2A', 'MEF2B', 'MEF2C-AS2', 'MEF2D', 'MEFV', 'MEGF8', 'MEGF9', 'MEIG1', 'MEIKIN', 'MEIOB', 'MEIOC', 'MEIS1-AS2', 'MEIS1-AS3', 'MEIS2', 'MEIS3', 'MEIS3P1', 'MEIS3P2', 'MELTF', 'MELTF-AS1', 'MEMO1', 'MEMO1P1', 'MEN1', 'MEP1B', 'MEPCE', 'MESD', 'MESP1', 'MEST', 'MESTIT1', 'MESTP1', 'MESTP3', 'MET', 'METAP1', 'METAP1D', 'METAP2', 'METRN', 'METRNL', 'METTL1', 'METTL13', 'METTL14', 'METTL15', 'METTL15P1', 'METTL16', 'METTL17', 'METTL18', 'METTL1P1', 'METTL21A', 'METTL22', 'METTL23', 'METTL25', 'METTL25B', 'METTL26', 'METTL27', 'METTL2A', 'METTL2B', 'METTL3', 'METTL4', 'METTL5', 'METTL6', 'METTL7A', 'METTL7B', 'METTL8', 'METTL9', 'MEX3A', 'MEX3B', 'MEX3C', 'MEX3D', 'MFAP1', 'MFAP2', 'MFAP3', 'MFAP3L', 'MFAP4', 'MFAP5', 'MFF', 'MFF-DT', 'MFFP2', 'MFGE8', 'MFHAS1', 'MFN1', 'MFN2', 'MFSD1', 'MFSD10', 'MFSD11', 'MFSD12', 'MFSD13A', 'MFSD14A', 'MFSD14B', 'MFSD14C', 'MFSD1P1', 'MFSD2B', 'MFSD4A', 'MFSD4B', 'MFSD5', 'MFSD6', 'MFSD8', 'MFSD9', 'MGA', 'MGARP', 'MGAT1', 'MGAT2', 'MGAT4A', 'MGAT4B', 'MGAT5', 'MGME1', 'MGMT', 'MGRN1', 'MGST1', 'MGST2', 'MGST3', 'MHENCR', 'MIA-RAB4B', 'MIA2', 'MIA2-AS1', 'MIA3', 'MIAT', 'MIATNB', 'MIB1', 'MIB2', 'MICA', 'MICAL1', 'MICALL1', 'MICALL2', 'MICB', 'MICE', 'MICOS10', 'MICOS10-NBL1', 'MICOS10P2', 'MICOS13', 'MICU1', 'MICU2', 'MID1IP1', 'MID2', 'MIDEAS', 'MIDN', 'MIEF1', 'MIEF2', 'MIEN1', 'MIER1', 'MIER2', 'MIER3', 'MIF', 'MIF-AS1', 'MIF4GD', 'MIF4GD-DT', 'MIGA1', 'MIIP', 'MINAR2', 'MINCR', 'MINDY1', 'MINDY2', 'MINDY3', 'MINDY4', 'MINDY4B', 'MINK1', 'MINPP1', 'MIOS', 'MIOS-DT', 'MIP', 'MIPEP', 'MIPEPP3', 'MIPOL1', 'MIR101-1', 'MIR103A2', 'MIR103B2', 'MIR106B', 'MIR1178', 'MIR1181', 'MIR1182', 'MIR1199', 'MIR1204', 'MIR1226', 'MIR1227', 'MIR1229', 'MIR1236', 'MIR1237', 'MIR1238', 'MIR1244-1', 'MIR1244-2', 'MIR1247', 'MIR1248', 'MIR1281', 'MIR1282', 'MIR1287', 'MIR1291', 'MIR1292', 'MIR1306', 'MIR1307', 'MIR141', 'MIR1469', 'MIR147B', 'MIR149', 'MIR17HG', 'MIR181A1HG', 'MIR181A2HG', 'MIR1825', 'MIR1909', 'MIR1914', 'MIR1915HG', 'MIR193A', 'MIR193BHG', 'MIR1972-1', 'MIR200CHG', 'MIR205HG', 'MIR21', 'MIR210', 'MIR2110', 'MIR22', 'MIR2276', 'MIR2277', 'MIR22HG', 'MIR23AHG', 'MIR23B', 'MIR24-1', 'MIR24-2', 'MIR25', 'MIR27B', 'MIR296', 'MIR29C', 'MIR302CHG', 'MIR3064', 'MIR3074', 'MIR3150BHG', 'MIR3153', 'MIR3184', 'MIR3187', 'MIR3198-2', 'MIR324', 'MIR339', 'MIR34A', 'MIR34AHG', 'MIR3605', 'MIR3606', 'MIR3610', 'MIR3614', 'MIR3615', 'MIR3618', 'MIR3620', 'MIR3621', 'MIR3650', 'MIR3651', 'MIR3652', 'MIR3654', 'MIR3655', 'MIR3658', 'MIR3661', 'MIR3665', 'MIR3677HG', 'MIR3680-1', 'MIR374B', 'MIR374C', 'MIR378A', 'MIR378D2', 'MIR3911', 'MIR3916', 'MIR3917', 'MIR3918', 'MIR3934', 'MIR3936HG', 'MIR3939', 'MIR3940', 'MIR421', 'MIR423', 'MIR4253', 'MIR4258', 'MIR4260', 'MIR4263', 'MIR4292', 'MIR4315-1', 'MIR4315-2', 'MIR4321', 'MIR4426', 'MIR4428', 'MIR4429', 'MIR4442', 'MIR4444-1', 'MIR4453', 'MIR4453HG', 'MIR4458HG', 'MIR4469', 'MIR4473', 'MIR4482', 'MIR4492', 'MIR4497', 'MIR4512', 'MIR4515', 'MIR4517', 'MIR4519', 'MIR4639', 'MIR4640', 'MIR4644', 'MIR4646', 'MIR4647', 'MIR4648', 'MIR4653', 'MIR4657', 'MIR4658', 'MIR4664', 'MIR4665', 'MIR4674', 'MIR4680', 'MIR4685', 'MIR4687', 'MIR4690', 'MIR4691', 'MIR4700', 'MIR4707', 'MIR4709', 'MIR4712', 'MIR4713HG', 'MIR4720', 'MIR4721', 'MIR4722', 'MIR4723', 'MIR4733HG', 'MIR4737', 'MIR4741', 'MIR4746', 'MIR4749', 'MIR4750', 'MIR4751', 'MIR4754', 'MIR4756', 'MIR4758', 'MIR4760', 'MIR4761', 'MIR4767', 'MIR4775', 'MIR4784', 'MIR4785', 'MIR4787', 'MIR4793', 'MIR4800', 'MIR484', 'MIR492', 'MIR497HG', 'MIR5001', 'MIR5006', 'MIR5010', 'MIR503HG', 'MIR5047', 'MIR5088', 'MIR5090', 'MIR5187', 'MIR5191', 'MIR5196', 'MIR555', 'MIR5572', 'MIR5581', 'MIR564', 'MIR570', 'MIR5703', 'MIR573', 'MIR600', 'MIR600HG', 'MIR6077', 'MIR6080', 'MIR6084', 'MIR611', 'MIR612', 'MIR6125', 'MIR6126', 'MIR614', 'MIR616', 'MIR621', 'MIR622', 'MIR631', 'MIR632', 'MIR635', 'MIR636', 'MIR637', 'MIR638', 'MIR639', 'MIR646HG', 'MIR647', 'MIR6501', 'MIR6506', 'MIR6510', 'MIR6511B1', 'MIR6513', 'MIR6514', 'MIR6515', 'MIR6516', 'MIR658', 'MIR671', 'MIR6716', 'MIR6717', 'MIR6719', 'MIR6721', 'MIR6726', 'MIR6727', 'MIR6728', 'MIR6729', 'MIR6730', 'MIR6732', 'MIR6733', 'MIR6734', 'MIR6736', 'MIR6737', 'MIR6739', 'MIR6740', 'MIR6741', 'MIR6742', 'MIR6743', 'MIR6746', 'MIR6747', 'MIR6748', 'MIR6751', 'MIR6752', 'MIR6753', 'MIR6754', 'MIR6755', 'MIR6758', 'MIR6759', 'MIR6762', 'MIR6763', 'MIR6764', 'MIR6765', 'MIR6767', 'MIR6773', 'MIR6775', 'MIR6776', 'MIR6777', 'MIR6778', 'MIR6779', 'MIR6781', 'MIR6784', 'MIR6785', 'MIR6786', 'MIR6787', 'MIR6789', 'MIR6790', 'MIR6791', 'MIR6792', 'MIR6796', 'MIR6797', 'MIR6798', 'MIR6799', 'MIR6800', 'MIR6802', 'MIR6804', 'MIR6805', 'MIR6807', 'MIR6808', 'MIR6810', 'MIR6811', 'MIR6816', 'MIR6817', 'MIR6819', 'MIR6820', 'MIR6821', 'MIR6823', 'MIR6824', 'MIR6825', 'MIR6826', 'MIR6830', 'MIR6831', 'MIR6833', 'MIR6835', 'MIR6836', 'MIR6837', 'MIR6838', 'MIR6839', 'MIR6840', 'MIR6843', 'MIR6844', 'MIR6847', 'MIR6848', 'MIR6849', 'MIR6850', 'MIR6851', 'MIR6852', 'MIR6853', 'MIR6855', 'MIR6856', 'MIR6857', 'MIR6859-1', 'MIR6859-4', 'MIR6861', 'MIR6865', 'MIR6866', 'MIR6868', 'MIR6869', 'MIR6871', 'MIR6872', 'MIR6873', 'MIR6875', 'MIR6877', 'MIR6878', 'MIR6879', 'MIR6882', 'MIR6885', 'MIR6886', 'MIR6887', 'MIR6889', 'MIR6890', 'MIR6891', 'MIR6892', 'MIR6893', 'MIR6894', 'MIR7106', 'MIR7107', 'MIR7108', 'MIR7109', 'MIR7110', 'MIR7111', 'MIR7112', 'MIR7113', 'MIR718', 'MIR761', 'MIR762', 'MIR762HG', 'MIR7703', 'MIR7705', 'MIR7706', 'MIR7844', 'MIR7845', 'MIR8072', 'MIR8085', 'MIR877', 'MIR9-3HG', 'MIR922', 'MIR924HG', 'MIR93', 'MIR936', 'MIR937', 'MIR939', 'MIR940', 'MIR943', 'MIR99AHG', 'MIRLET7A1HG', 'MIRLET7BHG', 'MIRLET7D', 'MIRLET7I', 'MIRLET7IHG', 'MIS12', 'MIS18A', 'MIS18A-AS1', 'MIS18BP1', 'MISP', 'MISP3', 'MITD1', 'MIX23', 'MKKS', 'MKLN1', 'MKLN1-AS', 'MKNK1', 'MKNK1-AS1', 'MKRN1', 'MKRN2', 'MKRN2OS', 'MKRN4P', 'MKRN5P', 'MKRN8P', 'MKRN9P', 'MKS1', 'MKX-AS1', 'MLEC', 'MLF1', 'MLF2', 'MLH1', 'MLH3', 'MLKL', 'MLLT1', 'MLLT10', 'MLLT11', 'MLLT3', 'MLLT6', 'MLST8', 'MLX', 'MLXIP', 'MLXIPL', 'MLYCD', 'MMAA', 'MMAB', 'MMACHC', 'MMADHC', 'MMADHC-DT', 'MMADHCP2', 'MMD', 'MMEL1', 'MMGT1', 'MMP15', 'MMP19', 'MMP24', 'MMP24OS', 'MMP25', 'MMP25-AS1', 'MMP9', 'MMS19', 'MMS22L', 'MMUT', 'MNAT1', 'MND1', 'MNS1', 'MNT', 'MNX1', 'MNX1-AS1', 'MNX1-AS2', 'MOAP1', 'MOB1A', 'MOB1B', 'MOB2', 'MOB3A', 'MOB4', 'MOB4P2', 'MOCOS', 'MOCS1', 'MOCS2', 'MOCS2-DT', 'MOCS3', 'MOGS', 'MOK', 'MON1A', 'MON1B', 'MON2', 'MORC2', 'MORC2-AS1', 'MORC3', 'MORC4', 'MORF4L1', 'MORF4L1P1', 'MORF4L2', 'MORF4L2-AS1', 'MORN1', 'MORN2', 'MORN3', 'MORN4', 'MOSMO', 'MOSPD1', 'MOSPD2', 'MOSPD3', 'MPC1', 'MPC1-DT', 'MPC2', 'MPDU1', 'MPDZ', 'MPG', 'MPHOSPH10', 'MPHOSPH6', 'MPHOSPH8', 'MPHOSPH9', 'MPI', 'MPL', 'MPLKIP', 'MPND', 'MPP3', 'MPP7', 'MPP7-DT', 'MPPE1', 'MPRIP', 'MPRIP-AS1', 'MPRIPP1', 'MPST', 'MPV17', 'MPV17L', 'MPZL1', 'MPZL2', 'MPZL3', 'MR1', 'MRAP', 'MRAS', 'MRE11', 'MREG', 'MRFAP1', 'MRFAP1L1', 'MRGBP', 'MRI1', 'MRM1', 'MRM2', 'MRM3', 'MROH1', 'MROH6', 'MROH7-TTC4', 'MROH8', 'MRPL1', 'MRPL10', 'MRPL11', 'MRPL12', 'MRPL13', 'MRPL14', 'MRPL15', 'MRPL16', 'MRPL17', 'MRPL18', 'MRPL19', 'MRPL2', 'MRPL20', 'MRPL20-AS1', 'MRPL20-DT', 'MRPL21', 'MRPL22', 'MRPL23', 'MRPL24', 'MRPL27', 'MRPL28', 'MRPL3', 'MRPL30', 'MRPL32', 'MRPL32P2', 'MRPL33', 'MRPL34', 'MRPL35', 'MRPL35P2', 'MRPL35P3', 'MRPL36', 'MRPL37', 'MRPL38', 'MRPL39', 'MRPL3P1', 'MRPL4', 'MRPL40', 'MRPL41', 'MRPL42', 'MRPL43', 'MRPL44', 'MRPL45', 'MRPL45P2', 'MRPL46', 'MRPL47', 'MRPL48', 'MRPL49', 'MRPL50', 'MRPL51', 'MRPL52', 'MRPL53', 'MRPL53P1', 'MRPL54', 'MRPL55', 'MRPL57', 'MRPL58', 'MRPL9', 'MRPS10', 'MRPS11', 'MRPS12', 'MRPS14', 'MRPS15', 'MRPS16', 'MRPS17', 'MRPS17P1', 'MRPS18A', 'MRPS18AP1', 'MRPS18B', 'MRPS18C', 'MRPS2', 'MRPS21', 'MRPS22', 'MRPS23', 'MRPS24', 'MRPS25', 'MRPS26', 'MRPS27', 'MRPS28', 'MRPS30', 'MRPS30-DT', 'MRPS31', 'MRPS31P4', 'MRPS31P5', 'MRPS33', 'MRPS34', 'MRPS35', 'MRPS35-DT', 'MRPS36', 'MRPS36P1', 'MRPS5', 'MRPS6', 'MRPS7', 'MRPS9', 'MRPS9-AS1', 'MRRF', 'MRS2', 'MRS2P2', 'MRTFA', 'MRTFA-AS1', 'MRTFB', 'MRTO4', 'MSANTD2', 'MSANTD3', 'MSANTD3-TMEFF1', 'MSANTD4', 'MSH2', 'MSH3', 'MSH5', 'MSH5-SAPCD1', 'MSH6', 'MSI1', 'MSI2', 'MSL1', 'MSL2', 'MSL3', 'MSL3P1', 'MSLNL', 'MSMO1', 'MSMP', 'MSRA', 'MSRB1', 'MSRB2', 'MSRB3', 'MST1L', 'MST1P2', 'MSTO1', 'MSTO2P', 'MSX1', 'MSX2', 'MT-ND1', 'MT-ND2', 'MT-ND3', 'MT-ND4L', 'MT-ND6', 'MT-TA', 'MT-TC', 'MT-TD', 'MT-TE', 'MT-TF', 'MT-TG', 'MT-TH', 'MT-TI', 'MT-TK', 'MT-TL1', 'MT-TL2', 'MT-TM', 'MT-TP', 'MT-TQ', 'MT-TR', 'MT-TS1', 'MT-TS2', 'MT-TT', 'MT-TV', 'MT-TW', 'MT-TY', 'MT1DP', 'MT1F', 'MT1P1', 'MT1P3', 'MT1XP1', 'MT2P1', 'MTA1', 'MTA2', 'MTA3', 'MTAP', 'MTARC1', 'MTARC2', 'MTATP8P1', 'MTBP', 'MTCH1', 'MTCH2', 'MTCL1', 'MTCO1P12', 'MTCO1P40', 'MTCO1P53', 'MTCO1P7', 'MTCO2P12', 'MTCO3P12', 'MTCP1', 'MTCYBP18', 'MTCYBP32', 'MTDH', 'MTERF1', 'MTERF2', 'MTERF3', 'MTERF4', 'MTF1', 'MTF2', 'MTFMT', 'MTFP1', 'MTFR1', 'MTFR1L', 'MTFR2', 'MTG1', 'MTG2', 'MTHFD1L', 'MTHFD1P1', 'MTHFD2', 'MTHFD2L', 'MTHFR', 'MTHFS', 'MTHFSD', 'MTIF2', 'MTIF3', 'MTLN', 'MTM1', 'MTMR1', 'MTMR10', 'MTMR11', 'MTMR12', 'MTMR14', 'MTMR2', 'MTMR4', 'MTMR6', 'MTMR7', 'MTMR9', 'MTMR9LP', 'MTND1P23', 'MTND1P9', 'MTND2P28', 'MTND4P12', 'MTND5P11', 'MTND6P4', 'MTO1', 'MTOR', 'MTOR-AS1', 'MTPAP', 'MTPN', 'MTR', 'MTRES1', 'MTREX', 'MTRF1', 'MTRF1L', 'MTRFR', 'MTRNR2L12', 'MTRNR2L3', 'MTRNR2L8', 'MTRR', 'MTSS2', 'MTTP', 'MTURN', 'MTUS1', 'MTUS1-DT', 'MTX1', 'MTX1P1', 'MTX2', 'MTX3', 'MUC12', 'MUC12-AS1', 'MUC20', 'MUC20-OT1', 'MUC20P1', 'MUC3A', 'MUC5B-AS1', 'MUL1', 'MUS81', 'MUTYH', 'MVB12A', 'MVB12B', 'MVK', 'MXD3', 'MXI1', 'MXRA7', 'MYADM-AS1', 'MYB', 'MYB-AS1', 'MYBBP1A', 'MYBL1', 'MYCBP', 'MYCBP2', 'MYCBP2-AS1', 'MYCL-AS1', 'MYD88', 'MYDGF', 'MYEF2', 'MYG1', 'MYG1-AS1', 'MYH10', 'MYH11', 'MYH14', 'MYH7B', 'MYL12-AS1', 'MYL12A', 'MYL12AP1', 'MYL12B', 'MYL12BP1', 'MYL12BP2', 'MYL12BP3', 'MYL5', 'MYL6', 'MYL6B', 'MYL6B-AS1', 'MYL6P1', 'MYL6P2', 'MYL6P3', 'MYL6P5', 'MYLK', 'MYLK-AS1', 'MYLK3', 'MYLPF', 'MYNN', 'MYO16', 'MYO19', 'MYO1C', 'MYO1D', 'MYO1F', 'MYO1H', 'MYO5A', 'MYO5B', 'MYO5C', 'MYO6', 'MYO9A', 'MYO9B', 'MYOF', 'MYOM1', 'MYOM3', 'MYOZ2', 'MYPOP', 'MYRF-AS1', 'MYRFL', 'MYSM1', 'MZB1', 'MZF1', 'MZF1-AS1', 'MZT1', 'MZT2A', 'MZT2B', 'N4BP1', 'N4BP2', 'N4BP2L1', 'N4BP2L2', 'N4BP2L2-IT2', 'N6AMT1', 'NAA10', 'NAA15', 'NAA16', 'NAA20', 'NAA25', 'NAA30', 'NAA35', 'NAA38', 'NAA40', 'NAA50', 'NAA60', 'NAA80', 'NAAA', 'NAALADL1', 'NAALADL2', 'NAALADL2-AS2', 'NAB1', 'NAB2', 'NABP1', 'NABP2', 'NACA', 'NACA2', 'NACA3P', 'NACA4P', 'NACAP8', 'NACC1', 'NACC2', 'NADK', 'NADK2', 'NADSYN1', 'NAE1', 'NAF1', 'NAGA', 'NAGK', 'NAGPA', 'NAGS', 'NAIF1', 'NAIP', 'NAIPP2', 'NAIPP4', 'NALF2', 'NALT1', 'NAMPT', 'NAMPTP1', 'NANOGP1', 'NANOS1', 'NANOS3', 'NANP', 'NANS', 'NAP1L1', 'NAP1L2', 'NAP1L4', 'NAP1L4P1', 'NAP1L5', 'NAP1L6P', 'NAPA', 'NAPA-AS1', 'NAPB', 'NAPEPLD', 'NAPG', 'NARF', 'NARF-AS2', 'NARS1', 'NARS2', 'NASP', 'NAT10', 'NAT14', 'NAT16', 'NAT9', 'NAV1', 'NAV2-AS1', 'NAV2-AS2', 'NAXD', 'NAXE', 'NBAS', 'NBDY', 'NBEA', 'NBEAL1', 'NBEAP2', 'NBEAP5', 'NBEAP6', 'NBL1', 'NBN', 'NBPF1', 'NBPF10', 'NBPF11', 'NBPF12', 'NBPF13P', 'NBPF14', 'NBPF15', 'NBPF17P', 'NBPF19', 'NBPF20', 'NBPF25P', 'NBPF26', 'NBPF2P', 'NBPF3', 'NBPF4', 'NBPF5P', 'NBPF6', 'NBPF8', 'NBPF9', 'NBR1', 'NBR2', 'NCAM2', 'NCAPD2P1', 'NCAPD3', 'NCAPG', 'NCAPH2', 'NCBP1', 'NCBP2', 'NCBP2-AS1', 'NCBP2AS2', 'NCBP2L', 'NCBP3', 'NCDN', 'NCEH1', 'NCF4', 'NCK1', 'NCK1-DT', 'NCK2', 'NCKAP1', 'NCKAP5-AS2', 'NCKAP5L', 'NCKIPSD', 'NCL', 'NCLN', 'NCMAP-DT', 'NCOA1', 'NCOA2', 'NCOA4', 'NCOA4P3', 'NCOA5', 'NCOA6', 'NCOA7', 'NCOR1', 'NCOR2', 'NCS1', 'NCSTN', 'NDC1', 'NDE1', 'NDEL1', 'NDFIP1', 'NDFIP2', 'NDOR1', 'NDRG2', 'NDRG3', 'NDST1-AS1', 'NDST2', 'NDUFA1', 'NDUFA10', 'NDUFA11', 'NDUFA12', 'NDUFA13', 'NDUFA2', 'NDUFA3', 'NDUFA4', 'NDUFA4L2', 'NDUFA4P1', 'NDUFA5', 'NDUFA5P11', 'NDUFA6', 'NDUFA6-DT', 'NDUFA7', 'NDUFA8', 'NDUFA9', 'NDUFA9P1', 'NDUFAB1', 'NDUFAF1', 'NDUFAF2', 'NDUFAF3', 'NDUFAF4', 'NDUFAF5', 'NDUFAF6', 'NDUFAF7', 'NDUFAF8', 'NDUFB1', 'NDUFB10', 'NDUFB11', 'NDUFB1P1', 'NDUFB2', 'NDUFB2-AS1', 'NDUFB3', 'NDUFB4', 'NDUFB4P12', 'NDUFB5', 'NDUFB6', 'NDUFB7', 'NDUFB8', 'NDUFB8P2', 'NDUFB9', 'NDUFB9P2', 'NDUFC1', 'NDUFC2', 'NDUFC2-KCTD14', 'NDUFS1', 'NDUFS2', 'NDUFS3', 'NDUFS4', 'NDUFS5', 'NDUFS5P1', 'NDUFS6', 'NDUFS7', 'NDUFS8', 'NDUFV1', 'NDUFV2', 'NDUFV2-AS1', 'NDUFV2P1', 'NDUFV3', 'NEB', 'NEBL', 'NEBL-AS1', 'NECAB2', 'NECAB3', 'NECAP1', 'NECAP2', 'NECTIN1', 'NECTIN1-DT', 'NECTIN3', 'NECTIN4-AS1', 'NEDD1', 'NEDD4', 'NEDD4L', 'NEDD8', 'NEDD8-MDP1', 'NEDD8P1', 'NEIL1', 'NEIL2', 'NEIL3', 'NEK1', 'NEK10', 'NEK11', 'NEK3', 'NEK4', 'NEK5', 'NEK6', 'NEK7', 'NEK8', 'NEK9', 'NELFA', 'NELFB', 'NELFCD', 'NELFE', 'NEMF', 'NEMP1', 'NEMP2', 'NENF', 'NEO1', 'NEPRO', 'NES', 'NET1', 'NETO2', 'NEU1', 'NEU3', 'NEURL2', 'NEURL4', 'NF1', 'NF2', 'NFAT5', 'NFATC1', 'NFATC2', 'NFATC2IP', 'NFATC3', 'NFATC4', 'NFE2L1', 'NFE2L1-DT', 'NFE2L3', 'NFIB', 'NFIC', 'NFIX', 'NFKB1', 'NFKB2', 'NFKBIB', 'NFKBID', 'NFKBIE', 'NFKBIL1', 'NFRKB', 'NFS1', 'NFU1', 'NFX1', 'NFXL1', 'NFYA', 'NFYB', 'NFYC', 'NFYC-AS1', 'NGDN', 'NGEF', 'NGFR-AS1', 'NGLY1', 'NGRN', 'NHEJ1', 'NHLRC1', 'NHLRC2', 'NHLRC3', 'NHLRC4', 'NHP2', 'NHP2P1', 'NHP2P2', 'NHSL1', 'NIBAN2', 'NICN1', 'NID2', 'NIF3L1', 'NIFK', 'NIFK-AS1', 'NIN', 'NINJ2', 'NINJ2-AS1', 'NINL', 'NIP7', 'NIPA1', 'NIPA2', 'NIPAL1', 'NIPAL2', 'NIPAL3', 'NIPBL', 'NIPBL-DT', 'NIPSNAP1', 'NIPSNAP2', 'NIPSNAP3A', 'NIPSNAP3B', 'NISCH', 'NIT1', 'NIT2', 'NKAIN3', 'NKAP', 'NKAPD1', 'NKAPP1', 'NKD1', 'NKILA', 'NKIRAS1', 'NKIRAS2', 'NKRF', 'NKTR', 'NKX2-8', 'NKX3-1', 'NKX3-2', 'NKX6-2', 'NLE1', 'NLGN2', 'NLK', 'NLN', 'NLRC3', 'NLRP3P1', 'NMB', 'NMD3', 'NMD3P1', 'NME2', 'NME2P1', 'NME4', 'NME5', 'NME6', 'NME7', 'NMI', 'NMNAT1', 'NMNAT2', 'NMNAT3', 'NMRAL1', 'NMRK1', 'NMT1', 'NMT2', 'NMU', 'NNT', 'NNT-AS1', 'NOA1', 'NOB1', 'NOC2L', 'NOC2LP1', 'NOC2LP2', 'NOC3L', 'NOC4L', 'NOCT', 'NOD1', 'NOL10', 'NOL11', 'NOL12', 'NOL4L', 'NOL7', 'NOL8', 'NOL9', 'NOLC1', 'NOM1', 'NOMO1', 'NOMO2', 'NOMO3', 'NONO', 'NONOP2', 'NOP10', 'NOP14', 'NOP14-AS1', 'NOP16', 'NOP53', 'NOP53-AS1', 'NOP56', 'NOP56P3', 'NOP58', 'NOP9', 'NOPCHAP1', 'NORAD', 'NOS1AP', 'NOSIP', 'NOSTRIN', 'NOTCH2NLA', 'NOTCH3', 'NOTCH4', 'NOVA1', 'NOVA1-DT', 'NOX5', 'NOXA1', 'NOXO1', 'NOXRED1', 'NPAS1', 'NPAS2', 'NPAS2-AS1', 'NPAS3', 'NPAT', 'NPB', 'NPC1', 'NPC2', 'NPDC1', 'NPEPL1', 'NPEPPS', 'NPEPPSP1', 'NPFF', 'NPHP1', 'NPHP3', 'NPHP3-ACAD11', 'NPHP3-AS1', 'NPIPA1', 'NPIPA2', 'NPIPA5', 'NPIPA9', 'NPIPB10P', 'NPIPB11', 'NPIPB12', 'NPIPB13', 'NPIPB14P', 'NPIPB15', 'NPIPB2', 'NPIPB3', 'NPIPB4', 'NPIPB5', 'NPIPB6', 'NPIPB7', 'NPIPB9', 'NPIPP1', 'NPL', 'NPLOC4', 'NPM1', 'NPM1P21', 'NPM1P25', 'NPM1P26', 'NPM1P27', 'NPM1P30', 'NPM1P32', 'NPM1P35', 'NPM1P37', 'NPM1P39', 'NPM1P5', 'NPM1P6', 'NPM1P7', 'NPM3', 'NPPA', 'NPPC', 'NPRL2', 'NPRL3', 'NPTN', 'NPTN-IT1', 'NPTXR', 'NPW', 'NPY5R', 'NQO1-DT', 'NQO2', 'NQO2-AS1', 'NR1D2', 'NR1H2', 'NR1H3', 'NR1I3', 'NR2C1', 'NR2C2', 'NR2C2AP', 'NR2E3', 'NR2F1', 'NR2F1-AS1', 'NR2F2-AS1', 'NR2F6', 'NR5A2', 'NR6A1', 'NRAS', 'NRAV', 'NRBF2', 'NRBF2P6', 'NRBP1', 'NRBP2', 'NRCAM', 'NRDC', 'NRDE2', 'NREP', 'NRF1', 'NRG2', 'NRG3', 'NRG3-AS1', 'NRG4', 'NRGN', 'NRIP1', 'NRIP2', 'NRL', 'NRM', 'NRN1L', 'NRSN2', 'NRSN2-AS1', 'NRTN', 'NSA2', 'NSA2P1', 'NSA2P6', 'NSA2P7', 'NSD1', 'NSD2', 'NSD3', 'NSDHL', 'NSF', 'NSFL1C', 'NSG1', 'NSL1', 'NSMAF', 'NSMCE1', 'NSMCE1-DT', 'NSMCE2', 'NSMCE3', 'NSMCE4A', 'NSMF', 'NSRP1', 'NSUN2', 'NSUN3', 'NSUN4', 'NSUN5', 'NSUN5P1', 'NSUN5P2', 'NSUN6', 'NSUN7', 'NT5C', 'NT5C1B', 'NT5C1B-RDH14', 'NT5C2', 'NT5C3A', 'NT5C3AP1', 'NT5C3B', 'NT5DC1', 'NT5DC1P2', 'NT5DC3', 'NT5DC4', 'NT5M', 'NTAN1', 'NTAN1P2', 'NTAQ1', 'NTF4', 'NTHL1', 'NTMT1', 'NTN1', 'NTNG2', 'NTPCR', 'NUB1', 'NUBP1', 'NUBP2', 'NUBPL', 'NUCB1', 'NUCB1-AS1', 'NUCB2', 'NUCKS1', 'NUDC', 'NUDCD1', 'NUDCD2', 'NUDCD3', 'NUDCP1', 'NUDCP2', 'NUDT1', 'NUDT12', 'NUDT13', 'NUDT14', 'NUDT15', 'NUDT16', 'NUDT16-DT', 'NUDT16L1', 'NUDT17', 'NUDT18', 'NUDT19', 'NUDT19-DT', 'NUDT2', 'NUDT21', 'NUDT22', 'NUDT3', 'NUDT4', 'NUDT5', 'NUDT6', 'NUDT7', 'NUDT8', 'NUDT9', 'NUF2', 'NUFIP1', 'NUFIP1P1', 'NUFIP2', 'NUMA1', 'NUMB', 'NUMBL', 'NUP107', 'NUP107-DT', 'NUP133', 'NUP153', 'NUP153-AS1', 'NUP155', 'NUP160', 'NUP205', 'NUP210L', 'NUP210P3', 'NUP214', 'NUP35', 'NUP37', 'NUP42', 'NUP43', 'NUP50', 'NUP50-DT', 'NUP54', 'NUP58', 'NUP62', 'NUP62CL', 'NUP85', 'NUP88', 'NUP93', 'NUP98', 'NUS1', 'NUS1P1', 'NUS1P2', 'NUTF2', 'NUTF2P2', 'NUTF2P4', 'NUTM2A-AS1', 'NUTM2B-AS1', 'NUTM2G', 'NVL', 'NXF1', 'NXN', 'NXNL2', 'NXPE3', 'NXPH3', 'NXPH4', 'NXT1', 'NXT1-AS1', 'NXT2', 'NYAP2', 'OAF', 'OARD1', 'OAT', 'OAZ1', 'OAZ2', 'OAZ3', 'OBI1', 'OBI1-AS1', 'OBSCN-AS1', 'OCEL1', 'OCIAD1', 'OCIAD1-AS1', 'OCIAD2', 'OCLN', 'OCLNP1', 'OCRL', 'ODAD1', 'ODAD2', 'ODAD2P1', 'ODAD3', 'ODAD4', 'ODC1', 'ODCP', 'ODF2', 'ODF2-AS1', 'ODF2L', 'ODF3B', 'ODR4', 'OFD1', 'OGA', 'OGDH', 'OGFOD1', 'OGFOD1P1', 'OGFOD2', 'OGFOD3', 'OGFR', 'OGFR-AS1', 'OGFRL1', 'OGFRP1', 'OGG1', 'OGT', 'OIP5', 'OIP5-AS1', 'OLA1', 'OLA1P1', 'OLA1P3', 'OLAH', 'OLFM2', 'OLMALINC', 'OMA1', 'OMD', 'OMG', 'ONECUT1', 'ONECUT2', 'OOEP', 'OPA1', 'OPA1-AS1', 'OPA3', 'OPHN1', 'OPN1SW', 'OPN3', 'OPTN', 'OR10K2', 'OR11H13P', 'OR13C1P', 'OR13E1P', 'OR1X5P', 'OR2A1-AS1', 'OR2A20P', 'OR2A9P', 'OR2B6', 'OR4D1', 'OR4F16', 'OR4F28P', 'OR4F29', 'OR4F2P', 'OR4F3', 'OR4F7P', 'OR5M3', 'OR6D1P', 'OR6J1', 'OR7C1', 'OR7E102P', 'OR7E106P', 'OR7E126P', 'OR7E13P', 'OR7E14P', 'OR7E26P', 'OR7E36P', 'OR7E38P', 'OR7E39P', 'OR8A1', 'OR8B4', 'OR8B9P', 'OR8D1', 'OR8G5', 'OR8Q1P', 'ORAI1', 'ORAI2', 'ORAI3', 'ORC2', 'ORC3', 'ORC4', 'ORC5', 'ORC6', 'ORMDL1', 'ORMDL2', 'ORMDL3', 'OS9', 'OSBP', 'OSBP2', 'OSBPL10', 'OSBPL11', 'OSBPL1A', 'OSBPL2', 'OSBPL3', 'OSBPL5', 'OSBPL8', 'OSBPL9', 'OSBPL9P2', 'OSCAR', 'OSCP1', 'OSER1-DT', 'OSGEP', 'OSGEPL1', 'OSGEPL1-AS1', 'OSGIN2', 'OSMR', 'OSMR-DT', 'OST4', 'OSTC', 'OSTCP4', 'OSTCP5', 'OSTF1', 'OSTF1P1', 'OSTM1', 'OTOGL', 'OTOR', 'OTOS', 'OTP', 'OTUB1', 'OTUB2', 'OTUD1', 'OTUD3', 'OTUD4', 'OTUD4P1', 'OTUD5', 'OTUD6B', 'OTUD6B-AS1', 'OTUD7B', 'OTULIN', 'OTULIN-DT', 'OTULINL', 'OTX1', 'OVCA2', 'OVOL2', 'OVOL3', 'OXA1L', 'OXA1L-DT', 'OXCT1', 'OXCT1-AS1', 'OXLD1', 'OXNAD1', 'OXR1', 'OXR1-AS1', 'OXSM', 'OXSR1', 'P2RX2', 'P2RX4', 'P2RX5-TAX1BP3', 'P2RX6', 'P2RY11', 'P2RY14', 'P3H4', 'P3R3URF-PIK3R3', 'P4HA2-AS1', 'P4HA3', 'P4HA3-AS1', 'P4HB', 'P4HTM', 'PA2G4', 'PA2G4P1', 'PA2G4P2', 'PA2G4P4', 'PA2G4P5', 'PA2G4P6', 'PAAF1', 'PABIR1', 'PABIR2', 'PABIR3', 'PABPC1', 'PABPC1L', 'PABPC1P1', 'PABPC1P3', 'PABPC1P4', 'PABPC3', 'PABPC4', 'PABPC4-AS1', 'PABPN1', 'PABPN1L', 'PABPN1P1', 'PABPN1P2', 'PACC1', 'PACRG', 'PACRGL', 'PACS1', 'PACS2', 'PACSIN1', 'PACSIN2', 'PACSIN3', 'PADI6', 'PAF1', 'PAFAH1B1', 'PAFAH1B2', 'PAFAH1B3', 'PAFAH2', 'PAGR1', 'PAICS', 'PAICSP1', 'PAICSP4', 'PAIP1', 'PAIP1P1', 'PAIP2', 'PAIP2B', 'PAK1', 'PAK1IP1', 'PAK2', 'PAK4', 'PAK6-AS1', 'PALB2', 'PALM', 'PALM3', 'PALMD', 'PALS1', 'PALS2', 'PAM16', 'PAN2', 'PAN3', 'PAN3-AS1', 'PANDAR', 'PANK1', 'PANK2', 'PANK2-AS1', 'PANK3', 'PANK4', 'PANX1', 'PAPLN', 'PAPOLA', 'PAPOLA-DT', 'PAPOLG', 'PAPSS1', 'PAQR3', 'PAQR5', 'PAQR7', 'PAQR9-AS1', 'PARD3', 'PARD3-AS1', 'PARD3B', 'PARD6A', 'PARD6B', 'PARD6G', 'PARG', 'PARGP1', 'PARK7', 'PARK7P1', 'PARL', 'PARN', 'PARP1', 'PARP11', 'PARP16', 'PARP1P1', 'PARP2', 'PARP4', 'PARP4P1', 'PARP6', 'PARP8', 'PARP9', 'PARPBP', 'PARS2', 'PART1', 'PARVA', 'PARVB', 'PATJ', 'PATJ-DT', 'PATL1', 'PATZ1', 'PAX5', 'PAX8', 'PAX8-AS1', 'PAXBP1', 'PAXBP1-AS1', 'PAXIP1', 'PAXIP1-AS2', 'PAXIP1-DT', 'PAXX', 'PBDC1', 'PBK', 'PBLD', 'PBRM1', 'PBX1', 'PBX2', 'PBX3', 'PBX4', 'PCA3', 'PCAT1', 'PCAT6', 'PCAT7', 'PCBD1', 'PCBD2', 'PCBP1', 'PCBP1-AS1', 'PCBP2', 'PCBP2-OT1', 'PCBP2P2', 'PCBP3', 'PCBP4', 'PCCA', 'PCCA-DT', 'PCCB', 'PCDH10-DT', 'PCDH12', 'PCDH8', 'PCDHA1', 'PCDHA10', 'PCDHA11', 'PCDHA12', 'PCDHA13', 'PCDHA2', 'PCDHA3', 'PCDHA4', 'PCDHA5', 'PCDHA6', 'PCDHA7', 'PCDHA8', 'PCDHA9', 'PCDHAC1', 'PCDHAC2', 'PCDHB10', 'PCDHB11', 'PCDHB13', 'PCDHB14', 'PCDHB15', 'PCDHB16', 'PCDHB18P', 'PCDHB19P', 'PCDHB2', 'PCDHB3', 'PCDHB4', 'PCDHB6', 'PCDHB8', 'PCDHB9', 'PCDHGA1', 'PCDHGA10', 'PCDHGA11', 'PCDHGA12', 'PCDHGA2', 'PCDHGA3', 'PCDHGA4', 'PCDHGA5', 'PCDHGA6', 'PCDHGA7', 'PCDHGA8', 'PCDHGA9', 'PCDHGB1', 'PCDHGB2', 'PCDHGB3', 'PCDHGB4', 'PCDHGB5', 'PCDHGB6', 'PCDHGB7', 'PCDHGC3', 'PCDHGC4', 'PCDHGC5', 'PCED1A', 'PCED1B-AS1', 'PCF11', 'PCF11-AS1', 'PCGEM1', 'PCGF1', 'PCGF2', 'PCGF3', 'PCGF5', 'PCGF6', 'PCGF7P', 'PCID2', 'PCIF1', 'PCLO', 'PCM1', 'PCMT1', 'PCMTD1', 'PCMTD1P3', 'PCMTD2', 'PCNP', 'PCNPP1', 'PCNPP5', 'PCNT', 'PCNX1', 'PCNX3', 'PCNX4', 'PCNX4-DT', 'PCOLCE', 'PCOLCE-AS1', 'PCOTH', 'PCP2', 'PCP4L1', 'PCSK1N', 'PCSK4', 'PCSK6', 'PCSK7', 'PCTP', 'PCYOX1', 'PCYOX1L', 'PCYT1A', 'PCYT2', 'PDAP1', 'PDCD1', 'PDCD10', 'PDCD11', 'PDCD2', 'PDCD2L', 'PDCD4', 'PDCD4-AS1', 'PDCD5', 'PDCD5P2', 'PDCD6', 'PDCD6-DT', 'PDCD6IP', 'PDCD6IP-DT', 'PDCD7', 'PDCL', 'PDCL3', 'PDCL3P4', 'PDCL3P5', 'PDE11A', 'PDE12', 'PDE1A', 'PDE3B', 'PDE4D', 'PDE4DIP', 'PDE4DIPP2', 'PDE4DIPP6', 'PDE5A', 'PDE6B', 'PDE6D', 'PDE6G', 'PDE7A', 'PDE7B', 'PDE8A', 'PDE8B', 'PDE9A', 'PDF', 'PDGFA', 'PDGFC', 'PDGFRL', 'PDHA1', 'PDHB', 'PDHX', 'PDIA2', 'PDIA3', 'PDIA3P1', 'PDIA4', 'PDIA5', 'PDIA6', 'PDIK1L', 'PDK2', 'PDK3', 'PDK4', 'PDLIM1', 'PDLIM1P1', 'PDLIM2', 'PDLIM3', 'PDLIM7-AS1', 'PDP1', 'PDP2', 'PDPK1', 'PDPK2P', 'PDPR', 'PDPR2P', 'PDRG1', 'PDS5A', 'PDS5B', 'PDSS1', 'PDSS2', 'PDXDC1', 'PDXDC2P', 'PDXP', 'PDXP-DT', 'PDZD11', 'PDZD2', 'PDZD4', 'PDZD7', 'PDZD8', 'PDZK1P1', 'PEA15', 'PEAK1', 'PEAR1', 'PEBP1P2', 'PEBP4', 'PECR', 'PEDS1', 'PEDS1-UBE2V1', 'PEF1', 'PEF1-AS1', 'PELI1', 'PELI3', 'PELO', 'PELP1', 'PEMT', 'PEPD', 'PER2', 'PER3', 'PERM1', 'PERP', 'PES1', 'PET100', 'PET117', 'PEX1', 'PEX10', 'PEX11A', 'PEX11B', 'PEX11G', 'PEX12', 'PEX13', 'PEX14', 'PEX16', 'PEX19', 'PEX2', 'PEX26', 'PEX3', 'PEX5L', 'PEX6', 'PEX7', 'PFAS', 'PFDN1', 'PFDN2', 'PFDN4', 'PFDN5', 'PFDN6', 'PFKFB2', 'PFKL', 'PFKM', 'PFN1', 'PFN1P1', 'PFN1P10', 'PFN1P11', 'PFN1P3', 'PFN1P4', 'PFN1P6', 'PFN1P8', 'PFN1P9', 'PFN2', 'PFN4', 'PGAM1', 'PGAM1P5', 'PGAM1P8', 'PGAM2', 'PGAM4', 'PGAM5', 'PGAP1', 'PGAP2', 'PGAP6', 'PGBD1', 'PGBD2', 'PGBD4', 'PGBD5', 'PGD', 'PGDP1', 'PGGT1B', 'PGK1P1', 'PGK1P2', 'PGK2', 'PGLS', 'PGLS-DT', 'PGM2', 'PGM3', 'PGM5', 'PGM5-AS1', 'PGM5P2', 'PGPEP1', 'PGR-AS1', 'PGRMC1', 'PGRMC2', 'PGS1', 'PHACTR2', 'PHACTR2-AS1', 'PHACTR4', 'PHAF1', 'PHAX', 'PHB', 'PHB2', 'PHBP10', 'PHBP11', 'PHBP12', 'PHBP18', 'PHBP2', 'PHBP20', 'PHBP21', 'PHBP3', 'PHBP7', 'PHBP8', 'PHBP9', 'PHC1', 'PHC1P1', 'PHC2', 'PHC2-AS1', 'PHC3', 'PHETA1', 'PHEX', 'PHF1', 'PHF10', 'PHF11', 'PHF12', 'PHF13', 'PHF14', 'PHF2', 'PHF20', 'PHF20L1', 'PHF21A', 'PHF21B', 'PHF23', 'PHF3', 'PHF5A', 'PHF6', 'PHF7', 'PHF8', 'PHIP', 'PHKA1', 'PHKA1P1', 'PHKA2', 'PHKA2-AS1', 'PHKB', 'PHKG1', 'PHKG2', 'PHLDA1-DT', 'PHLDA2', 'PHLDB3', 'PHLPP1', 'PHLPP2', 'PHOSPHO2', 'PHOX2A', 'PHPT1', 'PHRF1', 'PHTF1', 'PHTF2', 'PHYH', 'PHYKPL', 'PI4K2A', 'PI4K2B', 'PI4KA', 'PI4KAP1', 'PI4KAP2', 'PI4KB', 'PIAS1', 'PIAS2', 'PIAS3', 'PIAS4', 'PIBF1', 'PICALM', 'PICK1', 'PIFO', 'PIGA', 'PIGAP1', 'PIGB', 'PIGBOS1', 'PIGC', 'PIGCP1', 'PIGF', 'PIGFP2', 'PIGG', 'PIGH', 'PIGHP1', 'PIGK', 'PIGL', 'PIGM', 'PIGN', 'PIGO', 'PIGP', 'PIGQ', 'PIGS', 'PIGT', 'PIGU', 'PIGV', 'PIGW', 'PIGX', 'PIGY', 'PIGZ', 'PIH1D1', 'PIH1D2', 'PIK3C2A', 'PIK3C2B', 'PIK3C2G', 'PIK3C3', 'PIK3CA', 'PIK3CB', 'PIK3CD', 'PIK3CD-AS2', 'PIK3IP1-DT', 'PIK3R1', 'PIK3R2', 'PIK3R4', 'PIK3R5-DT', 'PIKFYVE', 'PILRA', 'PILRB', 'PIM2', 'PIN1', 'PIN4', 'PIN4P1', 'PINK1-AS', 'PINX1', 'PIP4K2A', 'PIP4K2B', 'PIP4K2C', 'PIP4P1', 'PIP4P2', 'PIP5K1A', 'PIP5K1C', 'PIP5KL1', 'PIPSL', 'PIR', 'PISD', 'PITHD1', 'PITPNA', 'PITPNA-AS1', 'PITPNB', 'PITPNC1', 'PITPNM1', 'PITPNM2', 'PITRM1', 'PITRM1-AS1', 'PITX1', 'PITX1-AS1', 'PITX2', 'PITX3', 'PIWIL4', 'PIWIL4-AS1', 'PJA1', 'PJA2', 'PJVK', 'PKD1', 'PKD1L3', 'PKD1P1', 'PKD1P3', 'PKD1P4', 'PKD1P5', 'PKD1P6', 'PKD2', 'PKD2L2', 'PKIA', 'PKIA-AS1', 'PKIG', 'PKLR', 'PKM', 'PKMP1', 'PKMP2', 'PKMP4', 'PKMP5', 'PKN1', 'PKN2', 'PKN2-AS1', 'PKN3', 'PKNOX1', 'PKP2', 'PKP4', 'PKP4-AS1', 'PLA2G10', 'PLA2G12A', 'PLA2G12AP1', 'PLA2G4B', 'PLA2G4C-AS1', 'PLA2G4E-AS1', 'PLA2G6', 'PLAA', 'PLAAT2', 'PLAAT3', 'PLAC8', 'PLAC9P1', 'PLAGL1', 'PLAGL2', 'PLBD1-AS1', 'PLBD2', 'PLCB1', 'PLCB3', 'PLCB4', 'PLCE1', 'PLCG1', 'PLCG1-AS1', 'PLCG2', 'PLCH1', 'PLCXD1', 'PLCXD2', 'PLCXD3', 'PLD2', 'PLD3', 'PLD4', 'PLD5P1', 'PLEK2', 'PLEKHA1', 'PLEKHA2', 'PLEKHA3', 'PLEKHA4', 'PLEKHA5', 'PLEKHA6', 'PLEKHA7', 'PLEKHA8', 'PLEKHA8P1', 'PLEKHB2', 'PLEKHF2', 'PLEKHG2', 'PLEKHG3', 'PLEKHG4B', 'PLEKHG5', 'PLEKHH1', 'PLEKHH2', 'PLEKHH3', 'PLEKHJ1', 'PLEKHM1', 'PLEKHM1P1', 'PLEKHM2', 'PLGLB2', 'PLGRKT', 'PLIN3', 'PLIN5', 'PLK4', 'PLLP', 'PLOD3', 'PLP2', 'PLPBP', 'PLPP1', 'PLPP3', 'PLPP5', 'PLPP6', 'PLPP7', 'PLPPR2', 'PLPPR3', 'PLPPR5', 'PLRG1', 'PLS1', 'PLSCR1', 'PLSCR3', 'PLTP', 'PLXDC1', 'PLXDC2', 'PLXNB2', 'PM20D2', 'PMAIP1', 'PMCH', 'PMEL', 'PMF1', 'PMF1-BGLAP', 'PMFBP1', 'PML', 'PMM1', 'PMM2', 'PMPCA', 'PMPCAP1', 'PMPCB', 'PMS1', 'PMS2', 'PMS2CL', 'PMS2P1', 'PMS2P10', 'PMS2P11', 'PMS2P2', 'PMS2P3', 'PMS2P4', 'PMS2P5', 'PMS2P7', 'PMS2P8', 'PMS2P9', 'PMVK', 'PNCK', 'PNISR', 'PNKD', 'PNKDP1', 'PNKP', 'PNMA1', 'PNMA6A', 'PNMA6B', 'PNN', 'PNO1', 'PNP', 'PNPLA2', 'PNPLA3', 'PNPLA4', 'PNPLA6', 'PNPLA8', 'PNPO', 'PNPT1', 'PNRC1', 'PNRC2', 'PNRC2P1', 'POC1B', 'POC1B-AS1', 'POC1B-GALNT4', 'POC5', 'PODNL1', 'PODXL2', 'POF1B', 'POFUT1', 'POFUT2', 'POGK', 'POGLUT1', 'POGLUT2', 'POGLUT2P1', 'POGLUT3', 'POGZ', 'POLA1', 'POLB', 'POLD2', 'POLD2P1', 'POLD3', 'POLD4', 'POLDIP2', 'POLDIP3', 'POLE2', 'POLE3', 'POLE4', 'POLG', 'POLG-DT', 'POLG2', 'POLH', 'POLH-AS1', 'POLI', 'POLK', 'POLL', 'POLM', 'POLN', 'POLQ', 'POLR1A', 'POLR1B', 'POLR1C', 'POLR1D', 'POLR1E', 'POLR1F', 'POLR1G', 'POLR1H', 'POLR2A', 'POLR2B', 'POLR2C', 'POLR2D', 'POLR2E', 'POLR2F', 'POLR2G', 'POLR2H', 'POLR2I', 'POLR2J', 'POLR2J2', 'POLR2J3', 'POLR2J4', 'POLR2K', 'POLR2L', 'POLR2M', 'POLR3A', 'POLR3B', 'POLR3C', 'POLR3D', 'POLR3E', 'POLR3F', 'POLR3G', 'POLR3GL', 'POLR3H', 'POLR3K', 'POLRMT', 'POLRMTP1', 'POM121', 'POM121C', 'POMK', 'POMP', 'POMT1', 'POMT2', 'POMZP3', 'PON2', 'PON3', 'POP1', 'POP4', 'POP5', 'POP7', 'POPDC2', 'POPDC3', 'POR', 'PORCN', 'POT1', 'POT1-AS1', 'POTEE', 'POTEF', 'POTEI', 'POTEJ', 'POTEKP', 'POU2F1', 'POU2F1-DT', 'POU2F3', 'POU5F1', 'POU5F2', 'PP2D1', 'PPA1', 'PPA2', 'PPAN', 'PPAN-P2RY11', 'PPARA', 'PPARD', 'PPARG', 'PPAT', 'PPCDC', 'PPCS', 'PPDPF', 'PPFIA1', 'PPFIA3', 'PPFIBP1', 'PPHLN1', 'PPIA', 'PPIAP11', 'PPIAP13', 'PPIAP16', 'PPIAP19', 'PPIAP2', 'PPIAP21', 'PPIAP22', 'PPIAP29', 'PPIAP31', 'PPIAP34', 'PPIAP35', 'PPIAP36', 'PPIAP40', 'PPIAP41', 'PPIAP42', 'PPIAP46', 'PPIAP47', 'PPIAP49', 'PPIAP53', 'PPIAP6', 'PPIAP66', 'PPIAP75', 'PPIAP77', 'PPIAP8', 'PPIAP9', 'PPIB', 'PPIC', 'PPIC-AS1', 'PPID', 'PPIE', 'PPIEL', 'PPIG', 'PPIH', 'PPIHP1', 'PPIL1', 'PPIL2', 'PPIL3', 'PPIL4', 'PPIL6', 'PPIP5K1', 'PPIP5K2', 'PPM1A', 'PPM1B', 'PPM1B-DT', 'PPM1E', 'PPM1F', 'PPM1F-AS1', 'PPM1G', 'PPM1H', 'PPM1J', 'PPM1K', 'PPM1K-DT', 'PPM1L', 'PPM1L-DT', 'PPM1N', 'PPME1', 'PPOX', 'PPP1CA', 'PPP1CB', 'PPP1CC', 'PPP1R11', 'PPP1R12A', 'PPP1R12A-AS1', 'PPP1R12A-AS2', 'PPP1R12B', 'PPP1R12C', 'PPP1R13B', 'PPP1R13B-DT', 'PPP1R13L', 'PPP1R14B', 'PPP1R14B-AS1', 'PPP1R14BP2', 'PPP1R14BP3', 'PPP1R14C', 'PPP1R15B', 'PPP1R16A', 'PPP1R18', 'PPP1R1A', 'PPP1R1C', 'PPP1R2', 'PPP1R21', 'PPP1R21-DT', 'PPP1R26', 'PPP1R26-AS1', 'PPP1R27', 'PPP1R2B', 'PPP1R2P10', 'PPP1R32', 'PPP1R35', 'PPP1R35-AS1', 'PPP1R36', 'PPP1R37', 'PPP1R3D', 'PPP1R3E', 'PPP1R3F', 'PPP1R42', 'PPP1R7', 'PPP1R8', 'PPP1R9B', 'PPP2CA', 'PPP2CA-DT', 'PPP2CB', 'PPP2R1A', 'PPP2R1B', 'PPP2R2A', 'PPP2R2C', 'PPP2R2D', 'PPP2R3A', 'PPP2R3B', 'PPP2R3C', 'PPP2R5A', 'PPP2R5B', 'PPP2R5C', 'PPP2R5D', 'PPP2R5E', 'PPP3CA', 'PPP3CB', 'PPP3CB-AS1', 'PPP3CC', 'PPP3R1', 'PPP4C', 'PPP4R1', 'PPP4R1L', 'PPP4R2', 'PPP4R3A', 'PPP4R3B', 'PPP4R3B-DT', 'PPP4R4', 'PPP5C', 'PPP5D1P', 'PPP6C', 'PPP6R1', 'PPP6R2', 'PPP6R3', 'PPT1', 'PPT2', 'PPT2-EGFL8', 'PPTC7', 'PPWD1', 'PQBP1', 'PRADC1', 'PRAF2', 'PRAG1', 'PRANCR', 'PRB3', 'PRCC', 'PRCD', 'PRCP', 'PRDM10', 'PRDM11', 'PRDM12', 'PRDM15', 'PRDM16', 'PRDM16-DT', 'PRDM2', 'PRDM4', 'PRDM5', 'PRDM6', 'PRDX1', 'PRDX1P1', 'PRDX2', 'PRDX2P1', 'PRDX2P4', 'PRDX3', 'PRDX3P1', 'PRDX3P2', 'PRDX4', 'PRDX5', 'PRDX6', 'PRDX6-AS1', 'PREB', 'PRECSIT', 'PRELID1', 'PRELID1P1', 'PRELID1P3', 'PRELID1P4', 'PRELID1P5', 'PRELID1P6', 'PRELID2', 'PRELID3A', 'PRELID3B', 'PRELID3BP10', 'PRELID3BP3', 'PREP', 'PREPL', 'PRG4', 'PRH1', 'PRH2', 'PRICKLE2', 'PRICKLE2-AS1', 'PRICKLE2-AS2', 'PRICKLE2-AS3', 'PRICKLE2-DT', 'PRICKLE3', 'PRICKLE4', 'PRIM1', 'PRIM2', 'PRIMA1', 'PRIMPOL', 'PRKAA1', 'PRKAA2', 'PRKAB1', 'PRKAB2', 'PRKACA', 'PRKACB', 'PRKACB-DT', 'PRKAG1', 'PRKAG2', 'PRKAG2-AS1', 'PRKAR1A', 'PRKAR1AP1', 'PRKAR1B', 'PRKAR2A', 'PRKAR2A-AS1', 'PRKAR2B', 'PRKCA', 'PRKCD', 'PRKCE', 'PRKCH', 'PRKCH-AS1', 'PRKCI', 'PRKCIP1', 'PRKCSH', 'PRKCZ', 'PRKD2', 'PRKD3', 'PRKDC', 'PRKG1', 'PRKG2', 'PRKRA', 'PRKRIP1', 'PRKX', 'PRLH', 'PRLR', 'PRMT1', 'PRMT1P1', 'PRMT2', 'PRMT3', 'PRMT5', 'PRMT5-AS1', 'PRMT5-DT', 'PRMT5P1', 'PRMT7', 'PRMT9', 'PRNCR1', 'PRNP', 'PROCA1', 'PROCR', 'PRODH', 'PROM2', 'PRORP', 'PRORSD1P', 'PROS1', 'PROSER1', 'PROSER2', 'PROSER2-AS1', 'PROSER3', 'PROX2', 'PRPF18', 'PRPF19', 'PRPF3', 'PRPF31', 'PRPF38A', 'PRPF38AP1', 'PRPF38AP2', 'PRPF38B', 'PRPF39', 'PRPF4', 'PRPF40A', 'PRPF40B', 'PRPF4B', 'PRPF6', 'PRPF8', 'PRPH', 'PRPS1', 'PRPS1P2', 'PRPS2', 'PRPSAP1', 'PRPSAP2', 'PRR12', 'PRR13', 'PRR13P2', 'PRR13P5', 'PRR14', 'PRR14L', 'PRR15', 'PRR15L', 'PRR19', 'PRR22', 'PRR3', 'PRR34', 'PRR34-AS1', 'PRR36', 'PRR4', 'PRR5', 'PRR5-ARHGAP8', 'PRR7', 'PRR7-AS1', 'PRRC1', 'PRRC2A', 'PRRC2C', 'PRRG1', 'PRRG2', 'PRRG3', 'PRRG4', 'PRRT1', 'PRRT1B', 'PRRT2', 'PRRT3', 'PRRT3-AS1', 'PRRX2', 'PRSS16', 'PRSS22', 'PRSS27', 'PRSS29P', 'PRSS36', 'PRSS53', 'PRSS54', 'PRTFDC1', 'PRTG', 'PRTN3', 'PRUNE1', 'PRUNE2', 'PRXL2A', 'PRXL2B', 'PRXL2C', 'PSD', 'PSD4', 'PSEN1', 'PSEN2', 'PSENEN', 'PSIP1', 'PSIP1P1', 'PSLNR', 'PSMA1', 'PSMA2', 'PSMA2P3', 'PSMA3', 'PSMA3-AS1', 'PSMA4', 'PSMA5', 'PSMA6', 'PSMA6P1', 'PSMA6P2', 'PSMA7', 'PSMB1', 'PSMB10', 'PSMB2', 'PSMB3', 'PSMB3P1', 'PSMB4', 'PSMB5', 'PSMB6', 'PSMB7', 'PSMB8-AS1', 'PSMC1', 'PSMC1P1', 'PSMC1P2', 'PSMC1P8', 'PSMC1P9', 'PSMC2', 'PSMC2P1', 'PSMC3', 'PSMC3IP', 'PSMC4', 'PSMC5', 'PSMC6', 'PSMD1', 'PSMD10', 'PSMD10P1', 'PSMD11', 'PSMD12', 'PSMD12P1', 'PSMD13', 'PSMD14', 'PSMD2', 'PSMD3', 'PSMD4', 'PSMD4P1', 'PSMD5', 'PSMD6', 'PSMD6-AS1', 'PSMD6-AS2', 'PSMD7', 'PSMD7-DT', 'PSMD7P1', 'PSMD8', 'PSMD8P1', 'PSMD9', 'PSME1', 'PSME2P1', 'PSME2P2', 'PSME2P3', 'PSME2P6', 'PSME3', 'PSME3IP1', 'PSME4', 'PSMF1', 'PSMG1', 'PSMG2', 'PSMG3', 'PSMG3-AS1', 'PSMG4', 'PSORS1C2', 'PSPC1', 'PSPC1-AS2', 'PSPC1P1', 'PSPH', 'PSPN', 'PSTK', 'PSTPIP2', 'PTAR1', 'PTBP1', 'PTBP1P', 'PTBP2', 'PTBP3', 'PTCD1', 'PTCD2', 'PTCD3', 'PTCH2', 'PTCHD3P1', 'PTCSC2', 'PTDSS1', 'PTDSS2', 'PTEN', 'PTENP1', 'PTER', 'PTGDR2', 'PTGER2', 'PTGER4P2', 'PTGES2', 'PTGES3', 'PTGES3L', 'PTGES3L-AARSD1', 'PTGES3P1', 'PTGES3P3', 'PTGFRN', 'PTGR1', 'PTGR2', 'PTK2', 'PTK6', 'PTMA', 'PTMAP10', 'PTMAP12', 'PTMAP2', 'PTMAP3', 'PTMAP4', 'PTMAP5', 'PTMAP9', 'PTMS', 'PTOV1', 'PTOV1-AS1', 'PTOV1-AS2', 'PTP4A1P7', 'PTP4A2', 'PTP4A2P1', 'PTP4A2P2', 'PTP4A3', 'PTPA', 'PTPDC1', 'PTPMT1', 'PTPN1', 'PTPN11', 'PTPN12', 'PTPN13', 'PTPN14', 'PTPN18', 'PTPN2', 'PTPN21', 'PTPN22', 'PTPN23', 'PTPN23-DT', 'PTPN2P1', 'PTPN3', 'PTPN4', 'PTPN6', 'PTPN9', 'PTPRA', 'PTPRCAP', 'PTPRE', 'PTPRG', 'PTPRG-AS1', 'PTPRJ', 'PTPRJ-AS1', 'PTPRK', 'PTPRK-AS1', 'PTPRQ', 'PTPRS', 'PTPRT', 'PTRH1', 'PTRH2', 'PTRHD1', 'PTS', 'PTTG1IP', 'PTTG2', 'PTTG3P', 'PUDP', 'PUF60', 'PUM1', 'PUM2', 'PUM3', 'PURA', 'PURB', 'PUS1', 'PUS10', 'PUS3', 'PUS7', 'PUS7L', 'PUSL1', 'PVR', 'PVRIG', 'PVRIG2P', 'PVT1', 'PWP1', 'PWP2', 'PWWP2A', 'PWWP2B', 'PWWP3A', 'PXDC1', 'PXK', 'PXMP2', 'PXMP4', 'PXN', 'PXN-AS1', 'PXT1', 'PXYLP1', 'PYCARD', 'PYCARD-AS1', 'PYCR1', 'PYCR2', 'PYGO1', 'PYGO2', 'PYM1', 'PYROXD1', 'PYROXD2', 'PYURF', 'PYY2', 'QARS1', 'QDPR', 'QKI', 'QPCT', 'QPCTL', 'QRICH1', 'QRSL1', 'QRSL1P3', 'QSER1', 'QSOX2', 'QTRT1', 'QTRT2', 'R3HCC1', 'R3HCC1L', 'R3HDM1', 'R3HDM2', 'R3HDM2-DT', 'R3HDM4', 'RAB10', 'RAB11A', 'RAB11B', 'RAB11B-AS1', 'RAB11FIP1', 'RAB11FIP1P1', 'RAB11FIP2', 'RAB11FIP3', 'RAB11FIP4', 'RAB12', 'RAB13', 'RAB14', 'RAB15', 'RAB17', 'RAB18', 'RAB19', 'RAB1A', 'RAB1AP1', 'RAB1B', 'RAB1C', 'RAB20', 'RAB21', 'RAB22A', 'RAB23', 'RAB24', 'RAB25', 'RAB27A', 'RAB27B', 'RAB28', 'RAB28P5', 'RAB29', 'RAB2A', 'RAB2B', 'RAB30', 'RAB30-DT', 'RAB33A', 'RAB33B', 'RAB33B-AS1', 'RAB35', 'RAB39A', 'RAB39B', 'RAB3A', 'RAB3D', 'RAB3GAP1', 'RAB3GAP2', 'RAB3IL1', 'RAB3IP', 'RAB40B', 'RAB40C', 'RAB42', 'RAB43', 'RAB4A', 'RAB4B', 'RAB4B-EGLN2', 'RAB5A', 'RAB5B', 'RAB5C', 'RAB5C-AS1', 'RAB5CP1', 'RAB5IF', 'RAB6A', 'RAB6B', 'RAB6C', 'RAB6C-AS1', 'RAB6D', 'RAB7A', 'RAB8A', 'RAB8B', 'RAB9A', 'RAB9B', 'RABAC1', 'RABEP1', 'RABEP2', 'RABEPK', 'RABGAP1', 'RABGAP1L', 'RABGAP1L-DT', 'RABGEF1', 'RABGGTA', 'RABGGTB', 'RABIF', 'RABL2A', 'RABL2B', 'RABL3', 'RABL6', 'RAC1', 'RAC1P2', 'RAC1P4', 'RAC3', 'RACK1', 'RACK1P1', 'RACK1P3', 'RAD1', 'RAD17', 'RAD17P1', 'RAD18', 'RAD21', 'RAD21-AS1', 'RAD21P1', 'RAD23A', 'RAD23B', 'RAD50', 'RAD51-AS1', 'RAD51AP1', 'RAD51B', 'RAD51C', 'RAD51D', 'RAD52', 'RAD54B', 'RAD54L2', 'RAD9A', 'RAD9B', 'RADIL', 'RAE1', 'RAET1E-AS1', 'RAET1G', 'RAF1', 'RAG1', 'RAG2', 'RAI1', 'RAI14', 'RALA', 'RALB', 'RALBP1', 'RALGAPA1', 'RALGAPA1P1', 'RALGAPA2', 'RALGAPB', 'RALGDS', 'RALGPS1', 'RALGPS2', 'RALGPS2-AS1', 'RALY', 'RALY-AS1', 'RAMAC', 'RAMACL', 'RAMP2', 'RAMP2-AS1', 'RAN', 'RANBP1', 'RANBP10', 'RANBP17', 'RANBP1P1', 'RANBP2', 'RANBP20P', 'RANBP3', 'RANBP3-DT', 'RANBP6', 'RANBP9', 'RANGRF', 'RANP1', 'RANP4', 'RANP6', 'RAP1A', 'RAP1AP', 'RAP1B', 'RAP1BL', 'RAP1GAP2', 'RAP1GDS1', 'RAP2A', 'RAP2C', 'RAP2C-AS1', 'RAPGEF1', 'RAPGEF2', 'RAPGEF4', 'RAPGEF5', 'RAPGEF6', 'RAPGEFL1', 'RAPH1', 'RARA', 'RARA-AS1', 'RARB', 'RARG', 'RARRES2P1', 'RARS1', 'RARS2', 'RASA1', 'RASA2', 'RASA3', 'RASA4', 'RASA4B', 'RASA4CP', 'RASA4DP', 'RASAL2', 'RASAL2-AS1', 'RASAL3', 'RASEF', 'RASGEF1B', 'RASGRF2', 'RASGRP2', 'RASGRP4', 'RASSF1', 'RASSF1-AS1', 'RASSF3', 'RASSF8', 'RASSF8-AS1', 'RAVER1', 'RAVER2', 'RB1', 'RB1-DT', 'RB1CC1', 'RBAK', 'RBAK-RBAKDN', 'RBAKDN', 'RBBP4', 'RBBP4P1', 'RBBP4P2', 'RBBP4P5', 'RBBP5', 'RBBP6', 'RBBP7', 'RBBP8', 'RBBP8NL', 'RBBP9', 'RBFA', 'RBFADN', 'RBFOX2', 'RBIS', 'RBKS', 'RBL1', 'RBL2', 'RBM10', 'RBM11', 'RBM12', 'RBM12B', 'RBM12B-AS1', 'RBM14-RBM4', 'RBM15', 'RBM15-AS1', 'RBM15B', 'RBM17', 'RBM17P4', 'RBM18', 'RBM19', 'RBM22', 'RBM22P2', 'RBM23', 'RBM24', 'RBM25', 'RBM25-AS1', 'RBM26', 'RBM26-AS1', 'RBM27', 'RBM28', 'RBM3', 'RBM33', 'RBM34', 'RBM38', 'RBM38-AS1', 'RBM39', 'RBM39P1', 'RBM4', 'RBM41', 'RBM42', 'RBM43', 'RBM44', 'RBM45', 'RBM47', 'RBM48', 'RBM4B', 'RBM5', 'RBM5-AS1', 'RBM6', 'RBM7', 'RBM7P1', 'RBM8A', 'RBM8B', 'RBMS1', 'RBMS1P1', 'RBMS2', 'RBMS2P1', 'RBMX', 'RBMX2', 'RBMX2P5', 'RBMXL1', 'RBMXP2', 'RBMXP3', 'RBMXP4', 'RBMXP5', 'RBP1', 'RBP7', 'RBPJ', 'RBPMS', 'RBPMS-AS1', 'RBPMS2', 'RBSN', 'RBX1', 'RBX1P2', 'RC3H1', 'RC3H2', 'RCAN1', 'RCAN3', 'RCBTB1', 'RCBTB2', 'RCC1', 'RCC1L', 'RCC2', 'RCC2-AS1', 'RCC2P6', 'RCCD1', 'RCCD1-AS1', 'RCE1', 'RCHY1', 'RCL1', 'RCN1', 'RCN1P2', 'RCN2', 'RCN3', 'RCOR1', 'RCOR2', 'RCOR3', 'RDH11', 'RDH14', 'RDH5', 'RDM1', 'RDM1P1', 'RDM1P5', 'RDX', 'REC8', 'RECK', 'RECQL', 'RECQL5', 'REEP1', 'REEP2', 'REEP3', 'REEP5', 'REEP6', 'REG4', 'REL', 'RELA', 'RELA-DT', 'RELCH', 'RELL1', 'RELL2', 'RELN', 'RELT', 'REM2', 'REPIN1', 'REPIN1-AS1', 'REPS1', 'REPS2', 'RER1', 'RERE', 'RERG', 'RESF1', 'REST', 'RETREG1', 'RETREG1-AS1', 'RETREG2', 'RETREG3', 'RETSAT', 'REV1', 'REV3L', 'REV3L-IT1', 'REX1BD', 'REXO1', 'REXO2', 'REXO4', 'REXO5', 'RFC1', 'RFC3', 'RFC4', 'RFC5', 'RFESD', 'RFFL', 'RFK', 'RFLNA', 'RFLNB', 'RFNG', 'RFT1', 'RFTN1', 'RFTN2', 'RFWD3', 'RFX1', 'RFX2', 'RFX3', 'RFX3-AS1', 'RFX5-AS1', 'RFX7', 'RFXANK', 'RFXAP', 'RGL2', 'RGL3', 'RGL4', 'RGMB', 'RGMB-AS1', 'RGP1', 'RGPD2', 'RGPD8', 'RGS10', 'RGS11', 'RGS12', 'RGS14', 'RGS17', 'RGS17P1', 'RGS19', 'RGS20', 'RGS22', 'RGS5', 'RGS6', 'RGS9', 'RGS9BP', 'RHBDD1', 'RHBDD2', 'RHBDD3', 'RHBDF1', 'RHBDF1P1', 'RHBDF2', 'RHBDL1', 'RHBDL2', 'RHBG', 'RHCE', 'RHD', 'RHEB', 'RHEBL1', 'RHEBP1', 'RHEBP2', 'RHNO1', 'RHOA', 'RHOB', 'RHOBTB1', 'RHOC', 'RHOF', 'RHOG', 'RHOH', 'RHOQ', 'RHOQ-AS1', 'RHOQP1', 'RHOT1', 'RHOT1P2', 'RHOT2', 'RHOU', 'RHOXF1P3', 'RHPN1-AS1', 'RHPN2', 'RIBC1', 'RIBC2', 'RIC1', 'RIC8A', 'RIC8B', 'RICTOR', 'RIDA', 'RIF1', 'RILP', 'RILPL1', 'RILPL2', 'RIMBP3', 'RIMKLB', 'RIMKLBP2', 'RIMS2', 'RIMS3', 'RIMS4', 'RIN2', 'RIN3', 'RING1', 'RINL', 'RINT1', 'RIOK1', 'RIOK2', 'RIOK3', 'RIOX1', 'RIOX2', 'RIPK1', 'RIPK2', 'RIPK2-DT', 'RIPOR1', 'RIPOR3-AS1', 'RIPPLY3', 'RIT1', 'RITA1', 'RLF', 'RLIM', 'RLN1', 'RLN2', 'RMC1', 'RMDN1', 'RMDN2', 'RMDN2-AS1', 'RMDN3', 'RMI1', 'RMND1', 'RMND5A', 'RMND5B', 'RMRP', 'RMST', 'RN7SKP116', 'RN7SKP150', 'RN7SKP173', 'RN7SKP175', 'RN7SKP176', 'RN7SKP187', 'RN7SKP23', 'RN7SKP241', 'RN7SKP269', 'RN7SKP69', 'RN7SKP70', 'RN7SL1', 'RN7SL180P', 'RN7SL2', 'RN7SL204P', 'RN7SL220P', 'RN7SL239P', 'RN7SL329P', 'RN7SL381P', 'RN7SL382P', 'RN7SL473P', 'RN7SL49P', 'RN7SL521P', 'RN7SL535P', 'RN7SL573P', 'RN7SL600P', 'RN7SL608P', 'RN7SL615P', 'RN7SL648P', 'RN7SL650P', 'RN7SL655P', 'RN7SL657P', 'RN7SL674P', 'RN7SL683P', 'RN7SL689P', 'RN7SL68P', 'RN7SL731P', 'RN7SL737P', 'RN7SL738P', 'RN7SL743P', 'RN7SL751P', 'RN7SL75P', 'RN7SL767P', 'RN7SL800P', 'RN7SL809P', 'RN7SL827P', 'RN7SL832P', 'RNA5SP122', 'RNA5SP151', 'RNA5SP21', 'RNA5SP216', 'RNA5SP224', 'RNA5SP244', 'RNA5SP265', 'RNA5SP283', 'RNA5SP29', 'RNA5SP352', 'RNA5SP37', 'RNA5SP452', 'RNA5SP530', 'RNA5SP532', 'RNASE4', 'RNASEH1', 'RNASEH1-AS1', 'RNASEH1P1', 'RNASEH2B', 'RNASEH2B-AS1', 'RNASEH2C', 'RNASEK', 'RNASEK-C17orf49', 'RNASEL', 'RNASET2', 'RNF10', 'RNF103', 'RNF103-CHMP3', 'RNF11', 'RNF111', 'RNF113A', 'RNF114', 'RNF115', 'RNF121', 'RNF122', 'RNF123', 'RNF125', 'RNF126', 'RNF126P1', 'RNF13', 'RNF130', 'RNF135', 'RNF138', 'RNF139', 'RNF139-DT', 'RNF14', 'RNF141', 'RNF144A', 'RNF144B', 'RNF145', 'RNF146', 'RNF148', 'RNF149', 'RNF150', 'RNF152', 'RNF157-AS1', 'RNF165', 'RNF166', 'RNF167', 'RNF168', 'RNF169', 'RNF170', 'RNF180', 'RNF181', 'RNF185', 'RNF185-AS1', 'RNF187', 'RNF19A', 'RNF2', 'RNF20', 'RNF207', 'RNF207-AS1', 'RNF208', 'RNF212B', 'RNF213', 'RNF213-AS1', 'RNF214', 'RNF215', 'RNF216', 'RNF216P1', 'RNF220', 'RNF223', 'RNF227', 'RNF24', 'RNF25', 'RNF2P1', 'RNF31', 'RNF32', 'RNF32-AS1', 'RNF34', 'RNF38', 'RNF39', 'RNF4', 'RNF40', 'RNF41', 'RNF44', 'RNF5', 'RNF5P1', 'RNF6', 'RNF7', 'RNF7P1', 'RNF8', 'RNFT1', 'RNFT1-DT', 'RNFT1P3', 'RNFT2', 'RNGTT', 'RNH1', 'RNLS', 'RNMT', 'RNPC3', 'RNPEP', 'RNPEPL1', 'RNPS1', 'RNPS1P1', 'RNU1-103P', 'RNU1-16P', 'RNU1-2', 'RNU1-39P', 'RNU1-70P', 'RNU1-82P', 'RNU11', 'RNU2-27P', 'RNU2-2P', 'RNU2-52P', 'RNU2-58P', 'RNU4-1', 'RNU4-2', 'RNU4-22P', 'RNU4-25P', 'RNU4-32P', 'RNU4-39P', 'RNU4-40P', 'RNU4-5P', 'RNU4-72P', 'RNU4ATAC', 'RNU5A-1', 'RNU5D-1', 'RNU5E-1', 'RNU5E-10P', 'RNU6-1', 'RNU6-1188P', 'RNU6-125P', 'RNU6-146P', 'RNU6-190P', 'RNU6-2', 'RNU6-201P', 'RNU6-268P', 'RNU6-307P', 'RNU6-32P', 'RNU6-33P', 'RNU6-395P', 'RNU6-398P', 'RNU6-3P', 'RNU6-418P', 'RNU6-42P', 'RNU6-431P', 'RNU6-438P', 'RNU6-450P', 'RNU6-469P', 'RNU6-48P', 'RNU6-574P', 'RNU6-60P', 'RNU6-633P', 'RNU6-645P', 'RNU6-6P', 'RNU6-722P', 'RNU6-748P', 'RNU6-8', 'RNU6-813P', 'RNU6-817P', 'RNU6-914P', 'RNU6-925P', 'RNU6-951P', 'RNU6ATAC', 'RNU6ATAC24P', 'RNU7-1', 'RNU7-18P', 'RNU7-75P', 'RNVU1-14', 'RNVU1-15', 'RNVU1-19', 'RNVU1-2', 'RNVU1-27', 'RNVU1-2A', 'RNVU1-30', 'RNVU1-31', 'RNVU1-32', 'RNVU1-6', 'RNVU1-7', 'RNY1', 'RNY1P15', 'RNY3P15', 'RNY3P8', 'RNY4P10', 'RNY4P25', 'RO60', 'ROBO1', 'ROCK1', 'ROCK1P1', 'ROCK2', 'ROGDI', 'ROM1', 'ROMO1', 'ROPN1L', 'ROPN1L-AS1', 'RORA', 'RORA-AS1', 'RP2', 'RP9', 'RP9P', 'RPA1', 'RPA2', 'RPA2P3', 'RPA3', 'RPA3P2', 'RPAIN', 'RPAP1', 'RPAP2', 'RPAP2P1', 'RPAP3', 'RPAP3-DT', 'RPE', 'RPEL1', 'RPF1', 'RPF2', 'RPF2P1', 'RPGR', 'RPGRIP1L', 'RPH3AL', 'RPIA', 'RPL10', 'RPL10A', 'RPL10AP1', 'RPL10AP2', 'RPL10AP6', 'RPL10P1', 'RPL10P12', 'RPL10P15', 'RPL10P16', 'RPL10P3', 'RPL10P6', 'RPL10P9', 'RPL11', 'RPL11P3', 'RPL12', 'RPL12P13', 'RPL12P16', 'RPL12P17', 'RPL12P25', 'RPL12P28', 'RPL12P38', 'RPL12P4', 'RPL12P44', 'RPL12P6', 'RPL13', 'RPL13A', 'RPL13AP12', 'RPL13AP20', 'RPL13AP25', 'RPL13AP5', 'RPL13AP6', 'RPL13AP7', 'RPL13P12', 'RPL13P5', 'RPL14', 'RPL14P1', 'RPL15', 'RPL15P13', 'RPL15P14', 'RPL15P18', 'RPL15P2', 'RPL15P3', 'RPL15P5', 'RPL17', 'RPL17-C18orf32', 'RPL17P34', 'RPL17P36', 'RPL17P50', 'RPL18', 'RPL18A', 'RPL18AP3', 'RPL18P10', 'RPL18P11', 'RPL18P13', 'RPL19', 'RPL19P16', 'RPL21', 'RPL21P1', 'RPL21P10', 'RPL21P11', 'RPL21P110', 'RPL21P116', 'RPL21P119', 'RPL21P120', 'RPL21P16', 'RPL21P23', 'RPL21P28', 'RPL21P37', 'RPL21P4', 'RPL21P40', 'RPL21P44', 'RPL21P75', 'RPL22', 'RPL22L1', 'RPL22P1', 'RPL22P2', 'RPL22P24', 'RPL23', 'RPL23A', 'RPL23AP1', 'RPL23AP18', 'RPL23AP2', 'RPL23AP25', 'RPL23AP3', 'RPL23AP34', 'RPL23AP36', 'RPL23AP37', 'RPL23AP38', 'RPL23AP42', 'RPL23AP43', 'RPL23AP53', 'RPL23AP55', 'RPL23AP57', 'RPL23AP58', 'RPL23AP61', 'RPL23AP63', 'RPL23AP65', 'RPL23AP7', 'RPL23AP74', 'RPL23AP82', 'RPL23AP87', 'RPL23AP97', 'RPL23P8', 'RPL24', 'RPL24P2', 'RPL24P4', 'RPL24P8', 'RPL26', 'RPL26L1', 'RPL26P19', 'RPL26P30', 'RPL27', 'RPL27A', 'RPL27P6', 'RPL28', 'RPL28P2', 'RPL29', 'RPL29P11', 'RPL29P12', 'RPL29P14', 'RPL29P33', 'RPL3', 'RPL30', 'RPL30P4', 'RPL31', 'RPL31P17', 'RPL31P49', 'RPL31P52', 'RPL31P63', 'RPL32', 'RPL32P11', 'RPL32P16', 'RPL32P18', 'RPL32P24', 'RPL32P26', 'RPL32P27', 'RPL32P29', 'RPL32P3', 'RPL32P32', 'RPL34', 'RPL34P18', 'RPL34P27', 'RPL34P31', 'RPL34P33', 'RPL34P6', 'RPL35', 'RPL35A', 'RPL35AP26', 'RPL35AP32', 'RPL35AP35', 'RPL35AP36', 'RPL35P1', 'RPL35P2', 'RPL35P5', 'RPL36', 'RPL36A', 'RPL36A-HNRNPH2', 'RPL36AL', 'RPL36AP21', 'RPL36AP41', 'RPL36AP43', 'RPL37', 'RPL37A', 'RPL37A-DT', 'RPL37AP1', 'RPL37P2', 'RPL37P23', 'RPL37P6', 'RPL38', 'RPL38P2', 'RPL39', 'RPL39L', 'RPL39P15', 'RPL39P3', 'RPL39P34', 'RPL39P36', 'RPL39P5', 'RPL3L', 'RPL3P1', 'RPL3P12', 'RPL3P2', 'RPL3P3', 'RPL3P4', 'RPL3P6', 'RPL3P7', 'RPL4', 'RPL41', 'RPL41P1', 'RPL41P2', 'RPL41P5', 'RPL4P3', 'RPL4P4', 'RPL4P5', 'RPL4P6', 'RPL5', 'RPL5P1', 'RPL5P12', 'RPL5P17', 'RPL5P23', 'RPL5P24', 'RPL5P34', 'RPL5P4', 'RPL5P8', 'RPL5P9', 'RPL6', 'RPL6P24', 'RPL6P27', 'RPL7', 'RPL7A', 'RPL7AP11', 'RPL7AP22', 'RPL7AP26', 'RPL7AP30', 'RPL7AP31', 'RPL7AP49', 'RPL7AP50', 'RPL7AP6', 'RPL7AP60', 'RPL7AP66', 'RPL7L1', 'RPL7L1P8', 'RPL7P1', 'RPL7P15', 'RPL7P19', 'RPL7P22', 'RPL7P23', 'RPL7P24', 'RPL7P26', 'RPL7P32', 'RPL7P42', 'RPL7P44', 'RPL7P47', 'RPL7P50', 'RPL7P59', 'RPL7P6', 'RPL7P8', 'RPL7P9', 'RPL8', 'RPL9', 'RPL9P25', 'RPL9P29', 'RPL9P32', 'RPL9P7', 'RPLP0', 'RPLP0P2', 'RPLP0P6', 'RPLP1', 'RPLP1P11', 'RPLP1P6', 'RPLP2', 'RPN1', 'RPN2', 'RPP14', 'RPP21', 'RPP25', 'RPP25L', 'RPP30', 'RPP38', 'RPP38-DT', 'RPP40', 'RPPH1', 'RPRD1A', 'RPRD1B', 'RPRD2', 'RPRM', 'RPS10', 'RPS10-NUDT3', 'RPS10P16', 'RPS10P2', 'RPS10P3', 'RPS10P5', 'RPS10P7', 'RPS11', 'RPS11P5', 'RPS11P7', 'RPS12', 'RPS12P16', 'RPS12P26', 'RPS12P3', 'RPS13', 'RPS13P2', 'RPS14', 'RPS14P4', 'RPS14P8', 'RPS15', 'RPS15A', 'RPS15AP1', 'RPS15AP10', 'RPS15AP11', 'RPS15AP12', 'RPS15AP16', 'RPS15AP24', 'RPS15AP30', 'RPS15AP38', 'RPS15AP6', 'RPS15P4', 'RPS15P5', 'RPS16', 'RPS17', 'RPS18', 'RPS18P12', 'RPS18P9', 'RPS19', 'RPS19BP1', 'RPS19P1', 'RPS19P3', 'RPS19P7', 'RPS2', 'RPS20', 'RPS20P10', 'RPS20P14', 'RPS20P15', 'RPS20P21', 'RPS20P22', 'RPS20P33', 'RPS21', 'RPS21P1', 'RPS21P4', 'RPS23', 'RPS23P1', 'RPS23P8', 'RPS24', 'RPS24P19', 'RPS24P8', 'RPS25', 'RPS26', 'RPS26P15', 'RPS26P19', 'RPS26P28', 'RPS26P3', 'RPS26P31', 'RPS26P47', 'RPS26P49', 'RPS26P52', 'RPS26P58', 'RPS26P8', 'RPS27', 'RPS27A', 'RPS27AP1', 'RPS27AP11', 'RPS27AP12', 'RPS27AP16', 'RPS27AP5', 'RPS27L', 'RPS27P25', 'RPS28', 'RPS28P5', 'RPS28P7', 'RPS29', 'RPS29P14', 'RPS29P16', 'RPS29P21', 'RPS29P5', 'RPS2P17', 'RPS2P28', 'RPS2P35', 'RPS2P4', 'RPS2P46', 'RPS2P48', 'RPS2P5', 'RPS2P55', 'RPS2P7', 'RPS3', 'RPS3A', 'RPS3AP20', 'RPS3AP21', 'RPS3AP26', 'RPS3AP47', 'RPS3AP49', 'RPS3AP5', 'RPS3AP6', 'RPS3P1', 'RPS3P6', 'RPS4X', 'RPS4XP1', 'RPS4XP11', 'RPS4XP13', 'RPS4XP14', 'RPS4XP16', 'RPS4XP17', 'RPS4XP2', 'RPS4XP22', 'RPS4XP3', 'RPS4XP6', 'RPS4XP8', 'RPS5', 'RPS5P8', 'RPS6', 'RPS6KA1', 'RPS6KA3', 'RPS6KA4', 'RPS6KA5', 'RPS6KA6', 'RPS6KB1', 'RPS6KB2', 'RPS6KB2-AS1', 'RPS6KC1', 'RPS6KL1', 'RPS6P12', 'RPS6P16', 'RPS6P25', 'RPS6P26', 'RPS6P8', 'RPS7', 'RPS7P1', 'RPS7P10', 'RPS7P15', 'RPS8', 'RPS9', 'RPS9P1', 'RPSA', 'RPSAP12', 'RPSAP13', 'RPSAP14', 'RPSAP15', 'RPSAP17', 'RPSAP18', 'RPSAP19', 'RPSAP26', 'RPSAP3', 'RPSAP41', 'RPSAP45', 'RPSAP46', 'RPSAP47', 'RPSAP53', 'RPSAP54', 'RPSAP61', 'RPSAP69', 'RPSAP8', 'RPSAP9', 'RPTOR', 'RPUSD1', 'RPUSD2', 'RPUSD3', 'RPUSD4', 'RRAGA', 'RRAGB', 'RRAGC', 'RRAGD', 'RRAS', 'RRAS2', 'RRAS2P1', 'RRBP1', 'RREB1', 'RRM1-AS1', 'RRM2B', 'RRM2P3', 'RRN3', 'RRN3P1', 'RRN3P2', 'RRN3P3', 'RRP1', 'RRP15', 'RRP1B', 'RRP36', 'RRP7A', 'RRP7BP', 'RRP8', 'RRP9', 'RRS1', 'RRS1-DT', 'RSAD1', 'RSBN1', 'RSBN1L', 'RSC1A1', 'RSF1', 'RSKR', 'RSL1D1', 'RSL1D1-DT', 'RSL24D1', 'RSPH1', 'RSPH10B', 'RSPH10B2', 'RSPH14', 'RSPH3', 'RSPH9', 'RSPRY1', 'RSRC1', 'RSRC2', 'RSRP1', 'RSU1', 'RTCA', 'RTCA-AS1', 'RTCB', 'RTEL1P1', 'RTF1', 'RTF2', 'RTKN2', 'RTL8A', 'RTL8B', 'RTL8C', 'RTN2', 'RTN3', 'RTN3P1', 'RTN4', 'RTN4IP1', 'RTN4R', 'RTN4RL1', 'RTN4RL2', 'RTRAF', 'RTRAFP1', 'RTTN', 'RUBCN', 'RUFY1', 'RUFY1-AS1', 'RUFY2', 'RUFY3', 'RUNDC1', 'RUNDC3A', 'RUNDC3A-AS1', 'RUNDC3B', 'RUNX1', 'RUNX1T1', 'RUSC1-AS1', 'RUSF1', 'RUVBL1', 'RUVBL2', 'RWDD1', 'RWDD2A', 'RWDD2B', 'RWDD3', 'RWDD4', 'RWDD4P2', 'RXRA', 'RXRB', 'RXYLT1', 'RXYLT1-AS1', 'RYBP', 'RYK', 'RYR1', 'RYR2', 'RYR3', 'S100A1', 'S100A11P1', 'S100A8', 'S100PBP', 'S1PR2', 'S1PR3', 'S1PR5', 'SAAL1', 'SAC3D1', 'SACM1L', 'SACS', 'SAE1', 'SAFB', 'SAFB2', 'SAMD1', 'SAMD10', 'SAMD11', 'SAMD12', 'SAMD12-AS1', 'SAMD14', 'SAMD15', 'SAMD4B', 'SAMD8', 'SAMD9', 'SAMM50', 'SAMMSON', 'SANBR', 'SAP130', 'SAP18', 'SAP18P2', 'SAP25', 'SAP30', 'SAP30-DT', 'SAP30BP', 'SAP30L', 'SAP30L-AS1', 'SAPCD1', 'SAPCD1-AS1', 'SAR1A', 'SAR1AP1', 'SAR1B', 'SARAF', 'SARM1', 'SARNP', 'SARS2', 'SART1', 'SART3', 'SASS6', 'SAT2', 'SATB1-AS1', 'SATB2', 'SATB2-AS1', 'SATL1', 'SAV1', 'SAXO2', 'SAYSD1', 'SBDS', 'SBDSP1', 'SBF2', 'SBF2-AS1', 'SBK1', 'SBK2', 'SBNO1', 'SBNO1-AS1', 'SBNO2', 'SC5D', 'SCAANT1', 'SCAF1', 'SCAF11', 'SCAF4', 'SCAF8', 'SCAI', 'SCAMP1', 'SCAMP1-AS1', 'SCAMP2', 'SCAMP3', 'SCAMP4', 'SCAMP5', 'SCAND1', 'SCAND2P', 'SCAP', 'SCAPER', 'SCARB2', 'SCARNA1', 'SCARNA12', 'SCARNA13', 'SCARNA15', 'SCARNA16', 'SCARNA17', 'SCARNA2', 'SCARNA20', 'SCARNA21', 'SCARNA22', 'SCARNA5', 'SCARNA9', 'SCAT2', 'SCCPDH', 'SCD5', 'SCDP1', 'SCEL', 'SCFD1', 'SCFD2', 'SCG5', 'SCGB1B2P', 'SCGB1D2', 'SCGB2A1', 'SCGB2B2', 'SCHLAP1', 'SCIMP', 'SCLT1', 'SCLY', 'SCMH1', 'SCML1', 'SCML2', 'SCML2P2', 'SCN1B', 'SCNM1', 'SCO1', 'SCO2', 'SCOC', 'SCOC-AS1', 'SCP2', 'SCPEP1', 'SCRG1', 'SCRIB', 'SCRN1', 'SCRN2', 'SCRN3', 'SCX', 'SCYL1', 'SCYL2', 'SCYL2P1', 'SCYL3', 'SDAD1', 'SDAD1P1', 'SDC2', 'SDC3', 'SDC4', 'SDCBP', 'SDCBP2-AS1', 'SDCBPP2', 'SDCBPP3', 'SDCCAG8', 'SDE2', 'SDF2', 'SDF4', 'SDHA', 'SDHAF1', 'SDHAF2', 'SDHAF4', 'SDHAP1', 'SDHAP2', 'SDHAP3', 'SDHB', 'SDHC', 'SDHCP2', 'SDHCP4', 'SDHD', 'SDK1', 'SDK1-AS1', 'SDR39U1', 'SDR42E1', 'SDR42E2', 'SDS', 'SDSL', 'SEC11A', 'SEC11B', 'SEC11C', 'SEC13', 'SEC14L1', 'SEC14L1P1', 'SEC14L2', 'SEC16A', 'SEC1P', 'SEC22A', 'SEC22B', 'SEC22B4P', 'SEC22C', 'SEC23A', 'SEC23A-AS1', 'SEC23B', 'SEC23IP', 'SEC24A', 'SEC24B', 'SEC24B-AS1', 'SEC24C', 'SEC24D', 'SEC31A', 'SEC61A1', 'SEC61A2', 'SEC61B', 'SEC61G', 'SEC61G-DT', 'SEC62', 'SEC63', 'SEC63P1', 'SECISBP2', 'SECISBP2L', 'SEH1L', 'SEL1L', 'SEL1L3', 'SELENOF', 'SELENOH', 'SELENOI', 'SELENOK', 'SELENOM', 'SELENON', 'SELENOO', 'SELENOS', 'SELENOT', 'SELENOTP1', 'SELENOW', 'SEM1', 'SEM1P1', 'SEMA3B-AS1', 'SEMA3E', 'SEMA3F', 'SEMA3F-AS1', 'SEMA4D', 'SEMA4G', 'SEMA6A', 'SEMA6A-AS1', 'SEMA6B', 'SENP1', 'SENP2', 'SENP3', 'SENP3-EIF4A1', 'SENP5', 'SENP6', 'SENP7', 'SENP8', 'SEPHS1', 'SEPHS1P4', 'SEPHS1P6', 'SEPHS2', 'SEPSECS', 'SEPSECS-AS1', 'SEPTIN1', 'SEPTIN10', 'SEPTIN11', 'SEPTIN14P2', 'SEPTIN2', 'SEPTIN2P1', 'SEPTIN3', 'SEPTIN4', 'SEPTIN4-AS1', 'SEPTIN5', 'SEPTIN7', 'SEPTIN7-DT', 'SEPTIN7P1', 'SEPTIN7P10', 'SEPTIN7P13', 'SEPTIN7P14', 'SEPTIN7P2', 'SEPTIN7P6', 'SEPTIN7P7', 'SEPTIN7P9', 'SEPTIN8', 'SEPTIN9', 'SEPTIN9-DT', 'SERAC1', 'SERBP1', 'SERBP1P1', 'SERBP1P5', 'SERF1B', 'SERF2', 'SERGEF', 'SERHL', 'SERHL2', 'SERINC1', 'SERINC2', 'SERINC3', 'SERINC4', 'SERINC5', 'SERP1', 'SERPINB1', 'SERPINB6', 'SERPINB8', 'SERPINB9', 'SERPINE3', 'SERPINF1', 'SERPINF2', 'SERPINH1', 'SERPINI1', 'SERTAD1', 'SERTAD2', 'SERTAD3', 'SERTAD4', 'SERTAD4-AS1', 'SESN1', 'SESN3', 'SESTD1', 'SET', 'SETBP1', 'SETBP1-DT', 'SETD1A', 'SETD1B', 'SETD2', 'SETD3', 'SETD4', 'SETD4-AS1', 'SETD5', 'SETD6', 'SETD7', 'SETD9', 'SETDB1', 'SETDB2', 'SETMAR', 'SETP14', 'SETP3', 'SETP8', 'SETSIP', 'SETX', 'SEZ6L2', 'SF1', 'SF1-DT', 'SF3A1', 'SF3A2', 'SF3A3', 'SF3A3P1', 'SF3A3P2', 'SF3B1', 'SF3B2', 'SF3B3', 'SF3B4', 'SF3B4P1', 'SF3B5', 'SF3B6', 'SFI1', 'SFMBT1', 'SFN', 'SFPQ', 'SFR1', 'SFSWAP', 'SFT2D1', 'SFT2D2', 'SFT2D3', 'SFTPD', 'SFXN1', 'SFXN4', 'SFXN4P1', 'SFXN5', 'SGCB', 'SGCE', 'SGF29', 'SGK3', 'SGMS1', 'SGMS2', 'SGO1', 'SGO1-AS1', 'SGO2', 'SGPL1', 'SGPP1', 'SGPP2', 'SGSH', 'SGSM1', 'SGSM3', 'SGSM3-AS1', 'SGTA', 'SGTB', 'SH2B1', 'SH2B2', 'SH2B3', 'SH2D3A', 'SH2D4A', 'SH2D6', 'SH3BGR', 'SH3BGRL', 'SH3BGRL2', 'SH3BGRL3', 'SH3BP1', 'SH3BP2', 'SH3BP5-AS1', 'SH3BP5L', 'SH3D19', 'SH3D21', 'SH3GL1', 'SH3GL1P1', 'SH3GL1P3', 'SH3GL3', 'SH3GLB1', 'SH3GLB2', 'SH3KBP1', 'SH3PXD2B', 'SH3RF1', 'SH3YL1', 'SHANK2', 'SHANK2-AS3', 'SHANK3', 'SHARPIN', 'SHC1', 'SHC2', 'SHF', 'SHISA4', 'SHISA5', 'SHISA8', 'SHISA9', 'SHKBP1', 'SHLD1', 'SHLD2', 'SHLD2P1', 'SHLD2P3', 'SHLD3', 'SHMT1', 'SHMT1P1', 'SHMT2', 'SHOC1', 'SHOC2', 'SHOX2', 'SHPRH', 'SHQ1', 'SHQ1P1', 'SHROOM2', 'SHROOM3', 'SHTN1', 'SIAE', 'SIAH1', 'SIAH2', 'SIAH2-AS1', 'SIDT1', 'SIDT1-AS1', 'SIDT2', 'SIGIRR', 'SIK1B', 'SIK2', 'SIK3', 'SIKE1', 'SIL1', 'SIMC1', 'SIN3A', 'SIN3B', 'SINHCAF', 'SINHCAFP1', 'SINHCAFP2', 'SIPA1L1', 'SIPA1L1-AS1', 'SIPA1L3', 'SIRPA', 'SIRPAP1', 'SIRPB1', 'SIRT1', 'SIRT2', 'SIRT3', 'SIRT4', 'SIRT5', 'SIRT6', 'SIRT7', 'SIVA1', 'SIX1', 'SIX2', 'SIX4', 'SIX5', 'SKA1', 'SKA2', 'SKA2P1', 'SKA3', 'SKAP1', 'SKAP2', 'SKI', 'SKIDA1', 'SKIV2L', 'SKP1', 'SKP1P1', 'SKP1P2', 'SKP2', 'SLA2', 'SLAIN1', 'SLAIN2', 'SLBP', 'SLC10A1', 'SLC10A3', 'SLC10A7', 'SLC11A1', 'SLC11A2', 'SLC12A5', 'SLC12A5-AS1', 'SLC12A6', 'SLC12A9', 'SLC12A9-AS1', 'SLC13A3', 'SLC13A4', 'SLC15A2', 'SLC15A3', 'SLC15A4', 'SLC16A1', 'SLC16A1-AS1', 'SLC16A10', 'SLC16A13', 'SLC16A14', 'SLC16A2', 'SLC16A3', 'SLC16A4', 'SLC16A6', 'SLC16A7', 'SLC16A9', 'SLC17A5', 'SLC18A2', 'SLC19A1', 'SLC19A2', 'SLC20A1', 'SLC20A2', 'SLC22A15', 'SLC22A17', 'SLC22A18', 'SLC22A18AS', 'SLC22A20P', 'SLC22A31', 'SLC22A4', 'SLC22A5', 'SLC23A2', 'SLC24A1', 'SLC24A3-AS1', 'SLC24A5', 'SLC25A1', 'SLC25A11', 'SLC25A12', 'SLC25A13', 'SLC25A14', 'SLC25A15', 'SLC25A16', 'SLC25A17', 'SLC25A19', 'SLC25A1P1', 'SLC25A1P5', 'SLC25A20', 'SLC25A21', 'SLC25A21-AS1', 'SLC25A22', 'SLC25A23', 'SLC25A24', 'SLC25A24P1', 'SLC25A24P2', 'SLC25A25-AS1', 'SLC25A26', 'SLC25A28', 'SLC25A3', 'SLC25A30', 'SLC25A30-AS1', 'SLC25A32', 'SLC25A33', 'SLC25A35', 'SLC25A36', 'SLC25A37', 'SLC25A38', 'SLC25A38P1', 'SLC25A39P1', 'SLC25A3P2', 'SLC25A4', 'SLC25A40', 'SLC25A42', 'SLC25A43', 'SLC25A44', 'SLC25A45', 'SLC25A46', 'SLC25A5', 'SLC25A5-AS1', 'SLC25A51', 'SLC25A53', 'SLC25A5P1', 'SLC25A5P2', 'SLC25A5P3', 'SLC25A5P5', 'SLC25A5P8', 'SLC25A6', 'SLC25A6P2', 'SLC26A1', 'SLC26A10', 'SLC26A11', 'SLC26A5', 'SLC26A7', 'SLC27A1', 'SLC27A2', 'SLC27A3', 'SLC27A5', 'SLC27A6', 'SLC29A2', 'SLC29A4', 'SLC2A1-AS1', 'SLC2A11', 'SLC2A13', 'SLC2A3P1', 'SLC2A4RG', 'SLC2A5', 'SLC2A8', 'SLC2A9-AS1', 'SLC30A3', 'SLC30A4', 'SLC30A5', 'SLC30A6', 'SLC30A6-DT', 'SLC30A7', 'SLC30A9', 'SLC31A1', 'SLC31A1P1', 'SLC31A2', 'SLC33A1', 'SLC35A1', 'SLC35A2', 'SLC35A3', 'SLC35A4', 'SLC35A5', 'SLC35B1', 'SLC35B2', 'SLC35B3', 'SLC35B4', 'SLC35C2', 'SLC35D1', 'SLC35D2', 'SLC35E1', 'SLC35E1P1', 'SLC35E2A', 'SLC35E2B', 'SLC35E3', 'SLC35E4', 'SLC35F2', 'SLC35F5', 'SLC35F6', 'SLC35G1', 'SLC35G2', 'SLC35G6', 'SLC36A1', 'SLC36A4', 'SLC37A1', 'SLC37A2', 'SLC37A3', 'SLC38A1', 'SLC38A10', 'SLC38A11', 'SLC38A2-AS1', 'SLC38A4', 'SLC38A6', 'SLC38A7', 'SLC38A9', 'SLC39A1', 'SLC39A10', 'SLC39A11', 'SLC39A13', 'SLC39A14', 'SLC39A3', 'SLC39A4', 'SLC39A7', 'SLC39A9', 'SLC3A1', 'SLC41A1', 'SLC41A2', 'SLC41A3', 'SLC41A3-AS1', 'SLC43A2', 'SLC44A1', 'SLC44A2', 'SLC44A3', 'SLC45A3', 'SLC46A1', 'SLC46A3', 'SLC48A1', 'SLC49A3', 'SLC49A4', 'SLC4A1AP', 'SLC4A1APP1', 'SLC4A2', 'SLC4A5', 'SLC4A7', 'SLC4A8', 'SLC50A1', 'SLC51A', 'SLC5A10', 'SLC5A2', 'SLC5A3', 'SLC5A6', 'SLC66A1', 'SLC66A1L', 'SLC66A2', 'SLC66A3', 'SLC6A8', 'SLC6A9', 'SLC7A1', 'SLC7A10', 'SLC7A11-AS1', 'SLC7A2', 'SLC7A5P1', 'SLC7A5P2', 'SLC7A6', 'SLC7A6OS', 'SLC8A1', 'SLC8A1-AS1', 'SLC8B1', 'SLC9A2', 'SLC9A3', 'SLC9A3-AS1', 'SLC9A5', 'SLC9A6', 'SLC9A8', 'SLC9B1', 'SLC9B2', 'SLCO1A2', 'SLCO4A1-AS1', 'SLCO4C1', 'SLCO5A1-AS1', 'SLF1', 'SLF2', 'SLFNL1-AS1', 'SLIRP', 'SLIT2', 'SLK', 'SLMAP', 'SLTM', 'SLU7', 'SLURP1', 'SLX1A', 'SLX1A-SULT1A3', 'SLX1B-SULT1A4', 'SLX4', 'SLX4IP', 'SLX9', 'SMAD1', 'SMAD1-AS1', 'SMAD2', 'SMAD4', 'SMAD5', 'SMAD5-AS1', 'SMAD6', 'SMAGP', 'SMAP1', 'SMAP2', 'SMARCA1', 'SMARCA2', 'SMARCA4', 'SMARCA5', 'SMARCA5-AS1', 'SMARCAD1', 'SMARCAL1', 'SMARCAL1-AS1', 'SMARCB1', 'SMARCC1', 'SMARCC2', 'SMARCD1', 'SMARCD2', 'SMARCD3', 'SMARCE1', 'SMARCE1P3', 'SMARCE1P5', 'SMARCE1P6', 'SMBD1P', 'SMC1A', 'SMC1B', 'SMC2', 'SMC2-DT', 'SMC3', 'SMC4', 'SMC5', 'SMC5-DT', 'SMC6', 'SMCHD1', 'SMCO4', 'SMCR5', 'SMCR8', 'SMDT1', 'SMG1', 'SMG1-DT', 'SMG1P1', 'SMG1P2', 'SMG1P3', 'SMG1P4', 'SMG1P5', 'SMG1P6', 'SMG1P7', 'SMG5', 'SMG7', 'SMG7-AS1', 'SMG8', 'SMG9', 'SMIM1', 'SMIM10L1', 'SMIM12', 'SMIM13', 'SMIM14-DT', 'SMIM15', 'SMIM15-AS1', 'SMIM18', 'SMIM19', 'SMIM2', 'SMIM2-AS1', 'SMIM20', 'SMIM22', 'SMIM26', 'SMIM27', 'SMIM29', 'SMIM3', 'SMIM30', 'SMIM38', 'SMIM39', 'SMIM4', 'SMIM7', 'SMIM8', 'SMKR1', 'SMN1', 'SMN2', 'SMNDC1', 'SMPD1', 'SMPD2', 'SMPD4', 'SMPD4BP', 'SMPD5', 'SMPDL3A', 'SMS', 'SMU1', 'SMU1P1', 'SMUG1', 'SMURF1', 'SMURF2', 'SMURF2P1', 'SMYD2', 'SMYD3', 'SMYD4', 'SMYD5', 'SNAI3-AS1', 'SNAP23', 'SNAP25', 'SNAP25-AS1', 'SNAP29', 'SNAP47', 'SNAPC1', 'SNAPC2', 'SNAPC3', 'SNAPC4', 'SNAPC5', 'SNAPIN', 'SNCB', 'SND1', 'SND1-IT1', 'SNED1-AS1', 'SNF8', 'SNHG1', 'SNHG10', 'SNHG11', 'SNHG12', 'SNHG14', 'SNHG15', 'SNHG16', 'SNHG17', 'SNHG18', 'SNHG19', 'SNHG20', 'SNHG21', 'SNHG22', 'SNHG25', 'SNHG29', 'SNHG3', 'SNHG30', 'SNHG31', 'SNHG32', 'SNHG4', 'SNHG5', 'SNHG6', 'SNHG7', 'SNHG8', 'SNHG9', 'SNIP1', 'SNN', 'SNORA10', 'SNORA11', 'SNORA11F', 'SNORA12', 'SNORA13', 'SNORA14B', 'SNORA17A', 'SNORA17B', 'SNORA18', 'SNORA21', 'SNORA21B', 'SNORA24', 'SNORA24B', 'SNORA26', 'SNORA27', 'SNORA28', 'SNORA29', 'SNORA2B', 'SNORA2C', 'SNORA30', 'SNORA31', 'SNORA33', 'SNORA3A', 'SNORA3B', 'SNORA4', 'SNORA40', 'SNORA41', 'SNORA44', 'SNORA48', 'SNORA50A', 'SNORA50C', 'SNORA51', 'SNORA53', 'SNORA56', 'SNORA57', 'SNORA58', 'SNORA58B', 'SNORA5A', 'SNORA5C', 'SNORA6', 'SNORA60', 'SNORA61', 'SNORA62', 'SNORA63', 'SNORA63B', 'SNORA64', 'SNORA65', 'SNORA66', 'SNORA67', 'SNORA68', 'SNORA70', 'SNORA70F', 'SNORA70G', 'SNORA71A', 'SNORA71B', 'SNORA71C', 'SNORA71E', 'SNORA72', 'SNORA73A', 'SNORA73B', 'SNORA74C-1', 'SNORA75', 'SNORA77B', 'SNORA78', 'SNORA7A', 'SNORA7B', 'SNORA8', 'SNORA80A', 'SNORA80D', 'SNORA80E', 'SNORA81', 'SNORA84', 'SNORA9', 'SNORA9B', 'SNORC', 'SNORD10', 'SNORD100', 'SNORD102', 'SNORD104', 'SNORD110', 'SNORD117', 'SNORD118', 'SNORD12C', 'SNORD13', 'SNORD14A', 'SNORD14B', 'SNORD14D', 'SNORD15A', 'SNORD16', 'SNORD17', 'SNORD18A', 'SNORD18C', 'SNORD19', 'SNORD19B', 'SNORD1A', 'SNORD2', 'SNORD20', 'SNORD22', 'SNORD23', 'SNORD24', 'SNORD25', 'SNORD26', 'SNORD27', 'SNORD28', 'SNORD30', 'SNORD32A', 'SNORD33', 'SNORD34', 'SNORD35A', 'SNORD35B', 'SNORD36A', 'SNORD36B', 'SNORD36C', 'SNORD38A', 'SNORD3A', 'SNORD3B-1', 'SNORD42B', 'SNORD46', 'SNORD48', 'SNORD49A', 'SNORD49B', 'SNORD4A', 'SNORD4B', 'SNORD50B', 'SNORD51', 'SNORD52', 'SNORD53B', 'SNORD54', 'SNORD55', 'SNORD56', 'SNORD57', 'SNORD58A', 'SNORD58B', 'SNORD58C', 'SNORD59A', 'SNORD60', 'SNORD62B', 'SNORD63', 'SNORD63B', 'SNORD65', 'SNORD67', 'SNORD68', 'SNORD69', 'SNORD7', 'SNORD70', 'SNORD70B', 'SNORD73A', 'SNORD8', 'SNORD83A', 'SNORD83B', 'SNORD84', 'SNORD86', 'SNORD87', 'SNORD88B', 'SNORD88C', 'SNORD89', 'SNORD91A', 'SNORD94', 'SNORD95', 'SNORD96A', 'SNORD99', 'SNRK', 'SNRK-AS1', 'SNRNP200', 'SNRNP27', 'SNRNP35', 'SNRNP40', 'SNRNP48', 'SNRNP70', 'SNRPA', 'SNRPA1', 'SNRPA1-DT', 'SNRPA1P1', 'SNRPB', 'SNRPB2', 'SNRPC', 'SNRPCP14', 'SNRPCP2', 'SNRPCP3', 'SNRPCP5', 'SNRPCP8', 'SNRPD1', 'SNRPD2', 'SNRPD2P1', 'SNRPD3', 'SNRPE', 'SNRPEP2', 'SNRPEP4', 'SNRPF', 'SNRPFP1', 'SNRPG', 'SNRPGP10', 'SNRPGP14', 'SNRPGP15', 'SNRPGP18', 'SNRPGP2', 'SNRPGP4', 'SNRPGP9', 'SNTB2', 'SNTG2', 'SNTN', 'SNU13', 'SNUPN', 'SNW1', 'SNX1', 'SNX10', 'SNX11', 'SNX12', 'SNX13', 'SNX14', 'SNX15', 'SNX16', 'SNX17', 'SNX18', 'SNX19', 'SNX19P3', 'SNX2', 'SNX21', 'SNX22', 'SNX24', 'SNX25', 'SNX25P1', 'SNX27', 'SNX29', 'SNX29P1', 'SNX29P2', 'SNX3', 'SNX30', 'SNX31', 'SNX32', 'SNX33', 'SNX4', 'SNX5', 'SNX5P1', 'SNX5P2', 'SNX6', 'SNX7', 'SNX8', 'SNX9', 'SOAT1', 'SOBP', 'SOCAR', 'SOCS1', 'SOCS2', 'SOCS3-DT', 'SOCS4', 'SOCS5', 'SOCS6', 'SOCS7', 'SOD1', 'SOD2', 'SOD2-OT1', 'SOGA1', 'SOGA3', 'SON', 'SORBS3', 'SORCS2', 'SORD', 'SORD2P', 'SORT1', 'SOS1', 'SOS1-IT1', 'SOS2', 'SOWAHC', 'SOX11', 'SOX12', 'SOX13', 'SOX15', 'SOX18', 'SOX2-OT', 'SOX3', 'SOX30', 'SOX5', 'SOX6', 'SP1', 'SP100', 'SP110', 'SP140L', 'SP2', 'SP2-AS1', 'SP2-DT', 'SP3', 'SP4', 'SP6', 'SPA17', 'SPACA6', 'SPACA6P-AS', 'SPACA9', 'SPAG1', 'SPAG17', 'SPAG5-AS1', 'SPAG7', 'SPAG8', 'SPAG9', 'SPANXA2-OT1', 'SPANXB1', 'SPARCL1', 'SPART', 'SPART-AS1', 'SPAST', 'SPATA1', 'SPATA17', 'SPATA17-AS1', 'SPATA18', 'SPATA2', 'SPATA20', 'SPATA21', 'SPATA22', 'SPATA24', 'SPATA2L', 'SPATA32', 'SPATA33', 'SPATA4', 'SPATA41', 'SPATA5', 'SPATA5L1', 'SPATA6', 'SPATA6L', 'SPATA7', 'SPATA9', 'SPATC1L', 'SPATS2', 'SPATS2L', 'SPC24', 'SPC25', 'SPCS1', 'SPCS2', 'SPCS2P4', 'SPCS3', 'SPCS3-AS1', 'SPDL1', 'SPDYA', 'SPDYE1', 'SPDYE12P', 'SPDYE18', 'SPDYE2', 'SPDYE21', 'SPDYE3', 'SPDYE5', 'SPDYE6', 'SPECC1', 'SPECC1L', 'SPECC1L-ADORA2A', 'SPEF2', 'SPEG', 'SPEN', 'SPESP1', 'SPG11', 'SPG21', 'SPG7', 'SPHK2', 'SPICE1', 'SPIDR', 'SPIN1', 'SPIN2B', 'SPIN3', 'SPIN4', 'SPIN4-AS1', 'SPINDOC', 'SPINK14', 'SPINK2', 'SPINK4', 'SPINK5', 'SPINK8', 'SPINT1', 'SPINT1-AS1', 'SPINT2', 'SPIRE1', 'SPNS1', 'SPON2', 'SPOP', 'SPOPL', 'SPOUT1', 'SPPL2A', 'SPPL2B', 'SPPL3', 'SPR', 'SPRED1', 'SPRED2', 'SPRED3', 'SPRING1', 'SPRING1P2', 'SPRN', 'SPRR1A', 'SPRTN', 'SPRY4-AS1', 'SPRYD3', 'SPRYD4', 'SPRYD7', 'SPSB1', 'SPSB2', 'SPSB3', 'SPTAN1', 'SPTLC1', 'SPTLC2', 'SPTSSA', 'SPTY2D1', 'SPTY2D1OS', 'SQOR', 'SRA1', 'SRBD1', 'SRCAP', 'SRCIN1', 'SRD5A1', 'SRD5A3', 'SRD5A3-AS1', 'SREBF2', 'SREBF2-AS1', 'SREK1', 'SREK1IP1', 'SRFBP1', 'SRGAP1', 'SRGAP2', 'SRGAP2B', 'SRGAP2C', 'SRGAP3', 'SRGAP3-AS1', 'SRI', 'SRI-AS1', 'SRIP3', 'SRMP2', 'SRMS', 'SRP14', 'SRP14-DT', 'SRP14P1', 'SRP14P2', 'SRP14P3', 'SRP19', 'SRP54', 'SRP54-AS1', 'SRP68', 'SRP72', 'SRP72P1', 'SRP72P2', 'SRP9', 'SRP9P1', 'SRPK1', 'SRPK2', 'SRPK2P', 'SRPK3', 'SRPRA', 'SRPRB', 'SRPX2', 'SRR', 'SRRD', 'SRRM1', 'SRRM1P3', 'SRRM2', 'SRRM2-AS1', 'SRRM3', 'SRRM5', 'SRRT', 'SRSF1', 'SRSF10', 'SRSF11', 'SRSF12', 'SRSF2', 'SRSF3', 'SRSF3P1', 'SRSF4', 'SRSF5', 'SRSF6', 'SRSF6P2', 'SRSF7', 'SRSF8', 'SRSF9', 'SRXN1', 'SS18', 'SS18L1', 'SS18L2', 'SSB', 'SSBL4P', 'SSBP1', 'SSBP2', 'SSBP3', 'SSBP3P1', 'SSBP4', 'SSC4D', 'SSH1', 'SSH2', 'SSNA1', 'SSPN', 'SSR1', 'SSR2', 'SSR3', 'SSR4', 'SSR4P1', 'SSRP1', 'SSU72', 'SSX2IP', 'ST13', 'ST13P10', 'ST13P15', 'ST13P19', 'ST13P3', 'ST13P4', 'ST13P5', 'ST13P6', 'ST13P7', 'ST14', 'ST20', 'ST20-AS1', 'ST20-MTHFS', 'ST3GAL1-DT', 'ST3GAL2', 'ST3GAL3', 'ST3GAL4', 'ST3GAL5-AS1', 'ST3GAL6', 'ST6GAL1', 'ST6GALNAC6', 'ST7', 'ST7-AS1', 'ST7-AS2', 'ST7-OT4', 'ST7L', 'ST8SIA4', 'ST8SIA6', 'ST8SIA6-AS1', 'STAB1', 'STAC3', 'STAG1', 'STAG2', 'STAG3', 'STAG3L1', 'STAG3L2', 'STAG3L3', 'STAG3L4', 'STAG3L5P', 'STAG3L5P-PVRIG2P-PILRB', 'STAM', 'STAM-DT', 'STAM2', 'STAMBP', 'STAP2', 'STARD13', 'STARD13-AS', 'STARD3', 'STARD3NL', 'STARD4', 'STARD4-AS1', 'STARD5', 'STARD7', 'STARD7-AS1', 'STARD9', 'STAT1', 'STAT2', 'STAT3', 'STAT5B', 'STAU1', 'STAU2', 'STEAP1', 'STEAP3-AS1', 'STEEP1', 'STIL', 'STIM1', 'STIM1-AS1', 'STIM2', 'STIM2-AS1', 'STIMATE', 'STIMATE-MUSTN1', 'STIP1', 'STIP1P3', 'STK10', 'STK11', 'STK11IP', 'STK16', 'STK17A', 'STK17B', 'STK19', 'STK19B', 'STK24', 'STK24-AS1', 'STK24P1', 'STK25', 'STK26', 'STK3', 'STK31', 'STK32C', 'STK35', 'STK38', 'STK38L', 'STK39', 'STK4', 'STK40', 'STKLD1', 'STMN1P1', 'STMN3', 'STMND1', 'STMP1', 'STN1', 'STOM', 'STOML1', 'STOML2', 'STON2', 'STOX1', 'STPG1', 'STRA6LP', 'STRADA', 'STRADB', 'STRAP', 'STRBP', 'STRIP1', 'STRN', 'STRN3', 'STRN4', 'STT3A', 'STT3B', 'STUB1', 'STX10', 'STX12', 'STX16', 'STX16-NPEPL1', 'STX17', 'STX17-DT', 'STX18', 'STX19', 'STX1A', 'STX1B', 'STX2', 'STX3', 'STX4', 'STX5', 'STX5-DT', 'STX6', 'STX7', 'STX8', 'STXBP1', 'STXBP2', 'STXBP3', 'STXBP4', 'STXBP5', 'STXBP5-AS1', 'STXBP6', 'STYX', 'STYXL1', 'SUB1', 'SUB1P1', 'SUCLA2', 'SUCLA2-AS1', 'SUCLG1', 'SUCLG2', 'SUCLG2-AS1', 'SUCLG2P2', 'SUCO', 'SUDS3', 'SUDS3P1', 'SUFU', 'SUGCT', 'SUGP1', 'SUGP2', 'SUGT1', 'SUGT1-DT', 'SUGT1P1', 'SUGT1P3', 'SUGT1P4', 'SUGT1P4-STRA6LP', 'SUGT1P4-STRA6LP-CCDC180', 'SULT1A1', 'SULT1A2', 'SULT1A3', 'SULT1A4', 'SULT6B1', 'SUMF1', 'SUMF2', 'SUMO1', 'SUMO1P3', 'SUMO2', 'SUMO2P1', 'SUMO2P10', 'SUMO2P17', 'SUMO2P21', 'SUMO2P6', 'SUMO3', 'SUMO4', 'SUN1', 'SUNO1', 'SUPT16H', 'SUPT16HP1', 'SUPT20H', 'SUPT3H', 'SUPT4H1', 'SUPT4H1P1', 'SUPT4H1P2', 'SUPT5H', 'SUPT6H', 'SUPT7L', 'SUPV3L1', 'SURF1', 'SURF2', 'SURF4', 'SURF6', 'SUSD1', 'SUSD3', 'SUSD4', 'SUV39H2', 'SUV39H2-DT', 'SUZ12', 'SUZ12P1', 'SVBP', 'SVIL', 'SVIL-AS1', 'SVIL2P', 'SVIP', 'SWAP70', 'SWI5', 'SWSAP1', 'SWT1', 'SYAP1', 'SYCE1L', 'SYCE2', 'SYCE3', 'SYCP2', 'SYCP2L', 'SYCP3', 'SYDE1', 'SYDE2', 'SYF2', 'SYK', 'SYMPK', 'SYN1', 'SYN2', 'SYN3', 'SYN3-AS1', 'SYNC', 'SYNCRIP', 'SYNE2', 'SYNE4', 'SYNGAP1', 'SYNGAP1-AS1', 'SYNGR1', 'SYNGR2', 'SYNGR2P1', 'SYNGR4', 'SYNJ1', 'SYNJ2', 'SYNJ2BP', 'SYNJ2BP-COX16', 'SYNM-AS1', 'SYNPO2L-AS1', 'SYNPR-AS1', 'SYNRG', 'SYP', 'SYPL1', 'SYPL1P2', 'SYS1', 'SYS1-DBNDD2', 'SYT1', 'SYT10', 'SYT17', 'SYT3', 'SYT5', 'SYT7', 'SYT8', 'SYTL1', 'SYVN1', 'SZRD1', 'SZT2', 'SZT2-AS1', 'TAB1', 'TAB2', 'TAB3', 'TAB3-AS2', 'TACC1', 'TACC2', 'TACO1', 'TADA1', 'TADA2A', 'TADA2B', 'TADA3', 'TAF1', 'TAF10', 'TAF11', 'TAF12', 'TAF13', 'TAF15', 'TAF1A', 'TAF1A-AS1', 'TAF1B', 'TAF1C', 'TAF1D', 'TAF1L', 'TAF2', 'TAF3', 'TAF4', 'TAF4B', 'TAF5', 'TAF5L', 'TAF6', 'TAF6L', 'TAF7', 'TAF7L', 'TAF8', 'TAF9', 'TAF9B', 'TAF9BP1', 'TAFA2', 'TAFA5', 'TAFAZZIN', 'TAGAP-AS1', 'TAGLN', 'TAGLN2', 'TAGLN2P1', 'TALDO1', 'TAMALIN', 'TAMM41', 'TANC1', 'TANGO6', 'TANK', 'TAOK1', 'TAOK2', 'TAOK3', 'TAP2', 'TAPBP', 'TAPT1', 'TAPT1-AS1', 'TARBP1', 'TARBP2', 'TARDBP', 'TARS1', 'TARS1-DT', 'TARS2', 'TARS3', 'TAS2R14', 'TAS2R15P', 'TAS2R19', 'TAS2R31', 'TAS2R64P', 'TASOR', 'TASOR2', 'TASP1', 'TAT', 'TAT-AS1', 'TATDN1', 'TATDN1P1', 'TATDN2', 'TATDN2P2', 'TATDN3', 'TAX1BP1', 'TAX1BP1-AS1', 'TAX1BP3', 'TBC1D1', 'TBC1D10A', 'TBC1D10B', 'TBC1D12', 'TBC1D13', 'TBC1D14', 'TBC1D15', 'TBC1D16', 'TBC1D17', 'TBC1D19', 'TBC1D2', 'TBC1D20', 'TBC1D22A', 'TBC1D22A-DT', 'TBC1D22B', 'TBC1D23', 'TBC1D24', 'TBC1D25', 'TBC1D2B', 'TBC1D30', 'TBC1D31', 'TBC1D32', 'TBC1D3B', 'TBC1D3L', 'TBC1D3P1-DHX40P1', 'TBC1D4', 'TBC1D5', 'TBC1D7', 'TBC1D8', 'TBC1D8B', 'TBC1D9B', 'TBCA', 'TBCAP1', 'TBCAP3', 'TBCB', 'TBCC', 'TBCCD1', 'TBCD', 'TBCE', 'TBCEL', 'TBCEL-TECTA', 'TBCK', 'TBK1', 'TBKBP1', 'TBL1X', 'TBL1XR1', 'TBL1XR1-AS1', 'TBL2', 'TBL3', 'TBP', 'TBPL1', 'TBRG1', 'TBRG4', 'TBX2', 'TBX2-AS1', 'TBX6', 'TBXAS1', 'TC2N', 'TCAF1', 'TCAF1P1', 'TCAF2', 'TCAF2C', 'TCAF2P1', 'TCAIM', 'TCEA1', 'TCEA1P2', 'TCEA1P4', 'TCEA2', 'TCEA3', 'TCEAL1', 'TCEAL3', 'TCEAL4', 'TCEAL8', 'TCEANC', 'TCEANC2', 'TCERG1', 'TCERG1L-AS1', 'TCF12', 'TCF20', 'TCF24', 'TCF25', 'TCF3', 'TCF7', 'TCF7L1', 'TCF7L2', 'TCFL5', 'TCHP', 'TCOF1', 'TCP1', 'TCP10L', 'TCP11L1', 'TCP11L2', 'TCP1P1', 'TCP1P3', 'TCTA', 'TCTN1', 'TCTN2', 'TCTN3', 'TDG', 'TDGP1', 'TDH', 'TDH-AS1', 'TDP1', 'TDP2', 'TDRD1', 'TDRD3', 'TDRD5', 'TDRD7', 'TDRKH', 'TDRKH-AS1', 'TEAD1', 'TEAD2', 'TEAD3', 'TEAD4', 'TEC', 'TECPR1', 'TECPR2', 'TECR', 'TECRP1', 'TECRP2', 'TEDC2-AS1', 'TEF', 'TEFM', 'TEKT4P2', 'TEKT5', 'TEN1', 'TEN1-CDK3', 'TENM2', 'TENM3-AS1', 'TENT2', 'TENT4A', 'TENT4B', 'TENT5C', 'TEPSIN', 'TERC', 'TERF1', 'TERF1P5', 'TERF2', 'TERF2IP', 'TESK1', 'TESK2', 'TESMIN', 'TET1', 'TET2', 'TET2-AS1', 'TET3', 'TEX10', 'TEX14', 'TEX2', 'TEX21P', 'TEX22', 'TEX261', 'TEX264', 'TEX29', 'TEX30', 'TEX35', 'TEX45', 'TEX54', 'TEX9', 'TFAM', 'TFAP2A', 'TFAP2A-AS1', 'TFAP2C', 'TFAP2E-AS1', 'TFAP4', 'TFB1M', 'TFB2M', 'TFDP1', 'TFDP1P2', 'TFDP2', 'TFE3', 'TFF2', 'TFG', 'TFIP11', 'TFIP11-DT', 'TFPI2', 'TFPI2-DT', 'TFPT', 'TGDS', 'TGFA', 'TGFB1', 'TGFB2-AS1', 'TGFB2-OT1', 'TGFB3-AS1', 'TGFBR1', 'TGFBR3L', 'TGFBRAP1', 'TGIF2', 'TGIF2-RAB5IF', 'TGOLN2', 'TGS1', 'TH2LCRR', 'THA1P', 'THADA', 'THAP1', 'THAP10', 'THAP11', 'THAP12', 'THAP2', 'THAP3', 'THAP4', 'THAP5', 'THAP6', 'THAP7', 'THAP7-AS1', 'THAP8', 'THAP9', 'THAP9-AS1', 'THBS1-AS1', 'THBS2', 'THBS3-AS1', 'THBS4-AS1', 'THEG', 'THEGL', 'THEM4', 'THEM5', 'THEM6', 'THG1L', 'THNSL1', 'THNSL2', 'THOC1', 'THOC1-DT', 'THOC2', 'THOC3', 'THOC5', 'THOC6', 'THOC7', 'THOC7-AS1', 'THPO', 'THRA', 'THRAP3', 'THRAP3P1', 'THRB', 'THRB-AS1', 'THRIL', 'THSD1', 'THSD1P1', 'THTPA', 'THUMPD1', 'THUMPD2', 'THUMPD3', 'THUMPD3-AS1', 'THYN1', 'TIA1', 'TIAF1', 'TIAL1', 'TIAM1', 'TIAM2', 'TICAM1', 'TICAM2', 'TICAM2-AS1', 'TIFA', 'TIGAR', 'TIGD1', 'TIGD2', 'TIGD3', 'TIGD5', 'TIGD6', 'TIGD7', 'TIGIT', 'TIMM10', 'TIMM10B', 'TIMM13', 'TIMM17A', 'TIMM17B', 'TIMM17BP1', 'TIMM21', 'TIMM22', 'TIMM23', 'TIMM23B', 'TIMM23B-AGAP6', 'TIMM29', 'TIMM44', 'TIMM50', 'TIMM8A', 'TIMM8B', 'TIMM8BP2', 'TIMM9', 'TIMMDC1', 'TIMMDC1-DT', 'TIMP1', 'TIMP2', 'TINCR', 'TINF2', 'TIPARP-AS1', 'TIPIN', 'TIPRL', 'TIRAP', 'TJAP1', 'TJP1', 'TJP2', 'TJP3', 'TK2', 'TKFC', 'TKT', 'TLCD1', 'TLCD2', 'TLCD3A', 'TLCD4', 'TLCD4-RWDD3', 'TLCD5', 'TLDC2', 'TLE1P1', 'TLE3', 'TLE5', 'TLK1', 'TLK2', 'TLK2P1', 'TLN1', 'TLN2', 'TLNRD1', 'TLR2', 'TLR5', 'TM2D1', 'TM2D2', 'TM2D3', 'TM4SF1-AS1', 'TM4SF18', 'TM4SF19', 'TM4SF19-AS1', 'TM4SF19-DYNLT2B', 'TM4SF4', 'TM6SF1', 'TM7SF3', 'TM9SF1', 'TM9SF2', 'TM9SF3', 'TM9SF4', 'TMA16', 'TMA7', 'TMBIM4', 'TMBIM6', 'TMBIM7P', 'TMC3', 'TMC3-AS1', 'TMC4', 'TMC6', 'TMC7', 'TMCC1', 'TMCC1-DT', 'TMCO1', 'TMCO1-AS1', 'TMCO3', 'TMCO4', 'TMCO6', 'TMED1', 'TMED10', 'TMED10P1', 'TMED2', 'TMED2-DT', 'TMED3', 'TMED4', 'TMED5', 'TMED6', 'TMED7', 'TMED7-TICAM2', 'TMED8', 'TMED9', 'TMEFF1', 'TMEM101', 'TMEM102', 'TMEM104', 'TMEM105', 'TMEM106A', 'TMEM106B', 'TMEM107', 'TMEM109-DT', 'TMEM11', 'TMEM115', 'TMEM116', 'TMEM117', 'TMEM120A', 'TMEM120B', 'TMEM121', 'TMEM123', 'TMEM123-DT', 'TMEM125', 'TMEM126A', 'TMEM126B', 'TMEM127', 'TMEM128', 'TMEM129', 'TMEM131', 'TMEM131L', 'TMEM132A', 'TMEM134', 'TMEM135', 'TMEM138', 'TMEM139-AS1', 'TMEM140', 'TMEM141', 'TMEM143', 'TMEM144', 'TMEM147', 'TMEM147-AS1', 'TMEM14A', 'TMEM14B', 'TMEM14B-DT', 'TMEM14C', 'TMEM14DP', 'TMEM150A', 'TMEM151B', 'TMEM154', 'TMEM156', 'TMEM160', 'TMEM161A', 'TMEM161B', 'TMEM161B-DT', 'TMEM165', 'TMEM167A', 'TMEM167B', 'TMEM167B-DT', 'TMEM168', 'TMEM17', 'TMEM170A', 'TMEM170B', 'TMEM171', 'TMEM175', 'TMEM177', 'TMEM178B', 'TMEM179B', 'TMEM18', 'TMEM18-DT', 'TMEM181', 'TMEM182', 'TMEM183A', 'TMEM183BP', 'TMEM184A', 'TMEM184B', 'TMEM184C', 'TMEM184C-DT', 'TMEM185A', 'TMEM185B', 'TMEM186', 'TMEM187', 'TMEM19', 'TMEM190', 'TMEM191A', 'TMEM191B', 'TMEM191C', 'TMEM192', 'TMEM198', 'TMEM198B', 'TMEM199', 'TMEM200B', 'TMEM201', 'TMEM202-AS1', 'TMEM203', 'TMEM205', 'TMEM208', 'TMEM209', 'TMEM213', 'TMEM214', 'TMEM216', 'TMEM217', 'TMEM218', 'TMEM219', 'TMEM220-AS1', 'TMEM221', 'TMEM222', 'TMEM223', 'TMEM230', 'TMEM230P1', 'TMEM230P2', 'TMEM231', 'TMEM231P1', 'TMEM234', 'TMEM237', 'TMEM238', 'TMEM241', 'TMEM242', 'TMEM242-DT', 'TMEM243', 'TMEM245', 'TMEM248', 'TMEM249', 'TMEM250', 'TMEM251', 'TMEM253', 'TMEM254', 'TMEM254-AS1', 'TMEM256', 'TMEM256-PLSCR3', 'TMEM256P2', 'TMEM258', 'TMEM259', 'TMEM26-AS1', 'TMEM260', 'TMEM262', 'TMEM263', 'TMEM263-DT', 'TMEM266', 'TMEM267', 'TMEM268', 'TMEM269', 'TMEM272', 'TMEM30A', 'TMEM30A-DT', 'TMEM30B', 'TMEM31', 'TMEM33', 'TMEM35B', 'TMEM38A', 'TMEM38B', 'TMEM39A', 'TMEM39B', 'TMEM41A', 'TMEM41B', 'TMEM42', 'TMEM43', 'TMEM44', 'TMEM44-AS1', 'TMEM50A', 'TMEM50B', 'TMEM51', 'TMEM51-AS1', 'TMEM52', 'TMEM53', 'TMEM54', 'TMEM59', 'TMEM60', 'TMEM61', 'TMEM62', 'TMEM63A', 'TMEM63B', 'TMEM63C', 'TMEM65', 'TMEM67', 'TMEM68', 'TMEM69', 'TMEM70', 'TMEM74B', 'TMEM79', 'TMEM80', 'TMEM81', 'TMEM86B', 'TMEM87A', 'TMEM87B', 'TMEM8B', 'TMEM9', 'TMEM91', 'TMEM97', 'TMEM9B', 'TMEM9B-AS1', 'TMF1', 'TMLHE', 'TMLHE-AS1', 'TMOD1', 'TMOD2', 'TMOD3', 'TMOD4', 'TMPO', 'TMPO-AS1', 'TMPOP2', 'TMPRSS13', 'TMPRSS3', 'TMPRSS7', 'TMPRSS9', 'TMSB10P1', 'TMSB15A', 'TMSB15B', 'TMSB15B-AS1', 'TMSB4XP1', 'TMSB4XP2', 'TMSB4XP4', 'TMSB4XP6', 'TMSB4XP8', 'TMTC2', 'TMTC3', 'TMTC4', 'TMUB1', 'TMUB2', 'TMX1', 'TMX2', 'TMX2P1', 'TMX3', 'TMX4', 'TNFAIP1', 'TNFAIP8', 'TNFRSF10A', 'TNFRSF10A-AS1', 'TNFRSF10A-DT', 'TNFRSF10C', 'TNFRSF11A', 'TNFRSF13C', 'TNFRSF18', 'TNFRSF1A', 'TNFRSF25', 'TNFRSF6B', 'TNFSF10', 'TNFSF12-TNFSF13', 'TNFSF13', 'TNFSF13B', 'TNFSF4', 'TNFSF9', 'TNIP1', 'TNIP2', 'TNK1', 'TNK2', 'TNK2-AS1', 'TNKS', 'TNKS1BP1', 'TNKS2', 'TNKS2-AS1', 'TNNI3', 'TNNT1', 'TNNT2', 'TNPO1', 'TNPO1-DT', 'TNPO1P1', 'TNPO2', 'TNPO3', 'TNRC18', 'TNRC6A', 'TNRC6B', 'TNRC6B-DT', 'TNRC6C', 'TNS2', 'TNS4', 'TOB1-AS1', 'TOB2', 'TOB2P1', 'TOE1', 'TOGARAM1', 'TOLLIP', 'TOLLIP-DT', 'TOM1', 'TOM1L1', 'TOM1L2', 'TOMM20', 'TOMM20L', 'TOMM20P4', 'TOMM22', 'TOMM34', 'TOMM40', 'TOMM40L', 'TOMM40P1', 'TOMM40P2', 'TOMM40P4', 'TOMM5', 'TOMM6', 'TOMM7', 'TOMM70', 'TOMT', 'TONSL-AS1', 'TOP1', 'TOP1MT', 'TOP1P1', 'TOP2B', 'TOP3A', 'TOP3B', 'TOP3BP1', 'TOPBP1', 'TOPORS', 'TOR1A', 'TOR1AIP1', 'TOR1AIP2', 'TOR1B', 'TOR2A', 'TOR3A', 'TOR4A', 'TOX2', 'TOX4', 'TOX4P1', 'TP53', 'TP53BP1', 'TP53BP2', 'TP53I11', 'TP53I13', 'TP53I3', 'TP53INP1', 'TP53INP2', 'TP53RK', 'TP53RK-DT', 'TP53TG1', 'TP53TG5', 'TP73', 'TP73-AS1', 'TPBG', 'TPBGL', 'TPBGL-AS1', 'TPCN1', 'TPCN2', 'TPD52', 'TPD52L2', 'TPGS1', 'TPGS2', 'TPI1', 'TPI1P1', 'TPI1P2', 'TPI1P3', 'TPI1P4', 'TPK1', 'TPM1-AS', 'TPM2', 'TPM3', 'TPM3P6', 'TPM3P8', 'TPM3P9', 'TPMT', 'TPMTP1', 'TPO', 'TPP1', 'TPP2', 'TPPP2', 'TPPP3', 'TPR', 'TPRA1', 'TPRG1', 'TPRG1L', 'TPRKB', 'TPRN', 'TPSG1', 'TPSP2', 'TPST1', 'TPST2', 'TPT1', 'TPT1-AS1', 'TPT1P4', 'TPT1P9', 'TPTE', 'TPTE2', 'TPTE2P2', 'TPTE2P5', 'TPTEP1', 'TPTEP2', 'TPTEP2-CSNK1E', 'TRA2A', 'TRA2B', 'TRABD', 'TRABD2A', 'TRADD', 'TRAF2', 'TRAF3', 'TRAF3IP1', 'TRAF3IP2', 'TRAF3IP2-AS1', 'TRAF3IP3', 'TRAF4', 'TRAF5', 'TRAF6', 'TRAF7', 'TRAK1', 'TRAK2', 'TRAM1', 'TRAM1L1', 'TRAM2-AS1', 'TRAP1', 'TRAPPC1', 'TRAPPC10', 'TRAPPC11', 'TRAPPC12', 'TRAPPC12-AS1', 'TRAPPC13', 'TRAPPC14', 'TRAPPC2', 'TRAPPC2B', 'TRAPPC2L', 'TRAPPC3', 'TRAPPC4', 'TRAPPC5', 'TRAPPC6A', 'TRAPPC6B', 'TRAPPC8', 'TRAPPC9', 'TRAV29DV5', 'TRAV30', 'TRAV34', 'TRAV38-1', 'TRAV39', 'TRDMT1', 'TREH', 'TRERF1', 'TREX1', 'TREX2', 'TRIAP1', 'TRIL', 'TRIM11', 'TRIM13', 'TRIM14', 'TRIM2', 'TRIM21', 'TRIM23', 'TRIM24', 'TRIM25', 'TRIM26', 'TRIM26BP', 'TRIM27', 'TRIM28', 'TRIM31', 'TRIM31-AS1', 'TRIM32', 'TRIM33', 'TRIM35', 'TRIM36', 'TRIM36-IT1', 'TRIM37', 'TRIM38', 'TRIM39', 'TRIM39-RPP21', 'TRIM4', 'TRIM41', 'TRIM44', 'TRIM45', 'TRIM5', 'TRIM52', 'TRIM52-AS1', 'TRIM56', 'TRIM59', 'TRIM6-TRIM34', 'TRIM60P18', 'TRIM62', 'TRIM65', 'TRIM66', 'TRIM69', 'TRIM7', 'TRIM7-AS1', 'TRIM73', 'TRIM74', 'TRIM8', 'TRIM8-DT', 'TRIO', 'TRIOBP', 'TRIP11', 'TRIP12', 'TRIP4', 'TRIQK', 'TRIR', 'TRIT1', 'TRMO', 'TRMT1', 'TRMT10A', 'TRMT10B', 'TRMT10C', 'TRMT11', 'TRMT112', 'TRMT112P3', 'TRMT112P6', 'TRMT12', 'TRMT13', 'TRMT1L', 'TRMT2B', 'TRMT44', 'TRMT5', 'TRMT6', 'TRMT61A', 'TRMT61B', 'TRMU', 'TRNAU1AP', 'TRNP1', 'TRNT1', 'TROAP-AS1', 'TRPC1', 'TRPC4AP', 'TRPM4', 'TRPM7', 'TRPS1', 'TRPT1', 'TRPV1', 'TRRAP', 'TRUB1', 'TRUB2', 'TSACC', 'TSC1', 'TSC2', 'TSC22D1', 'TSC22D1-AS1', 'TSC22D4', 'TSEN15', 'TSEN2', 'TSEN34', 'TSEN54', 'TSFM', 'TSG101', 'TSGA10', 'TSGA13', 'TSHZ1', 'TSHZ2', 'TSIX', 'TSKU-AS1', 'TSN', 'TSNARE1', 'TSNAX', 'TSNAX-DISC1', 'TSNAXIP1', 'TSPAN10', 'TSPAN12', 'TSPAN13', 'TSPAN14', 'TSPAN16', 'TSPAN17', 'TSPAN18', 'TSPAN3', 'TSPAN31', 'TSPAN4', 'TSPAN5', 'TSPAN6', 'TSPAN9', 'TSPO', 'TSPOAP1-AS1', 'TSPYL1', 'TSPYL4', 'TSPYL5', 'TSR1', 'TSR2', 'TSR3', 'TSSC2', 'TSSC4', 'TSSK3', 'TSSK4', 'TSSK6', 'TSTD1', 'TSTD2', 'TTBK2', 'TTBK2-AS1', 'TTC1', 'TTC12', 'TTC13', 'TTC14', 'TTC16', 'TTC17', 'TTC19', 'TTC21B', 'TTC21B-AS1', 'TTC23', 'TTC23L', 'TTC23L-AS1', 'TTC26', 'TTC27', 'TTC28-AS1', 'TTC3', 'TTC3-AS1', 'TTC30A', 'TTC30B', 'TTC31', 'TTC32', 'TTC32-DT', 'TTC33', 'TTC36', 'TTC36-AS1', 'TTC37', 'TTC38', 'TTC39A', 'TTC39A-AS1', 'TTC39B', 'TTC39C', 'TTC39C-AS1', 'TTC3P1', 'TTC4', 'TTC41P', 'TTC4P1', 'TTC5', 'TTC6', 'TTC7B', 'TTC8', 'TTC9B', 'TTC9C', 'TTF1', 'TTI1', 'TTI2', 'TTK', 'TTL', 'TTLL1', 'TTLL1-AS1', 'TTLL11', 'TTLL12', 'TTLL3', 'TTLL4', 'TTLL5', 'TTLL7', 'TTLL9', 'TTN', 'TTN-AS1', 'TTPA', 'TTPAL', 'TTYH3', 'TUBA3C', 'TUBA3D', 'TUBA3E', 'TUBA3FP', 'TUBA5P', 'TUBAP14', 'TUBAP2', 'TUBB1', 'TUBB2A', 'TUBB2B', 'TUBB2BP1', 'TUBB6', 'TUBB7P', 'TUBB8', 'TUBB8B', 'TUBB8P7', 'TUBB8P8', 'TUBBP1', 'TUBBP5', 'TUBE1', 'TUBG1P', 'TUBG2', 'TUBGCP2', 'TUBGCP3', 'TUBGCP4', 'TUBGCP5', 'TUBGCP6', 'TUFM', 'TUFMP1', 'TUG1', 'TULP1', 'TULP3', 'TULP4', 'TUSC1', 'TUSC2', 'TUSC3', 'TUT1', 'TUT4', 'TUT7', 'TVP23A', 'TVP23B', 'TVP23C', 'TVP23C-CDRT4', 'TVP23CP2', 'TWF1', 'TWF1P1', 'TWF2', 'TWIST1', 'TWNK', 'TWSG1', 'TWSG1-DT', 'TXLNA', 'TXLNB', 'TXLNG', 'TXN', 'TXN2', 'TXNDC11', 'TXNDC12', 'TXNDC15', 'TXNDC16', 'TXNDC17', 'TXNDC9', 'TXNL1', 'TXNL4A', 'TXNL4B', 'TXNP1', 'TXNP4', 'TXNP5', 'TXNP6', 'TXNRD2', 'TXNRD3', 'TYMP', 'TYMS', 'TYMSOS', 'TYSND1', 'TYW1', 'TYW1B', 'TYW3', 'TYW5', 'U2AF1', 'U2AF1L4', 'U2AF1L5', 'U2AF2', 'U2SURP', 'UACA', 'UAP1', 'UBA1', 'UBA2', 'UBA3', 'UBA5', 'UBA52', 'UBA52P5', 'UBA52P6', 'UBA52P7', 'UBA52P8', 'UBA6', 'UBA6-DT', 'UBAC1', 'UBAC2', 'UBAC2-AS1', 'UBALD1', 'UBALD2', 'UBAP1', 'UBAP2', 'UBAP2L', 'UBASH3A', 'UBBP1', 'UBBP2', 'UBBP3', 'UBBP4', 'UBE2A', 'UBE2B', 'UBE2CP4', 'UBE2D1', 'UBE2D2', 'UBE2D3', 'UBE2D3-AS1', 'UBE2D3P1', 'UBE2D3P2', 'UBE2D4', 'UBE2E1', 'UBE2E2', 'UBE2E3', 'UBE2E4P', 'UBE2F', 'UBE2F-SCLY', 'UBE2FP1', 'UBE2G1', 'UBE2G2', 'UBE2H', 'UBE2HP1', 'UBE2I', 'UBE2J1', 'UBE2J2', 'UBE2K', 'UBE2L3', 'UBE2L4', 'UBE2L5', 'UBE2M', 'UBE2MP1', 'UBE2N', 'UBE2NL', 'UBE2NP1', 'UBE2O', 'UBE2Q1', 'UBE2Q1-AS1', 'UBE2Q2', 'UBE2Q2P1', 'UBE2Q2P2', 'UBE2R2', 'UBE2SP1', 'UBE2SP2', 'UBE2V1', 'UBE2V1P2', 'UBE2V2', 'UBE2W', 'UBE2Z', 'UBE3A', 'UBE3B', 'UBE3C', 'UBE3D', 'UBE4A', 'UBE4B', 'UBFD1', 'UBIAD1', 'UBL3', 'UBL4A', 'UBL5', 'UBL5P2', 'UBL7', 'UBL7-DT', 'UBLCP1', 'UBN1', 'UBN2', 'UBOX5', 'UBOX5-AS1', 'UBP1', 'UBQLN1', 'UBQLN1-AS1', 'UBQLN2', 'UBQLN4', 'UBQLN4P1', 'UBR1', 'UBR2', 'UBR3', 'UBR4', 'UBR5', 'UBR5-DT', 'UBR7', 'UBTD1', 'UBTD2', 'UBTF', 'UBXN1', 'UBXN11', 'UBXN2A', 'UBXN2B', 'UBXN4', 'UBXN6', 'UBXN7', 'UBXN7-AS1', 'UBXN8', 'UCHL1', 'UCHL3', 'UCHL5', 'UCK1', 'UCK2', 'UCKL1', 'UCKL1-AS1', 'UCN', 'UEVLD', 'UFC1', 'UFD1', 'UFL1', 'UFL1-AS1', 'UFM1', 'UFSP1', 'UFSP2', 'UGCG', 'UGDH-AS1', 'UGGT1', 'UGGT2', 'UGP2', 'UGT2B15', 'UGT2B17', 'UHMK1', 'UHRF1BP1', 'UHRF1BP1L', 'UHRF1BP1L-DT', 'UHRF2', 'UIMC1', 'ULBP1', 'ULBP2', 'ULBP3', 'ULK1', 'ULK2', 'ULK3', 'ULK4', 'UMAD1', 'UMPS', 'UNC119', 'UNC119B', 'UNC13B', 'UNC45A', 'UNC50', 'UNC5B-AS1', 'UNC5C-AS1', 'UNC79', 'UNC93B1', 'UNC93B3', 'UNK', 'UNKL', 'UPF1', 'UPF2', 'UPF3A', 'UPF3AP1', 'UPF3B', 'UPK1A-AS1', 'UPK2', 'UPK3B', 'UPK3BL1', 'UPK3BL2', 'UPK3BP1', 'UPP2', 'UPRT', 'UQCC1', 'UQCC2', 'UQCC3', 'UQCR10', 'UQCR11', 'UQCRB', 'UQCRB-AS1', 'UQCRBP1', 'UQCRC1', 'UQCRC2', 'UQCRFS1', 'UQCRFS1P1', 'UQCRH', 'UQCRHL', 'UQCRHP1', 'UQCRQ', 'URAHP', 'URB1', 'URB1-AS1', 'URGCP', 'URGCP-MRPS24', 'URI1', 'URM1', 'UROD', 'UROS', 'USB1', 'USE1', 'USF1', 'USF1P1', 'USF2', 'USF3', 'USO1', 'USP1', 'USP10', 'USP11', 'USP12', 'USP13', 'USP14', 'USP15', 'USP16', 'USP18', 'USP19', 'USP2-AS1', 'USP20', 'USP21', 'USP22', 'USP24', 'USP24P1', 'USP25', 'USP27X', 'USP28', 'USP3', 'USP3-AS1', 'USP30', 'USP30-AS1', 'USP31', 'USP32', 'USP32P2', 'USP33', 'USP34', 'USP34-DT', 'USP35', 'USP36', 'USP37', 'USP38', 'USP38-DT', 'USP39', 'USP4', 'USP40', 'USP41', 'USP42', 'USP43', 'USP45', 'USP46', 'USP46-DT', 'USP47', 'USP48', 'USP49', 'USP5', 'USP50', 'USP53', 'USP54', 'USP6', 'USP6NL', 'USP6NL-AS1', 'USP7', 'USP7-AS1', 'USP8', 'USP8P1', 'USP9X', 'USPL1', 'UST', 'UST-AS1', 'UST-AS2', 'UTP11', 'UTP14A', 'UTP14C', 'UTP15', 'UTP18', 'UTP20', 'UTP23', 'UTP25', 'UTP3', 'UTP4', 'UTP6', 'UTRN', 'UTS2', 'UTS2B', 'UVRAG', 'UVRAG-DT', 'UVSSA', 'UXS1', 'UXT', 'UXT-AS1', 'VAC14', 'VAC14-AS1', 'VAMP1', 'VAMP2', 'VAMP3', 'VAMP4', 'VAMP5', 'VAMP7', 'VAMP8', 'VANGL1', 'VAPA', 'VAPB', 'VARS2', 'VASH1', 'VASH1-AS1', 'VASH2', 'VASP', 'VAT1', 'VAV2', 'VAV3', 'VAV3-AS1', 'VAX2', 'VBP1', 'VCP', 'VCPIP1', 'VCPKMT', 'VDAC1', 'VDAC1P1', 'VDAC1P2', 'VDAC1P4', 'VDAC1P6', 'VDAC1P8', 'VDAC2', 'VDAC2P5', 'VDAC3', 'VDAC3P1', 'VEGFB', 'VEGFC', 'VEPH1', 'VEZF1', 'VEZF1P1', 'VEZT', 'VGF', 'VGLL4', 'VHL', 'VIL1', 'VIM', 'VIM-AS1', 'VIPAS39', 'VIPR1-AS1', 'VIPR2', 'VIRMA', 'VIRMA-DT', 'VKORC1', 'VKORC1L1', 'VLDLR-AS1', 'VMA21', 'VMAC', 'VMO1', 'VMP1', 'VN1R1', 'VN1R108P', 'VN1R81P', 'VN1R83P', 'VOPP1', 'VPS11', 'VPS11-DT', 'VPS13A', 'VPS13A-AS1', 'VPS13B', 'VPS13B-DT', 'VPS13C', 'VPS13D', 'VPS16', 'VPS25', 'VPS26A', 'VPS26B', 'VPS26C', 'VPS28', 'VPS29', 'VPS33A', 'VPS33B', 'VPS33B-DT', 'VPS35', 'VPS35L', 'VPS36', 'VPS37A', 'VPS37B', 'VPS37C', 'VPS37D', 'VPS39', 'VPS39-DT', 'VPS41', 'VPS45', 'VPS4A', 'VPS4B', 'VPS50', 'VPS51', 'VPS52', 'VPS53', 'VPS54', 'VPS72', 'VPS8', 'VPS9D1', 'VPS9D1-AS1', 'VRK1', 'VRK2', 'VRK3', 'VSIG10', 'VSIG10L', 'VSIG10L2', 'VSIG8', 'VSTM2A', 'VTA1', 'VTI1A', 'VTI1B', 'VTI1BP1', 'VTRNA1-2', 'VTRNA1-3', 'VWA1', 'VWA3B', 'VWA8', 'VWF', 'VXN', 'WAC', 'WAC-AS1', 'WAKMAR2', 'WAPL', 'WARS2', 'WARS2-AS1', 'WAS', 'WASF1', 'WASF2', 'WASF3', 'WASF4P', 'WASH2P', 'WASH3P', 'WASH4P', 'WASH5P', 'WASH6P', 'WASH7P', 'WASH8P', 'WASH9P', 'WASHC1', 'WASHC2A', 'WASHC2C', 'WASHC3', 'WASHC4', 'WASHC5', 'WASHC5-AS1', 'WASIR2', 'WASL', 'WASL-DT', 'WBP1', 'WBP11', 'WBP11P1', 'WBP1L', 'WBP2', 'WBP2NL', 'WBP4', 'WDCP', 'WDFY1', 'WDFY2', 'WDFY3', 'WDFY3-AS1', 'WDFY3-AS2', 'WDHD1', 'WDPCP', 'WDR1', 'WDR11', 'WDR11-AS1', 'WDR12', 'WDR13', 'WDR17', 'WDR18', 'WDR19', 'WDR20', 'WDR25', 'WDR26', 'WDR27', 'WDR3', 'WDR31', 'WDR33', 'WDR35', 'WDR36', 'WDR37', 'WDR38', 'WDR41', 'WDR43', 'WDR44', 'WDR45', 'WDR45B', 'WDR45BP1', 'WDR45P1', 'WDR46', 'WDR47', 'WDR48', 'WDR5', 'WDR5-DT', 'WDR53', 'WDR54', 'WDR55', 'WDR59', 'WDR5B', 'WDR5B-DT', 'WDR6', 'WDR61', 'WDR64', 'WDR7', 'WDR7-OT1', 'WDR70', 'WDR72', 'WDR73', 'WDR74', 'WDR75', 'WDR77', 'WDR82', 'WDR83', 'WDR83OS', 'WDR86', 'WDR88', 'WDR89', 'WDR91', 'WDR93', 'WDR97', 'WDSUB1', 'WDTC1', 'WEE2', 'WEE2-AS1', 'WFDC10B', 'WFDC13', 'WFDC2', 'WFDC21P', 'WFDC3', 'WFIKKN1', 'WHAMM', 'WHAMMP2', 'WHAMMP3', 'WHRN', 'WIPF2', 'WIPI1', 'WIPI2', 'WIZ', 'WNK1', 'WNK2', 'WNK3', 'WNK4', 'WNT7B', 'WRAP53', 'WRAP73', 'WRN', 'WRNIP1', 'WSB2', 'WTAP', 'WTAPP1', 'WTIP', 'WWC1', 'WWC3', 'WWOX', 'WWP1', 'WWP1-AS1', 'WWP1P1', 'WWP2', 'WWTR1', 'WWTR1-AS1', 'XAB2', 'XG', 'XIAP', 'XIST', 'XK', 'XKR6', 'XKR9', 'XPA', 'XPC-AS1', 'XPNPEP1', 'XPNPEP3', 'XPO1', 'XPO4', 'XPO5', 'XPO6', 'XPO7', 'XPOTP1', 'XPR1', 'XRCC1', 'XRCC2', 'XRCC3', 'XRCC4', 'XRCC5', 'XRCC6', 'XRCC6P1', 'XRCC6P2', 'XRCC6P4', 'XRN1', 'XRN2', 'XRRA1', 'XXYLT1', 'XYLB', 'XYLT1', 'XYLT2', 'YAE1', 'YAF2', 'YAP1', 'YARS1', 'YARS2', 'YBEY', 'YBX1', 'YBX1P1', 'YBX1P10', 'YBX1P2', 'YBX1P6', 'YBX2', 'YBX3', 'YBX3P1', 'YDJC', 'YEATS2-AS1', 'YEATS4', 'YES1', 'YIF1A', 'YIF1B', 'YIPF1', 'YIPF2', 'YIPF3', 'YIPF4', 'YIPF5', 'YIPF6', 'YIPF7', 'YJEFN3', 'YJU2', 'YJU2B', 'YKT6', 'YLPM1', 'YME1L1', 'YOD1', 'YPEL1', 'YPEL3', 'YPEL3-DT', 'YPEL5', 'YPEL5P2', 'YRDC', 'YTHDC1', 'YTHDC2', 'YTHDF1', 'YTHDF2', 'YTHDF2P1', 'YTHDF3', 'YTHDF3-DT', 'YWHAB', 'YWHABP2', 'YWHAE', 'YWHAEP1', 'YWHAEP5', 'YWHAG', 'YWHAH', 'YWHAH-AS1', 'YWHAQ', 'YWHAQP4', 'YWHAQP6', 'YWHAZ', 'YWHAZP10', 'YWHAZP2', 'YWHAZP3', 'YWHAZP5', 'YWHAZP6', 'YY1', 'YY1AP1', 'YY2', 'ZACN', 'ZADH2', 'ZBED1', 'ZBED3', 'ZBED3-AS1', 'ZBED4', 'ZBED5', 'ZBED5-AS1', 'ZBED6', 'ZBED8', 'ZBED9', 'ZBTB1', 'ZBTB10', 'ZBTB11', 'ZBTB11-AS1', 'ZBTB12', 'ZBTB14', 'ZBTB17', 'ZBTB2', 'ZBTB20-AS1', 'ZBTB21', 'ZBTB22', 'ZBTB24', 'ZBTB25', 'ZBTB26', 'ZBTB3', 'ZBTB33', 'ZBTB34', 'ZBTB37', 'ZBTB38', 'ZBTB4', 'ZBTB40', 'ZBTB41', 'ZBTB43', 'ZBTB44', 'ZBTB44-DT', 'ZBTB45', 'ZBTB45P1', 'ZBTB46', 'ZBTB47', 'ZBTB48', 'ZBTB49', 'ZBTB5', 'ZBTB6', 'ZBTB7A', 'ZBTB7B', 'ZBTB8A', 'ZBTB8B', 'ZBTB8OS', 'ZBTB8OSP2', 'ZBTB9', 'ZC2HC1A', 'ZC3H10', 'ZC3H11A', 'ZC3H12A', 'ZC3H12C', 'ZC3H13', 'ZC3H14', 'ZC3H15', 'ZC3H18', 'ZC3H3', 'ZC3H4', 'ZC3H6', 'ZC3H7A', 'ZC3H7B', 'ZC3H8', 'ZC3HAV1', 'ZC3HAV1L', 'ZC3HC1', 'ZCCHC10', 'ZCCHC14', 'ZCCHC17', 'ZCCHC2', 'ZCCHC24', 'ZCCHC3', 'ZCCHC4', 'ZCCHC7', 'ZCCHC8', 'ZCCHC9', 'ZCRB1', 'ZCRB1P1', 'ZCWPW1', 'ZCWPW2', 'ZDBF2', 'ZDHHC1', 'ZDHHC11', 'ZDHHC13', 'ZDHHC14', 'ZDHHC16', 'ZDHHC17', 'ZDHHC18', 'ZDHHC2', 'ZDHHC20', 'ZDHHC20P4', 'ZDHHC21', 'ZDHHC23', 'ZDHHC24', 'ZDHHC3', 'ZDHHC4', 'ZDHHC5', 'ZDHHC6', 'ZDHHC7', 'ZDHHC8', 'ZDHHC9', 'ZEB1', 'ZEB1-AS1', 'ZEB2P1', 'ZER1', 'ZFAND1', 'ZFAND2A', 'ZFAND2A-DT', 'ZFAND2B', 'ZFAND3', 'ZFAND4', 'ZFAND5', 'ZFAND6', 'ZFAND6P1', 'ZFAS1', 'ZFAT-AS1', 'ZFC3H1', 'ZFHX2', 'ZFHX2-AS1', 'ZFHX3', 'ZFP1', 'ZFP14', 'ZFP3', 'ZFP30', 'ZFP36', 'ZFP41', 'ZFP62', 'ZFP64', 'ZFP69', 'ZFP69B', 'ZFP90', 'ZFP91', 'ZFP91-CNTF', 'ZFPL1', 'ZFPM1', 'ZFR', 'ZFTA', 'ZFX', 'ZFX-AS1', 'ZFYVE16', 'ZFYVE19', 'ZFYVE21', 'ZFYVE27', 'ZFYVE28', 'ZFYVE9', 'ZG16', 'ZG16B', 'ZGLP1', 'ZGPAT', 'ZGRF1', 'ZHX1', 'ZHX1-C8orf76', 'ZHX2', 'ZHX3', 'ZIC1', 'ZIC2', 'ZIC4', 'ZIC4-AS1', 'ZIC5', 'ZIK1', 'ZKSCAN1', 'ZKSCAN2', 'ZKSCAN2-DT', 'ZKSCAN3', 'ZKSCAN4', 'ZKSCAN5', 'ZKSCAN8', 'ZMAT1', 'ZMAT2', 'ZMAT3', 'ZMAT5', 'ZMIZ1', 'ZMIZ2', 'ZMPSTE24', 'ZMPSTE24-DT', 'ZMYM1', 'ZMYM2', 'ZMYM3', 'ZMYM4', 'ZMYM4-AS1', 'ZMYM5', 'ZMYM6', 'ZMYND10-AS1', 'ZMYND11', 'ZMYND19', 'ZNF10', 'ZNF100', 'ZNF101', 'ZNF106', 'ZNF107', 'ZNF112', 'ZNF114', 'ZNF114-AS1', 'ZNF117', 'ZNF12', 'ZNF121', 'ZNF124', 'ZNF131', 'ZNF133-AS1', 'ZNF134', 'ZNF135', 'ZNF136', 'ZNF137P', 'ZNF138', 'ZNF14', 'ZNF140', 'ZNF141', 'ZNF142', 'ZNF146', 'ZNF148', 'ZNF154', 'ZNF155', 'ZNF16', 'ZNF160', 'ZNF165', 'ZNF17', 'ZNF174', 'ZNF18', 'ZNF180', 'ZNF181', 'ZNF182', 'ZNF184', 'ZNF185', 'ZNF189', 'ZNF19', 'ZNF195', 'ZNF197', 'ZNF2', 'ZNF20', 'ZNF200', 'ZNF202', 'ZNF204P', 'ZNF205', 'ZNF207', 'ZNF208', 'ZNF211', 'ZNF212', 'ZNF213', 'ZNF213-AS1', 'ZNF217', 'ZNF219', 'ZNF22', 'ZNF222', 'ZNF223', 'ZNF224', 'ZNF225', 'ZNF226', 'ZNF227', 'ZNF229', 'ZNF23', 'ZNF230', 'ZNF230-DT', 'ZNF232', 'ZNF232-AS1', 'ZNF233', 'ZNF234', 'ZNF235', 'ZNF236', 'ZNF236-DT', 'ZNF239', 'ZNF24', 'ZNF248', 'ZNF25', 'ZNF250', 'ZNF251', 'ZNF252P', 'ZNF252P-AS1', 'ZNF253', 'ZNF254', 'ZNF257', 'ZNF26', 'ZNF260', 'ZNF263', 'ZNF264', 'ZNF266', 'ZNF267', 'ZNF268', 'ZNF271P', 'ZNF273', 'ZNF274', 'ZNF275', 'ZNF276', 'ZNF277', 'ZNF28', 'ZNF280C', 'ZNF280D', 'ZNF281', 'ZNF282', 'ZNF283', 'ZNF284', 'ZNF286A', 'ZNF286A-TBC1D26', 'ZNF286B', 'ZNF287', 'ZNF295-AS1', 'ZNF296', 'ZNF3', 'ZNF30', 'ZNF302', 'ZNF311', 'ZNF316', 'ZNF317', 'ZNF318', 'ZNF32', 'ZNF32-AS1', 'ZNF32-AS2', 'ZNF320', 'ZNF321P', 'ZNF322', 'ZNF324', 'ZNF324B', 'ZNF326', 'ZNF329', 'ZNF330', 'ZNF335', 'ZNF337', 'ZNF337-AS1', 'ZNF33A', 'ZNF33B', 'ZNF34', 'ZNF345', 'ZNF346', 'ZNF346-IT1', 'ZNF347', 'ZNF35', 'ZNF350', 'ZNF354A', 'ZNF354B', 'ZNF354C', 'ZNF358', 'ZNF362', 'ZNF367', 'ZNF37A', 'ZNF37BP', 'ZNF383', 'ZNF384', 'ZNF385A', 'ZNF385B', 'ZNF385C', 'ZNF391', 'ZNF394', 'ZNF396', 'ZNF397', 'ZNF398', 'ZNF404', 'ZNF407', 'ZNF407-AS1', 'ZNF408', 'ZNF41', 'ZNF410', 'ZNF414', 'ZNF415', 'ZNF415P1', 'ZNF417', 'ZNF419', 'ZNF420', 'ZNF425', 'ZNF426', 'ZNF428', 'ZNF429', 'ZNF43', 'ZNF430', 'ZNF431', 'ZNF432', 'ZNF433', 'ZNF433-AS1', 'ZNF436', 'ZNF436-AS1', 'ZNF438', 'ZNF44', 'ZNF440', 'ZNF442', 'ZNF443', 'ZNF444', 'ZNF446', 'ZNF449', 'ZNF45', 'ZNF451', 'ZNF451-AS1', 'ZNF460-AS1', 'ZNF461', 'ZNF462', 'ZNF467', 'ZNF468', 'ZNF469', 'ZNF473', 'ZNF48', 'ZNF480', 'ZNF483', 'ZNF484', 'ZNF485', 'ZNF486', 'ZNF487', 'ZNF490', 'ZNF491', 'ZNF492', 'ZNF493', 'ZNF496', 'ZNF497', 'ZNF497-AS1', 'ZNF500', 'ZNF503', 'ZNF503-AS2', 'ZNF506', 'ZNF507', 'ZNF510', 'ZNF511', 'ZNF511-PRAP1', 'ZNF512', 'ZNF512B', 'ZNF513', 'ZNF514', 'ZNF516', 'ZNF516-AS1', 'ZNF517', 'ZNF518A', 'ZNF519', 'ZNF524', 'ZNF525', 'ZNF526', 'ZNF527', 'ZNF528', 'ZNF528-AS1', 'ZNF529', 'ZNF529-AS1', 'ZNF530', 'ZNF540', 'ZNF544', 'ZNF546', 'ZNF547', 'ZNF548', 'ZNF549', 'ZNF550', 'ZNF552', 'ZNF554', 'ZNF557', 'ZNF558', 'ZNF559', 'ZNF559-ZNF177', 'ZNF561', 'ZNF561-AS1', 'ZNF562', 'ZNF563', 'ZNF564', 'ZNF565', 'ZNF566', 'ZNF566-AS1', 'ZNF567', 'ZNF568', 'ZNF569', 'ZNF56P', 'ZNF57', 'ZNF570', 'ZNF571', 'ZNF571-AS1', 'ZNF572', 'ZNF573', 'ZNF574', 'ZNF575', 'ZNF576', 'ZNF579', 'ZNF580', 'ZNF581', 'ZNF583', 'ZNF584', 'ZNF585A', 'ZNF585B', 'ZNF586', 'ZNF587', 'ZNF587B', 'ZNF593', 'ZNF593OS', 'ZNF594', 'ZNF594-DT', 'ZNF595', 'ZNF596', 'ZNF597', 'ZNF598', 'ZNF599', 'ZNF600', 'ZNF605', 'ZNF606', 'ZNF607', 'ZNF609', 'ZNF610', 'ZNF611', 'ZNF613', 'ZNF614', 'ZNF615', 'ZNF616', 'ZNF618', 'ZNF619', 'ZNF620', 'ZNF621', 'ZNF622', 'ZNF623', 'ZNF624', 'ZNF625', 'ZNF625-ZNF20', 'ZNF626', 'ZNF627', 'ZNF628', 'ZNF629', 'ZNF630', 'ZNF638', 'ZNF639', 'ZNF641', 'ZNF644', 'ZNF646', 'ZNF652', 'ZNF652-AS1', 'ZNF653', 'ZNF654', 'ZNF658', 'ZNF658B', 'ZNF66', 'ZNF662', 'ZNF664', 'ZNF665', 'ZNF668', 'ZNF669', 'ZNF670', 'ZNF670-ZNF695', 'ZNF671', 'ZNF672', 'ZNF674', 'ZNF674-AS1', 'ZNF675', 'ZNF678', 'ZNF680', 'ZNF681', 'ZNF682', 'ZNF684', 'ZNF687', 'ZNF687-AS1', 'ZNF688', 'ZNF691', 'ZNF692', 'ZNF695', 'ZNF696', 'ZNF697', 'ZNF699', 'ZNF7', 'ZNF700', 'ZNF701', 'ZNF702P', 'ZNF703', 'ZNF704', 'ZNF705A', 'ZNF706', 'ZNF707', 'ZNF708', 'ZNF709', 'ZNF710', 'ZNF710-AS1', 'ZNF711', 'ZNF713', 'ZNF714', 'ZNF717', 'ZNF718', 'ZNF720', 'ZNF721', 'ZNF723', 'ZNF724', 'ZNF726', 'ZNF730', 'ZNF731P', 'ZNF732', 'ZNF736', 'ZNF737', 'ZNF738', 'ZNF74', 'ZNF740', 'ZNF746', 'ZNF747', 'ZNF749', 'ZNF75A', 'ZNF75D', 'ZNF76', 'ZNF761', 'ZNF764', 'ZNF765', 'ZNF766', 'ZNF767P', 'ZNF768', 'ZNF77', 'ZNF770', 'ZNF771', 'ZNF772', 'ZNF773', 'ZNF774', 'ZNF775', 'ZNF776', 'ZNF777', 'ZNF780A', 'ZNF780B', 'ZNF782', 'ZNF784', 'ZNF785', 'ZNF786', 'ZNF787', 'ZNF788P', 'ZNF789', 'ZNF79', 'ZNF790', 'ZNF790-AS1', 'ZNF791', 'ZNF793', 'ZNF793-AS1', 'ZNF799', 'ZNF8', 'ZNF8-DT', 'ZNF800', 'ZNF804B', 'ZNF805', 'ZNF808', 'ZNF81', 'ZNF813', 'ZNF814', 'ZNF815P', 'ZNF816', 'ZNF816-ZNF321P', 'ZNF821', 'ZNF823', 'ZNF829', 'ZNF83', 'ZNF830', 'ZNF833P', 'ZNF836', 'ZNF837', 'ZNF839', 'ZNF841', 'ZNF844', 'ZNF845', 'ZNF846', 'ZNF849P', 'ZNF85', 'ZNF850', 'ZNF852', 'ZNF860', 'ZNF862', 'ZNF865', 'ZNF875', 'ZNF876P', 'ZNF878', 'ZNF879', 'ZNF880', 'ZNF883', 'ZNF887P', 'ZNF888', 'ZNF890P', 'ZNF891', 'ZNF90', 'ZNF91', 'ZNF92', 'ZNF93', 'ZNF98', 'ZNFX1', 'ZNHIT1', 'ZNHIT2', 'ZNHIT3', 'ZNHIT6', 'ZNNT1', 'ZNRD1ASP', 'ZNRD2', 'ZNRD2-DT', 'ZNRF1', 'ZNRF2', 'ZNRF2P1', 'ZNRF2P2', 'ZNRF2P3', 'ZNRF3', 'ZP3', 'ZPR1', 'ZPR1P1', 'ZRANB1', 'ZRANB2', 'ZRANB2-AS1', 'ZRANB2-AS2', 'ZRANB3', 'ZRSR2', 'ZRSR2P1', 'ZSCAN12', 'ZSCAN16', 'ZSCAN16-AS1', 'ZSCAN2', 'ZSCAN21', 'ZSCAN22', 'ZSCAN25', 'ZSCAN26', 'ZSCAN29', 'ZSCAN30', 'ZSCAN31', 'ZSCAN32', 'ZSCAN5A', 'ZSCAN5A-AS1', 'ZSCAN5C', 'ZSCAN9', 'ZSWIM1', 'ZSWIM4', 'ZSWIM5', 'ZSWIM6', 'ZSWIM7', 'ZSWIM8', 'ZSWIM8-AS1', 'ZSWIM9', 'ZUP1', 'ZW10', 'ZWILCH', 'ZXDA', 'ZXDB', 'ZXDC', 'ZYG11A', 'ZYG11B', 'ZZEF1', 'ZZZ3']\n"
     ]
    }
   ],
   "source": [
    "rows_removed = mcf7_smartS_filt.loc[~mcf7_smartS_filt.index.isin(mcf7_smartS_filn.index)]\n",
    "\n",
    "# Step 2: Compare Columns\n",
    "columns_removed = mcf7_smartS_filt.columns.difference(mcf7_smartS_filn.columns).tolist()\n",
    "\n",
    "\n",
    "# Display Results\n",
    "print(\"Rows Removed:\", len(rows_removed))\n",
    "print(\"Columns Removed:\", len(columns_removed))\n",
    "print(\"\\nColumns Removed:\")\n",
    "print(columns_removed)  # Display the removed columns"
   ]
  },
  {
   "cell_type": "code",
   "execution_count": 33,
   "metadata": {},
   "outputs": [
    {
     "data": {
      "text/plain": [
       "6"
      ]
     },
     "execution_count": 33,
     "metadata": {},
     "output_type": "execute_result"
    }
   ],
   "source": [
    "mcf7_smartS_filt[columns_removed].sum(axis=0).min()"
   ]
  },
  {
   "cell_type": "code",
   "execution_count": 34,
   "metadata": {},
   "outputs": [
    {
     "data": {
      "text/plain": [
       "15"
      ]
     },
     "execution_count": 34,
     "metadata": {},
     "output_type": "execute_result"
    }
   ],
   "source": [
    "mcf7_smartS_filn.sum(axis=0).min()"
   ]
  },
  {
   "cell_type": "code",
   "execution_count": 35,
   "metadata": {},
   "outputs": [
    {
     "name": "stdout",
     "output_type": "stream",
     "text": [
      "Min value is: 2\n",
      "Index of the min value: 1242\n",
      "Column name with the min value: CR2\n",
      "Number of non-zero values per column: [239, 237, 100, 188, 240, 230, 205, 158, 175, 109, 143, 236, 117, 181, 166, 248, 107, 235, 216, 168, 214, 123, 250, 250, 164, 208, 175, 231, 187, 50, 156, 243, 140, 130, 219, 209, 147, 248, 156, 191, 246, 229, 132, 107, 239, 107, 139, 247, 151, 52, 112, 132, 184, 129, 145, 232, 176, 179, 244, 91, 150, 201, 128, 237, 214, 235, 117, 232, 110, 102, 233, 212, 191, 196, 243, 226, 139, 127, 213, 131, 245, 153, 65, 41, 191, 239, 156, 243, 232, 117, 60, 117, 41, 249, 239, 128, 159, 207, 79, 135, 216, 189, 147, 248, 90, 250, 97, 234, 174, 227, 93, 90, 100, 250, 53, 149, 127, 166, 244, 55, 130, 242, 229, 104, 161, 29, 170, 207, 98, 156, 211, 141, 151, 111, 111, 246, 145, 248, 114, 83, 177, 180, 155, 184, 227, 143, 146, 119, 134, 34, 228, 114, 100, 221, 228, 200, 250, 245, 247, 249, 244, 219, 241, 250, 248, 105, 194, 234, 204, 250, 236, 168, 209, 217, 169, 243, 65, 24, 248, 191, 134, 245, 120, 198, 144, 235, 241, 108, 166, 117, 250, 110, 72, 45, 104, 184, 55, 71, 149, 181, 242, 57, 152, 218, 224, 45, 62, 244, 121, 157, 248, 90, 195, 90, 124, 77, 18, 47, 128, 103, 118, 190, 29, 208, 249, 159, 113, 159, 250, 141, 48, 247, 27, 120, 243, 200, 241, 247, 92, 250, 249, 100, 136, 241, 181, 29, 172, 161, 107, 124, 248, 124, 124, 160, 42, 159, 244, 62, 235, 106, 20, 194, 250, 242, 250, 244, 11, 248, 238, 165, 244, 72, 249, 247, 215, 28, 145, 119, 132, 166, 100, 65, 29, 250, 21, 125, 96, 196, 17, 235, 14, 105, 194, 183, 15, 27, 242, 28, 249, 189, 212, 147, 49, 180, 225, 88, 28, 201, 28, 250, 141, 22, 54, 204, 80, 250, 13, 45, 249, 186, 25, 170, 183, 249, 118, 128, 39, 203, 248, 202, 250, 63, 221, 247, 170, 62, 44, 51, 59, 66, 27, 230, 186, 37, 195, 47, 64, 233, 222, 170, 29, 21, 243, 202, 232, 20, 236, 207, 11, 183, 247, 68, 201, 66, 26, 250, 23, 223, 20, 250, 39, 235, 216, 248, 5, 230, 237, 43, 164, 172, 233, 157, 14, 12, 17, 38, 190, 21, 22, 25, 138, 25, 102, 129, 31, 23, 36, 18, 44, 241, 173, 14, 174, 54, 11, 248, 100, 62, 22, 193, 16, 15, 240, 57, 193, 93, 121, 46, 32, 216, 57, 65, 153, 177, 162, 150, 101, 248, 250, 14, 10, 30, 168, 20, 46, 16, 153, 229, 172, 225, 70, 16, 10, 27, 79, 163, 37, 244, 44, 15, 247, 222, 9, 65, 159, 248, 219, 246, 165, 130, 23, 141, 53, 20, 12, 108, 113, 211, 34, 7, 243, 55, 206, 228, 143, 18, 26, 250, 18, 36, 156, 20, 233, 39, 25, 186, 158, 43, 8, 122, 14, 12, 37, 140, 161, 15, 7, 144, 56, 237, 12, 30, 24, 10, 23, 146, 117, 240, 98, 244, 245, 7, 38, 13, 20, 11, 36, 9, 213, 68, 34, 84, 96, 67, 178, 115, 29, 24, 8, 7, 37, 15, 214, 153, 66, 10, 38, 142, 194, 13, 17, 248, 4, 30, 75, 36, 26, 18, 7, 10, 11, 115, 249, 51, 113, 159, 158, 9, 16, 114, 16, 11, 33, 229, 157, 26, 26, 89, 20, 201, 121, 68, 236, 10, 12, 109, 13, 20, 201, 28, 87, 18, 176, 41, 8, 24, 50, 9, 105, 10, 11, 215, 12, 93, 116, 215, 148, 93, 83, 28, 200, 8, 219, 129, 203, 250, 9, 9, 119, 63, 25, 48, 8, 60, 114, 24, 20, 21, 218, 8, 54, 249, 118, 234, 212, 27, 6, 249, 138, 30, 138, 169, 46, 23, 4, 199, 244, 56, 8, 230, 200, 104, 7, 246, 48, 250, 4, 141, 40, 144, 138, 14, 12, 85, 12, 168, 240, 205, 184, 125, 10, 40, 129, 44, 191, 244, 198, 12, 10, 248, 50, 21, 54, 86, 14, 13, 88, 246, 9, 71, 72, 221, 15, 29, 17, 224, 249, 5, 249, 15, 247, 101, 15, 19, 34, 29, 238, 8, 18, 67, 8, 76, 16, 17, 102, 7, 14, 7, 75, 238, 20, 29, 168, 51, 26, 5, 10, 49, 39, 16, 231, 37, 16, 219, 15, 129, 7, 9, 250, 131, 51, 13, 140, 27, 8, 14, 13, 250, 52, 22, 174, 193, 249, 106, 32, 55, 7, 76, 26, 173, 7, 86, 25, 239, 18, 230, 91, 48, 154, 93, 245, 91, 13, 10, 14, 12, 150, 82, 21, 221, 35, 223, 17, 113, 12, 244, 18, 69, 75, 243, 18, 29, 215, 24, 190, 94, 50, 20, 33, 250, 10, 11, 48, 33, 68, 98, 158, 15, 30, 5, 91, 6, 121, 10, 15, 4, 8, 24, 145, 11, 201, 246, 15, 14, 17, 14, 18, 157, 9, 65, 84, 11, 12, 200, 179, 18, 176, 9, 92, 10, 127, 247, 12, 7, 37, 8, 206, 149, 58, 33, 168, 5, 158, 11, 44, 10, 10, 20, 151, 229, 18, 163, 241, 205, 41, 171, 102, 35, 128, 8, 186, 250, 35, 27, 245, 95, 41, 223, 28, 243, 13, 12, 239, 187, 14, 5, 23, 137, 23, 24, 23, 238, 218, 238, 233, 7, 8, 15, 38, 61, 119, 23, 37, 101, 145, 14, 205, 54, 23, 122, 153, 11, 113, 178, 14, 13, 64, 76, 18, 26, 61, 29, 27, 161, 16, 15, 39, 18, 12, 41, 62, 249, 14, 10, 89, 29, 244, 119, 80, 28, 250, 10, 100, 31, 11, 7, 7, 51, 9, 12, 69, 116, 148, 17, 89, 63, 181, 20, 5, 61, 15, 105, 249, 140, 146, 107, 250, 66, 6, 249, 250, 39, 18, 5, 7, 6, 31, 170, 102, 11, 98, 46, 17, 29, 20, 9, 109, 247, 22, 61, 54, 44, 7, 32, 250, 93, 58, 8, 211, 222, 14, 17, 131, 12, 189, 9, 231, 212, 178, 37, 6, 63, 7, 57, 242, 26, 4, 8, 109, 7, 9, 21, 14, 59, 113, 37, 82, 37, 6, 208, 142, 10, 7, 170, 22, 114, 226, 27, 12, 18, 4, 18, 175, 5, 13, 43, 175, 10, 6, 74, 42, 81, 20, 11, 152, 8, 11, 127, 131, 245, 9, 7, 9, 41, 10, 20, 7, 9, 17, 6, 19, 5, 11, 208, 7, 12, 7, 7, 51, 121, 197, 21, 61, 17, 162, 5, 117, 10, 166, 208, 11, 10, 238, 8, 152, 20, 8, 7, 7, 12, 45, 7, 22, 250, 4, 5, 7, 8, 16, 44, 19, 7, 4, 7, 84, 22, 6, 69, 106, 27, 27, 8, 8, 249, 89, 19, 10, 250, 5, 6, 55, 64, 49, 243, 160, 6, 6, 237, 10, 219, 18, 6, 19, 240, 16, 33, 28, 5, 12, 193, 12, 248, 13, 10, 9, 158, 80, 12, 226, 201, 30, 16, 16, 96, 21, 212, 173, 6, 101, 137, 184, 101, 10, 219, 6, 35, 97, 10, 149, 68, 12, 8, 17, 26, 25, 43, 8, 10, 9, 49, 247, 38, 83, 21, 6, 233, 49, 11, 22, 57, 204, 214, 13, 250, 184, 16, 11, 9, 6, 4, 192, 185, 216, 139, 16, 239, 25, 123, 14, 10, 6, 4, 75, 18, 8, 12, 241, 68, 171, 82, 8, 8, 14, 7, 20, 72, 80, 19, 186, 29, 6, 11, 46, 10, 248, 5, 120, 221, 25, 237, 248, 67, 2, 16, 7, 165, 126, 14, 99, 132, 73, 3, 6, 230, 9, 5, 8, 30, 85, 246, 23, 21, 5, 25, 126, 161, 37, 249, 6, 203, 7, 198, 170, 41, 80, 9, 44, 11, 10, 106, 145, 10, 3, 38, 200, 23, 250, 235, 8, 43, 13, 247, 8, 246, 43, 45, 67, 14, 122, 108, 167, 11, 244, 9, 71, 7, 65, 21, 23, 14, 24, 161, 176, 214, 41, 4, 49, 245, 172, 8, 14, 11, 173, 5, 15, 28, 6, 13, 77, 4, 19, 3, 250, 13, 124, 10, 39, 29, 67, 197, 5, 250, 5, 19, 11, 230, 104, 12, 52, 47, 15, 240, 46, 244, 181, 9, 243, 23, 16, 170, 31, 13, 249, 22, 70, 73, 240, 223, 7, 7, 6, 21, 81, 51, 7, 28, 250, 4, 244, 18, 8, 71, 67, 173, 18, 244, 105, 6, 5, 10, 79, 9, 11, 60, 62, 14, 41, 193, 86, 180, 184, 107, 6, 246, 39, 8, 9, 74, 27, 5, 177, 9, 6, 36, 29, 244, 5, 14, 106, 93, 7, 9, 38, 38, 7, 84, 67, 32, 11, 249, 16, 244, 16, 5, 187, 80, 26, 22, 9, 7, 235, 12, 7, 97, 10, 208, 11, 174, 30, 5, 244, 22, 232, 25, 7, 8, 69, 5, 9, 4, 14, 5, 10, 40, 3, 249, 11, 11, 84, 230, 6, 17, 21, 4, 19, 46, 53, 4, 203, 8, 7, 76, 28, 24, 250, 250, 7, 14, 11, 6, 74, 176, 23, 11, 6, 202, 12, 15, 54, 5, 15, 7, 11, 17, 201, 80, 240, 61, 94, 172, 9, 5, 101, 16, 250, 5, 5, 177, 107, 14, 10, 104, 11, 44, 21, 18, 50, 168, 5, 48, 32, 11, 214, 68, 21, 70, 245, 4, 12, 7, 156, 27, 239, 233, 16, 6, 7, 28, 8, 249, 250, 15, 30, 12, 20, 50, 131, 29, 207, 5, 11, 8, 240, 6, 16, 24, 175, 204, 122, 16, 4, 5, 7, 10, 200, 5, 36, 6, 5, 5, 239, 10, 59, 4, 233, 7, 12, 6, 5, 182, 7, 11, 24, 84, 139, 228, 16, 24, 126, 21, 9, 160, 9, 5, 52, 36, 12, 23, 150, 68, 7, 151, 162, 4, 25, 8, 19, 235, 146, 118, 14, 220, 8, 11, 6, 157, 200, 151, 219, 6, 8, 11, 10, 3, 53, 182, 172, 4, 56, 14, 14, 99, 186, 207, 84, 80, 13, 74, 19, 28, 20, 8, 7, 11, 71, 30, 63, 205, 7, 22, 7, 7, 10, 250, 231, 12, 165, 86, 11, 12, 209, 166, 8, 32, 7, 6, 6, 9, 5, 200, 5, 56, 7, 213, 18, 245, 7, 5, 70, 12, 11, 6, 244, 37, 6, 24, 8, 26, 189, 184, 246, 53, 8, 23, 5, 20, 9, 63, 69, 188, 213, 9, 245, 224, 11, 211, 5, 9, 110, 8, 46, 9, 119, 107, 144, 234, 21, 147, 30, 36, 73, 6, 5, 3, 133, 39, 20, 175, 44, 8, 13, 6, 17, 31, 6, 22, 13, 22, 83, 79, 32, 179, 5, 164, 248, 26, 39, 221, 230, 13, 222, 198, 11, 73, 30, 3, 235, 7, 41, 88, 13, 30, 36, 58, 10, 9, 235, 205, 36, 178, 57, 250, 181, 50, 8, 215, 17, 212, 245, 8, 160, 13, 7, 189, 17, 14, 10, 6, 226, 29, 130, 78, 12, 239, 248, 239, 6, 48, 5, 50, 6, 5, 4, 24, 8, 95, 16, 36, 139, 12, 79, 11, 158, 208, 42, 4, 45, 166, 15, 134, 5, 234, 66, 153, 235, 250, 7, 21, 7, 25, 119, 25, 11, 7, 201, 116, 202, 5, 248, 41, 3, 85, 189, 18, 21, 231, 107, 53, 22, 40, 4, 14, 79, 9, 14, 86, 26, 8, 29, 8, 35, 179, 4, 127, 29, 158, 6, 84, 16, 224, 136, 16, 73, 9, 238, 6, 65, 5, 117, 246, 56, 42, 220, 223, 66, 18, 247, 11, 67, 60, 4, 12, 5, 92, 54, 54, 5, 232, 4, 19, 93, 4, 7, 31, 42, 9, 249, 105, 241, 10, 72, 5, 14, 5, 248, 17, 247, 52, 198, 109, 197, 9, 57, 12, 43, 145, 6, 67, 226, 89, 182, 6, 9, 203, 219, 11, 10, 49, 12, 43, 80, 249, 107, 250, 26, 103, 248, 47, 11, 16, 14, 228, 250, 129, 24, 7, 20, 99, 12, 22, 9, 126, 11, 195, 145, 176, 4, 65, 5, 10, 11, 3, 7, 8, 33, 11, 8, 191, 26, 4, 190, 250, 234, 145, 67, 6, 199, 63, 60, 6, 17, 14, 72, 5, 6, 100, 247, 8, 3, 6, 27, 19, 57, 6, 67, 8, 102, 250, 5, 49, 23, 75, 6, 59, 146, 27, 10, 44, 33, 6, 246, 250, 12, 242, 174, 15, 29, 11, 57, 184, 108, 6, 32, 43, 4, 121, 168, 24, 173, 39, 35, 6, 53, 118, 41, 45, 208, 62, 236, 7, 115, 7, 238, 49, 243, 229, 5, 6, 200, 5, 10, 103, 62, 31, 59, 232, 106, 240, 238, 147, 5, 15, 96, 30, 5, 6, 89, 18, 45, 12, 5, 13, 121, 25, 53, 247, 16, 9, 208, 22, 12, 8, 7, 4, 210, 27, 248, 24, 7, 61, 151, 245, 101, 222, 13, 8, 3, 161, 214, 53, 149, 6, 42, 25, 43, 13, 109, 6, 16, 23, 6, 10, 5, 30, 39, 4, 42, 18, 20, 67, 145, 196, 95, 224, 19, 10, 19, 12, 6, 112, 105, 233, 147, 54, 128, 171, 6, 250, 250, 228, 11, 113, 68, 6, 6, 250, 57, 61, 6, 4, 247, 130, 7, 22, 191, 5, 172, 66, 165, 4, 24, 9, 45, 9, 9, 244, 16, 18, 168, 228, 6, 19, 7, 67, 10, 29, 245, 30, 6, 25, 250, 30, 101, 14, 123, 7, 5, 8, 239, 245, 6, 79, 13, 226, 123, 145, 160, 169, 5, 46, 86, 8, 195, 22, 177, 46, 121, 5, 13, 124, 51, 11, 137, 162, 250, 29, 20, 5, 12, 8, 12, 199, 7, 46, 80, 234, 23, 153, 12, 21, 230, 12, 12, 16, 28, 218, 212, 20, 31, 250, 228, 139, 249, 195, 50, 14, 5, 8, 58, 6, 239, 47, 6, 196, 7, 227, 112, 12, 36, 124, 5, 25, 208, 177, 30, 53, 167, 241, 198, 212, 186, 14, 85, 168, 15, 18, 62, 249, 190, 202, 236, 6, 7, 13, 245, 248, 31, 12, 244, 7, 22, 243, 8, 8, 140, 6, 134, 9, 7, 27, 249, 19, 97, 193, 12, 85, 71, 200, 15, 12, 8, 26, 8, 21, 12, 214, 160, 249, 116, 9, 245, 209, 162, 10, 35, 53, 4, 80, 7, 6, 131, 93, 44, 23, 148, 24, 7, 24, 15, 196, 6, 114, 110, 169, 34, 232, 37, 138, 177, 7, 16, 13, 9, 6, 27, 64, 196, 13, 9, 98, 225, 15, 14, 81, 196, 7, 18, 90, 5, 248, 248, 6, 147, 93, 22, 141, 60, 41, 250, 6, 9, 11, 17, 104, 36, 151, 203, 30, 240, 111, 15, 125, 13, 6, 59, 7, 41, 8, 5, 89, 9, 35, 30, 11, 208, 80, 204, 29, 85, 250, 7, 8, 6, 192, 109, 74, 8, 145, 60, 6, 204, 44, 105, 89, 144, 6, 64, 9, 85, 18, 24, 109, 140, 9, 50, 42, 8, 202, 5, 8, 14, 248, 134, 122, 7, 250, 20, 9, 60, 25, 42, 3, 6, 157, 8, 26, 14, 13, 159, 13, 32, 28, 39, 170, 16, 40, 33, 176, 90, 62, 38, 181, 7, 23, 11, 150, 13, 182, 134, 59, 21, 9, 249, 247, 94, 14, 51, 11, 76, 14, 158, 176, 6, 6, 247, 238, 227, 20, 246, 249, 239, 201, 10, 7, 23, 162, 5, 140, 12, 96, 6, 6, 6, 120, 218, 249, 249, 208, 20, 18, 62, 37, 9, 211, 144, 236, 121, 8, 12, 200, 177, 106, 232, 44, 166, 181, 168, 6, 93, 6, 7, 16, 80, 64, 250, 44, 22, 139, 82, 173, 45, 4, 26, 55, 39, 50, 16, 9, 16, 19, 17, 9, 129, 6, 208, 250, 14, 120, 111, 241, 22, 250, 15, 15, 7, 92, 102, 250, 74, 7, 7, 202, 15, 95, 6, 169, 207, 11, 200, 122, 151, 51, 8, 13, 117, 36, 250, 6, 205, 204, 19, 212, 4, 14, 24, 12, 187, 235, 60, 7, 21, 6, 158, 50, 225, 185, 5, 9, 247, 8, 159, 11, 5, 9, 43, 19, 68, 39, 66, 24, 213, 131, 62, 196, 235, 241, 101, 149, 19, 5, 14, 9, 129, 11, 9, 187, 4, 11, 25, 219, 212, 81, 185, 8, 5, 54, 249, 53, 5, 26, 93, 186, 146, 8, 33, 5, 165, 6, 137, 176, 117, 49, 23, 15, 26, 188, 90, 8, 41, 123, 6, 118, 10, 233, 233, 103, 191, 5, 17, 61, 74, 122, 16, 6, 19, 101, 8, 185, 14, 188, 65, 71, 79, 5, 20, 219, 6, 32, 5, 24, 56, 18, 103, 21, 135, 8, 115, 239, 6, 190, 107, 5, 102, 16, 202, 115, 51, 12, 118, 127, 170, 13, 210, 248, 22, 203, 30, 7, 8, 216, 69, 65, 28, 202, 24, 51, 91, 98, 27, 18, 36, 6, 124, 187, 26, 9, 231, 88, 247, 232, 25, 188, 22, 6, 65, 233, 230, 194, 107, 205, 14, 66, 210, 22, 31, 19, 14, 8, 223, 36, 88, 54, 24, 115, 9, 250, 46, 12, 89, 10, 6, 44, 6, 7, 6, 159, 250, 40, 161, 6, 140, 6, 70, 28, 54, 217, 5, 244, 38, 140, 23, 167, 25, 179, 84, 227, 46, 134, 26, 6, 116, 28, 13, 156, 204, 8, 105, 192, 4, 12, 8, 239, 9, 152, 5, 20, 163, 164, 7, 180, 227, 28, 8, 43, 127, 141, 8, 217, 121, 246, 5, 25, 18, 87, 7, 88, 83, 10, 163, 78, 182, 206, 11, 89, 8, 250, 11, 70, 71, 208, 170, 12, 191, 163, 7, 75, 129, 3, 182, 168, 6, 167, 179, 237, 41, 6, 9, 4, 11, 235, 135, 46, 8, 209, 68, 78, 64, 7, 18, 8, 21, 214, 8, 182, 154, 120, 66, 6, 15, 209, 7, 38, 239, 63, 82, 11, 7, 248, 47, 4, 9, 62, 11, 247, 154, 46, 22, 125, 89, 20, 242, 74, 5, 44, 14, 8, 69, 200, 72, 36, 58, 31, 15, 80, 48, 7, 199, 16, 14, 177, 6, 191, 7, 9, 11, 152, 213, 37, 88, 160, 83, 18, 70, 30, 101, 5, 238, 50, 33, 7, 142, 4, 212, 128, 7, 8, 5, 208, 38, 62]\n"
     ]
    }
   ],
   "source": [
    "\n",
    "# Calculate the number of non-zero values in each column\n",
    "non_zero_counts_per_column = (mcf7_smartS_filn != 0).sum(axis=0)\n",
    "\n",
    "# Convert to a list\n",
    "non_zero_counts_list = non_zero_counts_per_column.tolist()\n",
    "\n",
    "# Find the minimum value and its index\n",
    "min_value = min(non_zero_counts_list)\n",
    "min_index = non_zero_counts_list.index(min_value)\n",
    "\n",
    "# Get the column name corresponding to the minimum index\n",
    "min_column_name = non_zero_counts_per_column.index[min_index]\n",
    "\n",
    "# Print the results\n",
    "print(\"Min value is:\", min_value)\n",
    "print(\"Index of the min value:\", min_index)\n",
    "print(\"Column name with the min value:\", min_column_name)\n",
    "\n",
    "# Display the list of non-zero counts\n",
    "print(\"Number of non-zero values per column:\", non_zero_counts_list)\n",
    "\n"
   ]
  },
  {
   "cell_type": "code",
   "execution_count": 36,
   "metadata": {},
   "outputs": [
    {
     "name": "stdout",
     "output_type": "stream",
     "text": [
      "Is the hypothesis correct? True\n",
      "Shape of the filtered dataset: (250, 3000)\n",
      "Shape of the intersection dataset: (250, 3000)\n"
     ]
    }
   ],
   "source": [
    "# Count the number of non-zero values in each column in the raw dataset\n",
    "non_zero_counts_per_column = (mcf7_smartS_filt != 0).sum(axis=0)\n",
    "\n",
    "# Identify columns with more than 5 non-zero values\n",
    "columns_with_more_than_5_non_zeros = non_zero_counts_per_column[non_zero_counts_per_column > 5].index\n",
    "\n",
    "# Find the intersection of these columns with the columns of the filtered dataset\n",
    "common_columns = columns_with_more_than_5_non_zeros.intersection(mcf7_smartS_filn.columns)\n",
    "\n",
    "# Create a new DataFrame based on the intersection of columns\n",
    "df_inters = mcf7_smartS_filn[common_columns]\n",
    "\n",
    "# Compare the shapes\n",
    "is_hypothesis_correct = df_inters.shape[1] == mcf7_smartS_filn.shape[1]\n",
    "\n",
    "# Display the result\n",
    "print(\"Is the hypothesis correct?\", is_hypothesis_correct)\n",
    "print(\"Shape of the filtered dataset:\", mcf7_smartS_filn.shape)\n",
    "print(\"Shape of the intersection dataset:\", df_inters.shape)"
   ]
  },
  {
   "cell_type": "code",
   "execution_count": 67,
   "metadata": {},
   "outputs": [
    {
     "data": {
      "image/png": "[encoded data removed]",
      "text/plain": [
       "<Figure size 1200x800 with 2 Axes>"
      ]
     },
     "metadata": {},
     "output_type": "display_data"
    }
   ],
   "source": [
    "import pandas as pd\n",
    "import matplotlib.pyplot as plt\n",
    "import numpy as np\n",
    "\n",
    "# Assuming mcf7_smartS_filt and mcf7_smartS_filn are your filtered and filtered+normalized dataset DataFrames\n",
    "\n",
    "# Count the number of non-zero values in each column for the filtered and filtered+normalized datasets\n",
    "non_zero_counts_filt = (mcf7_smartS_filt != 0).sum(axis=0)\n",
    "non_zero_counts_filn = (mcf7_smartS_filn != 0).sum(axis=0)\n",
    "\n",
    "# Identify columns removed after normalization\n",
    "removed_columns = set(non_zero_counts_filt.index) - set(non_zero_counts_filn.index)\n",
    "\n",
    "# Calculate histogram data for filtered dataset\n",
    "hist, bins = np.histogram(non_zero_counts_filt, bins=50)\n",
    "\n",
    "# Calculate the percentage of columns removed for each bin\n",
    "removed_counts_per_bin = np.histogram([non_zero_counts_filt[col] for col in removed_columns], bins=bins)[0]\n",
    "percentage_removed_per_bin = (removed_counts_per_bin / hist) * 100\n",
    "\n",
    "# Plot the histogram with colored bars\n",
    "plt.figure(figsize=(12, 8))\n",
    "\n",
    "# Normalize the percentages to [0, 1] range for colormap\n",
    "norm = plt.Normalize(0, 100)\n",
    "colors = plt.cm.viridis(norm(percentage_removed_per_bin))\n",
    "\n",
    "for i in range(len(hist)):\n",
    "    plt.bar(bins[i], hist[i], width=bins[i+1]-bins[i], color=colors[i], edgecolor='black', align='edge')\n",
    "\n",
    "cbar = plt.colorbar(plt.cm.ScalarMappable(norm=norm, cmap='viridis'), ax=plt.gca())\n",
    "cbar.set_label('% of columns removed')\n",
    "\n",
    "plt.title('Histogram of Non-Zero Counts per Column in Filtered Dataset')\n",
    "plt.xlabel('Number of Non-Zero Values per Column')\n",
    "plt.ylabel('Frequency')\n",
    "plt.grid(True)\n",
    "plt.show()\n"
   ]
  },
  {
   "cell_type": "code",
   "execution_count": 37,
   "metadata": {},
   "outputs": [
    {
     "name": "stdout",
     "output_type": "stream",
     "text": [
      "Number of columns with more than 5 non-zero values: 18945\n",
      "Columns remaining to check: 15945\n"
     ]
    }
   ],
   "source": [
    "# Count the number of non-zero values in each column\n",
    "non_zero_counts = (mcf7_smartS_filt != 0).sum(axis=0)\n",
    "\n",
    "# Count columns with more than 5 non-zero values\n",
    "columns_with_more_than_5_non_zeros = (non_zero_counts > 5).sum()\n",
    "\n",
    "# Display the result\n",
    "print(\"Number of columns with more than 5 non-zero values:\", columns_with_more_than_5_non_zeros)\n",
    "print(\"Columns remaining to check:\",columns_with_more_than_5_non_zeros - mcf7_smartS_filn.shape[1])"
   ]
  },
  {
   "cell_type": "code",
   "execution_count": 68,
   "metadata": {},
   "outputs": [
    {
     "name": "stdout",
     "output_type": "stream",
     "text": [
      "count    18945.000000\n",
      "mean        52.032674\n",
      "std        453.889274\n",
      "min          0.000000\n",
      "25%          0.000000\n",
      "50%          1.000000\n",
      "75%         33.000000\n",
      "max      29372.000000\n",
      "Name: output.STAR.2_B7_Hypo_S79_Aligned.sortedByCoord.out.bam, dtype: float64\n",
      "count     3000.000000\n",
      "mean        90.623667\n",
      "std        679.756247\n",
      "min          0.000000\n",
      "25%          0.000000\n",
      "50%          0.000000\n",
      "75%         31.250000\n",
      "max      25422.000000\n",
      "Name: output.STAR.2_B7_Hypo_S79_Aligned.sortedByCoord.out.bam, dtype: float64\n",
      "CYP1B1        4779\n",
      "CYP1B1-AS1    2195\n",
      "CYP1A1           0\n",
      "NDRG1          535\n",
      "DDIT4         2043\n",
      "              ... \n",
      "GRIK5            0\n",
      "SLC25A27         0\n",
      "DENND5A         49\n",
      "CDK5R1           0\n",
      "FAM13A-AS1       0\n",
      "Name: output.STAR.2_B7_Hypo_S79_Aligned.sortedByCoord.out.bam, Length: 3000, dtype: int64\n",
      "CYP1B1        5817\n",
      "CYP1B1-AS1    2669\n",
      "CYP1A1           0\n",
      "NDRG1          654\n",
      "DDIT4         2484\n",
      "              ... \n",
      "GRIK5            0\n",
      "SLC25A27         0\n",
      "DENND5A         60\n",
      "CDK5R1           0\n",
      "FAM13A-AS1       0\n",
      "Name: output.STAR.2_B7_Hypo_S79_Aligned.sortedByCoord.out.bam, Length: 3000, dtype: int64\n",
      "count    1027.000000\n",
      "mean        0.821381\n",
      "std         0.038762\n",
      "min         0.666667\n",
      "25%         0.812500\n",
      "50%         0.816901\n",
      "75%         0.820513\n",
      "max         1.000000\n",
      "Name: output.STAR.2_B7_Hypo_S79_Aligned.sortedByCoord.out.bam, dtype: float64\n",
      "0.0260721354546179\n",
      "CYP1B1        5796.0\n",
      "CYP1B1-AS1    2662.0\n",
      "CYP1A1           0.0\n",
      "NDRG1          649.0\n",
      "DDIT4         2478.0\n",
      "               ...  \n",
      "GRIK5            0.0\n",
      "SLC25A27         0.0\n",
      "DENND5A         59.0\n",
      "CDK5R1           0.0\n",
      "FAM13A-AS1       0.0\n",
      "Name: output.STAR.2_B7_Hypo_S79_Aligned.sortedByCoord.out.bam, Length: 3000, dtype: float64\n"
     ]
    }
   ],
   "source": [
    "#it may be that the normalization has happened line per line. Hence we want to check if our hypotesis\n",
    "# is correct by checking it.\n",
    "#in the next line we define a new dataframe that comes from the filtered dataset\n",
    "# and has just the entries that have the same column and row indices as the filtered/normalized dataset.\n",
    "\n",
    "df_inters = mcf7_smartS_filt.loc[mcf7_smartS_filn.index, mcf7_smartS_filn.columns]\n",
    "#print(df_inters.shape == mcf7_smartS_filn.shape)\n",
    "#now we print the full row of the new dataset corresponding to the row output.STAR.2_B7_Hypo_S79_Aligned.sortedByCoord.out.bam\n",
    "print((mcf7_smartS_filt.loc[\"output.STAR.2_B7_Hypo_S79_Aligned.sortedByCoord.out.bam\", :]). describe())\n",
    "print((df_inters.loc[\"output.STAR.2_B7_Hypo_S79_Aligned.sortedByCoord.out.bam\", :]).describe())\n",
    "# we do the same for the filtered dataset\n",
    "#print((mcf7_smartS_filn.loc[\"output.STAR.2_B7_Hypo_S79_Aligned.sortedByCoord.out.bam\", :]). describe())\n",
    "#now we divide one for the other to see if the ratio is constant. we also put a command to avoid the printing to be truncated in the middle\n",
    "#np.set_printoptions(threshold=np.inf)\n",
    "#the command did not work, we try now with the following\n",
    "\n",
    "print(df_inters.loc[\"output.STAR.2_B7_Hypo_S79_Aligned.sortedByCoord.out.bam\", :])\n",
    "# we do the same for the filtered dataset\n",
    "print(mcf7_smartS_filn.loc[\"output.STAR.2_B7_Hypo_S79_Aligned.sortedByCoord.out.bam\", :])\n",
    "pd.set_option('display.max_rows', 20)\n",
    "\n",
    "print(( df_inters.loc[\"output.STAR.2_B7_Hypo_S79_Aligned.sortedByCoord.out.bam\", :] / mcf7_smartS_filn.loc[\"output.STAR.2_B7_Hypo_S79_Aligned.sortedByCoord.out.bam\", :]).describe())\n",
    "\n",
    "\n",
    "#print( mcf7_smartS_filn.loc[\"output.STAR.2_B7_Hypo_S79_Aligned.sortedByCoord.out.bam\", :] / df_inters.loc[\"output.STAR.2_B7_Hypo_S79_Aligned.sortedByCoord.out.bam\", :])\n",
    "#now we compute the sum of the entries in the same row of the filtered dataset\n",
    "#print(mcf7_smartS_filn.loc[\"output.STAR.2_B7_Hypo_S79_Aligned.sortedByCoord.out.bam\", :].sum())\n",
    "# now we compute the entries for both rows corresponding to the column \"SLITRK4\"\n",
    "#print(mcf7_smartS_filn.loc[\"output.STAR.2_B7_Hypo_S79_Aligned.sortedByCoord.out.bam\", \"GAPDH\"])\n",
    "#print(df_inters.loc[\"output.STAR.2_B7_Hypo_S79_Aligned.sortedByCoord.out.bam\", \"GAPDH\"])\n",
    "# we want to check if the line in the second dataset has been obtained by dividing the line in the first dataset by the standard deviation of the line in the first dataset, followed by a truncation to the nearest integer\n",
    "#we do it for the whole line, in the following piece of code:\n",
    "assumed_line = round((df_inters.loc[\"output.STAR.2_B7_Hypo_S79_Aligned.sortedByCoord.out.bam\", :]) / (np.sqrt(0.001*((df_inters.loc[\"output.STAR.2_B7_Hypo_S79_Aligned.sortedByCoord.out.bam\", :].std())))))\n",
    "print((0.001*np.sqrt((df_inters.loc[\"output.STAR.2_B7_Hypo_S79_Aligned.sortedByCoord.out.bam\", :].std()))))\n",
    "print(assumed_line)"
   ]
  },
  {
   "cell_type": "code",
   "execution_count": 95,
   "metadata": {},
   "outputs": [
    {
     "name": "stdout",
     "output_type": "stream",
     "text": [
      "count     3000.000000\n",
      "mean       124.566667\n",
      "std       1064.727752\n",
      "min          0.000000\n",
      "25%          0.000000\n",
      "50%          0.000000\n",
      "75%         23.000000\n",
      "max      36928.000000\n",
      "Name: output.STAR.4_E8_Hypo_S236_Aligned.sortedByCoord.out.bam, dtype: float64\n",
      "already norm standard deviation\n",
      "1064.7277517205905\n",
      "CYP1B1        1.421685\n",
      "CYP1B1-AS1    1.418524\n",
      "CYP1A1        1.449960\n",
      "NDRG1         1.433538\n",
      "DDIT4         1.418884\n",
      "                ...   \n",
      "GRIK5              NaN\n",
      "SLC25A27           NaN\n",
      "DENND5A            NaN\n",
      "CDK5R1             NaN\n",
      "FAM13A-AS1    1.434783\n",
      "Name: output.STAR.4_E8_Hypo_S236_Aligned.sortedByCoord.out.bam, Length: 3000, dtype: float64\n",
      "assumed line\n"
     ]
    }
   ],
   "source": [
    "#now we want to check the claim through some random rows. In the next line we generate the index of a random row\n",
    "random_row = np.random.choice(df_inters.index)\n",
    "print((mcf7_smartS_filn.loc[random_row, :]).describe())\n",
    "#print(mcf7_smartS_filn.loc[random_row, :])\n",
    "print(\"already norm standard deviation\")\n",
    "print(((mcf7_smartS_filn.loc[random_row, :].std())))\n",
    "#we print the ratio\n",
    "print( df_inters.loc[random_row, :] / mcf7_smartS_filn.loc[random_row, :])\n",
    "\n",
    "\n",
    "#now we calculate the assumed line for\n",
    "print(\"assumed line\")\n",
    "assumed_line = np.floor((df_inters.loc[random_row, :]) / (np.sqrt(0.001*((df_inters.loc[random_row, :].std())))))\n",
    "#print(assumed_line)"
   ]
  },
  {
   "cell_type": "markdown",
   "metadata": {},
   "source": [
    "## HCC1806"
   ]
  },
  {
   "cell_type": "markdown",
   "metadata": {},
   "source": [
    "Now we focus on HCC1806, we visualize the datasets"
   ]
  },
  {
   "cell_type": "code",
   "execution_count": 39,
   "metadata": {},
   "outputs": [
    {
     "data": {
      "text/html": [
       "<div>\n",
       "<style scoped>\n",
       "    .dataframe tbody tr th:only-of-type {\n",
       "        vertical-align: middle;\n",
       "    }\n",
       "\n",
       "    .dataframe tbody tr th {\n",
       "        vertical-align: top;\n",
       "    }\n",
       "\n",
       "    .dataframe thead th {\n",
       "        text-align: right;\n",
       "    }\n",
       "</style>\n",
       "<table border=\"1\" class=\"dataframe\">\n",
       "  <thead>\n",
       "    <tr style=\"text-align: right;\">\n",
       "      <th></th>\n",
       "      <th>WASH7P</th>\n",
       "      <th>CICP27</th>\n",
       "      <th>DDX11L17</th>\n",
       "      <th>WASH9P</th>\n",
       "      <th>OR4F29</th>\n",
       "      <th>MTND1P23</th>\n",
       "      <th>MTND2P28</th>\n",
       "      <th>MTCO1P12</th>\n",
       "      <th>MTCO2P12</th>\n",
       "      <th>MTATP8P1</th>\n",
       "      <th>...</th>\n",
       "      <th>MT-TH</th>\n",
       "      <th>MT-TS2</th>\n",
       "      <th>MT-TL2</th>\n",
       "      <th>MT-ND5</th>\n",
       "      <th>MT-ND6</th>\n",
       "      <th>MT-TE</th>\n",
       "      <th>MT-CYB</th>\n",
       "      <th>MT-TT</th>\n",
       "      <th>MT-TP</th>\n",
       "      <th>MAFIP</th>\n",
       "    </tr>\n",
       "  </thead>\n",
       "  <tbody>\n",
       "    <tr>\n",
       "      <th>output.STAR.PCRPlate1A10_Normoxia_S123_Aligned.sortedByCoord.out.bam</th>\n",
       "      <td>0</td>\n",
       "      <td>0</td>\n",
       "      <td>0</td>\n",
       "      <td>0</td>\n",
       "      <td>2</td>\n",
       "      <td>250</td>\n",
       "      <td>54</td>\n",
       "      <td>1740</td>\n",
       "      <td>6</td>\n",
       "      <td>1</td>\n",
       "      <td>...</td>\n",
       "      <td>17</td>\n",
       "      <td>5</td>\n",
       "      <td>15</td>\n",
       "      <td>3852</td>\n",
       "      <td>900</td>\n",
       "      <td>22</td>\n",
       "      <td>4208</td>\n",
       "      <td>26</td>\n",
       "      <td>66</td>\n",
       "      <td>0</td>\n",
       "    </tr>\n",
       "    <tr>\n",
       "      <th>output.STAR.PCRPlate1A12_Normoxia_S26_Aligned.sortedByCoord.out.bam</th>\n",
       "      <td>0</td>\n",
       "      <td>0</td>\n",
       "      <td>0</td>\n",
       "      <td>0</td>\n",
       "      <td>0</td>\n",
       "      <td>424</td>\n",
       "      <td>100</td>\n",
       "      <td>2340</td>\n",
       "      <td>5</td>\n",
       "      <td>1</td>\n",
       "      <td>...</td>\n",
       "      <td>49</td>\n",
       "      <td>29</td>\n",
       "      <td>36</td>\n",
       "      <td>7457</td>\n",
       "      <td>1439</td>\n",
       "      <td>43</td>\n",
       "      <td>6491</td>\n",
       "      <td>62</td>\n",
       "      <td>71</td>\n",
       "      <td>4</td>\n",
       "    </tr>\n",
       "    <tr>\n",
       "      <th>output.STAR.PCRPlate1A1_Hypoxia_S97_Aligned.sortedByCoord.out.bam</th>\n",
       "      <td>0</td>\n",
       "      <td>0</td>\n",
       "      <td>0</td>\n",
       "      <td>0</td>\n",
       "      <td>0</td>\n",
       "      <td>11</td>\n",
       "      <td>0</td>\n",
       "      <td>22</td>\n",
       "      <td>0</td>\n",
       "      <td>0</td>\n",
       "      <td>...</td>\n",
       "      <td>0</td>\n",
       "      <td>0</td>\n",
       "      <td>0</td>\n",
       "      <td>93</td>\n",
       "      <td>12</td>\n",
       "      <td>0</td>\n",
       "      <td>25</td>\n",
       "      <td>0</td>\n",
       "      <td>1</td>\n",
       "      <td>0</td>\n",
       "    </tr>\n",
       "    <tr>\n",
       "      <th>output.STAR.PCRPlate1A2_Hypoxia_S104_Aligned.sortedByCoord.out.bam</th>\n",
       "      <td>0</td>\n",
       "      <td>0</td>\n",
       "      <td>0</td>\n",
       "      <td>0</td>\n",
       "      <td>0</td>\n",
       "      <td>63</td>\n",
       "      <td>16</td>\n",
       "      <td>1020</td>\n",
       "      <td>3</td>\n",
       "      <td>0</td>\n",
       "      <td>...</td>\n",
       "      <td>43</td>\n",
       "      <td>17</td>\n",
       "      <td>8</td>\n",
       "      <td>1479</td>\n",
       "      <td>234</td>\n",
       "      <td>0</td>\n",
       "      <td>4819</td>\n",
       "      <td>11</td>\n",
       "      <td>3</td>\n",
       "      <td>7</td>\n",
       "    </tr>\n",
       "    <tr>\n",
       "      <th>output.STAR.PCRPlate1A3_Hypoxia_S4_Aligned.sortedByCoord.out.bam</th>\n",
       "      <td>0</td>\n",
       "      <td>0</td>\n",
       "      <td>0</td>\n",
       "      <td>0</td>\n",
       "      <td>0</td>\n",
       "      <td>27</td>\n",
       "      <td>3</td>\n",
       "      <td>303</td>\n",
       "      <td>0</td>\n",
       "      <td>0</td>\n",
       "      <td>...</td>\n",
       "      <td>0</td>\n",
       "      <td>0</td>\n",
       "      <td>3</td>\n",
       "      <td>303</td>\n",
       "      <td>33</td>\n",
       "      <td>0</td>\n",
       "      <td>310</td>\n",
       "      <td>4</td>\n",
       "      <td>9</td>\n",
       "      <td>0</td>\n",
       "    </tr>\n",
       "    <tr>\n",
       "      <th>...</th>\n",
       "      <td>...</td>\n",
       "      <td>...</td>\n",
       "      <td>...</td>\n",
       "      <td>...</td>\n",
       "      <td>...</td>\n",
       "      <td>...</td>\n",
       "      <td>...</td>\n",
       "      <td>...</td>\n",
       "      <td>...</td>\n",
       "      <td>...</td>\n",
       "      <td>...</td>\n",
       "      <td>...</td>\n",
       "      <td>...</td>\n",
       "      <td>...</td>\n",
       "      <td>...</td>\n",
       "      <td>...</td>\n",
       "      <td>...</td>\n",
       "      <td>...</td>\n",
       "      <td>...</td>\n",
       "      <td>...</td>\n",
       "      <td>...</td>\n",
       "    </tr>\n",
       "    <tr>\n",
       "      <th>output.STAR.PCRPlate4H10_Normoxia_S210_Aligned.sortedByCoord.out.bam</th>\n",
       "      <td>0</td>\n",
       "      <td>0</td>\n",
       "      <td>0</td>\n",
       "      <td>1</td>\n",
       "      <td>0</td>\n",
       "      <td>146</td>\n",
       "      <td>47</td>\n",
       "      <td>961</td>\n",
       "      <td>1</td>\n",
       "      <td>0</td>\n",
       "      <td>...</td>\n",
       "      <td>25</td>\n",
       "      <td>17</td>\n",
       "      <td>11</td>\n",
       "      <td>2926</td>\n",
       "      <td>423</td>\n",
       "      <td>26</td>\n",
       "      <td>3719</td>\n",
       "      <td>42</td>\n",
       "      <td>48</td>\n",
       "      <td>3</td>\n",
       "    </tr>\n",
       "    <tr>\n",
       "      <th>output.STAR.PCRPlate4H11_Normoxia_S214_Aligned.sortedByCoord.out.bam</th>\n",
       "      <td>0</td>\n",
       "      <td>0</td>\n",
       "      <td>0</td>\n",
       "      <td>0</td>\n",
       "      <td>0</td>\n",
       "      <td>37</td>\n",
       "      <td>6</td>\n",
       "      <td>372</td>\n",
       "      <td>0</td>\n",
       "      <td>0</td>\n",
       "      <td>...</td>\n",
       "      <td>2</td>\n",
       "      <td>1</td>\n",
       "      <td>3</td>\n",
       "      <td>688</td>\n",
       "      <td>114</td>\n",
       "      <td>1</td>\n",
       "      <td>984</td>\n",
       "      <td>1</td>\n",
       "      <td>18</td>\n",
       "      <td>0</td>\n",
       "    </tr>\n",
       "    <tr>\n",
       "      <th>output.STAR.PCRPlate4H2_Hypoxia_S199_Aligned.sortedByCoord.out.bam</th>\n",
       "      <td>0</td>\n",
       "      <td>0</td>\n",
       "      <td>0</td>\n",
       "      <td>1</td>\n",
       "      <td>0</td>\n",
       "      <td>83</td>\n",
       "      <td>30</td>\n",
       "      <td>1128</td>\n",
       "      <td>4</td>\n",
       "      <td>0</td>\n",
       "      <td>...</td>\n",
       "      <td>9</td>\n",
       "      <td>6</td>\n",
       "      <td>23</td>\n",
       "      <td>2999</td>\n",
       "      <td>486</td>\n",
       "      <td>4</td>\n",
       "      <td>2256</td>\n",
       "      <td>15</td>\n",
       "      <td>36</td>\n",
       "      <td>2</td>\n",
       "    </tr>\n",
       "    <tr>\n",
       "      <th>output.STAR.PCRPlate4H7_Normoxia_S205_Aligned.sortedByCoord.out.bam</th>\n",
       "      <td>0</td>\n",
       "      <td>0</td>\n",
       "      <td>0</td>\n",
       "      <td>0</td>\n",
       "      <td>0</td>\n",
       "      <td>47</td>\n",
       "      <td>7</td>\n",
       "      <td>258</td>\n",
       "      <td>1</td>\n",
       "      <td>0</td>\n",
       "      <td>...</td>\n",
       "      <td>2</td>\n",
       "      <td>3</td>\n",
       "      <td>3</td>\n",
       "      <td>611</td>\n",
       "      <td>75</td>\n",
       "      <td>4</td>\n",
       "      <td>981</td>\n",
       "      <td>6</td>\n",
       "      <td>8</td>\n",
       "      <td>1</td>\n",
       "    </tr>\n",
       "    <tr>\n",
       "      <th>output.STAR.PCRPlate4H9_Normoxia_S236_Aligned.sortedByCoord.out.bam</th>\n",
       "      <td>0</td>\n",
       "      <td>0</td>\n",
       "      <td>0</td>\n",
       "      <td>0</td>\n",
       "      <td>0</td>\n",
       "      <td>249</td>\n",
       "      <td>38</td>\n",
       "      <td>980</td>\n",
       "      <td>0</td>\n",
       "      <td>0</td>\n",
       "      <td>...</td>\n",
       "      <td>14</td>\n",
       "      <td>3</td>\n",
       "      <td>15</td>\n",
       "      <td>2460</td>\n",
       "      <td>513</td>\n",
       "      <td>20</td>\n",
       "      <td>2039</td>\n",
       "      <td>34</td>\n",
       "      <td>79</td>\n",
       "      <td>5</td>\n",
       "    </tr>\n",
       "  </tbody>\n",
       "</table>\n",
       "<p>243 rows × 23396 columns</p>\n",
       "</div>"
      ],
      "text/plain": [
       "                                                    WASH7P  CICP27  DDX11L17  \\\n",
       "output.STAR.PCRPlate1A10_Normoxia_S123_Aligned....       0       0         0   \n",
       "output.STAR.PCRPlate1A12_Normoxia_S26_Aligned.s...       0       0         0   \n",
       "output.STAR.PCRPlate1A1_Hypoxia_S97_Aligned.sor...       0       0         0   \n",
       "output.STAR.PCRPlate1A2_Hypoxia_S104_Aligned.so...       0       0         0   \n",
       "output.STAR.PCRPlate1A3_Hypoxia_S4_Aligned.sort...       0       0         0   \n",
       "...                                                    ...     ...       ...   \n",
       "output.STAR.PCRPlate4H10_Normoxia_S210_Aligned....       0       0         0   \n",
       "output.STAR.PCRPlate4H11_Normoxia_S214_Aligned....       0       0         0   \n",
       "output.STAR.PCRPlate4H2_Hypoxia_S199_Aligned.so...       0       0         0   \n",
       "output.STAR.PCRPlate4H7_Normoxia_S205_Aligned.s...       0       0         0   \n",
       "output.STAR.PCRPlate4H9_Normoxia_S236_Aligned.s...       0       0         0   \n",
       "\n",
       "                                                    WASH9P  OR4F29  MTND1P23  \\\n",
       "output.STAR.PCRPlate1A10_Normoxia_S123_Aligned....       0       2       250   \n",
       "output.STAR.PCRPlate1A12_Normoxia_S26_Aligned.s...       0       0       424   \n",
       "output.STAR.PCRPlate1A1_Hypoxia_S97_Aligned.sor...       0       0        11   \n",
       "output.STAR.PCRPlate1A2_Hypoxia_S104_Aligned.so...       0       0        63   \n",
       "output.STAR.PCRPlate1A3_Hypoxia_S4_Aligned.sort...       0       0        27   \n",
       "...                                                    ...     ...       ...   \n",
       "output.STAR.PCRPlate4H10_Normoxia_S210_Aligned....       1       0       146   \n",
       "output.STAR.PCRPlate4H11_Normoxia_S214_Aligned....       0       0        37   \n",
       "output.STAR.PCRPlate4H2_Hypoxia_S199_Aligned.so...       1       0        83   \n",
       "output.STAR.PCRPlate4H7_Normoxia_S205_Aligned.s...       0       0        47   \n",
       "output.STAR.PCRPlate4H9_Normoxia_S236_Aligned.s...       0       0       249   \n",
       "\n",
       "                                                    MTND2P28  MTCO1P12  \\\n",
       "output.STAR.PCRPlate1A10_Normoxia_S123_Aligned....        54      1740   \n",
       "output.STAR.PCRPlate1A12_Normoxia_S26_Aligned.s...       100      2340   \n",
       "output.STAR.PCRPlate1A1_Hypoxia_S97_Aligned.sor...         0        22   \n",
       "output.STAR.PCRPlate1A2_Hypoxia_S104_Aligned.so...        16      1020   \n",
       "output.STAR.PCRPlate1A3_Hypoxia_S4_Aligned.sort...         3       303   \n",
       "...                                                      ...       ...   \n",
       "output.STAR.PCRPlate4H10_Normoxia_S210_Aligned....        47       961   \n",
       "output.STAR.PCRPlate4H11_Normoxia_S214_Aligned....         6       372   \n",
       "output.STAR.PCRPlate4H2_Hypoxia_S199_Aligned.so...        30      1128   \n",
       "output.STAR.PCRPlate4H7_Normoxia_S205_Aligned.s...         7       258   \n",
       "output.STAR.PCRPlate4H9_Normoxia_S236_Aligned.s...        38       980   \n",
       "\n",
       "                                                    MTCO2P12  MTATP8P1  ...  \\\n",
       "output.STAR.PCRPlate1A10_Normoxia_S123_Aligned....         6         1  ...   \n",
       "output.STAR.PCRPlate1A12_Normoxia_S26_Aligned.s...         5         1  ...   \n",
       "output.STAR.PCRPlate1A1_Hypoxia_S97_Aligned.sor...         0         0  ...   \n",
       "output.STAR.PCRPlate1A2_Hypoxia_S104_Aligned.so...         3         0  ...   \n",
       "output.STAR.PCRPlate1A3_Hypoxia_S4_Aligned.sort...         0         0  ...   \n",
       "...                                                      ...       ...  ...   \n",
       "output.STAR.PCRPlate4H10_Normoxia_S210_Aligned....         1         0  ...   \n",
       "output.STAR.PCRPlate4H11_Normoxia_S214_Aligned....         0         0  ...   \n",
       "output.STAR.PCRPlate4H2_Hypoxia_S199_Aligned.so...         4         0  ...   \n",
       "output.STAR.PCRPlate4H7_Normoxia_S205_Aligned.s...         1         0  ...   \n",
       "output.STAR.PCRPlate4H9_Normoxia_S236_Aligned.s...         0         0  ...   \n",
       "\n",
       "                                                    MT-TH  MT-TS2  MT-TL2  \\\n",
       "output.STAR.PCRPlate1A10_Normoxia_S123_Aligned....     17       5      15   \n",
       "output.STAR.PCRPlate1A12_Normoxia_S26_Aligned.s...     49      29      36   \n",
       "output.STAR.PCRPlate1A1_Hypoxia_S97_Aligned.sor...      0       0       0   \n",
       "output.STAR.PCRPlate1A2_Hypoxia_S104_Aligned.so...     43      17       8   \n",
       "output.STAR.PCRPlate1A3_Hypoxia_S4_Aligned.sort...      0       0       3   \n",
       "...                                                   ...     ...     ...   \n",
       "output.STAR.PCRPlate4H10_Normoxia_S210_Aligned....     25      17      11   \n",
       "output.STAR.PCRPlate4H11_Normoxia_S214_Aligned....      2       1       3   \n",
       "output.STAR.PCRPlate4H2_Hypoxia_S199_Aligned.so...      9       6      23   \n",
       "output.STAR.PCRPlate4H7_Normoxia_S205_Aligned.s...      2       3       3   \n",
       "output.STAR.PCRPlate4H9_Normoxia_S236_Aligned.s...     14       3      15   \n",
       "\n",
       "                                                    MT-ND5  MT-ND6  MT-TE  \\\n",
       "output.STAR.PCRPlate1A10_Normoxia_S123_Aligned....    3852     900     22   \n",
       "output.STAR.PCRPlate1A12_Normoxia_S26_Aligned.s...    7457    1439     43   \n",
       "output.STAR.PCRPlate1A1_Hypoxia_S97_Aligned.sor...      93      12      0   \n",
       "output.STAR.PCRPlate1A2_Hypoxia_S104_Aligned.so...    1479     234      0   \n",
       "output.STAR.PCRPlate1A3_Hypoxia_S4_Aligned.sort...     303      33      0   \n",
       "...                                                    ...     ...    ...   \n",
       "output.STAR.PCRPlate4H10_Normoxia_S210_Aligned....    2926     423     26   \n",
       "output.STAR.PCRPlate4H11_Normoxia_S214_Aligned....     688     114      1   \n",
       "output.STAR.PCRPlate4H2_Hypoxia_S199_Aligned.so...    2999     486      4   \n",
       "output.STAR.PCRPlate4H7_Normoxia_S205_Aligned.s...     611      75      4   \n",
       "output.STAR.PCRPlate4H9_Normoxia_S236_Aligned.s...    2460     513     20   \n",
       "\n",
       "                                                    MT-CYB  MT-TT  MT-TP  \\\n",
       "output.STAR.PCRPlate1A10_Normoxia_S123_Aligned....    4208     26     66   \n",
       "output.STAR.PCRPlate1A12_Normoxia_S26_Aligned.s...    6491     62     71   \n",
       "output.STAR.PCRPlate1A1_Hypoxia_S97_Aligned.sor...      25      0      1   \n",
       "output.STAR.PCRPlate1A2_Hypoxia_S104_Aligned.so...    4819     11      3   \n",
       "output.STAR.PCRPlate1A3_Hypoxia_S4_Aligned.sort...     310      4      9   \n",
       "...                                                    ...    ...    ...   \n",
       "output.STAR.PCRPlate4H10_Normoxia_S210_Aligned....    3719     42     48   \n",
       "output.STAR.PCRPlate4H11_Normoxia_S214_Aligned....     984      1     18   \n",
       "output.STAR.PCRPlate4H2_Hypoxia_S199_Aligned.so...    2256     15     36   \n",
       "output.STAR.PCRPlate4H7_Normoxia_S205_Aligned.s...     981      6      8   \n",
       "output.STAR.PCRPlate4H9_Normoxia_S236_Aligned.s...    2039     34     79   \n",
       "\n",
       "                                                    MAFIP  \n",
       "output.STAR.PCRPlate1A10_Normoxia_S123_Aligned....      0  \n",
       "output.STAR.PCRPlate1A12_Normoxia_S26_Aligned.s...      4  \n",
       "output.STAR.PCRPlate1A1_Hypoxia_S97_Aligned.sor...      0  \n",
       "output.STAR.PCRPlate1A2_Hypoxia_S104_Aligned.so...      7  \n",
       "output.STAR.PCRPlate1A3_Hypoxia_S4_Aligned.sort...      0  \n",
       "...                                                   ...  \n",
       "output.STAR.PCRPlate4H10_Normoxia_S210_Aligned....      3  \n",
       "output.STAR.PCRPlate4H11_Normoxia_S214_Aligned....      0  \n",
       "output.STAR.PCRPlate4H2_Hypoxia_S199_Aligned.so...      2  \n",
       "output.STAR.PCRPlate4H7_Normoxia_S205_Aligned.s...      1  \n",
       "output.STAR.PCRPlate4H9_Normoxia_S236_Aligned.s...      5  \n",
       "\n",
       "[243 rows x 23396 columns]"
      ]
     },
     "execution_count": 39,
     "metadata": {},
     "output_type": "execute_result"
    }
   ],
   "source": [
    "hcc_smartS_raw"
   ]
  },
  {
   "cell_type": "code",
   "execution_count": 40,
   "metadata": {},
   "outputs": [
    {
     "data": {
      "text/html": [
       "<div>\n",
       "<style scoped>\n",
       "    .dataframe tbody tr th:only-of-type {\n",
       "        vertical-align: middle;\n",
       "    }\n",
       "\n",
       "    .dataframe tbody tr th {\n",
       "        vertical-align: top;\n",
       "    }\n",
       "\n",
       "    .dataframe thead th {\n",
       "        text-align: right;\n",
       "    }\n",
       "</style>\n",
       "<table border=\"1\" class=\"dataframe\">\n",
       "  <thead>\n",
       "    <tr style=\"text-align: right;\">\n",
       "      <th></th>\n",
       "      <th>CICP27</th>\n",
       "      <th>DDX11L17</th>\n",
       "      <th>WASH9P</th>\n",
       "      <th>OR4F29</th>\n",
       "      <th>MTND1P23</th>\n",
       "      <th>MTND2P28</th>\n",
       "      <th>MTCO1P12</th>\n",
       "      <th>MTCO2P12</th>\n",
       "      <th>MTATP8P1</th>\n",
       "      <th>MTATP6P1</th>\n",
       "      <th>...</th>\n",
       "      <th>MT-TH</th>\n",
       "      <th>MT-TS2</th>\n",
       "      <th>MT-TL2</th>\n",
       "      <th>MT-ND5</th>\n",
       "      <th>MT-ND6</th>\n",
       "      <th>MT-TE</th>\n",
       "      <th>MT-CYB</th>\n",
       "      <th>MT-TT</th>\n",
       "      <th>MT-TP</th>\n",
       "      <th>MAFIP</th>\n",
       "    </tr>\n",
       "  </thead>\n",
       "  <tbody>\n",
       "    <tr>\n",
       "      <th>output.STAR.PCRPlate1A10_Normoxia_S123_Aligned.sortedByCoord.out.bam</th>\n",
       "      <td>0</td>\n",
       "      <td>0</td>\n",
       "      <td>0</td>\n",
       "      <td>2</td>\n",
       "      <td>250</td>\n",
       "      <td>54</td>\n",
       "      <td>1740</td>\n",
       "      <td>6</td>\n",
       "      <td>1</td>\n",
       "      <td>974</td>\n",
       "      <td>...</td>\n",
       "      <td>17</td>\n",
       "      <td>5</td>\n",
       "      <td>15</td>\n",
       "      <td>3852</td>\n",
       "      <td>900</td>\n",
       "      <td>22</td>\n",
       "      <td>4208</td>\n",
       "      <td>26</td>\n",
       "      <td>66</td>\n",
       "      <td>0</td>\n",
       "    </tr>\n",
       "    <tr>\n",
       "      <th>output.STAR.PCRPlate1A12_Normoxia_S26_Aligned.sortedByCoord.out.bam</th>\n",
       "      <td>0</td>\n",
       "      <td>0</td>\n",
       "      <td>0</td>\n",
       "      <td>0</td>\n",
       "      <td>424</td>\n",
       "      <td>100</td>\n",
       "      <td>2340</td>\n",
       "      <td>5</td>\n",
       "      <td>1</td>\n",
       "      <td>1642</td>\n",
       "      <td>...</td>\n",
       "      <td>49</td>\n",
       "      <td>29</td>\n",
       "      <td>36</td>\n",
       "      <td>7457</td>\n",
       "      <td>1439</td>\n",
       "      <td>43</td>\n",
       "      <td>6491</td>\n",
       "      <td>62</td>\n",
       "      <td>71</td>\n",
       "      <td>4</td>\n",
       "    </tr>\n",
       "    <tr>\n",
       "      <th>output.STAR.PCRPlate1A2_Hypoxia_S104_Aligned.sortedByCoord.out.bam</th>\n",
       "      <td>0</td>\n",
       "      <td>0</td>\n",
       "      <td>0</td>\n",
       "      <td>0</td>\n",
       "      <td>63</td>\n",
       "      <td>16</td>\n",
       "      <td>1020</td>\n",
       "      <td>3</td>\n",
       "      <td>0</td>\n",
       "      <td>653</td>\n",
       "      <td>...</td>\n",
       "      <td>43</td>\n",
       "      <td>17</td>\n",
       "      <td>8</td>\n",
       "      <td>1479</td>\n",
       "      <td>234</td>\n",
       "      <td>0</td>\n",
       "      <td>4819</td>\n",
       "      <td>11</td>\n",
       "      <td>3</td>\n",
       "      <td>7</td>\n",
       "    </tr>\n",
       "    <tr>\n",
       "      <th>output.STAR.PCRPlate1A3_Hypoxia_S4_Aligned.sortedByCoord.out.bam</th>\n",
       "      <td>0</td>\n",
       "      <td>0</td>\n",
       "      <td>0</td>\n",
       "      <td>0</td>\n",
       "      <td>27</td>\n",
       "      <td>3</td>\n",
       "      <td>303</td>\n",
       "      <td>0</td>\n",
       "      <td>0</td>\n",
       "      <td>91</td>\n",
       "      <td>...</td>\n",
       "      <td>0</td>\n",
       "      <td>0</td>\n",
       "      <td>3</td>\n",
       "      <td>303</td>\n",
       "      <td>33</td>\n",
       "      <td>0</td>\n",
       "      <td>310</td>\n",
       "      <td>4</td>\n",
       "      <td>9</td>\n",
       "      <td>0</td>\n",
       "    </tr>\n",
       "    <tr>\n",
       "      <th>output.STAR.PCRPlate1A4_Hypoxia_S8_Aligned.sortedByCoord.out.bam</th>\n",
       "      <td>0</td>\n",
       "      <td>1</td>\n",
       "      <td>0</td>\n",
       "      <td>0</td>\n",
       "      <td>81</td>\n",
       "      <td>1</td>\n",
       "      <td>587</td>\n",
       "      <td>0</td>\n",
       "      <td>0</td>\n",
       "      <td>161</td>\n",
       "      <td>...</td>\n",
       "      <td>1</td>\n",
       "      <td>0</td>\n",
       "      <td>0</td>\n",
       "      <td>650</td>\n",
       "      <td>79</td>\n",
       "      <td>3</td>\n",
       "      <td>695</td>\n",
       "      <td>0</td>\n",
       "      <td>14</td>\n",
       "      <td>9</td>\n",
       "    </tr>\n",
       "    <tr>\n",
       "      <th>...</th>\n",
       "      <td>...</td>\n",
       "      <td>...</td>\n",
       "      <td>...</td>\n",
       "      <td>...</td>\n",
       "      <td>...</td>\n",
       "      <td>...</td>\n",
       "      <td>...</td>\n",
       "      <td>...</td>\n",
       "      <td>...</td>\n",
       "      <td>...</td>\n",
       "      <td>...</td>\n",
       "      <td>...</td>\n",
       "      <td>...</td>\n",
       "      <td>...</td>\n",
       "      <td>...</td>\n",
       "      <td>...</td>\n",
       "      <td>...</td>\n",
       "      <td>...</td>\n",
       "      <td>...</td>\n",
       "      <td>...</td>\n",
       "      <td>...</td>\n",
       "    </tr>\n",
       "    <tr>\n",
       "      <th>output.STAR.PCRPlate4H10_Normoxia_S210_Aligned.sortedByCoord.out.bam</th>\n",
       "      <td>0</td>\n",
       "      <td>0</td>\n",
       "      <td>1</td>\n",
       "      <td>0</td>\n",
       "      <td>146</td>\n",
       "      <td>47</td>\n",
       "      <td>961</td>\n",
       "      <td>1</td>\n",
       "      <td>0</td>\n",
       "      <td>642</td>\n",
       "      <td>...</td>\n",
       "      <td>25</td>\n",
       "      <td>17</td>\n",
       "      <td>11</td>\n",
       "      <td>2926</td>\n",
       "      <td>423</td>\n",
       "      <td>26</td>\n",
       "      <td>3719</td>\n",
       "      <td>42</td>\n",
       "      <td>48</td>\n",
       "      <td>3</td>\n",
       "    </tr>\n",
       "    <tr>\n",
       "      <th>output.STAR.PCRPlate4H11_Normoxia_S214_Aligned.sortedByCoord.out.bam</th>\n",
       "      <td>0</td>\n",
       "      <td>0</td>\n",
       "      <td>0</td>\n",
       "      <td>0</td>\n",
       "      <td>37</td>\n",
       "      <td>6</td>\n",
       "      <td>372</td>\n",
       "      <td>0</td>\n",
       "      <td>0</td>\n",
       "      <td>175</td>\n",
       "      <td>...</td>\n",
       "      <td>2</td>\n",
       "      <td>1</td>\n",
       "      <td>3</td>\n",
       "      <td>688</td>\n",
       "      <td>114</td>\n",
       "      <td>1</td>\n",
       "      <td>984</td>\n",
       "      <td>1</td>\n",
       "      <td>18</td>\n",
       "      <td>0</td>\n",
       "    </tr>\n",
       "    <tr>\n",
       "      <th>output.STAR.PCRPlate4H2_Hypoxia_S199_Aligned.sortedByCoord.out.bam</th>\n",
       "      <td>0</td>\n",
       "      <td>0</td>\n",
       "      <td>1</td>\n",
       "      <td>0</td>\n",
       "      <td>83</td>\n",
       "      <td>30</td>\n",
       "      <td>1128</td>\n",
       "      <td>4</td>\n",
       "      <td>0</td>\n",
       "      <td>638</td>\n",
       "      <td>...</td>\n",
       "      <td>9</td>\n",
       "      <td>6</td>\n",
       "      <td>23</td>\n",
       "      <td>2999</td>\n",
       "      <td>486</td>\n",
       "      <td>4</td>\n",
       "      <td>2256</td>\n",
       "      <td>15</td>\n",
       "      <td>36</td>\n",
       "      <td>2</td>\n",
       "    </tr>\n",
       "    <tr>\n",
       "      <th>output.STAR.PCRPlate4H7_Normoxia_S205_Aligned.sortedByCoord.out.bam</th>\n",
       "      <td>0</td>\n",
       "      <td>0</td>\n",
       "      <td>0</td>\n",
       "      <td>0</td>\n",
       "      <td>47</td>\n",
       "      <td>7</td>\n",
       "      <td>258</td>\n",
       "      <td>1</td>\n",
       "      <td>0</td>\n",
       "      <td>162</td>\n",
       "      <td>...</td>\n",
       "      <td>2</td>\n",
       "      <td>3</td>\n",
       "      <td>3</td>\n",
       "      <td>611</td>\n",
       "      <td>75</td>\n",
       "      <td>4</td>\n",
       "      <td>981</td>\n",
       "      <td>6</td>\n",
       "      <td>8</td>\n",
       "      <td>1</td>\n",
       "    </tr>\n",
       "    <tr>\n",
       "      <th>output.STAR.PCRPlate4H9_Normoxia_S236_Aligned.sortedByCoord.out.bam</th>\n",
       "      <td>0</td>\n",
       "      <td>0</td>\n",
       "      <td>0</td>\n",
       "      <td>0</td>\n",
       "      <td>249</td>\n",
       "      <td>38</td>\n",
       "      <td>980</td>\n",
       "      <td>0</td>\n",
       "      <td>0</td>\n",
       "      <td>467</td>\n",
       "      <td>...</td>\n",
       "      <td>14</td>\n",
       "      <td>3</td>\n",
       "      <td>15</td>\n",
       "      <td>2460</td>\n",
       "      <td>513</td>\n",
       "      <td>20</td>\n",
       "      <td>2039</td>\n",
       "      <td>34</td>\n",
       "      <td>79</td>\n",
       "      <td>5</td>\n",
       "    </tr>\n",
       "  </tbody>\n",
       "</table>\n",
       "<p>227 rows × 19503 columns</p>\n",
       "</div>"
      ],
      "text/plain": [
       "                                                    CICP27  DDX11L17  WASH9P  \\\n",
       "output.STAR.PCRPlate1A10_Normoxia_S123_Aligned....       0         0       0   \n",
       "output.STAR.PCRPlate1A12_Normoxia_S26_Aligned.s...       0         0       0   \n",
       "output.STAR.PCRPlate1A2_Hypoxia_S104_Aligned.so...       0         0       0   \n",
       "output.STAR.PCRPlate1A3_Hypoxia_S4_Aligned.sort...       0         0       0   \n",
       "output.STAR.PCRPlate1A4_Hypoxia_S8_Aligned.sort...       0         1       0   \n",
       "...                                                    ...       ...     ...   \n",
       "output.STAR.PCRPlate4H10_Normoxia_S210_Aligned....       0         0       1   \n",
       "output.STAR.PCRPlate4H11_Normoxia_S214_Aligned....       0         0       0   \n",
       "output.STAR.PCRPlate4H2_Hypoxia_S199_Aligned.so...       0         0       1   \n",
       "output.STAR.PCRPlate4H7_Normoxia_S205_Aligned.s...       0         0       0   \n",
       "output.STAR.PCRPlate4H9_Normoxia_S236_Aligned.s...       0         0       0   \n",
       "\n",
       "                                                    OR4F29  MTND1P23  \\\n",
       "output.STAR.PCRPlate1A10_Normoxia_S123_Aligned....       2       250   \n",
       "output.STAR.PCRPlate1A12_Normoxia_S26_Aligned.s...       0       424   \n",
       "output.STAR.PCRPlate1A2_Hypoxia_S104_Aligned.so...       0        63   \n",
       "output.STAR.PCRPlate1A3_Hypoxia_S4_Aligned.sort...       0        27   \n",
       "output.STAR.PCRPlate1A4_Hypoxia_S8_Aligned.sort...       0        81   \n",
       "...                                                    ...       ...   \n",
       "output.STAR.PCRPlate4H10_Normoxia_S210_Aligned....       0       146   \n",
       "output.STAR.PCRPlate4H11_Normoxia_S214_Aligned....       0        37   \n",
       "output.STAR.PCRPlate4H2_Hypoxia_S199_Aligned.so...       0        83   \n",
       "output.STAR.PCRPlate4H7_Normoxia_S205_Aligned.s...       0        47   \n",
       "output.STAR.PCRPlate4H9_Normoxia_S236_Aligned.s...       0       249   \n",
       "\n",
       "                                                    MTND2P28  MTCO1P12  \\\n",
       "output.STAR.PCRPlate1A10_Normoxia_S123_Aligned....        54      1740   \n",
       "output.STAR.PCRPlate1A12_Normoxia_S26_Aligned.s...       100      2340   \n",
       "output.STAR.PCRPlate1A2_Hypoxia_S104_Aligned.so...        16      1020   \n",
       "output.STAR.PCRPlate1A3_Hypoxia_S4_Aligned.sort...         3       303   \n",
       "output.STAR.PCRPlate1A4_Hypoxia_S8_Aligned.sort...         1       587   \n",
       "...                                                      ...       ...   \n",
       "output.STAR.PCRPlate4H10_Normoxia_S210_Aligned....        47       961   \n",
       "output.STAR.PCRPlate4H11_Normoxia_S214_Aligned....         6       372   \n",
       "output.STAR.PCRPlate4H2_Hypoxia_S199_Aligned.so...        30      1128   \n",
       "output.STAR.PCRPlate4H7_Normoxia_S205_Aligned.s...         7       258   \n",
       "output.STAR.PCRPlate4H9_Normoxia_S236_Aligned.s...        38       980   \n",
       "\n",
       "                                                    MTCO2P12  MTATP8P1  \\\n",
       "output.STAR.PCRPlate1A10_Normoxia_S123_Aligned....         6         1   \n",
       "output.STAR.PCRPlate1A12_Normoxia_S26_Aligned.s...         5         1   \n",
       "output.STAR.PCRPlate1A2_Hypoxia_S104_Aligned.so...         3         0   \n",
       "output.STAR.PCRPlate1A3_Hypoxia_S4_Aligned.sort...         0         0   \n",
       "output.STAR.PCRPlate1A4_Hypoxia_S8_Aligned.sort...         0         0   \n",
       "...                                                      ...       ...   \n",
       "output.STAR.PCRPlate4H10_Normoxia_S210_Aligned....         1         0   \n",
       "output.STAR.PCRPlate4H11_Normoxia_S214_Aligned....         0         0   \n",
       "output.STAR.PCRPlate4H2_Hypoxia_S199_Aligned.so...         4         0   \n",
       "output.STAR.PCRPlate4H7_Normoxia_S205_Aligned.s...         1         0   \n",
       "output.STAR.PCRPlate4H9_Normoxia_S236_Aligned.s...         0         0   \n",
       "\n",
       "                                                    MTATP6P1  ...  MT-TH  \\\n",
       "output.STAR.PCRPlate1A10_Normoxia_S123_Aligned....       974  ...     17   \n",
       "output.STAR.PCRPlate1A12_Normoxia_S26_Aligned.s...      1642  ...     49   \n",
       "output.STAR.PCRPlate1A2_Hypoxia_S104_Aligned.so...       653  ...     43   \n",
       "output.STAR.PCRPlate1A3_Hypoxia_S4_Aligned.sort...        91  ...      0   \n",
       "output.STAR.PCRPlate1A4_Hypoxia_S8_Aligned.sort...       161  ...      1   \n",
       "...                                                      ...  ...    ...   \n",
       "output.STAR.PCRPlate4H10_Normoxia_S210_Aligned....       642  ...     25   \n",
       "output.STAR.PCRPlate4H11_Normoxia_S214_Aligned....       175  ...      2   \n",
       "output.STAR.PCRPlate4H2_Hypoxia_S199_Aligned.so...       638  ...      9   \n",
       "output.STAR.PCRPlate4H7_Normoxia_S205_Aligned.s...       162  ...      2   \n",
       "output.STAR.PCRPlate4H9_Normoxia_S236_Aligned.s...       467  ...     14   \n",
       "\n",
       "                                                    MT-TS2  MT-TL2  MT-ND5  \\\n",
       "output.STAR.PCRPlate1A10_Normoxia_S123_Aligned....       5      15    3852   \n",
       "output.STAR.PCRPlate1A12_Normoxia_S26_Aligned.s...      29      36    7457   \n",
       "output.STAR.PCRPlate1A2_Hypoxia_S104_Aligned.so...      17       8    1479   \n",
       "output.STAR.PCRPlate1A3_Hypoxia_S4_Aligned.sort...       0       3     303   \n",
       "output.STAR.PCRPlate1A4_Hypoxia_S8_Aligned.sort...       0       0     650   \n",
       "...                                                    ...     ...     ...   \n",
       "output.STAR.PCRPlate4H10_Normoxia_S210_Aligned....      17      11    2926   \n",
       "output.STAR.PCRPlate4H11_Normoxia_S214_Aligned....       1       3     688   \n",
       "output.STAR.PCRPlate4H2_Hypoxia_S199_Aligned.so...       6      23    2999   \n",
       "output.STAR.PCRPlate4H7_Normoxia_S205_Aligned.s...       3       3     611   \n",
       "output.STAR.PCRPlate4H9_Normoxia_S236_Aligned.s...       3      15    2460   \n",
       "\n",
       "                                                    MT-ND6  MT-TE  MT-CYB  \\\n",
       "output.STAR.PCRPlate1A10_Normoxia_S123_Aligned....     900     22    4208   \n",
       "output.STAR.PCRPlate1A12_Normoxia_S26_Aligned.s...    1439     43    6491   \n",
       "output.STAR.PCRPlate1A2_Hypoxia_S104_Aligned.so...     234      0    4819   \n",
       "output.STAR.PCRPlate1A3_Hypoxia_S4_Aligned.sort...      33      0     310   \n",
       "output.STAR.PCRPlate1A4_Hypoxia_S8_Aligned.sort...      79      3     695   \n",
       "...                                                    ...    ...     ...   \n",
       "output.STAR.PCRPlate4H10_Normoxia_S210_Aligned....     423     26    3719   \n",
       "output.STAR.PCRPlate4H11_Normoxia_S214_Aligned....     114      1     984   \n",
       "output.STAR.PCRPlate4H2_Hypoxia_S199_Aligned.so...     486      4    2256   \n",
       "output.STAR.PCRPlate4H7_Normoxia_S205_Aligned.s...      75      4     981   \n",
       "output.STAR.PCRPlate4H9_Normoxia_S236_Aligned.s...     513     20    2039   \n",
       "\n",
       "                                                    MT-TT  MT-TP  MAFIP  \n",
       "output.STAR.PCRPlate1A10_Normoxia_S123_Aligned....     26     66      0  \n",
       "output.STAR.PCRPlate1A12_Normoxia_S26_Aligned.s...     62     71      4  \n",
       "output.STAR.PCRPlate1A2_Hypoxia_S104_Aligned.so...     11      3      7  \n",
       "output.STAR.PCRPlate1A3_Hypoxia_S4_Aligned.sort...      4      9      0  \n",
       "output.STAR.PCRPlate1A4_Hypoxia_S8_Aligned.sort...      0     14      9  \n",
       "...                                                   ...    ...    ...  \n",
       "output.STAR.PCRPlate4H10_Normoxia_S210_Aligned....     42     48      3  \n",
       "output.STAR.PCRPlate4H11_Normoxia_S214_Aligned....      1     18      0  \n",
       "output.STAR.PCRPlate4H2_Hypoxia_S199_Aligned.so...     15     36      2  \n",
       "output.STAR.PCRPlate4H7_Normoxia_S205_Aligned.s...      6      8      1  \n",
       "output.STAR.PCRPlate4H9_Normoxia_S236_Aligned.s...     34     79      5  \n",
       "\n",
       "[227 rows x 19503 columns]"
      ]
     },
     "execution_count": 40,
     "metadata": {},
     "output_type": "execute_result"
    }
   ],
   "source": [
    "hcc_smartS_filt"
   ]
  },
  {
   "cell_type": "code",
   "execution_count": 41,
   "metadata": {},
   "outputs": [
    {
     "data": {
      "text/html": [
       "<div>\n",
       "<style scoped>\n",
       "    .dataframe tbody tr th:only-of-type {\n",
       "        vertical-align: middle;\n",
       "    }\n",
       "\n",
       "    .dataframe tbody tr th {\n",
       "        vertical-align: top;\n",
       "    }\n",
       "\n",
       "    .dataframe thead th {\n",
       "        text-align: right;\n",
       "    }\n",
       "</style>\n",
       "<table border=\"1\" class=\"dataframe\">\n",
       "  <thead>\n",
       "    <tr style=\"text-align: right;\">\n",
       "      <th></th>\n",
       "      <th>DDIT4</th>\n",
       "      <th>ANGPTL4</th>\n",
       "      <th>CALML5</th>\n",
       "      <th>KRT14</th>\n",
       "      <th>CCNB1</th>\n",
       "      <th>IGFBP3</th>\n",
       "      <th>AKR1C2</th>\n",
       "      <th>KRT6A</th>\n",
       "      <th>NDRG1</th>\n",
       "      <th>KRT4</th>\n",
       "      <th>...</th>\n",
       "      <th>MST1R</th>\n",
       "      <th>ZYG11A</th>\n",
       "      <th>NRG1</th>\n",
       "      <th>RBMS3</th>\n",
       "      <th>VCPIP1</th>\n",
       "      <th>LINC02693</th>\n",
       "      <th>OR8B9P</th>\n",
       "      <th>NEAT1</th>\n",
       "      <th>ZDHHC23</th>\n",
       "      <th>ODAD2</th>\n",
       "    </tr>\n",
       "  </thead>\n",
       "  <tbody>\n",
       "    <tr>\n",
       "      <th>output.STAR.PCRPlate1G12_Normoxia_S32_Aligned.sortedByCoord.out.bam</th>\n",
       "      <td>0</td>\n",
       "      <td>48</td>\n",
       "      <td>0</td>\n",
       "      <td>321</td>\n",
       "      <td>298</td>\n",
       "      <td>82</td>\n",
       "      <td>6250</td>\n",
       "      <td>634</td>\n",
       "      <td>0</td>\n",
       "      <td>0</td>\n",
       "      <td>...</td>\n",
       "      <td>78</td>\n",
       "      <td>10</td>\n",
       "      <td>136</td>\n",
       "      <td>0</td>\n",
       "      <td>0</td>\n",
       "      <td>29</td>\n",
       "      <td>0</td>\n",
       "      <td>29</td>\n",
       "      <td>0</td>\n",
       "      <td>0</td>\n",
       "    </tr>\n",
       "    <tr>\n",
       "      <th>output.STAR.PCRPlate1G1_Hypoxia_S102_Aligned.sortedByCoord.out.bam</th>\n",
       "      <td>8739</td>\n",
       "      <td>2101</td>\n",
       "      <td>55</td>\n",
       "      <td>96</td>\n",
       "      <td>1824</td>\n",
       "      <td>1938</td>\n",
       "      <td>62</td>\n",
       "      <td>0</td>\n",
       "      <td>522</td>\n",
       "      <td>413</td>\n",
       "      <td>...</td>\n",
       "      <td>279</td>\n",
       "      <td>0</td>\n",
       "      <td>264</td>\n",
       "      <td>0</td>\n",
       "      <td>134</td>\n",
       "      <td>68</td>\n",
       "      <td>0</td>\n",
       "      <td>213</td>\n",
       "      <td>0</td>\n",
       "      <td>0</td>\n",
       "    </tr>\n",
       "    <tr>\n",
       "      <th>output.STAR.PCRPlate1G2_Hypoxia_S2_Aligned.sortedByCoord.out.bam</th>\n",
       "      <td>13098</td>\n",
       "      <td>14032</td>\n",
       "      <td>0</td>\n",
       "      <td>0</td>\n",
       "      <td>1616</td>\n",
       "      <td>247</td>\n",
       "      <td>430</td>\n",
       "      <td>907</td>\n",
       "      <td>348</td>\n",
       "      <td>0</td>\n",
       "      <td>...</td>\n",
       "      <td>311</td>\n",
       "      <td>0</td>\n",
       "      <td>38</td>\n",
       "      <td>0</td>\n",
       "      <td>0</td>\n",
       "      <td>0</td>\n",
       "      <td>0</td>\n",
       "      <td>92</td>\n",
       "      <td>0</td>\n",
       "      <td>0</td>\n",
       "    </tr>\n",
       "    <tr>\n",
       "      <th>output.STAR.PCRPlate1G3_Hypoxia_S7_Aligned.sortedByCoord.out.bam</th>\n",
       "      <td>2880</td>\n",
       "      <td>356</td>\n",
       "      <td>0</td>\n",
       "      <td>6211</td>\n",
       "      <td>3</td>\n",
       "      <td>3430</td>\n",
       "      <td>79</td>\n",
       "      <td>1953</td>\n",
       "      <td>592</td>\n",
       "      <td>176</td>\n",
       "      <td>...</td>\n",
       "      <td>125</td>\n",
       "      <td>0</td>\n",
       "      <td>16</td>\n",
       "      <td>0</td>\n",
       "      <td>4</td>\n",
       "      <td>1</td>\n",
       "      <td>0</td>\n",
       "      <td>1</td>\n",
       "      <td>0</td>\n",
       "      <td>0</td>\n",
       "    </tr>\n",
       "    <tr>\n",
       "      <th>output.STAR.PCRPlate1G4_Hypoxia_S107_Aligned.sortedByCoord.out.bam</th>\n",
       "      <td>7777</td>\n",
       "      <td>5661</td>\n",
       "      <td>4383</td>\n",
       "      <td>0</td>\n",
       "      <td>145</td>\n",
       "      <td>4618</td>\n",
       "      <td>246</td>\n",
       "      <td>85</td>\n",
       "      <td>206</td>\n",
       "      <td>0</td>\n",
       "      <td>...</td>\n",
       "      <td>268</td>\n",
       "      <td>1</td>\n",
       "      <td>25</td>\n",
       "      <td>0</td>\n",
       "      <td>0</td>\n",
       "      <td>0</td>\n",
       "      <td>0</td>\n",
       "      <td>128</td>\n",
       "      <td>0</td>\n",
       "      <td>0</td>\n",
       "    </tr>\n",
       "    <tr>\n",
       "      <th>...</th>\n",
       "      <td>...</td>\n",
       "      <td>...</td>\n",
       "      <td>...</td>\n",
       "      <td>...</td>\n",
       "      <td>...</td>\n",
       "      <td>...</td>\n",
       "      <td>...</td>\n",
       "      <td>...</td>\n",
       "      <td>...</td>\n",
       "      <td>...</td>\n",
       "      <td>...</td>\n",
       "      <td>...</td>\n",
       "      <td>...</td>\n",
       "      <td>...</td>\n",
       "      <td>...</td>\n",
       "      <td>...</td>\n",
       "      <td>...</td>\n",
       "      <td>...</td>\n",
       "      <td>...</td>\n",
       "      <td>...</td>\n",
       "      <td>...</td>\n",
       "    </tr>\n",
       "    <tr>\n",
       "      <th>output.STAR.PCRPlate4H10_Normoxia_S210_Aligned.sortedByCoord.out.bam</th>\n",
       "      <td>79</td>\n",
       "      <td>5</td>\n",
       "      <td>0</td>\n",
       "      <td>2098</td>\n",
       "      <td>554</td>\n",
       "      <td>99</td>\n",
       "      <td>798</td>\n",
       "      <td>4211</td>\n",
       "      <td>64</td>\n",
       "      <td>0</td>\n",
       "      <td>...</td>\n",
       "      <td>11</td>\n",
       "      <td>0</td>\n",
       "      <td>264</td>\n",
       "      <td>0</td>\n",
       "      <td>10</td>\n",
       "      <td>34</td>\n",
       "      <td>0</td>\n",
       "      <td>24</td>\n",
       "      <td>0</td>\n",
       "      <td>0</td>\n",
       "    </tr>\n",
       "    <tr>\n",
       "      <th>output.STAR.PCRPlate4H11_Normoxia_S214_Aligned.sortedByCoord.out.bam</th>\n",
       "      <td>167</td>\n",
       "      <td>1</td>\n",
       "      <td>0</td>\n",
       "      <td>27</td>\n",
       "      <td>3585</td>\n",
       "      <td>134</td>\n",
       "      <td>3</td>\n",
       "      <td>596</td>\n",
       "      <td>11</td>\n",
       "      <td>0</td>\n",
       "      <td>...</td>\n",
       "      <td>251</td>\n",
       "      <td>0</td>\n",
       "      <td>120</td>\n",
       "      <td>25</td>\n",
       "      <td>0</td>\n",
       "      <td>53</td>\n",
       "      <td>0</td>\n",
       "      <td>177</td>\n",
       "      <td>53</td>\n",
       "      <td>0</td>\n",
       "    </tr>\n",
       "    <tr>\n",
       "      <th>output.STAR.PCRPlate4H2_Hypoxia_S199_Aligned.sortedByCoord.out.bam</th>\n",
       "      <td>10186</td>\n",
       "      <td>3147</td>\n",
       "      <td>0</td>\n",
       "      <td>149</td>\n",
       "      <td>1012</td>\n",
       "      <td>111</td>\n",
       "      <td>716</td>\n",
       "      <td>617</td>\n",
       "      <td>744</td>\n",
       "      <td>0</td>\n",
       "      <td>...</td>\n",
       "      <td>94</td>\n",
       "      <td>0</td>\n",
       "      <td>55</td>\n",
       "      <td>0</td>\n",
       "      <td>157</td>\n",
       "      <td>43</td>\n",
       "      <td>0</td>\n",
       "      <td>113</td>\n",
       "      <td>0</td>\n",
       "      <td>0</td>\n",
       "    </tr>\n",
       "    <tr>\n",
       "      <th>output.STAR.PCRPlate4H7_Normoxia_S205_Aligned.sortedByCoord.out.bam</th>\n",
       "      <td>238</td>\n",
       "      <td>41</td>\n",
       "      <td>2867</td>\n",
       "      <td>814</td>\n",
       "      <td>2207</td>\n",
       "      <td>297</td>\n",
       "      <td>1023</td>\n",
       "      <td>2879</td>\n",
       "      <td>1</td>\n",
       "      <td>0</td>\n",
       "      <td>...</td>\n",
       "      <td>149</td>\n",
       "      <td>0</td>\n",
       "      <td>42</td>\n",
       "      <td>0</td>\n",
       "      <td>26</td>\n",
       "      <td>0</td>\n",
       "      <td>0</td>\n",
       "      <td>13</td>\n",
       "      <td>5</td>\n",
       "      <td>0</td>\n",
       "    </tr>\n",
       "    <tr>\n",
       "      <th>output.STAR.PCRPlate4H9_Normoxia_S236_Aligned.sortedByCoord.out.bam</th>\n",
       "      <td>60</td>\n",
       "      <td>0</td>\n",
       "      <td>0</td>\n",
       "      <td>7</td>\n",
       "      <td>477</td>\n",
       "      <td>10</td>\n",
       "      <td>845</td>\n",
       "      <td>1222</td>\n",
       "      <td>1</td>\n",
       "      <td>0</td>\n",
       "      <td>...</td>\n",
       "      <td>98</td>\n",
       "      <td>7</td>\n",
       "      <td>255</td>\n",
       "      <td>0</td>\n",
       "      <td>32</td>\n",
       "      <td>25</td>\n",
       "      <td>0</td>\n",
       "      <td>13</td>\n",
       "      <td>4</td>\n",
       "      <td>0</td>\n",
       "    </tr>\n",
       "  </tbody>\n",
       "</table>\n",
       "<p>182 rows × 3000 columns</p>\n",
       "</div>"
      ],
      "text/plain": [
       "                                                    DDIT4  ANGPTL4  CALML5  \\\n",
       "output.STAR.PCRPlate1G12_Normoxia_S32_Aligned.s...      0       48       0   \n",
       "output.STAR.PCRPlate1G1_Hypoxia_S102_Aligned.so...   8739     2101      55   \n",
       "output.STAR.PCRPlate1G2_Hypoxia_S2_Aligned.sort...  13098    14032       0   \n",
       "output.STAR.PCRPlate1G3_Hypoxia_S7_Aligned.sort...   2880      356       0   \n",
       "output.STAR.PCRPlate1G4_Hypoxia_S107_Aligned.so...   7777     5661    4383   \n",
       "...                                                   ...      ...     ...   \n",
       "output.STAR.PCRPlate4H10_Normoxia_S210_Aligned....     79        5       0   \n",
       "output.STAR.PCRPlate4H11_Normoxia_S214_Aligned....    167        1       0   \n",
       "output.STAR.PCRPlate4H2_Hypoxia_S199_Aligned.so...  10186     3147       0   \n",
       "output.STAR.PCRPlate4H7_Normoxia_S205_Aligned.s...    238       41    2867   \n",
       "output.STAR.PCRPlate4H9_Normoxia_S236_Aligned.s...     60        0       0   \n",
       "\n",
       "                                                    KRT14  CCNB1  IGFBP3  \\\n",
       "output.STAR.PCRPlate1G12_Normoxia_S32_Aligned.s...    321    298      82   \n",
       "output.STAR.PCRPlate1G1_Hypoxia_S102_Aligned.so...     96   1824    1938   \n",
       "output.STAR.PCRPlate1G2_Hypoxia_S2_Aligned.sort...      0   1616     247   \n",
       "output.STAR.PCRPlate1G3_Hypoxia_S7_Aligned.sort...   6211      3    3430   \n",
       "output.STAR.PCRPlate1G4_Hypoxia_S107_Aligned.so...      0    145    4618   \n",
       "...                                                   ...    ...     ...   \n",
       "output.STAR.PCRPlate4H10_Normoxia_S210_Aligned....   2098    554      99   \n",
       "output.STAR.PCRPlate4H11_Normoxia_S214_Aligned....     27   3585     134   \n",
       "output.STAR.PCRPlate4H2_Hypoxia_S199_Aligned.so...    149   1012     111   \n",
       "output.STAR.PCRPlate4H7_Normoxia_S205_Aligned.s...    814   2207     297   \n",
       "output.STAR.PCRPlate4H9_Normoxia_S236_Aligned.s...      7    477      10   \n",
       "\n",
       "                                                    AKR1C2  KRT6A  NDRG1  \\\n",
       "output.STAR.PCRPlate1G12_Normoxia_S32_Aligned.s...    6250    634      0   \n",
       "output.STAR.PCRPlate1G1_Hypoxia_S102_Aligned.so...      62      0    522   \n",
       "output.STAR.PCRPlate1G2_Hypoxia_S2_Aligned.sort...     430    907    348   \n",
       "output.STAR.PCRPlate1G3_Hypoxia_S7_Aligned.sort...      79   1953    592   \n",
       "output.STAR.PCRPlate1G4_Hypoxia_S107_Aligned.so...     246     85    206   \n",
       "...                                                    ...    ...    ...   \n",
       "output.STAR.PCRPlate4H10_Normoxia_S210_Aligned....     798   4211     64   \n",
       "output.STAR.PCRPlate4H11_Normoxia_S214_Aligned....       3    596     11   \n",
       "output.STAR.PCRPlate4H2_Hypoxia_S199_Aligned.so...     716    617    744   \n",
       "output.STAR.PCRPlate4H7_Normoxia_S205_Aligned.s...    1023   2879      1   \n",
       "output.STAR.PCRPlate4H9_Normoxia_S236_Aligned.s...     845   1222      1   \n",
       "\n",
       "                                                    KRT4  ...  MST1R  ZYG11A  \\\n",
       "output.STAR.PCRPlate1G12_Normoxia_S32_Aligned.s...     0  ...     78      10   \n",
       "output.STAR.PCRPlate1G1_Hypoxia_S102_Aligned.so...   413  ...    279       0   \n",
       "output.STAR.PCRPlate1G2_Hypoxia_S2_Aligned.sort...     0  ...    311       0   \n",
       "output.STAR.PCRPlate1G3_Hypoxia_S7_Aligned.sort...   176  ...    125       0   \n",
       "output.STAR.PCRPlate1G4_Hypoxia_S107_Aligned.so...     0  ...    268       1   \n",
       "...                                                  ...  ...    ...     ...   \n",
       "output.STAR.PCRPlate4H10_Normoxia_S210_Aligned....     0  ...     11       0   \n",
       "output.STAR.PCRPlate4H11_Normoxia_S214_Aligned....     0  ...    251       0   \n",
       "output.STAR.PCRPlate4H2_Hypoxia_S199_Aligned.so...     0  ...     94       0   \n",
       "output.STAR.PCRPlate4H7_Normoxia_S205_Aligned.s...     0  ...    149       0   \n",
       "output.STAR.PCRPlate4H9_Normoxia_S236_Aligned.s...     0  ...     98       7   \n",
       "\n",
       "                                                    NRG1  RBMS3  VCPIP1  \\\n",
       "output.STAR.PCRPlate1G12_Normoxia_S32_Aligned.s...   136      0       0   \n",
       "output.STAR.PCRPlate1G1_Hypoxia_S102_Aligned.so...   264      0     134   \n",
       "output.STAR.PCRPlate1G2_Hypoxia_S2_Aligned.sort...    38      0       0   \n",
       "output.STAR.PCRPlate1G3_Hypoxia_S7_Aligned.sort...    16      0       4   \n",
       "output.STAR.PCRPlate1G4_Hypoxia_S107_Aligned.so...    25      0       0   \n",
       "...                                                  ...    ...     ...   \n",
       "output.STAR.PCRPlate4H10_Normoxia_S210_Aligned....   264      0      10   \n",
       "output.STAR.PCRPlate4H11_Normoxia_S214_Aligned....   120     25       0   \n",
       "output.STAR.PCRPlate4H2_Hypoxia_S199_Aligned.so...    55      0     157   \n",
       "output.STAR.PCRPlate4H7_Normoxia_S205_Aligned.s...    42      0      26   \n",
       "output.STAR.PCRPlate4H9_Normoxia_S236_Aligned.s...   255      0      32   \n",
       "\n",
       "                                                    LINC02693  OR8B9P  NEAT1  \\\n",
       "output.STAR.PCRPlate1G12_Normoxia_S32_Aligned.s...         29       0     29   \n",
       "output.STAR.PCRPlate1G1_Hypoxia_S102_Aligned.so...         68       0    213   \n",
       "output.STAR.PCRPlate1G2_Hypoxia_S2_Aligned.sort...          0       0     92   \n",
       "output.STAR.PCRPlate1G3_Hypoxia_S7_Aligned.sort...          1       0      1   \n",
       "output.STAR.PCRPlate1G4_Hypoxia_S107_Aligned.so...          0       0    128   \n",
       "...                                                       ...     ...    ...   \n",
       "output.STAR.PCRPlate4H10_Normoxia_S210_Aligned....         34       0     24   \n",
       "output.STAR.PCRPlate4H11_Normoxia_S214_Aligned....         53       0    177   \n",
       "output.STAR.PCRPlate4H2_Hypoxia_S199_Aligned.so...         43       0    113   \n",
       "output.STAR.PCRPlate4H7_Normoxia_S205_Aligned.s...          0       0     13   \n",
       "output.STAR.PCRPlate4H9_Normoxia_S236_Aligned.s...         25       0     13   \n",
       "\n",
       "                                                    ZDHHC23  ODAD2  \n",
       "output.STAR.PCRPlate1G12_Normoxia_S32_Aligned.s...        0      0  \n",
       "output.STAR.PCRPlate1G1_Hypoxia_S102_Aligned.so...        0      0  \n",
       "output.STAR.PCRPlate1G2_Hypoxia_S2_Aligned.sort...        0      0  \n",
       "output.STAR.PCRPlate1G3_Hypoxia_S7_Aligned.sort...        0      0  \n",
       "output.STAR.PCRPlate1G4_Hypoxia_S107_Aligned.so...        0      0  \n",
       "...                                                     ...    ...  \n",
       "output.STAR.PCRPlate4H10_Normoxia_S210_Aligned....        0      0  \n",
       "output.STAR.PCRPlate4H11_Normoxia_S214_Aligned....       53      0  \n",
       "output.STAR.PCRPlate4H2_Hypoxia_S199_Aligned.so...        0      0  \n",
       "output.STAR.PCRPlate4H7_Normoxia_S205_Aligned.s...        5      0  \n",
       "output.STAR.PCRPlate4H9_Normoxia_S236_Aligned.s...        4      0  \n",
       "\n",
       "[182 rows x 3000 columns]"
      ]
     },
     "execution_count": 41,
     "metadata": {},
     "output_type": "execute_result"
    }
   ],
   "source": [
    "hcc_smartS_filn"
   ]
  },
  {
   "cell_type": "markdown",
   "metadata": {},
   "source": [
    "We check if the same process has been done here. We first check if the filtered one is a subset of the second."
   ]
  },
  {
   "cell_type": "code",
   "execution_count": 42,
   "metadata": {},
   "outputs": [
    {
     "name": "stdout",
     "output_type": "stream",
     "text": [
      "True\n"
     ]
    }
   ],
   "source": [
    "\n",
    "# Find the intersection of rows and columns\n",
    "common_rows = hcc_smartS_raw.index.intersection(hcc_smartS_filt.index)\n",
    "common_columns = hcc_smartS_raw.columns.intersection(hcc_smartS_filt.columns)\n",
    "\n",
    "# Create a new DataFrame based on the intersection of rows and columns\n",
    "df_inters = hcc_smartS_raw.loc[common_rows, common_columns]\n",
    "\n",
    "# Compare the shapes\n",
    "print(df_inters.shape == hcc_smartS_filt.shape)"
   ]
  },
  {
   "cell_type": "markdown",
   "metadata": {},
   "source": [
    "It is indeed true. Now we check if there are rows or columns with missing values in the raw dataset. We see that there are not. The same holds for rows or columns with just zeros."
   ]
  },
  {
   "cell_type": "code",
   "execution_count": 43,
   "metadata": {},
   "outputs": [
    {
     "name": "stdout",
     "output_type": "stream",
     "text": [
      "Shape of df_: (243, 23396)\n"
     ]
    }
   ],
   "source": [
    "# Drop rows with any missing values\n",
    "df_ = hcc_smartS_raw.dropna(axis=0, how='any')\n",
    "\n",
    "# Drop columns with any missing values\n",
    "df_ = df_.dropna(axis=1, how='any')\n",
    "\n",
    "\n",
    "# Display the resulting dataset\n",
    "print(\"Shape of df_:\", df_.shape)\n",
    "\n"
   ]
  },
  {
   "cell_type": "code",
   "execution_count": 44,
   "metadata": {},
   "outputs": [
    {
     "name": "stdout",
     "output_type": "stream",
     "text": [
      "Shape of df_nonzero: (243, 23396)\n"
     ]
    }
   ],
   "source": [
    "# Drop columns that are all zeros\n",
    "df_nonzero = hcc_smartS_raw.loc[:, (hcc_smartS_raw != 0).any(axis=0)]\n",
    "\n",
    "# Drop rows that are all zeros\n",
    "df_nonzero= df_nonzero.loc[(df_nonzero != 0).any(axis=1), :]\n",
    "\n",
    "\n",
    "# Display the resulting dataset\n",
    "print(\"Shape of df_nonzero:\", df_nonzero.shape)\n",
    "\n",
    "\n"
   ]
  },
  {
   "cell_type": "markdown",
   "metadata": {},
   "source": [
    "Now we take a look at the removed rows and removed columns."
   ]
  },
  {
   "cell_type": "code",
   "execution_count": 45,
   "metadata": {},
   "outputs": [
    {
     "name": "stdout",
     "output_type": "stream",
     "text": [
      "Rows Removed: 16\n",
      "Columns Removed: 3893\n",
      "\n",
      "Columns Removed:\n",
      "['A1CF', 'A2M', 'AACSP1', 'AADACL2', 'AANAT', 'AARD', 'ABCA13', 'ABCB4', 'ABCB5', 'ABCC6P1', 'ABCC8', 'ABT1P1', 'ACAP2-IT1', 'ACE2', 'ACHE', 'ACMSD', 'ACOT1', 'ACOT6', 'ACOX2', 'ACP3', 'ACP4', 'ACSL6', 'ACSM4', 'ACTBP6', 'ACTE1P', 'ACTG1P22', 'ACTG1P3', 'ACTL11P', 'ACTL6B', 'ACTN3', 'ACTR3-AS1', 'ACTR3P3', 'ACVR2B-AS1', 'ADA2', 'ADAM1A', 'ADAM1B', 'ADAMTS13', 'ADAMTS3', 'ADAMTS4', 'ADAMTS7P1', 'ADAMTS7P3', 'ADAMTS8', 'ADAMTS9-AS2', 'ADAMTSL4-AS2', 'ADCY2', 'ADCY5', 'ADGRD2', 'ADGRE3', 'ADGRF2', 'ADGRL4', 'ADH1B', 'ADH1C', 'ADH4', 'ADH7', 'ADI1P1', 'ADRA1B', 'ADRA2B', 'AFF3', 'AFTPH-DT', 'AGAP14P', 'AGBL1', 'AGBL1-AS1', 'AGBL5-IT1', 'AGKP1', 'AGRP', 'AHCYP2', 'AHCYP3', 'AHCYP5', 'AHSG', 'AIMP1P2', 'AIRN', 'AK6P1', 'AK6P2', 'AKAP14', 'AKAP6', 'AKIRIN1P2', 'AKIRIN2P1', 'AKR1B1P8', 'AKR1C8P', 'AKR7A2P2', 'ALDH3B2', 'ALDH8A1', 'ALDOB', 'ALG13-AS1', 'ALG14-AS1', 'ALG1L14P', 'ALG1L2', 'ALG1L7P', 'ALK', 'ALPK2', 'ALX3', 'ALX4', 'AMD1P1', 'AMD1P2', 'AMT', 'AMTN', 'ANAPC1P6', 'ANGPT4', 'ANGPTL1', 'ANGPTL2', 'ANGPTL3', 'ANGPTL7', 'ANHX', 'ANKK1', 'ANKLE1', 'ANKRD11P2', 'ANKRD18CP', 'ANKRD18DP', 'ANKRD20A10P', 'ANKRD20A17P', 'ANKRD24', 'ANKRD26P1', 'ANKRD30B', 'ANKRD33', 'ANKRD36BP2', 'ANKRD45', 'ANKRD49P1', 'ANKRD49P2', 'ANKRD61', 'ANKRD62', 'ANKRD62P1-PARP4P3', 'ANKRD63', 'ANO2', 'ANO3', 'ANP32BP3', 'AOC3', 'AOX2P', 'AOX3P', 'AP1AR-DT', 'AP1M2P1', 'AP3B2', 'APCDD1', 'APLNR', 'APOA1-AS', 'APOC1P1', 'APP-DT', 'AQP7', 'AQP9', 'ARF1P1', 'ARF4P2', 'ARHGAP15', 'ARHGAP27P2', 'ARHGAP30', 'ARHGAP42P5', 'ARHGAP6', 'ARHGEF18-AS1', 'ARHGEF2-AS2', 'ARHGEF25', 'ARL2BPP10', 'ARL2BPP3', 'ARL5AP2', 'ARL5AP5', 'ARLNC1', 'ARMC3', 'ARMC8P1', 'ARMCX4', 'ARMH1', 'ARMH2', 'ARPC1BP1', 'ARPP19P1', 'ARPP19P2', 'ARSH', 'ASAH2', 'ASGR1', 'ASIC4', 'ASIC5', 'ASIP', 'ASNSP4', 'ASPDH', 'ASPG', 'ASPN', 'ASPRV1', 'ASS1P1', 'ASS1P13', 'ASS1P14', 'ASS1P2', 'ASS1P3', 'ASS1P4', 'ASS1P7', 'ASS1P9', 'ASTN2', 'ATG12P2', 'ATP10B', 'ATP11A-AS1', 'ATP1A2', 'ATP1A4', 'ATP2B2', 'ATP2B3', 'ATP4A', 'ATP5F1AP8', 'ATP5MC1P7', 'ATP5MFP4', 'ATP5MFP6', 'ATP5MGP7', 'ATP5MGP8', 'ATP5PBP1', 'ATP5PBP2', 'ATP6V0D2', 'ATP6V0E1P3', 'ATP6V1E1P2', 'AZGP1', 'B3GALNT1P1', 'B3GAT1-DT', 'BAALC', 'BAAT', 'BACH1-AS1', 'BACH1-IT2', 'BANF1P1', 'BATF2', 'BBOX1-AS1', 'BBS7-DT', 'BCAR1P1', 'BCAR1P2', 'BCAR4', 'BCAS1', 'BCL2A1', 'BCL2L1-AS1', 'BCL2L14', 'BCL6B', 'BCO1', 'BCRP2', 'BCYRN1', 'BDP1P', 'BEAN1', 'BECN2', 'BEND2', 'BEND4', 'BEST2', 'BEST4', 'BET1P1', 'BEX1', 'BHMT', 'BMF', 'BMF-AS1', 'BMP2KL', 'BMP5', 'BMPER', 'BMPR1AP2', 'BMPR1B-DT', 'BMS1P11', 'BMS1P13', 'BMS1P7', 'BNC2', 'BNIP3P17', 'BNIP3P37', 'BNIP5', 'BNIPL', 'BOLA2P3', 'BOLA3P2', 'BOLA3P4', 'BPIFB9P', 'BRCA1P1', 'BRD7P3', 'BRK1P1', 'BRWD1-IT1', 'BRWD1P1', 'BRWD1P2', 'BSN', 'BTBD6P1', 'BTF3P2', 'BTG4', 'BTK', 'BTLA', 'BTN1A1', 'BTNL9', 'BVES-AS1', 'C10orf105', 'C11orf16', 'C11orf42', 'C11orf96', 'C12orf42', 'C12orf50', 'C12orf54', 'C13orf46', 'C15orf48', 'C16orf54', 'C16orf96', 'C17orf107', 'C17orf50', 'C17orf78', 'C18orf63', 'C19orf38', 'C1DP3', 'C1GALT1P2', 'C1orf105', 'C1orf162', 'C1orf194', 'C1orf21-DT', 'C2-AS1', 'C20orf141', 'C20orf203', 'C21orf62', 'C22orf31', 'C22orf42', 'C2CD4B', 'C2CD4C', 'C2CD4D-AS1', 'C3P1', 'C3orf20', 'C3orf35', 'C3orf49', 'C3orf70', 'C4A', 'C4orf45', 'C4orf50', 'C4orf51', 'C5orf46', 'C5orf52', 'C6', 'C6orf58', 'C7orf77', 'C8orf74', 'C8orf86', 'C9orf129', 'C9orf131', 'C9orf135', 'C9orf152', 'C9orf57', 'CA3', 'CA3-AS1', 'CAB39P1', 'CABP4', 'CACNA1C', 'CACNA1D', 'CACNA1F', 'CACNA1G', 'CACNA1G-AS1', 'CACNA1H', 'CACNB4', 'CADPS', 'CALML3', 'CALML3-AS1', 'CALR4P', 'CAMK1G', 'CAMTA1-IT1', 'CAP2P1', 'CAPN3', 'CARD17', 'CARMAL', 'CARMN', 'CARS1P2', 'CASC17', 'CASP16P', 'CASP1P2', 'CASP3P1', 'CASP4LP', 'CASQ2', 'CATIP-AS2', 'CATSPER2', 'CATSPERD', 'CBLIF', 'CBLN1', 'CBLN2', 'CBR4-DT', 'CBSL', 'CBX3P3', 'CBX5P1', 'CBY2', 'CBY3', 'CCDC13', 'CCDC162P', 'CCDC170', 'CCDC184', 'CCDC187', 'CCDC196', 'CCDC201', 'CCDC3', 'CCDC33', 'CCDC39-AS1', 'CCDC81', 'CCDC89', 'CCDC92B', 'CCIN', 'CCKBR', 'CCL22', 'CCL3L1', 'CCL3L3', 'CCL5', 'CCM2L', 'CCN5', 'CCND2', 'CCND2-AS1', 'CCND3P1', 'CCNI2', 'CCNJP1', 'CCNJP2', 'CCNQP2', 'CCNYL5', 'CCR4', 'CCR6', 'CCR7', 'CD177', 'CD209', 'CD226', 'CD300A', 'CD33', 'CD34', 'CD3G', 'CD53', 'CD79A', 'CDC27P3', 'CDC42-IT1', 'CDC42P1', 'CDC42P3', 'CDC42P4', 'CDH11', 'CDH19', 'CDH20', 'CDH22', 'CDHR5', 'CDK5P1', 'CDRT15', 'CDRT15P1', 'CDV3P1', 'CDYL-AS1', 'CEACAM3', 'CEACAM7', 'CEACAM8', 'CEACAMP11', 'CEBPA-DT', 'CELA2B', 'CELA3A', 'CELF2-AS2', 'CELF4', 'CENPNP1', 'CERNA2', 'CES1P2', 'CES3', 'CES5A', 'CETP', 'CFAP161', 'CFAP299', 'CFAP418-AS1', 'CFAP44-AS1', 'CFAP47', 'CFAP53P1', 'CFAP58', 'CFAP58-DT', 'CFAP77', 'CFAP91', 'CFHR1', 'CFL1P7', 'CGB1', 'CGB5', 'CGNL1', 'CHCHD4P3', 'CHD5', 'CHGB', 'CHKA-DT', 'CHMP4BP1', 'CHODL', 'CHP2', 'CHRFAM7A', 'CHRM3-AS2', 'CHRM5', 'CHRNA10', 'CHRNA4', 'CHRNA7', 'CHRNA9', 'CHRNB4', 'CHST5', 'CHST6', 'CHST8', 'CHSY3', 'CHTF8P1', 'CIB4', 'CIBAR1P2', 'CICP19', 'CICP3', 'CILP', 'CIR1P1', 'CIR1P3', 'CISD1P1', 'CITED1', 'CKS1BP2', 'CKS1BP3', 'CKS1BP6', 'CLCA4-AS1', 'CLCN1', 'CLCNKA', 'CLDN18', 'CLDN20', 'CLEC18A', 'CLEC18B', 'CLIC5', 'CLPSL2', 'CMTM2', 'CNDP1', 'CNGB1', 'CNN1', 'CNN2P1', 'CNN2P3', 'CNN2P6', 'CNN2P8', 'CNNM3-DT', 'CNOT7P2', 'CNPY1', 'CNTF', 'CNTN2', 'CNTNAP5', 'COL10A1', 'COL14A1', 'COL20A1', 'COL24A1', 'COL25A1', 'COL2A1', 'COL3A1', 'COL5A1-AS1', 'COLEC11', 'COLEC12', 'COLQ', 'COMP', 'COTL1P1', 'COTL1P2', 'COX5BP4', 'COX6B1P5', 'COX7A2P1', 'COX7BP2', 'CPA5', 'CPEB1', 'CPS1', 'CPT1C', 'CPXCR1', 'CR2', 'CRABP1', 'CRCT1', 'CRHR2', 'CRIP1P4', 'CRLF3P1', 'CRLF3P2', 'CROCC2', 'CROCCP1', 'CRX', 'CRYBB3', 'CRYM', 'CRYZP1', 'CSE1L-AS1', 'CSF1R', 'CSF3R', 'CSGALNACT2P1', 'CSMD2-AS1', 'CSNK1A1P3', 'CSNK1G2P1', 'CSPG4P11', 'CSPG4P12', 'CST11', 'CST13P', 'CST8', 'CT45A3', 'CT55', 'CTAG1A', 'CTAGE12P', 'CTAGE13P', 'CTAGE16P', 'CTAGE7P', 'CTBP2P6', 'CTBP2P7', 'CTCF-DT', 'CTCFL', 'CTNNA1-AS1', 'CTNND2', 'CTRB1', 'CTRB2', 'CTRC', 'CTSL3P', 'CTSLP1', 'CTXND1', 'CUBNP2', 'CUX2', 'CWH43', 'CXADRP2', 'CXCL11', 'CXCL14', 'CXCL5', 'CXCR2', 'CXCR2P1', 'CXCR4', 'CXXC1P1', 'CYCSP20', 'CYCSP26', 'CYCSP34', 'CYCSP4', 'CYCSP46', 'CYCSP52', 'CYGB', 'CYMP', 'CYMP-AS1', 'CYP1A1', 'CYP26A1', 'CYP2AC1P', 'CYP2C18', 'CYP2C8', 'CYP2D6', 'CYP2D7', 'CYP2D8P', 'CYP2E1', 'CYP2W1', 'CYP46A1', 'CYP4A22-AS1', 'CYP4Z1', 'CYP51A1P3', 'CYP8B1', 'CYYR1-AS1', 'CZIB-DT', 'DAAM2', 'DACT1', 'DACT3-AS1', 'DAP3P1', 'DBIL5P2', 'DCAF8L2', 'DCC', 'DCHS1', 'DCN', 'DCST2', 'DCT', 'DCX', 'DDIT4L-AS1', 'DDN', 'DDR2', 'DDX10P1', 'DDX18P1', 'DDX18P3', 'DDX25', 'DDX3Y', 'DDX4', 'DDX43', 'DDX43P3', 'DEFB133', 'DENND6A-DT', 'DFFBP1', 'DGKK', 'DHH', 'DIO1', 'DIO3', 'DIP2C-AS1', 'DIRAS3', 'DIRC3', 'DISC1-IT1', 'DISC1FP1', 'DISP3', 'DKKL1', 'DLGAP2', 'DMBT1', 'DMRT2', 'DMXL1-DT', 'DNAAF6', 'DNAH12', 'DNAH6', 'DNAH8-AS1', 'DNAH9', 'DNAI1', 'DNAJA1P2', 'DNAJA2-DT', 'DNAJB12P1', 'DNAJB6P4', 'DNAJB6P7', 'DNAJC19P6', 'DNAJC19P7', 'DNAJC5G', 'DNASE1L2', 'DNASE1L3', 'DNM1P46', 'DOC2B', 'DOCK11', 'DOCK9-DT', 'DOK6', 'DPEP2', 'DPP3P2', 'DPP6', 'DPPA2P3', 'DPRXP1', 'DPRXP4', 'DPY19L1P2', 'DPY19L4P1', 'DRAXIN', 'DRD1', 'DRGX', 'DSC1', 'DSCAS', 'DST-AS1', 'DSTNP4', 'DTNA', 'DUOX2', 'DUSP15', 'DUSP26', 'DUSP29', 'DUTP1', 'DUTP2', 'DUTP5', 'DUX4L19', 'DUX4L32', 'DYNLL1P4', 'DYNLL2-DT', 'DYNLRB2', 'DYNLRB2-AS1', 'DYNLT3P1', 'E2F3-IT1', 'E2F5-DT', 'EBF1', 'EBF4', 'ECE1-AS1', 'ECE2', 'ECI2-DT', 'ECT2L', 'EDA', 'EDAR', 'EEDP1', 'EEF1A1P15', 'EEF1A1P2', 'EEF1A1P30', 'EEF1A1P32', 'EEF1A1P33', 'EEF1B2P7', 'EEF1DP4', 'EEF1DP7', 'EEF1DP8', 'EEF1GP1', 'EEF1GP3', 'EEF1GP8', 'EFCC1', 'EFL1P1', 'EFR3B', 'EFS', 'EGR2', 'EI24P4', 'EIF1P1', 'EIF1P4', 'EIF1P6', 'EIF2S2P5', 'EIF3FP1', 'EIF3KP2', 'EIF3KP3', 'EIF4A1P11', 'EIF4A1P8', 'EIF4A2P2', 'EIF4BP2', 'EIF4BP8', 'EIF4EBP2P3', 'EIF4EP3', 'EIF5A2P1', 'EIPR1-IT1', 'ELF2P3', 'ELF5', 'ELN', 'ELOCP28', 'ELOCP31', 'ELOVL2-AS1', 'ELOVL3', 'ENDOU', 'ENOX1', 'ENPP7', 'ENPP7P10', 'ENPP7P5', 'ENPP7P8', 'ENTPD4-DT', 'ENTPD8', 'ENTR1P1', 'EPHA3', 'EPHA5', 'EPHA5-AS1', 'EPHA8', 'EPHX3', 'EPN2-AS1', 'EPO', 'EPX', 'EQTN', 'ERC2', 'ERG', 'ERICD', 'ERICH2', 'ERICH3-AS1', 'ESPNL', 'ESRRAP1', 'ESRRG', 'ETNK1-DT', 'ETS2P1', 'ETV5-AS1', 'ETV7-AS1', 'EVPLL', 'EWSAT1', 'EXOC3L2', 'EXTL1', 'EYA1', 'FABP5P10', 'FABP5P12', 'FABP5P8', 'FABP6-AS1', 'FABP7', 'FALEC', 'FAM110B', 'FAM110D', 'FAM124A', 'FAM124B', 'FAM133EP', 'FAM133FP', 'FAM135A-AS1', 'FAM149B1P1', 'FAM153A', 'FAM153B', 'FAM163A', 'FAM167B', 'FAM169B', 'FAM174A-DT', 'FAM182A', 'FAM184A', 'FAM186A', 'FAM187B2P', 'FAM189A2', 'FAM201B', 'FAM204DP', 'FAM20A', 'FAM215B', 'FAM220BP', 'FAM220CP', 'FAM225A', 'FAM225B', 'FAM237B', 'FAM242C', 'FAM25C', 'FAM25E', 'FAM25G', 'FAM27E3', 'FAM30A', 'FAM32BP', 'FAM3D-AS1', 'FAM41C', 'FAM43B', 'FAM66C', 'FAM71E2', 'FAM71F1', 'FAM78A', 'FAM81B', 'FAM83C', 'FAM83C-AS1', 'FAM85B', 'FAP', 'FAR1-IT1', 'FAR2P1', 'FAR2P2', 'FARSBP1', 'FAT3', 'FBLIM1P2', 'FBLL1', 'FBLN7', 'FBN1-DT', 'FBN3', 'FBXO15', 'FBXO24', 'FBXO3-DT', 'FBXO38-DT', 'FBXO39', 'FBXO47', 'FBXW10', 'FCF1P1', 'FCF1P7', 'FCGR1A', 'FCGR2A', 'FCN3', 'FCRL5', 'FDPSP2', 'FDX1P1', 'FETUB', 'FFAR4', 'FGF12-AS2', 'FGF14-AS2', 'FGF18', 'FGF22', 'FGF9', 'FGFBP2', 'FIGNL2', 'FITM1', 'FKBP1AP3', 'FKBP1AP4', 'FLACC1', 'FLG2', 'FLT1', 'FLT3', 'FMO3', 'FNTAP2', 'FOCAD-AS1', 'FOLH1', 'FOLR1', 'FOXE3', 'FOXN1', 'FOXN3P1', 'FOXP1-IT1', 'FOXP2', 'FPR1', 'FREM1', 'FREM2', 'FRG1-DT', 'FRG2', 'FRG2B', 'FRG2JP', 'FRRS1L', 'FRZB', 'FSIP2-AS2', 'FTCD', 'FTH1P24', 'FTH1P25', 'FTLP17', 'FTLP19', 'FUT5', 'FZD10-AS1', 'GAB3', 'GABRB1', 'GABRP', 'GABRR2', 'GACAT2', 'GAGE1', 'GAL3ST1', 'GAL3ST3', 'GALNT16', 'GALNT9', 'GALNTL5', 'GAPDH-DT', 'GAPDHP22', 'GAPDHP26', 'GAPDHP30', 'GAPDHP39', 'GAPDHP41', 'GAPDHP45', 'GAPDHP47', 'GAPDHP51', 'GAPDHP76', 'GAPLINC', 'GAS1', 'GAS8-AS1', 'GAST', 'GBP1P1', 'GBP4', 'GBP5', 'GCGR', 'GCK', 'GCM1', 'GCNT1P4', 'GCNT2P1', 'GCNT3', 'GCSAML', 'GDAP1L1', 'GDF5', 'GDF6', 'GDF7', 'GDNF', 'GDNF-AS1', 'GEMIN2P2', 'GFRA3', 'GGTLC1', 'GHSR', 'GIMAP4', 'GIMAP5', 'GIPC3', 'GJA1P1', 'GJC2', 'GJD4', 'GKN1', 'GKN2', 'GLI3', 'GLIS2-AS1', 'GLIS3', 'GLP2R', 'GLRX5P1', 'GLRXP1', 'GLYAT', 'GLYATL3', 'GMFG', 'GNA14', 'GNAI2P1', 'GNAO1', 'GNAS-AS1', 'GNG2', 'GNG3', 'GNG5P3', 'GNRH1', 'GNRHR2P1', 'GOLGA5P1', 'GOLGA6L17P', 'GOLGA6L4', 'GOLGA6L5P', 'GOLGA8H', 'GORAB-AS1', 'GOT2P6', 'GPA33', 'GPAT2P2', 'GPATCH11P1', 'GPBAR1', 'GPM6A', 'GPR137C', 'GPR143', 'GPR150', 'GPR179', 'GPR18', 'GPR183', 'GPR199P', 'GPR27', 'GPR35', 'GPR82', 'GPR83', 'GPS2P2', 'GPT', 'GRAMD4P3', 'GRASLND', 'GREB1', 'GREB1L-DT', 'GREP1', 'GRHL3-AS1', 'GRIA1', 'GRIA4', 'GRID1', 'GRIK1', 'GRIK4', 'GRIN1', 'GRIN2A', 'GRIP1', 'GRM1', 'GRM2', 'GRM3', 'GRM7', 'GRM7-AS3', 'GRPEL2P2', 'GRXCR2', 'GSDMA', 'GSG1', 'GSTA8P', 'GSTM1', 'GSTM3P2', 'GTF2IP5', 'GTF2IP7', 'GTF2IP9', 'GTF2IRD2P1', 'GTF3C6P1', 'GTSE1-DT', 'GYG2P1', 'H1-6', 'H2AZP5', 'H2AZP6', 'H2BP2', 'H2BP6', 'H2BU2P', 'H3P25', 'H3P31', 'H3P39', 'H3P41', 'H3P43', 'H3P7', 'H3P9', 'H4C10P', 'H4C15', 'HAL', 'HAND2', 'HAND2-AS1', 'HAUS1P2', 'HAUS6P3', 'HBZ', 'HCN1', 'HDAC1P1', 'HDAC2-AS2', 'HDAC9-AS1', 'HEATR6-DT', 'HEATR9', 'HERC2P6', 'HESX1', 'HEYL', 'HFM1', 'HGD', 'HGF', 'HHIPL2', 'HHLA1', 'HIGD1AP10', 'HIGD1AP11', 'HIGD1AP12', 'HIGD1AP16', 'HIGD1AP6', 'HIGD2AP2', 'HIGD2B', 'HLA-DMB', 'HLA-P', 'HLA-Z', 'HMCN2', 'HMGB1P13', 'HMGB1P15', 'HMGB1P28', 'HMGB1P32', 'HMGB1P36', 'HMGB1P38', 'HMGB1P41', 'HMGB1P46', 'HMGB1P48', 'HMGB1P50', 'HMGB3P11', 'HMGB3P22', 'HMGB3P8', 'HMGCLL1', 'HMGN1P1', 'HMGN1P28', 'HMGN1P30', 'HMGN1P8', 'HMGN2P30', 'HMGN2P35', 'HMGN2P38', 'HMGN2P47', 'HMGN2P9', 'HMX2', 'HNF1A-AS1', 'HNF4A-AS1', 'HNRNPA1P1', 'HNRNPA1P12', 'HNRNPA1P13', 'HNRNPA1P15', 'HNRNPA1P19', 'HNRNPA1P20', 'HNRNPA1P21', 'HNRNPA1P22', 'HNRNPA1P23', 'HNRNPA1P25', 'HNRNPA1P28', 'HNRNPA1P33', 'HNRNPA1P36', 'HNRNPA1P37', 'HNRNPA1P38', 'HNRNPA1P40', 'HNRNPA1P41', 'HNRNPA1P44', 'HNRNPA1P5', 'HNRNPA1P50', 'HNRNPA1P59', 'HNRNPA1P60', 'HNRNPA1P64', 'HNRNPA1P68', 'HNRNPA1P76', 'HNRNPA3P11', 'HNRNPA3P12', 'HNRNPA3P8', 'HNRNPA3P9', 'HNRNPCL3', 'HNRNPCP10', 'HNRNPCP9', 'HNRNPH1P1', 'HNRNPH1P2', 'HNRNPKP3', 'HOMER2P2', 'HOXB4', 'HOXD8', 'HP', 'HPN-AS1', 'HPRT1P1', 'HPX', 'HRC', 'HRCT1', 'HRH4', 'HS3ST2', 'HSD17B14', 'HSD17B3-AS1', 'HSD17B4', 'HSFX4', 'HSPA8P18', 'HSPA8P6', 'HSPB9', 'HSPD1P10', 'HSPD1P16', 'HSPD1P9', 'HSPE1P11', 'HSPE1P26', 'HSPE1P27', 'HTRA4', 'HUNK', 'HYAL1', 'IBA57-DT', 'ICAM4', 'ICE2P2', 'IDO2', 'IFIT1P1', 'IFITM4P', 'IFNK', 'IGDCC3', 'IGDCC4', 'IGFALS', 'IGFBP5', 'IGFL1P1', 'IGFN1', 'IGHE', 'IGHEP2', 'IGHV1-3', 'IGHV1-58', 'IGHV1-69-2', 'IGHV3-30', 'IGHV3-33', 'IGHV3-37', 'IGHV3-42', 'IGHV3-65', 'IGHV3-66', 'IGHV3OR16-11', 'IGHV7-34-1', 'IGHVII-46-1', 'IGIP', 'IGKV1OR2-108', 'IGSF11', 'IGSF22', 'IGSF22-AS1', 'IGSF23', 'IGSF6', 'IHH', 'IKBKGP1', 'IKZF1', 'IL10', 'IL10RA', 'IL20', 'IL36RN', 'IL3RA', 'IL5', 'IL5RA', 'IL6', 'IL9RP3', 'ILDR2', 'ILF2P2', 'ILVBL-AS1', 'IMMP1LP1', 'IMMP1LP2', 'IMPDH1P11', 'IMPDH1P4', 'INGX', 'INPP5J', 'INS-IGF2', 'INSL3', 'INSL6', 'INTS4P1', 'INTS4P2', 'IPMKP1', 'IPO7P2', 'IQCM', 'IQCN', 'IRAG1', 'IRAG1-AS1', 'IRAG2', 'ISCA1P2', 'ISLR2', 'ISM1', 'ITCH-AS1', 'ITCH-IT1', 'ITGA10', 'ITGA11', 'ITGA8', 'ITGAX', 'ITIH5', 'ITM2BP1', 'ITPK1-AS1', 'ITPK1P1', 'ITPRIP-AS1', 'IZUMO2', 'JAM2', 'JAML', 'JPH4', 'JTBP1', 'KANK4', 'KANSL1L-AS1', 'KARS1P3', 'KASH5', 'KBTBD11-AS1', 'KCNA4', 'KCNA7', 'KCNC1', 'KCNC2', 'KCND1', 'KCND2', 'KCNE2', 'KCNE4', 'KCNE5', 'KCNF1', 'KCNG3', 'KCNG4', 'KCNH1', 'KCNH4', 'KCNH7', 'KCNJ16', 'KCNJ2-AS1', 'KCNJ3', 'KCNK13', 'KCNK15', 'KCNK4', 'KCNK7', 'KCNMB2', 'KCNN1', 'KCNN2', 'KCNQ3', 'KCNQ4', 'KCNS2', 'KCNT2', 'KCNV1', 'KCTD16', 'KCTD19', 'KCTD5P1', 'KCTD9', 'KDM5C-IT1', 'KIAA0087', 'KIAA0408', 'KIAA0895LP1', 'KIAA1143P2', 'KIAA2012', 'KIF19BP', 'KIF26A-DT', 'KIF5C', 'KIRREL2', 'KL', 'KLB', 'KLF1', 'KLF2-DT', 'KLF2P2', 'KLHDC1', 'KLHDC7B-DT', 'KLHL3', 'KLHL30', 'KLHL32', 'KLHL33', 'KLHL4', 'KLHL6-AS1', 'KLK12', 'KLK13', 'KLK14', 'KLK9', 'KLKP1', 'KLRC1', 'KLRC2', 'KLRC3', 'KLRC4', 'KLRD1', 'KLRG1', 'KRT12', 'KRT125P', 'KRT126P', 'KRT17P4', 'KRT17P5', 'KRT18P44', 'KRT18P47', 'KRT18P9', 'KRT24', 'KRT33A', 'KRT36', 'KRT37', 'KRT40', 'KRT42P', 'KRT71', 'KRT72', 'KRT73', 'KRT74', 'KRT77', 'KRT82', 'KRT83', 'KRT84', 'KRT85', 'KRT8P22', 'KRT8P34', 'KRT8P38', 'KRT8P4', 'KRT8P40', 'KRT8P44', 'KRT8P52', 'KRTAP1-5', 'KRTAP19-1', 'KRTAP4-7', 'KRTAP4-8', 'KRTAP4-9', 'KRTAP5-1', 'KRTAP5-10', 'KRTAP5-2', 'KRTAP5-AS1', 'KRTAP9-12P', 'KRTAP9-6', 'KRTDAP', 'LAG3', 'LAMB2P1', 'LAMB4', 'LAMTOR3P1', 'LAPTM4A-DT', 'LARGE-AS1', 'LARS2-AS1', 'LAX1', 'LBX1', 'LCE5A', 'LCMT1-AS2', 'LCN12', 'LCP2', 'LDB3', 'LDHAL6A', 'LDHAL6B', 'LDHAL6CP', 'LDHD', 'LDLRAD1', 'LDLRAD4', 'LEP', 'LETM1P2', 'LEXM', 'LGALS2', 'LGALS4', 'LGALS7', 'LGALS7B', 'LGALSL-DT', 'LGI1', 'LGI2', 'LHB', 'LHFPL3-AS2', 'LHX3', 'LIF-AS1', 'LILRA6', 'LILRB2', 'LILRB4', 'LILRB5', 'LILRP2', 'LIMS1-AS1', 'LIMS3', 'LIMS4', 'LIN28B-AS1', 'LINC00092', 'LINC00102', 'LINC00113', 'LINC00163', 'LINC00189', 'LINC00226', 'LINC00276', 'LINC00309', 'LINC00311', 'LINC00313', 'LINC00314', 'LINC00323', 'LINC00326', 'LINC00327', 'LINC00345', 'LINC00350', 'LINC00352', 'LINC00365', 'LINC00370', 'LINC00384', 'LINC00392', 'LINC00458', 'LINC00475', 'LINC00491', 'LINC00501', 'LINC00519', 'LINC00524', 'LINC00525', 'LINC00528', 'LINC00536', 'LINC00547', 'LINC00563', 'LINC00565', 'LINC00589', 'LINC00592', 'LINC00607', 'LINC00612', 'LINC00616', 'LINC00620', 'LINC00621', 'LINC00629', 'LINC00652', 'LINC00656', 'LINC00661', 'LINC00665', 'LINC00677', 'LINC00683', 'LINC00686', 'LINC00687', 'LINC00691', 'LINC00705', 'LINC00706', 'LINC00824', 'LINC00840', 'LINC00852', 'LINC00867', 'LINC00881', 'LINC00907', 'LINC00957', 'LINC00958', 'LINC00974', 'LINC00997', 'LINC01010', 'LINC01013', 'LINC01015', 'LINC01019', 'LINC01031', 'LINC01058', 'LINC01068', 'LINC01091', 'LINC01097', 'LINC01099', 'LINC01106', 'LINC01111', 'LINC01126', 'LINC01132', 'LINC01140', 'LINC01141', 'LINC01143', 'LINC01144', 'LINC01151', 'LINC01160', 'LINC01162', 'LINC01166', 'LINC01167', 'LINC01168', 'LINC01179', 'LINC01185', 'LINC01189', 'LINC01191', 'LINC01192', 'LINC01193', 'LINC01214', 'LINC01237', 'LINC01242', 'LINC01247', 'LINC01251', 'LINC01257', 'LINC01277', 'LINC01288', 'LINC01290', 'LINC01300', 'LINC01303', 'LINC01320', 'LINC01338', 'LINC01359', 'LINC01361', 'LINC01389', 'LINC01393', 'LINC01394', 'LINC01399', 'LINC01411', 'LINC01414', 'LINC01424', 'LINC01427', 'LINC01433', 'LINC01449', 'LINC01450', 'LINC01473', 'LINC01492', 'LINC01500', 'LINC01508', 'LINC01511', 'LINC01518', 'LINC01531', 'LINC01538', 'LINC01550', 'LINC01554', 'LINC01555', 'LINC01574', 'LINC01580', 'LINC01587', 'LINC01609', 'LINC01623', 'LINC01647', 'LINC01655', 'LINC01671', 'LINC01675', 'LINC01691', 'LINC01694', 'LINC01721', 'LINC01722', 'LINC01731', 'LINC01732', 'LINC01756', 'LINC01762', 'LINC01765', 'LINC01770', 'LINC01775', 'LINC01783', 'LINC01786', 'LINC01792', 'LINC01794', 'LINC01814', 'LINC01902', 'LINC01909', 'LINC01910', 'LINC01917', 'LINC01927', 'LINC01933', 'LINC01934', 'LINC01941', 'LINC01947', 'LINC01948', 'LINC01950', 'LINC01962', 'LINC01963', 'LINC01971', 'LINC01972', 'LINC01973', 'LINC01977', 'LINC01985', 'LINC01998', 'LINC02002', 'LINC02004', 'LINC02006', 'LINC02012', 'LINC02014', 'LINC02015', 'LINC02019', 'LINC02021', 'LINC02028', 'LINC02031', 'LINC02035', 'LINC02043', 'LINC02044', 'LINC02053', 'LINC02056', 'LINC02057', 'LINC02067', 'LINC02071', 'LINC02073', 'LINC02080', 'LINC02090', 'LINC02097', 'LINC02102', 'LINC02103', 'LINC02108', 'LINC02144', 'LINC02148', 'LINC02158', 'LINC02159', 'LINC02182', 'LINC02193', 'LINC02206', 'LINC02207', 'LINC02226', 'LINC02253', 'LINC02280', 'LINC02288', 'LINC02293', 'LINC02310', 'LINC02316', 'LINC02322', 'LINC02354', 'LINC02356', 'LINC02360', 'LINC02363', 'LINC02373', 'LINC02376', 'LINC02395', 'LINC02413', 'LINC02418', 'LINC02432', 'LINC02436', 'LINC02447', 'LINC02453', 'LINC02457', 'LINC02462', 'LINC02473', 'LINC02481', 'LINC02501', 'LINC02509', 'LINC02519', 'LINC02521', 'LINC02522', 'LINC02530', 'LINC02542', 'LINC02544', 'LINC02576', 'LINC02579', 'LINC02584', 'LINC02585', 'LINC02586', 'LINC02593', 'LINC02598', 'LINC02601', 'LINC02606', 'LINC02610', 'LINC02625', 'LINC02641', 'LINC02652', 'LINC02653', 'LINC02663', 'LINC02666', 'LINC02669', 'LINC02680', 'LINC02688', 'LINC02699', 'LINC02710', 'LINC02724', 'LINC02728', 'LINC02731', 'LINC02736', 'LINC02739', 'LINC02757', 'LINC02763', 'LINC02768', 'LINC02771', 'LINC02779', 'LINC02780', 'LINC02804', 'LINC02809', 'LINC02811', 'LINC02814', 'LINC02827', 'LINC02831', 'LINC02833', 'LINC02846', 'LINC02860', 'LINC02861', 'LINC02868', 'LINC02869', 'LINC02872', 'LINC02875', 'LINC02888', 'LINC02889', 'LINC02895', 'LINC02897', 'LINC02915', 'LINGO1', 'LIPC', 'LIPI', 'LIPJ', 'LIPK', 'LLPHP2', 'LMCD1-AS1', 'LMNTD1', 'LMOD3', 'LNCPRESS2', 'LNCSRLR', 'LONRF2', 'LPL', 'LRCH2', 'LRGUK', 'LRP2', 'LRRC10B', 'LRRC15', 'LRRC19', 'LRRC25', 'LRRC29', 'LRRC31', 'LRRC32', 'LRRC34', 'LRRC37A6P', 'LRRC4', 'LRRC52-AS1', 'LRRC63', 'LRRC70', 'LRRC71', 'LRRC74B', 'LRRK2-DT', 'LRRN1', 'LRRN2', 'LRRN3', 'LRRN4CL', 'LRRTM3', 'LSP1', 'LSP1P1', 'LTA', 'LTB', 'LTK', 'LUNAR1', 'LY86-AS1', 'LY9', 'LYL1', 'LYPD2', 'LYPD9P', 'LZTS1', 'MAB21L2', 'MACC1-AS1', 'MAD2L1-DT', 'MAGEC1', 'MAGEE1', 'MAGI1', 'MAGOH2P', 'MAL', 'MAN2A1-DT', 'MANSC4', 'MAP3K5-AS1', 'MAPK6P4', 'MAPK8IP1P1', 'MAPRE3-AS1', 'MAPT-AS1', 'MARCHF10', 'MARCOL', 'MARK2P11', 'MARK2P9', 'MATR3P1', 'MBL3P', 'MBOAT4', 'MCF2', 'MDH1P2', 'MDM4P1', 'ME2P1', 'MECOM-AS1', 'MED15P4', 'MED28P3', 'MED28P7', 'MEI1', 'MEOX1', 'MEP1A', 'MERTK', 'MESTIT1', 'METTL14-DT', 'METTL7B', 'METTL8P1', 'MEX3B', 'MFFP3', 'MFNG', 'MFSD1P1', 'MGAM', 'MGAT3', 'MGAT4EP', 'MICC', 'MICD', 'MICG', 'MIPEPP1', 'MIR1-1HG-AS1', 'MIR1-2', 'MIR106B', 'MIR10B', 'MIR1228', 'MIR125B1', 'MIR1279', 'MIR1281', 'MIR1302-9HG', 'MIR132', 'MIR1343', 'MIR138-1', 'MIR141', 'MIR1469', 'MIR186', 'MIR1908', 'MIR191', 'MIR1910', 'MIR194-2HG', 'MIR1972-1', 'MIR19B1', 'MIR210', 'MIR2116', 'MIR2117', 'MIR215', 'MIR218-1', 'MIR219A1', 'MIR222', 'MIR2355', 'MIR26A1', 'MIR26A2', 'MIR2861', 'MIR29B2', 'MIR29C', 'MIR301B', 'MIR31', 'MIR3115', 'MIR3122', 'MIR3128', 'MIR3144', 'MIR3164', 'MIR3165', 'MIR3175', 'MIR3176', 'MIR3181', 'MIR3187', 'MIR3198-1', 'MIR32', 'MIR320A', 'MIR320C1', 'MIR320D1', 'MIR320E', 'MIR331', 'MIR34A', 'MIR3613', 'MIR3621', 'MIR3650', 'MIR3659HG', 'MIR3671', 'MIR3674', 'MIR3679', 'MIR3681HG', 'MIR3682', 'MIR3690', 'MIR3714', 'MIR378D2HG', 'MIR3942', 'MIR425', 'MIR4273', 'MIR4279', 'MIR4295', 'MIR4300HG', 'MIR4321', 'MIR4434', 'MIR4444-2', 'MIR4449', 'MIR4454', 'MIR4482', 'MIR4485', 'MIR4512', 'MIR4519', 'MIR4520-1', 'MIR4520-2', 'MIR4523', 'MIR4639', 'MIR4648', 'MIR4651', 'MIR4653', 'MIR4666A', 'MIR4667', 'MIR4674', 'MIR4720', 'MIR4722', 'MIR4738', 'MIR4740', 'MIR4755', 'MIR4781', 'MIR4784', 'MIR484', 'MIR491', 'MIR5091', 'MIR5094', 'MIR548AA2', 'MIR548D2', 'MIR548L', 'MIR554', 'MIR5572', 'MIR5581', 'MIR5582', 'MIR574', 'MIR576', 'MIR583HG', 'MIR590', 'MIR597', 'MIR6165', 'MIR621', 'MIR635', 'MIR644A', 'MIR646HG', 'MIR6505', 'MIR6514', 'MIR6719', 'MIR6757', 'MIR6780A', 'MIR6780B', 'MIR6782', 'MIR6783', 'MIR6785', 'MIR6799', 'MIR6808', 'MIR6810', 'MIR6812', 'MIR6813', 'MIR6823', 'MIR6824', 'MIR6828', 'MIR6831', 'MIR6841', 'MIR6843', 'MIR6845', 'MIR6855', 'MIR6858', 'MIR6859-4', 'MIR6864', 'MIR6865', 'MIR6872', 'MIR6876', 'MIR6888', 'MIR6893', 'MIR708', 'MIR711', 'MIR7114', 'MIR718', 'MIR744', 'MIR7845', 'MIR7851', 'MIR7855', 'MIR8055', 'MIR8076', 'MIR8085', 'MIR92A1', 'MIR98', 'MIRLET7A2', 'MIRLET7IHG', 'MIS18A-AS1', 'MIX23P1', 'MIX23P3', 'MIX23P5', 'MKNK2P1', 'MKRN6P', 'MKRN8P', 'MLANA', 'MLC1', 'MLLT10P1', 'MLNR', 'MMD2', 'MMP11', 'MMP23A', 'MMP3', 'MMP7', 'MOBP', 'MOGAT1', 'MOXD1', 'MPHOSPH6-DT', 'MPO', 'MPP4', 'MPPED1', 'MPPED2', 'MPZ', 'MRAS', 'MRGPRF', 'MRGPRX2', 'MRLN', 'MRO', 'MROH7', 'MRPL20P1', 'MRPL22P1', 'MRPL35P2', 'MRPL42P4', 'MRPL49P2', 'MRPL9P1', 'MRPS11P1', 'MRPS17P1', 'MRPS18BP2', 'MRPS18CP6', 'MRPS21P1', 'MRPS21P2', 'MRPS21P3', 'MRPS21P9', 'MRPS31P2', 'MRPS36P4', 'MRPS6P2', 'MRS2P1', 'MRS2P2', 'MRTFA-AS1', 'MSANTD1', 'MSANTD2P1', 'MSH4', 'MSI1', 'MSMB', 'MSRA-DT', 'MSX2P1', 'MT-TS1', 'MT1B', 'MT1H', 'MT3', 'MTATP6P26', 'MTATP6P27', 'MTATP8P2', 'MTCO1P15', 'MTCO1P42', 'MTCO2P2', 'MTCO3P13', 'MTCYBP35', 'MTCYBP43', 'MTHFD2P1', 'MTND1P32', 'MTND3P10', 'MTND3P25', 'MTND4LP1', 'MTND4LP14', 'MTND4P26', 'MTND5P19', 'MTND5P2', 'MTND6P18', 'MTNR1B', 'MTRNR2L4', 'MTRNR2L6', 'MTUS1-DT', 'MUC19', 'MUC2', 'MUC4', 'MUC6', 'MUCL1', 'MUSTN1', 'MXRA8', 'MYADML2', 'MYB-AS1', 'MYBPC3', 'MYCBPAP', 'MYL6P4', 'MYLK2', 'MYLK3', 'MYO3B', 'MYOCOS', 'MYOM1', 'MYT1', 'MYT1L', 'MZB1', 'MZT1P1', 'NAB1P1', 'NACAP10', 'NADK2-AS1', 'NAIP', 'NAIPP4', 'NAMPTP3', 'NANOG', 'NARF-IT1', 'NAT16', 'NAV2-AS1', 'NAV2-AS6', 'NBPF18P', 'NBPF4', 'NBPF6', 'NCALD', 'NCAN', 'NCAPGP1', 'NCCRP1', 'NCF4', 'NCKAP1L', 'NCKAP1P1', 'NCOR1P1', 'NCOR1P2', 'NDFIP1P1', 'NDST4', 'NDUFA3P6', 'NDUFA4P2', 'NDUFAF4P1', 'NDUFAF4P2', 'NDUFAF4P3', 'NDUFAF4P4', 'NDUFB11P1', 'NDUFB4P1', 'NDUFB4P11', 'NDUFB4P8', 'NDUFS5P3', 'NDUFS5P5', 'NDUFV1-DT', 'NECAB2', 'NECAP1P1', 'NECTIN3-AS1', 'NECTIN4-AS1', 'NEFHP1', 'NEGR1', 'NENFP1', 'NENFP2', 'NEPNP', 'NEU2', 'NEURL3', 'NF1P1', 'NF1P9', 'NFAM1', 'NFATC2', 'NFYAP1', 'NFYCP2', 'NHLH1', 'NHLRC4', 'NHS-AS1', 'NIBAN3', 'NICN2P', 'NIFKP1', 'NIFKP3', 'NIP7P3', 'NIPA2P4', 'NIPAL4', 'NIPAL4-DT', 'NKAIN4', 'NKPD1', 'NKX2-2', 'NKX2-2-AS1', 'NKX2-5', 'NLGN1-AS1', 'NLGN3', 'NLRC3', 'NLRP14', 'NLRP4', 'NMD3P2', 'NMTRQ-TTG12-1', 'NMUR1', 'NOD2', 'NOL8P1', 'NOLC1P1', 'NOS2P2', 'NOS2P3', 'NOVA1', 'NOVA2', 'NOX1', 'NOXRED1', 'NPAS3', 'NPAS4', 'NPFFR1', 'NPHS1', 'NPIPB10P', 'NPIPB1P', 'NPIPB8', 'NPM1P14', 'NPM1P19', 'NPM1P2', 'NPM1P29', 'NPM1P31', 'NPM1P32', 'NPM1P47', 'NPM1P48', 'NPM1P50', 'NPM1P52', 'NPM1P8', 'NPPC', 'NPR1', 'NPTX1', 'NPY1R', 'NPY4R', 'NPY4R2', 'NR2E1', 'NR2E3', 'NR3C2', 'NR4A3', 'NRADDP', 'NRBF2P2', 'NRN1L', 'NRSN1', 'NRXN2', 'NSA2P4', 'NT5C1B', 'NT5CP1', 'NTN5', 'NTRK3', 'NTS', 'NTSR2', 'NUCKS1P1', 'NUDT16-DT', 'NUDT4P2', 'NUGGC', 'NUP210P3', 'NUP93-DT', 'NUS1P2', 'NUTM1', 'NUTM2G', 'NWD2', 'NXF3', 'NXT1P1', 'NYAP2', 'OCA2', 'OCM', 'ODF3L1', 'OFD1P17', 'OLA1P2', 'OLFML2B', 'OLIG1', 'OMG', 'OOEPP2', 'OPCML', 'OPN4', 'OPRD1', 'OR10A5', 'OR10A6', 'OR10AH1P', 'OR10H1', 'OR10S1', 'OR11A1', 'OR11N1P', 'OR12D1', 'OR13E1P', 'OR1I1', 'OR1M1', 'OR2C3', 'OR2M1P', 'OR2M3', 'OR2M4', 'OR2T32P', 'OR2T33', 'OR2V2', 'OR2W6P', 'OR2Z1', 'OR3B1P', 'OR4D1', 'OR4F16', 'OR4F1P', 'OR4F21', 'OR51B2', 'OR51J1', 'OR52E4', 'OR52E7P', 'OR52K3P', 'OR52N1', 'OR52N2', 'OR5AU1', 'OR6W1P', 'OR7E109P', 'OR7E115P', 'OR7E11P', 'OR7E128P', 'OR7E13P', 'OR7E155P', 'OR7E158P', 'OR7E15P', 'OR7E161P', 'OR7E23P', 'OR7E25P', 'OR7E29P', 'OR7E33P', 'OR7E43P', 'OR7E53P', 'OR7E55P', 'OR7E59P', 'OR7E62P', 'OR7E66P', 'OR7E90P', 'OR7E99P', 'OR7G2', 'OR8A1', 'OR8B12', 'OR8B1P', 'OR8B2', 'OR8B3', 'OR8B5P', 'OR8B6P', 'OR8B7P', 'OR8F1P', 'OR8G2P', 'OSBPL9P1', 'OSTCP8', 'OSTF1P1', 'OSTN', 'OTOA', 'OTOG', 'OTOGL', 'OTOP2', 'OTP', 'OTUD7A', 'OVOL1-AS1', 'OXGR1', 'P2RX6', 'P2RX6P', 'PABPC1P2', 'PABPN1L', 'PACRG', 'PACRG-AS1', 'PACRG-AS2', 'PADI4', 'PAEP', 'PAGE1', 'PAH', 'PALD1', 'PAMR1', 'PAPOLB', 'PAPPA-AS2', 'PAQR6', 'PAQR9', 'PARD3-AS1', 'PARD6G-AS1', 'PARM1', 'PARP4P1', 'PARP4P3', 'PASD1', 'PATE2', 'PAWRP1', 'PAX1', 'PAX2', 'PBX1-AS1', 'PBX2P1', 'PCARE', 'PCCA-AS1', 'PCDH17', 'PCDH19', 'PCDH20', 'PCDH8', 'PCDHB10', 'PCDHB12', 'PCDHB2', 'PCDHB3', 'PCDHB8', 'PCDHGB9P', 'PCMTD1P3', 'PCNAP4', 'PCNX4-DT', 'PCOLCE-AS1', 'PCP2', 'PCSK1', 'PCSK4', 'PDC', 'PDC-AS1', 'PDCD6IPP1', 'PDCL2P2', 'PDCL3P1', 'PDE10A', 'PDE1A', 'PDE1C', 'PDE4C', 'PDE4DIPP1', 'PDE6C', 'PDE6G', 'PDE7A-DT', 'PDE7B', 'PDE9A-AS1', 'PDGFRA', 'PDGFRB', 'PDHA2', 'PDIA2', 'PDIA3P2', 'PDK1P2', 'PDSS1P1', 'PDZD3', 'PDZK1IP1', 'PDZK1P1', 'PEG13', 'PELATON', 'PEX5L-AS1', 'PEX5L-AS2', 'PF4', 'PFKFB1', 'PFKP-DT', 'PFN1P11', 'PFN1P2', 'PFN1P4', 'PFN1P8', 'PFN3', 'PFN4', 'PGAM1P7', 'PGBD5', 'PGGT1BP1', 'PGLYRP3', 'PGLYRP4', 'PGR', 'PHACTR2-AS1', 'PHBP18', 'PHBP19', 'PHBP4', 'PHF21B', 'PHGR1', 'PHYHD1', 'PHYHIPL', 'PI16', 'PIANP', 'PIEZO2', 'PIGAP1', 'PIGFP1', 'PIGR', 'PIGUP1', 'PIN1-DT', 'PIP5K1P1', 'PIP5K1P2', 'PIPOX', 'PIWIL2', 'PKD1L1-AS1', 'PKDCC', 'PKN2-AS1', 'PKNOX2', 'PKP4P1', 'PLA2G2F', 'PLA2G4E', 'PLA2G4E-AS1', 'PLA2G7', 'PLAC4', 'PLAC9', 'PLCXD2-AS1', 'PLEK', 'PLEKHD1', 'PLEKHG7', 'PLET1', 'PLIN1', 'PLIN5', 'PLVAP', 'PLXNA4', 'PMP2', 'PMS2P11', 'PMS2P9', 'PNLDC1', 'PNLIPRP1', 'PNLIPRP2', 'PNMA6A', 'PNMA8A', 'PNMA8C', 'PNMT', 'PODNL1', 'POGLUT2P1', 'POLR2DP1', 'POLR3DP1', 'POM121L7P', 'POMC', 'POSTN', 'POTEG', 'POTEJ', 'POU2F2', 'POU3F3', 'POU5F1B', 'POU5F2', 'PPARGC1A', 'PPEF2', 'PPIAL4A', 'PPIAP1', 'PPIAP14', 'PPIAP20', 'PPIAP23', 'PPIAP26', 'PPIAP28', 'PPIAP30', 'PPIAP37', 'PPIAP45', 'PPIAP53', 'PPIAP54', 'PPIAP68', 'PPIAP72', 'PPIAP73', 'PPIAP76', 'PPIAP79', 'PPIAP80', 'PPIAP81', 'PPIAP82', 'PPIAP85', 'PPIAP91', 'PPIHP2', 'PPIL1P1', 'PPM1L-DT', 'PPP1R11P1', 'PPP1R14BP5', 'PPP1R14D', 'PPP1R1A', 'PPP1R1C', 'PPP1R2P1', 'PPP1R2P2', 'PPP2R2DP1', 'PRAM1', 'PRCD', 'PRCPP1', 'PRDM6', 'PRDX3P4', 'PRELID1P3', 'PRELID3BP1', 'PRELID3BP3', 'PRELID3BP7', 'PRELP', 'PRG2', 'PRH2', 'PRICKLE2-AS3', 'PRKACG', 'PRKAG2-AS1', 'PRKCB', 'PRKCG', 'PRKCQ', 'PRKG2-AS1', 'PRLR', 'PROCA1', 'PRODH', 'PROS2P', 'PROX1', 'PROZ', 'PRPS1L1', 'PRR13P2', 'PRR13P3', 'PRR13P7', 'PRR16', 'PRR20G', 'PRR35', 'PRR9', 'PRRT2', 'PRRT4', 'PRSS1', 'PRSS2', 'PRSS29P', 'PRSS33', 'PRSS3P1', 'PRSS3P4', 'PRSS48', 'PRSS50', 'PRSS51', 'PRTFDC1', 'PRX', 'PSG1', 'PSG5', 'PSLNR', 'PSMA2P1', 'PSMA6P4', 'PSMC1P2', 'PSMC1P4', 'PSMC1P5', 'PSMC2P2', 'PSMD10P3', 'PSME2P4', 'PSME2P5', 'PSTPIP1', 'PTCD2P1', 'PTCHD3P2', 'PTCHD4', 'PTGDS', 'PTGER1', 'PTGFR', 'PTGIR', 'PTGIS', 'PTH1R', 'PTMAP1', 'PTMAP11', 'PTP4A1P1', 'PTP4A1P4', 'PTPN22', 'PTPN7', 'PTPRC', 'PTPRD', 'PTPRH', 'PTPRJ-AS1', 'PTPRM', 'PTPRN2', 'PTPRQ', 'PXDNL', 'PYDC1', 'PYGM', 'PYHIN1', 'QPRT', 'QRSL1P1', 'R3HDM2-DT', 'RAB33A', 'RAB39B', 'RAB5CP1', 'RAB9B', 'RABGAP1L-AS1', 'RABGAP1L-IT1', 'RAC1P3', 'RAD17P1', 'RAD17P2', 'RAD1P2', 'RAD21L1', 'RAD23BP1', 'RAD51AP1P1', 'RALBP1P2', 'RANBP3L', 'RANP8', 'RAPSN', 'RARRES2P5', 'RARS1P1', 'RASA4CP', 'RASGEF1C', 'RASGRP3', 'RASL12', 'RBBP4P3', 'RBFADN', 'RBFOX1', 'RBFOX3', 'RBM12B-DT', 'RBM22P2', 'RBM22P3', 'RBMS3-AS2', 'RBMX2P2', 'RBMX2P3', 'RBP3', 'RCC2P4', 'RCN1P1', 'RCSD1', 'RDH10-AS1', 'RDH12', 'RDH16', 'RERE-AS1', 'RFPL2', 'RFPL3', 'RFPL3S', 'RFPL4A', 'RFPL4AL1', 'RFTN2', 'RGPD4', 'RGPD5', 'RGS18', 'RGS6', 'RGS9BP', 'RHCG', 'RHOA-IT1', 'RHOH', 'RHOQP3', 'RHOT1P1', 'RHOT1P2', 'RHOT1P3', 'RHOU', 'RHOXF1-AS1', 'RHOXF1P1', 'RHPN2P1', 'RIC8A', 'RIMBP2', 'RIMBP3B', 'RIMBP3C', 'RIMS2', 'RIPOR2', 'RIPOR3-AS1', 'RIT2', 'RLIMP2', 'RN7SKP11', 'RN7SKP114', 'RN7SKP116', 'RN7SKP160', 'RN7SKP163', 'RN7SKP176', 'RN7SKP198', 'RN7SKP260', 'RN7SKP296', 'RN7SKP30', 'RN7SKP7', 'RN7SKP72', 'RN7SKP76', 'RN7SKP98', 'RN7SL141P', 'RN7SL146P', 'RN7SL172P', 'RN7SL174P', 'RN7SL180P', 'RN7SL204P', 'RN7SL208P', 'RN7SL221P', 'RN7SL225P', 'RN7SL233P', 'RN7SL246P', 'RN7SL258P', 'RN7SL285P', 'RN7SL3', 'RN7SL305P', 'RN7SL309P', 'RN7SL329P', 'RN7SL32P', 'RN7SL336P', 'RN7SL356P', 'RN7SL364P', 'RN7SL368P', 'RN7SL370P', 'RN7SL377P', 'RN7SL388P', 'RN7SL414P', 'RN7SL443P', 'RN7SL452P', 'RN7SL473P', 'RN7SL491P', 'RN7SL499P', 'RN7SL49P', 'RN7SL505P', 'RN7SL521P', 'RN7SL552P', 'RN7SL559P', 'RN7SL568P', 'RN7SL573P', 'RN7SL574P', 'RN7SL57P', 'RN7SL587P', 'RN7SL596P', 'RN7SL608P', 'RN7SL636P', 'RN7SL648P', 'RN7SL650P', 'RN7SL655P', 'RN7SL672P', 'RN7SL683P', 'RN7SL689P', 'RN7SL68P', 'RN7SL751P', 'RN7SL767P', 'RN7SL792P', 'RN7SL793P', 'RN7SL800P', 'RN7SL810P', 'RN7SL814P', 'RN7SL827P', 'RN7SL834P', 'RNA5-8SP6', 'RNA5SP115', 'RNA5SP146', 'RNA5SP149', 'RNA5SP150', 'RNA5SP155', 'RNA5SP172', 'RNA5SP201', 'RNA5SP203', 'RNA5SP217', 'RNA5SP268', 'RNA5SP289', 'RNA5SP295', 'RNA5SP319', 'RNA5SP334', 'RNA5SP345', 'RNA5SP370', 'RNA5SP371', 'RNA5SP379', 'RNA5SP385', 'RNA5SP439', 'RNA5SP449', 'RNA5SP493', 'RNA5SP528', 'RNA5SP82', 'RNASE1', 'RNF148', 'RNF14P3', 'RNF14P4', 'RNF150', 'RNF151', 'RNF157', 'RNF175', 'RNF216-IT1', 'RNF222', 'RNF224', 'RNU1-103P', 'RNU1-112P', 'RNU1-125P', 'RNU1-39P', 'RNU1-67P', 'RNU1-72P', 'RNU2-22P', 'RNU2-30P', 'RNU2-31P', 'RNU2-39P', 'RNU2-4P', 'RNU2-7P', 'RNU4-1', 'RNU4-23P', 'RNU4-45P', 'RNU4-46P', 'RNU4-47P', 'RNU4-51P', 'RNU4-53P', 'RNU4-62P', 'RNU4-78P', 'RNU4ATAC11P', 'RNU4ATAC12P', 'RNU4ATAC16P', 'RNU5A-3P', 'RNU5E-10P', 'RNU5E-4P', 'RNU6-1016P', 'RNU6-1053P', 'RNU6-1092P', 'RNU6-1095P', 'RNU6-1099P', 'RNU6-1107P', 'RNU6-1127P', 'RNU6-1128P', 'RNU6-1153P', 'RNU6-1157P', 'RNU6-1158P', 'RNU6-1170P', 'RNU6-118P', 'RNU6-11P', 'RNU6-1209P', 'RNU6-123P', 'RNU6-1240P', 'RNU6-12P', 'RNU6-1331P', 'RNU6-1337P', 'RNU6-136P', 'RNU6-14P', 'RNU6-151P', 'RNU6-173P', 'RNU6-188P', 'RNU6-2', 'RNU6-201P', 'RNU6-212P', 'RNU6-223P', 'RNU6-238P', 'RNU6-263P', 'RNU6-268P', 'RNU6-293P', 'RNU6-307P', 'RNU6-312P', 'RNU6-319P', 'RNU6-33P', 'RNU6-367P', 'RNU6-36P', 'RNU6-375P', 'RNU6-379P', 'RNU6-384P', 'RNU6-387P', 'RNU6-418P', 'RNU6-42P', 'RNU6-438P', 'RNU6-48P', 'RNU6-4P', 'RNU6-510P', 'RNU6-516P', 'RNU6-529P', 'RNU6-531P', 'RNU6-564P', 'RNU6-574P', 'RNU6-577P', 'RNU6-583P', 'RNU6-611P', 'RNU6-638P', 'RNU6-645P', 'RNU6-647P', 'RNU6-652P', 'RNU6-674P', 'RNU6-678P', 'RNU6-681P', 'RNU6-780P', 'RNU6-781P', 'RNU6-786P', 'RNU6-826P', 'RNU6-893P', 'RNU6-89P', 'RNU6-942P', 'RNU6-946P', 'RNU6-94P', 'RNU6-951P', 'RNU6ATAC11P', 'RNU6ATAC18P', 'RNU6ATAC24P', 'RNU7-111P', 'RNU7-115P', 'RNU7-3P', 'RNU7-50P', 'RNU7-59P', 'RNU7-84P', 'RNVU1-1', 'RNVU1-2', 'RNVU1-21', 'RNVU1-23', 'RNVU1-29', 'RNY1P10', 'RNY1P12', 'RNY1P13', 'RNY1P16', 'RNY1P4', 'RNY4P34', 'ROBO2', 'ROBO4', 'ROPN1L-AS1', 'RORB', 'RORC', 'RPA4', 'RPEP3', 'RPEP4', 'RPH3A', 'RPL10AP3', 'RPL10L', 'RPL10P5', 'RPL11P4', 'RPL12P10', 'RPL12P13', 'RPL12P19', 'RPL12P2', 'RPL12P24', 'RPL12P25', 'RPL12P29', 'RPL12P32', 'RPL12P35', 'RPL12P37', 'RPL12P41', 'RPL12P42', 'RPL12P47', 'RPL12P50', 'RPL13AP23', 'RPL13P6', 'RPL15P20', 'RPL15P21', 'RPL17P22', 'RPL17P25', 'RPL17P33', 'RPL17P43', 'RPL19P11', 'RPL19P4', 'RPL21P106', 'RPL21P107', 'RPL21P112', 'RPL21P12', 'RPL21P13', 'RPL21P132', 'RPL21P135', 'RPL21P30', 'RPL21P35', 'RPL21P38', 'RPL21P42', 'RPL21P43', 'RPL21P6', 'RPL21P65', 'RPL21P66', 'RPL21P71', 'RPL21P8', 'RPL21P88', 'RPL21P89', 'RPL21P90', 'RPL22P18', 'RPL23AP19', 'RPL23AP20', 'RPL23AP25', 'RPL23AP32', 'RPL23AP44', 'RPL23AP48', 'RPL23AP52', 'RPL23AP55', 'RPL23AP59', 'RPL23AP64', 'RPL23AP66', 'RPL23AP67', 'RPL23AP73', 'RPL23AP75', 'RPL23AP76', 'RPL23AP8', 'RPL23AP81', 'RPL23AP87', 'RPL23AP93', 'RPL23AP96', 'RPL23P10', 'RPL23P4', 'RPL23P5', 'RPL24P7', 'RPL26P27', 'RPL26P35', 'RPL27AP8', 'RPL29P2', 'RPL29P23', 'RPL29P24', 'RPL29P25', 'RPL29P30', 'RPL30P11', 'RPL31P15', 'RPL31P44', 'RPL31P47', 'RPL31P50', 'RPL31P61', 'RPL32P2', 'RPL32P26', 'RPL32P32', 'RPL32P33', 'RPL34P1', 'RPL34P20', 'RPL35AP13', 'RPL35AP16', 'RPL35AP20', 'RPL35AP23', 'RPL35AP28', 'RPL35AP29', 'RPL35AP31', 'RPL35AP33', 'RPL35P4', 'RPL36AP15', 'RPL36AP16', 'RPL36AP26', 'RPL36AP29', 'RPL36AP41', 'RPL36AP43', 'RPL36AP45', 'RPL36P2', 'RPL36P4', 'RPL37P1', 'RPL37P15', 'RPL37P18', 'RPL39P18', 'RPL39P26', 'RPL39P40', 'RPL3P10', 'RPL3P11', 'RPL4P1', 'RPL5P10', 'RPL5P14', 'RPL5P15', 'RPL5P31', 'RPL5P33', 'RPL5P35', 'RPL6P12', 'RPL7AP14', 'RPL7AP22', 'RPL7AP25', 'RPL7AP26', 'RPL7AP3', 'RPL7AP31', 'RPL7AP34', 'RPL7AP49', 'RPL7AP53', 'RPL7AP8', 'RPL7L1P11', 'RPL7L1P4', 'RPL7P11', 'RPL7P13', 'RPL7P18', 'RPL7P33', 'RPL7P36', 'RPL7P38', 'RPL7P45', 'RPL7P50', 'RPL7P52', 'RPL7P54', 'RPL7P56', 'RPL7P58', 'RPL7P60', 'RPL7P61', 'RPL9P2', 'RPL9P21', 'RPL9P28', 'RPL9P29', 'RPL9P5', 'RPLP1P5', 'RPS10P14', 'RPS10P2', 'RPS10P20', 'RPS10P27', 'RPS10P9', 'RPS12P16', 'RPS12P26', 'RPS12P31', 'RPS12P4', 'RPS13P4', 'RPS13P5', 'RPS15AP16', 'RPS15AP28', 'RPS15AP29', 'RPS15AP30', 'RPS15AP36', 'RPS15AP39', 'RPS16P5', 'RPS18P13', 'RPS20P24', 'RPS20P4', 'RPS23P7', 'RPS24P18', 'RPS24P7', 'RPS26P21', 'RPS26P35', 'RPS26P38', 'RPS26P41', 'RPS26P55', 'RPS27AP9', 'RPS27P21', 'RPS27P27', 'RPS29P14', 'RPS29P17', 'RPS29P19', 'RPS29P3', 'RPS29P7', 'RPS2P15', 'RPS2P16', 'RPS2P18', 'RPS2P44', 'RPS2P45', 'RPS3AP15', 'RPS3AP16', 'RPS3AP18', 'RPS3AP29', 'RPS3AP40', 'RPS3AP51', 'RPS3AP53', 'RPS3P1', 'RPS3P2', 'RPS3P7', 'RPS4XP1', 'RPS4XP19', 'RPS4XP22', 'RPS4XP5', 'RPS4XP7', 'RPS6KA6', 'RPS6P15', 'RPS7P12', 'RPS7P5', 'RPS7P6', 'RPS7P8', 'RPSAP13', 'RPSAP16', 'RPSAP18', 'RPSAP2', 'RPSAP53', 'RPSAP56', 'RPSAP6', 'RPSAP63', 'RPSAP69', 'RPSAP7', 'RPSAP74', 'RPTN', 'RRAD', 'RRH', 'RRM2P4', 'RRN3P4', 'RSAD2', 'RSF1-IT1', 'RSL1D1-DT', 'RSL24D1P11', 'RSPH10B2', 'RSPH4A', 'RSU1P1', 'RSU1P2', 'RSU1P3', 'RTBDN', 'RTEL1P1', 'RTL5', 'RUBCNL', 'RXFP4', 'S100A11P6', 'S100A12', 'S100A5', 'S1PR4', 'SAA2', 'SAA2-SAA4', 'SAG', 'SAGE4P', 'SALL2', 'SAMD11P1', 'SAMD12-AS1', 'SAMMSON', 'SAMSN1', 'SAP25', 'SAPCD2P1', 'SAPCD2P2', 'SAR1AP4', 'SARDH', 'SASH3', 'SBF1P1', 'SBF1P2', 'SC4MOP', 'SCAANT1', 'SCARF1', 'SCARNA1', 'SCARNA14', 'SCARNA2', 'SCARNA21', 'SCARNA3', 'SCARNA4', 'SCARNA6', 'SCARNA7', 'SCARNA8', 'SCGB3A2', 'SCML2P2', 'SCN11A', 'SCN1A', 'SCN3B', 'SCN4A', 'SCN4B', 'SCNN1B', 'SCNN1D', 'SCRG1', 'SCRT1', 'SCUBE1', 'SDAD1-AS1', 'SDHCP2', 'SDHCP3', 'SDK2', 'SEC14L3', 'SEC14L5', 'SEC24AP1', 'SEC61GP1', 'SEC62-AS1', 'SEL1L2', 'SELE', 'SELENBP1', 'SELENOOLP', 'SEMA5A-AS1', 'SEMA5B', 'SEMA6A', 'SEMA6A-AS1', 'SEPTIN14P21', 'SEPTIN14P8', 'SEPTIN3', 'SEPTIN4', 'SEPTIN4-AS1', 'SEPTIN7P10', 'SEPTIN7P11', 'SEPTIN7P12', 'SERBP1P3', 'SERF1B', 'SERPINA1', 'SERPINA6', 'SERPINB12', 'SERPINB4', 'SERPIND1', 'SERPING1', 'SERTAD3-AS1', 'SESN3', 'SETP1', 'SETP12', 'SETP2', 'SETP21', 'SETP5', 'SETP7', 'SETP9', 'SFRP5', 'SFTA3', 'SFTPB', 'SFTPD', 'SFTPD-AS1', 'SGCG', 'SGIP1', 'SH2D3C', 'SH2D4B', 'SH2D6', 'SH3GL1P2', 'SH3RF3-AS1', 'SHANK1', 'SHC1P1', 'SHC4', 'SHCBP1L', 'SHE', 'SHH', 'SHISA7', 'SHISA9', 'SHOX', 'SHROOM3-AS1', 'SIAH3', 'SIGLEC10', 'SIGLEC17P', 'SIGLEC20P', 'SIGLEC8', 'SIK1', 'SIRLNT', 'SKAP1', 'SLA', 'SLAIN1', 'SLAMF7', 'SLC10A1', 'SLC10A5P1', 'SLC12A3', 'SLC13A5', 'SLC16A6P1', 'SLC16A8', 'SLC17A7', 'SLC1A1', 'SLC1A6', 'SLC22A11', 'SLC22A17', 'SLC25A14P1', 'SLC25A1P4', 'SLC25A34-AS1', 'SLC25A41', 'SLC25A48', 'SLC25A52', 'SLC25A5P6', 'SLC25A5P9', 'SLC26A4', 'SLC26A7', 'SLC26A8', 'SLC26A9', 'SLC2A14', 'SLC2A3P2', 'SLC2A3P4', 'SLC2A9-AS1', 'SLC30A10', 'SLC34A1', 'SLC35E1P1', 'SLC35F3-AS1', 'SLC35F4', 'SLC36A2', 'SLC38A2-AS1', 'SLC38A3', 'SLC45A1', 'SLC5A12', 'SLC5A4', 'SLC5A5', 'SLC5A8', 'SLC6A1', 'SLC6A12', 'SLC6A3', 'SLC6A4', 'SLC6A5', 'SLC7A14-AS1', 'SLC7A3', 'SLC9A3P2', 'SLC9A9', 'SLCO2A1', 'SLCO5A1', 'SLFN14', 'SLFNL1', 'SLIT2-IT1', 'SLIT3', 'SLIT3-AS2', 'SLITRK3', 'SMAD1-AS2', 'SMARCE1P4', 'SMIM10L2A', 'SMIM10L2B', 'SMIM17', 'SMIM23', 'SMIM24', 'SMIM33', 'SMIM36', 'SMIM6', 'SMIM7P1', 'SMOC2', 'SMPD3', 'SMPD4P1', 'SMPD4P2', 'SMSP1', 'SMTNL1', 'SMTNL2', 'SMYD3-IT1', 'SNAP91', 'SNORA11', 'SNORA11B', 'SNORA15', 'SNORA15B-2', 'SNORA16A', 'SNORA21B', 'SNORA22', 'SNORA2B', 'SNORA49', 'SNORA50A', 'SNORA53', 'SNORA54', 'SNORA55', 'SNORA56', 'SNORA59A', 'SNORA5B', 'SNORA63D', 'SNORA65', 'SNORA68B', 'SNORA69', 'SNORA70G', 'SNORA71B', 'SNORA71C', 'SNORA74B', 'SNORA77', 'SNORD101', 'SNORD105', 'SNORD109A', 'SNORD116-1', 'SNORD116-12', 'SNORD116-13', 'SNORD116-14', 'SNORD116-18', 'SNORD116-22', 'SNORD116-23', 'SNORD116-25', 'SNORD116-27', 'SNORD116-6', 'SNORD116-9', 'SNORD11B', 'SNORD121A', 'SNORD121B', 'SNORD125', 'SNORD127', 'SNORD12B', 'SNORD138', 'SNORD18A', 'SNORD1C', 'SNORD24', 'SNORD37', 'SNORD42A', 'SNORD54', 'SNORD58A', 'SNORD58C', 'SNORD70', 'SNORD71', 'SNORD82', 'SNORD88A', 'SNORD88C', 'SNORD9', 'SNORD91B', 'SNORD92', 'SNORD97', 'SNRPCP10', 'SNRPCP19', 'SNRPCP8', 'SNRPEP10', 'SNRPEP3', 'SNRPGP18', 'SNRPGP3', 'SNRPGP4', 'SNTB1', 'SNTG1', 'SNTG2', 'SNX18P7', 'SNX29P1', 'SNX29P2', 'SNX2P1', 'SOAT2', 'SOBP', 'SOCAR', 'SOGA3', 'SORL1-AS1', 'SOS1-IT1', 'SOWAHCP2', 'SOWAHD', 'SOX21', 'SOX21-AS1', 'SOX3', 'SOX5', 'SP3P', 'SP8', 'SPA17P1', 'SPAAR', 'SPACA6P-AS', 'SPANXA2-OT1', 'SPARCL1', 'SPATA3-AS1', 'SPATA4', 'SPATA45', 'SPATA6', 'SPDEF', 'SPDYE16', 'SPDYE17', 'SPDYE18', 'SPECC1P2', 'SPEF2', 'SPEM3', 'SPI1', 'SPINK1', 'SPINK13', 'SPINK14', 'SPINK2', 'SPINK6', 'SPNS3', 'SPRED3', 'SPRR2D', 'SPRR3', 'SPRY3', 'SPTA1', 'SPTBN4', 'SPTBN5', 'SPTLC1P5', 'SQLE-DT', 'SRD5A1P1', 'SRGAP2D', 'SRGAP3-AS2', 'SRL', 'SRMP2', 'SRMP3', 'SRP14P4', 'SRPX', 'SRSF10P1', 'SRSF12', 'SRSF3P5', 'SRSF3P6', 'SRSF6P2', 'SS18L2P1', 'SSBL3P', 'SSBP3P2', 'SSC5D', 'SSPOP', 'SSTR5-AS1', 'SSU72P1', 'SSUH2', 'ST13P2', 'ST13P20', 'ST6GALNAC5', 'ST8SIA3', 'STAC2', 'STAG1-DT', 'STAR', 'STAU2-AS1', 'STAU2P1', 'STIM1-AS1', 'STK16P1', 'STK24-AS1', 'STK32A', 'STMN2', 'STMND1', 'STRADBP1', 'STRIT1', 'STX1B', 'SUB1P2', 'SUGCT-AS1', 'SULF1', 'SULT1C2', 'SUMO1P2', 'SUMO2P12', 'SUMO2P14', 'SUMO2P8', 'SUMO4', 'SUPT4H1P2', 'SV2B', 'SV2C', 'SVOP', 'SVOPL', 'SYCE3', 'SYCP1', 'SYN3', 'SYNE4', 'SYNGR4', 'SYNPO2L', 'SYPL1P2', 'SYT11', 'SYTL5', 'TAC4', 'TACR2', 'TAF9BP1', 'TAFA3', 'TAL2', 'TARDBPP4', 'TAS1R1', 'TAS2R10', 'TAS2R20', 'TAS2R31', 'TAS2R4', 'TAS2R43', 'TAS2R5', 'TAS2R60', 'TAS2R64P', 'TAT', 'TAT-AS1', 'TATDN2P3', 'TBC1D22A-AS1', 'TBC1D3B', 'TBC1D3I', 'TBC1D9', 'TBILA', 'TBPL2', 'TBR1', 'TBX10', 'TBX2', 'TBX3-AS1', 'TCAM1P', 'TCAP', 'TCF23', 'TCL6', 'TCTE1', 'TDGF1P2', 'TDRD6', 'TDRD9', 'TECRP2', 'TECTB', 'TEK', 'TEKT1', 'TEKT2', 'TEKT3', 'TENM3', 'TENT5D', 'TERB1', 'TERF1P2', 'TERF1P4', 'TERF1P7', 'TESC', 'TET2-AS1', 'TEX13C', 'TEX14', 'TEX15', 'TEX19', 'TEX21P', 'TEX36', 'TEX37', 'TEX38', 'TEX41', 'TEX46', 'TFAMP1', 'TFDP3', 'TG', 'TGM4', 'THAP12P2', 'THAP12P3', 'THBS1-IT1', 'THBS4', 'THBS4-AS1', 'THEM5', 'THPO', 'THRAP3P3', 'THRB-IT1', 'THRSP', 'THUMPD1P1', 'THUMPD3P1', 'TIGD4', 'TIMM9P2', 'TIMM9P3', 'TINAG', 'TJAP1P1', 'TLCD3B', 'TM4SF4', 'TMA16P1', 'TMCO5B', 'TMDD1', 'TMED10P2', 'TMEFF2', 'TMEM132B', 'TMEM145', 'TMEM150B', 'TMEM161BP1', 'TMEM167AP1', 'TMEM200C', 'TMEM204', 'TMEM232', 'TMEM236', 'TMEM238L', 'TMEM244', 'TMEM248P1', 'TMEM266', 'TMEM51-AS2', 'TMEM59L', 'TMEM74', 'TMEM78', 'TMEM88', 'TMEM95', 'TMIE', 'TMIGD2', 'TMLHE-AS1', 'TMPOP1', 'TMPRSS11CP', 'TMPRSS11D', 'TMPRSS11F', 'TMPRSS12', 'TMPRSS5', 'TMSB10P2', 'TMSB4Y', 'TMTC1', 'TNF', 'TNFAIP8L2', 'TNFAIP8L3', 'TNFRSF10C', 'TNFRSF13B', 'TNFRSF18', 'TNFRSF4', 'TNFSF4', 'TNFSF8', 'TNNC2', 'TNNI3K', 'TNPO1-DT', 'TNPO1P3', 'TNR', 'TNRC18P3', 'TNRC6B-DT', 'TNS1-AS1', 'TNXB', 'TOMM40P1', 'TP53AIP1', 'TP53RK-DT', 'TPBGL', 'TPH2', 'TPM3P7', 'TPRKBP1', 'TPRKBP2', 'TPT1P10', 'TPT1P11', 'TPT1P7', 'TPTE2P1', 'TRAF1', 'TRBJ2-1', 'TRBJ2-2P', 'TRBJ2-4', 'TRBV13', 'TRBV30', 'TRDN-AS1', 'TRIM10', 'TRIM54', 'TRIM55', 'TRIM60', 'TRIM60P18', 'TRIM72', 'TRIM74', 'TRIM9', 'TRPM3', 'TRPM6', 'TRPM8', 'TRPV6', 'TSBP1-AS1', 'TSHZ2', 'TSHZ3', 'TSPAN19', 'TSPEAR', 'TSPOAP1', 'TSPY26P', 'TSSC2', 'TSSK1A', 'TSSK2', 'TSSK3', 'TTC12-DT', 'TTC24', 'TTC29', 'TTC32-DT', 'TTC9-DT', 'TTLL6', 'TTLL7-IT1', 'TTPA', 'TUBA3C', 'TUBA3FP', 'TUBA3GP', 'TUBAP1', 'TUBAP11', 'TUBAP13', 'TUBAP15', 'TUBAP4', 'TUBAP6', 'TUBAP7', 'TUBB8P1', 'TUBB8P11', 'TUBB8P2', 'TUBB8P3', 'TULP1', 'TVP23BP2', 'TWF1P2', 'TXNDC2', 'TXNDC8', 'TXNL4AP1', 'TXNP2', 'U2AF1L5', 'UBA52P3', 'UBA52P8', 'UBAP1L', 'UBBP5', 'UBE2CP1', 'UBE2E2-AS1', 'UBE2FP2', 'UBE2FP3', 'UBE2L2', 'UBE2Q2P10', 'UBE2Q2P6', 'UBE2V1P13', 'UBE2WP1', 'UFM1P1', 'UGT2B17', 'UGT2B26P', 'UGT3A2', 'UHRF1BP1L-DT', 'UHRF2P1', 'ULK4P1', 'ULK4P2', 'ULK4P3', 'UNC13A', 'UNC5C', 'UNC5CL', 'UNC80', 'UNC93B4', 'UNC93B7', 'UNC93B8', 'UNGP3', 'UPK3A', 'UQCR10P1', 'UQCRBP2', 'UQCRHP1', 'UQCRHP2', 'USH1C', 'USP12-AS2', 'USP12P1', 'USP24P1', 'USP27X-DT', 'USP32P1', 'USP32P2', 'USP38-DT', 'USP7-AS1', 'VAT1L', 'VCAN-AS1', 'VDAC1P4', 'VDAC2P1', 'VDAC2P2', 'VIPR2', 'VN1R93P', 'VN2R10P', 'VN2R17P', 'VN2R1P', 'VNN3', 'VPS13C-DT', 'VPS25P1', 'VSIG10L-AS1', 'VSIG10L2', 'VSTM5', 'VSX1', 'VTCN1', 'VTI1BP3', 'VWA3B', 'VWA5B2', 'VWA8-AS1', 'VWF', 'VXN', 'WARS2-IT1', 'WAS', 'WASH7P', 'WASIR1', 'WDR49', 'WDR64', 'WDR93', 'WDR95P', 'WFDC21P', 'WFDC5', 'WIPF1', 'WNT5A-AS1', 'WNT6', 'WNT8B', 'WWC2-AS1', 'XIRP2-AS1', 'XKR5', 'YAP1P1', 'YPEL4', 'YPEL5P2', 'YWHAQP1', 'YWHAQP5', 'YWHAZP7', 'YWHAZP8', 'ZAR1', 'ZAR1L', 'ZBBX', 'ZBTB12', 'ZBTB20-AS5', 'ZBTB32', 'ZBTB40-IT1', 'ZBTB45P2', 'ZBTB8OSP1', 'ZC3H11B', 'ZC3H12B', 'ZC3H12D', 'ZC4H2', 'ZCCHC12', 'ZCWPW2', 'ZFP3-DT', 'ZFP91P1', 'ZFR2', 'ZIC4-AS1', 'ZKSCAN2-DT', 'ZKSCAN7', 'ZMAT4', 'ZMIZ1-AS1', 'ZNF197-AS1', 'ZNF208', 'ZNF233', 'ZNF285B', 'ZNF334', 'ZNF382', 'ZNF396', 'ZNF467', 'ZNF474', 'ZNF491', 'ZNF503-AS1', 'ZNF534', 'ZNF570', 'ZNF602P', 'ZNF603P', 'ZNF625', 'ZNF652-AS1', 'ZNF662', 'ZNF679', 'ZNF727', 'ZNF728', 'ZNF729', 'ZNF732', 'ZNF793', 'ZNF80', 'ZNF84-DT', 'ZNF843', 'ZNF847P', 'ZNF849P', 'ZNF859P', 'ZNF861P', 'ZNF876P', 'ZNF890P', 'ZNF969P', 'ZNF970P', 'ZNF98', 'ZNF99', 'ZNHIT1P1', 'ZP1', 'ZSCAN1', 'ZSCAN10', 'ZSCAN5B', 'ZSCAN5DP', 'ZSWIM2']\n"
     ]
    }
   ],
   "source": [
    "rows_removed = hcc_smartS_raw.loc[~hcc_smartS_raw.index.isin(hcc_smartS_filt.index)]\n",
    "\n",
    "# Step 2: Compare Columns\n",
    "columns_removed = hcc_smartS_raw.columns.difference(hcc_smartS_filt.columns).tolist()\n",
    "\n",
    "\n",
    "# Display Results\n",
    "print(\"Rows Removed:\", len(rows_removed))\n",
    "print(\"Columns Removed:\", len(columns_removed))\n",
    "print(\"\\nColumns Removed:\")\n",
    "print(columns_removed)  # Display the removed columns"
   ]
  },
  {
   "cell_type": "markdown",
   "metadata": {},
   "source": [
    "Now we check the same hypotesis as before, that is that all columns with less than 5 nonzero values were removed. This is indeed the case."
   ]
  },
  {
   "cell_type": "code",
   "execution_count": 46,
   "metadata": {},
   "outputs": [
    {
     "name": "stdout",
     "output_type": "stream",
     "text": [
      "Is the hypothesis correct? True\n",
      "Shape of the filtered dataset: (227, 19503)\n",
      "Shape of the intersection dataset: (227, 19503)\n"
     ]
    }
   ],
   "source": [
    "# Count the number of non-zero values in each column in the raw dataset\n",
    "non_zero_counts_per_column = (hcc_smartS_raw != 0).sum(axis=0)\n",
    "\n",
    "# Identify columns with more than 5 non-zero values\n",
    "columns_with_more_than_5_non_zeros = non_zero_counts_per_column[non_zero_counts_per_column > 5].index\n",
    "\n",
    "# Find the intersection of these columns with the columns of the filtered dataset\n",
    "common_columns = columns_with_more_than_5_non_zeros.intersection(hcc_smartS_filt.columns)\n",
    "\n",
    "# Create a new DataFrame based on the intersection of columns\n",
    "df_inters = hcc_smartS_filt[common_columns]\n",
    "\n",
    "# Compare the shapes\n",
    "is_hypothesis_correct = df_inters.shape[1] == hcc_smartS_filt.shape[1]\n",
    "\n",
    "# Display the result\n",
    "print(\"Is the hypothesis correct?\", is_hypothesis_correct)\n",
    "print(\"Shape of the filtered dataset:\", hcc_smartS_filt.shape)\n",
    "print(\"Shape of the intersection dataset:\", df_inters.shape)\n"
   ]
  },
  {
   "cell_type": "markdown",
   "metadata": {},
   "source": [
    "We see that every column with that characteristic was removed, because every column of the filtered dataset has that characteristic. But as we can see in the next cell code, there are still some columns that were removed but had more than 5 nonzero values."
   ]
  },
  {
   "cell_type": "code",
   "execution_count": 47,
   "metadata": {},
   "outputs": [
    {
     "name": "stdout",
     "output_type": "stream",
     "text": [
      "Number of columns with more than 5 non-zero values: 19681\n",
      "Columns remaining to check: 178\n"
     ]
    }
   ],
   "source": [
    "# Count the number of non-zero values in each column\n",
    "non_zero_counts = (hcc_smartS_raw != 0).sum(axis=0)\n",
    "\n",
    "# Count columns with more than 5 non-zero values\n",
    "columns_with_more_than_5_non_zeros = (non_zero_counts > 5).sum()\n",
    "\n",
    "# Display the result\n",
    "print(\"Number of columns with more than 5 non-zero values:\", columns_with_more_than_5_non_zeros)\n",
    "print(\"Columns remaining to check:\",columns_with_more_than_5_non_zeros - hcc_smartS_filt.shape[1])"
   ]
  },
  {
   "cell_type": "markdown",
   "metadata": {},
   "source": [
    "We check if we are in the same situation as before, hence that maybe the removal of the rows was done before the one of the columns."
   ]
  },
  {
   "cell_type": "code",
   "execution_count": 48,
   "metadata": {},
   "outputs": [
    {
     "name": "stdout",
     "output_type": "stream",
     "text": [
      "Columns that were removed and had more than 5 non-zero values originally:\n",
      "['ABT1P1' 'ACOT1' 'ACOT6' 'ACTG1P3' 'ADAMTS3' 'ADCY2' 'AHCYP2'\n",
      " 'ANKRD36BP2' 'ASGR1' 'BEND4' 'BMF' 'BNIPL' 'C11orf16' 'C12orf42'\n",
      " 'C6orf58' 'C9orf135' 'CALML3' 'CAPN3' 'CATSPER2' 'CCDC13' 'CCDC81'\n",
      " 'CDC42P1' 'CFAP91' 'CGNL1' 'CHST8' 'CHTF8P1' 'COL24A1' 'CRCT1' 'CSF1R'\n",
      " 'CSGALNACT2P1' 'CSPG4P12' 'CTNNA1-AS1' 'DDN' 'DDR2' 'DDX18P3' 'DNAH6'\n",
      " 'DNAH8-AS1' 'DOCK9-DT' 'DPP3P2' 'DPY19L1P2' 'EDAR' 'EEF1DP7' 'EXTL1'\n",
      " 'FALEC' 'FAM32BP' 'FAM85B' 'FAP' 'FCGR1A' 'FGFBP2' 'FNTAP2' 'FRG1-DT'\n",
      " 'FTH1P25' 'FZD10-AS1' 'GFRA3' 'GLP2R' 'GPR137C' 'GRIK1' 'GRIN1' 'GRM3'\n",
      " 'GRXCR2' 'GSG1' 'GTF2IP5' 'HDAC2-AS2' 'HERC2P6' 'HMX2' 'IGHV3-30'\n",
      " 'IGHV3-33' 'ITIH5' 'JAM2' 'KANSL1L-AS1' 'KCNC1' 'KCNE4' 'KCNJ3' 'KCNK15'\n",
      " 'KCNQ4' 'KCTD19' 'KIF5C' 'LAMB4' 'LINC00189' 'LINC00997' 'LINC01303'\n",
      " 'LINC01770' 'LINC01775' 'LINC01977' 'LINC02457' 'LINC02728' 'LTK' 'MAGI1'\n",
      " 'MAP3K5-AS1' 'MARCHF10' 'MIR26A1' 'MIR3650' 'MIR4300HG' 'MIR6514'\n",
      " 'MIR6824' 'MOXD1' 'MRAS' 'MROH7' 'MRPS18BP2' 'MUC4' 'MYB-AS1' 'NCF4'\n",
      " 'NDFIP1P1' 'NEURL3' 'NOVA1' 'NPM1P32' 'NR2E1' 'OCM' 'OTUD7A' 'PCDH8'\n",
      " 'PCSK4' 'PDIA2' 'PELATON' 'PGLYRP3' 'PGLYRP4' 'PMS2P9' 'PPP1R11P1'\n",
      " 'PRELP' 'PRKCB' 'PROCA1' 'PRTFDC1' 'PTGIR' 'PTPRD' 'PTPRH' 'PTPRJ-AS1'\n",
      " 'RAD51AP1P1' 'RIMBP2' 'RN7SL68P' 'RNU4-51P' 'RNU6-42P' 'ROBO4' 'RPL12P13'\n",
      " 'RPL12P50' 'RPL23AP66' 'RPL23P5' 'RPL5P35' 'RPL7P11' 'RPS10P2'\n",
      " 'RPS15AP30' 'RPS2P18' 'RPS3AP18' 'RPS3AP40' 'RPSAP18' 'RSPH10B2' 'SCN11A'\n",
      " 'SCN3B' 'SEPTIN4-AS1' 'SESN3' 'SIAH3' 'SLAMF7' 'SLC2A14' 'SLC38A3'\n",
      " 'SMIM10L2B' 'SMIM24' 'SPATA4' 'SPNS3' 'SPRY3' 'STK24-AS1' 'SYNPO2L'\n",
      " 'TAL2' 'TBC1D22A-AS1' 'TERF1P7' 'TMEM232' 'TMEM74' 'TMTC1' 'TNNC2'\n",
      " 'TNPO1-DT' 'TNS1-AS1' 'TNXB' 'TPH2' 'TRPM6' 'TTC29' 'TTLL7-IT1' 'TUBAP1'\n",
      " 'TUBAP13' 'WASH7P' 'WIPF1' 'ZNF467']\n",
      "Columns from above that have less than or equal to 5 non-zero values after row removal:\n",
      "['ABT1P1' 'ACOT1' 'ACOT6' 'ACTG1P3' 'ADAMTS3' 'ADCY2' 'AHCYP2'\n",
      " 'ANKRD36BP2' 'ASGR1' 'BEND4' 'BMF' 'BNIPL' 'C11orf16' 'C12orf42'\n",
      " 'C6orf58' 'C9orf135' 'CALML3' 'CAPN3' 'CATSPER2' 'CCDC13' 'CCDC81'\n",
      " 'CDC42P1' 'CFAP91' 'CGNL1' 'CHST8' 'CHTF8P1' 'COL24A1' 'CRCT1' 'CSF1R'\n",
      " 'CSGALNACT2P1' 'CSPG4P12' 'CTNNA1-AS1' 'DDN' 'DDR2' 'DDX18P3' 'DNAH6'\n",
      " 'DNAH8-AS1' 'DOCK9-DT' 'DPP3P2' 'DPY19L1P2' 'EDAR' 'EEF1DP7' 'EXTL1'\n",
      " 'FALEC' 'FAM32BP' 'FAM85B' 'FAP' 'FCGR1A' 'FGFBP2' 'FNTAP2' 'FRG1-DT'\n",
      " 'FTH1P25' 'FZD10-AS1' 'GFRA3' 'GLP2R' 'GPR137C' 'GRIK1' 'GRIN1' 'GRM3'\n",
      " 'GRXCR2' 'GSG1' 'GTF2IP5' 'HDAC2-AS2' 'HERC2P6' 'HMX2' 'IGHV3-30'\n",
      " 'IGHV3-33' 'ITIH5' 'JAM2' 'KANSL1L-AS1' 'KCNC1' 'KCNE4' 'KCNJ3' 'KCNK15'\n",
      " 'KCNQ4' 'KCTD19' 'KIF5C' 'LAMB4' 'LINC00189' 'LINC00997' 'LINC01303'\n",
      " 'LINC01770' 'LINC01775' 'LINC01977' 'LINC02457' 'LINC02728' 'LTK' 'MAGI1'\n",
      " 'MAP3K5-AS1' 'MARCHF10' 'MIR26A1' 'MIR3650' 'MIR4300HG' 'MIR6514'\n",
      " 'MIR6824' 'MOXD1' 'MRAS' 'MROH7' 'MRPS18BP2' 'MUC4' 'MYB-AS1' 'NCF4'\n",
      " 'NDFIP1P1' 'NEURL3' 'NOVA1' 'NPM1P32' 'NR2E1' 'OCM' 'OTUD7A' 'PCDH8'\n",
      " 'PCSK4' 'PDIA2' 'PELATON' 'PGLYRP3' 'PGLYRP4' 'PMS2P9' 'PPP1R11P1'\n",
      " 'PRELP' 'PRKCB' 'PROCA1' 'PRTFDC1' 'PTGIR' 'PTPRD' 'PTPRH' 'PTPRJ-AS1'\n",
      " 'RAD51AP1P1' 'RIMBP2' 'RN7SL68P' 'RNU4-51P' 'RNU6-42P' 'ROBO4' 'RPL12P13'\n",
      " 'RPL12P50' 'RPL23AP66' 'RPL23P5' 'RPL5P35' 'RPL7P11' 'RPS10P2'\n",
      " 'RPS15AP30' 'RPS2P18' 'RPS3AP18' 'RPS3AP40' 'RPSAP18' 'RSPH10B2' 'SCN11A'\n",
      " 'SCN3B' 'SEPTIN4-AS1' 'SESN3' 'SIAH3' 'SLAMF7' 'SLC2A14' 'SLC38A3'\n",
      " 'SMIM10L2B' 'SMIM24' 'SPATA4' 'SPNS3' 'SPRY3' 'STK24-AS1' 'SYNPO2L'\n",
      " 'TAL2' 'TBC1D22A-AS1' 'TERF1P7' 'TMEM232' 'TMEM74' 'TMTC1' 'TNNC2'\n",
      " 'TNPO1-DT' 'TNS1-AS1' 'TNXB' 'TPH2' 'TRPM6' 'TTC29' 'TTLL7-IT1' 'TUBAP1'\n",
      " 'TUBAP13' 'WASH7P' 'WIPF1' 'ZNF467']\n",
      "Is the hypothesis correct? True\n"
     ]
    }
   ],
   "source": [
    "\n",
    "# Identify rows that were removed\n",
    "removed_rows = hcc_smartS_raw.index.difference(hcc_smartS_filt.index)\n",
    "\n",
    "# Create a new version of the raw dataset with those rows removed\n",
    "raw_without_removed_rows = hcc_smartS_raw.drop(index=removed_rows)\n",
    "\n",
    "# Count the number of non-zero values in each column of the new dataset\n",
    "non_zero_counts_after_row_removal = (raw_without_removed_rows != 0).sum(axis=0)\n",
    "\n",
    "# Identify columns that had more than 5 non-zero values in the original raw dataset\n",
    "non_zero_counts_original = (hcc_smartS_raw != 0).sum(axis=0)\n",
    "columns_with_more_than_5_non_zeros_original = non_zero_counts_original[non_zero_counts_original > 5].index\n",
    "\n",
    "# Identify columns with more than 5 non-zero values in the new dataset (after row removal)\n",
    "columns_with_more_than_5_non_zeros_after_row_removal = non_zero_counts_after_row_removal[non_zero_counts_after_row_removal > 5].index\n",
    "\n",
    "# Find columns that were removed but had more than 5 non-zero values in the original dataset\n",
    "diff_df = columns_with_more_than_5_non_zeros_original.difference(hcc_smartS_filt.columns)\n",
    "\n",
    "# Check which of these columns have less than or equal to 5 non-zero values after row removal\n",
    "columns_with_less_or_equal_5_after_row_removal = non_zero_counts_after_row_removal[diff_df]\n",
    "columns_removed_due_to_row_removal = columns_with_less_or_equal_5_after_row_removal[columns_with_less_or_equal_5_after_row_removal <= 5].index\n",
    "\n",
    "# Display the result\n",
    "print(\"Columns that were removed and had more than 5 non-zero values originally:\")\n",
    "print(diff_df.to_numpy())\n",
    "\n",
    "print(\"Columns from above that have less than or equal to 5 non-zero values after row removal:\")\n",
    "print(columns_removed_due_to_row_removal.to_numpy())\n",
    "\n",
    "# Validate hypothesis\n",
    "hypothesis_correct = (diff_df.to_numpy().tolist() == columns_removed_due_to_row_removal.to_numpy().tolist())\n",
    "print(\"Is the hypothesis correct?\", hypothesis_correct)\n"
   ]
  },
  {
   "cell_type": "markdown",
   "metadata": {},
   "source": [
    "It is indeed the case. Again, we need to understand why those rows were removed"
   ]
  },
  {
   "cell_type": "code",
   "execution_count": 49,
   "metadata": {},
   "outputs": [
    {
     "name": "stdout",
     "output_type": "stream",
     "text": [
      "Indexes of the removed rows:\n",
      "['output.STAR.PCRPlate1A1_Hypoxia_S97_Aligned.sortedByCoord.out.bam'\n",
      " 'output.STAR.PCRPlate1B1_Hypoxia_S98_Aligned.sortedByCoord.out.bam'\n",
      " 'output.STAR.PCRPlate1B4_Hypoxia_S105_Aligned.sortedByCoord.out.bam'\n",
      " 'output.STAR.PCRPlate1D3_Hypoxia_S6_Aligned.sortedByCoord.out.bam'\n",
      " 'output.STAR.PCRPlate1F8_Normoxia_S18_Aligned.sortedByCoord.out.bam'\n",
      " 'output.STAR.PCRPlate1G6_Hypoxia_S15_Aligned.sortedByCoord.out.bam'\n",
      " 'output.STAR.PCRPlate2E12_Normoxia_S61_Aligned.sortedByCoord.out.bam'\n",
      " 'output.STAR.PCRPlate2F12_Normoxia_S62_Aligned.sortedByCoord.out.bam'\n",
      " 'output.STAR.PCRPlate2G10_Normoxia_S157_Aligned.sortedByCoord.out.bam'\n",
      " 'output.STAR.PCRPlate2H2_Hypoxia_S35_Aligned.sortedByCoord.out.bam'\n",
      " 'output.STAR.PCRPlate3D10_Normoxia_S188_Aligned.sortedByCoord.out.bam'\n",
      " 'output.STAR.PCRPlate3D11_Normoxia_S92_Aligned.sortedByCoord.out.bam'\n",
      " 'output.STAR.PCRPlate3D2_Hypoxia_S168_Aligned.sortedByCoord.out.bam'\n",
      " 'output.STAR.PCRPlate3D3_Hypoxia_S72_Aligned.sortedByCoord.out.bam'\n",
      " 'output.STAR.PCRPlate3D5_Hypoxia_S78_Aligned.sortedByCoord.out.bam'\n",
      " 'output.STAR.PCRPlate4B1_Hypoxia_S221_Aligned.sortedByCoord.out.bam']\n"
     ]
    }
   ],
   "source": [
    "# Identify rows that were removed\n",
    "removed_rows = hcc_smartS_raw.index.difference(hcc_smartS_filt.index)\n",
    "\n",
    "# Print the indexes of the removed rows\n",
    "print(\"Indexes of the removed rows:\")\n",
    "print(removed_rows.to_numpy())"
   ]
  },
  {
   "cell_type": "code",
   "execution_count": 50,
   "metadata": {},
   "outputs": [
    {
     "name": "stdout",
     "output_type": "stream",
     "text": [
      "Sum of inputs in each row for the removed rows:\n"
     ]
    },
    {
     "data": {
      "text/plain": [
       "count    1.600000e+01\n",
       "mean     8.274348e+05\n",
       "std      1.683270e+06\n",
       "min      1.140000e+02\n",
       "25%      4.207500e+02\n",
       "50%      3.734050e+04\n",
       "75%      2.899445e+05\n",
       "max      5.758132e+06\n",
       "dtype: float64"
      ]
     },
     "execution_count": 50,
     "metadata": {},
     "output_type": "execute_result"
    }
   ],
   "source": [
    "\n",
    "# Identify rows that were removed\n",
    "removed_rows = hcc_smartS_raw.index.difference(hcc_smartS_filt.index)\n",
    "\n",
    "# Select the removed rows from the raw dataset\n",
    "removed_rows_data = hcc_smartS_raw.loc[removed_rows]\n",
    "\n",
    "# Calculate the sum of inputs in each row for the removed rows\n",
    "removed_rows_sum = removed_rows_data.sum(axis=1)\n",
    "\n",
    "# Print the sums of the removed rows\n",
    "print(\"Sum of inputs in each row for the removed rows:\")\n",
    "removed_rows_sum.describe()\n"
   ]
  },
  {
   "cell_type": "code",
   "execution_count": 51,
   "metadata": {},
   "outputs": [
    {
     "data": {
      "application/vnd.plotly.v1+json": {
       "config": {
        "plotlyServerURL": "https://plot.ly"
       },
       "data": [
        {
         "alignmentgroup": "True",
         "hovertemplate": "index=%{x}<br>value=%{y}<br>removed=%{marker.color}<extra></extra>",
         "legendgroup": "",
         "marker": {
          "color": [
           1,
           1,
           1,
           1,
           1,
           1,
           1,
           1,
           1,
           1,
           1,
           1,
           0,
           0,
           1,
           0,
           0,
           0,
           0,
           0,
           0,
           0,
           0,
           0,
           0,
           0,
           0,
           0,
           0,
           0,
           0,
           0,
           0,
           0,
           0,
           0,
           0,
           0,
           0,
           0,
           0,
           0,
           0,
           0,
           0,
           0,
           0,
           0,
           0,
           0,
           0,
           0,
           0,
           0,
           0,
           0,
           0,
           0,
           0,
           0,
           0,
           0,
           0,
           0,
           0,
           0,
           0,
           0,
           0,
           0,
           0,
           0,
           0,
           0,
           0,
           0,
           0,
           0,
           0,
           0,
           0,
           0,
           0,
           0,
           0,
           0,
           0,
           0,
           0,
           0,
           0,
           0,
           0,
           0,
           0,
           0,
           0,
           0,
           0,
           0,
           0,
           0,
           0,
           0,
           0,
           0,
           0,
           0,
           0,
           0,
           0,
           0,
           0,
           0,
           0,
           0,
           0,
           0,
           0,
           0,
           0,
           0,
           0,
           0,
           0,
           0,
           0,
           0,
           0,
           0,
           0,
           0,
           0,
           0,
           0,
           0,
           0,
           0,
           0,
           0,
           0,
           0,
           0,
           0,
           0,
           0,
           0,
           0,
           0,
           0,
           0,
           0,
           0,
           0,
           0,
           0,
           0,
           0,
           0,
           0,
           0,
           0,
           0,
           0,
           0,
           0,
           0,
           0,
           0,
           0,
           1,
           0,
           0,
           0,
           0,
           0,
           0,
           0,
           0,
           0,
           0,
           0,
           0,
           0,
           0,
           0,
           0,
           0,
           0,
           0,
           0,
           0,
           0,
           0,
           0,
           0,
           0,
           0,
           0,
           0,
           0,
           0,
           0,
           0,
           0,
           0,
           0,
           0,
           0,
           0,
           0,
           0,
           0,
           0,
           0,
           0,
           1,
           0,
           0,
           0,
           0,
           0,
           0,
           0,
           0,
           0,
           0,
           0,
           0,
           0,
           0,
           0,
           0,
           0,
           0,
           0,
           0,
           0,
           0,
           0,
           0,
           0,
           1
          ],
          "coloraxis": "coloraxis",
          "pattern": {
           "shape": ""
          }
         },
         "name": "",
         "offsetgroup": "",
         "orientation": "v",
         "showlegend": false,
         "textposition": "auto",
         "type": "bar",
         "x": [
          "output.STAR.PCRPlate2F12_Normoxia_S62_Aligned.sortedByCoord.out.bam",
          "output.STAR.PCRPlate3D11_Normoxia_S92_Aligned.sortedByCoord.out.bam",
          "output.STAR.PCRPlate2E12_Normoxia_S61_Aligned.sortedByCoord.out.bam",
          "output.STAR.PCRPlate3D3_Hypoxia_S72_Aligned.sortedByCoord.out.bam",
          "output.STAR.PCRPlate1B1_Hypoxia_S98_Aligned.sortedByCoord.out.bam",
          "output.STAR.PCRPlate3D2_Hypoxia_S168_Aligned.sortedByCoord.out.bam",
          "output.STAR.PCRPlate3D5_Hypoxia_S78_Aligned.sortedByCoord.out.bam",
          "output.STAR.PCRPlate3D10_Normoxia_S188_Aligned.sortedByCoord.out.bam",
          "output.STAR.PCRPlate1G6_Hypoxia_S15_Aligned.sortedByCoord.out.bam",
          "output.STAR.PCRPlate1B4_Hypoxia_S105_Aligned.sortedByCoord.out.bam",
          "output.STAR.PCRPlate4B1_Hypoxia_S221_Aligned.sortedByCoord.out.bam",
          "output.STAR.PCRPlate1A1_Hypoxia_S97_Aligned.sortedByCoord.out.bam",
          "output.STAR.PCRPlate3D1_Hypoxia_S161_Aligned.sortedByCoord.out.bam",
          "output.STAR.PCRPlate2D12_Normoxia_S60_Aligned.sortedByCoord.out.bam",
          "output.STAR.PCRPlate2G10_Normoxia_S157_Aligned.sortedByCoord.out.bam",
          "output.STAR.PCRPlate4C11_Normoxia_S212_Aligned.sortedByCoord.out.bam",
          "output.STAR.PCRPlate3F3_Hypoxia_S170_Aligned.sortedByCoord.out.bam",
          "output.STAR.PCRPlate3C12_Normoxia_S95_Aligned.sortedByCoord.out.bam",
          "output.STAR.PCRPlate3A10_Normoxia_S186_Aligned.sortedByCoord.out.bam",
          "output.STAR.PCRPlate1G3_Hypoxia_S7_Aligned.sortedByCoord.out.bam",
          "output.STAR.PCRPlate2A1_Hypoxia_S129_Aligned.sortedByCoord.out.bam",
          "output.STAR.PCRPlate4E8_Normoxia_S233_Aligned.sortedByCoord.out.bam",
          "output.STAR.PCRPlate2G12_Normoxia_S63_Aligned.sortedByCoord.out.bam",
          "output.STAR.PCRPlate3H2_Hypoxia_S68_Aligned.sortedByCoord.out.bam",
          "output.STAR.PCRPlate4A3_Hypoxia_S200_Aligned.sortedByCoord.out.bam",
          "output.STAR.PCRPlate4F7_Normoxia_S203_Aligned.sortedByCoord.out.bam",
          "output.STAR.PCRPlate3C6_Hypoxia_S179_Aligned.sortedByCoord.out.bam",
          "output.STAR.PCRPlate4B11_Normoxia_S211_Aligned.sortedByCoord.out.bam",
          "output.STAR.PCRPlate4G7_Normoxia_S204_Aligned.sortedByCoord.out.bam",
          "output.STAR.PCRPlate4C2_Hypoxia_S195_Aligned.sortedByCoord.out.bam",
          "output.STAR.PCRPlate4G6_Hypoxia_S232_Aligned.sortedByCoord.out.bam",
          "output.STAR.PCRPlate1B6_Hypoxia_S12_Aligned.sortedByCoord.out.bam",
          "output.STAR.PCRPlate4A8_Normoxia_S206_Aligned.sortedByCoord.out.bam",
          "output.STAR.PCRPlate4E2_Hypoxia_S196_Aligned.sortedByCoord.out.bam",
          "output.STAR.PCRPlate1F7_Normoxia_S117_Aligned.sortedByCoord.out.bam",
          "output.STAR.PCRPlate3H6_Hypoxia_S182_Aligned.sortedByCoord.out.bam",
          "output.STAR.PCRPlate3H10_Normoxia_S192_Aligned.sortedByCoord.out.bam",
          "output.STAR.PCRPlate2C8_Normoxia_S49_Aligned.sortedByCoord.out.bam",
          "output.STAR.PCRPlate3A2_Hypoxia_S166_Aligned.sortedByCoord.out.bam",
          "output.STAR.PCRPlate3C11_Normoxia_S91_Aligned.sortedByCoord.out.bam",
          "output.STAR.PCRPlate4H11_Normoxia_S214_Aligned.sortedByCoord.out.bam",
          "output.STAR.PCRPlate3C3_Hypoxia_S71_Aligned.sortedByCoord.out.bam",
          "output.STAR.PCRPlate1A3_Hypoxia_S4_Aligned.sortedByCoord.out.bam",
          "output.STAR.PCRPlate2E9_Normoxia_S55_Aligned.sortedByCoord.out.bam",
          "output.STAR.PCRPlate3E12_Normoxia_S217_Aligned.sortedByCoord.out.bam",
          "output.STAR.PCRPlate3E9_Normoxia_S87_Aligned.sortedByCoord.out.bam",
          "output.STAR.PCRPlate4H7_Normoxia_S205_Aligned.sortedByCoord.out.bam",
          "output.STAR.PCRPlate2A9_Normoxia_S53_Aligned.sortedByCoord.out.bam",
          "output.STAR.PCRPlate2H10_Normoxia_S158_Aligned.sortedByCoord.out.bam",
          "output.STAR.PCRPlate4F5_Hypoxia_S229_Aligned.sortedByCoord.out.bam",
          "output.STAR.PCRPlate2B11_Normoxia_S159_Aligned.sortedByCoord.out.bam",
          "output.STAR.PCRPlate1A7_Normoxia_S113_Aligned.sortedByCoord.out.bam",
          "output.STAR.PCRPlate3B9_Normoxia_S84_Aligned.sortedByCoord.out.bam",
          "output.STAR.PCRPlate4B8_Normoxia_S207_Aligned.sortedByCoord.out.bam",
          "output.STAR.PCRPlate2B2_Hypoxia_S135_Aligned.sortedByCoord.out.bam",
          "output.STAR.PCRPlate3C2_Hypoxia_S167_Aligned.sortedByCoord.out.bam",
          "output.STAR.PCRPlate2H11_Normoxia_S58_Aligned.sortedByCoord.out.bam",
          "output.STAR.PCRPlate1E5_Hypoxia_S112_Aligned.sortedByCoord.out.bam",
          "output.STAR.PCRPlate2C11_Normoxia_S160_Aligned.sortedByCoord.out.bam",
          "output.STAR.PCRPlate4C7_Normoxia_S202_Aligned.sortedByCoord.out.bam",
          "output.STAR.PCRPlate3B1_Hypoxia_S64_Aligned.sortedByCoord.out.bam",
          "output.STAR.PCRPlate3F4_Hypoxia_S176_Aligned.sortedByCoord.out.bam",
          "output.STAR.PCRPlate2G8_Normoxia_S52_Aligned.sortedByCoord.out.bam",
          "output.STAR.PCRPlate1B5_Hypoxia_S109_Aligned.sortedByCoord.out.bam",
          "output.STAR.PCRPlate3G3_Hypoxia_S171_Aligned.sortedByCoord.out.bam",
          "output.STAR.PCRPlate1F4_Hypoxia_S106_Aligned.sortedByCoord.out.bam",
          "output.STAR.PCRPlate1B3_Hypoxia_S5_Aligned.sortedByCoord.out.bam",
          "output.STAR.PCRPlate3D4_Hypoxia_S174_Aligned.sortedByCoord.out.bam",
          "output.STAR.PCRPlate3C9_Normoxia_S85_Aligned.sortedByCoord.out.bam",
          "output.STAR.PCRPlate1C12_Normoxia_S28_Aligned.sortedByCoord.out.bam",
          "output.STAR.PCRPlate4F2_Hypoxia_S197_Aligned.sortedByCoord.out.bam",
          "output.STAR.PCRPlate3B4_Hypoxia_S173_Aligned.sortedByCoord.out.bam",
          "output.STAR.PCRPlate2C1_Hypoxia_S131_Aligned.sortedByCoord.out.bam",
          "output.STAR.PCRPlate3C10_Normoxia_S187_Aligned.sortedByCoord.out.bam",
          "output.STAR.PCRPlate1A8_Normoxia_S119_Aligned.sortedByCoord.out.bam",
          "output.STAR.PCRPlate2D6_Hypoxia_S47_Aligned.sortedByCoord.out.bam",
          "output.STAR.PCRPlate1E7_Normoxia_S116_Aligned.sortedByCoord.out.bam",
          "output.STAR.PCRPlate1H9_Normoxia_S122_Aligned.sortedByCoord.out.bam",
          "output.STAR.PCRPlate1A4_Hypoxia_S8_Aligned.sortedByCoord.out.bam",
          "output.STAR.PCRPlate2G9_Normoxia_S56_Aligned.sortedByCoord.out.bam",
          "output.STAR.PCRPlate3A11_Normoxia_S89_Aligned.sortedByCoord.out.bam",
          "output.STAR.PCRPlate2F6_Hypoxia_S145_Aligned.sortedByCoord.out.bam",
          "output.STAR.PCRPlate1D10_Normoxia_S125_Aligned.sortedByCoord.out.bam",
          "output.STAR.PCRPlate2E6_Hypoxia_S48_Aligned.sortedByCoord.out.bam",
          "output.STAR.PCRPlate3E10_Normoxia_S189_Aligned.sortedByCoord.out.bam",
          "output.STAR.PCRPlate2A8_Normoxia_S151_Aligned.sortedByCoord.out.bam",
          "output.STAR.PCRPlate4C1_Hypoxia_S222_Aligned.sortedByCoord.out.bam",
          "output.STAR.PCRPlate2E8_Normoxia_S50_Aligned.sortedByCoord.out.bam",
          "output.STAR.PCRPlate4A7_Normoxia_S201_Aligned.sortedByCoord.out.bam",
          "output.STAR.PCRPlate4G2_Hypoxia_S198_Aligned.sortedByCoord.out.bam",
          "output.STAR.PCRPlate2C12_Normoxia_S59_Aligned.sortedByCoord.out.bam",
          "output.STAR.PCRPlate3G5_Hypoxia_S80_Aligned.sortedByCoord.out.bam",
          "output.STAR.PCRPlate2E11_Normoxia_S57_Aligned.sortedByCoord.out.bam",
          "output.STAR.PCRPlate2E4_Hypoxia_S141_Aligned.sortedByCoord.out.bam",
          "output.STAR.PCRPlate1E6_Hypoxia_S14_Aligned.sortedByCoord.out.bam",
          "output.STAR.PCRPlate3F6_Hypoxia_S180_Aligned.sortedByCoord.out.bam",
          "output.STAR.PCRPlate2D2_Hypoxia_S136_Aligned.sortedByCoord.out.bam",
          "output.STAR.PCRPlate1G2_Hypoxia_S2_Aligned.sortedByCoord.out.bam",
          "output.STAR.PCRPlate2D9_Normoxia_S54_Aligned.sortedByCoord.out.bam",
          "output.STAR.PCRPlate4A1_Hypoxia_S220_Aligned.sortedByCoord.out.bam",
          "output.STAR.PCRPlate4E12_Normoxia_S241_Aligned.sortedByCoord.out.bam",
          "output.STAR.PCRPlate3H7_Normoxia_S81_Aligned.sortedByCoord.out.bam",
          "output.STAR.PCRPlate3G9_Normoxia_S185_Aligned.sortedByCoord.out.bam",
          "output.STAR.PCRPlate4C12_Normoxia_S216_Aligned.sortedByCoord.out.bam",
          "output.STAR.PCRPlate4F9_Normoxia_S235_Aligned.sortedByCoord.out.bam",
          "output.STAR.PCRPlate4F4_Hypoxia_S228_Aligned.sortedByCoord.out.bam",
          "output.STAR.PCRPlate2C10_Normoxia_S154_Aligned.sortedByCoord.out.bam",
          "output.STAR.PCRPlate3A6_Hypoxia_S177_Aligned.sortedByCoord.out.bam",
          "output.STAR.PCRPlate3A12_Normoxia_S94_Aligned.sortedByCoord.out.bam",
          "output.STAR.PCRPlate4F1_Hypoxia_S224_Aligned.sortedByCoord.out.bam",
          "output.STAR.PCRPlate4H9_Normoxia_S236_Aligned.sortedByCoord.out.bam",
          "output.STAR.PCRPlate4G12_Normoxia_S243_Aligned.sortedByCoord.out.bam",
          "output.STAR.PCRPlate4A10_Normoxia_S237_Aligned.sortedByCoord.out.bam",
          "output.STAR.PCRPlate4F12_Normoxia_S242_Aligned.sortedByCoord.out.bam",
          "output.STAR.PCRPlate2A6_Hypoxia_S44_Aligned.sortedByCoord.out.bam",
          "output.STAR.PCRPlate1A9_Normoxia_S20_Aligned.sortedByCoord.out.bam",
          "output.STAR.PCRPlate3B8_Normoxia_S82_Aligned.sortedByCoord.out.bam",
          "output.STAR.PCRPlate3A9_Normoxia_S83_Aligned.sortedByCoord.out.bam",
          "output.STAR.PCRPlate3G12_Normoxia_S219_Aligned.sortedByCoord.out.bam",
          "output.STAR.PCRPlate4B3_Hypoxia_S225_Aligned.sortedByCoord.out.bam",
          "output.STAR.PCRPlate2E10_Normoxia_S155_Aligned.sortedByCoord.out.bam",
          "output.STAR.PCRPlate1C8_Normoxia_S120_Aligned.sortedByCoord.out.bam",
          "output.STAR.PCRPlate2B4_Hypoxia_S139_Aligned.sortedByCoord.out.bam",
          "output.STAR.PCRPlate3A5_Hypoxia_S75_Aligned.sortedByCoord.out.bam",
          "output.STAR.PCRPlate4B10_Normoxia_S238_Aligned.sortedByCoord.out.bam",
          "output.STAR.PCRPlate2A4_Hypoxia_S138_Aligned.sortedByCoord.out.bam",
          "output.STAR.PCRPlate3D9_Normoxia_S86_Aligned.sortedByCoord.out.bam",
          "output.STAR.PCRPlate3F2_Hypoxia_S66_Aligned.sortedByCoord.out.bam",
          "output.STAR.PCRPlate3E3_Hypoxia_S169_Aligned.sortedByCoord.out.bam",
          "output.STAR.PCRPlate2H3_Hypoxia_S137_Aligned.sortedByCoord.out.bam",
          "output.STAR.PCRPlate1B2_Hypoxia_S1_Aligned.sortedByCoord.out.bam",
          "output.STAR.PCRPlate4C3_Hypoxia_S226_Aligned.sortedByCoord.out.bam",
          "output.STAR.PCRPlate2E7_Normoxia_S148_Aligned.sortedByCoord.out.bam",
          "output.STAR.PCRPlate2E5_Hypoxia_S42_Aligned.sortedByCoord.out.bam",
          "output.STAR.PCRPlate4B12_Normoxia_S215_Aligned.sortedByCoord.out.bam",
          "output.STAR.PCRPlate4A9_Normoxia_S234_Aligned.sortedByCoord.out.bam",
          "output.STAR.PCRPlate3G1_Hypoxia_S164_Aligned.sortedByCoord.out.bam",
          "output.STAR.PCRPlate3F10_Normoxia_S190_Aligned.sortedByCoord.out.bam",
          "output.STAR.PCRPlate3B5_Hypoxia_S76_Aligned.sortedByCoord.out.bam",
          "output.STAR.PCRPlate1A10_Normoxia_S123_Aligned.sortedByCoord.out.bam",
          "output.STAR.PCRPlate4C10_Normoxia_S239_Aligned.sortedByCoord.out.bam",
          "output.STAR.PCRPlate4G10_Normoxia_S209_Aligned.sortedByCoord.out.bam",
          "output.STAR.PCRPlate2A3_Hypoxia_S36_Aligned.sortedByCoord.out.bam",
          "output.STAR.PCRPlate2B8_Normoxia_S152_Aligned.sortedByCoord.out.bam",
          "output.STAR.PCRPlate2F8_Normoxia_S51_Aligned.sortedByCoord.out.bam",
          "output.STAR.PCRPlate3E1_Hypoxia_S162_Aligned.sortedByCoord.out.bam",
          "output.STAR.PCRPlate3E5_Hypoxia_S79_Aligned.sortedByCoord.out.bam",
          "output.STAR.PCRPlate1C10_Normoxia_S124_Aligned.sortedByCoord.out.bam",
          "output.STAR.PCRPlate3G7_Normoxia_S184_Aligned.sortedByCoord.out.bam",
          "output.STAR.PCRPlate4H10_Normoxia_S210_Aligned.sortedByCoord.out.bam",
          "output.STAR.PCRPlate1C7_Normoxia_S115_Aligned.sortedByCoord.out.bam",
          "output.STAR.PCRPlate4E11_Normoxia_S213_Aligned.sortedByCoord.out.bam",
          "output.STAR.PCRPlate3G6_Hypoxia_S181_Aligned.sortedByCoord.out.bam",
          "output.STAR.PCRPlate4G1_Hypoxia_S193_Aligned.sortedByCoord.out.bam",
          "output.STAR.PCRPlate3H3_Hypoxia_S172_Aligned.sortedByCoord.out.bam",
          "output.STAR.PCRPlate3E2_Hypoxia_S65_Aligned.sortedByCoord.out.bam",
          "output.STAR.PCRPlate2D5_Hypoxia_S41_Aligned.sortedByCoord.out.bam",
          "output.STAR.PCRPlate4B6_Hypoxia_S230_Aligned.sortedByCoord.out.bam",
          "output.STAR.PCRPlate4H2_Hypoxia_S199_Aligned.sortedByCoord.out.bam",
          "output.STAR.PCRPlate3G4_Hypoxia_S73_Aligned.sortedByCoord.out.bam",
          "output.STAR.PCRPlate1D9_Normoxia_S23_Aligned.sortedByCoord.out.bam",
          "output.STAR.PCRPlate3B6_Hypoxia_S178_Aligned.sortedByCoord.out.bam",
          "output.STAR.PCRPlate2A10_Normoxia_S153_Aligned.sortedByCoord.out.bam",
          "output.STAR.PCRPlate2C7_Normoxia_S147_Aligned.sortedByCoord.out.bam",
          "output.STAR.PCRPlate3B7_Normoxia_S183_Aligned.sortedByCoord.out.bam",
          "output.STAR.PCRPlate4F10_Normoxia_S240_Aligned.sortedByCoord.out.bam",
          "output.STAR.PCRPlate4E1_Hypoxia_S223_Aligned.sortedByCoord.out.bam",
          "output.STAR.PCRPlate1H1_Hypoxia_S103_Aligned.sortedByCoord.out.bam",
          "output.STAR.PCRPlate2C5_Hypoxia_S144_Aligned.sortedByCoord.out.bam",
          "output.STAR.PCRPlate1G11_Normoxia_S25_Aligned.sortedByCoord.out.bam",
          "output.STAR.PCRPlate1F8_Normoxia_S18_Aligned.sortedByCoord.out.bam",
          "output.STAR.PCRPlate2E3_Hypoxia_S39_Aligned.sortedByCoord.out.bam",
          "output.STAR.PCRPlate1G1_Hypoxia_S102_Aligned.sortedByCoord.out.bam",
          "output.STAR.PCRPlate2F2_Hypoxia_S33_Aligned.sortedByCoord.out.bam",
          "output.STAR.PCRPlate3G10_Normoxia_S191_Aligned.sortedByCoord.out.bam",
          "output.STAR.PCRPlate1C1_Hypoxia_S99_Aligned.sortedByCoord.out.bam",
          "output.STAR.PCRPlate3H1_Hypoxia_S165_Aligned.sortedByCoord.out.bam",
          "output.STAR.PCRPlate1E1_Hypoxia_S101_Aligned.sortedByCoord.out.bam",
          "output.STAR.PCRPlate1F12_Normoxia_S31_Aligned.sortedByCoord.out.bam",
          "output.STAR.PCRPlate2G7_Normoxia_S150_Aligned.sortedByCoord.out.bam",
          "output.STAR.PCRPlate2C4_Hypoxia_S140_Aligned.sortedByCoord.out.bam",
          "output.STAR.PCRPlate1B9_Normoxia_S21_Aligned.sortedByCoord.out.bam",
          "output.STAR.PCRPlate3B11_Normoxia_S90_Aligned.sortedByCoord.out.bam",
          "output.STAR.PCRPlate3F1_Hypoxia_S163_Aligned.sortedByCoord.out.bam",
          "output.STAR.PCRPlate1D1_Hypoxia_S100_Aligned.sortedByCoord.out.bam",
          "output.STAR.PCRPlate1E12_Normoxia_S30_Aligned.sortedByCoord.out.bam",
          "output.STAR.PCRPlate3G2_Hypoxia_S67_Aligned.sortedByCoord.out.bam",
          "output.STAR.PCRPlate3G11_Normoxia_S93_Aligned.sortedByCoord.out.bam",
          "output.STAR.PCRPlate3F12_Normoxia_S218_Aligned.sortedByCoord.out.bam",
          "output.STAR.PCRPlate1E8_Normoxia_S17_Aligned.sortedByCoord.out.bam",
          "output.STAR.PCRPlate1G9_Normoxia_S121_Aligned.sortedByCoord.out.bam",
          "output.STAR.PCRPlate2B3_Hypoxia_S37_Aligned.sortedByCoord.out.bam",
          "output.STAR.PCRPlate1C11_Normoxia_S128_Aligned.sortedByCoord.out.bam",
          "output.STAR.PCRPlate4E3_Hypoxia_S227_Aligned.sortedByCoord.out.bam",
          "output.STAR.PCRPlate3A3_Hypoxia_S69_Aligned.sortedByCoord.out.bam",
          "output.STAR.PCRPlate2F3_Hypoxia_S40_Aligned.sortedByCoord.out.bam",
          "output.STAR.PCRPlate2F10_Normoxia_S156_Aligned.sortedByCoord.out.bam",
          "output.STAR.PCRPlate1H5_Hypoxia_S10_Aligned.sortedByCoord.out.bam",
          "output.STAR.PCRPlate4B2_Hypoxia_S194_Aligned.sortedByCoord.out.bam",
          "output.STAR.PCRPlate4C6_Hypoxia_S231_Aligned.sortedByCoord.out.bam",
          "output.STAR.PCRPlate1G12_Normoxia_S32_Aligned.sortedByCoord.out.bam",
          "output.STAR.PCRPlate1A6_Hypoxia_S11_Aligned.sortedByCoord.out.bam",
          "output.STAR.PCRPlate1G10_Normoxia_S126_Aligned.sortedByCoord.out.bam",
          "output.STAR.PCRPlate2B6_Hypoxia_S45_Aligned.sortedByCoord.out.bam",
          "output.STAR.PCRPlate4C8_Normoxia_S208_Aligned.sortedByCoord.out.bam",
          "output.STAR.PCRPlate1C6_Hypoxia_S13_Aligned.sortedByCoord.out.bam",
          "output.STAR.PCRPlate2F7_Normoxia_S149_Aligned.sortedByCoord.out.bam",
          "output.STAR.PCRPlate3E4_Hypoxia_S175_Aligned.sortedByCoord.out.bam",
          "output.STAR.PCRPlate2D1_Hypoxia_S132_Aligned.sortedByCoord.out.bam",
          "output.STAR.PCRPlate2F4_Hypoxia_S142_Aligned.sortedByCoord.out.bam",
          "output.STAR.PCRPlate1B7_Normoxia_S114_Aligned.sortedByCoord.out.bam",
          "output.STAR.PCRPlate3B3_Hypoxia_S70_Aligned.sortedByCoord.out.bam",
          "output.STAR.PCRPlate1H2_Hypoxia_S3_Aligned.sortedByCoord.out.bam",
          "output.STAR.PCRPlate2C6_Hypoxia_S46_Aligned.sortedByCoord.out.bam",
          "output.STAR.PCRPlate1F5_Hypoxia_S9_Aligned.sortedByCoord.out.bam",
          "output.STAR.PCRPlate3F9_Normoxia_S88_Aligned.sortedByCoord.out.bam",
          "output.STAR.PCRPlate1D3_Hypoxia_S6_Aligned.sortedByCoord.out.bam",
          "output.STAR.PCRPlate1A2_Hypoxia_S104_Aligned.sortedByCoord.out.bam",
          "output.STAR.PCRPlate2B1_Hypoxia_S130_Aligned.sortedByCoord.out.bam",
          "output.STAR.PCRPlate1A5_Hypoxia_S108_Aligned.sortedByCoord.out.bam",
          "output.STAR.PCRPlate3D12_Normoxia_S96_Aligned.sortedByCoord.out.bam",
          "output.STAR.PCRPlate1G7_Normoxia_S118_Aligned.sortedByCoord.out.bam",
          "output.STAR.PCRPlate1H6_Hypoxia_S16_Aligned.sortedByCoord.out.bam",
          "output.STAR.PCRPlate2G4_Hypoxia_S143_Aligned.sortedByCoord.out.bam",
          "output.STAR.PCRPlate3C5_Hypoxia_S77_Aligned.sortedByCoord.out.bam",
          "output.STAR.PCRPlate1D12_Normoxia_S29_Aligned.sortedByCoord.out.bam",
          "output.STAR.PCRPlate2H1_Hypoxia_S134_Aligned.sortedByCoord.out.bam",
          "output.STAR.PCRPlate1F9_Normoxia_S24_Aligned.sortedByCoord.out.bam",
          "output.STAR.PCRPlate2F1_Hypoxia_S133_Aligned.sortedByCoord.out.bam",
          "output.STAR.PCRPlate1C5_Hypoxia_S110_Aligned.sortedByCoord.out.bam",
          "output.STAR.PCRPlate1D5_Hypoxia_S111_Aligned.sortedByCoord.out.bam",
          "output.STAR.PCRPlate1G4_Hypoxia_S107_Aligned.sortedByCoord.out.bam",
          "output.STAR.PCRPlate1B11_Normoxia_S127_Aligned.sortedByCoord.out.bam",
          "output.STAR.PCRPlate1C9_Normoxia_S22_Aligned.sortedByCoord.out.bam",
          "output.STAR.PCRPlate1G8_Normoxia_S19_Aligned.sortedByCoord.out.bam",
          "output.STAR.PCRPlate2H6_Hypoxia_S146_Aligned.sortedByCoord.out.bam",
          "output.STAR.PCRPlate2G2_Hypoxia_S34_Aligned.sortedByCoord.out.bam",
          "output.STAR.PCRPlate2H5_Hypoxia_S43_Aligned.sortedByCoord.out.bam",
          "output.STAR.PCRPlate2C3_Hypoxia_S38_Aligned.sortedByCoord.out.bam",
          "output.STAR.PCRPlate3H4_Hypoxia_S74_Aligned.sortedByCoord.out.bam",
          "output.STAR.PCRPlate1B12_Normoxia_S27_Aligned.sortedByCoord.out.bam",
          "output.STAR.PCRPlate1A12_Normoxia_S26_Aligned.sortedByCoord.out.bam",
          "output.STAR.PCRPlate2H2_Hypoxia_S35_Aligned.sortedByCoord.out.bam"
         ],
         "xaxis": "x",
         "y": [
          114,
          164,
          277,
          342,
          447,
          510,
          649,
          677,
          74004,
          208564,
          218240,
          226818,
          342162,
          357524,
          479324,
          499611,
          539831,
          560957,
          561624,
          595988,
          602450,
          604465,
          648072,
          655536,
          656361,
          661442,
          669818,
          670817,
          676271,
          686145,
          696354,
          697255,
          700878,
          703846,
          749623,
          761278,
          765187,
          767062,
          800765,
          813321,
          823108,
          829379,
          835249,
          840619,
          853255,
          853692,
          872202,
          875951,
          886154,
          896367,
          896920,
          897562,
          898511,
          901009,
          904924,
          912818,
          932835,
          939060,
          947886,
          955837,
          989066,
          993059,
          993134,
          993773,
          998423,
          999619,
          1000328,
          1012449,
          1020020,
          1027740,
          1028798,
          1031413,
          1035257,
          1044482,
          1064802,
          1086055,
          1087280,
          1089709,
          1101681,
          1108603,
          1129261,
          1154987,
          1158110,
          1171438,
          1205299,
          1207763,
          1238100,
          1241134,
          1263791,
          1263995,
          1269032,
          1298043,
          1383592,
          1400016,
          1514323,
          1533839,
          1542991,
          1553406,
          1656612,
          1669527,
          1670615,
          1672351,
          1681233,
          1703342,
          1712821,
          1714011,
          1723403,
          1734352,
          1756014,
          1781221,
          1785205,
          1786560,
          1820590,
          1835048,
          1841982,
          1888667,
          1890160,
          1934902,
          1972206,
          1978794,
          2012818,
          2067645,
          2083763,
          2129996,
          2133049,
          2144450,
          2157315,
          2175890,
          2191329,
          2212745,
          2215312,
          2228021,
          2228738,
          2259013,
          2264907,
          2266851,
          2288798,
          2290795,
          2305714,
          2329439,
          2353424,
          2374543,
          2388426,
          2392215,
          2403468,
          2409179,
          2410469,
          2431819,
          2443145,
          2450514,
          2460128,
          2463656,
          2464014,
          2469836,
          2486742,
          2490330,
          2509534,
          2515116,
          2531399,
          2536258,
          2556546,
          2558890,
          2579219,
          2638529,
          2647682,
          2648748,
          2666316,
          2698140,
          2732116,
          2732921,
          2774344,
          2783831,
          2794653,
          2800355,
          2809266,
          2854059,
          2858034,
          2859957,
          2877981,
          2900163,
          2902673,
          2924717,
          2925646,
          2964895,
          2965549,
          2975811,
          2978834,
          2995583,
          2995819,
          2997988,
          3002620,
          3003994,
          3008068,
          3028581,
          3030756,
          3032840,
          3068183,
          3106189,
          3139941,
          3147227,
          3160327,
          3178801,
          3188542,
          3190633,
          3216429,
          3262209,
          3280313,
          3291933,
          3297853,
          3340575,
          3351844,
          3382067,
          3404815,
          3422232,
          3428519,
          3434485,
          3496351,
          3525520,
          3562235,
          3574896,
          3585412,
          3593523,
          3621779,
          3636516,
          3646666,
          3665692,
          3705894,
          3750371,
          3774972,
          3787364,
          3847658,
          3862091,
          3871726,
          3974755,
          4043375,
          4214179,
          4301535,
          4364609,
          4723635,
          4775797,
          4844324,
          4858841,
          5758132
         ],
         "yaxis": "y"
        }
       ],
       "layout": {
        "barmode": "relative",
        "coloraxis": {
         "colorbar": {
          "title": {
           "text": "removed"
          }
         },
         "colorscale": [
          [
           0,
           "#0d0887"
          ],
          [
           0.1111111111111111,
           "#46039f"
          ],
          [
           0.2222222222222222,
           "#7201a8"
          ],
          [
           0.3333333333333333,
           "#9c179e"
          ],
          [
           0.4444444444444444,
           "#bd3786"
          ],
          [
           0.5555555555555556,
           "#d8576b"
          ],
          [
           0.6666666666666666,
           "#ed7953"
          ],
          [
           0.7777777777777778,
           "#fb9f3a"
          ],
          [
           0.8888888888888888,
           "#fdca26"
          ],
          [
           1,
           "#f0f921"
          ]
         ]
        },
        "legend": {
         "tracegroupgap": 0
        },
        "template": {
         "data": {
          "bar": [
           {
            "error_x": {
             "color": "#2a3f5f"
            },
            "error_y": {
             "color": "#2a3f5f"
            },
            "marker": {
             "line": {
              "color": "#E5ECF6",
              "width": 0.5
             },
             "pattern": {
              "fillmode": "overlay",
              "size": 10,
              "solidity": 0.2
             }
            },
            "type": "bar"
           }
          ],
          "barpolar": [
           {
            "marker": {
             "line": {
              "color": "#E5ECF6",
              "width": 0.5
             },
             "pattern": {
              "fillmode": "overlay",
              "size": 10,
              "solidity": 0.2
             }
            },
            "type": "barpolar"
           }
          ],
          "carpet": [
           {
            "aaxis": {
             "endlinecolor": "#2a3f5f",
             "gridcolor": "white",
             "linecolor": "white",
             "minorgridcolor": "white",
             "startlinecolor": "#2a3f5f"
            },
            "baxis": {
             "endlinecolor": "#2a3f5f",
             "gridcolor": "white",
             "linecolor": "white",
             "minorgridcolor": "white",
             "startlinecolor": "#2a3f5f"
            },
            "type": "carpet"
           }
          ],
          "choropleth": [
           {
            "colorbar": {
             "outlinewidth": 0,
             "ticks": ""
            },
            "type": "choropleth"
           }
          ],
          "contour": [
           {
            "colorbar": {
             "outlinewidth": 0,
             "ticks": ""
            },
            "colorscale": [
             [
              0,
              "#0d0887"
             ],
             [
              0.1111111111111111,
              "#46039f"
             ],
             [
              0.2222222222222222,
              "#7201a8"
             ],
             [
              0.3333333333333333,
              "#9c179e"
             ],
             [
              0.4444444444444444,
              "#bd3786"
             ],
             [
              0.5555555555555556,
              "#d8576b"
             ],
             [
              0.6666666666666666,
              "#ed7953"
             ],
             [
              0.7777777777777778,
              "#fb9f3a"
             ],
             [
              0.8888888888888888,
              "#fdca26"
             ],
             [
              1,
              "#f0f921"
             ]
            ],
            "type": "contour"
           }
          ],
          "contourcarpet": [
           {
            "colorbar": {
             "outlinewidth": 0,
             "ticks": ""
            },
            "type": "contourcarpet"
           }
          ],
          "heatmap": [
           {
            "colorbar": {
             "outlinewidth": 0,
             "ticks": ""
            },
            "colorscale": [
             [
              0,
              "#0d0887"
             ],
             [
              0.1111111111111111,
              "#46039f"
             ],
             [
              0.2222222222222222,
              "#7201a8"
             ],
             [
              0.3333333333333333,
              "#9c179e"
             ],
             [
              0.4444444444444444,
              "#bd3786"
             ],
             [
              0.5555555555555556,
              "#d8576b"
             ],
             [
              0.6666666666666666,
              "#ed7953"
             ],
             [
              0.7777777777777778,
              "#fb9f3a"
             ],
             [
              0.8888888888888888,
              "#fdca26"
             ],
             [
              1,
              "#f0f921"
             ]
            ],
            "type": "heatmap"
           }
          ],
          "heatmapgl": [
           {
            "colorbar": {
             "outlinewidth": 0,
             "ticks": ""
            },
            "colorscale": [
             [
              0,
              "#0d0887"
             ],
             [
              0.1111111111111111,
              "#46039f"
             ],
             [
              0.2222222222222222,
              "#7201a8"
             ],
             [
              0.3333333333333333,
              "#9c179e"
             ],
             [
              0.4444444444444444,
              "#bd3786"
             ],
             [
              0.5555555555555556,
              "#d8576b"
             ],
             [
              0.6666666666666666,
              "#ed7953"
             ],
             [
              0.7777777777777778,
              "#fb9f3a"
             ],
             [
              0.8888888888888888,
              "#fdca26"
             ],
             [
              1,
              "#f0f921"
             ]
            ],
            "type": "heatmapgl"
           }
          ],
          "histogram": [
           {
            "marker": {
             "pattern": {
              "fillmode": "overlay",
              "size": 10,
              "solidity": 0.2
             }
            },
            "type": "histogram"
           }
          ],
          "histogram2d": [
           {
            "colorbar": {
             "outlinewidth": 0,
             "ticks": ""
            },
            "colorscale": [
             [
              0,
              "#0d0887"
             ],
             [
              0.1111111111111111,
              "#46039f"
             ],
             [
              0.2222222222222222,
              "#7201a8"
             ],
             [
              0.3333333333333333,
              "#9c179e"
             ],
             [
              0.4444444444444444,
              "#bd3786"
             ],
             [
              0.5555555555555556,
              "#d8576b"
             ],
             [
              0.6666666666666666,
              "#ed7953"
             ],
             [
              0.7777777777777778,
              "#fb9f3a"
             ],
             [
              0.8888888888888888,
              "#fdca26"
             ],
             [
              1,
              "#f0f921"
             ]
            ],
            "type": "histogram2d"
           }
          ],
          "histogram2dcontour": [
           {
            "colorbar": {
             "outlinewidth": 0,
             "ticks": ""
            },
            "colorscale": [
             [
              0,
              "#0d0887"
             ],
             [
              0.1111111111111111,
              "#46039f"
             ],
             [
              0.2222222222222222,
              "#7201a8"
             ],
             [
              0.3333333333333333,
              "#9c179e"
             ],
             [
              0.4444444444444444,
              "#bd3786"
             ],
             [
              0.5555555555555556,
              "#d8576b"
             ],
             [
              0.6666666666666666,
              "#ed7953"
             ],
             [
              0.7777777777777778,
              "#fb9f3a"
             ],
             [
              0.8888888888888888,
              "#fdca26"
             ],
             [
              1,
              "#f0f921"
             ]
            ],
            "type": "histogram2dcontour"
           }
          ],
          "mesh3d": [
           {
            "colorbar": {
             "outlinewidth": 0,
             "ticks": ""
            },
            "type": "mesh3d"
           }
          ],
          "parcoords": [
           {
            "line": {
             "colorbar": {
              "outlinewidth": 0,
              "ticks": ""
             }
            },
            "type": "parcoords"
           }
          ],
          "pie": [
           {
            "automargin": true,
            "type": "pie"
           }
          ],
          "scatter": [
           {
            "fillpattern": {
             "fillmode": "overlay",
             "size": 10,
             "solidity": 0.2
            },
            "type": "scatter"
           }
          ],
          "scatter3d": [
           {
            "line": {
             "colorbar": {
              "outlinewidth": 0,
              "ticks": ""
             }
            },
            "marker": {
             "colorbar": {
              "outlinewidth": 0,
              "ticks": ""
             }
            },
            "type": "scatter3d"
           }
          ],
          "scattercarpet": [
           {
            "marker": {
             "colorbar": {
              "outlinewidth": 0,
              "ticks": ""
             }
            },
            "type": "scattercarpet"
           }
          ],
          "scattergeo": [
           {
            "marker": {
             "colorbar": {
              "outlinewidth": 0,
              "ticks": ""
             }
            },
            "type": "scattergeo"
           }
          ],
          "scattergl": [
           {
            "marker": {
             "colorbar": {
              "outlinewidth": 0,
              "ticks": ""
             }
            },
            "type": "scattergl"
           }
          ],
          "scattermapbox": [
           {
            "marker": {
             "colorbar": {
              "outlinewidth": 0,
              "ticks": ""
             }
            },
            "type": "scattermapbox"
           }
          ],
          "scatterpolar": [
           {
            "marker": {
             "colorbar": {
              "outlinewidth": 0,
              "ticks": ""
             }
            },
            "type": "scatterpolar"
           }
          ],
          "scatterpolargl": [
           {
            "marker": {
             "colorbar": {
              "outlinewidth": 0,
              "ticks": ""
             }
            },
            "type": "scatterpolargl"
           }
          ],
          "scatterternary": [
           {
            "marker": {
             "colorbar": {
              "outlinewidth": 0,
              "ticks": ""
             }
            },
            "type": "scatterternary"
           }
          ],
          "surface": [
           {
            "colorbar": {
             "outlinewidth": 0,
             "ticks": ""
            },
            "colorscale": [
             [
              0,
              "#0d0887"
             ],
             [
              0.1111111111111111,
              "#46039f"
             ],
             [
              0.2222222222222222,
              "#7201a8"
             ],
             [
              0.3333333333333333,
              "#9c179e"
             ],
             [
              0.4444444444444444,
              "#bd3786"
             ],
             [
              0.5555555555555556,
              "#d8576b"
             ],
             [
              0.6666666666666666,
              "#ed7953"
             ],
             [
              0.7777777777777778,
              "#fb9f3a"
             ],
             [
              0.8888888888888888,
              "#fdca26"
             ],
             [
              1,
              "#f0f921"
             ]
            ],
            "type": "surface"
           }
          ],
          "table": [
           {
            "cells": {
             "fill": {
              "color": "#EBF0F8"
             },
             "line": {
              "color": "white"
             }
            },
            "header": {
             "fill": {
              "color": "#C8D4E3"
             },
             "line": {
              "color": "white"
             }
            },
            "type": "table"
           }
          ]
         },
         "layout": {
          "annotationdefaults": {
           "arrowcolor": "#2a3f5f",
           "arrowhead": 0,
           "arrowwidth": 1
          },
          "autotypenumbers": "strict",
          "coloraxis": {
           "colorbar": {
            "outlinewidth": 0,
            "ticks": ""
           }
          },
          "colorscale": {
           "diverging": [
            [
             0,
             "#8e0152"
            ],
            [
             0.1,
             "#c51b7d"
            ],
            [
             0.2,
             "#de77ae"
            ],
            [
             0.3,
             "#f1b6da"
            ],
            [
             0.4,
             "#fde0ef"
            ],
            [
             0.5,
             "#f7f7f7"
            ],
            [
             0.6,
             "#e6f5d0"
            ],
            [
             0.7,
             "#b8e186"
            ],
            [
             0.8,
             "#7fbc41"
            ],
            [
             0.9,
             "#4d9221"
            ],
            [
             1,
             "#276419"
            ]
           ],
           "sequential": [
            [
             0,
             "#0d0887"
            ],
            [
             0.1111111111111111,
             "#46039f"
            ],
            [
             0.2222222222222222,
             "#7201a8"
            ],
            [
             0.3333333333333333,
             "#9c179e"
            ],
            [
             0.4444444444444444,
             "#bd3786"
            ],
            [
             0.5555555555555556,
             "#d8576b"
            ],
            [
             0.6666666666666666,
             "#ed7953"
            ],
            [
             0.7777777777777778,
             "#fb9f3a"
            ],
            [
             0.8888888888888888,
             "#fdca26"
            ],
            [
             1,
             "#f0f921"
            ]
           ],
           "sequentialminus": [
            [
             0,
             "#0d0887"
            ],
            [
             0.1111111111111111,
             "#46039f"
            ],
            [
             0.2222222222222222,
             "#7201a8"
            ],
            [
             0.3333333333333333,
             "#9c179e"
            ],
            [
             0.4444444444444444,
             "#bd3786"
            ],
            [
             0.5555555555555556,
             "#d8576b"
            ],
            [
             0.6666666666666666,
             "#ed7953"
            ],
            [
             0.7777777777777778,
             "#fb9f3a"
            ],
            [
             0.8888888888888888,
             "#fdca26"
            ],
            [
             1,
             "#f0f921"
            ]
           ]
          },
          "colorway": [
           "#636efa",
           "#EF553B",
           "#00cc96",
           "#ab63fa",
           "#FFA15A",
           "#19d3f3",
           "#FF6692",
           "#B6E880",
           "#FF97FF",
           "#FECB52"
          ],
          "font": {
           "color": "#2a3f5f"
          },
          "geo": {
           "bgcolor": "white",
           "lakecolor": "white",
           "landcolor": "#E5ECF6",
           "showlakes": true,
           "showland": true,
           "subunitcolor": "white"
          },
          "hoverlabel": {
           "align": "left"
          },
          "hovermode": "closest",
          "mapbox": {
           "style": "light"
          },
          "paper_bgcolor": "white",
          "plot_bgcolor": "#E5ECF6",
          "polar": {
           "angularaxis": {
            "gridcolor": "white",
            "linecolor": "white",
            "ticks": ""
           },
           "bgcolor": "#E5ECF6",
           "radialaxis": {
            "gridcolor": "white",
            "linecolor": "white",
            "ticks": ""
           }
          },
          "scene": {
           "xaxis": {
            "backgroundcolor": "#E5ECF6",
            "gridcolor": "white",
            "gridwidth": 2,
            "linecolor": "white",
            "showbackground": true,
            "ticks": "",
            "zerolinecolor": "white"
           },
           "yaxis": {
            "backgroundcolor": "#E5ECF6",
            "gridcolor": "white",
            "gridwidth": 2,
            "linecolor": "white",
            "showbackground": true,
            "ticks": "",
            "zerolinecolor": "white"
           },
           "zaxis": {
            "backgroundcolor": "#E5ECF6",
            "gridcolor": "white",
            "gridwidth": 2,
            "linecolor": "white",
            "showbackground": true,
            "ticks": "",
            "zerolinecolor": "white"
           }
          },
          "shapedefaults": {
           "line": {
            "color": "#2a3f5f"
           }
          },
          "ternary": {
           "aaxis": {
            "gridcolor": "white",
            "linecolor": "white",
            "ticks": ""
           },
           "baxis": {
            "gridcolor": "white",
            "linecolor": "white",
            "ticks": ""
           },
           "bgcolor": "#E5ECF6",
           "caxis": {
            "gridcolor": "white",
            "linecolor": "white",
            "ticks": ""
           }
          },
          "title": {
           "x": 0.05
          },
          "xaxis": {
           "automargin": true,
           "gridcolor": "white",
           "linecolor": "white",
           "ticks": "",
           "title": {
            "standoff": 15
           },
           "zerolinecolor": "white",
           "zerolinewidth": 2
          },
          "yaxis": {
           "automargin": true,
           "gridcolor": "white",
           "linecolor": "white",
           "ticks": "",
           "title": {
            "standoff": 15
           },
           "zerolinecolor": "white",
           "zerolinewidth": 2
          }
         }
        },
        "title": {
         "text": "Sum of inputs in each row for the filtered dataset"
        },
        "xaxis": {
         "anchor": "y",
         "domain": [
          0,
          1
         ],
         "title": {
          "text": "Row Index"
         }
        },
        "yaxis": {
         "anchor": "x",
         "domain": [
          0,
          1
         ],
         "title": {
          "text": "Sum of Inputs"
         }
        }
       }
      }
     },
     "metadata": {},
     "output_type": "display_data"
    }
   ],
   "source": [
    "# Calculate the sum of inputs in each row for the filtered dataset\n",
    "hcc_smartS_raw_sum = pd.DataFrame(hcc_smartS_raw.sum(axis=1))\n",
    "\n",
    "hcc_smartS_raw_sum[\"removed\"] = hcc_smartS_raw_sum.index.isin(removed_rows) * 1\n",
    "\n",
    "hcc_smartS_raw_sum\n",
    "\n",
    "import plotly.express as px\n",
    "# Visualize with Plotly\n",
    "fig = px.bar(hcc_smartS_raw_sum.sort_values(by=0), title=\"Sum of inputs in each row for the filtered dataset\", color=\"removed\")\n",
    "fig.update_layout(\n",
    "    xaxis_title=\"Row Index\",\n",
    "yaxis_title=\"Sum of Inputs\",\n",
    ")\n",
    "fig.show()"
   ]
  },
  {
   "cell_type": "code",
   "execution_count": 52,
   "metadata": {},
   "outputs": [
    {
     "name": "stdout",
     "output_type": "stream",
     "text": [
      "Number of nonzero values for each row in the removed ones:\n",
      "[ 9887   117  9017 13986 13029  6962    67    85  1583 11186    71    35\n",
      "    81    96   185  6919]\n"
     ]
    }
   ],
   "source": [
    "# Identify rows that were removed\n",
    "removed_rows = hcc_smartS_raw.index.difference(hcc_smartS_filt.index)\n",
    "\n",
    "# Select the removed rows from the raw dataset\n",
    "removed_rows_data = hcc_smartS_raw.loc[removed_rows]\n",
    "\n",
    "# Compute the number of nonzero values in each row for the removed rows\n",
    "removed_rows_nonzero_count = (removed_rows_data != 0).sum(axis=1)\n",
    "\n",
    "# Print the number of nonzero values for each row in the removed ones\n",
    "print(\"Number of nonzero values for each row in the removed ones:\")\n",
    "print(removed_rows_nonzero_count.to_numpy())\n"
   ]
  },
  {
   "cell_type": "code",
   "execution_count": 53,
   "metadata": {},
   "outputs": [
    {
     "data": {
      "application/vnd.plotly.v1+json": {
       "config": {
        "plotlyServerURL": "https://plot.ly"
       },
       "data": [
        {
         "alignmentgroup": "True",
         "hovertemplate": "index=%{x}<br>value=%{y}<br>removed=%{marker.color}<extra></extra>",
         "legendgroup": "",
         "marker": {
          "color": [
           1,
           1,
           0,
           0,
           0,
           0,
           0,
           0,
           0,
           0,
           0,
           0,
           0,
           0,
           0,
           0,
           0,
           0,
           0,
           0,
           0,
           0,
           0,
           0,
           0,
           0,
           0,
           0,
           0,
           0,
           0,
           0,
           0,
           0,
           0,
           0,
           0,
           0,
           0,
           0,
           0,
           0,
           0,
           0,
           0,
           0,
           0,
           0,
           0,
           0,
           0,
           0,
           0,
           0,
           0,
           0,
           0,
           0,
           0,
           0,
           0,
           0,
           0,
           0,
           0,
           0,
           0,
           0,
           0,
           0,
           0,
           0,
           0,
           0,
           0,
           0,
           0,
           0,
           0,
           1,
           0,
           0,
           0,
           0,
           0,
           0,
           0,
           0,
           0,
           0,
           0,
           0,
           0,
           0,
           0,
           0,
           0,
           0,
           0,
           0,
           0,
           0,
           0,
           0,
           0,
           0,
           0,
           0,
           0,
           0,
           0,
           0,
           0,
           0,
           0,
           0,
           0,
           0,
           0,
           0,
           0,
           0,
           0,
           0,
           0,
           0,
           0,
           0,
           0,
           0,
           0,
           0,
           0,
           0,
           0,
           0,
           0,
           0,
           0,
           0,
           0,
           0,
           0,
           0,
           0,
           0,
           0,
           0,
           0,
           0,
           0,
           0,
           0,
           0,
           0,
           0,
           0,
           0,
           0,
           0,
           0,
           0,
           0,
           0,
           0,
           0,
           0,
           0,
           0,
           0,
           0,
           0,
           0,
           0,
           0,
           0,
           0,
           0,
           0,
           0,
           0,
           0,
           0,
           0,
           0,
           0,
           0,
           0,
           0,
           0,
           0,
           0,
           0,
           0,
           0,
           0,
           0,
           0,
           1,
           0,
           0,
           0,
           0,
           0,
           0,
           0,
           0,
           0,
           0,
           0,
           0,
           0,
           0,
           1,
           0,
           0,
           0,
           0,
           0,
           0,
           0,
           0,
           0,
           0,
           0,
           0,
           0,
           0,
           0,
           0,
           0,
           0,
           1,
           1,
           1,
           1,
           1,
           1,
           1,
           1,
           1,
           1,
           1
          ],
          "coloraxis": "coloraxis",
          "pattern": {
           "shape": ""
          }
         },
         "name": "",
         "offsetgroup": "",
         "orientation": "v",
         "showlegend": false,
         "textposition": "auto",
         "type": "bar",
         "x": [
          "output.STAR.PCRPlate1D3_Hypoxia_S6_Aligned.sortedByCoord.out.bam",
          "output.STAR.PCRPlate1F8_Normoxia_S18_Aligned.sortedByCoord.out.bam",
          "output.STAR.PCRPlate3A9_Normoxia_S83_Aligned.sortedByCoord.out.bam",
          "output.STAR.PCRPlate3G1_Hypoxia_S164_Aligned.sortedByCoord.out.bam",
          "output.STAR.PCRPlate3D9_Normoxia_S86_Aligned.sortedByCoord.out.bam",
          "output.STAR.PCRPlate4H10_Normoxia_S210_Aligned.sortedByCoord.out.bam",
          "output.STAR.PCRPlate3G4_Hypoxia_S73_Aligned.sortedByCoord.out.bam",
          "output.STAR.PCRPlate4F9_Normoxia_S235_Aligned.sortedByCoord.out.bam",
          "output.STAR.PCRPlate3F3_Hypoxia_S170_Aligned.sortedByCoord.out.bam",
          "output.STAR.PCRPlate2C10_Normoxia_S154_Aligned.sortedByCoord.out.bam",
          "output.STAR.PCRPlate3G7_Normoxia_S184_Aligned.sortedByCoord.out.bam",
          "output.STAR.PCRPlate1H5_Hypoxia_S10_Aligned.sortedByCoord.out.bam",
          "output.STAR.PCRPlate3E2_Hypoxia_S65_Aligned.sortedByCoord.out.bam",
          "output.STAR.PCRPlate3E3_Hypoxia_S169_Aligned.sortedByCoord.out.bam",
          "output.STAR.PCRPlate2F3_Hypoxia_S40_Aligned.sortedByCoord.out.bam",
          "output.STAR.PCRPlate3G12_Normoxia_S219_Aligned.sortedByCoord.out.bam",
          "output.STAR.PCRPlate2F7_Normoxia_S149_Aligned.sortedByCoord.out.bam",
          "output.STAR.PCRPlate4H9_Normoxia_S236_Aligned.sortedByCoord.out.bam",
          "output.STAR.PCRPlate2E7_Normoxia_S148_Aligned.sortedByCoord.out.bam",
          "output.STAR.PCRPlate3F2_Hypoxia_S66_Aligned.sortedByCoord.out.bam",
          "output.STAR.PCRPlate4A8_Normoxia_S206_Aligned.sortedByCoord.out.bam",
          "output.STAR.PCRPlate4A10_Normoxia_S237_Aligned.sortedByCoord.out.bam",
          "output.STAR.PCRPlate1E1_Hypoxia_S101_Aligned.sortedByCoord.out.bam",
          "output.STAR.PCRPlate4A9_Normoxia_S234_Aligned.sortedByCoord.out.bam",
          "output.STAR.PCRPlate3B7_Normoxia_S183_Aligned.sortedByCoord.out.bam",
          "output.STAR.PCRPlate1E12_Normoxia_S30_Aligned.sortedByCoord.out.bam",
          "output.STAR.PCRPlate2B4_Hypoxia_S139_Aligned.sortedByCoord.out.bam",
          "output.STAR.PCRPlate3F1_Hypoxia_S163_Aligned.sortedByCoord.out.bam",
          "output.STAR.PCRPlate2H5_Hypoxia_S43_Aligned.sortedByCoord.out.bam",
          "output.STAR.PCRPlate3H7_Normoxia_S81_Aligned.sortedByCoord.out.bam",
          "output.STAR.PCRPlate3H10_Normoxia_S192_Aligned.sortedByCoord.out.bam",
          "output.STAR.PCRPlate4E1_Hypoxia_S223_Aligned.sortedByCoord.out.bam",
          "output.STAR.PCRPlate2A10_Normoxia_S153_Aligned.sortedByCoord.out.bam",
          "output.STAR.PCRPlate1A9_Normoxia_S20_Aligned.sortedByCoord.out.bam",
          "output.STAR.PCRPlate3H3_Hypoxia_S172_Aligned.sortedByCoord.out.bam",
          "output.STAR.PCRPlate3E5_Hypoxia_S79_Aligned.sortedByCoord.out.bam",
          "output.STAR.PCRPlate4G12_Normoxia_S243_Aligned.sortedByCoord.out.bam",
          "output.STAR.PCRPlate4B3_Hypoxia_S225_Aligned.sortedByCoord.out.bam",
          "output.STAR.PCRPlate3F10_Normoxia_S190_Aligned.sortedByCoord.out.bam",
          "output.STAR.PCRPlate2D2_Hypoxia_S136_Aligned.sortedByCoord.out.bam",
          "output.STAR.PCRPlate2C7_Normoxia_S147_Aligned.sortedByCoord.out.bam",
          "output.STAR.PCRPlate2A8_Normoxia_S151_Aligned.sortedByCoord.out.bam",
          "output.STAR.PCRPlate3F9_Normoxia_S88_Aligned.sortedByCoord.out.bam",
          "output.STAR.PCRPlate1G9_Normoxia_S121_Aligned.sortedByCoord.out.bam",
          "output.STAR.PCRPlate3B11_Normoxia_S90_Aligned.sortedByCoord.out.bam",
          "output.STAR.PCRPlate2G4_Hypoxia_S143_Aligned.sortedByCoord.out.bam",
          "output.STAR.PCRPlate3H1_Hypoxia_S165_Aligned.sortedByCoord.out.bam",
          "output.STAR.PCRPlate2C6_Hypoxia_S46_Aligned.sortedByCoord.out.bam",
          "output.STAR.PCRPlate4F1_Hypoxia_S224_Aligned.sortedByCoord.out.bam",
          "output.STAR.PCRPlate3H2_Hypoxia_S68_Aligned.sortedByCoord.out.bam",
          "output.STAR.PCRPlate4C3_Hypoxia_S226_Aligned.sortedByCoord.out.bam",
          "output.STAR.PCRPlate4F12_Normoxia_S242_Aligned.sortedByCoord.out.bam",
          "output.STAR.PCRPlate3B1_Hypoxia_S64_Aligned.sortedByCoord.out.bam",
          "output.STAR.PCRPlate1B12_Normoxia_S27_Aligned.sortedByCoord.out.bam",
          "output.STAR.PCRPlate2A3_Hypoxia_S36_Aligned.sortedByCoord.out.bam",
          "output.STAR.PCRPlate3G10_Normoxia_S191_Aligned.sortedByCoord.out.bam",
          "output.STAR.PCRPlate3G6_Hypoxia_S181_Aligned.sortedByCoord.out.bam",
          "output.STAR.PCRPlate2D5_Hypoxia_S41_Aligned.sortedByCoord.out.bam",
          "output.STAR.PCRPlate2A4_Hypoxia_S138_Aligned.sortedByCoord.out.bam",
          "output.STAR.PCRPlate2H11_Normoxia_S58_Aligned.sortedByCoord.out.bam",
          "output.STAR.PCRPlate3C12_Normoxia_S95_Aligned.sortedByCoord.out.bam",
          "output.STAR.PCRPlate2H3_Hypoxia_S137_Aligned.sortedByCoord.out.bam",
          "output.STAR.PCRPlate1H9_Normoxia_S122_Aligned.sortedByCoord.out.bam",
          "output.STAR.PCRPlate1C7_Normoxia_S115_Aligned.sortedByCoord.out.bam",
          "output.STAR.PCRPlate2C8_Normoxia_S49_Aligned.sortedByCoord.out.bam",
          "output.STAR.PCRPlate3G11_Normoxia_S93_Aligned.sortedByCoord.out.bam",
          "output.STAR.PCRPlate2H6_Hypoxia_S146_Aligned.sortedByCoord.out.bam",
          "output.STAR.PCRPlate3H6_Hypoxia_S182_Aligned.sortedByCoord.out.bam",
          "output.STAR.PCRPlate3F4_Hypoxia_S176_Aligned.sortedByCoord.out.bam",
          "output.STAR.PCRPlate2H10_Normoxia_S158_Aligned.sortedByCoord.out.bam",
          "output.STAR.PCRPlate1F7_Normoxia_S117_Aligned.sortedByCoord.out.bam",
          "output.STAR.PCRPlate3B5_Hypoxia_S76_Aligned.sortedByCoord.out.bam",
          "output.STAR.PCRPlate2E9_Normoxia_S55_Aligned.sortedByCoord.out.bam",
          "output.STAR.PCRPlate3G2_Hypoxia_S67_Aligned.sortedByCoord.out.bam",
          "output.STAR.PCRPlate4B6_Hypoxia_S230_Aligned.sortedByCoord.out.bam",
          "output.STAR.PCRPlate1G10_Normoxia_S126_Aligned.sortedByCoord.out.bam",
          "output.STAR.PCRPlate3C2_Hypoxia_S167_Aligned.sortedByCoord.out.bam",
          "output.STAR.PCRPlate1A12_Normoxia_S26_Aligned.sortedByCoord.out.bam",
          "output.STAR.PCRPlate3E12_Normoxia_S217_Aligned.sortedByCoord.out.bam",
          "output.STAR.PCRPlate2H2_Hypoxia_S35_Aligned.sortedByCoord.out.bam",
          "output.STAR.PCRPlate4E11_Normoxia_S213_Aligned.sortedByCoord.out.bam",
          "output.STAR.PCRPlate1E5_Hypoxia_S112_Aligned.sortedByCoord.out.bam",
          "output.STAR.PCRPlate1C8_Normoxia_S120_Aligned.sortedByCoord.out.bam",
          "output.STAR.PCRPlate2D9_Normoxia_S54_Aligned.sortedByCoord.out.bam",
          "output.STAR.PCRPlate1G12_Normoxia_S32_Aligned.sortedByCoord.out.bam",
          "output.STAR.PCRPlate4C12_Normoxia_S216_Aligned.sortedByCoord.out.bam",
          "output.STAR.PCRPlate3A10_Normoxia_S186_Aligned.sortedByCoord.out.bam",
          "output.STAR.PCRPlate2G8_Normoxia_S52_Aligned.sortedByCoord.out.bam",
          "output.STAR.PCRPlate1H1_Hypoxia_S103_Aligned.sortedByCoord.out.bam",
          "output.STAR.PCRPlate4A1_Hypoxia_S220_Aligned.sortedByCoord.out.bam",
          "output.STAR.PCRPlate4H11_Normoxia_S214_Aligned.sortedByCoord.out.bam",
          "output.STAR.PCRPlate4B10_Normoxia_S238_Aligned.sortedByCoord.out.bam",
          "output.STAR.PCRPlate1C9_Normoxia_S22_Aligned.sortedByCoord.out.bam",
          "output.STAR.PCRPlate4C6_Hypoxia_S231_Aligned.sortedByCoord.out.bam",
          "output.STAR.PCRPlate4F4_Hypoxia_S228_Aligned.sortedByCoord.out.bam",
          "output.STAR.PCRPlate2F2_Hypoxia_S33_Aligned.sortedByCoord.out.bam",
          "output.STAR.PCRPlate3G9_Normoxia_S185_Aligned.sortedByCoord.out.bam",
          "output.STAR.PCRPlate1D9_Normoxia_S23_Aligned.sortedByCoord.out.bam",
          "output.STAR.PCRPlate2E8_Normoxia_S50_Aligned.sortedByCoord.out.bam",
          "output.STAR.PCRPlate2G9_Normoxia_S56_Aligned.sortedByCoord.out.bam",
          "output.STAR.PCRPlate1B9_Normoxia_S21_Aligned.sortedByCoord.out.bam",
          "output.STAR.PCRPlate3C6_Hypoxia_S179_Aligned.sortedByCoord.out.bam",
          "output.STAR.PCRPlate2E4_Hypoxia_S141_Aligned.sortedByCoord.out.bam",
          "output.STAR.PCRPlate4E3_Hypoxia_S227_Aligned.sortedByCoord.out.bam",
          "output.STAR.PCRPlate1C11_Normoxia_S128_Aligned.sortedByCoord.out.bam",
          "output.STAR.PCRPlate2B3_Hypoxia_S37_Aligned.sortedByCoord.out.bam",
          "output.STAR.PCRPlate1G1_Hypoxia_S102_Aligned.sortedByCoord.out.bam",
          "output.STAR.PCRPlate3C3_Hypoxia_S71_Aligned.sortedByCoord.out.bam",
          "output.STAR.PCRPlate3D12_Normoxia_S96_Aligned.sortedByCoord.out.bam",
          "output.STAR.PCRPlate3A2_Hypoxia_S166_Aligned.sortedByCoord.out.bam",
          "output.STAR.PCRPlate2A9_Normoxia_S53_Aligned.sortedByCoord.out.bam",
          "output.STAR.PCRPlate4F5_Hypoxia_S229_Aligned.sortedByCoord.out.bam",
          "output.STAR.PCRPlate3B6_Hypoxia_S178_Aligned.sortedByCoord.out.bam",
          "output.STAR.PCRPlate1D1_Hypoxia_S100_Aligned.sortedByCoord.out.bam",
          "output.STAR.PCRPlate2F8_Normoxia_S51_Aligned.sortedByCoord.out.bam",
          "output.STAR.PCRPlate1B7_Normoxia_S114_Aligned.sortedByCoord.out.bam",
          "output.STAR.PCRPlate3F6_Hypoxia_S180_Aligned.sortedByCoord.out.bam",
          "output.STAR.PCRPlate4E8_Normoxia_S233_Aligned.sortedByCoord.out.bam",
          "output.STAR.PCRPlate3C11_Normoxia_S91_Aligned.sortedByCoord.out.bam",
          "output.STAR.PCRPlate4C11_Normoxia_S212_Aligned.sortedByCoord.out.bam",
          "output.STAR.PCRPlate4F7_Normoxia_S203_Aligned.sortedByCoord.out.bam",
          "output.STAR.PCRPlate4H2_Hypoxia_S199_Aligned.sortedByCoord.out.bam",
          "output.STAR.PCRPlate4C7_Normoxia_S202_Aligned.sortedByCoord.out.bam",
          "output.STAR.PCRPlate2C3_Hypoxia_S38_Aligned.sortedByCoord.out.bam",
          "output.STAR.PCRPlate2E10_Normoxia_S155_Aligned.sortedByCoord.out.bam",
          "output.STAR.PCRPlate1A6_Hypoxia_S11_Aligned.sortedByCoord.out.bam",
          "output.STAR.PCRPlate4G1_Hypoxia_S193_Aligned.sortedByCoord.out.bam",
          "output.STAR.PCRPlate1A10_Normoxia_S123_Aligned.sortedByCoord.out.bam",
          "output.STAR.PCRPlate1B11_Normoxia_S127_Aligned.sortedByCoord.out.bam",
          "output.STAR.PCRPlate2B1_Hypoxia_S130_Aligned.sortedByCoord.out.bam",
          "output.STAR.PCRPlate1G11_Normoxia_S25_Aligned.sortedByCoord.out.bam",
          "output.STAR.PCRPlate3E10_Normoxia_S189_Aligned.sortedByCoord.out.bam",
          "output.STAR.PCRPlate2H1_Hypoxia_S134_Aligned.sortedByCoord.out.bam",
          "output.STAR.PCRPlate2G12_Normoxia_S63_Aligned.sortedByCoord.out.bam",
          "output.STAR.PCRPlate3E4_Hypoxia_S175_Aligned.sortedByCoord.out.bam",
          "output.STAR.PCRPlate4C10_Normoxia_S239_Aligned.sortedByCoord.out.bam",
          "output.STAR.PCRPlate3A5_Hypoxia_S75_Aligned.sortedByCoord.out.bam",
          "output.STAR.PCRPlate4B2_Hypoxia_S194_Aligned.sortedByCoord.out.bam",
          "output.STAR.PCRPlate2F6_Hypoxia_S145_Aligned.sortedByCoord.out.bam",
          "output.STAR.PCRPlate3A3_Hypoxia_S69_Aligned.sortedByCoord.out.bam",
          "output.STAR.PCRPlate3A11_Normoxia_S89_Aligned.sortedByCoord.out.bam",
          "output.STAR.PCRPlate1C10_Normoxia_S124_Aligned.sortedByCoord.out.bam",
          "output.STAR.PCRPlate4F2_Hypoxia_S197_Aligned.sortedByCoord.out.bam",
          "output.STAR.PCRPlate3C9_Normoxia_S85_Aligned.sortedByCoord.out.bam",
          "output.STAR.PCRPlate2E6_Hypoxia_S48_Aligned.sortedByCoord.out.bam",
          "output.STAR.PCRPlate1D12_Normoxia_S29_Aligned.sortedByCoord.out.bam",
          "output.STAR.PCRPlate2C11_Normoxia_S160_Aligned.sortedByCoord.out.bam",
          "output.STAR.PCRPlate2B11_Normoxia_S159_Aligned.sortedByCoord.out.bam",
          "output.STAR.PCRPlate2B8_Normoxia_S152_Aligned.sortedByCoord.out.bam",
          "output.STAR.PCRPlate4G6_Hypoxia_S232_Aligned.sortedByCoord.out.bam",
          "output.STAR.PCRPlate3C10_Normoxia_S187_Aligned.sortedByCoord.out.bam",
          "output.STAR.PCRPlate3E9_Normoxia_S87_Aligned.sortedByCoord.out.bam",
          "output.STAR.PCRPlate2D1_Hypoxia_S132_Aligned.sortedByCoord.out.bam",
          "output.STAR.PCRPlate3A12_Normoxia_S94_Aligned.sortedByCoord.out.bam",
          "output.STAR.PCRPlate4B11_Normoxia_S211_Aligned.sortedByCoord.out.bam",
          "output.STAR.PCRPlate3B4_Hypoxia_S173_Aligned.sortedByCoord.out.bam",
          "output.STAR.PCRPlate3D1_Hypoxia_S161_Aligned.sortedByCoord.out.bam",
          "output.STAR.PCRPlate4H7_Normoxia_S205_Aligned.sortedByCoord.out.bam",
          "output.STAR.PCRPlate1F5_Hypoxia_S9_Aligned.sortedByCoord.out.bam",
          "output.STAR.PCRPlate3G5_Hypoxia_S80_Aligned.sortedByCoord.out.bam",
          "output.STAR.PCRPlate2B2_Hypoxia_S135_Aligned.sortedByCoord.out.bam",
          "output.STAR.PCRPlate1G3_Hypoxia_S7_Aligned.sortedByCoord.out.bam",
          "output.STAR.PCRPlate4G7_Normoxia_S204_Aligned.sortedByCoord.out.bam",
          "output.STAR.PCRPlate1B6_Hypoxia_S12_Aligned.sortedByCoord.out.bam",
          "output.STAR.PCRPlate3G3_Hypoxia_S171_Aligned.sortedByCoord.out.bam",
          "output.STAR.PCRPlate4E2_Hypoxia_S196_Aligned.sortedByCoord.out.bam",
          "output.STAR.PCRPlate2A6_Hypoxia_S44_Aligned.sortedByCoord.out.bam",
          "output.STAR.PCRPlate1F12_Normoxia_S31_Aligned.sortedByCoord.out.bam",
          "output.STAR.PCRPlate3E1_Hypoxia_S162_Aligned.sortedByCoord.out.bam",
          "output.STAR.PCRPlate3H4_Hypoxia_S74_Aligned.sortedByCoord.out.bam",
          "output.STAR.PCRPlate1F9_Normoxia_S24_Aligned.sortedByCoord.out.bam",
          "output.STAR.PCRPlate2D6_Hypoxia_S47_Aligned.sortedByCoord.out.bam",
          "output.STAR.PCRPlate4C2_Hypoxia_S195_Aligned.sortedByCoord.out.bam",
          "output.STAR.PCRPlate4A3_Hypoxia_S200_Aligned.sortedByCoord.out.bam",
          "output.STAR.PCRPlate1E8_Normoxia_S17_Aligned.sortedByCoord.out.bam",
          "output.STAR.PCRPlate3D4_Hypoxia_S174_Aligned.sortedByCoord.out.bam",
          "output.STAR.PCRPlate2F4_Hypoxia_S142_Aligned.sortedByCoord.out.bam",
          "output.STAR.PCRPlate3B9_Normoxia_S84_Aligned.sortedByCoord.out.bam",
          "output.STAR.PCRPlate4B12_Normoxia_S215_Aligned.sortedByCoord.out.bam",
          "output.STAR.PCRPlate1E6_Hypoxia_S14_Aligned.sortedByCoord.out.bam",
          "output.STAR.PCRPlate1A3_Hypoxia_S4_Aligned.sortedByCoord.out.bam",
          "output.STAR.PCRPlate2C4_Hypoxia_S140_Aligned.sortedByCoord.out.bam",
          "output.STAR.PCRPlate1C6_Hypoxia_S13_Aligned.sortedByCoord.out.bam",
          "output.STAR.PCRPlate2G2_Hypoxia_S34_Aligned.sortedByCoord.out.bam",
          "output.STAR.PCRPlate4C8_Normoxia_S208_Aligned.sortedByCoord.out.bam",
          "output.STAR.PCRPlate2A1_Hypoxia_S129_Aligned.sortedByCoord.out.bam",
          "output.STAR.PCRPlate1C12_Normoxia_S28_Aligned.sortedByCoord.out.bam",
          "output.STAR.PCRPlate1E7_Normoxia_S116_Aligned.sortedByCoord.out.bam",
          "output.STAR.PCRPlate2E5_Hypoxia_S42_Aligned.sortedByCoord.out.bam",
          "output.STAR.PCRPlate2C5_Hypoxia_S144_Aligned.sortedByCoord.out.bam",
          "output.STAR.PCRPlate4E12_Normoxia_S241_Aligned.sortedByCoord.out.bam",
          "output.STAR.PCRPlate1G8_Normoxia_S19_Aligned.sortedByCoord.out.bam",
          "output.STAR.PCRPlate2E11_Normoxia_S57_Aligned.sortedByCoord.out.bam",
          "output.STAR.PCRPlate3A6_Hypoxia_S177_Aligned.sortedByCoord.out.bam",
          "output.STAR.PCRPlate2F10_Normoxia_S156_Aligned.sortedByCoord.out.bam",
          "output.STAR.PCRPlate1F4_Hypoxia_S106_Aligned.sortedByCoord.out.bam",
          "output.STAR.PCRPlate4G2_Hypoxia_S198_Aligned.sortedByCoord.out.bam",
          "output.STAR.PCRPlate1G7_Normoxia_S118_Aligned.sortedByCoord.out.bam",
          "output.STAR.PCRPlate1A1_Hypoxia_S97_Aligned.sortedByCoord.out.bam",
          "output.STAR.PCRPlate1H6_Hypoxia_S16_Aligned.sortedByCoord.out.bam",
          "output.STAR.PCRPlate2G7_Normoxia_S150_Aligned.sortedByCoord.out.bam",
          "output.STAR.PCRPlate4F10_Normoxia_S240_Aligned.sortedByCoord.out.bam",
          "output.STAR.PCRPlate4B8_Normoxia_S207_Aligned.sortedByCoord.out.bam",
          "output.STAR.PCRPlate2E3_Hypoxia_S39_Aligned.sortedByCoord.out.bam",
          "output.STAR.PCRPlate1D5_Hypoxia_S111_Aligned.sortedByCoord.out.bam",
          "output.STAR.PCRPlate1A7_Normoxia_S113_Aligned.sortedByCoord.out.bam",
          "output.STAR.PCRPlate1C5_Hypoxia_S110_Aligned.sortedByCoord.out.bam",
          "output.STAR.PCRPlate1A5_Hypoxia_S108_Aligned.sortedByCoord.out.bam",
          "output.STAR.PCRPlate1G4_Hypoxia_S107_Aligned.sortedByCoord.out.bam",
          "output.STAR.PCRPlate4G10_Normoxia_S209_Aligned.sortedByCoord.out.bam",
          "output.STAR.PCRPlate3B3_Hypoxia_S70_Aligned.sortedByCoord.out.bam",
          "output.STAR.PCRPlate1H2_Hypoxia_S3_Aligned.sortedByCoord.out.bam",
          "output.STAR.PCRPlate1D10_Normoxia_S125_Aligned.sortedByCoord.out.bam",
          "output.STAR.PCRPlate1B4_Hypoxia_S105_Aligned.sortedByCoord.out.bam",
          "output.STAR.PCRPlate3F12_Normoxia_S218_Aligned.sortedByCoord.out.bam",
          "output.STAR.PCRPlate3B8_Normoxia_S82_Aligned.sortedByCoord.out.bam",
          "output.STAR.PCRPlate2F1_Hypoxia_S133_Aligned.sortedByCoord.out.bam",
          "output.STAR.PCRPlate4A7_Normoxia_S201_Aligned.sortedByCoord.out.bam",
          "output.STAR.PCRPlate1B5_Hypoxia_S109_Aligned.sortedByCoord.out.bam",
          "output.STAR.PCRPlate2C12_Normoxia_S59_Aligned.sortedByCoord.out.bam",
          "output.STAR.PCRPlate1B3_Hypoxia_S5_Aligned.sortedByCoord.out.bam",
          "output.STAR.PCRPlate1G2_Hypoxia_S2_Aligned.sortedByCoord.out.bam",
          "output.STAR.PCRPlate2B6_Hypoxia_S45_Aligned.sortedByCoord.out.bam",
          "output.STAR.PCRPlate1A8_Normoxia_S119_Aligned.sortedByCoord.out.bam",
          "output.STAR.PCRPlate2C1_Hypoxia_S131_Aligned.sortedByCoord.out.bam",
          "output.STAR.PCRPlate1B2_Hypoxia_S1_Aligned.sortedByCoord.out.bam",
          "output.STAR.PCRPlate1A4_Hypoxia_S8_Aligned.sortedByCoord.out.bam",
          "output.STAR.PCRPlate4C1_Hypoxia_S222_Aligned.sortedByCoord.out.bam",
          "output.STAR.PCRPlate2D12_Normoxia_S60_Aligned.sortedByCoord.out.bam",
          "output.STAR.PCRPlate1C1_Hypoxia_S99_Aligned.sortedByCoord.out.bam",
          "output.STAR.PCRPlate1A2_Hypoxia_S104_Aligned.sortedByCoord.out.bam",
          "output.STAR.PCRPlate3C5_Hypoxia_S77_Aligned.sortedByCoord.out.bam",
          "output.STAR.PCRPlate1G6_Hypoxia_S15_Aligned.sortedByCoord.out.bam",
          "output.STAR.PCRPlate4B1_Hypoxia_S221_Aligned.sortedByCoord.out.bam",
          "output.STAR.PCRPlate2G10_Normoxia_S157_Aligned.sortedByCoord.out.bam",
          "output.STAR.PCRPlate3D5_Hypoxia_S78_Aligned.sortedByCoord.out.bam",
          "output.STAR.PCRPlate1B1_Hypoxia_S98_Aligned.sortedByCoord.out.bam",
          "output.STAR.PCRPlate3D3_Hypoxia_S72_Aligned.sortedByCoord.out.bam",
          "output.STAR.PCRPlate2F12_Normoxia_S62_Aligned.sortedByCoord.out.bam",
          "output.STAR.PCRPlate3D2_Hypoxia_S168_Aligned.sortedByCoord.out.bam",
          "output.STAR.PCRPlate3D10_Normoxia_S188_Aligned.sortedByCoord.out.bam",
          "output.STAR.PCRPlate2E12_Normoxia_S61_Aligned.sortedByCoord.out.bam",
          "output.STAR.PCRPlate3D11_Normoxia_S92_Aligned.sortedByCoord.out.bam"
         ],
         "xaxis": "x",
         "y": [
          9410,
          10367,
          10698,
          10736,
          10905,
          10954,
          10958,
          10982,
          11039,
          11061,
          11146,
          11248,
          11260,
          11263,
          11281,
          11295,
          11321,
          11353,
          11356,
          11369,
          11398,
          11476,
          11489,
          11509,
          11521,
          11536,
          11539,
          11550,
          11560,
          11564,
          11575,
          11585,
          11595,
          11623,
          11640,
          11649,
          11669,
          11709,
          11714,
          11717,
          11719,
          11740,
          11748,
          11751,
          11753,
          11754,
          11767,
          11775,
          11785,
          11823,
          11828,
          11866,
          11888,
          11912,
          11912,
          11936,
          11937,
          11955,
          11961,
          11968,
          11983,
          11991,
          11994,
          12010,
          12029,
          12056,
          12058,
          12071,
          12072,
          12073,
          12078,
          12131,
          12131,
          12133,
          12136,
          12140,
          12142,
          12145,
          12163,
          12210,
          12213,
          12215,
          12250,
          12255,
          12270,
          12282,
          12290,
          12294,
          12298,
          12301,
          12315,
          12316,
          12334,
          12337,
          12344,
          12345,
          12346,
          12350,
          12362,
          12365,
          12370,
          12376,
          12382,
          12385,
          12387,
          12413,
          12435,
          12441,
          12446,
          12465,
          12474,
          12485,
          12491,
          12495,
          12504,
          12508,
          12515,
          12539,
          12551,
          12553,
          12562,
          12565,
          12567,
          12578,
          12582,
          12588,
          12590,
          12600,
          12611,
          12633,
          12656,
          12663,
          12663,
          12673,
          12696,
          12702,
          12706,
          12729,
          12729,
          12745,
          12757,
          12763,
          12776,
          12788,
          12798,
          12814,
          12857,
          12866,
          12877,
          12905,
          12909,
          12922,
          12926,
          12926,
          12926,
          12940,
          12951,
          12986,
          12994,
          13003,
          13010,
          13026,
          13035,
          13044,
          13047,
          13063,
          13078,
          13083,
          13108,
          13113,
          13121,
          13133,
          13135,
          13136,
          13149,
          13152,
          13169,
          13188,
          13191,
          13258,
          13260,
          13275,
          13283,
          13287,
          13309,
          13311,
          13342,
          13355,
          13384,
          13392,
          13401,
          13417,
          13441,
          13461,
          13468,
          13490,
          13501,
          13505,
          13509,
          13617,
          13649,
          13735,
          13777,
          13865,
          13942,
          14006,
          14024,
          14084,
          14202,
          14241,
          14286,
          14294,
          14357,
          14379,
          14407,
          14468,
          14472,
          14528,
          14641,
          14704,
          14735,
          14844,
          14881,
          14932,
          15036,
          15252,
          15289,
          15460,
          15468,
          15794,
          15799,
          16035,
          16434,
          16477,
          21813,
          23211,
          23279,
          23300,
          23311,
          23315,
          23325,
          23329,
          23361
         ],
         "yaxis": "y"
        }
       ],
       "layout": {
        "barmode": "relative",
        "coloraxis": {
         "colorbar": {
          "title": {
           "text": "removed"
          }
         },
         "colorscale": [
          [
           0,
           "#0d0887"
          ],
          [
           0.1111111111111111,
           "#46039f"
          ],
          [
           0.2222222222222222,
           "#7201a8"
          ],
          [
           0.3333333333333333,
           "#9c179e"
          ],
          [
           0.4444444444444444,
           "#bd3786"
          ],
          [
           0.5555555555555556,
           "#d8576b"
          ],
          [
           0.6666666666666666,
           "#ed7953"
          ],
          [
           0.7777777777777778,
           "#fb9f3a"
          ],
          [
           0.8888888888888888,
           "#fdca26"
          ],
          [
           1,
           "#f0f921"
          ]
         ]
        },
        "legend": {
         "tracegroupgap": 0
        },
        "template": {
         "data": {
          "bar": [
           {
            "error_x": {
             "color": "#2a3f5f"
            },
            "error_y": {
             "color": "#2a3f5f"
            },
            "marker": {
             "line": {
              "color": "#E5ECF6",
              "width": 0.5
             },
             "pattern": {
              "fillmode": "overlay",
              "size": 10,
              "solidity": 0.2
             }
            },
            "type": "bar"
           }
          ],
          "barpolar": [
           {
            "marker": {
             "line": {
              "color": "#E5ECF6",
              "width": 0.5
             },
             "pattern": {
              "fillmode": "overlay",
              "size": 10,
              "solidity": 0.2
             }
            },
            "type": "barpolar"
           }
          ],
          "carpet": [
           {
            "aaxis": {
             "endlinecolor": "#2a3f5f",
             "gridcolor": "white",
             "linecolor": "white",
             "minorgridcolor": "white",
             "startlinecolor": "#2a3f5f"
            },
            "baxis": {
             "endlinecolor": "#2a3f5f",
             "gridcolor": "white",
             "linecolor": "white",
             "minorgridcolor": "white",
             "startlinecolor": "#2a3f5f"
            },
            "type": "carpet"
           }
          ],
          "choropleth": [
           {
            "colorbar": {
             "outlinewidth": 0,
             "ticks": ""
            },
            "type": "choropleth"
           }
          ],
          "contour": [
           {
            "colorbar": {
             "outlinewidth": 0,
             "ticks": ""
            },
            "colorscale": [
             [
              0,
              "#0d0887"
             ],
             [
              0.1111111111111111,
              "#46039f"
             ],
             [
              0.2222222222222222,
              "#7201a8"
             ],
             [
              0.3333333333333333,
              "#9c179e"
             ],
             [
              0.4444444444444444,
              "#bd3786"
             ],
             [
              0.5555555555555556,
              "#d8576b"
             ],
             [
              0.6666666666666666,
              "#ed7953"
             ],
             [
              0.7777777777777778,
              "#fb9f3a"
             ],
             [
              0.8888888888888888,
              "#fdca26"
             ],
             [
              1,
              "#f0f921"
             ]
            ],
            "type": "contour"
           }
          ],
          "contourcarpet": [
           {
            "colorbar": {
             "outlinewidth": 0,
             "ticks": ""
            },
            "type": "contourcarpet"
           }
          ],
          "heatmap": [
           {
            "colorbar": {
             "outlinewidth": 0,
             "ticks": ""
            },
            "colorscale": [
             [
              0,
              "#0d0887"
             ],
             [
              0.1111111111111111,
              "#46039f"
             ],
             [
              0.2222222222222222,
              "#7201a8"
             ],
             [
              0.3333333333333333,
              "#9c179e"
             ],
             [
              0.4444444444444444,
              "#bd3786"
             ],
             [
              0.5555555555555556,
              "#d8576b"
             ],
             [
              0.6666666666666666,
              "#ed7953"
             ],
             [
              0.7777777777777778,
              "#fb9f3a"
             ],
             [
              0.8888888888888888,
              "#fdca26"
             ],
             [
              1,
              "#f0f921"
             ]
            ],
            "type": "heatmap"
           }
          ],
          "heatmapgl": [
           {
            "colorbar": {
             "outlinewidth": 0,
             "ticks": ""
            },
            "colorscale": [
             [
              0,
              "#0d0887"
             ],
             [
              0.1111111111111111,
              "#46039f"
             ],
             [
              0.2222222222222222,
              "#7201a8"
             ],
             [
              0.3333333333333333,
              "#9c179e"
             ],
             [
              0.4444444444444444,
              "#bd3786"
             ],
             [
              0.5555555555555556,
              "#d8576b"
             ],
             [
              0.6666666666666666,
              "#ed7953"
             ],
             [
              0.7777777777777778,
              "#fb9f3a"
             ],
             [
              0.8888888888888888,
              "#fdca26"
             ],
             [
              1,
              "#f0f921"
             ]
            ],
            "type": "heatmapgl"
           }
          ],
          "histogram": [
           {
            "marker": {
             "pattern": {
              "fillmode": "overlay",
              "size": 10,
              "solidity": 0.2
             }
            },
            "type": "histogram"
           }
          ],
          "histogram2d": [
           {
            "colorbar": {
             "outlinewidth": 0,
             "ticks": ""
            },
            "colorscale": [
             [
              0,
              "#0d0887"
             ],
             [
              0.1111111111111111,
              "#46039f"
             ],
             [
              0.2222222222222222,
              "#7201a8"
             ],
             [
              0.3333333333333333,
              "#9c179e"
             ],
             [
              0.4444444444444444,
              "#bd3786"
             ],
             [
              0.5555555555555556,
              "#d8576b"
             ],
             [
              0.6666666666666666,
              "#ed7953"
             ],
             [
              0.7777777777777778,
              "#fb9f3a"
             ],
             [
              0.8888888888888888,
              "#fdca26"
             ],
             [
              1,
              "#f0f921"
             ]
            ],
            "type": "histogram2d"
           }
          ],
          "histogram2dcontour": [
           {
            "colorbar": {
             "outlinewidth": 0,
             "ticks": ""
            },
            "colorscale": [
             [
              0,
              "#0d0887"
             ],
             [
              0.1111111111111111,
              "#46039f"
             ],
             [
              0.2222222222222222,
              "#7201a8"
             ],
             [
              0.3333333333333333,
              "#9c179e"
             ],
             [
              0.4444444444444444,
              "#bd3786"
             ],
             [
              0.5555555555555556,
              "#d8576b"
             ],
             [
              0.6666666666666666,
              "#ed7953"
             ],
             [
              0.7777777777777778,
              "#fb9f3a"
             ],
             [
              0.8888888888888888,
              "#fdca26"
             ],
             [
              1,
              "#f0f921"
             ]
            ],
            "type": "histogram2dcontour"
           }
          ],
          "mesh3d": [
           {
            "colorbar": {
             "outlinewidth": 0,
             "ticks": ""
            },
            "type": "mesh3d"
           }
          ],
          "parcoords": [
           {
            "line": {
             "colorbar": {
              "outlinewidth": 0,
              "ticks": ""
             }
            },
            "type": "parcoords"
           }
          ],
          "pie": [
           {
            "automargin": true,
            "type": "pie"
           }
          ],
          "scatter": [
           {
            "fillpattern": {
             "fillmode": "overlay",
             "size": 10,
             "solidity": 0.2
            },
            "type": "scatter"
           }
          ],
          "scatter3d": [
           {
            "line": {
             "colorbar": {
              "outlinewidth": 0,
              "ticks": ""
             }
            },
            "marker": {
             "colorbar": {
              "outlinewidth": 0,
              "ticks": ""
             }
            },
            "type": "scatter3d"
           }
          ],
          "scattercarpet": [
           {
            "marker": {
             "colorbar": {
              "outlinewidth": 0,
              "ticks": ""
             }
            },
            "type": "scattercarpet"
           }
          ],
          "scattergeo": [
           {
            "marker": {
             "colorbar": {
              "outlinewidth": 0,
              "ticks": ""
             }
            },
            "type": "scattergeo"
           }
          ],
          "scattergl": [
           {
            "marker": {
             "colorbar": {
              "outlinewidth": 0,
              "ticks": ""
             }
            },
            "type": "scattergl"
           }
          ],
          "scattermapbox": [
           {
            "marker": {
             "colorbar": {
              "outlinewidth": 0,
              "ticks": ""
             }
            },
            "type": "scattermapbox"
           }
          ],
          "scatterpolar": [
           {
            "marker": {
             "colorbar": {
              "outlinewidth": 0,
              "ticks": ""
             }
            },
            "type": "scatterpolar"
           }
          ],
          "scatterpolargl": [
           {
            "marker": {
             "colorbar": {
              "outlinewidth": 0,
              "ticks": ""
             }
            },
            "type": "scatterpolargl"
           }
          ],
          "scatterternary": [
           {
            "marker": {
             "colorbar": {
              "outlinewidth": 0,
              "ticks": ""
             }
            },
            "type": "scatterternary"
           }
          ],
          "surface": [
           {
            "colorbar": {
             "outlinewidth": 0,
             "ticks": ""
            },
            "colorscale": [
             [
              0,
              "#0d0887"
             ],
             [
              0.1111111111111111,
              "#46039f"
             ],
             [
              0.2222222222222222,
              "#7201a8"
             ],
             [
              0.3333333333333333,
              "#9c179e"
             ],
             [
              0.4444444444444444,
              "#bd3786"
             ],
             [
              0.5555555555555556,
              "#d8576b"
             ],
             [
              0.6666666666666666,
              "#ed7953"
             ],
             [
              0.7777777777777778,
              "#fb9f3a"
             ],
             [
              0.8888888888888888,
              "#fdca26"
             ],
             [
              1,
              "#f0f921"
             ]
            ],
            "type": "surface"
           }
          ],
          "table": [
           {
            "cells": {
             "fill": {
              "color": "#EBF0F8"
             },
             "line": {
              "color": "white"
             }
            },
            "header": {
             "fill": {
              "color": "#C8D4E3"
             },
             "line": {
              "color": "white"
             }
            },
            "type": "table"
           }
          ]
         },
         "layout": {
          "annotationdefaults": {
           "arrowcolor": "#2a3f5f",
           "arrowhead": 0,
           "arrowwidth": 1
          },
          "autotypenumbers": "strict",
          "coloraxis": {
           "colorbar": {
            "outlinewidth": 0,
            "ticks": ""
           }
          },
          "colorscale": {
           "diverging": [
            [
             0,
             "#8e0152"
            ],
            [
             0.1,
             "#c51b7d"
            ],
            [
             0.2,
             "#de77ae"
            ],
            [
             0.3,
             "#f1b6da"
            ],
            [
             0.4,
             "#fde0ef"
            ],
            [
             0.5,
             "#f7f7f7"
            ],
            [
             0.6,
             "#e6f5d0"
            ],
            [
             0.7,
             "#b8e186"
            ],
            [
             0.8,
             "#7fbc41"
            ],
            [
             0.9,
             "#4d9221"
            ],
            [
             1,
             "#276419"
            ]
           ],
           "sequential": [
            [
             0,
             "#0d0887"
            ],
            [
             0.1111111111111111,
             "#46039f"
            ],
            [
             0.2222222222222222,
             "#7201a8"
            ],
            [
             0.3333333333333333,
             "#9c179e"
            ],
            [
             0.4444444444444444,
             "#bd3786"
            ],
            [
             0.5555555555555556,
             "#d8576b"
            ],
            [
             0.6666666666666666,
             "#ed7953"
            ],
            [
             0.7777777777777778,
             "#fb9f3a"
            ],
            [
             0.8888888888888888,
             "#fdca26"
            ],
            [
             1,
             "#f0f921"
            ]
           ],
           "sequentialminus": [
            [
             0,
             "#0d0887"
            ],
            [
             0.1111111111111111,
             "#46039f"
            ],
            [
             0.2222222222222222,
             "#7201a8"
            ],
            [
             0.3333333333333333,
             "#9c179e"
            ],
            [
             0.4444444444444444,
             "#bd3786"
            ],
            [
             0.5555555555555556,
             "#d8576b"
            ],
            [
             0.6666666666666666,
             "#ed7953"
            ],
            [
             0.7777777777777778,
             "#fb9f3a"
            ],
            [
             0.8888888888888888,
             "#fdca26"
            ],
            [
             1,
             "#f0f921"
            ]
           ]
          },
          "colorway": [
           "#636efa",
           "#EF553B",
           "#00cc96",
           "#ab63fa",
           "#FFA15A",
           "#19d3f3",
           "#FF6692",
           "#B6E880",
           "#FF97FF",
           "#FECB52"
          ],
          "font": {
           "color": "#2a3f5f"
          },
          "geo": {
           "bgcolor": "white",
           "lakecolor": "white",
           "landcolor": "#E5ECF6",
           "showlakes": true,
           "showland": true,
           "subunitcolor": "white"
          },
          "hoverlabel": {
           "align": "left"
          },
          "hovermode": "closest",
          "mapbox": {
           "style": "light"
          },
          "paper_bgcolor": "white",
          "plot_bgcolor": "#E5ECF6",
          "polar": {
           "angularaxis": {
            "gridcolor": "white",
            "linecolor": "white",
            "ticks": ""
           },
           "bgcolor": "#E5ECF6",
           "radialaxis": {
            "gridcolor": "white",
            "linecolor": "white",
            "ticks": ""
           }
          },
          "scene": {
           "xaxis": {
            "backgroundcolor": "#E5ECF6",
            "gridcolor": "white",
            "gridwidth": 2,
            "linecolor": "white",
            "showbackground": true,
            "ticks": "",
            "zerolinecolor": "white"
           },
           "yaxis": {
            "backgroundcolor": "#E5ECF6",
            "gridcolor": "white",
            "gridwidth": 2,
            "linecolor": "white",
            "showbackground": true,
            "ticks": "",
            "zerolinecolor": "white"
           },
           "zaxis": {
            "backgroundcolor": "#E5ECF6",
            "gridcolor": "white",
            "gridwidth": 2,
            "linecolor": "white",
            "showbackground": true,
            "ticks": "",
            "zerolinecolor": "white"
           }
          },
          "shapedefaults": {
           "line": {
            "color": "#2a3f5f"
           }
          },
          "ternary": {
           "aaxis": {
            "gridcolor": "white",
            "linecolor": "white",
            "ticks": ""
           },
           "baxis": {
            "gridcolor": "white",
            "linecolor": "white",
            "ticks": ""
           },
           "bgcolor": "#E5ECF6",
           "caxis": {
            "gridcolor": "white",
            "linecolor": "white",
            "ticks": ""
           }
          },
          "title": {
           "x": 0.05
          },
          "xaxis": {
           "automargin": true,
           "gridcolor": "white",
           "linecolor": "white",
           "ticks": "",
           "title": {
            "standoff": 15
           },
           "zerolinecolor": "white",
           "zerolinewidth": 2
          },
          "yaxis": {
           "automargin": true,
           "gridcolor": "white",
           "linecolor": "white",
           "ticks": "",
           "title": {
            "standoff": 15
           },
           "zerolinecolor": "white",
           "zerolinewidth": 2
          }
         }
        },
        "title": {
         "text": "Sum of inputs in each row for the filtered dataset"
        },
        "xaxis": {
         "anchor": "y",
         "domain": [
          0,
          1
         ],
         "title": {
          "text": "Row Index"
         }
        },
        "yaxis": {
         "anchor": "x",
         "domain": [
          0,
          1
         ],
         "title": {
          "text": "Sum of Inputs"
         }
        }
       }
      }
     },
     "metadata": {},
     "output_type": "display_data"
    }
   ],
   "source": [
    "# Compute the number of nonzero values in each row for the non-removed rows\n",
    "rows_zero_count = pd.DataFrame((hcc_smartS_raw == 0).sum(axis=1))\n",
    "\n",
    "rows_zero_count[\"removed\"] = rows_zero_count.index.isin(removed_rows) * 1\n",
    "\n",
    "\n",
    "import plotly.express as px\n",
    "# Visualize with Plotly\n",
    "fig = px.bar(rows_zero_count.sort_values(by=0), title=\"Sum of inputs in each row for the filtered dataset\", color=\"removed\")\n",
    "fig.update_layout(\n",
    "    xaxis_title=\"Row Index\",\n",
    "yaxis_title=\"Sum of Inputs\",\n",
    ")\n",
    "fig.show()\n"
   ]
  },
  {
   "cell_type": "code",
   "execution_count": 54,
   "metadata": {},
   "outputs": [
    {
     "data": {
      "application/vnd.plotly.v1+json": {
       "config": {
        "plotlyServerURL": "https://plot.ly"
       },
       "data": [
        {
         "alignmentgroup": "True",
         "hovertemplate": "index=%{x}<br>value=%{y}<br>removed=%{marker.color}<extra></extra>",
         "legendgroup": "",
         "marker": {
          "color": [
           1,
           1,
           0,
           0,
           0,
           0,
           0,
           0,
           0,
           0,
           0,
           0,
           0,
           0,
           0,
           0,
           0,
           0,
           0,
           0,
           0,
           0,
           0,
           0,
           0,
           0,
           0,
           0,
           0,
           0,
           0,
           0,
           0,
           0,
           0,
           0,
           0,
           0,
           0,
           0,
           0,
           0,
           0,
           0,
           0,
           0,
           0,
           0,
           0,
           0,
           0,
           0,
           0,
           0,
           0,
           0,
           0,
           0,
           0,
           0,
           0,
           0,
           0,
           0,
           0,
           1,
           0,
           0,
           0,
           0,
           0,
           0,
           0,
           0,
           0,
           0,
           0,
           0,
           0,
           0,
           0,
           0,
           0,
           0,
           0,
           0,
           0,
           0,
           0,
           0,
           0,
           0,
           0,
           0,
           0,
           0,
           0,
           0,
           0,
           0,
           0,
           0,
           0,
           0,
           0,
           0,
           0,
           0,
           0,
           0,
           0,
           0,
           0,
           0,
           0,
           0,
           0,
           0,
           0,
           0,
           0,
           0,
           0,
           0,
           0,
           0,
           0,
           0,
           0,
           0,
           0,
           0,
           0,
           0,
           0,
           0,
           0,
           0,
           0,
           0,
           0,
           0,
           0,
           0,
           0,
           0,
           0,
           0,
           0,
           0,
           0,
           0,
           0,
           0,
           0,
           0,
           0,
           0,
           0,
           0,
           0,
           0,
           0,
           0,
           0,
           0,
           0,
           0,
           0,
           0,
           0,
           0,
           0,
           0,
           0,
           0,
           0,
           0,
           0,
           0,
           0,
           0,
           0,
           0,
           0,
           0,
           0,
           0,
           0,
           0,
           0,
           0,
           0,
           0,
           0,
           0,
           0,
           0,
           0,
           0,
           0,
           0,
           0,
           0,
           0,
           0,
           0,
           0,
           0,
           0,
           0,
           0,
           0,
           0,
           0,
           0,
           0,
           0,
           0,
           0,
           0,
           0,
           1,
           0,
           0,
           0,
           0,
           1,
           0,
           0,
           0,
           0,
           1,
           1,
           1,
           1,
           1,
           1,
           1,
           1,
           1,
           1,
           1
          ],
          "coloraxis": "coloraxis",
          "pattern": {
           "shape": ""
          }
         },
         "name": "",
         "offsetgroup": "",
         "orientation": "v",
         "showlegend": false,
         "textposition": "auto",
         "type": "bar",
         "x": [
          "output.STAR.PCRPlate1D3_Hypoxia_S6_Aligned.sortedByCoord.out.bam",
          "output.STAR.PCRPlate1F8_Normoxia_S18_Aligned.sortedByCoord.out.bam",
          "output.STAR.PCRPlate3A9_Normoxia_S83_Aligned.sortedByCoord.out.bam",
          "output.STAR.PCRPlate3G1_Hypoxia_S164_Aligned.sortedByCoord.out.bam",
          "output.STAR.PCRPlate3G4_Hypoxia_S73_Aligned.sortedByCoord.out.bam",
          "output.STAR.PCRPlate3D9_Normoxia_S86_Aligned.sortedByCoord.out.bam",
          "output.STAR.PCRPlate4H10_Normoxia_S210_Aligned.sortedByCoord.out.bam",
          "output.STAR.PCRPlate4F9_Normoxia_S235_Aligned.sortedByCoord.out.bam",
          "output.STAR.PCRPlate3G7_Normoxia_S184_Aligned.sortedByCoord.out.bam",
          "output.STAR.PCRPlate2F3_Hypoxia_S40_Aligned.sortedByCoord.out.bam",
          "output.STAR.PCRPlate2C10_Normoxia_S154_Aligned.sortedByCoord.out.bam",
          "output.STAR.PCRPlate3E3_Hypoxia_S169_Aligned.sortedByCoord.out.bam",
          "output.STAR.PCRPlate1H5_Hypoxia_S10_Aligned.sortedByCoord.out.bam",
          "output.STAR.PCRPlate3E2_Hypoxia_S65_Aligned.sortedByCoord.out.bam",
          "output.STAR.PCRPlate2F7_Normoxia_S149_Aligned.sortedByCoord.out.bam",
          "output.STAR.PCRPlate3F2_Hypoxia_S66_Aligned.sortedByCoord.out.bam",
          "output.STAR.PCRPlate3G12_Normoxia_S219_Aligned.sortedByCoord.out.bam",
          "output.STAR.PCRPlate1E1_Hypoxia_S101_Aligned.sortedByCoord.out.bam",
          "output.STAR.PCRPlate2E7_Normoxia_S148_Aligned.sortedByCoord.out.bam",
          "output.STAR.PCRPlate4H9_Normoxia_S236_Aligned.sortedByCoord.out.bam",
          "output.STAR.PCRPlate2B4_Hypoxia_S139_Aligned.sortedByCoord.out.bam",
          "output.STAR.PCRPlate3B7_Normoxia_S183_Aligned.sortedByCoord.out.bam",
          "output.STAR.PCRPlate4E1_Hypoxia_S223_Aligned.sortedByCoord.out.bam",
          "output.STAR.PCRPlate3F1_Hypoxia_S163_Aligned.sortedByCoord.out.bam",
          "output.STAR.PCRPlate2H5_Hypoxia_S43_Aligned.sortedByCoord.out.bam",
          "output.STAR.PCRPlate4A10_Normoxia_S237_Aligned.sortedByCoord.out.bam",
          "output.STAR.PCRPlate1E12_Normoxia_S30_Aligned.sortedByCoord.out.bam",
          "output.STAR.PCRPlate3E5_Hypoxia_S79_Aligned.sortedByCoord.out.bam",
          "output.STAR.PCRPlate2A10_Normoxia_S153_Aligned.sortedByCoord.out.bam",
          "output.STAR.PCRPlate1A9_Normoxia_S20_Aligned.sortedByCoord.out.bam",
          "output.STAR.PCRPlate4A9_Normoxia_S234_Aligned.sortedByCoord.out.bam",
          "output.STAR.PCRPlate3H7_Normoxia_S81_Aligned.sortedByCoord.out.bam",
          "output.STAR.PCRPlate3F3_Hypoxia_S170_Aligned.sortedByCoord.out.bam",
          "output.STAR.PCRPlate4G12_Normoxia_S243_Aligned.sortedByCoord.out.bam",
          "output.STAR.PCRPlate3H3_Hypoxia_S172_Aligned.sortedByCoord.out.bam",
          "output.STAR.PCRPlate3F10_Normoxia_S190_Aligned.sortedByCoord.out.bam",
          "output.STAR.PCRPlate1G9_Normoxia_S121_Aligned.sortedByCoord.out.bam",
          "output.STAR.PCRPlate2D2_Hypoxia_S136_Aligned.sortedByCoord.out.bam",
          "output.STAR.PCRPlate2C7_Normoxia_S147_Aligned.sortedByCoord.out.bam",
          "output.STAR.PCRPlate2G4_Hypoxia_S143_Aligned.sortedByCoord.out.bam",
          "output.STAR.PCRPlate3F9_Normoxia_S88_Aligned.sortedByCoord.out.bam",
          "output.STAR.PCRPlate2C6_Hypoxia_S46_Aligned.sortedByCoord.out.bam",
          "output.STAR.PCRPlate4B3_Hypoxia_S225_Aligned.sortedByCoord.out.bam",
          "output.STAR.PCRPlate3H1_Hypoxia_S165_Aligned.sortedByCoord.out.bam",
          "output.STAR.PCRPlate4F1_Hypoxia_S224_Aligned.sortedByCoord.out.bam",
          "output.STAR.PCRPlate3B11_Normoxia_S90_Aligned.sortedByCoord.out.bam",
          "output.STAR.PCRPlate4A8_Normoxia_S206_Aligned.sortedByCoord.out.bam",
          "output.STAR.PCRPlate2A3_Hypoxia_S36_Aligned.sortedByCoord.out.bam",
          "output.STAR.PCRPlate2A8_Normoxia_S151_Aligned.sortedByCoord.out.bam",
          "output.STAR.PCRPlate4C3_Hypoxia_S226_Aligned.sortedByCoord.out.bam",
          "output.STAR.PCRPlate3H10_Normoxia_S192_Aligned.sortedByCoord.out.bam",
          "output.STAR.PCRPlate2D5_Hypoxia_S41_Aligned.sortedByCoord.out.bam",
          "output.STAR.PCRPlate4F12_Normoxia_S242_Aligned.sortedByCoord.out.bam",
          "output.STAR.PCRPlate2A4_Hypoxia_S138_Aligned.sortedByCoord.out.bam",
          "output.STAR.PCRPlate1B12_Normoxia_S27_Aligned.sortedByCoord.out.bam",
          "output.STAR.PCRPlate3B1_Hypoxia_S64_Aligned.sortedByCoord.out.bam",
          "output.STAR.PCRPlate2H6_Hypoxia_S146_Aligned.sortedByCoord.out.bam",
          "output.STAR.PCRPlate3G6_Hypoxia_S181_Aligned.sortedByCoord.out.bam",
          "output.STAR.PCRPlate3G10_Normoxia_S191_Aligned.sortedByCoord.out.bam",
          "output.STAR.PCRPlate1C7_Normoxia_S115_Aligned.sortedByCoord.out.bam",
          "output.STAR.PCRPlate3G11_Normoxia_S93_Aligned.sortedByCoord.out.bam",
          "output.STAR.PCRPlate4B6_Hypoxia_S230_Aligned.sortedByCoord.out.bam",
          "output.STAR.PCRPlate1G10_Normoxia_S126_Aligned.sortedByCoord.out.bam",
          "output.STAR.PCRPlate2H3_Hypoxia_S137_Aligned.sortedByCoord.out.bam",
          "output.STAR.PCRPlate1H9_Normoxia_S122_Aligned.sortedByCoord.out.bam",
          "output.STAR.PCRPlate2H2_Hypoxia_S35_Aligned.sortedByCoord.out.bam",
          "output.STAR.PCRPlate3G2_Hypoxia_S67_Aligned.sortedByCoord.out.bam",
          "output.STAR.PCRPlate2H11_Normoxia_S58_Aligned.sortedByCoord.out.bam",
          "output.STAR.PCRPlate3B5_Hypoxia_S76_Aligned.sortedByCoord.out.bam",
          "output.STAR.PCRPlate1A12_Normoxia_S26_Aligned.sortedByCoord.out.bam",
          "output.STAR.PCRPlate2H10_Normoxia_S158_Aligned.sortedByCoord.out.bam",
          "output.STAR.PCRPlate4E11_Normoxia_S213_Aligned.sortedByCoord.out.bam",
          "output.STAR.PCRPlate2D9_Normoxia_S54_Aligned.sortedByCoord.out.bam",
          "output.STAR.PCRPlate3F4_Hypoxia_S176_Aligned.sortedByCoord.out.bam",
          "output.STAR.PCRPlate1C8_Normoxia_S120_Aligned.sortedByCoord.out.bam",
          "output.STAR.PCRPlate1G12_Normoxia_S32_Aligned.sortedByCoord.out.bam",
          "output.STAR.PCRPlate1C9_Normoxia_S22_Aligned.sortedByCoord.out.bam",
          "output.STAR.PCRPlate2E9_Normoxia_S55_Aligned.sortedByCoord.out.bam",
          "output.STAR.PCRPlate4A1_Hypoxia_S220_Aligned.sortedByCoord.out.bam",
          "output.STAR.PCRPlate3H2_Hypoxia_S68_Aligned.sortedByCoord.out.bam",
          "output.STAR.PCRPlate1H1_Hypoxia_S103_Aligned.sortedByCoord.out.bam",
          "output.STAR.PCRPlate3C2_Hypoxia_S167_Aligned.sortedByCoord.out.bam",
          "output.STAR.PCRPlate2C8_Normoxia_S49_Aligned.sortedByCoord.out.bam",
          "output.STAR.PCRPlate4C6_Hypoxia_S231_Aligned.sortedByCoord.out.bam",
          "output.STAR.PCRPlate1D9_Normoxia_S23_Aligned.sortedByCoord.out.bam",
          "output.STAR.PCRPlate4B10_Normoxia_S238_Aligned.sortedByCoord.out.bam",
          "output.STAR.PCRPlate2G8_Normoxia_S52_Aligned.sortedByCoord.out.bam",
          "output.STAR.PCRPlate2F2_Hypoxia_S33_Aligned.sortedByCoord.out.bam",
          "output.STAR.PCRPlate3G9_Normoxia_S185_Aligned.sortedByCoord.out.bam",
          "output.STAR.PCRPlate4F4_Hypoxia_S228_Aligned.sortedByCoord.out.bam",
          "output.STAR.PCRPlate2E8_Normoxia_S50_Aligned.sortedByCoord.out.bam",
          "output.STAR.PCRPlate1B9_Normoxia_S21_Aligned.sortedByCoord.out.bam",
          "output.STAR.PCRPlate2B3_Hypoxia_S37_Aligned.sortedByCoord.out.bam",
          "output.STAR.PCRPlate4E3_Hypoxia_S227_Aligned.sortedByCoord.out.bam",
          "output.STAR.PCRPlate2F8_Normoxia_S51_Aligned.sortedByCoord.out.bam",
          "output.STAR.PCRPlate2E4_Hypoxia_S141_Aligned.sortedByCoord.out.bam",
          "output.STAR.PCRPlate1E5_Hypoxia_S112_Aligned.sortedByCoord.out.bam",
          "output.STAR.PCRPlate3E12_Normoxia_S217_Aligned.sortedByCoord.out.bam",
          "output.STAR.PCRPlate1C11_Normoxia_S128_Aligned.sortedByCoord.out.bam",
          "output.STAR.PCRPlate3D12_Normoxia_S96_Aligned.sortedByCoord.out.bam",
          "output.STAR.PCRPlate1B7_Normoxia_S114_Aligned.sortedByCoord.out.bam",
          "output.STAR.PCRPlate3H6_Hypoxia_S182_Aligned.sortedByCoord.out.bam",
          "output.STAR.PCRPlate1G1_Hypoxia_S102_Aligned.sortedByCoord.out.bam",
          "output.STAR.PCRPlate4C12_Normoxia_S216_Aligned.sortedByCoord.out.bam",
          "output.STAR.PCRPlate1D1_Hypoxia_S100_Aligned.sortedByCoord.out.bam",
          "output.STAR.PCRPlate3B6_Hypoxia_S178_Aligned.sortedByCoord.out.bam",
          "output.STAR.PCRPlate2C3_Hypoxia_S38_Aligned.sortedByCoord.out.bam",
          "output.STAR.PCRPlate1F7_Normoxia_S117_Aligned.sortedByCoord.out.bam",
          "output.STAR.PCRPlate1A6_Hypoxia_S11_Aligned.sortedByCoord.out.bam",
          "output.STAR.PCRPlate3C12_Normoxia_S95_Aligned.sortedByCoord.out.bam",
          "output.STAR.PCRPlate4H2_Hypoxia_S199_Aligned.sortedByCoord.out.bam",
          "output.STAR.PCRPlate4H11_Normoxia_S214_Aligned.sortedByCoord.out.bam",
          "output.STAR.PCRPlate3F6_Hypoxia_S180_Aligned.sortedByCoord.out.bam",
          "output.STAR.PCRPlate2B1_Hypoxia_S130_Aligned.sortedByCoord.out.bam",
          "output.STAR.PCRPlate4G1_Hypoxia_S193_Aligned.sortedByCoord.out.bam",
          "output.STAR.PCRPlate2G9_Normoxia_S56_Aligned.sortedByCoord.out.bam",
          "output.STAR.PCRPlate3A2_Hypoxia_S166_Aligned.sortedByCoord.out.bam",
          "output.STAR.PCRPlate3E10_Normoxia_S189_Aligned.sortedByCoord.out.bam",
          "output.STAR.PCRPlate1B11_Normoxia_S127_Aligned.sortedByCoord.out.bam",
          "output.STAR.PCRPlate3C3_Hypoxia_S71_Aligned.sortedByCoord.out.bam",
          "output.STAR.PCRPlate3A10_Normoxia_S186_Aligned.sortedByCoord.out.bam",
          "output.STAR.PCRPlate2E10_Normoxia_S155_Aligned.sortedByCoord.out.bam",
          "output.STAR.PCRPlate4F5_Hypoxia_S229_Aligned.sortedByCoord.out.bam",
          "output.STAR.PCRPlate3E4_Hypoxia_S175_Aligned.sortedByCoord.out.bam",
          "output.STAR.PCRPlate1G11_Normoxia_S25_Aligned.sortedByCoord.out.bam",
          "output.STAR.PCRPlate3A3_Hypoxia_S69_Aligned.sortedByCoord.out.bam",
          "output.STAR.PCRPlate4C7_Normoxia_S202_Aligned.sortedByCoord.out.bam",
          "output.STAR.PCRPlate3C6_Hypoxia_S179_Aligned.sortedByCoord.out.bam",
          "output.STAR.PCRPlate1A10_Normoxia_S123_Aligned.sortedByCoord.out.bam",
          "output.STAR.PCRPlate1C10_Normoxia_S124_Aligned.sortedByCoord.out.bam",
          "output.STAR.PCRPlate2H1_Hypoxia_S134_Aligned.sortedByCoord.out.bam",
          "output.STAR.PCRPlate3C11_Normoxia_S91_Aligned.sortedByCoord.out.bam",
          "output.STAR.PCRPlate4B2_Hypoxia_S194_Aligned.sortedByCoord.out.bam",
          "output.STAR.PCRPlate4C10_Normoxia_S239_Aligned.sortedByCoord.out.bam",
          "output.STAR.PCRPlate2A9_Normoxia_S53_Aligned.sortedByCoord.out.bam",
          "output.STAR.PCRPlate2F6_Hypoxia_S145_Aligned.sortedByCoord.out.bam",
          "output.STAR.PCRPlate4F2_Hypoxia_S197_Aligned.sortedByCoord.out.bam",
          "output.STAR.PCRPlate3A5_Hypoxia_S75_Aligned.sortedByCoord.out.bam",
          "output.STAR.PCRPlate1D12_Normoxia_S29_Aligned.sortedByCoord.out.bam",
          "output.STAR.PCRPlate3C9_Normoxia_S85_Aligned.sortedByCoord.out.bam",
          "output.STAR.PCRPlate2E6_Hypoxia_S48_Aligned.sortedByCoord.out.bam",
          "output.STAR.PCRPlate3A11_Normoxia_S89_Aligned.sortedByCoord.out.bam",
          "output.STAR.PCRPlate2B8_Normoxia_S152_Aligned.sortedByCoord.out.bam",
          "output.STAR.PCRPlate4F7_Normoxia_S203_Aligned.sortedByCoord.out.bam",
          "output.STAR.PCRPlate1F5_Hypoxia_S9_Aligned.sortedByCoord.out.bam",
          "output.STAR.PCRPlate2D1_Hypoxia_S132_Aligned.sortedByCoord.out.bam",
          "output.STAR.PCRPlate2B11_Normoxia_S159_Aligned.sortedByCoord.out.bam",
          "output.STAR.PCRPlate2B2_Hypoxia_S135_Aligned.sortedByCoord.out.bam",
          "output.STAR.PCRPlate3A12_Normoxia_S94_Aligned.sortedByCoord.out.bam",
          "output.STAR.PCRPlate4E8_Normoxia_S233_Aligned.sortedByCoord.out.bam",
          "output.STAR.PCRPlate3C10_Normoxia_S187_Aligned.sortedByCoord.out.bam",
          "output.STAR.PCRPlate2C11_Normoxia_S160_Aligned.sortedByCoord.out.bam",
          "output.STAR.PCRPlate3B4_Hypoxia_S173_Aligned.sortedByCoord.out.bam",
          "output.STAR.PCRPlate1F12_Normoxia_S31_Aligned.sortedByCoord.out.bam",
          "output.STAR.PCRPlate3E9_Normoxia_S87_Aligned.sortedByCoord.out.bam",
          "output.STAR.PCRPlate3H4_Hypoxia_S74_Aligned.sortedByCoord.out.bam",
          "output.STAR.PCRPlate4H7_Normoxia_S205_Aligned.sortedByCoord.out.bam",
          "output.STAR.PCRPlate4C11_Normoxia_S212_Aligned.sortedByCoord.out.bam",
          "output.STAR.PCRPlate3E1_Hypoxia_S162_Aligned.sortedByCoord.out.bam",
          "output.STAR.PCRPlate2A6_Hypoxia_S44_Aligned.sortedByCoord.out.bam",
          "output.STAR.PCRPlate3G5_Hypoxia_S80_Aligned.sortedByCoord.out.bam",
          "output.STAR.PCRPlate4G6_Hypoxia_S232_Aligned.sortedByCoord.out.bam",
          "output.STAR.PCRPlate2G12_Normoxia_S63_Aligned.sortedByCoord.out.bam",
          "output.STAR.PCRPlate2D6_Hypoxia_S47_Aligned.sortedByCoord.out.bam",
          "output.STAR.PCRPlate1F9_Normoxia_S24_Aligned.sortedByCoord.out.bam",
          "output.STAR.PCRPlate3G3_Hypoxia_S171_Aligned.sortedByCoord.out.bam",
          "output.STAR.PCRPlate2F4_Hypoxia_S142_Aligned.sortedByCoord.out.bam",
          "output.STAR.PCRPlate1E8_Normoxia_S17_Aligned.sortedByCoord.out.bam",
          "output.STAR.PCRPlate4B12_Normoxia_S215_Aligned.sortedByCoord.out.bam",
          "output.STAR.PCRPlate4G7_Normoxia_S204_Aligned.sortedByCoord.out.bam",
          "output.STAR.PCRPlate4E2_Hypoxia_S196_Aligned.sortedByCoord.out.bam",
          "output.STAR.PCRPlate2G2_Hypoxia_S34_Aligned.sortedByCoord.out.bam",
          "output.STAR.PCRPlate3D4_Hypoxia_S174_Aligned.sortedByCoord.out.bam",
          "output.STAR.PCRPlate2C4_Hypoxia_S140_Aligned.sortedByCoord.out.bam",
          "output.STAR.PCRPlate3B9_Normoxia_S84_Aligned.sortedByCoord.out.bam",
          "output.STAR.PCRPlate4C8_Normoxia_S208_Aligned.sortedByCoord.out.bam",
          "output.STAR.PCRPlate1E6_Hypoxia_S14_Aligned.sortedByCoord.out.bam",
          "output.STAR.PCRPlate4B11_Normoxia_S211_Aligned.sortedByCoord.out.bam",
          "output.STAR.PCRPlate1C6_Hypoxia_S13_Aligned.sortedByCoord.out.bam",
          "output.STAR.PCRPlate1G3_Hypoxia_S7_Aligned.sortedByCoord.out.bam",
          "output.STAR.PCRPlate1E7_Normoxia_S116_Aligned.sortedByCoord.out.bam",
          "output.STAR.PCRPlate1A3_Hypoxia_S4_Aligned.sortedByCoord.out.bam",
          "output.STAR.PCRPlate1C12_Normoxia_S28_Aligned.sortedByCoord.out.bam",
          "output.STAR.PCRPlate2E5_Hypoxia_S42_Aligned.sortedByCoord.out.bam",
          "output.STAR.PCRPlate2C5_Hypoxia_S144_Aligned.sortedByCoord.out.bam",
          "output.STAR.PCRPlate4C2_Hypoxia_S195_Aligned.sortedByCoord.out.bam",
          "output.STAR.PCRPlate2E11_Normoxia_S57_Aligned.sortedByCoord.out.bam",
          "output.STAR.PCRPlate3A6_Hypoxia_S177_Aligned.sortedByCoord.out.bam",
          "output.STAR.PCRPlate4A3_Hypoxia_S200_Aligned.sortedByCoord.out.bam",
          "output.STAR.PCRPlate4E12_Normoxia_S241_Aligned.sortedByCoord.out.bam",
          "output.STAR.PCRPlate4G2_Hypoxia_S198_Aligned.sortedByCoord.out.bam",
          "output.STAR.PCRPlate1G8_Normoxia_S19_Aligned.sortedByCoord.out.bam",
          "output.STAR.PCRPlate1F4_Hypoxia_S106_Aligned.sortedByCoord.out.bam",
          "output.STAR.PCRPlate2F10_Normoxia_S156_Aligned.sortedByCoord.out.bam",
          "output.STAR.PCRPlate1G7_Normoxia_S118_Aligned.sortedByCoord.out.bam",
          "output.STAR.PCRPlate1H6_Hypoxia_S16_Aligned.sortedByCoord.out.bam",
          "output.STAR.PCRPlate2A1_Hypoxia_S129_Aligned.sortedByCoord.out.bam",
          "output.STAR.PCRPlate2G7_Normoxia_S150_Aligned.sortedByCoord.out.bam",
          "output.STAR.PCRPlate4F10_Normoxia_S240_Aligned.sortedByCoord.out.bam",
          "output.STAR.PCRPlate2E3_Hypoxia_S39_Aligned.sortedByCoord.out.bam",
          "output.STAR.PCRPlate3D1_Hypoxia_S161_Aligned.sortedByCoord.out.bam",
          "output.STAR.PCRPlate4B8_Normoxia_S207_Aligned.sortedByCoord.out.bam",
          "output.STAR.PCRPlate1D5_Hypoxia_S111_Aligned.sortedByCoord.out.bam",
          "output.STAR.PCRPlate1C5_Hypoxia_S110_Aligned.sortedByCoord.out.bam",
          "output.STAR.PCRPlate1B6_Hypoxia_S12_Aligned.sortedByCoord.out.bam",
          "output.STAR.PCRPlate1A7_Normoxia_S113_Aligned.sortedByCoord.out.bam",
          "output.STAR.PCRPlate1A5_Hypoxia_S108_Aligned.sortedByCoord.out.bam",
          "output.STAR.PCRPlate3B3_Hypoxia_S70_Aligned.sortedByCoord.out.bam",
          "output.STAR.PCRPlate1G4_Hypoxia_S107_Aligned.sortedByCoord.out.bam",
          "output.STAR.PCRPlate4G10_Normoxia_S209_Aligned.sortedByCoord.out.bam",
          "output.STAR.PCRPlate1D10_Normoxia_S125_Aligned.sortedByCoord.out.bam",
          "output.STAR.PCRPlate1H2_Hypoxia_S3_Aligned.sortedByCoord.out.bam",
          "output.STAR.PCRPlate3F12_Normoxia_S218_Aligned.sortedByCoord.out.bam",
          "output.STAR.PCRPlate3B8_Normoxia_S82_Aligned.sortedByCoord.out.bam",
          "output.STAR.PCRPlate2F1_Hypoxia_S133_Aligned.sortedByCoord.out.bam",
          "output.STAR.PCRPlate1B5_Hypoxia_S109_Aligned.sortedByCoord.out.bam",
          "output.STAR.PCRPlate4A7_Normoxia_S201_Aligned.sortedByCoord.out.bam",
          "output.STAR.PCRPlate1B3_Hypoxia_S5_Aligned.sortedByCoord.out.bam",
          "output.STAR.PCRPlate2C12_Normoxia_S59_Aligned.sortedByCoord.out.bam",
          "output.STAR.PCRPlate1G2_Hypoxia_S2_Aligned.sortedByCoord.out.bam",
          "output.STAR.PCRPlate2B6_Hypoxia_S45_Aligned.sortedByCoord.out.bam",
          "output.STAR.PCRPlate1A8_Normoxia_S119_Aligned.sortedByCoord.out.bam",
          "output.STAR.PCRPlate1A1_Hypoxia_S97_Aligned.sortedByCoord.out.bam",
          "output.STAR.PCRPlate2C1_Hypoxia_S131_Aligned.sortedByCoord.out.bam",
          "output.STAR.PCRPlate1B2_Hypoxia_S1_Aligned.sortedByCoord.out.bam",
          "output.STAR.PCRPlate1A4_Hypoxia_S8_Aligned.sortedByCoord.out.bam",
          "output.STAR.PCRPlate4C1_Hypoxia_S222_Aligned.sortedByCoord.out.bam",
          "output.STAR.PCRPlate1B4_Hypoxia_S105_Aligned.sortedByCoord.out.bam",
          "output.STAR.PCRPlate1A2_Hypoxia_S104_Aligned.sortedByCoord.out.bam",
          "output.STAR.PCRPlate2D12_Normoxia_S60_Aligned.sortedByCoord.out.bam",
          "output.STAR.PCRPlate1C1_Hypoxia_S99_Aligned.sortedByCoord.out.bam",
          "output.STAR.PCRPlate3C5_Hypoxia_S77_Aligned.sortedByCoord.out.bam",
          "output.STAR.PCRPlate4B1_Hypoxia_S221_Aligned.sortedByCoord.out.bam",
          "output.STAR.PCRPlate1G6_Hypoxia_S15_Aligned.sortedByCoord.out.bam",
          "output.STAR.PCRPlate2G10_Normoxia_S157_Aligned.sortedByCoord.out.bam",
          "output.STAR.PCRPlate3D5_Hypoxia_S78_Aligned.sortedByCoord.out.bam",
          "output.STAR.PCRPlate1B1_Hypoxia_S98_Aligned.sortedByCoord.out.bam",
          "output.STAR.PCRPlate3D2_Hypoxia_S168_Aligned.sortedByCoord.out.bam",
          "output.STAR.PCRPlate3D10_Normoxia_S188_Aligned.sortedByCoord.out.bam",
          "output.STAR.PCRPlate3D3_Hypoxia_S72_Aligned.sortedByCoord.out.bam",
          "output.STAR.PCRPlate2E12_Normoxia_S61_Aligned.sortedByCoord.out.bam",
          "output.STAR.PCRPlate3D11_Normoxia_S92_Aligned.sortedByCoord.out.bam",
          "output.STAR.PCRPlate2F12_Normoxia_S62_Aligned.sortedByCoord.out.bam"
         ],
         "xaxis": "x",
         "y": [
          10286,
          11496,
          11693,
          11711,
          11890,
          11966,
          11976,
          12053,
          12092,
          12139,
          12147,
          12186,
          12197,
          12228,
          12248,
          12297,
          12311,
          12355,
          12371,
          12412,
          12448,
          12453,
          12455,
          12458,
          12472,
          12477,
          12495,
          12495,
          12522,
          12525,
          12528,
          12534,
          12538,
          12593,
          12595,
          12604,
          12622,
          12623,
          12625,
          12646,
          12648,
          12656,
          12665,
          12667,
          12729,
          12741,
          12743,
          12744,
          12755,
          12770,
          12794,
          12798,
          12808,
          12817,
          12849,
          12867,
          12899,
          12910,
          12914,
          12921,
          12932,
          12940,
          12952,
          12961,
          12995,
          13012,
          13012,
          13070,
          13075,
          13078,
          13120,
          13125,
          13126,
          13127,
          13142,
          13148,
          13152,
          13163,
          13176,
          13206,
          13206,
          13215,
          13216,
          13226,
          13229,
          13234,
          13238,
          13238,
          13240,
          13245,
          13255,
          13263,
          13267,
          13273,
          13275,
          13277,
          13280,
          13306,
          13307,
          13313,
          13323,
          13326,
          13332,
          13337,
          13337,
          13344,
          13345,
          13352,
          13352,
          13363,
          13385,
          13389,
          13391,
          13405,
          13449,
          13456,
          13481,
          13483,
          13496,
          13524,
          13524,
          13537,
          13537,
          13542,
          13557,
          13562,
          13585,
          13585,
          13586,
          13587,
          13587,
          13598,
          13602,
          13608,
          13610,
          13623,
          13627,
          13642,
          13645,
          13694,
          13715,
          13724,
          13744,
          13755,
          13758,
          13769,
          13796,
          13809,
          13825,
          13844,
          13869,
          13875,
          13894,
          13900,
          13905,
          13910,
          13916,
          13921,
          13921,
          13924,
          13950,
          13951,
          13951,
          13958,
          13980,
          13986,
          14000,
          14005,
          14016,
          14044,
          14045,
          14057,
          14083,
          14084,
          14091,
          14095,
          14110,
          14124,
          14133,
          14155,
          14170,
          14170,
          14191,
          14207,
          14222,
          14252,
          14262,
          14296,
          14297,
          14301,
          14314,
          14335,
          14356,
          14387,
          14403,
          14409,
          14463,
          14542,
          14584,
          14608,
          14624,
          14716,
          14718,
          14768,
          14807,
          14812,
          14863,
          14985,
          15015,
          15048,
          15086,
          15088,
          15197,
          15211,
          15260,
          15359,
          15365,
          15481,
          15507,
          15508,
          15733,
          15755,
          15834,
          15866,
          15868,
          15960,
          16200,
          16280,
          16462,
          16528,
          16553,
          16763,
          19119,
          19991,
          22209,
          23375,
          23381,
          23381,
          23383,
          23384,
          23388,
          23390,
          23393
         ],
         "yaxis": "y"
        }
       ],
       "layout": {
        "barmode": "relative",
        "coloraxis": {
         "colorbar": {
          "title": {
           "text": "removed"
          }
         },
         "colorscale": [
          [
           0,
           "#0d0887"
          ],
          [
           0.1111111111111111,
           "#46039f"
          ],
          [
           0.2222222222222222,
           "#7201a8"
          ],
          [
           0.3333333333333333,
           "#9c179e"
          ],
          [
           0.4444444444444444,
           "#bd3786"
          ],
          [
           0.5555555555555556,
           "#d8576b"
          ],
          [
           0.6666666666666666,
           "#ed7953"
          ],
          [
           0.7777777777777778,
           "#fb9f3a"
          ],
          [
           0.8888888888888888,
           "#fdca26"
          ],
          [
           1,
           "#f0f921"
          ]
         ]
        },
        "legend": {
         "tracegroupgap": 0
        },
        "template": {
         "data": {
          "bar": [
           {
            "error_x": {
             "color": "#2a3f5f"
            },
            "error_y": {
             "color": "#2a3f5f"
            },
            "marker": {
             "line": {
              "color": "#E5ECF6",
              "width": 0.5
             },
             "pattern": {
              "fillmode": "overlay",
              "size": 10,
              "solidity": 0.2
             }
            },
            "type": "bar"
           }
          ],
          "barpolar": [
           {
            "marker": {
             "line": {
              "color": "#E5ECF6",
              "width": 0.5
             },
             "pattern": {
              "fillmode": "overlay",
              "size": 10,
              "solidity": 0.2
             }
            },
            "type": "barpolar"
           }
          ],
          "carpet": [
           {
            "aaxis": {
             "endlinecolor": "#2a3f5f",
             "gridcolor": "white",
             "linecolor": "white",
             "minorgridcolor": "white",
             "startlinecolor": "#2a3f5f"
            },
            "baxis": {
             "endlinecolor": "#2a3f5f",
             "gridcolor": "white",
             "linecolor": "white",
             "minorgridcolor": "white",
             "startlinecolor": "#2a3f5f"
            },
            "type": "carpet"
           }
          ],
          "choropleth": [
           {
            "colorbar": {
             "outlinewidth": 0,
             "ticks": ""
            },
            "type": "choropleth"
           }
          ],
          "contour": [
           {
            "colorbar": {
             "outlinewidth": 0,
             "ticks": ""
            },
            "colorscale": [
             [
              0,
              "#0d0887"
             ],
             [
              0.1111111111111111,
              "#46039f"
             ],
             [
              0.2222222222222222,
              "#7201a8"
             ],
             [
              0.3333333333333333,
              "#9c179e"
             ],
             [
              0.4444444444444444,
              "#bd3786"
             ],
             [
              0.5555555555555556,
              "#d8576b"
             ],
             [
              0.6666666666666666,
              "#ed7953"
             ],
             [
              0.7777777777777778,
              "#fb9f3a"
             ],
             [
              0.8888888888888888,
              "#fdca26"
             ],
             [
              1,
              "#f0f921"
             ]
            ],
            "type": "contour"
           }
          ],
          "contourcarpet": [
           {
            "colorbar": {
             "outlinewidth": 0,
             "ticks": ""
            },
            "type": "contourcarpet"
           }
          ],
          "heatmap": [
           {
            "colorbar": {
             "outlinewidth": 0,
             "ticks": ""
            },
            "colorscale": [
             [
              0,
              "#0d0887"
             ],
             [
              0.1111111111111111,
              "#46039f"
             ],
             [
              0.2222222222222222,
              "#7201a8"
             ],
             [
              0.3333333333333333,
              "#9c179e"
             ],
             [
              0.4444444444444444,
              "#bd3786"
             ],
             [
              0.5555555555555556,
              "#d8576b"
             ],
             [
              0.6666666666666666,
              "#ed7953"
             ],
             [
              0.7777777777777778,
              "#fb9f3a"
             ],
             [
              0.8888888888888888,
              "#fdca26"
             ],
             [
              1,
              "#f0f921"
             ]
            ],
            "type": "heatmap"
           }
          ],
          "heatmapgl": [
           {
            "colorbar": {
             "outlinewidth": 0,
             "ticks": ""
            },
            "colorscale": [
             [
              0,
              "#0d0887"
             ],
             [
              0.1111111111111111,
              "#46039f"
             ],
             [
              0.2222222222222222,
              "#7201a8"
             ],
             [
              0.3333333333333333,
              "#9c179e"
             ],
             [
              0.4444444444444444,
              "#bd3786"
             ],
             [
              0.5555555555555556,
              "#d8576b"
             ],
             [
              0.6666666666666666,
              "#ed7953"
             ],
             [
              0.7777777777777778,
              "#fb9f3a"
             ],
             [
              0.8888888888888888,
              "#fdca26"
             ],
             [
              1,
              "#f0f921"
             ]
            ],
            "type": "heatmapgl"
           }
          ],
          "histogram": [
           {
            "marker": {
             "pattern": {
              "fillmode": "overlay",
              "size": 10,
              "solidity": 0.2
             }
            },
            "type": "histogram"
           }
          ],
          "histogram2d": [
           {
            "colorbar": {
             "outlinewidth": 0,
             "ticks": ""
            },
            "colorscale": [
             [
              0,
              "#0d0887"
             ],
             [
              0.1111111111111111,
              "#46039f"
             ],
             [
              0.2222222222222222,
              "#7201a8"
             ],
             [
              0.3333333333333333,
              "#9c179e"
             ],
             [
              0.4444444444444444,
              "#bd3786"
             ],
             [
              0.5555555555555556,
              "#d8576b"
             ],
             [
              0.6666666666666666,
              "#ed7953"
             ],
             [
              0.7777777777777778,
              "#fb9f3a"
             ],
             [
              0.8888888888888888,
              "#fdca26"
             ],
             [
              1,
              "#f0f921"
             ]
            ],
            "type": "histogram2d"
           }
          ],
          "histogram2dcontour": [
           {
            "colorbar": {
             "outlinewidth": 0,
             "ticks": ""
            },
            "colorscale": [
             [
              0,
              "#0d0887"
             ],
             [
              0.1111111111111111,
              "#46039f"
             ],
             [
              0.2222222222222222,
              "#7201a8"
             ],
             [
              0.3333333333333333,
              "#9c179e"
             ],
             [
              0.4444444444444444,
              "#bd3786"
             ],
             [
              0.5555555555555556,
              "#d8576b"
             ],
             [
              0.6666666666666666,
              "#ed7953"
             ],
             [
              0.7777777777777778,
              "#fb9f3a"
             ],
             [
              0.8888888888888888,
              "#fdca26"
             ],
             [
              1,
              "#f0f921"
             ]
            ],
            "type": "histogram2dcontour"
           }
          ],
          "mesh3d": [
           {
            "colorbar": {
             "outlinewidth": 0,
             "ticks": ""
            },
            "type": "mesh3d"
           }
          ],
          "parcoords": [
           {
            "line": {
             "colorbar": {
              "outlinewidth": 0,
              "ticks": ""
             }
            },
            "type": "parcoords"
           }
          ],
          "pie": [
           {
            "automargin": true,
            "type": "pie"
           }
          ],
          "scatter": [
           {
            "fillpattern": {
             "fillmode": "overlay",
             "size": 10,
             "solidity": 0.2
            },
            "type": "scatter"
           }
          ],
          "scatter3d": [
           {
            "line": {
             "colorbar": {
              "outlinewidth": 0,
              "ticks": ""
             }
            },
            "marker": {
             "colorbar": {
              "outlinewidth": 0,
              "ticks": ""
             }
            },
            "type": "scatter3d"
           }
          ],
          "scattercarpet": [
           {
            "marker": {
             "colorbar": {
              "outlinewidth": 0,
              "ticks": ""
             }
            },
            "type": "scattercarpet"
           }
          ],
          "scattergeo": [
           {
            "marker": {
             "colorbar": {
              "outlinewidth": 0,
              "ticks": ""
             }
            },
            "type": "scattergeo"
           }
          ],
          "scattergl": [
           {
            "marker": {
             "colorbar": {
              "outlinewidth": 0,
              "ticks": ""
             }
            },
            "type": "scattergl"
           }
          ],
          "scattermapbox": [
           {
            "marker": {
             "colorbar": {
              "outlinewidth": 0,
              "ticks": ""
             }
            },
            "type": "scattermapbox"
           }
          ],
          "scatterpolar": [
           {
            "marker": {
             "colorbar": {
              "outlinewidth": 0,
              "ticks": ""
             }
            },
            "type": "scatterpolar"
           }
          ],
          "scatterpolargl": [
           {
            "marker": {
             "colorbar": {
              "outlinewidth": 0,
              "ticks": ""
             }
            },
            "type": "scatterpolargl"
           }
          ],
          "scatterternary": [
           {
            "marker": {
             "colorbar": {
              "outlinewidth": 0,
              "ticks": ""
             }
            },
            "type": "scatterternary"
           }
          ],
          "surface": [
           {
            "colorbar": {
             "outlinewidth": 0,
             "ticks": ""
            },
            "colorscale": [
             [
              0,
              "#0d0887"
             ],
             [
              0.1111111111111111,
              "#46039f"
             ],
             [
              0.2222222222222222,
              "#7201a8"
             ],
             [
              0.3333333333333333,
              "#9c179e"
             ],
             [
              0.4444444444444444,
              "#bd3786"
             ],
             [
              0.5555555555555556,
              "#d8576b"
             ],
             [
              0.6666666666666666,
              "#ed7953"
             ],
             [
              0.7777777777777778,
              "#fb9f3a"
             ],
             [
              0.8888888888888888,
              "#fdca26"
             ],
             [
              1,
              "#f0f921"
             ]
            ],
            "type": "surface"
           }
          ],
          "table": [
           {
            "cells": {
             "fill": {
              "color": "#EBF0F8"
             },
             "line": {
              "color": "white"
             }
            },
            "header": {
             "fill": {
              "color": "#C8D4E3"
             },
             "line": {
              "color": "white"
             }
            },
            "type": "table"
           }
          ]
         },
         "layout": {
          "annotationdefaults": {
           "arrowcolor": "#2a3f5f",
           "arrowhead": 0,
           "arrowwidth": 1
          },
          "autotypenumbers": "strict",
          "coloraxis": {
           "colorbar": {
            "outlinewidth": 0,
            "ticks": ""
           }
          },
          "colorscale": {
           "diverging": [
            [
             0,
             "#8e0152"
            ],
            [
             0.1,
             "#c51b7d"
            ],
            [
             0.2,
             "#de77ae"
            ],
            [
             0.3,
             "#f1b6da"
            ],
            [
             0.4,
             "#fde0ef"
            ],
            [
             0.5,
             "#f7f7f7"
            ],
            [
             0.6,
             "#e6f5d0"
            ],
            [
             0.7,
             "#b8e186"
            ],
            [
             0.8,
             "#7fbc41"
            ],
            [
             0.9,
             "#4d9221"
            ],
            [
             1,
             "#276419"
            ]
           ],
           "sequential": [
            [
             0,
             "#0d0887"
            ],
            [
             0.1111111111111111,
             "#46039f"
            ],
            [
             0.2222222222222222,
             "#7201a8"
            ],
            [
             0.3333333333333333,
             "#9c179e"
            ],
            [
             0.4444444444444444,
             "#bd3786"
            ],
            [
             0.5555555555555556,
             "#d8576b"
            ],
            [
             0.6666666666666666,
             "#ed7953"
            ],
            [
             0.7777777777777778,
             "#fb9f3a"
            ],
            [
             0.8888888888888888,
             "#fdca26"
            ],
            [
             1,
             "#f0f921"
            ]
           ],
           "sequentialminus": [
            [
             0,
             "#0d0887"
            ],
            [
             0.1111111111111111,
             "#46039f"
            ],
            [
             0.2222222222222222,
             "#7201a8"
            ],
            [
             0.3333333333333333,
             "#9c179e"
            ],
            [
             0.4444444444444444,
             "#bd3786"
            ],
            [
             0.5555555555555556,
             "#d8576b"
            ],
            [
             0.6666666666666666,
             "#ed7953"
            ],
            [
             0.7777777777777778,
             "#fb9f3a"
            ],
            [
             0.8888888888888888,
             "#fdca26"
            ],
            [
             1,
             "#f0f921"
            ]
           ]
          },
          "colorway": [
           "#636efa",
           "#EF553B",
           "#00cc96",
           "#ab63fa",
           "#FFA15A",
           "#19d3f3",
           "#FF6692",
           "#B6E880",
           "#FF97FF",
           "#FECB52"
          ],
          "font": {
           "color": "#2a3f5f"
          },
          "geo": {
           "bgcolor": "white",
           "lakecolor": "white",
           "landcolor": "#E5ECF6",
           "showlakes": true,
           "showland": true,
           "subunitcolor": "white"
          },
          "hoverlabel": {
           "align": "left"
          },
          "hovermode": "closest",
          "mapbox": {
           "style": "light"
          },
          "paper_bgcolor": "white",
          "plot_bgcolor": "#E5ECF6",
          "polar": {
           "angularaxis": {
            "gridcolor": "white",
            "linecolor": "white",
            "ticks": ""
           },
           "bgcolor": "#E5ECF6",
           "radialaxis": {
            "gridcolor": "white",
            "linecolor": "white",
            "ticks": ""
           }
          },
          "scene": {
           "xaxis": {
            "backgroundcolor": "#E5ECF6",
            "gridcolor": "white",
            "gridwidth": 2,
            "linecolor": "white",
            "showbackground": true,
            "ticks": "",
            "zerolinecolor": "white"
           },
           "yaxis": {
            "backgroundcolor": "#E5ECF6",
            "gridcolor": "white",
            "gridwidth": 2,
            "linecolor": "white",
            "showbackground": true,
            "ticks": "",
            "zerolinecolor": "white"
           },
           "zaxis": {
            "backgroundcolor": "#E5ECF6",
            "gridcolor": "white",
            "gridwidth": 2,
            "linecolor": "white",
            "showbackground": true,
            "ticks": "",
            "zerolinecolor": "white"
           }
          },
          "shapedefaults": {
           "line": {
            "color": "#2a3f5f"
           }
          },
          "ternary": {
           "aaxis": {
            "gridcolor": "white",
            "linecolor": "white",
            "ticks": ""
           },
           "baxis": {
            "gridcolor": "white",
            "linecolor": "white",
            "ticks": ""
           },
           "bgcolor": "#E5ECF6",
           "caxis": {
            "gridcolor": "white",
            "linecolor": "white",
            "ticks": ""
           }
          },
          "title": {
           "x": 0.05
          },
          "xaxis": {
           "automargin": true,
           "gridcolor": "white",
           "linecolor": "white",
           "ticks": "",
           "title": {
            "standoff": 15
           },
           "zerolinecolor": "white",
           "zerolinewidth": 2
          },
          "yaxis": {
           "automargin": true,
           "gridcolor": "white",
           "linecolor": "white",
           "ticks": "",
           "title": {
            "standoff": 15
           },
           "zerolinecolor": "white",
           "zerolinewidth": 2
          }
         }
        },
        "title": {
         "text": "Sum of inputs in each row for the filtered dataset"
        },
        "xaxis": {
         "anchor": "y",
         "domain": [
          0,
          1
         ],
         "title": {
          "text": "Row Index"
         }
        },
        "yaxis": {
         "anchor": "x",
         "domain": [
          0,
          1
         ],
         "title": {
          "text": "Sum of Inputs"
         }
        }
       }
      }
     },
     "metadata": {},
     "output_type": "display_data"
    }
   ],
   "source": [
    "# Compute the number of nonzero values in each row for the non-removed rows\n",
    "rows_low_count = pd.DataFrame((hcc_smartS_raw < 3).sum(axis=1))\n",
    "\n",
    "rows_low_count[\"removed\"] = rows_low_count.index.isin(removed_rows) * 1\n",
    "\n",
    "\n",
    "import plotly.express as px\n",
    "# Visualize with Plotly\n",
    "fig = px.bar(rows_low_count.sort_values(by=0), title=\"Sum of inputs in each row for the filtered dataset\", color=\"removed\")\n",
    "fig.update_layout(\n",
    "    xaxis_title=\"Row Index\",\n",
    "yaxis_title=\"Sum of Inputs\",\n",
    ")\n",
    "fig.show()\n"
   ]
  },
  {
   "cell_type": "code",
   "execution_count": 55,
   "metadata": {},
   "outputs": [
    {
     "data": {
      "application/vnd.plotly.v1+json": {
       "config": {
        "plotlyServerURL": "https://plot.ly"
       },
       "data": [
        {
         "alignmentgroup": "True",
         "hovertemplate": "index=%{x}<br>value=%{y}<br>removed=%{marker.color}<extra></extra>",
         "legendgroup": "",
         "marker": {
          "color": [
           1,
           0,
           1,
           0,
           0,
           0,
           0,
           0,
           0,
           0,
           0,
           0,
           0,
           0,
           0,
           0,
           0,
           0,
           0,
           0,
           0,
           0,
           0,
           0,
           0,
           0,
           0,
           0,
           0,
           0,
           0,
           0,
           0,
           0,
           0,
           0,
           0,
           0,
           0,
           0,
           0,
           0,
           0,
           0,
           0,
           0,
           0,
           0,
           0,
           0,
           0,
           0,
           0,
           0,
           0,
           0,
           0,
           0,
           0,
           0,
           0,
           0,
           0,
           0,
           0,
           0,
           0,
           0,
           0,
           0,
           0,
           0,
           0,
           0,
           0,
           0,
           0,
           0,
           0,
           0,
           0,
           0,
           0,
           0,
           0,
           0,
           0,
           0,
           0,
           0,
           0,
           0,
           0,
           0,
           0,
           0,
           0,
           0,
           0,
           0,
           0,
           0,
           1,
           0,
           0,
           0,
           0,
           0,
           0,
           0,
           0,
           0,
           0,
           0,
           0,
           0,
           0,
           0,
           0,
           0,
           0,
           0,
           0,
           0,
           0,
           0,
           0,
           0,
           0,
           0,
           0,
           0,
           0,
           0,
           0,
           0,
           0,
           0,
           0,
           0,
           0,
           0,
           0,
           0,
           0,
           0,
           0,
           0,
           0,
           0,
           0,
           0,
           0,
           0,
           0,
           0,
           0,
           0,
           0,
           0,
           0,
           0,
           0,
           0,
           0,
           0,
           0,
           0,
           0,
           0,
           0,
           0,
           0,
           0,
           0,
           0,
           0,
           0,
           0,
           0,
           0,
           0,
           0,
           0,
           0,
           0,
           0,
           0,
           0,
           0,
           0,
           0,
           0,
           0,
           0,
           0,
           0,
           0,
           0,
           0,
           0,
           0,
           0,
           0,
           0,
           0,
           0,
           0,
           0,
           0,
           0,
           0,
           0,
           0,
           0,
           0,
           0,
           0,
           0,
           0,
           0,
           0,
           0,
           0,
           0,
           0,
           0,
           0,
           0,
           0,
           1,
           1,
           1,
           1,
           1,
           1,
           1,
           1,
           1,
           1,
           1,
           1,
           1
          ],
          "coloraxis": "coloraxis",
          "pattern": {
           "shape": ""
          }
         },
         "name": "",
         "offsetgroup": "",
         "orientation": "v",
         "showlegend": false,
         "textposition": "auto",
         "type": "bar",
         "x": [
          "output.STAR.PCRPlate1D3_Hypoxia_S6_Aligned.sortedByCoord.out.bam",
          "output.STAR.PCRPlate3G1_Hypoxia_S164_Aligned.sortedByCoord.out.bam",
          "output.STAR.PCRPlate1F8_Normoxia_S18_Aligned.sortedByCoord.out.bam",
          "output.STAR.PCRPlate3A9_Normoxia_S83_Aligned.sortedByCoord.out.bam",
          "output.STAR.PCRPlate3G4_Hypoxia_S73_Aligned.sortedByCoord.out.bam",
          "output.STAR.PCRPlate4H10_Normoxia_S210_Aligned.sortedByCoord.out.bam",
          "output.STAR.PCRPlate3D9_Normoxia_S86_Aligned.sortedByCoord.out.bam",
          "output.STAR.PCRPlate3G7_Normoxia_S184_Aligned.sortedByCoord.out.bam",
          "output.STAR.PCRPlate3E3_Hypoxia_S169_Aligned.sortedByCoord.out.bam",
          "output.STAR.PCRPlate3E2_Hypoxia_S65_Aligned.sortedByCoord.out.bam",
          "output.STAR.PCRPlate1E1_Hypoxia_S101_Aligned.sortedByCoord.out.bam",
          "output.STAR.PCRPlate2F3_Hypoxia_S40_Aligned.sortedByCoord.out.bam",
          "output.STAR.PCRPlate1H5_Hypoxia_S10_Aligned.sortedByCoord.out.bam",
          "output.STAR.PCRPlate2F7_Normoxia_S149_Aligned.sortedByCoord.out.bam",
          "output.STAR.PCRPlate4F9_Normoxia_S235_Aligned.sortedByCoord.out.bam",
          "output.STAR.PCRPlate3G12_Normoxia_S219_Aligned.sortedByCoord.out.bam",
          "output.STAR.PCRPlate2B4_Hypoxia_S139_Aligned.sortedByCoord.out.bam",
          "output.STAR.PCRPlate3E5_Hypoxia_S79_Aligned.sortedByCoord.out.bam",
          "output.STAR.PCRPlate3F2_Hypoxia_S66_Aligned.sortedByCoord.out.bam",
          "output.STAR.PCRPlate4E1_Hypoxia_S223_Aligned.sortedByCoord.out.bam",
          "output.STAR.PCRPlate2C10_Normoxia_S154_Aligned.sortedByCoord.out.bam",
          "output.STAR.PCRPlate2A10_Normoxia_S153_Aligned.sortedByCoord.out.bam",
          "output.STAR.PCRPlate1A9_Normoxia_S20_Aligned.sortedByCoord.out.bam",
          "output.STAR.PCRPlate4A10_Normoxia_S237_Aligned.sortedByCoord.out.bam",
          "output.STAR.PCRPlate3F10_Normoxia_S190_Aligned.sortedByCoord.out.bam",
          "output.STAR.PCRPlate4G12_Normoxia_S243_Aligned.sortedByCoord.out.bam",
          "output.STAR.PCRPlate3B7_Normoxia_S183_Aligned.sortedByCoord.out.bam",
          "output.STAR.PCRPlate2E7_Normoxia_S148_Aligned.sortedByCoord.out.bam",
          "output.STAR.PCRPlate3F1_Hypoxia_S163_Aligned.sortedByCoord.out.bam",
          "output.STAR.PCRPlate2C7_Normoxia_S147_Aligned.sortedByCoord.out.bam",
          "output.STAR.PCRPlate2A3_Hypoxia_S36_Aligned.sortedByCoord.out.bam",
          "output.STAR.PCRPlate3H1_Hypoxia_S165_Aligned.sortedByCoord.out.bam",
          "output.STAR.PCRPlate3H7_Normoxia_S81_Aligned.sortedByCoord.out.bam",
          "output.STAR.PCRPlate3H3_Hypoxia_S172_Aligned.sortedByCoord.out.bam",
          "output.STAR.PCRPlate2A4_Hypoxia_S138_Aligned.sortedByCoord.out.bam",
          "output.STAR.PCRPlate2D5_Hypoxia_S41_Aligned.sortedByCoord.out.bam",
          "output.STAR.PCRPlate2D2_Hypoxia_S136_Aligned.sortedByCoord.out.bam",
          "output.STAR.PCRPlate1G9_Normoxia_S121_Aligned.sortedByCoord.out.bam",
          "output.STAR.PCRPlate1E12_Normoxia_S30_Aligned.sortedByCoord.out.bam",
          "output.STAR.PCRPlate4A9_Normoxia_S234_Aligned.sortedByCoord.out.bam",
          "output.STAR.PCRPlate4C3_Hypoxia_S226_Aligned.sortedByCoord.out.bam",
          "output.STAR.PCRPlate4F1_Hypoxia_S224_Aligned.sortedByCoord.out.bam",
          "output.STAR.PCRPlate2H5_Hypoxia_S43_Aligned.sortedByCoord.out.bam",
          "output.STAR.PCRPlate2C6_Hypoxia_S46_Aligned.sortedByCoord.out.bam",
          "output.STAR.PCRPlate4H9_Normoxia_S236_Aligned.sortedByCoord.out.bam",
          "output.STAR.PCRPlate4B3_Hypoxia_S225_Aligned.sortedByCoord.out.bam",
          "output.STAR.PCRPlate4F12_Normoxia_S242_Aligned.sortedByCoord.out.bam",
          "output.STAR.PCRPlate2G4_Hypoxia_S143_Aligned.sortedByCoord.out.bam",
          "output.STAR.PCRPlate4B6_Hypoxia_S230_Aligned.sortedByCoord.out.bam",
          "output.STAR.PCRPlate3F9_Normoxia_S88_Aligned.sortedByCoord.out.bam",
          "output.STAR.PCRPlate3B11_Normoxia_S90_Aligned.sortedByCoord.out.bam",
          "output.STAR.PCRPlate3G10_Normoxia_S191_Aligned.sortedByCoord.out.bam",
          "output.STAR.PCRPlate1G10_Normoxia_S126_Aligned.sortedByCoord.out.bam",
          "output.STAR.PCRPlate1C7_Normoxia_S115_Aligned.sortedByCoord.out.bam",
          "output.STAR.PCRPlate3G6_Hypoxia_S181_Aligned.sortedByCoord.out.bam",
          "output.STAR.PCRPlate3G11_Normoxia_S93_Aligned.sortedByCoord.out.bam",
          "output.STAR.PCRPlate2H3_Hypoxia_S137_Aligned.sortedByCoord.out.bam",
          "output.STAR.PCRPlate3G2_Hypoxia_S67_Aligned.sortedByCoord.out.bam",
          "output.STAR.PCRPlate2D9_Normoxia_S54_Aligned.sortedByCoord.out.bam",
          "output.STAR.PCRPlate2A8_Normoxia_S151_Aligned.sortedByCoord.out.bam",
          "output.STAR.PCRPlate2H6_Hypoxia_S146_Aligned.sortedByCoord.out.bam",
          "output.STAR.PCRPlate4A1_Hypoxia_S220_Aligned.sortedByCoord.out.bam",
          "output.STAR.PCRPlate3B5_Hypoxia_S76_Aligned.sortedByCoord.out.bam",
          "output.STAR.PCRPlate4E11_Normoxia_S213_Aligned.sortedByCoord.out.bam",
          "output.STAR.PCRPlate1C8_Normoxia_S120_Aligned.sortedByCoord.out.bam",
          "output.STAR.PCRPlate3G9_Normoxia_S185_Aligned.sortedByCoord.out.bam",
          "output.STAR.PCRPlate4C6_Hypoxia_S231_Aligned.sortedByCoord.out.bam",
          "output.STAR.PCRPlate2F2_Hypoxia_S33_Aligned.sortedByCoord.out.bam",
          "output.STAR.PCRPlate2F8_Normoxia_S51_Aligned.sortedByCoord.out.bam",
          "output.STAR.PCRPlate1G12_Normoxia_S32_Aligned.sortedByCoord.out.bam",
          "output.STAR.PCRPlate1C11_Normoxia_S128_Aligned.sortedByCoord.out.bam",
          "output.STAR.PCRPlate2B3_Hypoxia_S37_Aligned.sortedByCoord.out.bam",
          "output.STAR.PCRPlate1H1_Hypoxia_S103_Aligned.sortedByCoord.out.bam",
          "output.STAR.PCRPlate1D9_Normoxia_S23_Aligned.sortedByCoord.out.bam",
          "output.STAR.PCRPlate4B10_Normoxia_S238_Aligned.sortedByCoord.out.bam",
          "output.STAR.PCRPlate4F4_Hypoxia_S228_Aligned.sortedByCoord.out.bam",
          "output.STAR.PCRPlate3B1_Hypoxia_S64_Aligned.sortedByCoord.out.bam",
          "output.STAR.PCRPlate3B6_Hypoxia_S178_Aligned.sortedByCoord.out.bam",
          "output.STAR.PCRPlate4G1_Hypoxia_S193_Aligned.sortedByCoord.out.bam",
          "output.STAR.PCRPlate1G1_Hypoxia_S102_Aligned.sortedByCoord.out.bam",
          "output.STAR.PCRPlate4H2_Hypoxia_S199_Aligned.sortedByCoord.out.bam",
          "output.STAR.PCRPlate1D1_Hypoxia_S100_Aligned.sortedByCoord.out.bam",
          "output.STAR.PCRPlate4E3_Hypoxia_S227_Aligned.sortedByCoord.out.bam",
          "output.STAR.PCRPlate1B9_Normoxia_S21_Aligned.sortedByCoord.out.bam",
          "output.STAR.PCRPlate1H9_Normoxia_S122_Aligned.sortedByCoord.out.bam",
          "output.STAR.PCRPlate1B7_Normoxia_S114_Aligned.sortedByCoord.out.bam",
          "output.STAR.PCRPlate1A6_Hypoxia_S11_Aligned.sortedByCoord.out.bam",
          "output.STAR.PCRPlate2E4_Hypoxia_S141_Aligned.sortedByCoord.out.bam",
          "output.STAR.PCRPlate1C9_Normoxia_S22_Aligned.sortedByCoord.out.bam",
          "output.STAR.PCRPlate2E8_Normoxia_S50_Aligned.sortedByCoord.out.bam",
          "output.STAR.PCRPlate2G8_Normoxia_S52_Aligned.sortedByCoord.out.bam",
          "output.STAR.PCRPlate3F6_Hypoxia_S180_Aligned.sortedByCoord.out.bam",
          "output.STAR.PCRPlate3E10_Normoxia_S189_Aligned.sortedByCoord.out.bam",
          "output.STAR.PCRPlate1B12_Normoxia_S27_Aligned.sortedByCoord.out.bam",
          "output.STAR.PCRPlate3D12_Normoxia_S96_Aligned.sortedByCoord.out.bam",
          "output.STAR.PCRPlate1C10_Normoxia_S124_Aligned.sortedByCoord.out.bam",
          "output.STAR.PCRPlate2E10_Normoxia_S155_Aligned.sortedByCoord.out.bam",
          "output.STAR.PCRPlate4C10_Normoxia_S239_Aligned.sortedByCoord.out.bam",
          "output.STAR.PCRPlate3F4_Hypoxia_S176_Aligned.sortedByCoord.out.bam",
          "output.STAR.PCRPlate4C12_Normoxia_S216_Aligned.sortedByCoord.out.bam",
          "output.STAR.PCRPlate4F2_Hypoxia_S197_Aligned.sortedByCoord.out.bam",
          "output.STAR.PCRPlate3E4_Hypoxia_S175_Aligned.sortedByCoord.out.bam",
          "output.STAR.PCRPlate2H2_Hypoxia_S35_Aligned.sortedByCoord.out.bam",
          "output.STAR.PCRPlate1G11_Normoxia_S25_Aligned.sortedByCoord.out.bam",
          "output.STAR.PCRPlate2B1_Hypoxia_S130_Aligned.sortedByCoord.out.bam",
          "output.STAR.PCRPlate2C3_Hypoxia_S38_Aligned.sortedByCoord.out.bam",
          "output.STAR.PCRPlate1A12_Normoxia_S26_Aligned.sortedByCoord.out.bam",
          "output.STAR.PCRPlate4B2_Hypoxia_S194_Aligned.sortedByCoord.out.bam",
          "output.STAR.PCRPlate3A3_Hypoxia_S69_Aligned.sortedByCoord.out.bam",
          "output.STAR.PCRPlate2H10_Normoxia_S158_Aligned.sortedByCoord.out.bam",
          "output.STAR.PCRPlate3H10_Normoxia_S192_Aligned.sortedByCoord.out.bam",
          "output.STAR.PCRPlate1B11_Normoxia_S127_Aligned.sortedByCoord.out.bam",
          "output.STAR.PCRPlate1A10_Normoxia_S123_Aligned.sortedByCoord.out.bam",
          "output.STAR.PCRPlate2E9_Normoxia_S55_Aligned.sortedByCoord.out.bam",
          "output.STAR.PCRPlate1D12_Normoxia_S29_Aligned.sortedByCoord.out.bam",
          "output.STAR.PCRPlate2B8_Normoxia_S152_Aligned.sortedByCoord.out.bam",
          "output.STAR.PCRPlate3A12_Normoxia_S94_Aligned.sortedByCoord.out.bam",
          "output.STAR.PCRPlate2H1_Hypoxia_S134_Aligned.sortedByCoord.out.bam",
          "output.STAR.PCRPlate2H11_Normoxia_S58_Aligned.sortedByCoord.out.bam",
          "output.STAR.PCRPlate1F5_Hypoxia_S9_Aligned.sortedByCoord.out.bam",
          "output.STAR.PCRPlate2E6_Hypoxia_S48_Aligned.sortedByCoord.out.bam",
          "output.STAR.PCRPlate3A5_Hypoxia_S75_Aligned.sortedByCoord.out.bam",
          "output.STAR.PCRPlate3C9_Normoxia_S85_Aligned.sortedByCoord.out.bam",
          "output.STAR.PCRPlate1E5_Hypoxia_S112_Aligned.sortedByCoord.out.bam",
          "output.STAR.PCRPlate2F6_Hypoxia_S145_Aligned.sortedByCoord.out.bam",
          "output.STAR.PCRPlate3C2_Hypoxia_S167_Aligned.sortedByCoord.out.bam",
          "output.STAR.PCRPlate2A6_Hypoxia_S44_Aligned.sortedByCoord.out.bam",
          "output.STAR.PCRPlate2D1_Hypoxia_S132_Aligned.sortedByCoord.out.bam",
          "output.STAR.PCRPlate3E1_Hypoxia_S162_Aligned.sortedByCoord.out.bam",
          "output.STAR.PCRPlate4B12_Normoxia_S215_Aligned.sortedByCoord.out.bam",
          "output.STAR.PCRPlate3C10_Normoxia_S187_Aligned.sortedByCoord.out.bam",
          "output.STAR.PCRPlate2B2_Hypoxia_S135_Aligned.sortedByCoord.out.bam",
          "output.STAR.PCRPlate3F3_Hypoxia_S170_Aligned.sortedByCoord.out.bam",
          "output.STAR.PCRPlate3E12_Normoxia_S217_Aligned.sortedByCoord.out.bam",
          "output.STAR.PCRPlate3A11_Normoxia_S89_Aligned.sortedByCoord.out.bam",
          "output.STAR.PCRPlate1F12_Normoxia_S31_Aligned.sortedByCoord.out.bam",
          "output.STAR.PCRPlate2G9_Normoxia_S56_Aligned.sortedByCoord.out.bam",
          "output.STAR.PCRPlate4H11_Normoxia_S214_Aligned.sortedByCoord.out.bam",
          "output.STAR.PCRPlate4C7_Normoxia_S202_Aligned.sortedByCoord.out.bam",
          "output.STAR.PCRPlate2A9_Normoxia_S53_Aligned.sortedByCoord.out.bam",
          "output.STAR.PCRPlate4A8_Normoxia_S206_Aligned.sortedByCoord.out.bam",
          "output.STAR.PCRPlate2E11_Normoxia_S57_Aligned.sortedByCoord.out.bam",
          "output.STAR.PCRPlate2F4_Hypoxia_S142_Aligned.sortedByCoord.out.bam",
          "output.STAR.PCRPlate2C4_Hypoxia_S140_Aligned.sortedByCoord.out.bam",
          "output.STAR.PCRPlate2D6_Hypoxia_S47_Aligned.sortedByCoord.out.bam",
          "output.STAR.PCRPlate2B11_Normoxia_S159_Aligned.sortedByCoord.out.bam",
          "output.STAR.PCRPlate2E5_Hypoxia_S42_Aligned.sortedByCoord.out.bam",
          "output.STAR.PCRPlate4F5_Hypoxia_S229_Aligned.sortedByCoord.out.bam",
          "output.STAR.PCRPlate1E8_Normoxia_S17_Aligned.sortedByCoord.out.bam",
          "output.STAR.PCRPlate3A2_Hypoxia_S166_Aligned.sortedByCoord.out.bam",
          "output.STAR.PCRPlate3G5_Hypoxia_S80_Aligned.sortedByCoord.out.bam",
          "output.STAR.PCRPlate4C8_Normoxia_S208_Aligned.sortedByCoord.out.bam",
          "output.STAR.PCRPlate2C5_Hypoxia_S144_Aligned.sortedByCoord.out.bam",
          "output.STAR.PCRPlate3C3_Hypoxia_S71_Aligned.sortedByCoord.out.bam",
          "output.STAR.PCRPlate3G3_Hypoxia_S171_Aligned.sortedByCoord.out.bam",
          "output.STAR.PCRPlate3H4_Hypoxia_S74_Aligned.sortedByCoord.out.bam",
          "output.STAR.PCRPlate1F9_Normoxia_S24_Aligned.sortedByCoord.out.bam",
          "output.STAR.PCRPlate4E12_Normoxia_S241_Aligned.sortedByCoord.out.bam",
          "output.STAR.PCRPlate1E7_Normoxia_S116_Aligned.sortedByCoord.out.bam",
          "output.STAR.PCRPlate3H6_Hypoxia_S182_Aligned.sortedByCoord.out.bam",
          "output.STAR.PCRPlate2C8_Normoxia_S49_Aligned.sortedByCoord.out.bam",
          "output.STAR.PCRPlate2G2_Hypoxia_S34_Aligned.sortedByCoord.out.bam",
          "output.STAR.PCRPlate1E6_Hypoxia_S14_Aligned.sortedByCoord.out.bam",
          "output.STAR.PCRPlate1C6_Hypoxia_S13_Aligned.sortedByCoord.out.bam",
          "output.STAR.PCRPlate3C11_Normoxia_S91_Aligned.sortedByCoord.out.bam",
          "output.STAR.PCRPlate1C12_Normoxia_S28_Aligned.sortedByCoord.out.bam",
          "output.STAR.PCRPlate3B4_Hypoxia_S173_Aligned.sortedByCoord.out.bam",
          "output.STAR.PCRPlate3D4_Hypoxia_S174_Aligned.sortedByCoord.out.bam",
          "output.STAR.PCRPlate3A6_Hypoxia_S177_Aligned.sortedByCoord.out.bam",
          "output.STAR.PCRPlate4H7_Normoxia_S205_Aligned.sortedByCoord.out.bam",
          "output.STAR.PCRPlate4G2_Hypoxia_S198_Aligned.sortedByCoord.out.bam",
          "output.STAR.PCRPlate2C11_Normoxia_S160_Aligned.sortedByCoord.out.bam",
          "output.STAR.PCRPlate3E9_Normoxia_S87_Aligned.sortedByCoord.out.bam",
          "output.STAR.PCRPlate3B9_Normoxia_S84_Aligned.sortedByCoord.out.bam",
          "output.STAR.PCRPlate1H6_Hypoxia_S16_Aligned.sortedByCoord.out.bam",
          "output.STAR.PCRPlate1A3_Hypoxia_S4_Aligned.sortedByCoord.out.bam",
          "output.STAR.PCRPlate1F4_Hypoxia_S106_Aligned.sortedByCoord.out.bam",
          "output.STAR.PCRPlate3C6_Hypoxia_S179_Aligned.sortedByCoord.out.bam",
          "output.STAR.PCRPlate3H2_Hypoxia_S68_Aligned.sortedByCoord.out.bam",
          "output.STAR.PCRPlate1F7_Normoxia_S117_Aligned.sortedByCoord.out.bam",
          "output.STAR.PCRPlate2F10_Normoxia_S156_Aligned.sortedByCoord.out.bam",
          "output.STAR.PCRPlate2E3_Hypoxia_S39_Aligned.sortedByCoord.out.bam",
          "output.STAR.PCRPlate4E2_Hypoxia_S196_Aligned.sortedByCoord.out.bam",
          "output.STAR.PCRPlate1G7_Normoxia_S118_Aligned.sortedByCoord.out.bam",
          "output.STAR.PCRPlate4G7_Normoxia_S204_Aligned.sortedByCoord.out.bam",
          "output.STAR.PCRPlate4F10_Normoxia_S240_Aligned.sortedByCoord.out.bam",
          "output.STAR.PCRPlate2G7_Normoxia_S150_Aligned.sortedByCoord.out.bam",
          "output.STAR.PCRPlate1C5_Hypoxia_S110_Aligned.sortedByCoord.out.bam",
          "output.STAR.PCRPlate4G6_Hypoxia_S232_Aligned.sortedByCoord.out.bam",
          "output.STAR.PCRPlate4F7_Normoxia_S203_Aligned.sortedByCoord.out.bam",
          "output.STAR.PCRPlate1A7_Normoxia_S113_Aligned.sortedByCoord.out.bam",
          "output.STAR.PCRPlate1G8_Normoxia_S19_Aligned.sortedByCoord.out.bam",
          "output.STAR.PCRPlate1D5_Hypoxia_S111_Aligned.sortedByCoord.out.bam",
          "output.STAR.PCRPlate1D10_Normoxia_S125_Aligned.sortedByCoord.out.bam",
          "output.STAR.PCRPlate3A10_Normoxia_S186_Aligned.sortedByCoord.out.bam",
          "output.STAR.PCRPlate1A5_Hypoxia_S108_Aligned.sortedByCoord.out.bam",
          "output.STAR.PCRPlate3B8_Normoxia_S82_Aligned.sortedByCoord.out.bam",
          "output.STAR.PCRPlate3C12_Normoxia_S95_Aligned.sortedByCoord.out.bam",
          "output.STAR.PCRPlate4B11_Normoxia_S211_Aligned.sortedByCoord.out.bam",
          "output.STAR.PCRPlate3B3_Hypoxia_S70_Aligned.sortedByCoord.out.bam",
          "output.STAR.PCRPlate4B8_Normoxia_S207_Aligned.sortedByCoord.out.bam",
          "output.STAR.PCRPlate4C2_Hypoxia_S195_Aligned.sortedByCoord.out.bam",
          "output.STAR.PCRPlate4G10_Normoxia_S209_Aligned.sortedByCoord.out.bam",
          "output.STAR.PCRPlate2G12_Normoxia_S63_Aligned.sortedByCoord.out.bam",
          "output.STAR.PCRPlate4E8_Normoxia_S233_Aligned.sortedByCoord.out.bam",
          "output.STAR.PCRPlate1H2_Hypoxia_S3_Aligned.sortedByCoord.out.bam",
          "output.STAR.PCRPlate1G3_Hypoxia_S7_Aligned.sortedByCoord.out.bam",
          "output.STAR.PCRPlate1G4_Hypoxia_S107_Aligned.sortedByCoord.out.bam",
          "output.STAR.PCRPlate4A3_Hypoxia_S200_Aligned.sortedByCoord.out.bam",
          "output.STAR.PCRPlate1B5_Hypoxia_S109_Aligned.sortedByCoord.out.bam",
          "output.STAR.PCRPlate1G2_Hypoxia_S2_Aligned.sortedByCoord.out.bam",
          "output.STAR.PCRPlate1B6_Hypoxia_S12_Aligned.sortedByCoord.out.bam",
          "output.STAR.PCRPlate1B3_Hypoxia_S5_Aligned.sortedByCoord.out.bam",
          "output.STAR.PCRPlate3F12_Normoxia_S218_Aligned.sortedByCoord.out.bam",
          "output.STAR.PCRPlate4A7_Normoxia_S201_Aligned.sortedByCoord.out.bam",
          "output.STAR.PCRPlate4C11_Normoxia_S212_Aligned.sortedByCoord.out.bam",
          "output.STAR.PCRPlate2F1_Hypoxia_S133_Aligned.sortedByCoord.out.bam",
          "output.STAR.PCRPlate2C12_Normoxia_S59_Aligned.sortedByCoord.out.bam",
          "output.STAR.PCRPlate2A1_Hypoxia_S129_Aligned.sortedByCoord.out.bam",
          "output.STAR.PCRPlate1B2_Hypoxia_S1_Aligned.sortedByCoord.out.bam",
          "output.STAR.PCRPlate1A8_Normoxia_S119_Aligned.sortedByCoord.out.bam",
          "output.STAR.PCRPlate1A4_Hypoxia_S8_Aligned.sortedByCoord.out.bam",
          "output.STAR.PCRPlate2B6_Hypoxia_S45_Aligned.sortedByCoord.out.bam",
          "output.STAR.PCRPlate2C1_Hypoxia_S131_Aligned.sortedByCoord.out.bam",
          "output.STAR.PCRPlate4C1_Hypoxia_S222_Aligned.sortedByCoord.out.bam",
          "output.STAR.PCRPlate1A2_Hypoxia_S104_Aligned.sortedByCoord.out.bam",
          "output.STAR.PCRPlate1C1_Hypoxia_S99_Aligned.sortedByCoord.out.bam",
          "output.STAR.PCRPlate3D1_Hypoxia_S161_Aligned.sortedByCoord.out.bam",
          "output.STAR.PCRPlate3C5_Hypoxia_S77_Aligned.sortedByCoord.out.bam",
          "output.STAR.PCRPlate2D12_Normoxia_S60_Aligned.sortedByCoord.out.bam",
          "output.STAR.PCRPlate1A1_Hypoxia_S97_Aligned.sortedByCoord.out.bam",
          "output.STAR.PCRPlate1B4_Hypoxia_S105_Aligned.sortedByCoord.out.bam",
          "output.STAR.PCRPlate4B1_Hypoxia_S221_Aligned.sortedByCoord.out.bam",
          "output.STAR.PCRPlate1G6_Hypoxia_S15_Aligned.sortedByCoord.out.bam",
          "output.STAR.PCRPlate2G10_Normoxia_S157_Aligned.sortedByCoord.out.bam",
          "output.STAR.PCRPlate1B1_Hypoxia_S98_Aligned.sortedByCoord.out.bam",
          "output.STAR.PCRPlate3D5_Hypoxia_S78_Aligned.sortedByCoord.out.bam",
          "output.STAR.PCRPlate3D2_Hypoxia_S168_Aligned.sortedByCoord.out.bam",
          "output.STAR.PCRPlate3D10_Normoxia_S188_Aligned.sortedByCoord.out.bam",
          "output.STAR.PCRPlate2E12_Normoxia_S61_Aligned.sortedByCoord.out.bam",
          "output.STAR.PCRPlate3D3_Hypoxia_S72_Aligned.sortedByCoord.out.bam",
          "output.STAR.PCRPlate3D11_Normoxia_S92_Aligned.sortedByCoord.out.bam",
          "output.STAR.PCRPlate2F12_Normoxia_S62_Aligned.sortedByCoord.out.bam"
         ],
         "xaxis": "x",
         "y": [
          11874,
          13137,
          13230,
          13276,
          13413,
          13420,
          13470,
          13551,
          13624,
          13663,
          13673,
          13684,
          13716,
          13740,
          13777,
          13804,
          13804,
          13840,
          13849,
          13863,
          13864,
          13889,
          13890,
          13894,
          13915,
          13929,
          13951,
          13951,
          13960,
          13969,
          14015,
          14017,
          14018,
          14026,
          14066,
          14092,
          14096,
          14099,
          14122,
          14128,
          14128,
          14135,
          14137,
          14150,
          14152,
          14159,
          14179,
          14216,
          14234,
          14246,
          14282,
          14310,
          14316,
          14317,
          14333,
          14353,
          14390,
          14432,
          14434,
          14437,
          14448,
          14498,
          14511,
          14523,
          14525,
          14530,
          14536,
          14542,
          14555,
          14561,
          14604,
          14608,
          14615,
          14619,
          14623,
          14637,
          14643,
          14654,
          14670,
          14672,
          14680,
          14682,
          14693,
          14697,
          14699,
          14713,
          14714,
          14715,
          14717,
          14724,
          14728,
          14738,
          14755,
          14774,
          14823,
          14823,
          14835,
          14836,
          14838,
          14858,
          14878,
          14889,
          14891,
          14891,
          14896,
          14914,
          14917,
          14922,
          14927,
          14961,
          15007,
          15011,
          15026,
          15035,
          15039,
          15056,
          15059,
          15061,
          15077,
          15089,
          15100,
          15103,
          15112,
          15120,
          15127,
          15127,
          15128,
          15142,
          15154,
          15157,
          15192,
          15199,
          15208,
          15213,
          15227,
          15235,
          15251,
          15277,
          15293,
          15304,
          15336,
          15348,
          15353,
          15361,
          15364,
          15365,
          15375,
          15397,
          15409,
          15410,
          15427,
          15430,
          15442,
          15457,
          15460,
          15471,
          15474,
          15501,
          15526,
          15528,
          15529,
          15536,
          15551,
          15552,
          15554,
          15559,
          15561,
          15576,
          15579,
          15579,
          15586,
          15587,
          15618,
          15661,
          15722,
          15723,
          15724,
          15787,
          15792,
          15849,
          15861,
          15875,
          15880,
          15886,
          15888,
          15898,
          15955,
          16002,
          16022,
          16036,
          16051,
          16062,
          16067,
          16128,
          16148,
          16165,
          16172,
          16177,
          16203,
          16220,
          16258,
          16268,
          16276,
          16288,
          16299,
          16319,
          16328,
          16370,
          16428,
          16503,
          16510,
          16528,
          16530,
          16550,
          16553,
          16557,
          16591,
          16691,
          16706,
          16841,
          16888,
          16956,
          16973,
          17065,
          17243,
          17632,
          17633,
          17753,
          18043,
          18434,
          19286,
          19444,
          20487,
          22162,
          22466,
          23387,
          23388,
          23389,
          23389,
          23392,
          23392,
          23394,
          23395
         ],
         "yaxis": "y"
        }
       ],
       "layout": {
        "barmode": "relative",
        "coloraxis": {
         "colorbar": {
          "title": {
           "text": "removed"
          }
         },
         "colorscale": [
          [
           0,
           "#0d0887"
          ],
          [
           0.1111111111111111,
           "#46039f"
          ],
          [
           0.2222222222222222,
           "#7201a8"
          ],
          [
           0.3333333333333333,
           "#9c179e"
          ],
          [
           0.4444444444444444,
           "#bd3786"
          ],
          [
           0.5555555555555556,
           "#d8576b"
          ],
          [
           0.6666666666666666,
           "#ed7953"
          ],
          [
           0.7777777777777778,
           "#fb9f3a"
          ],
          [
           0.8888888888888888,
           "#fdca26"
          ],
          [
           1,
           "#f0f921"
          ]
         ]
        },
        "legend": {
         "tracegroupgap": 0
        },
        "template": {
         "data": {
          "bar": [
           {
            "error_x": {
             "color": "#2a3f5f"
            },
            "error_y": {
             "color": "#2a3f5f"
            },
            "marker": {
             "line": {
              "color": "#E5ECF6",
              "width": 0.5
             },
             "pattern": {
              "fillmode": "overlay",
              "size": 10,
              "solidity": 0.2
             }
            },
            "type": "bar"
           }
          ],
          "barpolar": [
           {
            "marker": {
             "line": {
              "color": "#E5ECF6",
              "width": 0.5
             },
             "pattern": {
              "fillmode": "overlay",
              "size": 10,
              "solidity": 0.2
             }
            },
            "type": "barpolar"
           }
          ],
          "carpet": [
           {
            "aaxis": {
             "endlinecolor": "#2a3f5f",
             "gridcolor": "white",
             "linecolor": "white",
             "minorgridcolor": "white",
             "startlinecolor": "#2a3f5f"
            },
            "baxis": {
             "endlinecolor": "#2a3f5f",
             "gridcolor": "white",
             "linecolor": "white",
             "minorgridcolor": "white",
             "startlinecolor": "#2a3f5f"
            },
            "type": "carpet"
           }
          ],
          "choropleth": [
           {
            "colorbar": {
             "outlinewidth": 0,
             "ticks": ""
            },
            "type": "choropleth"
           }
          ],
          "contour": [
           {
            "colorbar": {
             "outlinewidth": 0,
             "ticks": ""
            },
            "colorscale": [
             [
              0,
              "#0d0887"
             ],
             [
              0.1111111111111111,
              "#46039f"
             ],
             [
              0.2222222222222222,
              "#7201a8"
             ],
             [
              0.3333333333333333,
              "#9c179e"
             ],
             [
              0.4444444444444444,
              "#bd3786"
             ],
             [
              0.5555555555555556,
              "#d8576b"
             ],
             [
              0.6666666666666666,
              "#ed7953"
             ],
             [
              0.7777777777777778,
              "#fb9f3a"
             ],
             [
              0.8888888888888888,
              "#fdca26"
             ],
             [
              1,
              "#f0f921"
             ]
            ],
            "type": "contour"
           }
          ],
          "contourcarpet": [
           {
            "colorbar": {
             "outlinewidth": 0,
             "ticks": ""
            },
            "type": "contourcarpet"
           }
          ],
          "heatmap": [
           {
            "colorbar": {
             "outlinewidth": 0,
             "ticks": ""
            },
            "colorscale": [
             [
              0,
              "#0d0887"
             ],
             [
              0.1111111111111111,
              "#46039f"
             ],
             [
              0.2222222222222222,
              "#7201a8"
             ],
             [
              0.3333333333333333,
              "#9c179e"
             ],
             [
              0.4444444444444444,
              "#bd3786"
             ],
             [
              0.5555555555555556,
              "#d8576b"
             ],
             [
              0.6666666666666666,
              "#ed7953"
             ],
             [
              0.7777777777777778,
              "#fb9f3a"
             ],
             [
              0.8888888888888888,
              "#fdca26"
             ],
             [
              1,
              "#f0f921"
             ]
            ],
            "type": "heatmap"
           }
          ],
          "heatmapgl": [
           {
            "colorbar": {
             "outlinewidth": 0,
             "ticks": ""
            },
            "colorscale": [
             [
              0,
              "#0d0887"
             ],
             [
              0.1111111111111111,
              "#46039f"
             ],
             [
              0.2222222222222222,
              "#7201a8"
             ],
             [
              0.3333333333333333,
              "#9c179e"
             ],
             [
              0.4444444444444444,
              "#bd3786"
             ],
             [
              0.5555555555555556,
              "#d8576b"
             ],
             [
              0.6666666666666666,
              "#ed7953"
             ],
             [
              0.7777777777777778,
              "#fb9f3a"
             ],
             [
              0.8888888888888888,
              "#fdca26"
             ],
             [
              1,
              "#f0f921"
             ]
            ],
            "type": "heatmapgl"
           }
          ],
          "histogram": [
           {
            "marker": {
             "pattern": {
              "fillmode": "overlay",
              "size": 10,
              "solidity": 0.2
             }
            },
            "type": "histogram"
           }
          ],
          "histogram2d": [
           {
            "colorbar": {
             "outlinewidth": 0,
             "ticks": ""
            },
            "colorscale": [
             [
              0,
              "#0d0887"
             ],
             [
              0.1111111111111111,
              "#46039f"
             ],
             [
              0.2222222222222222,
              "#7201a8"
             ],
             [
              0.3333333333333333,
              "#9c179e"
             ],
             [
              0.4444444444444444,
              "#bd3786"
             ],
             [
              0.5555555555555556,
              "#d8576b"
             ],
             [
              0.6666666666666666,
              "#ed7953"
             ],
             [
              0.7777777777777778,
              "#fb9f3a"
             ],
             [
              0.8888888888888888,
              "#fdca26"
             ],
             [
              1,
              "#f0f921"
             ]
            ],
            "type": "histogram2d"
           }
          ],
          "histogram2dcontour": [
           {
            "colorbar": {
             "outlinewidth": 0,
             "ticks": ""
            },
            "colorscale": [
             [
              0,
              "#0d0887"
             ],
             [
              0.1111111111111111,
              "#46039f"
             ],
             [
              0.2222222222222222,
              "#7201a8"
             ],
             [
              0.3333333333333333,
              "#9c179e"
             ],
             [
              0.4444444444444444,
              "#bd3786"
             ],
             [
              0.5555555555555556,
              "#d8576b"
             ],
             [
              0.6666666666666666,
              "#ed7953"
             ],
             [
              0.7777777777777778,
              "#fb9f3a"
             ],
             [
              0.8888888888888888,
              "#fdca26"
             ],
             [
              1,
              "#f0f921"
             ]
            ],
            "type": "histogram2dcontour"
           }
          ],
          "mesh3d": [
           {
            "colorbar": {
             "outlinewidth": 0,
             "ticks": ""
            },
            "type": "mesh3d"
           }
          ],
          "parcoords": [
           {
            "line": {
             "colorbar": {
              "outlinewidth": 0,
              "ticks": ""
             }
            },
            "type": "parcoords"
           }
          ],
          "pie": [
           {
            "automargin": true,
            "type": "pie"
           }
          ],
          "scatter": [
           {
            "fillpattern": {
             "fillmode": "overlay",
             "size": 10,
             "solidity": 0.2
            },
            "type": "scatter"
           }
          ],
          "scatter3d": [
           {
            "line": {
             "colorbar": {
              "outlinewidth": 0,
              "ticks": ""
             }
            },
            "marker": {
             "colorbar": {
              "outlinewidth": 0,
              "ticks": ""
             }
            },
            "type": "scatter3d"
           }
          ],
          "scattercarpet": [
           {
            "marker": {
             "colorbar": {
              "outlinewidth": 0,
              "ticks": ""
             }
            },
            "type": "scattercarpet"
           }
          ],
          "scattergeo": [
           {
            "marker": {
             "colorbar": {
              "outlinewidth": 0,
              "ticks": ""
             }
            },
            "type": "scattergeo"
           }
          ],
          "scattergl": [
           {
            "marker": {
             "colorbar": {
              "outlinewidth": 0,
              "ticks": ""
             }
            },
            "type": "scattergl"
           }
          ],
          "scattermapbox": [
           {
            "marker": {
             "colorbar": {
              "outlinewidth": 0,
              "ticks": ""
             }
            },
            "type": "scattermapbox"
           }
          ],
          "scatterpolar": [
           {
            "marker": {
             "colorbar": {
              "outlinewidth": 0,
              "ticks": ""
             }
            },
            "type": "scatterpolar"
           }
          ],
          "scatterpolargl": [
           {
            "marker": {
             "colorbar": {
              "outlinewidth": 0,
              "ticks": ""
             }
            },
            "type": "scatterpolargl"
           }
          ],
          "scatterternary": [
           {
            "marker": {
             "colorbar": {
              "outlinewidth": 0,
              "ticks": ""
             }
            },
            "type": "scatterternary"
           }
          ],
          "surface": [
           {
            "colorbar": {
             "outlinewidth": 0,
             "ticks": ""
            },
            "colorscale": [
             [
              0,
              "#0d0887"
             ],
             [
              0.1111111111111111,
              "#46039f"
             ],
             [
              0.2222222222222222,
              "#7201a8"
             ],
             [
              0.3333333333333333,
              "#9c179e"
             ],
             [
              0.4444444444444444,
              "#bd3786"
             ],
             [
              0.5555555555555556,
              "#d8576b"
             ],
             [
              0.6666666666666666,
              "#ed7953"
             ],
             [
              0.7777777777777778,
              "#fb9f3a"
             ],
             [
              0.8888888888888888,
              "#fdca26"
             ],
             [
              1,
              "#f0f921"
             ]
            ],
            "type": "surface"
           }
          ],
          "table": [
           {
            "cells": {
             "fill": {
              "color": "#EBF0F8"
             },
             "line": {
              "color": "white"
             }
            },
            "header": {
             "fill": {
              "color": "#C8D4E3"
             },
             "line": {
              "color": "white"
             }
            },
            "type": "table"
           }
          ]
         },
         "layout": {
          "annotationdefaults": {
           "arrowcolor": "#2a3f5f",
           "arrowhead": 0,
           "arrowwidth": 1
          },
          "autotypenumbers": "strict",
          "coloraxis": {
           "colorbar": {
            "outlinewidth": 0,
            "ticks": ""
           }
          },
          "colorscale": {
           "diverging": [
            [
             0,
             "#8e0152"
            ],
            [
             0.1,
             "#c51b7d"
            ],
            [
             0.2,
             "#de77ae"
            ],
            [
             0.3,
             "#f1b6da"
            ],
            [
             0.4,
             "#fde0ef"
            ],
            [
             0.5,
             "#f7f7f7"
            ],
            [
             0.6,
             "#e6f5d0"
            ],
            [
             0.7,
             "#b8e186"
            ],
            [
             0.8,
             "#7fbc41"
            ],
            [
             0.9,
             "#4d9221"
            ],
            [
             1,
             "#276419"
            ]
           ],
           "sequential": [
            [
             0,
             "#0d0887"
            ],
            [
             0.1111111111111111,
             "#46039f"
            ],
            [
             0.2222222222222222,
             "#7201a8"
            ],
            [
             0.3333333333333333,
             "#9c179e"
            ],
            [
             0.4444444444444444,
             "#bd3786"
            ],
            [
             0.5555555555555556,
             "#d8576b"
            ],
            [
             0.6666666666666666,
             "#ed7953"
            ],
            [
             0.7777777777777778,
             "#fb9f3a"
            ],
            [
             0.8888888888888888,
             "#fdca26"
            ],
            [
             1,
             "#f0f921"
            ]
           ],
           "sequentialminus": [
            [
             0,
             "#0d0887"
            ],
            [
             0.1111111111111111,
             "#46039f"
            ],
            [
             0.2222222222222222,
             "#7201a8"
            ],
            [
             0.3333333333333333,
             "#9c179e"
            ],
            [
             0.4444444444444444,
             "#bd3786"
            ],
            [
             0.5555555555555556,
             "#d8576b"
            ],
            [
             0.6666666666666666,
             "#ed7953"
            ],
            [
             0.7777777777777778,
             "#fb9f3a"
            ],
            [
             0.8888888888888888,
             "#fdca26"
            ],
            [
             1,
             "#f0f921"
            ]
           ]
          },
          "colorway": [
           "#636efa",
           "#EF553B",
           "#00cc96",
           "#ab63fa",
           "#FFA15A",
           "#19d3f3",
           "#FF6692",
           "#B6E880",
           "#FF97FF",
           "#FECB52"
          ],
          "font": {
           "color": "#2a3f5f"
          },
          "geo": {
           "bgcolor": "white",
           "lakecolor": "white",
           "landcolor": "#E5ECF6",
           "showlakes": true,
           "showland": true,
           "subunitcolor": "white"
          },
          "hoverlabel": {
           "align": "left"
          },
          "hovermode": "closest",
          "mapbox": {
           "style": "light"
          },
          "paper_bgcolor": "white",
          "plot_bgcolor": "#E5ECF6",
          "polar": {
           "angularaxis": {
            "gridcolor": "white",
            "linecolor": "white",
            "ticks": ""
           },
           "bgcolor": "#E5ECF6",
           "radialaxis": {
            "gridcolor": "white",
            "linecolor": "white",
            "ticks": ""
           }
          },
          "scene": {
           "xaxis": {
            "backgroundcolor": "#E5ECF6",
            "gridcolor": "white",
            "gridwidth": 2,
            "linecolor": "white",
            "showbackground": true,
            "ticks": "",
            "zerolinecolor": "white"
           },
           "yaxis": {
            "backgroundcolor": "#E5ECF6",
            "gridcolor": "white",
            "gridwidth": 2,
            "linecolor": "white",
            "showbackground": true,
            "ticks": "",
            "zerolinecolor": "white"
           },
           "zaxis": {
            "backgroundcolor": "#E5ECF6",
            "gridcolor": "white",
            "gridwidth": 2,
            "linecolor": "white",
            "showbackground": true,
            "ticks": "",
            "zerolinecolor": "white"
           }
          },
          "shapedefaults": {
           "line": {
            "color": "#2a3f5f"
           }
          },
          "ternary": {
           "aaxis": {
            "gridcolor": "white",
            "linecolor": "white",
            "ticks": ""
           },
           "baxis": {
            "gridcolor": "white",
            "linecolor": "white",
            "ticks": ""
           },
           "bgcolor": "#E5ECF6",
           "caxis": {
            "gridcolor": "white",
            "linecolor": "white",
            "ticks": ""
           }
          },
          "title": {
           "x": 0.05
          },
          "xaxis": {
           "automargin": true,
           "gridcolor": "white",
           "linecolor": "white",
           "ticks": "",
           "title": {
            "standoff": 15
           },
           "zerolinecolor": "white",
           "zerolinewidth": 2
          },
          "yaxis": {
           "automargin": true,
           "gridcolor": "white",
           "linecolor": "white",
           "ticks": "",
           "title": {
            "standoff": 15
           },
           "zerolinecolor": "white",
           "zerolinewidth": 2
          }
         }
        },
        "title": {
         "text": "Sum of inputs in each row for the filtered dataset"
        },
        "xaxis": {
         "anchor": "y",
         "domain": [
          0,
          1
         ],
         "title": {
          "text": "Row Index"
         }
        },
        "yaxis": {
         "anchor": "x",
         "domain": [
          0,
          1
         ],
         "title": {
          "text": "Sum of Inputs"
         }
        }
       }
      }
     },
     "metadata": {},
     "output_type": "display_data"
    }
   ],
   "source": [
    "# Compute the number of nonzero values in each row for the non-removed rows\n",
    "rows_low_or_large_count = pd.DataFrame(((hcc_smartS_raw < 10) + (hcc_smartS_raw > 1000)).sum(axis=1))\n",
    "\n",
    "rows_low_or_large_count[\"removed\"] = rows_low_or_large_count.index.isin(removed_rows) * 1\n",
    "\n",
    "\n",
    "import plotly.express as px\n",
    "# Visualize with Plotly\n",
    "fig = px.bar(rows_low_or_large_count.sort_values(by=0), title=\"Sum of inputs in each row for the filtered dataset\", color=\"removed\")\n",
    "fig.update_layout(\n",
    "    xaxis_title=\"Row Index\",\n",
    "yaxis_title=\"Sum of Inputs\",\n",
    ")\n",
    "fig.show()\n"
   ]
  },
  {
   "cell_type": "code",
   "execution_count": 56,
   "metadata": {},
   "outputs": [
    {
     "data": {
      "text/html": [
       "<div>\n",
       "<style scoped>\n",
       "    .dataframe tbody tr th:only-of-type {\n",
       "        vertical-align: middle;\n",
       "    }\n",
       "\n",
       "    .dataframe tbody tr th {\n",
       "        vertical-align: top;\n",
       "    }\n",
       "\n",
       "    .dataframe thead th {\n",
       "        text-align: right;\n",
       "    }\n",
       "</style>\n",
       "<table border=\"1\" class=\"dataframe\">\n",
       "  <thead>\n",
       "    <tr style=\"text-align: right;\">\n",
       "      <th></th>\n",
       "      <th>PCR Plate</th>\n",
       "      <th>Pos</th>\n",
       "    </tr>\n",
       "  </thead>\n",
       "  <tbody>\n",
       "    <tr>\n",
       "      <th>output.STAR.PCRPlate1A1_Hypoxia_S97_Aligned.sortedByCoord.out.bam</th>\n",
       "      <td>1</td>\n",
       "      <td>A1</td>\n",
       "    </tr>\n",
       "    <tr>\n",
       "      <th>output.STAR.PCRPlate1B1_Hypoxia_S98_Aligned.sortedByCoord.out.bam</th>\n",
       "      <td>1</td>\n",
       "      <td>B1</td>\n",
       "    </tr>\n",
       "    <tr>\n",
       "      <th>output.STAR.PCRPlate1B4_Hypoxia_S105_Aligned.sortedByCoord.out.bam</th>\n",
       "      <td>1</td>\n",
       "      <td>B4</td>\n",
       "    </tr>\n",
       "    <tr>\n",
       "      <th>output.STAR.PCRPlate1D3_Hypoxia_S6_Aligned.sortedByCoord.out.bam</th>\n",
       "      <td>1</td>\n",
       "      <td>D3</td>\n",
       "    </tr>\n",
       "    <tr>\n",
       "      <th>output.STAR.PCRPlate1F8_Normoxia_S18_Aligned.sortedByCoord.out.bam</th>\n",
       "      <td>1</td>\n",
       "      <td>F8</td>\n",
       "    </tr>\n",
       "    <tr>\n",
       "      <th>output.STAR.PCRPlate1G6_Hypoxia_S15_Aligned.sortedByCoord.out.bam</th>\n",
       "      <td>1</td>\n",
       "      <td>G6</td>\n",
       "    </tr>\n",
       "    <tr>\n",
       "      <th>output.STAR.PCRPlate2E12_Normoxia_S61_Aligned.sortedByCoord.out.bam</th>\n",
       "      <td>2</td>\n",
       "      <td>E12</td>\n",
       "    </tr>\n",
       "    <tr>\n",
       "      <th>output.STAR.PCRPlate2F12_Normoxia_S62_Aligned.sortedByCoord.out.bam</th>\n",
       "      <td>2</td>\n",
       "      <td>F12</td>\n",
       "    </tr>\n",
       "    <tr>\n",
       "      <th>output.STAR.PCRPlate2G10_Normoxia_S157_Aligned.sortedByCoord.out.bam</th>\n",
       "      <td>2</td>\n",
       "      <td>G10</td>\n",
       "    </tr>\n",
       "    <tr>\n",
       "      <th>output.STAR.PCRPlate2H2_Hypoxia_S35_Aligned.sortedByCoord.out.bam</th>\n",
       "      <td>2</td>\n",
       "      <td>H2</td>\n",
       "    </tr>\n",
       "    <tr>\n",
       "      <th>output.STAR.PCRPlate3D10_Normoxia_S188_Aligned.sortedByCoord.out.bam</th>\n",
       "      <td>3</td>\n",
       "      <td>D10</td>\n",
       "    </tr>\n",
       "    <tr>\n",
       "      <th>output.STAR.PCRPlate3D11_Normoxia_S92_Aligned.sortedByCoord.out.bam</th>\n",
       "      <td>3</td>\n",
       "      <td>D11</td>\n",
       "    </tr>\n",
       "    <tr>\n",
       "      <th>output.STAR.PCRPlate3D2_Hypoxia_S168_Aligned.sortedByCoord.out.bam</th>\n",
       "      <td>3</td>\n",
       "      <td>D2</td>\n",
       "    </tr>\n",
       "    <tr>\n",
       "      <th>output.STAR.PCRPlate3D3_Hypoxia_S72_Aligned.sortedByCoord.out.bam</th>\n",
       "      <td>3</td>\n",
       "      <td>D3</td>\n",
       "    </tr>\n",
       "    <tr>\n",
       "      <th>output.STAR.PCRPlate3D5_Hypoxia_S78_Aligned.sortedByCoord.out.bam</th>\n",
       "      <td>3</td>\n",
       "      <td>D5</td>\n",
       "    </tr>\n",
       "    <tr>\n",
       "      <th>output.STAR.PCRPlate4B1_Hypoxia_S221_Aligned.sortedByCoord.out.bam</th>\n",
       "      <td>4</td>\n",
       "      <td>B1</td>\n",
       "    </tr>\n",
       "  </tbody>\n",
       "</table>\n",
       "</div>"
      ],
      "text/plain": [
       "                                                    PCR Plate  Pos\n",
       "output.STAR.PCRPlate1A1_Hypoxia_S97_Aligned.sor...          1   A1\n",
       "output.STAR.PCRPlate1B1_Hypoxia_S98_Aligned.sor...          1   B1\n",
       "output.STAR.PCRPlate1B4_Hypoxia_S105_Aligned.so...          1   B4\n",
       "output.STAR.PCRPlate1D3_Hypoxia_S6_Aligned.sort...          1   D3\n",
       "output.STAR.PCRPlate1F8_Normoxia_S18_Aligned.so...          1   F8\n",
       "output.STAR.PCRPlate1G6_Hypoxia_S15_Aligned.sor...          1   G6\n",
       "output.STAR.PCRPlate2E12_Normoxia_S61_Aligned.s...          2  E12\n",
       "output.STAR.PCRPlate2F12_Normoxia_S62_Aligned.s...          2  F12\n",
       "output.STAR.PCRPlate2G10_Normoxia_S157_Aligned....          2  G10\n",
       "output.STAR.PCRPlate2H2_Hypoxia_S35_Aligned.sor...          2   H2\n",
       "output.STAR.PCRPlate3D10_Normoxia_S188_Aligned....          3  D10\n",
       "output.STAR.PCRPlate3D11_Normoxia_S92_Aligned.s...          3  D11\n",
       "output.STAR.PCRPlate3D2_Hypoxia_S168_Aligned.so...          3   D2\n",
       "output.STAR.PCRPlate3D3_Hypoxia_S72_Aligned.sor...          3   D3\n",
       "output.STAR.PCRPlate3D5_Hypoxia_S78_Aligned.sor...          3   D5\n",
       "output.STAR.PCRPlate4B1_Hypoxia_S221_Aligned.so...          4   B1"
      ]
     },
     "execution_count": 56,
     "metadata": {},
     "output_type": "execute_result"
    }
   ],
   "source": [
    "hcc_smartS_raw.join(hcc_smartS_meta)[[\"PCR Plate\", \"Pos\"]].loc[removed_rows]"
   ]
  },
  {
   "cell_type": "code",
   "execution_count": null,
   "metadata": {},
   "outputs": [],
   "source": []
  },
  {
   "cell_type": "code",
   "execution_count": null,
   "metadata": {},
   "outputs": [],
   "source": []
  },
  {
   "cell_type": "code",
   "execution_count": null,
   "metadata": {},
   "outputs": [],
   "source": []
  },
  {
   "cell_type": "code",
   "execution_count": null,
   "metadata": {},
   "outputs": [],
   "source": []
  },
  {
   "cell_type": "code",
   "execution_count": null,
   "metadata": {},
   "outputs": [],
   "source": []
  },
  {
   "cell_type": "code",
   "execution_count": null,
   "metadata": {},
   "outputs": [],
   "source": []
  },
  {
   "cell_type": "code",
   "execution_count": null,
   "metadata": {},
   "outputs": [],
   "source": []
  }
 ],
 "metadata": {
  "kernelspec": {
   "display_name": "Python 3",
   "language": "python",
   "name": "python3"
  },
  "language_info": {
   "codemirror_mode": {
    "name": "ipython",
    "version": 3
   },
   "file_extension": ".py",
   "mimetype": "text/x-python",
   "name": "python",
   "nbconvert_exporter": "python",
   "pygments_lexer": "ipython3",
   "version": "3.11.9"
  }
 },
 "nbformat": 4,
 "nbformat_minor": 2
}

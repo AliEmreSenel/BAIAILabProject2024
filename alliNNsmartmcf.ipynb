{
 "cells": [
  {
   "cell_type": "code",
   "execution_count": 139,
   "metadata": {},
   "outputs": [],
   "source": [
    "import numpy as np\n",
    "import pandas as pd\n",
    "\n",
    "\n",
    "from sklearn.model_selection import train_test_split\n",
    "from sklearn.metrics import confusion_matrix, f1_score, recall_score, roc_curve\n",
    "\n",
    "\n",
    "import torch\n",
    "import torch.nn as nn\n",
    "import torch.optim as optim\n",
    "from torch.utils.data import DataLoader, Dataset\n",
    "\n",
    "from tqdm import tqdm\n",
    "import matplotlib.pyplot as plt             #visualisation\n",
    "import seaborn as sns   #visualisation\n",
    "from torch.utils.tensorboard import SummaryWriter\n",
    "%matplotlib inline     \n",
    "sns.set(color_codes=True)"
   ]
  },
  {
   "cell_type": "code",
   "execution_count": 3,
   "metadata": {},
   "outputs": [],
   "source": [
    "if torch.cuda.is_available():\n",
    "    device = torch.device(\"cuda\")\n",
    "else:\n",
    "    raise Exception(\"Cry about it\")\n"
   ]
  },
  {
   "cell_type": "code",
   "execution_count": 63,
   "metadata": {},
   "outputs": [],
   "source": [
    "def add_cell_prefix(df, prefix):\n",
    "    df.index = [prefix + i for i in df.index]\n",
    "    return df\n",
    "\n",
    "#Remove extra quotes from the filenames\n",
    "def extract_cell_name_smartseq(x):\n",
    "    y = x.split(\"_\")\n",
    "    return y[len(y)-2]\n",
    "\n",
    "def get_cell_name_smartseq(file_name):\n",
    "    return extract_cell_name_smartseq(file_name)\n",
    "\n",
    "def convert_indexes_to_cell_names_smartseq(df):\n",
    "    df.index = [get_cell_name_smartseq(x) for x in df.index]\n",
    "    return df\n",
    "\n",
    "def get_cell_hypo_or_norm_smartseq(df_meta, cell_name):\n",
    "    return df_meta[df_meta[\"Cell name\"]==cell_name][\"Condition\"].values[0]\n",
    "\n",
    "def seperate_hypo_and_norm_smartseq(df, df_meta):\n",
    "    df_hypo = df[df.index.map(lambda x: get_cell_hypo_or_norm_smartseq(df_meta, x)==\"Hypo\")]\n",
    "    df_norm = df[df.index.map(lambda x: get_cell_hypo_or_norm_smartseq(df_meta, x)==\"Norm\" or get_cell_hypo_or_norm_smartseq(df_meta, x)==\"Normo\")]\n",
    "    return df_hypo, df_norm\n",
    "\n",
    "def process_df_smartseq(df, df_meta, prefix):\n",
    "    df = convert_indexes_to_cell_names_smartseq(df)\n",
    "    _, df_norm = seperate_hypo_and_norm_smartseq(df,df_meta)\n",
    "    df = add_cell_prefix(df, prefix)\n",
    "    df_norm = add_cell_prefix(df_norm, prefix)\n",
    "    return df, df_norm.index\n",
    "\n",
    "#Remove extra quotes from the filenames\n",
    "def extract_cell_name_dropseq(x):\n",
    "    y = x.split(\"_\")\n",
    "    return y[0]\n",
    "\n",
    "def get_cell_name_dropseq(file_name):\n",
    "    return extract_cell_name_dropseq(file_name)\n",
    "\n",
    "def convert_indexes_to_cell_names_dropseq(df):\n",
    "    df.index = [get_cell_name_dropseq(x) for x in df.index]\n",
    "    return df\n",
    "\n",
    "def get_cell_hypo_or_norm_dropseq(cell_name):\n",
    "    return cell_name.split(\"_\")[-1]\n",
    "\n",
    "def seperate_hypo_and_norm_dropseq(df):\n",
    "    df_hypo = df[df.index.map(lambda x: get_cell_hypo_or_norm_dropseq(x)==\"Hypoxia\")]\n",
    "    df_norm = df[df.index.map(lambda x: get_cell_hypo_or_norm_dropseq(x)==\"Normoxia\")]\n",
    "    return df_hypo, df_norm\n",
    "\n",
    "def process_df_dropseq(df, prefix):\n",
    "    _, df_norm = seperate_hypo_and_norm_dropseq(df)\n",
    "    df = convert_indexes_to_cell_names_dropseq(df)\n",
    "    df_norm = convert_indexes_to_cell_names_dropseq(df_norm)\n",
    "    df = add_cell_prefix(df, prefix)\n",
    "    df_norm = add_cell_prefix(df_norm, prefix)\n",
    "    return df, df_norm.index"
   ]
  },
  {
   "cell_type": "code",
   "execution_count": 60,
   "metadata": {},
   "outputs": [],
   "source": [
    "df_meta = pd.read_csv(\"Data/SmartSeq/MCF7_SmartS_MetaData.tsv\",delimiter=\"\\t\", index_col=0)\n",
    "dffn = pd.read_csv(\"Data/SmartSeq/MCF7_SmartS_Filtered_Normalised_3000_Data_train.txt\",delimiter=\" \",index_col=0).T\n",
    "df2_meta = pd.read_csv(\"Data/SmartSeq/HCC1806_SmartS_MetaData.tsv\",delimiter=\"\\t\",index_col=0)\n",
    "df2fn = pd.read_csv(\"Data/SmartSeq/HCC1806_SmartS_Filtered_Normalised_3000_Data_train.txt\",delimiter=\" \",index_col=0).T\n",
    "df3 = pd.read_csv(\"Data/DropSeq/MCF7_Filtered_Normalised_3000_Data_train.txt\",delimiter=\" \",index_col=0).T\n",
    "df4 = pd.read_csv(\"Data/DropSeq/HCC1806_Filtered_Normalised_3000_Data_train.txt\",delimiter=\" \",index_col=0).T"
   ]
  },
  {
   "cell_type": "code",
   "execution_count": 64,
   "metadata": {},
   "outputs": [],
   "source": [
    "dffn, dffn_norm_idx = process_df_smartseq(dffn.copy(), df_meta, \"MCF7_\")\n",
    "df2fn, df2fn_norm_idx = process_df_smartseq(df2fn.copy(), df2_meta, \"HCC1806_\")\n",
    "df3, df3_norm_idx = process_df_dropseq(df3, \"MCF7_\")\n",
    "df4, df4_norm_idx = process_df_dropseq(df4, \"HCC1806_\")"
   ]
  },
  {
   "cell_type": "code",
   "execution_count": 67,
   "metadata": {},
   "outputs": [
    {
     "data": {
      "text/html": [
       "<div>\n",
       "<style scoped>\n",
       "    .dataframe tbody tr th:only-of-type {\n",
       "        vertical-align: middle;\n",
       "    }\n",
       "\n",
       "    .dataframe tbody tr th {\n",
       "        vertical-align: top;\n",
       "    }\n",
       "\n",
       "    .dataframe thead th {\n",
       "        text-align: right;\n",
       "    }\n",
       "</style>\n",
       "<table border=\"1\" class=\"dataframe\">\n",
       "  <thead>\n",
       "    <tr style=\"text-align: right;\">\n",
       "      <th></th>\n",
       "      <th>MALAT1</th>\n",
       "      <th>MT-RNR2</th>\n",
       "      <th>NEAT1</th>\n",
       "      <th>H1-5</th>\n",
       "      <th>TFF1</th>\n",
       "      <th>MT-RNR1</th>\n",
       "      <th>H4C3</th>\n",
       "      <th>GDF15</th>\n",
       "      <th>KRT81</th>\n",
       "      <th>MT-CO3</th>\n",
       "      <th>...</th>\n",
       "      <th>MROH1</th>\n",
       "      <th>SKIDA1</th>\n",
       "      <th>MICALL1</th>\n",
       "      <th>RARG</th>\n",
       "      <th>MYO1F</th>\n",
       "      <th>BRWD1-AS2</th>\n",
       "      <th>RPS19BP1</th>\n",
       "      <th>AUNIP</th>\n",
       "      <th>TNK2</th>\n",
       "      <th>SUDS3</th>\n",
       "    </tr>\n",
       "  </thead>\n",
       "  <tbody>\n",
       "    <tr>\n",
       "      <th>MCF7_AAAAACCTATCG</th>\n",
       "      <td>1</td>\n",
       "      <td>0</td>\n",
       "      <td>0</td>\n",
       "      <td>0</td>\n",
       "      <td>4</td>\n",
       "      <td>0</td>\n",
       "      <td>0</td>\n",
       "      <td>0</td>\n",
       "      <td>0</td>\n",
       "      <td>0</td>\n",
       "      <td>...</td>\n",
       "      <td>0</td>\n",
       "      <td>0</td>\n",
       "      <td>0</td>\n",
       "      <td>0</td>\n",
       "      <td>0</td>\n",
       "      <td>0</td>\n",
       "      <td>0</td>\n",
       "      <td>0</td>\n",
       "      <td>0</td>\n",
       "      <td>0</td>\n",
       "    </tr>\n",
       "    <tr>\n",
       "      <th>MCF7_AAAACAACCCTA</th>\n",
       "      <td>3</td>\n",
       "      <td>0</td>\n",
       "      <td>0</td>\n",
       "      <td>0</td>\n",
       "      <td>1</td>\n",
       "      <td>0</td>\n",
       "      <td>1</td>\n",
       "      <td>0</td>\n",
       "      <td>0</td>\n",
       "      <td>0</td>\n",
       "      <td>...</td>\n",
       "      <td>0</td>\n",
       "      <td>0</td>\n",
       "      <td>0</td>\n",
       "      <td>0</td>\n",
       "      <td>0</td>\n",
       "      <td>0</td>\n",
       "      <td>0</td>\n",
       "      <td>0</td>\n",
       "      <td>0</td>\n",
       "      <td>0</td>\n",
       "    </tr>\n",
       "    <tr>\n",
       "      <th>MCF7_AAAACACTCTCA</th>\n",
       "      <td>3</td>\n",
       "      <td>0</td>\n",
       "      <td>0</td>\n",
       "      <td>0</td>\n",
       "      <td>1</td>\n",
       "      <td>0</td>\n",
       "      <td>0</td>\n",
       "      <td>0</td>\n",
       "      <td>0</td>\n",
       "      <td>0</td>\n",
       "      <td>...</td>\n",
       "      <td>0</td>\n",
       "      <td>0</td>\n",
       "      <td>0</td>\n",
       "      <td>0</td>\n",
       "      <td>0</td>\n",
       "      <td>0</td>\n",
       "      <td>0</td>\n",
       "      <td>0</td>\n",
       "      <td>0</td>\n",
       "      <td>0</td>\n",
       "    </tr>\n",
       "    <tr>\n",
       "      <th>MCF7_AAAACCAGGCAC</th>\n",
       "      <td>6</td>\n",
       "      <td>2</td>\n",
       "      <td>0</td>\n",
       "      <td>0</td>\n",
       "      <td>1</td>\n",
       "      <td>0</td>\n",
       "      <td>1</td>\n",
       "      <td>0</td>\n",
       "      <td>0</td>\n",
       "      <td>0</td>\n",
       "      <td>...</td>\n",
       "      <td>0</td>\n",
       "      <td>0</td>\n",
       "      <td>0</td>\n",
       "      <td>0</td>\n",
       "      <td>0</td>\n",
       "      <td>0</td>\n",
       "      <td>0</td>\n",
       "      <td>0</td>\n",
       "      <td>0</td>\n",
       "      <td>0</td>\n",
       "    </tr>\n",
       "    <tr>\n",
       "      <th>MCF7_AAAACCTAGCTC</th>\n",
       "      <td>4</td>\n",
       "      <td>0</td>\n",
       "      <td>0</td>\n",
       "      <td>0</td>\n",
       "      <td>0</td>\n",
       "      <td>0</td>\n",
       "      <td>0</td>\n",
       "      <td>0</td>\n",
       "      <td>0</td>\n",
       "      <td>1</td>\n",
       "      <td>...</td>\n",
       "      <td>0</td>\n",
       "      <td>0</td>\n",
       "      <td>0</td>\n",
       "      <td>0</td>\n",
       "      <td>0</td>\n",
       "      <td>0</td>\n",
       "      <td>0</td>\n",
       "      <td>0</td>\n",
       "      <td>0</td>\n",
       "      <td>0</td>\n",
       "    </tr>\n",
       "    <tr>\n",
       "      <th>...</th>\n",
       "      <td>...</td>\n",
       "      <td>...</td>\n",
       "      <td>...</td>\n",
       "      <td>...</td>\n",
       "      <td>...</td>\n",
       "      <td>...</td>\n",
       "      <td>...</td>\n",
       "      <td>...</td>\n",
       "      <td>...</td>\n",
       "      <td>...</td>\n",
       "      <td>...</td>\n",
       "      <td>...</td>\n",
       "      <td>...</td>\n",
       "      <td>...</td>\n",
       "      <td>...</td>\n",
       "      <td>...</td>\n",
       "      <td>...</td>\n",
       "      <td>...</td>\n",
       "      <td>...</td>\n",
       "      <td>...</td>\n",
       "      <td>...</td>\n",
       "    </tr>\n",
       "    <tr>\n",
       "      <th>MCF7_TTTTCGCGTAGA</th>\n",
       "      <td>0</td>\n",
       "      <td>0</td>\n",
       "      <td>0</td>\n",
       "      <td>0</td>\n",
       "      <td>3</td>\n",
       "      <td>0</td>\n",
       "      <td>7</td>\n",
       "      <td>0</td>\n",
       "      <td>0</td>\n",
       "      <td>0</td>\n",
       "      <td>...</td>\n",
       "      <td>0</td>\n",
       "      <td>0</td>\n",
       "      <td>0</td>\n",
       "      <td>0</td>\n",
       "      <td>0</td>\n",
       "      <td>0</td>\n",
       "      <td>0</td>\n",
       "      <td>0</td>\n",
       "      <td>0</td>\n",
       "      <td>0</td>\n",
       "    </tr>\n",
       "    <tr>\n",
       "      <th>MCF7_TTTTCGTCCGCT</th>\n",
       "      <td>1</td>\n",
       "      <td>0</td>\n",
       "      <td>0</td>\n",
       "      <td>0</td>\n",
       "      <td>4</td>\n",
       "      <td>0</td>\n",
       "      <td>1</td>\n",
       "      <td>0</td>\n",
       "      <td>1</td>\n",
       "      <td>0</td>\n",
       "      <td>...</td>\n",
       "      <td>0</td>\n",
       "      <td>0</td>\n",
       "      <td>0</td>\n",
       "      <td>0</td>\n",
       "      <td>0</td>\n",
       "      <td>0</td>\n",
       "      <td>0</td>\n",
       "      <td>0</td>\n",
       "      <td>0</td>\n",
       "      <td>0</td>\n",
       "    </tr>\n",
       "    <tr>\n",
       "      <th>MCF7_TTTTCTCCGGCT</th>\n",
       "      <td>0</td>\n",
       "      <td>0</td>\n",
       "      <td>0</td>\n",
       "      <td>1</td>\n",
       "      <td>2</td>\n",
       "      <td>0</td>\n",
       "      <td>4</td>\n",
       "      <td>0</td>\n",
       "      <td>0</td>\n",
       "      <td>0</td>\n",
       "      <td>...</td>\n",
       "      <td>0</td>\n",
       "      <td>0</td>\n",
       "      <td>0</td>\n",
       "      <td>0</td>\n",
       "      <td>0</td>\n",
       "      <td>0</td>\n",
       "      <td>0</td>\n",
       "      <td>0</td>\n",
       "      <td>0</td>\n",
       "      <td>1</td>\n",
       "    </tr>\n",
       "    <tr>\n",
       "      <th>MCF7_TTTTGTTCAAAG</th>\n",
       "      <td>0</td>\n",
       "      <td>0</td>\n",
       "      <td>0</td>\n",
       "      <td>0</td>\n",
       "      <td>6</td>\n",
       "      <td>0</td>\n",
       "      <td>0</td>\n",
       "      <td>0</td>\n",
       "      <td>0</td>\n",
       "      <td>0</td>\n",
       "      <td>...</td>\n",
       "      <td>0</td>\n",
       "      <td>0</td>\n",
       "      <td>0</td>\n",
       "      <td>0</td>\n",
       "      <td>0</td>\n",
       "      <td>0</td>\n",
       "      <td>0</td>\n",
       "      <td>0</td>\n",
       "      <td>0</td>\n",
       "      <td>0</td>\n",
       "    </tr>\n",
       "    <tr>\n",
       "      <th>MCF7_TTTTTTGTATGT</th>\n",
       "      <td>4</td>\n",
       "      <td>0</td>\n",
       "      <td>0</td>\n",
       "      <td>0</td>\n",
       "      <td>0</td>\n",
       "      <td>0</td>\n",
       "      <td>6</td>\n",
       "      <td>0</td>\n",
       "      <td>0</td>\n",
       "      <td>0</td>\n",
       "      <td>...</td>\n",
       "      <td>0</td>\n",
       "      <td>0</td>\n",
       "      <td>0</td>\n",
       "      <td>0</td>\n",
       "      <td>0</td>\n",
       "      <td>0</td>\n",
       "      <td>0</td>\n",
       "      <td>0</td>\n",
       "      <td>0</td>\n",
       "      <td>0</td>\n",
       "    </tr>\n",
       "  </tbody>\n",
       "</table>\n",
       "<p>21626 rows × 3000 columns</p>\n",
       "</div>"
      ],
      "text/plain": [
       "                   MALAT1  MT-RNR2  NEAT1  H1-5  TFF1  MT-RNR1  H4C3  GDF15  \\\n",
       "MCF7_AAAAACCTATCG       1        0      0     0     4        0     0      0   \n",
       "MCF7_AAAACAACCCTA       3        0      0     0     1        0     1      0   \n",
       "MCF7_AAAACACTCTCA       3        0      0     0     1        0     0      0   \n",
       "MCF7_AAAACCAGGCAC       6        2      0     0     1        0     1      0   \n",
       "MCF7_AAAACCTAGCTC       4        0      0     0     0        0     0      0   \n",
       "...                   ...      ...    ...   ...   ...      ...   ...    ...   \n",
       "MCF7_TTTTCGCGTAGA       0        0      0     0     3        0     7      0   \n",
       "MCF7_TTTTCGTCCGCT       1        0      0     0     4        0     1      0   \n",
       "MCF7_TTTTCTCCGGCT       0        0      0     1     2        0     4      0   \n",
       "MCF7_TTTTGTTCAAAG       0        0      0     0     6        0     0      0   \n",
       "MCF7_TTTTTTGTATGT       4        0      0     0     0        0     6      0   \n",
       "\n",
       "                   KRT81  MT-CO3  ...  MROH1  SKIDA1  MICALL1  RARG  MYO1F  \\\n",
       "MCF7_AAAAACCTATCG      0       0  ...      0       0        0     0      0   \n",
       "MCF7_AAAACAACCCTA      0       0  ...      0       0        0     0      0   \n",
       "MCF7_AAAACACTCTCA      0       0  ...      0       0        0     0      0   \n",
       "MCF7_AAAACCAGGCAC      0       0  ...      0       0        0     0      0   \n",
       "MCF7_AAAACCTAGCTC      0       1  ...      0       0        0     0      0   \n",
       "...                  ...     ...  ...    ...     ...      ...   ...    ...   \n",
       "MCF7_TTTTCGCGTAGA      0       0  ...      0       0        0     0      0   \n",
       "MCF7_TTTTCGTCCGCT      1       0  ...      0       0        0     0      0   \n",
       "MCF7_TTTTCTCCGGCT      0       0  ...      0       0        0     0      0   \n",
       "MCF7_TTTTGTTCAAAG      0       0  ...      0       0        0     0      0   \n",
       "MCF7_TTTTTTGTATGT      0       0  ...      0       0        0     0      0   \n",
       "\n",
       "                   BRWD1-AS2  RPS19BP1  AUNIP  TNK2  SUDS3  \n",
       "MCF7_AAAAACCTATCG          0         0      0     0      0  \n",
       "MCF7_AAAACAACCCTA          0         0      0     0      0  \n",
       "MCF7_AAAACACTCTCA          0         0      0     0      0  \n",
       "MCF7_AAAACCAGGCAC          0         0      0     0      0  \n",
       "MCF7_AAAACCTAGCTC          0         0      0     0      0  \n",
       "...                      ...       ...    ...   ...    ...  \n",
       "MCF7_TTTTCGCGTAGA          0         0      0     0      0  \n",
       "MCF7_TTTTCGTCCGCT          0         0      0     0      0  \n",
       "MCF7_TTTTCTCCGGCT          0         0      0     0      1  \n",
       "MCF7_TTTTGTTCAAAG          0         0      0     0      0  \n",
       "MCF7_TTTTTTGTATGT          0         0      0     0      0  \n",
       "\n",
       "[21626 rows x 3000 columns]"
      ]
     },
     "execution_count": 67,
     "metadata": {},
     "output_type": "execute_result"
    }
   ],
   "source": [
    "df3"
   ]
  },
  {
   "cell_type": "code",
   "execution_count": 68,
   "metadata": {},
   "outputs": [],
   "source": [
    "df_drop_norm_idx = np.concatenate([df3_norm_idx, df4_norm_idx])\n",
    "df_smart_norm_idx = np.concatenate([dffn_norm_idx, df2fn_norm_idx])\n",
    "df_smart_idx = np.concatenate([dffn.index, df2fn.index])\n",
    "\n",
    "df_all = pd.concat([dffn, df2fn, df3, df4])\n",
    "df_all = df_all.fillna(0)\n",
    "\n",
    "df_all_norm_idx = np.concatenate([dffn_norm_idx, df2fn_norm_idx, df3_norm_idx, df4_norm_idx])\n",
    "\n",
    "df_MCF7_idx = [idx for idx in df_all.index if \"MCF7\" in idx]\n"
   ]
  },
  {
   "cell_type": "code",
   "execution_count": 69,
   "metadata": {},
   "outputs": [],
   "source": [
    "df_all[\"mcf\"] = [\"MCF7\" in idx for idx in df_all.index]\n",
    "df_all[\"smart\"] = [idx in df_smart_idx for idx in df_all.index]"
   ]
  },
  {
   "cell_type": "code",
   "execution_count": 70,
   "metadata": {},
   "outputs": [],
   "source": [
    "df_all = df_all.astype(np.int32)"
   ]
  },
  {
   "cell_type": "code",
   "execution_count": 71,
   "metadata": {},
   "outputs": [],
   "source": [
    "# Free up memory\n",
    "del dffn, df2fn, df3, df4, dffn_norm_idx, df2fn_norm_idx, df3_norm_idx, df4_norm_idx, df_meta, df2_meta"
   ]
  },
  {
   "cell_type": "code",
   "execution_count": 90,
   "metadata": {},
   "outputs": [],
   "source": [
    "class NNDataset(Dataset):\n",
    "    def __init__(self, df, df_norm_idx):\n",
    "        self.data = df.values  # Convert DataFrame to numpy array\n",
    "        self.data_norm = df_norm_idx\n",
    "        self.idx = df.index\n",
    "        \n",
    "    def __len__(self):\n",
    "        return len(self.data)\n",
    "    \n",
    "    def __getitem__(self, index):\n",
    "        dat = self.data[index, :]\n",
    "        x = torch.tensor(dat, dtype=torch.float32, device=device)\n",
    "        y = torch.tensor(0 if self.idx[index] in self.data_norm else 1,  dtype=torch.float32, device=device)\n",
    "        return x, y\n",
    "\n",
    "# Define the architecture of the autoencoder\n",
    "class NNClassifier(nn.Module):\n",
    "    def __init__(self, in_size, H1, H2, H3):\n",
    "        super(NNClassifier, self).__init__()\n",
    "\n",
    "        self.layers = nn.Sequential(\n",
    "            nn.Linear(in_size, H1),\n",
    "            nn.ReLU(),\n",
    "            nn.Dropout(0.5),\n",
    "            nn.Linear(H1, H1),\n",
    "            nn.ReLU(),\n",
    "            nn.Dropout(0.5),\n",
    "            nn.Linear(H1, H2),\n",
    "            nn.ReLU(),\n",
    "            nn.Dropout(0.5),\n",
    "            nn.Linear(H2, H2),\n",
    "            nn.ReLU(),\n",
    "            nn.Dropout(0.5),\n",
    "            nn.Linear(H2, H3),\n",
    "            nn.ReLU(),\n",
    "            nn.Dropout(0.5),\n",
    "            nn.Linear(H3, H3),\n",
    "            nn.ReLU(),\n",
    "            nn.Dropout(0.5),\n",
    "            nn.Linear(H3, 1))\n",
    "\n",
    "    def forward(self, x):\n",
    "        return self.layers(x)"
   ]
  },
  {
   "cell_type": "code",
   "execution_count": 224,
   "metadata": {},
   "outputs": [],
   "source": [
    "@torch.no_grad\n",
    "def measure_model_log(writer, model, data_loader, epoch):\n",
    "    correct = 0\n",
    "    total = 0\n",
    "    y_pred = []\n",
    "    y_pred_class = []\n",
    "    y_true = []\n",
    "    for inputs, labels in data_loader:\n",
    "        outputs = model(inputs)\n",
    "        predicted = nn.Sigmoid()(outputs[:, 0])\n",
    "        total += labels.size(0)\n",
    "        correct += (predicted.round() == labels).sum().item()\n",
    "        y_pred_class.extend(predicted.cpu().round().numpy()) # Save Prediction\n",
    "        y_pred.extend(predicted.cpu().numpy()) # Save Prediction\n",
    "        labels = labels.data.cpu().numpy()\n",
    "        y_true.extend(labels) # Save Truth\n",
    "    if(np.isnan(y_pred_class).any()):\n",
    "        print(\"Found nan, skipping evaluation\")\n",
    "        return \n",
    "    f1 = f1_score(y_true, y_pred_class)\n",
    "    recall = recall_score(y_true, y_pred_class)\n",
    "    accuracy = (correct / total)\n",
    "    writer.add_scalar(\"F1 Score\", f1, epoch)\n",
    "    writer.add_scalar(\"Recall\", recall, epoch)\n",
    "    writer.add_scalar(\"Accuracy\", accuracy, epoch)\n",
    "    print(\"F1 Score:\", f1)\n",
    "    print(\"Recall:\", recall)\n",
    "    print(f'Accuracy on test: {accuracy * 100}%')\n",
    "\n",
    "    # constant for classes\n",
    "    classes = ('Normoxia', 'Hypoxia')\n",
    "\n",
    "    # Build confusion matrix\n",
    "    cf_matrix = confusion_matrix(y_true, y_pred_class)\n",
    "    df_cm = pd.DataFrame(cf_matrix / np.sum(cf_matrix, axis=1)[:, None], index = [i for i in classes],\n",
    "                     columns = [i for i in classes])\n",
    "    fig = plt.figure(figsize = (12,7))\n",
    "    sns.heatmap(df_cm, annot=True)\n",
    "    writer.add_figure(\"Confusion Matrix\", fig, epoch)\n",
    "\n",
    "    fig = plt.figure(figsize = (12,7))\n",
    "    fpr, tpr, thresholds = roc_curve(y_true, y_pred)\n",
    "    plt.plot(fpr, tpr) # ROC curve = TPR vs FPR\n",
    "    plt.title(\"Receiver Operating Characteristics\")\n",
    "    plt.xlabel(\"False Positive Rate\")\n",
    "    plt.ylabel(\"True Positive Rate\")\n",
    "\n",
    "    writer.add_figure(\"ROC Curve\", fig, epoch)\n",
    "\n",
    "\n",
    "@torch.no_grad\n",
    "def measure_model(model, data_loader):\n",
    "    plt.close()\n",
    "    correct = 0\n",
    "    total = 0\n",
    "    y_pred = []\n",
    "    y_pred_class = []\n",
    "    y_true = []\n",
    "    for inputs, labels in data_loader:\n",
    "        outputs = model(inputs)\n",
    "        predicted = nn.Sigmoid()(outputs[:, 0])\n",
    "        total += labels.size(0)\n",
    "        correct += (predicted +0.5 > labels).sum().item()\n",
    "        y_pred_class.extend(predicted.cpu().round()) # Save Prediction\n",
    "        y_pred.extend(predicted.cpu()) # Save Prediction\n",
    "        labels = labels.data.cpu().numpy()\n",
    "        y_true.extend(labels) # Save Truth\n",
    "    \n",
    "    # constant for classes\n",
    "    classes = ('Normoxia', 'Hypoxia')\n",
    "\n",
    "    fpr, tpr, thresholds = roc_curve(y_true, y_pred)\n",
    "    plt.plot(fpr, tpr) # ROC curve = TPR vs FPR\n",
    "    plt.title(\"Receiver Operating Characteristics\")\n",
    "    plt.xlabel(\"False Positive Rate\")\n",
    "    plt.ylabel(\"True Positive Rate\")\n",
    "\n",
    "    # Build confusion matrix\n",
    "    cf_matrix = confusion_matrix(y_true, y_pred_class)\n",
    "    df_cm = pd.DataFrame(cf_matrix / np.sum(cf_matrix, axis=1)[:, None], index = [i for i in classes],\n",
    "                     columns = [i for i in classes])\n",
    "    plt.figure(figsize = (12,7))\n",
    "    sns.heatmap(df_cm, annot=True)\n",
    "    print(\"F1 Score:\", f1_score(y_true, y_pred_class))\n",
    "    print(\"Recall:\", recall_score(y_true, y_pred_class))\n",
    "    print(f'Accuracy of the network on the {total} test images: {(correct / total) * 100}%')\n"
   ]
  },
  {
   "cell_type": "code",
   "execution_count": 225,
   "metadata": {},
   "outputs": [],
   "source": [
    "input_size = df_all.shape[1]\n",
    "learning_rate = 1e-2\n",
    "\n",
    "hidden_size = 1024\n",
    "hidden_size1 = 512\n",
    "hidden_size2 = 256\n",
    "\n",
    "test_amount = 0.2"
   ]
  },
  {
   "cell_type": "code",
   "execution_count": null,
   "metadata": {},
   "outputs": [],
   "source": []
  },
  {
   "cell_type": "code",
   "execution_count": 226,
   "metadata": {},
   "outputs": [],
   "source": [
    "df_train, df_test = train_test_split(df_all, test_size=test_amount)"
   ]
  },
  {
   "cell_type": "code",
   "execution_count": 227,
   "metadata": {},
   "outputs": [],
   "source": [
    "dataset = NNDataset(df_train, df_all_norm_idx)\n",
    "data_loader = DataLoader(dataset, batch_size=128, shuffle=True)"
   ]
  },
  {
   "cell_type": "code",
   "execution_count": 228,
   "metadata": {},
   "outputs": [],
   "source": [
    "dataset_test = NNDataset(df_test, df_all_norm_idx)\n",
    "test_loader = DataLoader(dataset_test, batch_size=64, shuffle=True)\n",
    "\n",
    "df_test_smart = df_test[[i in df_smart_idx for i in df_test.index]]\n",
    "df_test_drop = df_test[[i not in df_smart_idx for i in df_test.index]]\n",
    "\n",
    "dataset_test_smart = NNDataset(df_test_smart, df_smart_norm_idx)\n",
    "dataset_test_drop = NNDataset(df_test_drop, df_drop_norm_idx)\n",
    "\n",
    "test_loader_smart = DataLoader(dataset_test_smart, batch_size=64, shuffle=True)\n",
    "test_loader_drop = DataLoader(dataset_test_drop, batch_size=64, shuffle=True)"
   ]
  },
  {
   "cell_type": "code",
   "execution_count": 235,
   "metadata": {},
   "outputs": [],
   "source": [
    "# Define the model\n",
    "model = NNClassifier(input_size, hidden_size, hidden_size1, hidden_size2).to(device)\n",
    "writer = SummaryWriter()"
   ]
  },
  {
   "cell_type": "code",
   "execution_count": 236,
   "metadata": {},
   "outputs": [],
   "source": [
    "# Define the loss function\n",
    "criterion = nn.BCEWithLogitsLoss()\n"
   ]
  },
  {
   "cell_type": "code",
   "execution_count": 237,
   "metadata": {},
   "outputs": [],
   "source": [
    "lr_sgd = 1e-2\n",
    "lr_adm = 1e-3\n",
    "lr_ada = 1e-2\n",
    "\n",
    "# Define the optimizer\n",
    "sgd = optim.SGD(model.parameters(), lr=lr_sgd)\n",
    "adam = optim.Adam(model.parameters(), lr=lr_adm)\n",
    "ada = optim.Adagrad(model.parameters(), lr=lr_ada)"
   ]
  },
  {
   "cell_type": "code",
   "execution_count": 238,
   "metadata": {},
   "outputs": [
    {
     "data": {
      "text/plain": [
       "NNClassifier(\n",
       "  (layers): Sequential(\n",
       "    (0): Linear(in_features=8647, out_features=1024, bias=True)\n",
       "    (1): ReLU()\n",
       "    (2): Dropout(p=0.5, inplace=False)\n",
       "    (3): Linear(in_features=1024, out_features=1024, bias=True)\n",
       "    (4): ReLU()\n",
       "    (5): Dropout(p=0.5, inplace=False)\n",
       "    (6): Linear(in_features=1024, out_features=512, bias=True)\n",
       "    (7): ReLU()\n",
       "    (8): Dropout(p=0.5, inplace=False)\n",
       "    (9): Linear(in_features=512, out_features=512, bias=True)\n",
       "    (10): ReLU()\n",
       "    (11): Dropout(p=0.5, inplace=False)\n",
       "    (12): Linear(in_features=512, out_features=256, bias=True)\n",
       "    (13): ReLU()\n",
       "    (14): Dropout(p=0.5, inplace=False)\n",
       "    (15): Linear(in_features=256, out_features=256, bias=True)\n",
       "    (16): ReLU()\n",
       "    (17): Dropout(p=0.5, inplace=False)\n",
       "    (18): Linear(in_features=256, out_features=1, bias=True)\n",
       "  )\n",
       ")"
      ]
     },
     "execution_count": 238,
     "metadata": {},
     "output_type": "execute_result"
    }
   ],
   "source": [
    "model"
   ]
  },
  {
   "cell_type": "code",
   "execution_count": 239,
   "metadata": {},
   "outputs": [],
   "source": [
    "train_config = [\n",
    "    [1000, data_loader, sgd]\n",
    "]"
   ]
  },
  {
   "cell_type": "code",
   "execution_count": 240,
   "metadata": {},
   "outputs": [
    {
     "name": "stderr",
     "output_type": "stream",
     "text": [
      "  0%|          | 0/1000 [00:00<?, ?it/s]"
     ]
    },
    {
     "name": "stdout",
     "output_type": "stream",
     "text": [
      "Epoch 1, Loss: 0.7402613971544348\n",
      "F1 Score: 0.05903866248693835\n",
      "Recall: 0.03151143335192415\n",
      "Accuracy on test: 50.97985846488841%\n"
     ]
    },
    {
     "name": "stderr",
     "output_type": "stream",
     "text": [
      "  0%|          | 1/1000 [00:15<4:15:25, 15.34s/it]"
     ]
    },
    {
     "name": "stdout",
     "output_type": "stream",
     "text": [
      "Epoch 2, Loss: 0.7280631617359493\n",
      "F1 Score: 0.07529654461062403\n",
      "Recall: 0.04071388733965421\n",
      "Accuracy on test: 51.19760479041916%\n"
     ]
    },
    {
     "name": "stderr",
     "output_type": "stream",
     "text": [
      "  0%|          | 2/1000 [00:28<3:54:44, 14.11s/it]"
     ]
    },
    {
     "name": "stdout",
     "output_type": "stream",
     "text": [
      "Epoch 3, Loss: 0.7291362451470417\n",
      "F1 Score: 0.040257648953301126\n",
      "Recall: 0.02091466815393196\n",
      "Accuracy on test: 51.333696243875885%\n"
     ]
    },
    {
     "name": "stderr",
     "output_type": "stream",
     "text": [
      "  0%|          | 3/1000 [00:41<3:45:52, 13.59s/it]"
     ]
    },
    {
     "name": "stdout",
     "output_type": "stream",
     "text": [
      "Epoch 4, Loss: 0.7226085173047108\n",
      "F1 Score: 0.03507825148407987\n",
      "Recall: 0.018126045733407696\n",
      "Accuracy on test: 51.333696243875885%\n"
     ]
    },
    {
     "name": "stderr",
     "output_type": "stream",
     "text": [
      "  0%|          | 4/1000 [00:56<3:55:23, 14.18s/it]"
     ]
    },
    {
     "name": "stdout",
     "output_type": "stream",
     "text": [
      "Epoch 5, Loss: 0.7160609398199165\n",
      "F1 Score: 0.01972062448644207\n",
      "Recall: 0.010039040713887339\n",
      "Accuracy on test: 51.292868807838865%\n"
     ]
    },
    {
     "name": "stderr",
     "output_type": "stream",
     "text": [
      "  0%|          | 5/1000 [01:09<3:47:10, 13.70s/it]"
     ]
    },
    {
     "name": "stdout",
     "output_type": "stream",
     "text": [
      "Epoch 6, Loss: 0.7126624783743982\n",
      "F1 Score: 0.03349540788762831\n",
      "Recall: 0.01728945900725042\n",
      "Accuracy on test: 51.30647795318454%\n"
     ]
    },
    {
     "name": "stderr",
     "output_type": "stream",
     "text": [
      "  1%|          | 6/1000 [01:22<3:43:15, 13.48s/it]"
     ]
    },
    {
     "name": "stdout",
     "output_type": "stream",
     "text": [
      "Epoch 7, Loss: 0.7155920536621757\n",
      "F1 Score: 0.0523532522474881\n",
      "Recall: 0.027607361963190184\n",
      "Accuracy on test: 51.22482308111051%\n"
     ]
    },
    {
     "name": "stderr",
     "output_type": "stream",
     "text": [
      "  1%|          | 7/1000 [01:35<3:40:38, 13.33s/it]"
     ]
    },
    {
     "name": "stdout",
     "output_type": "stream",
     "text": [
      "Epoch 8, Loss: 0.7109675604364146\n",
      "F1 Score: 0.03247631935047361\n",
      "Recall: 0.016731734523145567\n",
      "Accuracy on test: 51.34730538922155%\n"
     ]
    },
    {
     "name": "stderr",
     "output_type": "stream",
     "text": [
      "  1%|          | 8/1000 [01:48<3:38:33, 13.22s/it]"
     ]
    },
    {
     "name": "stdout",
     "output_type": "stream",
     "text": [
      "Epoch 9, Loss: 0.7073528484157894\n",
      "F1 Score: 0.027664768104149716\n",
      "Recall: 0.01422197434467373\n",
      "Accuracy on test: 51.21121393576483%\n"
     ]
    },
    {
     "name": "stderr",
     "output_type": "stream",
     "text": [
      "  1%|          | 9/1000 [02:01<3:35:59, 13.08s/it]"
     ]
    },
    {
     "name": "stdout",
     "output_type": "stream",
     "text": [
      "Epoch 10, Loss: 0.7057802436144456\n",
      "F1 Score: 0.016986301369863014\n",
      "Recall: 0.00864472950362521\n",
      "Accuracy on test: 51.17038649972782%\n"
     ]
    },
    {
     "name": "stderr",
     "output_type": "stream",
     "text": [
      "  1%|          | 10/1000 [02:14<3:35:25, 13.06s/it]"
     ]
    },
    {
     "name": "stdout",
     "output_type": "stream",
     "text": [
      "Epoch 11, Loss: 0.7065757772196894\n",
      "F1 Score: 0.018691588785046728\n",
      "Recall: 0.009481316229782488\n",
      "Accuracy on test: 51.41535111594992%\n"
     ]
    },
    {
     "name": "stderr",
     "output_type": "stream",
     "text": [
      "  1%|          | 11/1000 [02:27<3:33:42, 12.96s/it]"
     ]
    },
    {
     "name": "stdout",
     "output_type": "stream",
     "text": [
      "Epoch 12, Loss: 0.7074238004891769\n",
      "F1 Score: 0.019715224534501644\n",
      "Recall: 0.010039040713887339\n",
      "Accuracy on test: 51.279259662493196%\n"
     ]
    },
    {
     "name": "stderr",
     "output_type": "stream",
     "text": [
      "  1%|          | 12/1000 [02:40<3:35:12, 13.07s/it]"
     ]
    },
    {
     "name": "stdout",
     "output_type": "stream",
     "text": [
      "Epoch 13, Loss: 0.7037575257861096\n",
      "F1 Score: 0.012147984538928768\n",
      "Recall: 0.006134969325153374\n",
      "Accuracy on test: 51.30647795318454%\n"
     ]
    },
    {
     "name": "stderr",
     "output_type": "stream",
     "text": [
      "  1%|▏         | 13/1000 [02:53<3:35:52, 13.12s/it]"
     ]
    },
    {
     "name": "stdout",
     "output_type": "stream",
     "text": [
      "Epoch 14, Loss: 0.7039685049782629\n",
      "F1 Score: 0.017070484581497798\n",
      "Recall: 0.00864472950362521\n",
      "Accuracy on test: 51.41535111594992%\n"
     ]
    },
    {
     "name": "stderr",
     "output_type": "stream",
     "text": [
      "  1%|▏         | 14/1000 [03:06<3:36:49, 13.19s/it]"
     ]
    },
    {
     "name": "stdout",
     "output_type": "stream",
     "text": [
      "Epoch 15, Loss: 0.7017266219076903\n",
      "F1 Score: 0.025648021828103683\n",
      "Recall: 0.013106525376464027\n",
      "Accuracy on test: 51.40174197060424%\n"
     ]
    },
    {
     "name": "stderr",
     "output_type": "stream",
     "text": [
      "  2%|▏         | 15/1000 [03:20<3:37:26, 13.25s/it]"
     ]
    },
    {
     "name": "stdout",
     "output_type": "stream",
     "text": [
      "Epoch 16, Loss: 0.7024165358232415\n",
      "F1 Score: 0.019241341396371632\n",
      "Recall: 0.009760178471834913\n",
      "Accuracy on test: 51.44256940664126%\n"
     ]
    },
    {
     "name": "stderr",
     "output_type": "stream",
     "text": [
      "  2%|▏         | 16/1000 [03:33<3:37:25, 13.26s/it]"
     ]
    },
    {
     "name": "stdout",
     "output_type": "stream",
     "text": [
      "Epoch 17, Loss: 0.6974504906198252\n",
      "F1 Score: 0.020850480109739368\n",
      "Recall: 0.010596765197992191\n",
      "Accuracy on test: 51.428960261295586%\n"
     ]
    },
    {
     "name": "stderr",
     "output_type": "stream",
     "text": [
      "  2%|▏         | 17/1000 [03:46<3:36:30, 13.22s/it]"
     ]
    },
    {
     "name": "stdout",
     "output_type": "stream",
     "text": [
      "Epoch 18, Loss: 0.6992370569187661\n",
      "F1 Score: 0.020850480109739368\n",
      "Recall: 0.010596765197992191\n",
      "Accuracy on test: 51.428960261295586%\n"
     ]
    },
    {
     "name": "stderr",
     "output_type": "stream",
     "text": [
      "  2%|▏         | 18/1000 [03:59<3:35:43, 13.18s/it]"
     ]
    },
    {
     "name": "stdout",
     "output_type": "stream",
     "text": [
      "Epoch 19, Loss: 0.6969877691372581\n",
      "F1 Score: 0.0214168039538715\n",
      "Recall: 0.010875627440044618\n",
      "Accuracy on test: 51.49700598802395%\n"
     ]
    },
    {
     "name": "stderr",
     "output_type": "stream",
     "text": [
      "  2%|▏         | 19/1000 [04:13<3:35:27, 13.18s/it]"
     ]
    },
    {
     "name": "stdout",
     "output_type": "stream",
     "text": [
      "Epoch 20, Loss: 0.6939969104269277\n",
      "F1 Score: 0.017117614577581448\n",
      "Recall: 0.00864472950362521\n",
      "Accuracy on test: 51.55144256940664%\n"
     ]
    },
    {
     "name": "stderr",
     "output_type": "stream",
     "text": [
      "  2%|▏         | 20/1000 [04:26<3:35:19, 13.18s/it]"
     ]
    },
    {
     "name": "stdout",
     "output_type": "stream",
     "text": [
      "Epoch 21, Loss: 0.6950032389682272\n",
      "F1 Score: 0.017630853994490357\n",
      "Recall: 0.008923591745677636\n",
      "Accuracy on test: 51.469787697332606%\n"
     ]
    },
    {
     "name": "stderr",
     "output_type": "stream",
     "text": [
      "  2%|▏         | 21/1000 [04:39<3:35:04, 13.18s/it]"
     ]
    },
    {
     "name": "stdout",
     "output_type": "stream",
     "text": [
      "Epoch 22, Loss: 0.6951665061971416\n",
      "F1 Score: 0.01654715940430226\n",
      "Recall: 0.008365867261572783\n",
      "Accuracy on test: 51.469787697332606%\n"
     ]
    },
    {
     "name": "stderr",
     "output_type": "stream",
     "text": [
      "  2%|▏         | 22/1000 [04:52<3:34:58, 13.19s/it]"
     ]
    },
    {
     "name": "stdout",
     "output_type": "stream",
     "text": [
      "Epoch 23, Loss: 0.6955331970816073\n"
     ]
    },
    {
     "name": "stderr",
     "output_type": "stream",
     "text": [
      "  2%|▏         | 23/1000 [05:05<3:34:55, 13.20s/it]"
     ]
    },
    {
     "name": "stdout",
     "output_type": "stream",
     "text": [
      "F1 Score: 0.016560861164780567\n",
      "Recall: 0.008365867261572783\n",
      "Accuracy on test: 51.51061513336962%\n",
      "Epoch 24, Loss: 0.6937539828860242\n",
      "F1 Score: 0.018758620689655173\n",
      "Recall: 0.009481316229782488\n",
      "Accuracy on test: 51.592270005443666%\n"
     ]
    },
    {
     "name": "stderr",
     "output_type": "stream",
     "text": [
      "  2%|▏         | 24/1000 [05:18<3:33:59, 13.15s/it]"
     ]
    },
    {
     "name": "stdout",
     "output_type": "stream",
     "text": [
      "Epoch 25, Loss: 0.6930256278618522\n",
      "F1 Score: 0.018227009113504555\n",
      "Recall: 0.009202453987730062\n",
      "Accuracy on test: 51.61948829613501%\n"
     ]
    },
    {
     "name": "stderr",
     "output_type": "stream",
     "text": [
      "  2%|▎         | 25/1000 [05:31<3:30:25, 12.95s/it]"
     ]
    },
    {
     "name": "stdout",
     "output_type": "stream",
     "text": [
      "Epoch 26, Loss: 0.6935655280299808\n",
      "F1 Score: 0.016570008285004142\n",
      "Recall: 0.008365867261572783\n",
      "Accuracy on test: 51.53783342406096%\n"
     ]
    },
    {
     "name": "stderr",
     "output_type": "stream",
     "text": [
      "  3%|▎         | 26/1000 [05:44<3:29:13, 12.89s/it]"
     ]
    },
    {
     "name": "stdout",
     "output_type": "stream",
     "text": [
      "Epoch 27, Loss: 0.6902315886124321\n",
      "F1 Score: 0.01713180436584692\n",
      "Recall: 0.00864472950362521\n",
      "Accuracy on test: 51.592270005443666%\n"
     ]
    },
    {
     "name": "stderr",
     "output_type": "stream",
     "text": [
      "  3%|▎         | 27/1000 [05:56<3:26:14, 12.72s/it]"
     ]
    },
    {
     "name": "stdout",
     "output_type": "stream",
     "text": [
      "Epoch 28, Loss: 0.6904281807982403\n"
     ]
    },
    {
     "name": "stderr",
     "output_type": "stream",
     "text": [
      "  3%|▎         | 28/1000 [06:08<3:22:55, 12.53s/it]"
     ]
    },
    {
     "name": "stdout",
     "output_type": "stream",
     "text": [
      "F1 Score: 0.019845644983461964\n",
      "Recall: 0.010039040713887339\n",
      "Accuracy on test: 51.605879150789335%\n",
      "Epoch 29, Loss: 0.6891369638235673\n"
     ]
    },
    {
     "name": "stderr",
     "output_type": "stream",
     "text": [
      "  3%|▎         | 29/1000 [06:20<3:21:02, 12.42s/it]"
     ]
    },
    {
     "name": "stdout",
     "output_type": "stream",
     "text": [
      "F1 Score: 0.022577092511013214\n",
      "Recall: 0.01143335192414947\n",
      "Accuracy on test: 51.68753402286337%\n",
      "Epoch 30, Loss: 0.6881786921749944\n",
      "F1 Score: 0.02203249793445332\n",
      "Recall: 0.011154489682097044\n",
      "Accuracy on test: 51.6739248775177%\n"
     ]
    },
    {
     "name": "stderr",
     "output_type": "stream",
     "text": [
      "  3%|▎         | 30/1000 [06:33<3:20:53, 12.43s/it]"
     ]
    },
    {
     "name": "stdout",
     "output_type": "stream",
     "text": [
      "Epoch 31, Loss: 0.6883049630600473\n"
     ]
    },
    {
     "name": "stderr",
     "output_type": "stream",
     "text": [
      "  3%|▎         | 31/1000 [06:45<3:21:36, 12.48s/it]"
     ]
    },
    {
     "name": "stdout",
     "output_type": "stream",
     "text": [
      "F1 Score: 0.019867549668874173\n",
      "Recall: 0.010039040713887339\n",
      "Accuracy on test: 51.66031573217202%\n",
      "Epoch 32, Loss: 0.6868270259836445\n",
      "F1 Score: 0.02473886750962067\n",
      "Recall: 0.012548800892359175\n",
      "Accuracy on test: 51.71475231355471%\n"
     ]
    },
    {
     "name": "stderr",
     "output_type": "stream",
     "text": [
      "  3%|▎         | 32/1000 [06:58<3:23:26, 12.61s/it]"
     ]
    },
    {
     "name": "stdout",
     "output_type": "stream",
     "text": [
      "Epoch 33, Loss: 0.687337222047474\n"
     ]
    },
    {
     "name": "stderr",
     "output_type": "stream",
     "text": [
      "  3%|▎         | 33/1000 [07:11<3:24:17, 12.68s/it]"
     ]
    },
    {
     "name": "stdout",
     "output_type": "stream",
     "text": [
      "F1 Score: 0.031224322103533278\n",
      "Recall: 0.015895147796988286\n",
      "Accuracy on test: 51.86445291235711%\n",
      "Epoch 34, Loss: 0.6855678597222203\n",
      "F1 Score: 0.04726976365118175\n",
      "Recall: 0.02426101505856107\n",
      "Accuracy on test: 52.27272727272727%\n"
     ]
    },
    {
     "name": "stderr",
     "output_type": "stream",
     "text": [
      "  3%|▎         | 34/1000 [07:24<3:25:06, 12.74s/it]"
     ]
    },
    {
     "name": "stdout",
     "output_type": "stream",
     "text": [
      "Epoch 35, Loss: 0.6854290311751159\n",
      "F1 Score: 0.049918610960390665\n",
      "Recall: 0.025655326268823202\n",
      "Accuracy on test: 52.34077299945563%\n"
     ]
    },
    {
     "name": "stderr",
     "output_type": "stream",
     "text": [
      "  4%|▎         | 35/1000 [07:37<3:24:27, 12.71s/it]"
     ]
    },
    {
     "name": "stdout",
     "output_type": "stream",
     "text": [
      "Epoch 36, Loss: 0.6831223363461701\n"
     ]
    },
    {
     "name": "stderr",
     "output_type": "stream",
     "text": [
      "  4%|▎         | 36/1000 [07:49<3:24:09, 12.71s/it]"
     ]
    },
    {
     "name": "stdout",
     "output_type": "stream",
     "text": [
      "F1 Score: 0.10147213459516298\n",
      "Recall: 0.05382041271611824\n",
      "Accuracy on test: 53.483941208492105%\n",
      "Epoch 37, Loss: 0.6827526750771896\n",
      "F1 Score: 0.16898558057171767\n",
      "Recall: 0.09313998884551032\n",
      "Accuracy on test: 55.29395753946652%\n"
     ]
    },
    {
     "name": "stderr",
     "output_type": "stream",
     "text": [
      "  4%|▎         | 37/1000 [08:01<3:20:57, 12.52s/it]"
     ]
    },
    {
     "name": "stdout",
     "output_type": "stream",
     "text": [
      "Epoch 38, Loss: 0.6805523711702098\n",
      "F1 Score: 0.3490292345458603\n",
      "Recall: 0.2180702732849972\n",
      "Accuracy on test: 60.302123026673925%\n"
     ]
    },
    {
     "name": "stderr",
     "output_type": "stream",
     "text": [
      "  4%|▍         | 38/1000 [08:13<3:18:56, 12.41s/it]"
     ]
    },
    {
     "name": "stdout",
     "output_type": "stream",
     "text": [
      "Epoch 39, Loss: 0.6749778218891309\n",
      "F1 Score: 0.5309837335398916\n",
      "Recall: 0.3823201338538762\n",
      "Accuracy on test: 67.03864997278171%\n"
     ]
    },
    {
     "name": "stderr",
     "output_type": "stream",
     "text": [
      "  4%|▍         | 39/1000 [08:26<3:19:14, 12.44s/it]"
     ]
    },
    {
     "name": "stdout",
     "output_type": "stream",
     "text": [
      "Epoch 40, Loss: 0.6676642560440561\n",
      "F1 Score: 0.6821470637725054\n",
      "Recall: 0.5652537646402677\n",
      "Accuracy on test: 74.29232444202503%\n"
     ]
    },
    {
     "name": "stderr",
     "output_type": "stream",
     "text": [
      "  4%|▍         | 40/1000 [08:38<3:18:59, 12.44s/it]"
     ]
    },
    {
     "name": "stdout",
     "output_type": "stream",
     "text": [
      "Epoch 41, Loss: 0.6471993713275246\n"
     ]
    },
    {
     "name": "stderr",
     "output_type": "stream",
     "text": [
      "  4%|▍         | 41/1000 [08:51<3:19:03, 12.45s/it]"
     ]
    },
    {
     "name": "stdout",
     "output_type": "stream",
     "text": [
      "F1 Score: 0.7980166253463614\n",
      "Recall: 0.7629670942554378\n",
      "Accuracy on test: 81.15133369624388%\n",
      "Epoch 42, Loss: 0.5823234416868376\n",
      "F1 Score: 0.8654192654192654\n",
      "Recall: 0.8706079196876743\n",
      "Accuracy on test: 86.7855198693522%\n"
     ]
    },
    {
     "name": "stderr",
     "output_type": "stream",
     "text": [
      "  4%|▍         | 42/1000 [09:03<3:19:16, 12.48s/it]"
     ]
    },
    {
     "name": "stdout",
     "output_type": "stream",
     "text": [
      "Epoch 43, Loss: 0.47684259531290635\n",
      "F1 Score: 0.8996646171045277\n",
      "Recall: 0.8976575571667597\n",
      "Accuracy on test: 90.22863364180729%\n"
     ]
    },
    {
     "name": "stderr",
     "output_type": "stream",
     "text": [
      "  4%|▍         | 43/1000 [09:16<3:19:34, 12.51s/it]"
     ]
    },
    {
     "name": "stdout",
     "output_type": "stream",
     "text": [
      "Epoch 44, Loss: 0.5829216045529946\n",
      "F1 Score: 0.9145347202698904\n",
      "Recall: 0.9071388733965421\n",
      "Accuracy on test: 91.72563962983125%\n"
     ]
    },
    {
     "name": "stderr",
     "output_type": "stream",
     "text": [
      "  4%|▍         | 44/1000 [09:29<3:19:40, 12.53s/it]"
     ]
    },
    {
     "name": "stdout",
     "output_type": "stream",
     "text": [
      "Epoch 45, Loss: 0.6076411529727604\n",
      "F1 Score: 0.9246020664618821\n",
      "Recall: 0.9233128834355828\n",
      "Accuracy on test: 92.65106151333697%\n"
     ]
    },
    {
     "name": "stderr",
     "output_type": "stream",
     "text": [
      "  4%|▍         | 45/1000 [09:41<3:19:52, 12.56s/it]"
     ]
    },
    {
     "name": "stdout",
     "output_type": "stream",
     "text": [
      "Epoch 46, Loss: 0.4110724628943464\n",
      "F1 Score: 0.931850183047029\n",
      "Recall: 0.922755158951478\n",
      "Accuracy on test: 93.41317365269461%\n"
     ]
    },
    {
     "name": "stderr",
     "output_type": "stream",
     "text": [
      "  5%|▍         | 46/1000 [09:54<3:20:25, 12.61s/it]"
     ]
    },
    {
     "name": "stdout",
     "output_type": "stream",
     "text": [
      "Epoch 47, Loss: 0.35598458816175876\n",
      "F1 Score: 0.9350867375489648\n",
      "Recall: 0.931957612939208\n",
      "Accuracy on test: 93.68535655960805%\n"
     ]
    },
    {
     "name": "stderr",
     "output_type": "stream",
     "text": [
      "  5%|▍         | 47/1000 [10:07<3:20:24, 12.62s/it]"
     ]
    },
    {
     "name": "stdout",
     "output_type": "stream",
     "text": [
      "Epoch 48, Loss: 0.30635130178669223\n",
      "F1 Score: 0.9374212515749685\n",
      "Recall: 0.9336307863915226\n",
      "Accuracy on test: 93.91671203048449%\n"
     ]
    },
    {
     "name": "stderr",
     "output_type": "stream",
     "text": [
      "  5%|▍         | 48/1000 [10:19<3:20:46, 12.65s/it]"
     ]
    },
    {
     "name": "stdout",
     "output_type": "stream",
     "text": [
      "Epoch 49, Loss: 0.32035473251472346\n"
     ]
    },
    {
     "name": "stderr",
     "output_type": "stream",
     "text": [
      "  5%|▍         | 49/1000 [10:32<3:21:24, 12.71s/it]"
     ]
    },
    {
     "name": "stdout",
     "output_type": "stream",
     "text": [
      "F1 Score: 0.9409443269908386\n",
      "Recall: 0.9308421639709983\n",
      "Accuracy on test: 94.29776810016331%\n",
      "Epoch 50, Loss: 0.32838028244998146\n"
     ]
    },
    {
     "name": "stderr",
     "output_type": "stream",
     "text": [
      "  5%|▌         | 50/1000 [10:45<3:21:24, 12.72s/it]"
     ]
    },
    {
     "name": "stdout",
     "output_type": "stream",
     "text": [
      "F1 Score: 0.9426786953504511\n",
      "Recall: 0.947016174010039\n",
      "Accuracy on test: 94.37942297223735%\n",
      "Epoch 51, Loss: 0.2781019468670306\n"
     ]
    },
    {
     "name": "stderr",
     "output_type": "stream",
     "text": [
      "  5%|▌         | 51/1000 [10:57<3:18:45, 12.57s/it]"
     ]
    },
    {
     "name": "stdout",
     "output_type": "stream",
     "text": [
      "F1 Score: 0.9450826562062202\n",
      "Recall: 0.9406023424428333\n",
      "Accuracy on test: 94.66521502449646%\n",
      "Epoch 52, Loss: 0.2473669603952895\n",
      "F1 Score: 0.9470004195217452\n",
      "Recall: 0.9442275515895148\n",
      "Accuracy on test: 94.8421339139902%\n"
     ]
    },
    {
     "name": "stderr",
     "output_type": "stream",
     "text": [
      "  5%|▌         | 52/1000 [11:10<3:19:05, 12.60s/it]"
     ]
    },
    {
     "name": "stdout",
     "output_type": "stream",
     "text": [
      "Epoch 53, Loss: 0.20973698103233523\n",
      "F1 Score: 0.9496204278812974\n",
      "Recall: 0.9592861126603458\n",
      "Accuracy on test: 95.03266194882961%\n"
     ]
    },
    {
     "name": "stderr",
     "output_type": "stream",
     "text": [
      "  5%|▌         | 53/1000 [11:22<3:18:37, 12.58s/it]"
     ]
    },
    {
     "name": "stdout",
     "output_type": "stream",
     "text": [
      "Epoch 54, Loss: 0.2182436440301978\n"
     ]
    },
    {
     "name": "stderr",
     "output_type": "stream",
     "text": [
      "  5%|▌         | 54/1000 [11:34<3:16:00, 12.43s/it]"
     ]
    },
    {
     "name": "stdout",
     "output_type": "stream",
     "text": [
      "F1 Score: 0.9519675115530037\n",
      "Recall: 0.9478527607361963\n",
      "Accuracy on test: 95.33206314643441%\n",
      "Epoch 55, Loss: 0.25322802210955514\n"
     ]
    },
    {
     "name": "stderr",
     "output_type": "stream",
     "text": [
      "  6%|▌         | 55/1000 [11:47<3:14:53, 12.37s/it]"
     ]
    },
    {
     "name": "stdout",
     "output_type": "stream",
     "text": [
      "F1 Score: 0.9517702815723446\n",
      "Recall: 0.9520356943669828\n",
      "Accuracy on test: 95.29123571039739%\n",
      "Epoch 56, Loss: 0.19328671237048894\n"
     ]
    },
    {
     "name": "stderr",
     "output_type": "stream",
     "text": [
      "  6%|▌         | 56/1000 [11:59<3:15:29, 12.43s/it]"
     ]
    },
    {
     "name": "stdout",
     "output_type": "stream",
     "text": [
      "F1 Score: 0.94955987145452\n",
      "Recall: 0.9475738984941439\n",
      "Accuracy on test: 95.0870985302123%\n",
      "Epoch 57, Loss: 0.14070502875939658\n"
     ]
    },
    {
     "name": "stderr",
     "output_type": "stream",
     "text": [
      "  6%|▌         | 57/1000 [12:12<3:14:59, 12.41s/it]"
     ]
    },
    {
     "name": "stdout",
     "output_type": "stream",
     "text": [
      "F1 Score: 0.9522479754258587\n",
      "Recall: 0.950920245398773\n",
      "Accuracy on test: 95.34567229178008%\n",
      "Epoch 58, Loss: 0.161533967146407\n"
     ]
    },
    {
     "name": "stderr",
     "output_type": "stream",
     "text": [
      "  6%|▌         | 58/1000 [12:24<3:16:04, 12.49s/it]"
     ]
    },
    {
     "name": "stdout",
     "output_type": "stream",
     "text": [
      "F1 Score: 0.9538119087367836\n",
      "Recall: 0.9559397657557167\n",
      "Accuracy on test: 95.4817637452368%\n",
      "Epoch 59, Loss: 0.11903855607885382\n"
     ]
    },
    {
     "name": "stderr",
     "output_type": "stream",
     "text": [
      "  6%|▌         | 59/1000 [12:36<3:14:45, 12.42s/it]"
     ]
    },
    {
     "name": "stdout",
     "output_type": "stream",
     "text": [
      "F1 Score: 0.9562317632346811\n",
      "Recall: 0.9595649749023982\n",
      "Accuracy on test: 95.71311921611323%\n",
      "Epoch 60, Loss: 0.16027954928576946\n"
     ]
    },
    {
     "name": "stderr",
     "output_type": "stream",
     "text": [
      "  6%|▌         | 60/1000 [12:49<3:14:22, 12.41s/it]"
     ]
    },
    {
     "name": "stdout",
     "output_type": "stream",
     "text": [
      "F1 Score: 0.9535829476931706\n",
      "Recall: 0.9481316229782487\n",
      "Accuracy on test: 95.49537289058247%\n",
      "Epoch 61, Loss: 0.2208772370510775\n"
     ]
    },
    {
     "name": "stderr",
     "output_type": "stream",
     "text": [
      "  6%|▌         | 61/1000 [13:01<3:14:00, 12.40s/it]"
     ]
    },
    {
     "name": "stdout",
     "output_type": "stream",
     "text": [
      "F1 Score: 0.9597110308419006\n",
      "Recall: 0.9631901840490797\n",
      "Accuracy on test: 96.05334784975503%\n",
      "Epoch 62, Loss: 0.1799921846260195\n"
     ]
    },
    {
     "name": "stderr",
     "output_type": "stream",
     "text": [
      "  6%|▌         | 62/1000 [13:14<3:13:30, 12.38s/it]"
     ]
    },
    {
     "name": "stdout",
     "output_type": "stream",
     "text": [
      "F1 Score: 0.9582227190163476\n",
      "Recall: 0.9562186279977691\n",
      "Accuracy on test: 95.93086554164398%\n",
      "Epoch 63, Loss: 0.11096379622493101\n"
     ]
    },
    {
     "name": "stderr",
     "output_type": "stream",
     "text": [
      "  6%|▋         | 63/1000 [13:26<3:13:50, 12.41s/it]"
     ]
    },
    {
     "name": "stdout",
     "output_type": "stream",
     "text": [
      "F1 Score: 0.9596774193548387\n",
      "Recall: 0.9623535973229225\n",
      "Accuracy on test: 96.05334784975503%\n",
      "Epoch 64, Loss: 0.16103102394744107\n"
     ]
    },
    {
     "name": "stderr",
     "output_type": "stream",
     "text": [
      "  6%|▋         | 64/1000 [13:39<3:14:27, 12.47s/it]"
     ]
    },
    {
     "name": "stdout",
     "output_type": "stream",
     "text": [
      "F1 Score: 0.9598657530415327\n",
      "Recall: 0.9570552147239264\n",
      "Accuracy on test: 96.09417528579205%\n",
      "Epoch 65, Loss: 0.12447131170850734\n"
     ]
    },
    {
     "name": "stderr",
     "output_type": "stream",
     "text": [
      "  6%|▋         | 65/1000 [13:51<3:15:09, 12.52s/it]"
     ]
    },
    {
     "name": "stdout",
     "output_type": "stream",
     "text": [
      "F1 Score: 0.9582582166135072\n",
      "Recall: 0.9634690462911322\n",
      "Accuracy on test: 95.90364725095264%\n",
      "Epoch 66, Loss: 0.11847903220711843\n"
     ]
    },
    {
     "name": "stderr",
     "output_type": "stream",
     "text": [
      "  7%|▋         | 66/1000 [14:04<3:15:00, 12.53s/it]"
     ]
    },
    {
     "name": "stdout",
     "output_type": "stream",
     "text": [
      "F1 Score: 0.9588431590656284\n",
      "Recall: 0.9615170105967652\n",
      "Accuracy on test: 95.971692977681%\n",
      "Epoch 67, Loss: 0.08721937035088954\n"
     ]
    },
    {
     "name": "stderr",
     "output_type": "stream",
     "text": [
      "  7%|▋         | 67/1000 [14:16<3:12:47, 12.40s/it]"
     ]
    },
    {
     "name": "stdout",
     "output_type": "stream",
     "text": [
      "F1 Score: 0.9600222098833981\n",
      "Recall: 0.9643056330172894\n",
      "Accuracy on test: 96.08056614044638%\n",
      "Epoch 68, Loss: 0.09435396620436855\n"
     ]
    },
    {
     "name": "stderr",
     "output_type": "stream",
     "text": [
      "  7%|▋         | 68/1000 [14:28<3:10:51, 12.29s/it]"
     ]
    },
    {
     "name": "stdout",
     "output_type": "stream",
     "text": [
      "F1 Score: 0.9582002499652826\n",
      "Recall: 0.96207473508087\n",
      "Accuracy on test: 95.90364725095264%\n",
      "Epoch 69, Loss: 0.08194191980621089\n"
     ]
    },
    {
     "name": "stderr",
     "output_type": "stream",
     "text": [
      "  7%|▋         | 69/1000 [14:40<3:09:10, 12.19s/it]"
     ]
    },
    {
     "name": "stdout",
     "output_type": "stream",
     "text": [
      "F1 Score: 0.9594745667970933\n",
      "Recall: 0.9573340769659788\n",
      "Accuracy on test: 96.05334784975503%\n",
      "Epoch 70, Loss: 0.07964990345518226\n"
     ]
    },
    {
     "name": "stderr",
     "output_type": "stream",
     "text": [
      "  7%|▋         | 70/1000 [14:52<3:08:48, 12.18s/it]"
     ]
    },
    {
     "name": "stdout",
     "output_type": "stream",
     "text": [
      "F1 Score: 0.9631791024037794\n",
      "Recall: 0.9665365309537088\n",
      "Accuracy on test: 96.39357648339684%\n",
      "Epoch 71, Loss: 0.07745978354840823\n"
     ]
    },
    {
     "name": "stderr",
     "output_type": "stream",
     "text": [
      "  7%|▋         | 71/1000 [15:04<3:07:58, 12.14s/it]"
     ]
    },
    {
     "name": "stdout",
     "output_type": "stream",
     "text": [
      "F1 Score: 0.9606475020932179\n",
      "Recall: 0.9598438371444507\n",
      "Accuracy on test: 96.1622210125204%\n",
      "Epoch 72, Loss: 0.09296798659083635\n"
     ]
    },
    {
     "name": "stderr",
     "output_type": "stream",
     "text": [
      "  7%|▋         | 72/1000 [15:16<3:07:34, 12.13s/it]"
     ]
    },
    {
     "name": "stdout",
     "output_type": "stream",
     "text": [
      "F1 Score: 0.9637046307884856\n",
      "Recall: 0.9662576687116564\n",
      "Accuracy on test: 96.44801306477953%\n",
      "Epoch 73, Loss: 0.08529917942764967\n"
     ]
    },
    {
     "name": "stderr",
     "output_type": "stream",
     "text": [
      "  7%|▋         | 73/1000 [15:28<3:06:41, 12.08s/it]"
     ]
    },
    {
     "name": "stdout",
     "output_type": "stream",
     "text": [
      "F1 Score: 0.9606828039736952\n",
      "Recall: 0.9573340769659788\n",
      "Accuracy on test: 96.17583015786609%\n",
      "Epoch 74, Loss: 0.07165741973921008\n"
     ]
    },
    {
     "name": "stderr",
     "output_type": "stream",
     "text": [
      "  7%|▋         | 74/1000 [15:40<3:06:36, 12.09s/it]"
     ]
    },
    {
     "name": "stdout",
     "output_type": "stream",
     "text": [
      "F1 Score: 0.9603438713255685\n",
      "Recall: 0.9656999442275516\n",
      "Accuracy on test: 96.10778443113772%\n",
      "Epoch 75, Loss: 0.06789175932012174\n"
     ]
    },
    {
     "name": "stderr",
     "output_type": "stream",
     "text": [
      "  8%|▊         | 75/1000 [15:53<3:07:02, 12.13s/it]"
     ]
    },
    {
     "name": "stdout",
     "output_type": "stream",
     "text": [
      "F1 Score: 0.9636817299695037\n",
      "Recall: 0.9693251533742331\n",
      "Accuracy on test: 96.43440391943386%\n",
      "Epoch 76, Loss: 0.06633907818113981\n"
     ]
    },
    {
     "name": "stderr",
     "output_type": "stream",
     "text": [
      "  8%|▊         | 76/1000 [16:05<3:06:25, 12.11s/it]"
     ]
    },
    {
     "name": "stdout",
     "output_type": "stream",
     "text": [
      "F1 Score: 0.9615758080177556\n",
      "Recall: 0.9665365309537088\n",
      "Accuracy on test: 96.23026673924878%\n",
      "Epoch 77, Loss: 0.08511312813700542\n"
     ]
    },
    {
     "name": "stderr",
     "output_type": "stream",
     "text": [
      "  8%|▊         | 77/1000 [16:18<3:12:22, 12.51s/it]"
     ]
    },
    {
     "name": "stdout",
     "output_type": "stream",
     "text": [
      "F1 Score: 0.9613986013986014\n",
      "Recall: 0.9584495259341885\n",
      "Accuracy on test: 96.24387588459444%\n",
      "Epoch 78, Loss: 0.0625097859043466\n"
     ]
    },
    {
     "name": "stderr",
     "output_type": "stream",
     "text": [
      "  8%|▊         | 78/1000 [16:31<3:13:40, 12.60s/it]"
     ]
    },
    {
     "name": "stdout",
     "output_type": "stream",
     "text": [
      "F1 Score: 0.9626636946224575\n",
      "Recall: 0.9634690462911322\n",
      "Accuracy on test: 96.35274904735982%\n",
      "Epoch 79, Loss: 0.060237788583111504\n"
     ]
    },
    {
     "name": "stderr",
     "output_type": "stream",
     "text": [
      "  8%|▊         | 79/1000 [16:43<3:11:11, 12.46s/it]"
     ]
    },
    {
     "name": "stdout",
     "output_type": "stream",
     "text": [
      "F1 Score: 0.9612724757952974\n",
      "Recall: 0.9690462911321807\n",
      "Accuracy on test: 96.18943930321176%\n",
      "Epoch 80, Loss: 0.059962039517805626\n"
     ]
    },
    {
     "name": "stderr",
     "output_type": "stream",
     "text": [
      "  8%|▊         | 80/1000 [16:55<3:11:12, 12.47s/it]"
     ]
    },
    {
     "name": "stdout",
     "output_type": "stream",
     "text": [
      "F1 Score: 0.960920177383592\n",
      "Recall: 0.9668153931957613\n",
      "Accuracy on test: 96.1622210125204%\n",
      "Epoch 81, Loss: 0.056587958169858094\n"
     ]
    },
    {
     "name": "stderr",
     "output_type": "stream",
     "text": [
      "  8%|▊         | 81/1000 [17:08<3:11:59, 12.54s/it]"
     ]
    },
    {
     "name": "stdout",
     "output_type": "stream",
     "text": [
      "F1 Score: 0.963658974713279\n",
      "Recall: 0.9723926380368099\n",
      "Accuracy on test: 96.4207947740882%\n",
      "Epoch 82, Loss: 0.054527165817663724\n"
     ]
    },
    {
     "name": "stderr",
     "output_type": "stream",
     "text": [
      "  8%|▊         | 82/1000 [17:21<3:11:06, 12.49s/it]"
     ]
    },
    {
     "name": "stdout",
     "output_type": "stream",
     "text": [
      "F1 Score: 0.9613244296048971\n",
      "Recall: 0.9634690462911322\n",
      "Accuracy on test: 96.2166575939031%\n",
      "Epoch 83, Loss: 0.05372291672164979\n"
     ]
    },
    {
     "name": "stderr",
     "output_type": "stream",
     "text": [
      "  8%|▊         | 83/1000 [17:33<3:11:04, 12.50s/it]"
     ]
    },
    {
     "name": "stdout",
     "output_type": "stream",
     "text": [
      "F1 Score: 0.9612489545581265\n",
      "Recall: 0.9615170105967652\n",
      "Accuracy on test: 96.2166575939031%\n",
      "Epoch 84, Loss: 0.051428380240078855\n"
     ]
    },
    {
     "name": "stderr",
     "output_type": "stream",
     "text": [
      "  8%|▊         | 84/1000 [17:46<3:11:05, 12.52s/it]"
     ]
    },
    {
     "name": "stdout",
     "output_type": "stream",
     "text": [
      "F1 Score: 0.9613721935573839\n",
      "Recall: 0.9612381483547128\n",
      "Accuracy on test: 96.23026673924878%\n",
      "Epoch 85, Loss: 0.05113111095826911\n",
      "F1 Score: 0.9623723597705973\n",
      "Recall: 0.9592861126603458\n",
      "Accuracy on test: 96.33913990201415%\n"
     ]
    },
    {
     "name": "stderr",
     "output_type": "stream",
     "text": [
      "  8%|▊         | 85/1000 [17:58<3:11:25, 12.55s/it]"
     ]
    },
    {
     "name": "stdout",
     "output_type": "stream",
     "text": [
      "Epoch 86, Loss: 0.04895996926352382\n"
     ]
    },
    {
     "name": "stderr",
     "output_type": "stream",
     "text": [
      "  9%|▊         | 86/1000 [18:11<3:10:40, 12.52s/it]"
     ]
    },
    {
     "name": "stdout",
     "output_type": "stream",
     "text": [
      "F1 Score: 0.9594858899133836\n",
      "Recall: 0.9576129392080313\n",
      "Accuracy on test: 96.05334784975503%\n",
      "Epoch 87, Loss: 0.04577080447672178\n"
     ]
    },
    {
     "name": "stderr",
     "output_type": "stream",
     "text": [
      "  9%|▊         | 87/1000 [18:24<3:13:35, 12.72s/it]"
     ]
    },
    {
     "name": "stdout",
     "output_type": "stream",
     "text": [
      "F1 Score: 0.9614638203493208\n",
      "Recall: 0.9670942554378137\n",
      "Accuracy on test: 96.2166575939031%\n",
      "Epoch 88, Loss: 0.04702830428622015\n"
     ]
    },
    {
     "name": "stderr",
     "output_type": "stream",
     "text": [
      "  9%|▉         | 88/1000 [18:37<3:13:53, 12.76s/it]"
     ]
    },
    {
     "name": "stdout",
     "output_type": "stream",
     "text": [
      "F1 Score: 0.9620780663981109\n",
      "Recall: 0.9656999442275516\n",
      "Accuracy on test: 96.28470332063146%\n",
      "Epoch 89, Loss: 0.10872070662596303\n"
     ]
    },
    {
     "name": "stderr",
     "output_type": "stream",
     "text": [
      "  9%|▉         | 89/1000 [18:49<3:13:17, 12.73s/it]"
     ]
    },
    {
     "name": "stdout",
     "output_type": "stream",
     "text": [
      "F1 Score: 0.9637175551214067\n",
      "Recall: 0.9629113218070273\n",
      "Accuracy on test: 96.46162221012521%\n",
      "Epoch 90, Loss: 0.04455092529280354\n"
     ]
    },
    {
     "name": "stderr",
     "output_type": "stream",
     "text": [
      "  9%|▉         | 90/1000 [19:02<3:11:40, 12.64s/it]"
     ]
    },
    {
     "name": "stdout",
     "output_type": "stream",
     "text": [
      "F1 Score: 0.9646140986347171\n",
      "Recall: 0.9654210819854991\n",
      "Accuracy on test: 96.54327708219924%\n",
      "Epoch 91, Loss: 0.09888932077497568\n"
     ]
    },
    {
     "name": "stderr",
     "output_type": "stream",
     "text": [
      "  9%|▉         | 91/1000 [19:14<3:09:55, 12.54s/it]"
     ]
    },
    {
     "name": "stdout",
     "output_type": "stream",
     "text": [
      "F1 Score: 0.9603696961209914\n",
      "Recall: 0.9562186279977691\n",
      "Accuracy on test: 96.14861186717474%\n",
      "Epoch 92, Loss: 0.04232130199873253\n"
     ]
    },
    {
     "name": "stderr",
     "output_type": "stream",
     "text": [
      "  9%|▉         | 92/1000 [19:26<3:08:45, 12.47s/it]"
     ]
    },
    {
     "name": "stdout",
     "output_type": "stream",
     "text": [
      "F1 Score: 0.9631791024037794\n",
      "Recall: 0.9665365309537088\n",
      "Accuracy on test: 96.39357648339684%\n",
      "Epoch 93, Loss: 0.04158509469631574\n"
     ]
    },
    {
     "name": "stderr",
     "output_type": "stream",
     "text": [
      "  9%|▉         | 93/1000 [19:39<3:08:16, 12.45s/it]"
     ]
    },
    {
     "name": "stdout",
     "output_type": "stream",
     "text": [
      "F1 Score: 0.9598220492145141\n",
      "Recall: 0.9626324595649749\n",
      "Accuracy on test: 96.06695699510071%\n",
      "Epoch 94, Loss: 0.03797929629319064\n"
     ]
    },
    {
     "name": "stderr",
     "output_type": "stream",
     "text": [
      "  9%|▉         | 94/1000 [19:51<3:07:34, 12.42s/it]"
     ]
    },
    {
     "name": "stdout",
     "output_type": "stream",
     "text": [
      "F1 Score: 0.9645882516317178\n",
      "Recall: 0.9684885666480758\n",
      "Accuracy on test: 96.52966793685357%\n",
      "Epoch 95, Loss: 0.037070607588343\n"
     ]
    },
    {
     "name": "stderr",
     "output_type": "stream",
     "text": [
      " 10%|▉         | 95/1000 [20:03<3:06:37, 12.37s/it]"
     ]
    },
    {
     "name": "stdout",
     "output_type": "stream",
     "text": [
      "F1 Score: 0.9640066964285714\n",
      "Recall: 0.9634690462911322\n",
      "Accuracy on test: 96.48884050081655%\n",
      "Epoch 96, Loss: 0.037129130763123214\n"
     ]
    },
    {
     "name": "stderr",
     "output_type": "stream",
     "text": [
      " 10%|▉         | 96/1000 [20:16<3:05:36, 12.32s/it]"
     ]
    },
    {
     "name": "stdout",
     "output_type": "stream",
     "text": [
      "F1 Score: 0.9633873672442705\n",
      "Recall: 0.9612381483547128\n",
      "Accuracy on test: 96.43440391943386%\n",
      "Epoch 97, Loss: 0.05139758216176668\n"
     ]
    },
    {
     "name": "stderr",
     "output_type": "stream",
     "text": [
      " 10%|▉         | 97/1000 [20:28<3:04:30, 12.26s/it]"
     ]
    },
    {
     "name": "stdout",
     "output_type": "stream",
     "text": [
      "F1 Score: 0.9627763783935068\n",
      "Recall: 0.9592861126603458\n",
      "Accuracy on test: 96.37996733805117%\n",
      "Epoch 98, Loss: 0.047529378061628214\n"
     ]
    },
    {
     "name": "stderr",
     "output_type": "stream",
     "text": [
      " 10%|▉         | 98/1000 [20:40<3:04:27, 12.27s/it]"
     ]
    },
    {
     "name": "stdout",
     "output_type": "stream",
     "text": [
      "F1 Score: 0.9633347274501604\n",
      "Recall: 0.9634690462911322\n",
      "Accuracy on test: 96.4207947740882%\n",
      "Epoch 99, Loss: 0.034089046709603915\n"
     ]
    },
    {
     "name": "stderr",
     "output_type": "stream",
     "text": [
      " 10%|▉         | 99/1000 [20:52<3:01:30, 12.09s/it]"
     ]
    },
    {
     "name": "stdout",
     "output_type": "stream",
     "text": [
      "F1 Score: 0.9624982573539662\n",
      "Recall: 0.9626324595649749\n",
      "Accuracy on test: 96.33913990201415%\n",
      "Epoch 100, Loss: 0.03442958798259497\n"
     ]
    },
    {
     "name": "stderr",
     "output_type": "stream",
     "text": [
      " 10%|█         | 100/1000 [21:03<2:59:05, 11.94s/it]"
     ]
    },
    {
     "name": "stdout",
     "output_type": "stream",
     "text": [
      "F1 Score: 0.9620846546256722\n",
      "Recall: 0.9729503625209147\n",
      "Accuracy on test: 96.25748502994011%\n",
      "Epoch 101, Loss: 0.054876881685998774\n"
     ]
    },
    {
     "name": "stderr",
     "output_type": "stream",
     "text": [
      " 10%|█         | 101/1000 [21:15<2:57:29, 11.85s/it]"
     ]
    },
    {
     "name": "stdout",
     "output_type": "stream",
     "text": [
      "F1 Score: 0.9633245014642309\n",
      "Recall: 0.9631901840490797\n",
      "Accuracy on test: 96.4207947740882%\n",
      "Epoch 102, Loss: 0.03161871338506108\n"
     ]
    },
    {
     "name": "stderr",
     "output_type": "stream",
     "text": [
      " 10%|█         | 102/1000 [21:27<2:56:26, 11.79s/it]"
     ]
    },
    {
     "name": "stdout",
     "output_type": "stream",
     "text": [
      "F1 Score: 0.9629526462395543\n",
      "Recall: 0.964026770775237\n",
      "Accuracy on test: 96.37996733805117%\n",
      "Epoch 103, Loss: 0.030853616982779424\n"
     ]
    },
    {
     "name": "stderr",
     "output_type": "stream",
     "text": [
      " 10%|█         | 103/1000 [21:38<2:54:38, 11.68s/it]"
     ]
    },
    {
     "name": "stdout",
     "output_type": "stream",
     "text": [
      "F1 Score: 0.9605925097820012\n",
      "Recall: 0.9584495259341885\n",
      "Accuracy on test: 96.1622210125204%\n",
      "Epoch 104, Loss: 0.028824307555940166\n"
     ]
    },
    {
     "name": "stderr",
     "output_type": "stream",
     "text": [
      " 10%|█         | 104/1000 [21:51<2:57:59, 11.92s/it]"
     ]
    },
    {
     "name": "stdout",
     "output_type": "stream",
     "text": [
      "F1 Score: 0.962819089900111\n",
      "Recall: 0.9676519799219185\n",
      "Accuracy on test: 96.35274904735982%\n",
      "Epoch 105, Loss: 0.028539742015140212\n"
     ]
    },
    {
     "name": "stderr",
     "output_type": "stream",
     "text": [
      " 10%|█         | 105/1000 [22:02<2:56:07, 11.81s/it]"
     ]
    },
    {
     "name": "stdout",
     "output_type": "stream",
     "text": [
      "F1 Score: 0.9616560155598778\n",
      "Recall: 0.9651422197434467\n",
      "Accuracy on test: 96.24387588459444%\n",
      "Epoch 106, Loss: 0.050756721138832686\n"
     ]
    },
    {
     "name": "stderr",
     "output_type": "stream",
     "text": [
      " 11%|█         | 106/1000 [22:13<2:53:20, 11.63s/it]"
     ]
    },
    {
     "name": "stdout",
     "output_type": "stream",
     "text": [
      "F1 Score: 0.9630970616905723\n",
      "Recall: 0.9643056330172894\n",
      "Accuracy on test: 96.39357648339684%\n",
      "Epoch 107, Loss: 0.03087850363277223\n"
     ]
    },
    {
     "name": "stderr",
     "output_type": "stream",
     "text": [
      " 11%|█         | 107/1000 [22:25<2:51:40, 11.53s/it]"
     ]
    },
    {
     "name": "stdout",
     "output_type": "stream",
     "text": [
      "F1 Score: 0.9638722276468127\n",
      "Recall: 0.9634690462911322\n",
      "Accuracy on test: 96.47523135547088%\n",
      "Epoch 108, Loss: 0.02841408723236426\n"
     ]
    },
    {
     "name": "stderr",
     "output_type": "stream",
     "text": [
      " 11%|█         | 108/1000 [22:36<2:50:16, 11.45s/it]"
     ]
    },
    {
     "name": "stdout",
     "output_type": "stream",
     "text": [
      "F1 Score: 0.9663078428631343\n",
      "Recall: 0.9637479085331846\n",
      "Accuracy on test: 96.72019597169297%\n",
      "Epoch 109, Loss: 0.026720668737898055\n"
     ]
    },
    {
     "name": "stderr",
     "output_type": "stream",
     "text": [
      " 11%|█         | 109/1000 [22:47<2:50:17, 11.47s/it]"
     ]
    },
    {
     "name": "stdout",
     "output_type": "stream",
     "text": [
      "F1 Score: 0.9600556715379263\n",
      "Recall: 0.9617958728388176\n",
      "Accuracy on test: 96.09417528579205%\n",
      "Epoch 110, Loss: 0.02585739273901867\n"
     ]
    },
    {
     "name": "stderr",
     "output_type": "stream",
     "text": [
      " 11%|█         | 110/1000 [22:59<2:49:46, 11.45s/it]"
     ]
    },
    {
     "name": "stdout",
     "output_type": "stream",
     "text": [
      "F1 Score: 0.9630867808887031\n",
      "Recall: 0.964026770775237\n",
      "Accuracy on test: 96.39357648339684%\n",
      "Epoch 111, Loss: 0.03665761351180465\n"
     ]
    },
    {
     "name": "stderr",
     "output_type": "stream",
     "text": [
      " 11%|█         | 111/1000 [23:11<2:53:38, 11.72s/it]"
     ]
    },
    {
     "name": "stdout",
     "output_type": "stream",
     "text": [
      "F1 Score: 0.9629629629629629\n",
      "Recall: 0.9606804238706079\n",
      "Accuracy on test: 96.39357648339684%\n",
      "Epoch 112, Loss: 0.02559174790715232\n"
     ]
    },
    {
     "name": "stderr",
     "output_type": "stream",
     "text": [
      " 11%|█         | 112/1000 [23:24<2:59:48, 12.15s/it]"
     ]
    },
    {
     "name": "stdout",
     "output_type": "stream",
     "text": [
      "F1 Score: 0.9633435156900861\n",
      "Recall: 0.9673731176798661\n",
      "Accuracy on test: 96.40718562874252%\n",
      "Epoch 113, Loss: 0.02420143701956081\n"
     ]
    },
    {
     "name": "stderr",
     "output_type": "stream",
     "text": [
      " 11%|█▏        | 113/1000 [23:38<3:05:21, 12.54s/it]"
     ]
    },
    {
     "name": "stdout",
     "output_type": "stream",
     "text": [
      "F1 Score: 0.9625174825174825\n",
      "Recall: 0.9595649749023982\n",
      "Accuracy on test: 96.35274904735982%\n",
      "Epoch 114, Loss: 0.023266958612341272\n"
     ]
    },
    {
     "name": "stderr",
     "output_type": "stream",
     "text": [
      " 11%|█▏        | 114/1000 [23:52<3:11:05, 12.94s/it]"
     ]
    },
    {
     "name": "stdout",
     "output_type": "stream",
     "text": [
      "F1 Score: 0.9646894626657362\n",
      "Recall: 0.9637479085331846\n",
      "Accuracy on test: 96.55688622754491%\n",
      "Epoch 115, Loss: 0.02517906942748991\n"
     ]
    },
    {
     "name": "stderr",
     "output_type": "stream",
     "text": [
      " 12%|█▏        | 115/1000 [24:06<3:15:45, 13.27s/it]"
     ]
    },
    {
     "name": "stdout",
     "output_type": "stream",
     "text": [
      "F1 Score: 0.9631374722838137\n",
      "Recall: 0.9690462911321807\n",
      "Accuracy on test: 96.37996733805117%\n",
      "Epoch 116, Loss: 0.07479388445575276\n"
     ]
    },
    {
     "name": "stderr",
     "output_type": "stream",
     "text": [
      " 12%|█▏        | 116/1000 [24:19<3:15:09, 13.25s/it]"
     ]
    },
    {
     "name": "stdout",
     "output_type": "stream",
     "text": [
      "F1 Score: 0.9600222872266332\n",
      "Recall: 0.9609592861126603\n",
      "Accuracy on test: 96.09417528579205%\n",
      "Epoch 117, Loss: 0.021003632245423353\n"
     ]
    },
    {
     "name": "stderr",
     "output_type": "stream",
     "text": [
      " 12%|█▏        | 117/1000 [24:31<3:11:43, 13.03s/it]"
     ]
    },
    {
     "name": "stdout",
     "output_type": "stream",
     "text": [
      "F1 Score: 0.9612705488994149\n",
      "Recall: 0.96207473508087\n",
      "Accuracy on test: 96.2166575939031%\n",
      "Epoch 118, Loss: 0.021451628145397358\n"
     ]
    },
    {
     "name": "stderr",
     "output_type": "stream",
     "text": [
      " 12%|█▏        | 118/1000 [24:44<3:09:25, 12.89s/it]"
     ]
    },
    {
     "name": "stdout",
     "output_type": "stream",
     "text": [
      "F1 Score: 0.9628805783400528\n",
      "Recall: 0.9656999442275516\n",
      "Accuracy on test: 96.3663581927055%\n",
      "Epoch 119, Loss: 0.02171526216071747\n"
     ]
    },
    {
     "name": "stderr",
     "output_type": "stream",
     "text": [
      " 12%|█▏        | 119/1000 [24:57<3:09:43, 12.92s/it]"
     ]
    },
    {
     "name": "stdout",
     "output_type": "stream",
     "text": [
      "F1 Score: 0.9613351877607789\n",
      "Recall: 0.9637479085331846\n",
      "Accuracy on test: 96.2166575939031%\n",
      "Epoch 120, Loss: 0.02056454380508512\n"
     ]
    },
    {
     "name": "stderr",
     "output_type": "stream",
     "text": [
      " 12%|█▏        | 120/1000 [25:10<3:10:23, 12.98s/it]"
     ]
    },
    {
     "name": "stdout",
     "output_type": "stream",
     "text": [
      "F1 Score: 0.9626532887402452\n",
      "Recall: 0.9631901840490797\n",
      "Accuracy on test: 96.35274904735982%\n",
      "Epoch 121, Loss: 0.13341104520849237\n"
     ]
    },
    {
     "name": "stderr",
     "output_type": "stream",
     "text": [
      " 12%|█▏        | 121/1000 [25:23<3:09:19, 12.92s/it]"
     ]
    },
    {
     "name": "stdout",
     "output_type": "stream",
     "text": [
      "F1 Score: 0.9616617872577722\n",
      "Recall: 0.9617958728388176\n",
      "Accuracy on test: 96.25748502994011%\n",
      "Epoch 122, Loss: 0.01984060166363159\n"
     ]
    },
    {
     "name": "stderr",
     "output_type": "stream",
     "text": [
      " 12%|█▏        | 122/1000 [25:35<3:07:43, 12.83s/it]"
     ]
    },
    {
     "name": "stdout",
     "output_type": "stream",
     "text": [
      "F1 Score: 0.9621243885394829\n",
      "Recall: 0.9598438371444507\n",
      "Accuracy on test: 96.3119216113228%\n",
      "Epoch 123, Loss: 0.019131093418590078\n"
     ]
    },
    {
     "name": "stderr",
     "output_type": "stream",
     "text": [
      " 12%|█▏        | 123/1000 [25:48<3:05:48, 12.71s/it]"
     ]
    },
    {
     "name": "stdout",
     "output_type": "stream",
     "text": [
      "F1 Score: 0.9642258244829514\n",
      "Recall: 0.96207473508087\n",
      "Accuracy on test: 96.5160587915079%\n",
      "Epoch 124, Loss: 0.09512522566112001\n"
     ]
    },
    {
     "name": "stderr",
     "output_type": "stream",
     "text": [
      " 12%|█▏        | 124/1000 [26:00<3:05:07, 12.68s/it]"
     ]
    },
    {
     "name": "stdout",
     "output_type": "stream",
     "text": [
      "F1 Score: 0.9633319496333195\n",
      "Recall: 0.9707194645844952\n",
      "Accuracy on test: 96.39357648339684%\n",
      "Epoch 125, Loss: 0.018764629996503177\n"
     ]
    },
    {
     "name": "stderr",
     "output_type": "stream",
     "text": [
      " 12%|█▎        | 125/1000 [26:13<3:04:24, 12.65s/it]"
     ]
    },
    {
     "name": "stdout",
     "output_type": "stream",
     "text": [
      "F1 Score: 0.9596774193548387\n",
      "Recall: 0.9623535973229225\n",
      "Accuracy on test: 96.05334784975503%\n",
      "Epoch 126, Loss: 0.0202536864008795\n",
      "F1 Score: 0.9643454038997215\n",
      "Recall: 0.9654210819854991\n",
      "Accuracy on test: 96.5160587915079%\n"
     ]
    },
    {
     "name": "stderr",
     "output_type": "stream",
     "text": [
      " 13%|█▎        | 126/1000 [26:26<3:07:29, 12.87s/it]"
     ]
    },
    {
     "name": "stdout",
     "output_type": "stream",
     "text": [
      "Epoch 127, Loss: 0.017951149686300398\n"
     ]
    },
    {
     "name": "stderr",
     "output_type": "stream",
     "text": [
      " 13%|█▎        | 127/1000 [26:39<3:05:50, 12.77s/it]"
     ]
    },
    {
     "name": "stdout",
     "output_type": "stream",
     "text": [
      "F1 Score: 0.9614632784138509\n",
      "Recall: 0.9601226993865031\n",
      "Accuracy on test: 96.24387588459444%\n",
      "Epoch 128, Loss: 0.016242596637153918\n"
     ]
    },
    {
     "name": "stderr",
     "output_type": "stream",
     "text": [
      " 13%|█▎        | 128/1000 [26:51<3:04:16, 12.68s/it]"
     ]
    },
    {
     "name": "stdout",
     "output_type": "stream",
     "text": [
      "F1 Score: 0.9608115619788772\n",
      "Recall: 0.964026770775237\n",
      "Accuracy on test: 96.1622210125204%\n",
      "Epoch 129, Loss: 0.015736491031155153\n"
     ]
    },
    {
     "name": "stderr",
     "output_type": "stream",
     "text": [
      " 13%|█▎        | 129/1000 [27:05<3:07:46, 12.94s/it]"
     ]
    },
    {
     "name": "stdout",
     "output_type": "stream",
     "text": [
      "F1 Score: 0.9628294036061026\n",
      "Recall: 0.967930842163971\n",
      "Accuracy on test: 96.35274904735982%\n",
      "Epoch 130, Loss: 0.015611775356608078\n"
     ]
    },
    {
     "name": "stderr",
     "output_type": "stream",
     "text": [
      " 13%|█▎        | 130/1000 [27:19<3:10:29, 13.14s/it]"
     ]
    },
    {
     "name": "stdout",
     "output_type": "stream",
     "text": [
      "F1 Score: 0.9625208217656858\n",
      "Recall: 0.9668153931957613\n",
      "Accuracy on test: 96.32553075666847%\n",
      "Epoch 131, Loss: 0.016451840441289316\n"
     ]
    },
    {
     "name": "stderr",
     "output_type": "stream",
     "text": [
      " 13%|█▎        | 131/1000 [27:32<3:12:23, 13.28s/it]"
     ]
    },
    {
     "name": "stdout",
     "output_type": "stream",
     "text": [
      "F1 Score: 0.9627363737486095\n",
      "Recall: 0.9654210819854991\n",
      "Accuracy on test: 96.35274904735982%\n",
      "Epoch 132, Loss: 0.014197728860080647\n"
     ]
    },
    {
     "name": "stderr",
     "output_type": "stream",
     "text": [
      " 13%|█▎        | 132/1000 [27:46<3:12:48, 13.33s/it]"
     ]
    },
    {
     "name": "stdout",
     "output_type": "stream",
     "text": [
      "F1 Score: 0.960678060302904\n",
      "Recall: 0.964026770775237\n",
      "Accuracy on test: 96.14861186717474%\n",
      "Epoch 133, Loss: 0.03367397248714595\n"
     ]
    },
    {
     "name": "stderr",
     "output_type": "stream",
     "text": [
      " 13%|█▎        | 133/1000 [27:59<3:13:06, 13.36s/it]"
     ]
    },
    {
     "name": "stdout",
     "output_type": "stream",
     "text": [
      "F1 Score: 0.9625069949636262\n",
      "Recall: 0.9592861126603458\n",
      "Accuracy on test: 96.35274904735982%\n",
      "Epoch 134, Loss: 0.01600119638884359\n",
      "F1 Score: 0.9605574912891987\n",
      "Recall: 0.9609592861126603\n",
      "Accuracy on test: 96.14861186717474%\n"
     ]
    },
    {
     "name": "stderr",
     "output_type": "stream",
     "text": [
      " 13%|█▎        | 134/1000 [28:13<3:14:37, 13.48s/it]"
     ]
    },
    {
     "name": "stdout",
     "output_type": "stream",
     "text": [
      "Epoch 135, Loss: 0.012892392700861977\n"
     ]
    },
    {
     "name": "stderr",
     "output_type": "stream",
     "text": [
      " 14%|█▎        | 135/1000 [28:27<3:15:09, 13.54s/it]"
     ]
    },
    {
     "name": "stdout",
     "output_type": "stream",
     "text": [
      "F1 Score: 0.9593381940549636\n",
      "Recall: 0.9539877300613497\n",
      "Accuracy on test: 96.05334784975503%\n",
      "Epoch 136, Loss: 0.015386869273725493\n"
     ]
    },
    {
     "name": "stderr",
     "output_type": "stream",
     "text": [
      " 14%|█▎        | 136/1000 [28:40<3:15:24, 13.57s/it]"
     ]
    },
    {
     "name": "stdout",
     "output_type": "stream",
     "text": [
      "F1 Score: 0.9615651449979187\n",
      "Recall: 0.9662576687116564\n",
      "Accuracy on test: 96.23026673924878%\n",
      "Epoch 137, Loss: 0.013659536870925323\n"
     ]
    },
    {
     "name": "stderr",
     "output_type": "stream",
     "text": [
      " 14%|█▎        | 137/1000 [28:54<3:15:20, 13.58s/it]"
     ]
    },
    {
     "name": "stdout",
     "output_type": "stream",
     "text": [
      "F1 Score: 0.9618171683389075\n",
      "Recall: 0.9623535973229225\n",
      "Accuracy on test: 96.27109417528578%\n",
      "Epoch 138, Loss: 0.012958097746393279\n"
     ]
    },
    {
     "name": "stderr",
     "output_type": "stream",
     "text": [
      " 14%|█▍        | 138/1000 [29:07<3:15:14, 13.59s/it]"
     ]
    },
    {
     "name": "stdout",
     "output_type": "stream",
     "text": [
      "F1 Score: 0.9608442099416828\n",
      "Recall: 0.9648633575013943\n",
      "Accuracy on test: 96.1622210125204%\n",
      "Epoch 139, Loss: 0.012644159872813717\n"
     ]
    },
    {
     "name": "stderr",
     "output_type": "stream",
     "text": [
      " 14%|█▍        | 139/1000 [29:21<3:15:12, 13.60s/it]"
     ]
    },
    {
     "name": "stdout",
     "output_type": "stream",
     "text": [
      "F1 Score: 0.9614745011086474\n",
      "Recall: 0.9673731176798661\n",
      "Accuracy on test: 96.2166575939031%\n",
      "Epoch 140, Loss: 0.012008237058256307\n"
     ]
    },
    {
     "name": "stderr",
     "output_type": "stream",
     "text": [
      " 14%|█▍        | 140/1000 [29:35<3:15:11, 13.62s/it]"
     ]
    },
    {
     "name": "stdout",
     "output_type": "stream",
     "text": [
      "F1 Score: 0.959742801230081\n",
      "Recall: 0.9573340769659788\n",
      "Accuracy on test: 96.08056614044638%\n",
      "Epoch 141, Loss: 0.03638032902153614\n"
     ]
    },
    {
     "name": "stderr",
     "output_type": "stream",
     "text": [
      " 14%|█▍        | 141/1000 [29:48<3:14:46, 13.60s/it]"
     ]
    },
    {
     "name": "stdout",
     "output_type": "stream",
     "text": [
      "F1 Score: 0.9614367256021161\n",
      "Recall: 0.9629113218070273\n",
      "Accuracy on test: 96.23026673924878%\n",
      "Epoch 142, Loss: 0.07647433383061307\n"
     ]
    },
    {
     "name": "stderr",
     "output_type": "stream",
     "text": [
      " 14%|█▍        | 142/1000 [30:02<3:15:01, 13.64s/it]"
     ]
    },
    {
     "name": "stdout",
     "output_type": "stream",
     "text": [
      "F1 Score: 0.962166689934385\n",
      "Recall: 0.9609592861126603\n",
      "Accuracy on test: 96.3119216113228%\n",
      "Epoch 143, Loss: 0.03630030548336673\n"
     ]
    },
    {
     "name": "stderr",
     "output_type": "stream",
     "text": [
      " 14%|█▍        | 143/1000 [30:16<3:14:41, 13.63s/it]"
     ]
    },
    {
     "name": "stdout",
     "output_type": "stream",
     "text": [
      "F1 Score: 0.9611406206318144\n",
      "Recall: 0.958728388176241\n",
      "Accuracy on test: 96.2166575939031%\n",
      "Epoch 144, Loss: 0.010786065332966088\n"
     ]
    },
    {
     "name": "stderr",
     "output_type": "stream",
     "text": [
      " 14%|█▍        | 144/1000 [30:29<3:14:30, 13.63s/it]"
     ]
    },
    {
     "name": "stdout",
     "output_type": "stream",
     "text": [
      "F1 Score: 0.9611865816467979\n",
      "Recall: 0.9668153931957613\n",
      "Accuracy on test: 96.18943930321176%\n",
      "Epoch 145, Loss: 0.011027133492904755\n"
     ]
    },
    {
     "name": "stderr",
     "output_type": "stream",
     "text": [
      " 14%|█▍        | 145/1000 [30:43<3:15:17, 13.70s/it]"
     ]
    },
    {
     "name": "stdout",
     "output_type": "stream",
     "text": [
      "F1 Score: 0.9601111883252259\n",
      "Recall: 0.9631901840490797\n",
      "Accuracy on test: 96.09417528579205%\n",
      "Epoch 146, Loss: 0.01115091724280754\n"
     ]
    },
    {
     "name": "stderr",
     "output_type": "stream",
     "text": [
      " 15%|█▍        | 146/1000 [30:57<3:15:13, 13.72s/it]"
     ]
    },
    {
     "name": "stdout",
     "output_type": "stream",
     "text": [
      "F1 Score: 0.9622068965517241\n",
      "Recall: 0.9726715002788623\n",
      "Accuracy on test: 96.27109417528578%\n",
      "Epoch 147, Loss: 0.08664517092123708\n"
     ]
    },
    {
     "name": "stderr",
     "output_type": "stream",
     "text": [
      " 15%|█▍        | 147/1000 [31:10<3:13:39, 13.62s/it]"
     ]
    },
    {
     "name": "stdout",
     "output_type": "stream",
     "text": [
      "F1 Score: 0.9604566972988026\n",
      "Recall: 0.9617958728388176\n",
      "Accuracy on test: 96.13500272182907%\n",
      "Epoch 148, Loss: 0.009965243546352925\n",
      "F1 Score: 0.960243801080482\n",
      "Recall: 0.9665365309537088\n",
      "Accuracy on test: 96.09417528579205%\n"
     ]
    },
    {
     "name": "stderr",
     "output_type": "stream",
     "text": [
      " 15%|█▍        | 148/1000 [31:24<3:13:49, 13.65s/it]"
     ]
    },
    {
     "name": "stdout",
     "output_type": "stream",
     "text": [
      "Epoch 149, Loss: 0.010070523794274778\n"
     ]
    },
    {
     "name": "stderr",
     "output_type": "stream",
     "text": [
      " 15%|█▍        | 149/1000 [31:38<3:13:17, 13.63s/it]"
     ]
    },
    {
     "name": "stdout",
     "output_type": "stream",
     "text": [
      "F1 Score: 0.9616715096167151\n",
      "Recall: 0.9690462911321807\n",
      "Accuracy on test: 96.23026673924878%\n",
      "Epoch 150, Loss: 0.009313528022080984\n"
     ]
    },
    {
     "name": "stderr",
     "output_type": "stream",
     "text": [
      " 15%|█▌        | 150/1000 [31:51<3:12:57, 13.62s/it]"
     ]
    },
    {
     "name": "stdout",
     "output_type": "stream",
     "text": [
      "F1 Score: 0.9617410590518436\n",
      "Recall: 0.9673731176798661\n",
      "Accuracy on test: 96.24387588459444%\n",
      "Epoch 151, Loss: 0.009986673302584044\n"
     ]
    },
    {
     "name": "stderr",
     "output_type": "stream",
     "text": [
      " 15%|█▌        | 151/1000 [32:04<3:11:23, 13.53s/it]"
     ]
    },
    {
     "name": "stdout",
     "output_type": "stream",
     "text": [
      "F1 Score: 0.9600111080255485\n",
      "Recall: 0.964026770775237\n",
      "Accuracy on test: 96.08056614044638%\n",
      "Epoch 152, Loss: 0.009246665161133379\n"
     ]
    },
    {
     "name": "stderr",
     "output_type": "stream",
     "text": [
      " 15%|█▌        | 152/1000 [32:18<3:11:38, 13.56s/it]"
     ]
    },
    {
     "name": "stdout",
     "output_type": "stream",
     "text": [
      "F1 Score: 0.9626336991248785\n",
      "Recall: 0.9662576687116564\n",
      "Accuracy on test: 96.33913990201415%\n",
      "Epoch 153, Loss: 0.008993309740807214\n"
     ]
    },
    {
     "name": "stderr",
     "output_type": "stream",
     "text": [
      " 15%|█▌        | 153/1000 [32:32<3:10:58, 13.53s/it]"
     ]
    },
    {
     "name": "stdout",
     "output_type": "stream",
     "text": [
      "F1 Score: 0.9631483799193437\n",
      "Recall: 0.9656999442275516\n",
      "Accuracy on test: 96.39357648339684%\n",
      "Epoch 154, Loss: 0.008507052812796166\n"
     ]
    },
    {
     "name": "stderr",
     "output_type": "stream",
     "text": [
      " 15%|█▌        | 154/1000 [32:45<3:10:11, 13.49s/it]"
     ]
    },
    {
     "name": "stdout",
     "output_type": "stream",
     "text": [
      "F1 Score: 0.9598997493734336\n",
      "Recall: 0.9612381483547128\n",
      "Accuracy on test: 96.08056614044638%\n",
      "Epoch 155, Loss: 0.007777940235530917\n"
     ]
    },
    {
     "name": "stderr",
     "output_type": "stream",
     "text": [
      " 16%|█▌        | 155/1000 [32:58<3:10:17, 13.51s/it]"
     ]
    },
    {
     "name": "stdout",
     "output_type": "stream",
     "text": [
      "F1 Score: 0.9633463905987689\n",
      "Recall: 0.9601226993865031\n",
      "Accuracy on test: 96.43440391943386%\n",
      "Epoch 156, Loss: 0.0617428521893959\n"
     ]
    },
    {
     "name": "stderr",
     "output_type": "stream",
     "text": [
      " 16%|█▌        | 156/1000 [33:12<3:10:18, 13.53s/it]"
     ]
    },
    {
     "name": "stdout",
     "output_type": "stream",
     "text": [
      "F1 Score: 0.9626751769113362\n",
      "Recall: 0.9673731176798661\n",
      "Accuracy on test: 96.33913990201415%\n",
      "Epoch 157, Loss: 0.0073332013275079514\n"
     ]
    },
    {
     "name": "stderr",
     "output_type": "stream",
     "text": [
      " 16%|█▌        | 157/1000 [33:25<3:08:44, 13.43s/it]"
     ]
    },
    {
     "name": "stdout",
     "output_type": "stream",
     "text": [
      "F1 Score: 0.9606365159128978\n",
      "Recall: 0.9595649749023982\n",
      "Accuracy on test: 96.1622210125204%\n",
      "Epoch 158, Loss: 0.006978489056928083\n"
     ]
    },
    {
     "name": "stderr",
     "output_type": "stream",
     "text": [
      " 16%|█▌        | 158/1000 [33:39<3:08:34, 13.44s/it]"
     ]
    },
    {
     "name": "stdout",
     "output_type": "stream",
     "text": [
      "F1 Score: 0.9643698877027589\n",
      "Recall: 0.9698828778583379\n",
      "Accuracy on test: 96.50244964616222%\n",
      "Epoch 159, Loss: 0.007730709071936713\n"
     ]
    },
    {
     "name": "stderr",
     "output_type": "stream",
     "text": [
      " 16%|█▌        | 159/1000 [33:52<3:08:55, 13.48s/it]"
     ]
    },
    {
     "name": "stdout",
     "output_type": "stream",
     "text": [
      "F1 Score: 0.9614689108359994\n",
      "Recall: 0.9637479085331846\n",
      "Accuracy on test: 96.23026673924878%\n",
      "Epoch 160, Loss: 0.05279293341977198\n"
     ]
    },
    {
     "name": "stderr",
     "output_type": "stream",
     "text": [
      " 16%|█▌        | 160/1000 [34:06<3:07:50, 13.42s/it]"
     ]
    },
    {
     "name": "stdout",
     "output_type": "stream",
     "text": [
      "F1 Score: 0.9618638191651643\n",
      "Recall: 0.9670942554378137\n",
      "Accuracy on test: 96.25748502994011%\n",
      "Epoch 161, Loss: 0.007137217126665232\n"
     ]
    },
    {
     "name": "stderr",
     "output_type": "stream",
     "text": [
      " 16%|█▌        | 161/1000 [34:19<3:07:32, 13.41s/it]"
     ]
    },
    {
     "name": "stdout",
     "output_type": "stream",
     "text": [
      "F1 Score: 0.9625224726870419\n",
      "Recall: 0.9704406023424428\n",
      "Accuracy on test: 96.3119216113228%\n",
      "Epoch 162, Loss: 0.04625171710656065\n"
     ]
    },
    {
     "name": "stderr",
     "output_type": "stream",
     "text": [
      " 16%|█▌        | 162/1000 [34:33<3:08:18, 13.48s/it]"
     ]
    },
    {
     "name": "stdout",
     "output_type": "stream",
     "text": [
      "F1 Score: 0.9607217210270645\n",
      "Recall: 0.9651422197434467\n",
      "Accuracy on test: 96.14861186717474%\n",
      "Epoch 163, Loss: 0.005954237841575852\n"
     ]
    },
    {
     "name": "stderr",
     "output_type": "stream",
     "text": [
      " 16%|█▋        | 163/1000 [34:46<3:08:08, 13.49s/it]"
     ]
    },
    {
     "name": "stdout",
     "output_type": "stream",
     "text": [
      "F1 Score: 0.9608143912982847\n",
      "Recall: 0.9606804238706079\n",
      "Accuracy on test: 96.17583015786609%\n",
      "Epoch 164, Loss: 0.006626718828161044\n"
     ]
    },
    {
     "name": "stderr",
     "output_type": "stream",
     "text": [
      " 16%|█▋        | 164/1000 [35:00<3:07:56, 13.49s/it]"
     ]
    },
    {
     "name": "stdout",
     "output_type": "stream",
     "text": [
      "F1 Score: 0.9621137984062631\n",
      "Recall: 0.9595649749023982\n",
      "Accuracy on test: 96.3119216113228%\n",
      "Epoch 165, Loss: 0.00802927391626366\n"
     ]
    },
    {
     "name": "stderr",
     "output_type": "stream",
     "text": [
      " 16%|█▋        | 165/1000 [35:13<3:07:36, 13.48s/it]"
     ]
    },
    {
     "name": "stdout",
     "output_type": "stream",
     "text": [
      "F1 Score: 0.9604346614655893\n",
      "Recall: 0.9612381483547128\n",
      "Accuracy on test: 96.13500272182907%\n",
      "Epoch 166, Loss: 0.006025414738890148\n"
     ]
    },
    {
     "name": "stderr",
     "output_type": "stream",
     "text": [
      " 17%|█▋        | 166/1000 [35:26<3:06:53, 13.45s/it]"
     ]
    },
    {
     "name": "stdout",
     "output_type": "stream",
     "text": [
      "F1 Score: 0.9594085646533687\n",
      "Recall: 0.9590072504182934\n",
      "Accuracy on test: 96.03973870440936%\n",
      "Epoch 167, Loss: 0.006260198124041578\n"
     ]
    },
    {
     "name": "stderr",
     "output_type": "stream",
     "text": [
      " 17%|█▋        | 167/1000 [35:40<3:05:41, 13.38s/it]"
     ]
    },
    {
     "name": "stdout",
     "output_type": "stream",
     "text": [
      "F1 Score: 0.9618320610687023\n",
      "Recall: 0.9662576687116564\n",
      "Accuracy on test: 96.25748502994011%\n",
      "Epoch 168, Loss: 0.0071947068903524345\n"
     ]
    },
    {
     "name": "stderr",
     "output_type": "stream",
     "text": [
      " 17%|█▋        | 168/1000 [35:53<3:06:17, 13.43s/it]"
     ]
    },
    {
     "name": "stdout",
     "output_type": "stream",
     "text": [
      "F1 Score: 0.9613996112191058\n",
      "Recall: 0.9654210819854991\n",
      "Accuracy on test: 96.2166575939031%\n",
      "Epoch 169, Loss: 0.005536634514346193\n"
     ]
    },
    {
     "name": "stderr",
     "output_type": "stream",
     "text": [
      " 17%|█▋        | 169/1000 [36:07<3:06:35, 13.47s/it]"
     ]
    },
    {
     "name": "stdout",
     "output_type": "stream",
     "text": [
      "F1 Score: 0.9626336991248785\n",
      "Recall: 0.9662576687116564\n",
      "Accuracy on test: 96.33913990201415%\n",
      "Epoch 170, Loss: 0.012091732424691462\n"
     ]
    },
    {
     "name": "stderr",
     "output_type": "stream",
     "text": [
      " 17%|█▋        | 170/1000 [36:20<3:06:44, 13.50s/it]"
     ]
    },
    {
     "name": "stdout",
     "output_type": "stream",
     "text": [
      "F1 Score: 0.962654449534916\n",
      "Recall: 0.9668153931957613\n",
      "Accuracy on test: 96.33913990201415%\n",
      "Epoch 171, Loss: 0.0052980976672109175\n"
     ]
    },
    {
     "name": "stderr",
     "output_type": "stream",
     "text": [
      " 17%|█▋        | 171/1000 [36:34<3:07:31, 13.57s/it]"
     ]
    },
    {
     "name": "stdout",
     "output_type": "stream",
     "text": [
      "F1 Score: 0.9603229848252819\n",
      "Recall: 0.9617958728388176\n",
      "Accuracy on test: 96.1213935764834%\n",
      "Epoch 172, Loss: 0.050730175683755714\n"
     ]
    },
    {
     "name": "stderr",
     "output_type": "stream",
     "text": [
      " 17%|█▋        | 172/1000 [36:48<3:07:30, 13.59s/it]"
     ]
    },
    {
     "name": "stdout",
     "output_type": "stream",
     "text": [
      "F1 Score: 0.9603317208016586\n",
      "Recall: 0.9687674288901282\n",
      "Accuracy on test: 96.09417528579205%\n",
      "Epoch 173, Loss: 0.006040906156451219\n"
     ]
    },
    {
     "name": "stderr",
     "output_type": "stream",
     "text": [
      " 17%|█▋        | 173/1000 [37:01<3:08:02, 13.64s/it]"
     ]
    },
    {
     "name": "stdout",
     "output_type": "stream",
     "text": [
      "F1 Score: 0.9613198391792597\n",
      "Recall: 0.9668153931957613\n",
      "Accuracy on test: 96.20304844855742%\n",
      "Epoch 174, Loss: 0.05507963238816718\n"
     ]
    },
    {
     "name": "stderr",
     "output_type": "stream",
     "text": [
      " 17%|█▋        | 174/1000 [37:15<3:08:29, 13.69s/it]"
     ]
    },
    {
     "name": "stdout",
     "output_type": "stream",
     "text": [
      "F1 Score: 0.9620323841429369\n",
      "Recall: 0.9609592861126603\n",
      "Accuracy on test: 96.29831246597713%\n",
      "Epoch 175, Loss: 0.00555373978644164\n",
      "F1 Score: 0.9623535973229225\n",
      "Recall: 0.9623535973229225\n",
      "Accuracy on test: 96.32553075666847%\n"
     ]
    },
    {
     "name": "stderr",
     "output_type": "stream",
     "text": [
      " 18%|█▊        | 175/1000 [37:29<3:08:30, 13.71s/it]"
     ]
    },
    {
     "name": "stdout",
     "output_type": "stream",
     "text": [
      "Epoch 176, Loss: 0.005246967061184873\n"
     ]
    },
    {
     "name": "stderr",
     "output_type": "stream",
     "text": [
      " 18%|█▊        | 176/1000 [37:43<3:08:42, 13.74s/it]"
     ]
    },
    {
     "name": "stdout",
     "output_type": "stream",
     "text": [
      "F1 Score: 0.9619021134593994\n",
      "Recall: 0.9645844952593419\n",
      "Accuracy on test: 96.27109417528578%\n",
      "Epoch 177, Loss: 0.0044548859412316235\n"
     ]
    },
    {
     "name": "stderr",
     "output_type": "stream",
     "text": [
      " 18%|█▊        | 177/1000 [37:57<3:11:48, 13.98s/it]"
     ]
    },
    {
     "name": "stdout",
     "output_type": "stream",
     "text": [
      "F1 Score: 0.9626740947075209\n",
      "Recall: 0.9637479085331846\n",
      "Accuracy on test: 96.35274904735982%\n",
      "Epoch 178, Loss: 0.022203346900831727\n"
     ]
    },
    {
     "name": "stderr",
     "output_type": "stream",
     "text": [
      " 18%|█▊        | 178/1000 [38:11<3:10:30, 13.91s/it]"
     ]
    },
    {
     "name": "stdout",
     "output_type": "stream",
     "text": [
      "F1 Score: 0.9611840268081542\n",
      "Recall: 0.9598438371444507\n",
      "Accuracy on test: 96.2166575939031%\n",
      "Epoch 179, Loss: 0.004131773047581943\n"
     ]
    },
    {
     "name": "stderr",
     "output_type": "stream",
     "text": [
      " 18%|█▊        | 179/1000 [38:25<3:09:03, 13.82s/it]"
     ]
    },
    {
     "name": "stdout",
     "output_type": "stream",
     "text": [
      "F1 Score: 0.964071019152803\n",
      "Recall: 0.9615170105967652\n",
      "Accuracy on test: 96.50244964616222%\n",
      "Epoch 180, Loss: 0.008736383092447954\n"
     ]
    },
    {
     "name": "stderr",
     "output_type": "stream",
     "text": [
      " 18%|█▊        | 180/1000 [38:38<3:08:20, 13.78s/it]"
     ]
    },
    {
     "name": "stdout",
     "output_type": "stream",
     "text": [
      "F1 Score: 0.9625400362066564\n",
      "Recall: 0.9637479085331846\n",
      "Accuracy on test: 96.33913990201415%\n",
      "Epoch 181, Loss: 0.020093925013561206\n"
     ]
    },
    {
     "name": "stderr",
     "output_type": "stream",
     "text": [
      " 18%|█▊        | 181/1000 [38:52<3:08:06, 13.78s/it]"
     ]
    },
    {
     "name": "stdout",
     "output_type": "stream",
     "text": [
      "F1 Score: 0.9612858141160028\n",
      "Recall: 0.9590072504182934\n",
      "Accuracy on test: 96.23026673924878%\n",
      "Epoch 182, Loss: 0.004726860811111375\n"
     ]
    },
    {
     "name": "stderr",
     "output_type": "stream",
     "text": [
      " 18%|█▊        | 182/1000 [39:06<3:07:38, 13.76s/it]"
     ]
    },
    {
     "name": "stdout",
     "output_type": "stream",
     "text": [
      "F1 Score: 0.9595311191738767\n",
      "Recall: 0.958728388176241\n",
      "Accuracy on test: 96.05334784975503%\n",
      "Epoch 183, Loss: 0.0047571749346072625\n"
     ]
    },
    {
     "name": "stderr",
     "output_type": "stream",
     "text": [
      " 18%|█▊        | 183/1000 [39:20<3:06:55, 13.73s/it]"
     ]
    },
    {
     "name": "stdout",
     "output_type": "stream",
     "text": [
      "F1 Score: 0.962183127857044\n",
      "Recall: 0.9684885666480758\n",
      "Accuracy on test: 96.28470332063146%\n",
      "Epoch 184, Loss: 0.003872139154966293\n"
     ]
    },
    {
     "name": "stderr",
     "output_type": "stream",
     "text": [
      " 18%|█▊        | 184/1000 [39:33<3:06:56, 13.75s/it]"
     ]
    },
    {
     "name": "stdout",
     "output_type": "stream",
     "text": [
      "F1 Score: 0.9620708748615725\n",
      "Recall: 0.9690462911321807\n",
      "Accuracy on test: 96.27109417528578%\n",
      "Epoch 185, Loss: 0.023667859221661827\n"
     ]
    },
    {
     "name": "stderr",
     "output_type": "stream",
     "text": [
      " 18%|█▊        | 185/1000 [39:46<3:02:33, 13.44s/it]"
     ]
    },
    {
     "name": "stdout",
     "output_type": "stream",
     "text": [
      "F1 Score: 0.9611219105803943\n",
      "Recall: 0.9651422197434467\n",
      "Accuracy on test: 96.18943930321176%\n",
      "Epoch 186, Loss: 0.0036887734321404105\n"
     ]
    },
    {
     "name": "stderr",
     "output_type": "stream",
     "text": [
      " 19%|█▊        | 186/1000 [39:57<2:53:41, 12.80s/it]"
     ]
    },
    {
     "name": "stdout",
     "output_type": "stream",
     "text": [
      "F1 Score: 0.9619724195570414\n",
      "Recall: 0.9629113218070273\n",
      "Accuracy on test: 96.28470332063146%\n",
      "Epoch 187, Loss: 0.07712510328483009\n"
     ]
    },
    {
     "name": "stderr",
     "output_type": "stream",
     "text": [
      " 19%|█▊        | 187/1000 [40:09<2:48:01, 12.40s/it]"
     ]
    },
    {
     "name": "stdout",
     "output_type": "stream",
     "text": [
      "F1 Score: 0.9640327732259408\n",
      "Recall: 0.967930842163971\n",
      "Accuracy on test: 96.47523135547088%\n",
      "Epoch 188, Loss: 0.009609562391731585\n"
     ]
    },
    {
     "name": "stderr",
     "output_type": "stream",
     "text": [
      " 19%|█▉        | 188/1000 [40:20<2:44:12, 12.13s/it]"
     ]
    },
    {
     "name": "stdout",
     "output_type": "stream",
     "text": [
      "F1 Score: 0.9594519015659956\n",
      "Recall: 0.956776352481874\n",
      "Accuracy on test: 96.05334784975503%\n",
      "Epoch 189, Loss: 0.04812370411989674\n"
     ]
    },
    {
     "name": "stderr",
     "output_type": "stream",
     "text": [
      " 19%|█▉        | 189/1000 [40:32<2:41:05, 11.92s/it]"
     ]
    },
    {
     "name": "stdout",
     "output_type": "stream",
     "text": [
      "F1 Score: 0.9611717562525909\n",
      "Recall: 0.9698828778583379\n",
      "Accuracy on test: 96.17583015786609%\n",
      "Epoch 190, Loss: 0.004523392890721721\n"
     ]
    },
    {
     "name": "stderr",
     "output_type": "stream",
     "text": [
      " 19%|█▉        | 190/1000 [40:43<2:38:49, 11.76s/it]"
     ]
    },
    {
     "name": "stdout",
     "output_type": "stream",
     "text": [
      "F1 Score: 0.9620323841429369\n",
      "Recall: 0.9609592861126603\n",
      "Accuracy on test: 96.29831246597713%\n",
      "Epoch 191, Loss: 0.0043998965585753625\n"
     ]
    },
    {
     "name": "stderr",
     "output_type": "stream",
     "text": [
      " 19%|█▉        | 191/1000 [40:54<2:36:41, 11.62s/it]"
     ]
    },
    {
     "name": "stdout",
     "output_type": "stream",
     "text": [
      "F1 Score: 0.9608333333333333\n",
      "Recall: 0.9645844952593419\n",
      "Accuracy on test: 96.1622210125204%\n",
      "Epoch 192, Loss: 0.0026649123686302515\n"
     ]
    },
    {
     "name": "stderr",
     "output_type": "stream",
     "text": [
      " 19%|█▉        | 192/1000 [41:06<2:34:49, 11.50s/it]"
     ]
    },
    {
     "name": "stdout",
     "output_type": "stream",
     "text": [
      "F1 Score: 0.9613244296048971\n",
      "Recall: 0.9634690462911322\n",
      "Accuracy on test: 96.2166575939031%\n",
      "Epoch 193, Loss: 0.0044641761163328065\n"
     ]
    },
    {
     "name": "stderr",
     "output_type": "stream",
     "text": [
      " 19%|█▉        | 193/1000 [41:17<2:33:50, 11.44s/it]"
     ]
    },
    {
     "name": "stdout",
     "output_type": "stream",
     "text": [
      "F1 Score: 0.9606123869171885\n",
      "Recall: 0.9623535973229225\n",
      "Accuracy on test: 96.14861186717474%\n",
      "Epoch 194, Loss: 0.004354450358179114\n"
     ]
    },
    {
     "name": "stderr",
     "output_type": "stream",
     "text": [
      " 19%|█▉        | 194/1000 [41:28<2:33:30, 11.43s/it]"
     ]
    },
    {
     "name": "stdout",
     "output_type": "stream",
     "text": [
      "F1 Score: 0.9626740947075209\n",
      "Recall: 0.9637479085331846\n",
      "Accuracy on test: 96.35274904735982%\n",
      "Epoch 195, Loss: 0.028656382119421005\n"
     ]
    },
    {
     "name": "stderr",
     "output_type": "stream",
     "text": [
      " 20%|█▉        | 195/1000 [41:40<2:32:32, 11.37s/it]"
     ]
    },
    {
     "name": "stdout",
     "output_type": "stream",
     "text": [
      "F1 Score: 0.962168111156968\n",
      "Recall: 0.9751812604573341\n",
      "Accuracy on test: 96.25748502994011%\n",
      "Epoch 196, Loss: 0.002877309886642489\n"
     ]
    },
    {
     "name": "stderr",
     "output_type": "stream",
     "text": [
      " 20%|█▉        | 196/1000 [41:51<2:32:15, 11.36s/it]"
     ]
    },
    {
     "name": "stdout",
     "output_type": "stream",
     "text": [
      "F1 Score: 0.959867146415721\n",
      "Recall: 0.9670942554378137\n",
      "Accuracy on test: 96.05334784975503%\n",
      "Epoch 197, Loss: 0.003244183207710233\n"
     ]
    },
    {
     "name": "stderr",
     "output_type": "stream",
     "text": [
      " 20%|█▉        | 197/1000 [42:02<2:32:07, 11.37s/it]"
     ]
    },
    {
     "name": "stdout",
     "output_type": "stream",
     "text": [
      "F1 Score: 0.9598208035839283\n",
      "Recall: 0.9559397657557167\n",
      "Accuracy on test: 96.09417528579205%\n",
      "Epoch 198, Loss: 0.0034812545399409314\n"
     ]
    },
    {
     "name": "stderr",
     "output_type": "stream",
     "text": [
      " 20%|█▉        | 198/1000 [42:14<2:32:13, 11.39s/it]"
     ]
    },
    {
     "name": "stdout",
     "output_type": "stream",
     "text": [
      "F1 Score: 0.9624354140483172\n",
      "Recall: 0.9609592861126603\n",
      "Accuracy on test: 96.33913990201415%\n",
      "Epoch 199, Loss: 0.003709160682426401\n"
     ]
    },
    {
     "name": "stderr",
     "output_type": "stream",
     "text": [
      " 20%|█▉        | 199/1000 [42:25<2:31:40, 11.36s/it]"
     ]
    },
    {
     "name": "stdout",
     "output_type": "stream",
     "text": [
      "F1 Score: 0.9609668009445756\n",
      "Recall: 0.9645844952593419\n",
      "Accuracy on test: 96.17583015786609%\n",
      "Epoch 200, Loss: 0.0033205353866872863\n"
     ]
    },
    {
     "name": "stderr",
     "output_type": "stream",
     "text": [
      " 20%|██        | 200/1000 [42:36<2:30:48, 11.31s/it]"
     ]
    },
    {
     "name": "stdout",
     "output_type": "stream",
     "text": [
      "F1 Score: 0.9579621380846325\n",
      "Recall: 0.9595649749023982\n",
      "Accuracy on test: 95.89003810560696%\n",
      "Epoch 201, Loss: 0.0038300572403860986\n"
     ]
    },
    {
     "name": "stderr",
     "output_type": "stream",
     "text": [
      " 20%|██        | 201/1000 [42:48<2:30:45, 11.32s/it]"
     ]
    },
    {
     "name": "stdout",
     "output_type": "stream",
     "text": [
      "F1 Score: 0.9646338067390698\n",
      "Recall: 0.965978806469604\n",
      "Accuracy on test: 96.54327708219924%\n",
      "Epoch 202, Loss: 0.11303085069458062\n"
     ]
    },
    {
     "name": "stderr",
     "output_type": "stream",
     "text": [
      " 20%|██        | 202/1000 [42:59<2:30:32, 11.32s/it]"
     ]
    },
    {
     "name": "stdout",
     "output_type": "stream",
     "text": [
      "F1 Score: 0.9631688672689368\n",
      "Recall: 0.9662576687116564\n",
      "Accuracy on test: 96.39357648339684%\n",
      "Epoch 203, Loss: 0.003064714814947523\n"
     ]
    },
    {
     "name": "stderr",
     "output_type": "stream",
     "text": [
      " 20%|██        | 203/1000 [43:10<2:30:14, 11.31s/it]"
     ]
    },
    {
     "name": "stdout",
     "output_type": "stream",
     "text": [
      "F1 Score: 0.9630662020905923\n",
      "Recall: 0.9634690462911322\n",
      "Accuracy on test: 96.39357648339684%\n",
      "Epoch 204, Loss: 0.002529383582757715\n"
     ]
    },
    {
     "name": "stderr",
     "output_type": "stream",
     "text": [
      " 20%|██        | 204/1000 [43:22<2:30:06, 11.31s/it]"
     ]
    },
    {
     "name": "stdout",
     "output_type": "stream",
     "text": [
      "F1 Score: 0.9633129516397999\n",
      "Recall: 0.9665365309537088\n",
      "Accuracy on test: 96.40718562874252%\n",
      "Epoch 205, Loss: 0.0031718252388363115\n"
     ]
    },
    {
     "name": "stderr",
     "output_type": "stream",
     "text": [
      " 20%|██        | 205/1000 [43:33<2:29:35, 11.29s/it]"
     ]
    },
    {
     "name": "stdout",
     "output_type": "stream",
     "text": [
      "F1 Score: 0.9617577527464887\n",
      "Recall: 0.9643056330172894\n",
      "Accuracy on test: 96.25748502994011%\n",
      "Epoch 206, Loss: 0.0038960163893099653\n"
     ]
    },
    {
     "name": "stderr",
     "output_type": "stream",
     "text": [
      " 21%|██        | 206/1000 [43:44<2:29:08, 11.27s/it]"
     ]
    },
    {
     "name": "stdout",
     "output_type": "stream",
     "text": [
      "F1 Score: 0.9605555555555556\n",
      "Recall: 0.9643056330172894\n",
      "Accuracy on test: 96.13500272182907%\n",
      "Epoch 207, Loss: 0.002327118580844557\n"
     ]
    },
    {
     "name": "stderr",
     "output_type": "stream",
     "text": [
      " 21%|██        | 207/1000 [43:55<2:28:23, 11.23s/it]"
     ]
    },
    {
     "name": "stdout",
     "output_type": "stream",
     "text": [
      "F1 Score: 0.9624269412747009\n",
      "Recall: 0.9643056330172894\n",
      "Accuracy on test: 96.32553075666847%\n",
      "Epoch 208, Loss: 0.002489233186086336\n"
     ]
    },
    {
     "name": "stderr",
     "output_type": "stream",
     "text": [
      " 21%|██        | 208/1000 [44:06<2:28:19, 11.24s/it]"
     ]
    },
    {
     "name": "stdout",
     "output_type": "stream",
     "text": [
      "F1 Score: 0.9630764943569736\n",
      "Recall: 0.9637479085331846\n",
      "Accuracy on test: 96.39357648339684%\n",
      "Epoch 209, Loss: 0.003333959577392544\n"
     ]
    },
    {
     "name": "stderr",
     "output_type": "stream",
     "text": [
      " 21%|██        | 209/1000 [44:18<2:28:47, 11.29s/it]"
     ]
    },
    {
     "name": "stdout",
     "output_type": "stream",
     "text": [
      "F1 Score: 0.9629526462395543\n",
      "Recall: 0.964026770775237\n",
      "Accuracy on test: 96.37996733805117%\n",
      "Epoch 210, Loss: 0.002307308233740395\n"
     ]
    },
    {
     "name": "stderr",
     "output_type": "stream",
     "text": [
      " 21%|██        | 210/1000 [44:29<2:30:08, 11.40s/it]"
     ]
    },
    {
     "name": "stdout",
     "output_type": "stream",
     "text": [
      "F1 Score: 0.9633653712216186\n",
      "Recall: 0.9643056330172894\n",
      "Accuracy on test: 96.4207947740882%\n",
      "Epoch 211, Loss: 0.003376876405641467\n"
     ]
    },
    {
     "name": "stderr",
     "output_type": "stream",
     "text": [
      " 21%|██        | 211/1000 [44:41<2:29:32, 11.37s/it]"
     ]
    },
    {
     "name": "stdout",
     "output_type": "stream",
     "text": [
      "F1 Score: 0.9641612048528797\n",
      "Recall: 0.964026770775237\n",
      "Accuracy on test: 96.50244964616222%\n",
      "Epoch 212, Loss: 0.0026066402611436587\n"
     ]
    },
    {
     "name": "stderr",
     "output_type": "stream",
     "text": [
      " 21%|██        | 212/1000 [44:52<2:29:44, 11.40s/it]"
     ]
    },
    {
     "name": "stdout",
     "output_type": "stream",
     "text": [
      "F1 Score: 0.9594651065608023\n",
      "Recall: 0.9604015616285555\n",
      "Accuracy on test: 96.03973870440936%\n",
      "Epoch 213, Loss: 0.002963291029047231\n"
     ]
    },
    {
     "name": "stderr",
     "output_type": "stream",
     "text": [
      " 21%|██▏       | 213/1000 [45:04<2:30:48, 11.50s/it]"
     ]
    },
    {
     "name": "stdout",
     "output_type": "stream",
     "text": [
      "F1 Score: 0.9612056935528887\n",
      "Recall: 0.9604015616285555\n",
      "Accuracy on test: 96.2166575939031%\n",
      "Epoch 214, Loss: 0.08811556909628132\n"
     ]
    },
    {
     "name": "stderr",
     "output_type": "stream",
     "text": [
      " 21%|██▏       | 214/1000 [45:15<2:30:30, 11.49s/it]"
     ]
    },
    {
     "name": "stdout",
     "output_type": "stream",
     "text": [
      "F1 Score: 0.9641612048528797\n",
      "Recall: 0.964026770775237\n",
      "Accuracy on test: 96.50244964616222%\n",
      "Epoch 215, Loss: 0.0027225023269673567\n"
     ]
    },
    {
     "name": "stderr",
     "output_type": "stream",
     "text": [
      " 22%|██▏       | 215/1000 [45:27<2:30:57, 11.54s/it]"
     ]
    },
    {
     "name": "stdout",
     "output_type": "stream",
     "text": [
      "F1 Score: 0.9631791024037794\n",
      "Recall: 0.9665365309537088\n",
      "Accuracy on test: 96.39357648339684%\n",
      "Epoch 216, Loss: 0.0034369423997186064\n"
     ]
    },
    {
     "name": "stderr",
     "output_type": "stream",
     "text": [
      " 22%|██▏       | 216/1000 [45:39<2:32:15, 11.65s/it]"
     ]
    },
    {
     "name": "stdout",
     "output_type": "stream",
     "text": [
      "F1 Score: 0.9631586264423745\n",
      "Recall: 0.965978806469604\n",
      "Accuracy on test: 96.39357648339684%\n",
      "Epoch 217, Loss: 0.002494254594247373\n"
     ]
    },
    {
     "name": "stderr",
     "output_type": "stream",
     "text": [
      " 22%|██▏       | 217/1000 [45:51<2:33:10, 11.74s/it]"
     ]
    },
    {
     "name": "stdout",
     "output_type": "stream",
     "text": [
      "F1 Score: 0.9605116796440489\n",
      "Recall: 0.9631901840490797\n",
      "Accuracy on test: 96.13500272182907%\n",
      "Epoch 218, Loss: 0.0019899638703108117\n"
     ]
    },
    {
     "name": "stderr",
     "output_type": "stream",
     "text": [
      " 22%|██▏       | 218/1000 [46:02<2:30:56, 11.58s/it]"
     ]
    },
    {
     "name": "stdout",
     "output_type": "stream",
     "text": [
      "F1 Score: 0.962819089900111\n",
      "Recall: 0.9676519799219185\n",
      "Accuracy on test: 96.35274904735982%\n",
      "Epoch 219, Loss: 0.002123024897683417\n"
     ]
    },
    {
     "name": "stderr",
     "output_type": "stream",
     "text": [
      " 22%|██▏       | 219/1000 [46:13<2:29:11, 11.46s/it]"
     ]
    },
    {
     "name": "stdout",
     "output_type": "stream",
     "text": [
      "F1 Score: 0.9619618224885049\n",
      "Recall: 0.9626324595649749\n",
      "Accuracy on test: 96.28470332063146%\n",
      "Epoch 220, Loss: 0.02196713648745967\n"
     ]
    },
    {
     "name": "stderr",
     "output_type": "stream",
     "text": [
      " 22%|██▏       | 220/1000 [46:25<2:28:57, 11.46s/it]"
     ]
    },
    {
     "name": "stdout",
     "output_type": "stream",
     "text": [
      "F1 Score: 0.9649610678531702\n",
      "Recall: 0.9676519799219185\n",
      "Accuracy on test: 96.57049537289059%\n",
      "Epoch 221, Loss: 0.0025030351070555574\n"
     ]
    },
    {
     "name": "stderr",
     "output_type": "stream",
     "text": [
      " 22%|██▏       | 221/1000 [46:36<2:28:52, 11.47s/it]"
     ]
    },
    {
     "name": "stdout",
     "output_type": "stream",
     "text": [
      "F1 Score: 0.9602787456445993\n",
      "Recall: 0.9606804238706079\n",
      "Accuracy on test: 96.1213935764834%\n",
      "Epoch 222, Loss: 0.0027825066406797342\n"
     ]
    },
    {
     "name": "stderr",
     "output_type": "stream",
     "text": [
      " 22%|██▏       | 222/1000 [46:48<2:28:22, 11.44s/it]"
     ]
    },
    {
     "name": "stdout",
     "output_type": "stream",
     "text": [
      "F1 Score: 0.963189331851646\n",
      "Recall: 0.9668153931957613\n",
      "Accuracy on test: 96.39357648339684%\n"
     ]
    },
    {
     "name": "stderr",
     "output_type": "stream",
     "text": [
      " 22%|██▏       | 222/1000 [46:52<2:44:15, 12.67s/it]\n"
     ]
    },
    {
     "ename": "KeyboardInterrupt",
     "evalue": "",
     "output_type": "error",
     "traceback": [
      "\u001b[0;31m---------------------------------------------------------------------------\u001b[0m",
      "\u001b[0;31mKeyboardInterrupt\u001b[0m                         Traceback (most recent call last)",
      "Cell \u001b[0;32mIn[240], line 9\u001b[0m\n\u001b[1;32m      7\u001b[0m \u001b[38;5;28;01mfor\u001b[39;00m epoch \u001b[38;5;129;01min\u001b[39;00m tqdm(\u001b[38;5;28mrange\u001b[39m(num_epochs)):\n\u001b[1;32m      8\u001b[0m     running_loss \u001b[38;5;241m=\u001b[39m \u001b[38;5;241m0.0\u001b[39m\n\u001b[0;32m----> 9\u001b[0m \u001b[43m    \u001b[49m\u001b[38;5;28;43;01mfor\u001b[39;49;00m\u001b[43m \u001b[49m\u001b[43minputs\u001b[49m\u001b[43m,\u001b[49m\u001b[43m \u001b[49m\u001b[43mlabels\u001b[49m\u001b[43m \u001b[49m\u001b[38;5;129;43;01min\u001b[39;49;00m\u001b[43m \u001b[49m\u001b[43mdata_loaderr\u001b[49m\u001b[43m:\u001b[49m\n\u001b[1;32m     10\u001b[0m \u001b[43m        \u001b[49m\u001b[38;5;66;43;03m# Zero the parameter gradients\u001b[39;49;00m\n\u001b[1;32m     11\u001b[0m \u001b[43m        \u001b[49m\u001b[43moptimizer\u001b[49m\u001b[38;5;241;43m.\u001b[39;49m\u001b[43mzero_grad\u001b[49m\u001b[43m(\u001b[49m\u001b[43m)\u001b[49m\n\u001b[1;32m     13\u001b[0m \u001b[43m        \u001b[49m\u001b[38;5;66;43;03m# Forward pass\u001b[39;49;00m\n",
      "File \u001b[0;32m/usr/lib/python3.12/site-packages/torch/utils/data/dataloader.py:631\u001b[0m, in \u001b[0;36m_BaseDataLoaderIter.__next__\u001b[0;34m(self)\u001b[0m\n\u001b[1;32m    628\u001b[0m \u001b[38;5;28;01mif\u001b[39;00m \u001b[38;5;28mself\u001b[39m\u001b[38;5;241m.\u001b[39m_sampler_iter \u001b[38;5;129;01mis\u001b[39;00m \u001b[38;5;28;01mNone\u001b[39;00m:\n\u001b[1;32m    629\u001b[0m     \u001b[38;5;66;03m# TODO(https://github.com/pytorch/pytorch/issues/76750)\u001b[39;00m\n\u001b[1;32m    630\u001b[0m     \u001b[38;5;28mself\u001b[39m\u001b[38;5;241m.\u001b[39m_reset()  \u001b[38;5;66;03m# type: ignore[call-arg]\u001b[39;00m\n\u001b[0;32m--> 631\u001b[0m data \u001b[38;5;241m=\u001b[39m \u001b[38;5;28;43mself\u001b[39;49m\u001b[38;5;241;43m.\u001b[39;49m\u001b[43m_next_data\u001b[49m\u001b[43m(\u001b[49m\u001b[43m)\u001b[49m\n\u001b[1;32m    632\u001b[0m \u001b[38;5;28mself\u001b[39m\u001b[38;5;241m.\u001b[39m_num_yielded \u001b[38;5;241m+\u001b[39m\u001b[38;5;241m=\u001b[39m \u001b[38;5;241m1\u001b[39m\n\u001b[1;32m    633\u001b[0m \u001b[38;5;28;01mif\u001b[39;00m \u001b[38;5;28mself\u001b[39m\u001b[38;5;241m.\u001b[39m_dataset_kind \u001b[38;5;241m==\u001b[39m _DatasetKind\u001b[38;5;241m.\u001b[39mIterable \u001b[38;5;129;01mand\u001b[39;00m \\\n\u001b[1;32m    634\u001b[0m         \u001b[38;5;28mself\u001b[39m\u001b[38;5;241m.\u001b[39m_IterableDataset_len_called \u001b[38;5;129;01mis\u001b[39;00m \u001b[38;5;129;01mnot\u001b[39;00m \u001b[38;5;28;01mNone\u001b[39;00m \u001b[38;5;129;01mand\u001b[39;00m \\\n\u001b[1;32m    635\u001b[0m         \u001b[38;5;28mself\u001b[39m\u001b[38;5;241m.\u001b[39m_num_yielded \u001b[38;5;241m>\u001b[39m \u001b[38;5;28mself\u001b[39m\u001b[38;5;241m.\u001b[39m_IterableDataset_len_called:\n",
      "File \u001b[0;32m/usr/lib/python3.12/site-packages/torch/utils/data/dataloader.py:675\u001b[0m, in \u001b[0;36m_SingleProcessDataLoaderIter._next_data\u001b[0;34m(self)\u001b[0m\n\u001b[1;32m    673\u001b[0m \u001b[38;5;28;01mdef\u001b[39;00m \u001b[38;5;21m_next_data\u001b[39m(\u001b[38;5;28mself\u001b[39m):\n\u001b[1;32m    674\u001b[0m     index \u001b[38;5;241m=\u001b[39m \u001b[38;5;28mself\u001b[39m\u001b[38;5;241m.\u001b[39m_next_index()  \u001b[38;5;66;03m# may raise StopIteration\u001b[39;00m\n\u001b[0;32m--> 675\u001b[0m     data \u001b[38;5;241m=\u001b[39m \u001b[38;5;28;43mself\u001b[39;49m\u001b[38;5;241;43m.\u001b[39;49m\u001b[43m_dataset_fetcher\u001b[49m\u001b[38;5;241;43m.\u001b[39;49m\u001b[43mfetch\u001b[49m\u001b[43m(\u001b[49m\u001b[43mindex\u001b[49m\u001b[43m)\u001b[49m  \u001b[38;5;66;03m# may raise StopIteration\u001b[39;00m\n\u001b[1;32m    676\u001b[0m     \u001b[38;5;28;01mif\u001b[39;00m \u001b[38;5;28mself\u001b[39m\u001b[38;5;241m.\u001b[39m_pin_memory:\n\u001b[1;32m    677\u001b[0m         data \u001b[38;5;241m=\u001b[39m _utils\u001b[38;5;241m.\u001b[39mpin_memory\u001b[38;5;241m.\u001b[39mpin_memory(data, \u001b[38;5;28mself\u001b[39m\u001b[38;5;241m.\u001b[39m_pin_memory_device)\n",
      "File \u001b[0;32m/usr/lib/python3.12/site-packages/torch/utils/data/_utils/fetch.py:51\u001b[0m, in \u001b[0;36m_MapDatasetFetcher.fetch\u001b[0;34m(self, possibly_batched_index)\u001b[0m\n\u001b[1;32m     49\u001b[0m         data \u001b[38;5;241m=\u001b[39m \u001b[38;5;28mself\u001b[39m\u001b[38;5;241m.\u001b[39mdataset\u001b[38;5;241m.\u001b[39m__getitems__(possibly_batched_index)\n\u001b[1;32m     50\u001b[0m     \u001b[38;5;28;01melse\u001b[39;00m:\n\u001b[0;32m---> 51\u001b[0m         data \u001b[38;5;241m=\u001b[39m [\u001b[38;5;28;43mself\u001b[39;49m\u001b[38;5;241;43m.\u001b[39;49m\u001b[43mdataset\u001b[49m\u001b[43m[\u001b[49m\u001b[43midx\u001b[49m\u001b[43m]\u001b[49m \u001b[38;5;28;01mfor\u001b[39;00m idx \u001b[38;5;129;01min\u001b[39;00m possibly_batched_index]\n\u001b[1;32m     52\u001b[0m \u001b[38;5;28;01melse\u001b[39;00m:\n\u001b[1;32m     53\u001b[0m     data \u001b[38;5;241m=\u001b[39m \u001b[38;5;28mself\u001b[39m\u001b[38;5;241m.\u001b[39mdataset[possibly_batched_index]\n",
      "Cell \u001b[0;32mIn[90], line 12\u001b[0m, in \u001b[0;36mNNDataset.__getitem__\u001b[0;34m(self, index)\u001b[0m\n\u001b[1;32m     10\u001b[0m \u001b[38;5;28;01mdef\u001b[39;00m \u001b[38;5;21m__getitem__\u001b[39m(\u001b[38;5;28mself\u001b[39m, index):\n\u001b[1;32m     11\u001b[0m     dat \u001b[38;5;241m=\u001b[39m \u001b[38;5;28mself\u001b[39m\u001b[38;5;241m.\u001b[39mdata[index, :]\n\u001b[0;32m---> 12\u001b[0m     x \u001b[38;5;241m=\u001b[39m \u001b[43mtorch\u001b[49m\u001b[38;5;241;43m.\u001b[39;49m\u001b[43mtensor\u001b[49m\u001b[43m(\u001b[49m\u001b[43mdat\u001b[49m\u001b[43m,\u001b[49m\u001b[43m \u001b[49m\u001b[43mdtype\u001b[49m\u001b[38;5;241;43m=\u001b[39;49m\u001b[43mtorch\u001b[49m\u001b[38;5;241;43m.\u001b[39;49m\u001b[43mfloat32\u001b[49m\u001b[43m,\u001b[49m\u001b[43m \u001b[49m\u001b[43mdevice\u001b[49m\u001b[38;5;241;43m=\u001b[39;49m\u001b[43mdevice\u001b[49m\u001b[43m)\u001b[49m\n\u001b[1;32m     13\u001b[0m     y \u001b[38;5;241m=\u001b[39m torch\u001b[38;5;241m.\u001b[39mtensor(\u001b[38;5;241m0\u001b[39m \u001b[38;5;28;01mif\u001b[39;00m \u001b[38;5;28mself\u001b[39m\u001b[38;5;241m.\u001b[39midx[index] \u001b[38;5;129;01min\u001b[39;00m \u001b[38;5;28mself\u001b[39m\u001b[38;5;241m.\u001b[39mdata_norm \u001b[38;5;28;01melse\u001b[39;00m \u001b[38;5;241m1\u001b[39m,  dtype\u001b[38;5;241m=\u001b[39mtorch\u001b[38;5;241m.\u001b[39mfloat32, device\u001b[38;5;241m=\u001b[39mdevice)\n\u001b[1;32m     14\u001b[0m     \u001b[38;5;28;01mreturn\u001b[39;00m x, y\n",
      "\u001b[0;31mKeyboardInterrupt\u001b[0m: "
     ]
    }
   ],
   "source": [
    "total_epochs = 0\n",
    "# Training loop\n",
    "for segment in train_config:\n",
    "    num_epochs = segment[0]\n",
    "    data_loaderr = segment[1]\n",
    "    optimizer = segment[2]\n",
    "    for epoch in tqdm(range(num_epochs)):\n",
    "        running_loss = 0.0\n",
    "        for inputs, labels in data_loaderr:\n",
    "            # Zero the parameter gradients\n",
    "            optimizer.zero_grad()\n",
    "\n",
    "            # Forward pass\n",
    "            outputs = model(inputs)\n",
    "            # Compute loss\n",
    "            loss = criterion(outputs[:, 0], labels)\n",
    "\n",
    "            # Backward pass and optimize\n",
    "            loss.backward()\n",
    "\n",
    "            # Clip gradients\n",
    "            nn.utils.clip_grad_norm_(model.parameters(), 1.0)\n",
    "\n",
    "            optimizer.step()\n",
    "\n",
    "            # Print statistics\n",
    "            running_loss += loss.item()\n",
    "\n",
    "        writer.add_scalar(\"Loss/train\", running_loss/len(data_loader), epoch)\n",
    "        print(f\"Epoch {epoch+1}, Loss: {running_loss/len(data_loader)}\", flush=True)\n",
    "        measure_model_log(writer, model, test_loader, total_epochs)\n",
    "        writer.flush()\n",
    "        total_epochs += 1"
   ]
  },
  {
   "cell_type": "code",
   "execution_count": 137,
   "metadata": {},
   "outputs": [],
   "source": []
  },
  {
   "cell_type": "code",
   "execution_count": null,
   "metadata": {},
   "outputs": [],
   "source": []
  },
  {
   "cell_type": "code",
   "execution_count": 86,
   "metadata": {},
   "outputs": [
    {
     "name": "stdout",
     "output_type": "stream",
     "text": [
      "F1 Score: 0.9593267882187938\n",
      "Recall: 0.9534429885698356\n",
      "Accuracy of the network on the 7348 test images: 97.72727272727273%\n"
     ]
    },
    {
     "data": {
      "image/png": "[encoded data removed]",
      "text/plain": [
       "<Figure size 640x480 with 1 Axes>"
      ]
     },
     "metadata": {},
     "output_type": "display_data"
    },
    {
     "data": {
      "image/png": "[encoded data removed]",
      "text/plain": [
       "<Figure size 1200x700 with 2 Axes>"
      ]
     },
     "metadata": {},
     "output_type": "display_data"
    }
   ],
   "source": [
    "measure_model(model, test_loader)"
   ]
  },
  {
   "cell_type": "code",
   "execution_count": 87,
   "metadata": {},
   "outputs": [
    {
     "name": "stdout",
     "output_type": "stream",
     "text": [
      "F1 Score: 0.9090909090909091\n",
      "Recall: 1.0\n",
      "Accuracy of the network on the 88 test images: 100.0%\n"
     ]
    },
    {
     "data": {
      "image/png": "[encoded data removed]",
      "text/plain": [
       "<Figure size 640x480 with 1 Axes>"
      ]
     },
     "metadata": {},
     "output_type": "display_data"
    },
    {
     "data": {
      "image/png": "[encoded data removed]",
      "text/plain": [
       "<Figure size 1200x700 with 2 Axes>"
      ]
     },
     "metadata": {},
     "output_type": "display_data"
    }
   ],
   "source": [
    "measure_model(model, test_loader_smart)"
   ]
  },
  {
   "cell_type": "code",
   "execution_count": 88,
   "metadata": {},
   "outputs": [
    {
     "name": "stdout",
     "output_type": "stream",
     "text": [
      "F1 Score: 0.9596705481397331\n",
      "Recall: 0.9526360304482662\n",
      "Accuracy of the network on the 7260 test images: 97.68595041322314%\n"
     ]
    },
    {
     "data": {
      "image/png": "[encoded data removed]",
      "text/plain": [
       "<Figure size 640x480 with 1 Axes>"
      ]
     },
     "metadata": {},
     "output_type": "display_data"
    },
    {
     "data": {
      "image/png": "[encoded data removed]",
      "text/plain": [
       "<Figure size 1200x700 with 2 Axes>"
      ]
     },
     "metadata": {},
     "output_type": "display_data"
    }
   ],
   "source": [
    "\n",
    "measure_model(model, test_loader_drop)"
   ]
  },
  {
   "cell_type": "code",
   "execution_count": 241,
   "metadata": {},
   "outputs": [],
   "source": [
    "torch.save(model.state_dict(), \"Model_with_smart_mcf.checkpoint\")"
   ]
  },
  {
   "cell_type": "code",
   "execution_count": null,
   "metadata": {},
   "outputs": [],
   "source": []
  }
 ],
 "metadata": {
  "kernelspec": {
   "display_name": "Python 3",
   "language": "python",
   "name": "python3"
  },
  "language_info": {
   "codemirror_mode": {
    "name": "ipython",
    "version": 3
   },
   "file_extension": ".py",
   "mimetype": "text/x-python",
   "name": "python",
   "nbconvert_exporter": "python",
   "pygments_lexer": "ipython3",
   "version": "3.12.3"
  }
 },
 "nbformat": 4,
 "nbformat_minor": 2
}

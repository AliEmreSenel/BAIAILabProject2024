{
 "cells": [
  {
   "cell_type": "code",
   "execution_count": 65,
   "metadata": {},
   "outputs": [],
   "source": [
    "#Alberto wrote this\n",
    "import sys\n",
    "import sklearn\n",
    "import pandas as pd\n",
    "import numpy as np\n",
    "import matplotlib.pyplot as plt             #visualisation\n",
    "import seaborn as sns   #visualisation\n",
    "%matplotlib inline     \n",
    "sns.set(color_codes=True)\n",
    "#[....] for you to add"
   ]
  },
  {
   "cell_type": "code",
   "execution_count": null,
   "metadata": {},
   "outputs": [],
   "source": []
  },
  {
   "cell_type": "code",
   "execution_count": 78,
   "metadata": {},
   "outputs": [],
   "source": [
    "df_meta = pd.read_csv(\"Data/SmartSeq/MCF7_SmartS_MetaData.tsv\",delimiter=\"\\t\",engine='python',index_col=0)\n",
    "df = pd.read_csv(\"Data/SmartSeq/MCF7_SmartS_Unfiltered_Data.txt\",delimiter=\"\\ \",engine='python',index_col=0).T\n",
    "dff = pd.read_csv(\"Data/SmartSeq/MCF7_SmartS_Filtered_Data.txt\",delimiter=\"\\ \",engine='python',index_col=0).T\n",
    "dffn = pd.read_csv(\"Data/SmartSeq/MCF7_SmartS_Filtered_Normalised_3000_Data_train.txt\",delimiter=\"\\ \",engine='python',index_col=0).T\n",
    "\n",
    "df2_meta = pd.read_csv(\"Data/SmartSeq/HCC1806_SmartS_MetaData.tsv\",delimiter=\"\\t\",engine='python',index_col=0)\n",
    "df2 = pd.read_csv(\"Data/SmartSeq/HCC1806_SmartS_Unfiltered_Data.txt\",delimiter=\"\\ \",engine='python',index_col=0).T\n",
    "df2f = pd.read_csv(\"Data/SmartSeq/HCC1806_SmartS_Filtered_Data.txt\",delimiter=\"\\ \",engine='python',index_col=0).T\n",
    "df2fn = pd.read_csv(\"Data/SmartSeq/HCC1806_SmartS_Filtered_Normalised_3000_Data_train.txt\",delimiter=\"\\ \",engine='python',index_col=0).T"
   ]
  },
  {
   "cell_type": "code",
   "execution_count": 79,
   "metadata": {},
   "outputs": [],
   "source": [
    "def extract_cell_name(x):\n",
    "    y = x.split(\"_\")\n",
    "    return y[len(y)-2]\n",
    "\n",
    "def get_cell_name(file_name):\n",
    "    return extract_cell_name(file_name)\n",
    "\n",
    "def convert_indexes_to_cell_names(df):\n",
    "    df.index = [get_cell_name(x) for x in df.index]\n",
    "    return df\n",
    "\n",
    "def get_cell_hypo_or_norm(cell_name):\n",
    "    return df_meta[df_meta[\"Cell name\"]==cell_name][\"Condition\"].values[0]\n",
    "\n",
    "def seperate_hypo_and_norm(df):\n",
    "    df_hypo = df[df.index.map(lambda x: get_cell_hypo_or_norm(x)==\"Hypo\")]\n",
    "    df_norm = df[df.index.map(lambda x: get_cell_hypo_or_norm(x)==\"Norm\")]\n",
    "    return df_hypo, df_norm\n",
    "\n",
    "def process_df(df):\n",
    "    df = convert_indexes_to_cell_names(df)\n",
    "    df_hypo, df_norm = seperate_hypo_and_norm(df)\n",
    "    return df, df_hypo, df_norm"
   ]
  },
  {
   "cell_type": "code",
   "execution_count": 80,
   "metadata": {},
   "outputs": [],
   "source": [
    "df, df_hypo, df_norm = process_df(df.copy())\n",
    "dff, dff_hypo, dff_norm = process_df(dff.copy())\n",
    "dffn, dffn_hypo, dffn_norm = process_df(dffn.copy())\n",
    "df2, df2_hypo, df2_norm = process_df(df2.copy())\n",
    "df2f, df2f_hypo, df2f_norm = process_df(df2f.copy())\n",
    "df2fn, df2fn_hypo, df2fn_norm = process_df(df2fn.copy())"
   ]
  },
  {
   "cell_type": "code",
   "execution_count": null,
   "metadata": {},
   "outputs": [],
   "source": [
    "\n"
   ]
  },
  {
   "cell_type": "code",
   "execution_count": 69,
   "metadata": {},
   "outputs": [],
   "source": [
    "\"\"\" #no need to run this, it was only for plotting\n",
    "#change Condition: set Hypo to 1 and Norm to 0\n",
    "df_meta['Condition'] = df_meta['Condition'].replace(['Hypo'], 1) \n",
    "df_meta['Condition'] = df_meta['Condition'].replace(['Norm'], 0)\n",
    " \"\"\"\n",
    "#replace index with Cell name\n",
    "\n",
    "df_meta.index = df_meta['Cell name']\n",
    "\n"
   ]
  },
  {
   "cell_type": "code",
   "execution_count": 70,
   "metadata": {},
   "outputs": [
    {
     "data": {
      "text/html": [
       "<div>\n",
       "<style scoped>\n",
       "    .dataframe tbody tr th:only-of-type {\n",
       "        vertical-align: middle;\n",
       "    }\n",
       "\n",
       "    .dataframe tbody tr th {\n",
       "        vertical-align: top;\n",
       "    }\n",
       "\n",
       "    .dataframe thead th {\n",
       "        text-align: right;\n",
       "    }\n",
       "</style>\n",
       "<table border=\"1\" class=\"dataframe\">\n",
       "  <thead>\n",
       "    <tr style=\"text-align: right;\">\n",
       "      <th></th>\n",
       "      <th>Cell Line</th>\n",
       "      <th>Lane</th>\n",
       "      <th>Pos</th>\n",
       "      <th>Condition</th>\n",
       "      <th>Hours</th>\n",
       "      <th>Cell name</th>\n",
       "      <th>PreprocessingTag</th>\n",
       "      <th>ProcessingComments</th>\n",
       "    </tr>\n",
       "    <tr>\n",
       "      <th>Cell name</th>\n",
       "      <th></th>\n",
       "      <th></th>\n",
       "      <th></th>\n",
       "      <th></th>\n",
       "      <th></th>\n",
       "      <th></th>\n",
       "      <th></th>\n",
       "      <th></th>\n",
       "    </tr>\n",
       "  </thead>\n",
       "  <tbody>\n",
       "    <tr>\n",
       "      <th>S28</th>\n",
       "      <td>MCF7</td>\n",
       "      <td>output.STAR.1</td>\n",
       "      <td>A10</td>\n",
       "      <td>Hypo</td>\n",
       "      <td>72</td>\n",
       "      <td>S28</td>\n",
       "      <td>Aligned.sortedByCoord.out.bam</td>\n",
       "      <td>STAR,FeatureCounts</td>\n",
       "    </tr>\n",
       "    <tr>\n",
       "      <th>S29</th>\n",
       "      <td>MCF7</td>\n",
       "      <td>output.STAR.1</td>\n",
       "      <td>A11</td>\n",
       "      <td>Hypo</td>\n",
       "      <td>72</td>\n",
       "      <td>S29</td>\n",
       "      <td>Aligned.sortedByCoord.out.bam</td>\n",
       "      <td>STAR,FeatureCounts</td>\n",
       "    </tr>\n",
       "    <tr>\n",
       "      <th>S30</th>\n",
       "      <td>MCF7</td>\n",
       "      <td>output.STAR.1</td>\n",
       "      <td>A12</td>\n",
       "      <td>Hypo</td>\n",
       "      <td>72</td>\n",
       "      <td>S30</td>\n",
       "      <td>Aligned.sortedByCoord.out.bam</td>\n",
       "      <td>STAR,FeatureCounts</td>\n",
       "    </tr>\n",
       "    <tr>\n",
       "      <th>S1</th>\n",
       "      <td>MCF7</td>\n",
       "      <td>output.STAR.1</td>\n",
       "      <td>A1</td>\n",
       "      <td>Norm</td>\n",
       "      <td>72</td>\n",
       "      <td>S1</td>\n",
       "      <td>Aligned.sortedByCoord.out.bam</td>\n",
       "      <td>STAR,FeatureCounts</td>\n",
       "    </tr>\n",
       "    <tr>\n",
       "      <th>S2</th>\n",
       "      <td>MCF7</td>\n",
       "      <td>output.STAR.1</td>\n",
       "      <td>A2</td>\n",
       "      <td>Norm</td>\n",
       "      <td>72</td>\n",
       "      <td>S2</td>\n",
       "      <td>Aligned.sortedByCoord.out.bam</td>\n",
       "      <td>STAR,FeatureCounts</td>\n",
       "    </tr>\n",
       "    <tr>\n",
       "      <th>...</th>\n",
       "      <td>...</td>\n",
       "      <td>...</td>\n",
       "      <td>...</td>\n",
       "      <td>...</td>\n",
       "      <td>...</td>\n",
       "      <td>...</td>\n",
       "      <td>...</td>\n",
       "      <td>...</td>\n",
       "    </tr>\n",
       "    <tr>\n",
       "      <th>S359</th>\n",
       "      <td>MCF7</td>\n",
       "      <td>output.STAR.4</td>\n",
       "      <td>H5</td>\n",
       "      <td>Norm</td>\n",
       "      <td>72</td>\n",
       "      <td>S359</td>\n",
       "      <td>Aligned.sortedByCoord.out.bam</td>\n",
       "      <td>STAR,FeatureCounts</td>\n",
       "    </tr>\n",
       "    <tr>\n",
       "      <th>S360</th>\n",
       "      <td>MCF7</td>\n",
       "      <td>output.STAR.4</td>\n",
       "      <td>H6</td>\n",
       "      <td>Norm</td>\n",
       "      <td>72</td>\n",
       "      <td>S360</td>\n",
       "      <td>Aligned.sortedByCoord.out.bam</td>\n",
       "      <td>STAR,FeatureCounts</td>\n",
       "    </tr>\n",
       "    <tr>\n",
       "      <th>S379</th>\n",
       "      <td>MCF7</td>\n",
       "      <td>output.STAR.4</td>\n",
       "      <td>H7</td>\n",
       "      <td>Hypo</td>\n",
       "      <td>72</td>\n",
       "      <td>S379</td>\n",
       "      <td>Aligned.sortedByCoord.out.bam</td>\n",
       "      <td>STAR,FeatureCounts</td>\n",
       "    </tr>\n",
       "    <tr>\n",
       "      <th>S380</th>\n",
       "      <td>MCF7</td>\n",
       "      <td>output.STAR.4</td>\n",
       "      <td>H8</td>\n",
       "      <td>Hypo</td>\n",
       "      <td>72</td>\n",
       "      <td>S380</td>\n",
       "      <td>Aligned.sortedByCoord.out.bam</td>\n",
       "      <td>STAR,FeatureCounts</td>\n",
       "    </tr>\n",
       "    <tr>\n",
       "      <th>S381</th>\n",
       "      <td>MCF7</td>\n",
       "      <td>output.STAR.4</td>\n",
       "      <td>H9</td>\n",
       "      <td>Hypo</td>\n",
       "      <td>72</td>\n",
       "      <td>S381</td>\n",
       "      <td>Aligned.sortedByCoord.out.bam</td>\n",
       "      <td>STAR,FeatureCounts</td>\n",
       "    </tr>\n",
       "  </tbody>\n",
       "</table>\n",
       "<p>383 rows × 8 columns</p>\n",
       "</div>"
      ],
      "text/plain": [
       "          Cell Line           Lane  Pos Condition  Hours Cell name  \\\n",
       "Cell name                                                            \n",
       "S28            MCF7  output.STAR.1  A10      Hypo     72       S28   \n",
       "S29            MCF7  output.STAR.1  A11      Hypo     72       S29   \n",
       "S30            MCF7  output.STAR.1  A12      Hypo     72       S30   \n",
       "S1             MCF7  output.STAR.1   A1      Norm     72        S1   \n",
       "S2             MCF7  output.STAR.1   A2      Norm     72        S2   \n",
       "...             ...            ...  ...       ...    ...       ...   \n",
       "S359           MCF7  output.STAR.4   H5      Norm     72      S359   \n",
       "S360           MCF7  output.STAR.4   H6      Norm     72      S360   \n",
       "S379           MCF7  output.STAR.4   H7      Hypo     72      S379   \n",
       "S380           MCF7  output.STAR.4   H8      Hypo     72      S380   \n",
       "S381           MCF7  output.STAR.4   H9      Hypo     72      S381   \n",
       "\n",
       "                        PreprocessingTag  ProcessingComments  \n",
       "Cell name                                                     \n",
       "S28        Aligned.sortedByCoord.out.bam  STAR,FeatureCounts  \n",
       "S29        Aligned.sortedByCoord.out.bam  STAR,FeatureCounts  \n",
       "S30        Aligned.sortedByCoord.out.bam  STAR,FeatureCounts  \n",
       "S1         Aligned.sortedByCoord.out.bam  STAR,FeatureCounts  \n",
       "S2         Aligned.sortedByCoord.out.bam  STAR,FeatureCounts  \n",
       "...                                  ...                 ...  \n",
       "S359       Aligned.sortedByCoord.out.bam  STAR,FeatureCounts  \n",
       "S360       Aligned.sortedByCoord.out.bam  STAR,FeatureCounts  \n",
       "S379       Aligned.sortedByCoord.out.bam  STAR,FeatureCounts  \n",
       "S380       Aligned.sortedByCoord.out.bam  STAR,FeatureCounts  \n",
       "S381       Aligned.sortedByCoord.out.bam  STAR,FeatureCounts  \n",
       "\n",
       "[383 rows x 8 columns]"
      ]
     },
     "execution_count": 70,
     "metadata": {},
     "output_type": "execute_result"
    }
   ],
   "source": [
    "df_meta"
   ]
  },
  {
   "cell_type": "code",
   "execution_count": 71,
   "metadata": {},
   "outputs": [
    {
     "data": {
      "text/html": [
       "<div>\n",
       "<style scoped>\n",
       "    .dataframe tbody tr th:only-of-type {\n",
       "        vertical-align: middle;\n",
       "    }\n",
       "\n",
       "    .dataframe tbody tr th {\n",
       "        vertical-align: top;\n",
       "    }\n",
       "\n",
       "    .dataframe thead th {\n",
       "        text-align: right;\n",
       "    }\n",
       "</style>\n",
       "<table border=\"1\" class=\"dataframe\">\n",
       "  <thead>\n",
       "    <tr style=\"text-align: right;\">\n",
       "      <th></th>\n",
       "      <th>Cell Line</th>\n",
       "      <th>Lane</th>\n",
       "      <th>Pos</th>\n",
       "      <th>Condition</th>\n",
       "      <th>Hours</th>\n",
       "      <th>Cell name</th>\n",
       "      <th>PreprocessingTag</th>\n",
       "      <th>ProcessingComments</th>\n",
       "    </tr>\n",
       "    <tr>\n",
       "      <th>Cell name</th>\n",
       "      <th></th>\n",
       "      <th></th>\n",
       "      <th></th>\n",
       "      <th></th>\n",
       "      <th></th>\n",
       "      <th></th>\n",
       "      <th></th>\n",
       "      <th></th>\n",
       "    </tr>\n",
       "  </thead>\n",
       "  <tbody>\n",
       "    <tr>\n",
       "      <th>S28</th>\n",
       "      <td>MCF7</td>\n",
       "      <td>output.STAR.1</td>\n",
       "      <td>A10</td>\n",
       "      <td>Hypo</td>\n",
       "      <td>72</td>\n",
       "      <td>S28</td>\n",
       "      <td>Aligned.sortedByCoord.out.bam</td>\n",
       "      <td>STAR,FeatureCounts</td>\n",
       "    </tr>\n",
       "    <tr>\n",
       "      <th>S29</th>\n",
       "      <td>MCF7</td>\n",
       "      <td>output.STAR.1</td>\n",
       "      <td>A11</td>\n",
       "      <td>Hypo</td>\n",
       "      <td>72</td>\n",
       "      <td>S29</td>\n",
       "      <td>Aligned.sortedByCoord.out.bam</td>\n",
       "      <td>STAR,FeatureCounts</td>\n",
       "    </tr>\n",
       "    <tr>\n",
       "      <th>S30</th>\n",
       "      <td>MCF7</td>\n",
       "      <td>output.STAR.1</td>\n",
       "      <td>A12</td>\n",
       "      <td>Hypo</td>\n",
       "      <td>72</td>\n",
       "      <td>S30</td>\n",
       "      <td>Aligned.sortedByCoord.out.bam</td>\n",
       "      <td>STAR,FeatureCounts</td>\n",
       "    </tr>\n",
       "    <tr>\n",
       "      <th>S1</th>\n",
       "      <td>MCF7</td>\n",
       "      <td>output.STAR.1</td>\n",
       "      <td>A1</td>\n",
       "      <td>Norm</td>\n",
       "      <td>72</td>\n",
       "      <td>S1</td>\n",
       "      <td>Aligned.sortedByCoord.out.bam</td>\n",
       "      <td>STAR,FeatureCounts</td>\n",
       "    </tr>\n",
       "    <tr>\n",
       "      <th>S2</th>\n",
       "      <td>MCF7</td>\n",
       "      <td>output.STAR.1</td>\n",
       "      <td>A2</td>\n",
       "      <td>Norm</td>\n",
       "      <td>72</td>\n",
       "      <td>S2</td>\n",
       "      <td>Aligned.sortedByCoord.out.bam</td>\n",
       "      <td>STAR,FeatureCounts</td>\n",
       "    </tr>\n",
       "  </tbody>\n",
       "</table>\n",
       "</div>"
      ],
      "text/plain": [
       "          Cell Line           Lane  Pos Condition  Hours Cell name  \\\n",
       "Cell name                                                            \n",
       "S28            MCF7  output.STAR.1  A10      Hypo     72       S28   \n",
       "S29            MCF7  output.STAR.1  A11      Hypo     72       S29   \n",
       "S30            MCF7  output.STAR.1  A12      Hypo     72       S30   \n",
       "S1             MCF7  output.STAR.1   A1      Norm     72        S1   \n",
       "S2             MCF7  output.STAR.1   A2      Norm     72        S2   \n",
       "\n",
       "                        PreprocessingTag  ProcessingComments  \n",
       "Cell name                                                     \n",
       "S28        Aligned.sortedByCoord.out.bam  STAR,FeatureCounts  \n",
       "S29        Aligned.sortedByCoord.out.bam  STAR,FeatureCounts  \n",
       "S30        Aligned.sortedByCoord.out.bam  STAR,FeatureCounts  \n",
       "S1         Aligned.sortedByCoord.out.bam  STAR,FeatureCounts  \n",
       "S2         Aligned.sortedByCoord.out.bam  STAR,FeatureCounts  "
      ]
     },
     "execution_count": 71,
     "metadata": {},
     "output_type": "execute_result"
    }
   ],
   "source": [
    "df_meta.head(5)   \n"
   ]
  },
  {
   "cell_type": "code",
   "execution_count": 72,
   "metadata": {},
   "outputs": [
    {
     "data": {
      "text/plain": [
       "Cell Line             object\n",
       "Lane                  object\n",
       "Pos                   object\n",
       "Condition             object\n",
       "Hours                  int64\n",
       "Cell name             object\n",
       "PreprocessingTag      object\n",
       "ProcessingComments    object\n",
       "dtype: object"
      ]
     },
     "execution_count": 72,
     "metadata": {},
     "output_type": "execute_result"
    }
   ],
   "source": [
    "df_meta.dtypes"
   ]
  },
  {
   "cell_type": "code",
   "execution_count": 73,
   "metadata": {},
   "outputs": [
    {
     "data": {
      "text/plain": [
       "' df = pd.read_csv(\"Data/SmartSeq/MCF7_SmartS_Unfiltered_Data.txt\",delimiter=\"\\\\ \",engine=\\'python\\',index_col=0)\\nprint(\"Dataframe dimensions:\", np.shape(df))\\nprint(\"First column: \", df.iloc[ : , 0])\\ndff = pd.read_csv(\"Data/SmartSeq/MCF7_SmartS_Filtered_Data.txt\",delimiter=\"\\\\ \",engine=\\'python\\',index_col=0)\\nprint(\"Dataframe dimensions:\", np.shape(df))\\nprint(\"First column: \", df.iloc[ : , 0])\\n '"
      ]
     },
     "execution_count": 73,
     "metadata": {},
     "output_type": "execute_result"
    }
   ],
   "source": [
    "#reading unfiltered and filtered data\n",
    "\"\"\" df = pd.read_csv(\"Data/SmartSeq/MCF7_SmartS_Unfiltered_Data.txt\",delimiter=\"\\ \",engine='python',index_col=0)\n",
    "print(\"Dataframe dimensions:\", np.shape(df))\n",
    "print(\"First column: \", df.iloc[ : , 0])\n",
    "dff = pd.read_csv(\"Data/SmartSeq/MCF7_SmartS_Filtered_Data.txt\",delimiter=\"\\ \",engine='python',index_col=0)\n",
    "print(\"Dataframe dimensions:\", np.shape(df))\n",
    "print(\"First column: \", df.iloc[ : , 0])\n",
    " \"\"\"\n"
   ]
  },
  {
   "cell_type": "code",
   "execution_count": 74,
   "metadata": {},
   "outputs": [
    {
     "data": {
      "text/plain": [
       "((383, 22934), (313, 18945))"
      ]
     },
     "execution_count": 74,
     "metadata": {},
     "output_type": "execute_result"
    }
   ],
   "source": [
    "df.shape,dff.shape"
   ]
  },
  {
   "cell_type": "code",
   "execution_count": null,
   "metadata": {},
   "outputs": [],
   "source": []
  },
  {
   "cell_type": "code",
   "execution_count": 81,
   "metadata": {},
   "outputs": [
    {
     "data": {
      "text/plain": [
       "Index(['\"WASH7P\"', '\"MIR6859-1\"', '\"WASH9P\"', '\"OR4F29\"', '\"MTND1P23\"',\n",
       "       '\"MTND2P28\"', '\"MTCO1P12\"', '\"MTCO2P12\"', '\"MTATP8P1\"', '\"MTATP6P1\"',\n",
       "       ...\n",
       "       '\"MT-TH\"', '\"MT-TS2\"', '\"MT-TL2\"', '\"MT-ND5\"', '\"MT-ND6\"', '\"MT-TE\"',\n",
       "       '\"MT-CYB\"', '\"MT-TT\"', '\"MT-TP\"', '\"MAFIP\"'],\n",
       "      dtype='object', length=18945)"
      ]
     },
     "execution_count": 81,
     "metadata": {},
     "output_type": "execute_result"
    }
   ],
   "source": [
    "dff.columns\n",
    "#how to change the columns to the cell names?"
   ]
  },
  {
   "cell_type": "code",
   "execution_count": null,
   "metadata": {},
   "outputs": [
    {
     "name": "stdout",
     "output_type": "stream",
     "text": [
      "Dataframe indexes:  Index(['\"WASH7P\"', '\"MIR6859-1\"', '\"WASH9P\"', '\"OR4F29\"', '\"MTND1P23\"',\n",
      "       '\"MTND2P28\"', '\"MTCO1P12\"', '\"MTCO2P12\"', '\"MTATP8P1\"', '\"MTATP6P1\"',\n",
      "       ...\n",
      "       '\"MT-TH\"', '\"MT-TS2\"', '\"MT-TL2\"', '\"MT-ND5\"', '\"MT-ND6\"', '\"MT-TE\"',\n",
      "       '\"MT-CYB\"', '\"MT-TT\"', '\"MT-TP\"', '\"MAFIP\"'],\n",
      "      dtype='object', length=22934)\n"
     ]
    }
   ],
   "source": [
    "gene_symbls = df.index\n",
    "print(\"Dataframe indexes: \", gene_symbls)"
   ]
  },
  {
   "cell_type": "markdown",
   "metadata": {},
   "source": [
    "<p><strong><em>Exploratory data analysis</em></strong> include a broad range of possible tasks:</p>\n",
    "<ul>\n",
    "<li>check how large are the files</li>\n",
    "<li>are the data types all numeric</li>\n",
    "<li>what can you observe by looking at the data (maybe use some plots to explain)</li>\n",
    "</ul>\n",
    "\n",
    "\n",
    "\n",
    "Run PCA to understand which columns explain the most variance of the data  "
   ]
  },
  {
   "cell_type": "code",
   "execution_count": null,
   "metadata": {},
   "outputs": [],
   "source": [
    "from sklearn.decomposition import PCA\n",
    "import matplotlib.pyplot as plt"
   ]
  },
  {
   "cell_type": "code",
   "execution_count": null,
   "metadata": {},
   "outputs": [],
   "source": [
    "pca = PCA(n_components=5)"
   ]
  },
  {
   "cell_type": "code",
   "execution_count": null,
   "metadata": {},
   "outputs": [
    {
     "data": {
      "text/plain": [
       "array([0.7223147 , 0.12182485, 0.02694344, 0.02222061, 0.01698466])"
      ]
     },
     "execution_count": 26,
     "metadata": {},
     "output_type": "execute_result"
    }
   ],
   "source": [
    "pca.fit(df)\n",
    "pca.explained_variance_ratio_\n"
   ]
  },
  {
   "cell_type": "code",
   "execution_count": null,
   "metadata": {},
   "outputs": [],
   "source": [
    "X = pca.transform(df)"
   ]
  },
  {
   "cell_type": "code",
   "execution_count": null,
   "metadata": {},
   "outputs": [
    {
     "data": {
      "text/plain": [
       "<matplotlib.collections.PathCollection at 0x2a181f57b10>"
      ]
     },
     "execution_count": 28,
     "metadata": {},
     "output_type": "execute_result"
    },
    {
     "data": {
      "image/png": "[encoded data removed]",
      "text/plain": [
       "<Figure size 640x480 with 1 Axes>"
      ]
     },
     "metadata": {},
     "output_type": "display_data"
    }
   ],
   "source": [
    "#plot with different color depending on type  \n",
    "plt.scatter(X[:, 0], X[:, 1], alpha=0.2)\n",
    "plt.scatter([X[10][0]], [X[10][1]], s=[200], c=[\"r\"], alpha=0.5)\n"
   ]
  },
  {
   "cell_type": "code",
   "execution_count": 76,
   "metadata": {},
   "outputs": [
    {
     "data": {
      "text/plain": [
       "Index(['\"A1CF\"', '\"A2M\"', '\"A2ML1\"', '\"A2MP1\"', '\"AANAT\"', '\"ABCA13\"',\n",
       "       '\"ABCA4\"', '\"ABCA8\"', '\"ABCB11\"', '\"ABCC13\"',\n",
       "       ...\n",
       "       '\"ZNF716\"', '\"ZNF725P\"', '\"ZNF727\"', '\"ZNF826P\"', '\"ZNF831\"',\n",
       "       '\"ZNF90P1\"', '\"ZNHIT1P1\"', '\"ZNRF3-AS1\"', '\"ZSCAN1\"', '\"ZSCAN5B\"'],\n",
       "      dtype='object', length=3989)"
      ]
     },
     "execution_count": 76,
     "metadata": {},
     "output_type": "execute_result"
    }
   ],
   "source": [
    "#difference between df and dff\n",
    "#I have df, dff, dffn with _norm or _hypo\n",
    "\n",
    "dff.columns, df.columns\n",
    "#columns removed in dff\n",
    "df.columns.difference(dff.columns)"
   ]
  },
  {
   "cell_type": "code",
   "execution_count": 77,
   "metadata": {},
   "outputs": [
    {
     "data": {
      "text/plain": [
       "Index([], dtype='object')"
      ]
     },
     "execution_count": 77,
     "metadata": {},
     "output_type": "execute_result"
    }
   ],
   "source": [
    "dff.columns.difference(df.columns)"
   ]
  }
 ],
 "metadata": {
  "kernelspec": {
   "display_name": "base",
   "language": "python",
   "name": "python3"
  },
  "language_info": {
   "codemirror_mode": {
    "name": "ipython",
    "version": 3
   },
   "file_extension": ".py",
   "mimetype": "text/x-python",
   "name": "python",
   "nbconvert_exporter": "python",
   "pygments_lexer": "ipython3",
   "version": "3.11.5"
  }
 },
 "nbformat": 4,
 "nbformat_minor": 2
}

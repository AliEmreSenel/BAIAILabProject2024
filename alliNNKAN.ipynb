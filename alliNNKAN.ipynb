{
 "cells": [
  {
   "cell_type": "code",
   "execution_count": null,
   "metadata": {},
   "outputs": [],
   "source": [
    "import numpy as np\n",
    "import pandas as pd\n",
    "\n",
    "\n",
    "from sklearn.model_selection import train_test_split\n",
    "from sklearn.metrics import confusion_matrix, f1_score, recall_score, roc_curve\n",
    "\n",
    "\n",
    "import torch\n",
    "import torch.nn as nn\n",
    "import torch.optim as optim\n",
    "from torch.utils.data import DataLoader, Dataset\n",
    "\n",
    "\n",
    "from tqdm import tqdm\n",
    "import matplotlib.pyplot as plt             #visualisation\n",
    "import seaborn as sns   #visualisation\n",
    "from torch.utils.tensorboard import SummaryWriter\n",
    "%matplotlib inline     \n",
    "sns.set(color_codes=True)"
   ]
  },
  {
   "cell_type": "code",
   "execution_count": null,
   "metadata": {},
   "outputs": [],
   "source": [
    "if torch.cuda.is_available():\n",
    "    device = torch.device(\"cuda\")\n",
    "else:\n",
    "    raise Exception(\"Cry about it\")\n"
   ]
  },
  {
   "cell_type": "code",
   "execution_count": 122,
   "metadata": {},
   "outputs": [],
   "source": [
    "import torch.nn.functional as F\n",
    "import math\n",
    "\n",
    "class KANLinear(torch.nn.Module):\n",
    "    def __init__(\n",
    "        self,\n",
    "        in_features,\n",
    "        out_features,\n",
    "        grid_size=5,\n",
    "        spline_order=3,\n",
    "        scale_noise=0.1,\n",
    "        scale_base=1.0,\n",
    "        scale_spline=1.0,\n",
    "        enable_standalone_scale_spline=True,\n",
    "        base_activation=torch.nn.SiLU,\n",
    "        grid_eps=0.02,\n",
    "        grid_range=[-1, 1],\n",
    "    ):\n",
    "        super(KANLinear, self).__init__()\n",
    "        self.in_features = in_features\n",
    "        self.out_features = out_features\n",
    "        self.grid_size = grid_size\n",
    "        self.spline_order = spline_order\n",
    "\n",
    "        h = (grid_range[1] - grid_range[0]) / grid_size\n",
    "        grid = (\n",
    "            (\n",
    "                torch.arange(-spline_order, grid_size + spline_order + 1) * h\n",
    "                + grid_range[0]\n",
    "            )\n",
    "            .expand(in_features, -1)\n",
    "            .contiguous()\n",
    "        )\n",
    "        self.register_buffer(\"grid\", grid)\n",
    "\n",
    "        self.base_weight = torch.nn.Parameter(torch.Tensor(out_features, in_features))\n",
    "        self.spline_weight = torch.nn.Parameter(\n",
    "            torch.Tensor(out_features, in_features, grid_size + spline_order)\n",
    "        )\n",
    "        if enable_standalone_scale_spline:\n",
    "            self.spline_scaler = torch.nn.Parameter(\n",
    "                torch.Tensor(out_features, in_features)\n",
    "            )\n",
    "\n",
    "        self.scale_noise = scale_noise\n",
    "        self.scale_base = scale_base\n",
    "        self.scale_spline = scale_spline\n",
    "        self.enable_standalone_scale_spline = enable_standalone_scale_spline\n",
    "        self.base_activation = base_activation()\n",
    "        self.grid_eps = grid_eps\n",
    "\n",
    "        self.reset_parameters()\n",
    "\n",
    "    def reset_parameters(self):\n",
    "        torch.nn.init.kaiming_uniform_(self.base_weight, a=math.sqrt(5) * self.scale_base)\n",
    "        with torch.no_grad():\n",
    "            noise = (\n",
    "                (\n",
    "                    torch.rand(self.grid_size + 1, self.in_features, self.out_features)\n",
    "                    - 1 / 2\n",
    "                )\n",
    "                * self.scale_noise\n",
    "                / self.grid_size\n",
    "            )\n",
    "            self.spline_weight.data.copy_(\n",
    "                (self.scale_spline if not self.enable_standalone_scale_spline else 1.0)\n",
    "                * self.curve2coeff(\n",
    "                    self.grid.T[self.spline_order : -self.spline_order],\n",
    "                    noise,\n",
    "                )\n",
    "            )\n",
    "            if self.enable_standalone_scale_spline:\n",
    "                # torch.nn.init.constant_(self.spline_scaler, self.scale_spline)\n",
    "                torch.nn.init.kaiming_uniform_(self.spline_scaler, a=math.sqrt(5) * self.scale_spline)\n",
    "\n",
    "    def b_splines(self, x: torch.Tensor):\n",
    "        \"\"\"\n",
    "        Compute the B-spline bases for the given input tensor.\n",
    "\n",
    "        Args:\n",
    "            x (torch.Tensor): Input tensor of shape (batch_size, in_features).\n",
    "\n",
    "        Returns:\n",
    "            torch.Tensor: B-spline bases tensor of shape (batch_size, in_features, grid_size + spline_order).\n",
    "        \"\"\"\n",
    "        assert x.dim() == 2 and x.size(1) == self.in_features\n",
    "\n",
    "        grid: torch.Tensor = (\n",
    "            self.grid\n",
    "        )  # (in_features, grid_size + 2 * spline_order + 1)\n",
    "        x = x.unsqueeze(-1)\n",
    "        bases = ((x >= grid[:, :-1]) & (x < grid[:, 1:])).to(x.dtype)\n",
    "        for k in range(1, self.spline_order + 1):\n",
    "            bases = (\n",
    "                (x - grid[:, : -(k + 1)])\n",
    "                / (grid[:, k:-1] - grid[:, : -(k + 1)])\n",
    "                * bases[:, :, :-1]\n",
    "            ) + (\n",
    "                (grid[:, k + 1 :] - x)\n",
    "                / (grid[:, k + 1 :] - grid[:, 1:(-k)])\n",
    "                * bases[:, :, 1:]\n",
    "            )\n",
    "\n",
    "        assert bases.size() == (\n",
    "            x.size(0),\n",
    "            self.in_features,\n",
    "            self.grid_size + self.spline_order,\n",
    "        )\n",
    "        return bases.contiguous()\n",
    "\n",
    "    def curve2coeff(self, x: torch.Tensor, y: torch.Tensor):\n",
    "        \"\"\"\n",
    "        Compute the coefficients of the curve that interpolates the given points.\n",
    "\n",
    "        Args:\n",
    "            x (torch.Tensor): Input tensor of shape (batch_size, in_features).\n",
    "            y (torch.Tensor): Output tensor of shape (batch_size, in_features, out_features).\n",
    "\n",
    "        Returns:\n",
    "            torch.Tensor: Coefficients tensor of shape (out_features, in_features, grid_size + spline_order).\n",
    "        \"\"\"\n",
    "        assert x.dim() == 2 and x.size(1) == self.in_features\n",
    "        assert y.size() == (x.size(0), self.in_features, self.out_features)\n",
    "\n",
    "        A = self.b_splines(x).transpose(\n",
    "            0, 1\n",
    "        )  # (in_features, batch_size, grid_size + spline_order)\n",
    "        B = y.transpose(0, 1)  # (in_features, batch_size, out_features)\n",
    "        solution = torch.linalg.lstsq(\n",
    "            A, B\n",
    "        ).solution  # (in_features, grid_size + spline_order, out_features)\n",
    "        result = solution.permute(\n",
    "            2, 0, 1\n",
    "        )  # (out_features, in_features, grid_size + spline_order)\n",
    "\n",
    "        assert result.size() == (\n",
    "            self.out_features,\n",
    "            self.in_features,\n",
    "            self.grid_size + self.spline_order,\n",
    "        )\n",
    "        return result.contiguous()\n",
    "\n",
    "    @property\n",
    "    def scaled_spline_weight(self):\n",
    "        return self.spline_weight * (\n",
    "            self.spline_scaler.unsqueeze(-1)\n",
    "            if self.enable_standalone_scale_spline\n",
    "            else 1.0\n",
    "        )\n",
    "\n",
    "    def forward(self, x: torch.Tensor):\n",
    "        assert x.size(-1) == self.in_features\n",
    "        original_shape = x.shape\n",
    "        x = x.view(-1, self.in_features)\n",
    "\n",
    "        base_output = F.linear(self.base_activation(x), self.base_weight)\n",
    "        spline_output = F.linear(\n",
    "            self.b_splines(x).view(x.size(0), -1),\n",
    "            self.scaled_spline_weight.view(self.out_features, -1),\n",
    "        )\n",
    "        output = base_output + spline_output\n",
    "        \n",
    "        output = output.view(*original_shape[:-1], self.out_features)\n",
    "        return output\n",
    "\n",
    "    @torch.no_grad()\n",
    "    def update_grid(self, x: torch.Tensor, margin=0.01):\n",
    "        assert x.dim() == 2 and x.size(1) == self.in_features\n",
    "        batch = x.size(0)\n",
    "\n",
    "        splines = self.b_splines(x)  # (batch, in, coeff)\n",
    "        splines = splines.permute(1, 0, 2)  # (in, batch, coeff)\n",
    "        orig_coeff = self.scaled_spline_weight  # (out, in, coeff)\n",
    "        orig_coeff = orig_coeff.permute(1, 2, 0)  # (in, coeff, out)\n",
    "        unreduced_spline_output = torch.bmm(splines, orig_coeff)  # (in, batch, out)\n",
    "        unreduced_spline_output = unreduced_spline_output.permute(\n",
    "            1, 0, 2\n",
    "        )  # (batch, in, out)\n",
    "\n",
    "        # sort each channel individually to collect data distribution\n",
    "        x_sorted = torch.sort(x, dim=0)[0]\n",
    "        grid_adaptive = x_sorted[\n",
    "            torch.linspace(\n",
    "                0, batch - 1, self.grid_size + 1, dtype=torch.int64, device=x.device\n",
    "            )\n",
    "        ]\n",
    "\n",
    "        uniform_step = (x_sorted[-1] - x_sorted[0] + 2 * margin) / self.grid_size\n",
    "        grid_uniform = (\n",
    "            torch.arange(\n",
    "                self.grid_size + 1, dtype=torch.float32, device=x.device\n",
    "            ).unsqueeze(1)\n",
    "            * uniform_step\n",
    "            + x_sorted[0]\n",
    "            - margin\n",
    "        )\n",
    "\n",
    "        grid = self.grid_eps * grid_uniform + (1 - self.grid_eps) * grid_adaptive\n",
    "        grid = torch.concatenate(\n",
    "            [\n",
    "                grid[:1]\n",
    "                - uniform_step\n",
    "                * torch.arange(self.spline_order, 0, -1, device=x.device).unsqueeze(1),\n",
    "                grid,\n",
    "                grid[-1:]\n",
    "                + uniform_step\n",
    "                * torch.arange(1, self.spline_order + 1, device=x.device).unsqueeze(1),\n",
    "            ],\n",
    "            dim=0,\n",
    "        )\n",
    "\n",
    "        self.grid.copy_(grid.T)\n",
    "        self.spline_weight.data.copy_(self.curve2coeff(x, unreduced_spline_output))\n",
    "\n",
    "    def regularization_loss(self, regularize_activation=1.0, regularize_entropy=1.0):\n",
    "        \"\"\"\n",
    "        Compute the regularization loss.\n",
    "\n",
    "        This is a dumb simulation of the original L1 regularization as stated in the\n",
    "        paper, since the original one requires computing absolutes and entropy from the\n",
    "        expanded (batch, in_features, out_features) intermediate tensor, which is hidden\n",
    "        behind the F.linear function if we want an memory efficient implementation.\n",
    "\n",
    "        The L1 regularization is now computed as mean absolute value of the spline\n",
    "        weights. The authors implementation also includes this term in addition to the\n",
    "        sample-based regularization.\n",
    "        \"\"\"\n",
    "        l1_fake = self.spline_weight.abs().mean(-1)\n",
    "        regularization_loss_activation = l1_fake.sum()\n",
    "        p = l1_fake / regularization_loss_activation\n",
    "        regularization_loss_entropy = -torch.sum(p * p.log())\n",
    "        return (\n",
    "            regularize_activation * regularization_loss_activation\n",
    "            + regularize_entropy * regularization_loss_entropy\n",
    "        )\n",
    "\n",
    "\n",
    "class KAN(torch.nn.Module):\n",
    "    def __init__(\n",
    "        self,\n",
    "        layers_hidden,\n",
    "        grid_size=5,\n",
    "        spline_order=3,\n",
    "        scale_noise=0.1,\n",
    "        scale_base=1.0,\n",
    "        scale_spline=1.0,\n",
    "        base_activation=torch.nn.SiLU,\n",
    "        grid_eps=0.02,\n",
    "        grid_range=[-1, 1],\n",
    "    ):\n",
    "        super(KAN, self).__init__()\n",
    "        self.grid_size = grid_size\n",
    "        self.spline_order = spline_order\n",
    "\n",
    "        self.layers = torch.nn.ModuleList()\n",
    "        for in_features, out_features in zip(layers_hidden, layers_hidden[1:]):\n",
    "            self.layers.append(\n",
    "                KANLinear(\n",
    "                    in_features,\n",
    "                    out_features,\n",
    "                    grid_size=grid_size,\n",
    "                    spline_order=spline_order,\n",
    "                    scale_noise=scale_noise,\n",
    "                    scale_base=scale_base,\n",
    "                    scale_spline=scale_spline,\n",
    "                    base_activation=base_activation,\n",
    "                    grid_eps=grid_eps,\n",
    "                    grid_range=grid_range,\n",
    "                )\n",
    "            )\n",
    "\n",
    "    def forward(self, x: torch.Tensor, update_grid=False):\n",
    "        for layer in self.layers:\n",
    "            if update_grid:\n",
    "                layer.update_grid(x)\n",
    "            x = layer(x)\n",
    "        return x\n",
    "\n",
    "    def regularization_loss(self, regularize_activation=1.0, regularize_entropy=1.0):\n",
    "        return sum(\n",
    "            layer.regularization_loss(regularize_activation, regularize_entropy)\n",
    "            for layer in self.layers\n",
    "        )"
   ]
  },
  {
   "cell_type": "code",
   "execution_count": 123,
   "metadata": {},
   "outputs": [],
   "source": [
    "def add_cell_prefix(df, prefix):\n",
    "    df.index = [prefix + i for i in df.index]\n",
    "    return df\n",
    "\n",
    "#Remove extra quotes from the filenames\n",
    "def extract_cell_name_smartseq(x):\n",
    "    y = x.split(\"_\")\n",
    "    return y[len(y)-2]\n",
    "\n",
    "def get_cell_name_smartseq(file_name):\n",
    "    return extract_cell_name_smartseq(file_name)\n",
    "\n",
    "def convert_indexes_to_cell_names_smartseq(df):\n",
    "    df.index = [get_cell_name_smartseq(x) for x in df.index]\n",
    "    return df\n",
    "\n",
    "def get_cell_hypo_or_norm_smartseq(df_meta, cell_name):\n",
    "    return df_meta[df_meta[\"Cell name\"]==cell_name][\"Condition\"].values[0]\n",
    "\n",
    "def seperate_hypo_and_norm_smartseq(df, df_meta):\n",
    "    df_hypo = df[df.index.map(lambda x: get_cell_hypo_or_norm_smartseq(df_meta, x)==\"Hypo\")]\n",
    "    df_norm = df[df.index.map(lambda x: get_cell_hypo_or_norm_smartseq(df_meta, x)==\"Norm\" or get_cell_hypo_or_norm_smartseq(df_meta, x)==\"Normo\")]\n",
    "    return df_hypo, df_norm\n",
    "\n",
    "def process_df_smartseq(df, df_meta, prefix):\n",
    "    df = convert_indexes_to_cell_names_smartseq(df)\n",
    "    _, df_norm = seperate_hypo_and_norm_smartseq(df,df_meta)\n",
    "    df = add_cell_prefix(df, prefix)\n",
    "    df_norm = add_cell_prefix(df_norm, prefix)\n",
    "    return df, df_norm.index\n",
    "\n",
    "#Remove extra quotes from the filenames\n",
    "def extract_cell_name_dropseq(x):\n",
    "    y = x.split(\"_\")\n",
    "    return y[0]\n",
    "\n",
    "def get_cell_name_dropseq(file_name):\n",
    "    return extract_cell_name_dropseq(file_name)\n",
    "\n",
    "def convert_indexes_to_cell_names_dropseq(df):\n",
    "    df.index = [get_cell_name_dropseq(x) for x in df.index]\n",
    "    return df\n",
    "\n",
    "def get_cell_hypo_or_norm_dropseq(cell_name):\n",
    "    return cell_name.split(\"_\")[-1]\n",
    "\n",
    "def seperate_hypo_and_norm_dropseq(df):\n",
    "    df_hypo = df[df.index.map(lambda x: get_cell_hypo_or_norm_dropseq(x)==\"Hypoxia\")]\n",
    "    df_norm = df[df.index.map(lambda x: get_cell_hypo_or_norm_dropseq(x)==\"Normoxia\")]\n",
    "    return df_hypo, df_norm\n",
    "\n",
    "def process_df_dropseq(df, prefix):\n",
    "    _, df_norm = seperate_hypo_and_norm_dropseq(df)\n",
    "    df = convert_indexes_to_cell_names_dropseq(df)\n",
    "    df_norm = convert_indexes_to_cell_names_dropseq(df_norm)\n",
    "    df = add_cell_prefix(df, prefix)\n",
    "    df_norm = add_cell_prefix(df_norm, prefix)\n",
    "    return df, df_norm.index"
   ]
  },
  {
   "cell_type": "code",
   "execution_count": 124,
   "metadata": {},
   "outputs": [],
   "source": [
    "df_meta = pd.read_csv(\"Data/SmartSeq/MCF7_SmartS_MetaData.tsv\",delimiter=\"\\t\", index_col=0)\n",
    "dffn = pd.read_csv(\"Data/SmartSeq/MCF7_SmartS_Filtered_Normalised_3000_Data_train.txt\",delimiter=\" \",index_col=0).T\n",
    "df2_meta = pd.read_csv(\"Data/SmartSeq/HCC1806_SmartS_MetaData.tsv\",delimiter=\"\\t\",index_col=0)\n",
    "df2fn = pd.read_csv(\"Data/SmartSeq/HCC1806_SmartS_Filtered_Normalised_3000_Data_train.txt\",delimiter=\" \",index_col=0).T\n",
    "df3 = pd.read_csv(\"Data/DropSeq/MCF7_Filtered_Normalised_3000_Data_train.txt\",delimiter=\" \",index_col=0).T\n",
    "df4 = pd.read_csv(\"Data/DropSeq/HCC1806_Filtered_Normalised_3000_Data_train.txt\",delimiter=\" \",index_col=0).T"
   ]
  },
  {
   "cell_type": "code",
   "execution_count": null,
   "metadata": {},
   "outputs": [],
   "source": [
    "dffn, dffn_norm_idx = process_df_smartseq(dffn.copy(), df_meta, \"MCF7_\")\n",
    "df2fn, df2fn_norm_idx = process_df_smartseq(df2fn.copy(), df2_meta, \"HCC1806_\")\n",
    "df3, df3_norm_idx = process_df_dropseq(df3, \"MCF7_\")\n",
    "df4, df4_norm_idx = process_df_dropseq(df4, \"HCC1806_\")"
   ]
  },
  {
   "cell_type": "code",
   "execution_count": null,
   "metadata": {},
   "outputs": [],
   "source": [
    "df3"
   ]
  },
  {
   "cell_type": "code",
   "execution_count": null,
   "metadata": {},
   "outputs": [],
   "source": [
    "df_drop_norm_idx = np.concatenate([df3_norm_idx, df4_norm_idx])\n",
    "df_smart_norm_idx = np.concatenate([dffn_norm_idx, df2fn_norm_idx])\n",
    "df_smart_idx = np.concatenate([dffn.index, df2fn.index])\n",
    "\n",
    "df_all = pd.concat([dffn, df2fn, df3, df4])\n",
    "df_all = df_all.fillna(0)\n",
    "\n",
    "df_all_norm_idx = np.concatenate([dffn_norm_idx, df2fn_norm_idx, df3_norm_idx, df4_norm_idx])\n",
    "\n",
    "df_MCF7_idx = [idx for idx in df_all.index if \"MCF7\" in idx]\n"
   ]
  },
  {
   "cell_type": "code",
   "execution_count": null,
   "metadata": {},
   "outputs": [],
   "source": [
    "df_all[\"mcf\"] = [\"MCF7\" in idx for idx in df_all.index]\n",
    "df_all[\"smart\"] = [idx in df_smart_idx for idx in df_all.index]"
   ]
  },
  {
   "cell_type": "code",
   "execution_count": null,
   "metadata": {},
   "outputs": [],
   "source": [
    "df_all = df_all.astype(np.int32)"
   ]
  },
  {
   "cell_type": "code",
   "execution_count": 125,
   "metadata": {},
   "outputs": [
    {
     "ename": "NameError",
     "evalue": "name 'dffn_norm_idx' is not defined",
     "output_type": "error",
     "traceback": [
      "\u001b[0;31m---------------------------------------------------------------------------\u001b[0m",
      "\u001b[0;31mNameError\u001b[0m                                 Traceback (most recent call last)",
      "Cell \u001b[0;32mIn[125], line 2\u001b[0m\n\u001b[1;32m      1\u001b[0m \u001b[38;5;66;03m# Free up memory\u001b[39;00m\n\u001b[0;32m----> 2\u001b[0m \u001b[38;5;28;01mdel\u001b[39;00m dffn, df2fn, df3, df4, \u001b[43mdffn_norm_idx\u001b[49m, df2fn_norm_idx, df3_norm_idx, df4_norm_idx, df_meta, df2_meta\n",
      "\u001b[0;31mNameError\u001b[0m: name 'dffn_norm_idx' is not defined"
     ]
    }
   ],
   "source": [
    "# Free up memory\n",
    "del dffn, df2fn, df3, df4, dffn_norm_idx, df2fn_norm_idx, df3_norm_idx, df4_norm_idx, df_meta, df2_meta"
   ]
  },
  {
   "cell_type": "code",
   "execution_count": 126,
   "metadata": {},
   "outputs": [],
   "source": [
    "class NNDataset(Dataset):\n",
    "    def __init__(self, df, df_norm_idx):\n",
    "        self.data = df.values  # Convert DataFrame to numpy array\n",
    "        self.data_norm = df_norm_idx\n",
    "        self.idx = df.index\n",
    "        \n",
    "    def __len__(self):\n",
    "        return len(self.data)\n",
    "    \n",
    "    def __getitem__(self, index):\n",
    "        dat = self.data[index, :]\n",
    "        x = torch.tensor(dat, dtype=torch.float32, device=device)\n",
    "        y = torch.tensor(0 if self.idx[index] in self.data_norm else 1,  dtype=torch.float32, device=device)\n",
    "        return x, y\n",
    "\n",
    "# Define the architecture of the autoencoder\n",
    "class NNClassifier(nn.Module):\n",
    "    def __init__(self, in_size, H1, H2, H3):\n",
    "        super(NNClassifier, self).__init__()\n",
    "\n",
    "        self.layers = nn.Sequential(\n",
    "            KANLinear(in_size, H1),\n",
    "            nn.Dropout(0.5),\n",
    "            KANLinear(H1, H2),\n",
    "            nn.Dropout(0.5),\n",
    "            KANLinear(H2, H2),\n",
    "            nn.Dropout(0.5),\n",
    "            KANLinear(H2, H3),\n",
    "            nn.Dropout(0.5),\n",
    "            KANLinear(H3, H3),\n",
    "            nn.Dropout(0.5),\n",
    "            KANLinear(H3, H3),\n",
    "            nn.Dropout(0.5),\n",
    "            KANLinear(H3, 1))\n",
    "\n",
    "    def forward(self, x):\n",
    "        return self.layers(x)"
   ]
  },
  {
   "cell_type": "code",
   "execution_count": 127,
   "metadata": {},
   "outputs": [],
   "source": [
    "@torch.no_grad\n",
    "def measure_model_log(writer, model, data_loader, epoch):\n",
    "    correct = 0\n",
    "    total = 0\n",
    "    y_pred = []\n",
    "    y_pred_class = []\n",
    "    y_true = []\n",
    "    for inputs, labels in data_loader:\n",
    "        outputs = model(inputs)\n",
    "        predicted = nn.Sigmoid()(outputs[:, 0])\n",
    "        total += labels.size(0)\n",
    "        correct += (predicted.round() == labels).sum().item()\n",
    "        y_pred_class.extend(predicted.cpu().round().numpy()) # Save Prediction\n",
    "        y_pred.extend(predicted.cpu().numpy()) # Save Prediction\n",
    "        labels = labels.data.cpu().numpy()\n",
    "        y_true.extend(labels) # Save Truth\n",
    "    if(np.isnan(y_pred_class).any()):\n",
    "        print(\"Found nan, skipping evaluation\")\n",
    "        return \n",
    "    f1 = f1_score(y_true, y_pred_class)\n",
    "    recall = recall_score(y_true, y_pred_class)\n",
    "    accuracy = (correct / total)\n",
    "    writer.add_scalar(\"F1 Score\", f1, epoch)\n",
    "    writer.add_scalar(\"Recall\", recall, epoch)\n",
    "    writer.add_scalar(\"Accuracy\", accuracy, epoch)\n",
    "    print(\"F1 Score:\", f1)\n",
    "    print(\"Recall:\", recall)\n",
    "    print(f'Accuracy on test: {accuracy * 100}%')\n",
    "\n",
    "    # constant for classes\n",
    "    classes = ('Normoxia', 'Hypoxia')\n",
    "\n",
    "    # Build confusion matrix\n",
    "    cf_matrix = confusion_matrix(y_true, y_pred_class)\n",
    "    df_cm = pd.DataFrame(cf_matrix / np.sum(cf_matrix, axis=1)[:, None], index = [i for i in classes],\n",
    "                     columns = [i for i in classes])\n",
    "    fig = plt.figure(figsize = (12,7))\n",
    "    sns.heatmap(df_cm, annot=True)\n",
    "    writer.add_figure(\"Confusion Matrix\", fig, epoch)\n",
    "\n",
    "    fig = plt.figure(figsize = (12,7))\n",
    "    fpr, tpr, thresholds = roc_curve(y_true, y_pred)\n",
    "    plt.plot(fpr, tpr) # ROC curve = TPR vs FPR\n",
    "    plt.title(\"Receiver Operating Characteristics\")\n",
    "    plt.xlabel(\"False Positive Rate\")\n",
    "    plt.ylabel(\"True Positive Rate\")\n",
    "\n",
    "    writer.add_figure(\"ROC Curve\", fig, epoch)\n",
    "\n",
    "\n",
    "@torch.no_grad\n",
    "def measure_model(model, data_loader):\n",
    "    plt.close()\n",
    "    correct = 0\n",
    "    total = 0\n",
    "    y_pred = []\n",
    "    y_pred_class = []\n",
    "    y_true = []\n",
    "    for inputs, labels in data_loader:\n",
    "        outputs = model(inputs)\n",
    "        predicted = nn.Sigmoid()(outputs[:, 0])\n",
    "        total += labels.size(0)\n",
    "        correct += (predicted +0.5 > labels).sum().item()\n",
    "        y_pred_class.extend(predicted.cpu().round()) # Save Prediction\n",
    "        y_pred.extend(predicted.cpu()) # Save Prediction\n",
    "        labels = labels.data.cpu().numpy()\n",
    "        y_true.extend(labels) # Save Truth\n",
    "    \n",
    "    # constant for classes\n",
    "    classes = ('Normoxia', 'Hypoxia')\n",
    "\n",
    "    fpr, tpr, thresholds = roc_curve(y_true, y_pred)\n",
    "    plt.plot(fpr, tpr) # ROC curve = TPR vs FPR\n",
    "    plt.title(\"Receiver Operating Characteristics\")\n",
    "    plt.xlabel(\"False Positive Rate\")\n",
    "    plt.ylabel(\"True Positive Rate\")\n",
    "\n",
    "    # Build confusion matrix\n",
    "    cf_matrix = confusion_matrix(y_true, y_pred_class)\n",
    "    df_cm = pd.DataFrame(cf_matrix / np.sum(cf_matrix, axis=1)[:, None], index = [i for i in classes],\n",
    "                     columns = [i for i in classes])\n",
    "    plt.figure(figsize = (12,7))\n",
    "    sns.heatmap(df_cm, annot=True)\n",
    "    print(\"F1 Score:\", f1_score(y_true, y_pred_class))\n",
    "    print(\"Recall:\", recall_score(y_true, y_pred_class))\n",
    "    print(f'Accuracy of the network on the {total} test images: {(correct / total) * 100}%')\n"
   ]
  },
  {
   "cell_type": "code",
   "execution_count": 128,
   "metadata": {},
   "outputs": [],
   "source": [
    "input_size = df_all.shape[1]\n",
    "learning_rate = 1e-2\n",
    "\n",
    "hidden_size = 1024\n",
    "hidden_size1 = 512\n",
    "hidden_size2 = 256\n",
    "\n",
    "test_amount = 0.2"
   ]
  },
  {
   "cell_type": "code",
   "execution_count": null,
   "metadata": {},
   "outputs": [],
   "source": []
  },
  {
   "cell_type": "code",
   "execution_count": null,
   "metadata": {},
   "outputs": [],
   "source": [
    "df_train, df_test = train_test_split(df_all, test_size=test_amount, stratify=df_all.index.isin(df_all_norm_idx))"
   ]
  },
  {
   "cell_type": "code",
   "execution_count": null,
   "metadata": {},
   "outputs": [],
   "source": [
    "df_train_smart = df_train[[i in df_smart_idx for i in df_train.index]]\n",
    "df_train_drop = df_train[[i not in df_smart_idx for i in df_train.index]]\n",
    "\n",
    "dataset = NNDataset(df_train, df_all_norm_idx)\n",
    "dataset_drop = NNDataset(df_train_drop, df_all_norm_idx)\n",
    "dataset_smart = NNDataset(df_train_smart, df_all_norm_idx)\n",
    "\n",
    "data_loader = DataLoader(dataset, batch_size=128, shuffle=True)\n",
    "data_loader_drop = DataLoader(dataset_drop, batch_size=128, shuffle=True)\n",
    "data_loader_smart = DataLoader(dataset_smart, batch_size=32, shuffle=True)"
   ]
  },
  {
   "cell_type": "code",
   "execution_count": null,
   "metadata": {},
   "outputs": [],
   "source": [
    "dataset_test = NNDataset(df_test, df_all_norm_idx)\n",
    "test_loader = DataLoader(dataset_test, batch_size=64, shuffle=True)\n",
    "\n",
    "df_test_smart = df_test[[i in df_smart_idx for i in df_test.index]]\n",
    "df_test_drop = df_test[[i not in df_smart_idx for i in df_test.index]]\n",
    "\n",
    "dataset_test_smart = NNDataset(df_test_smart, df_smart_norm_idx)\n",
    "dataset_test_drop = NNDataset(df_test_drop, df_drop_norm_idx)\n",
    "\n",
    "test_loader_smart = DataLoader(dataset_test_smart, batch_size=64, shuffle=True)\n",
    "test_loader_drop = DataLoader(dataset_test_drop, batch_size=64, shuffle=True)"
   ]
  },
  {
   "cell_type": "code",
   "execution_count": 129,
   "metadata": {},
   "outputs": [],
   "source": [
    "# Define the model\n",
    "model = NNClassifier(input_size, hidden_size, hidden_size1, hidden_size2).to(device)\n",
    "writer = SummaryWriter()"
   ]
  },
  {
   "cell_type": "code",
   "execution_count": 130,
   "metadata": {},
   "outputs": [],
   "source": [
    "# Define the loss function\n",
    "criterion = nn.BCEWithLogitsLoss()\n"
   ]
  },
  {
   "cell_type": "code",
   "execution_count": 131,
   "metadata": {},
   "outputs": [],
   "source": [
    "lr_sgd = 1e-2\n",
    "lr_adm = 1e-3\n",
    "lr_ada = 1e-2\n",
    "lr_admw = 1e-3\n",
    "wd_admw = 1e-4\n",
    "\n",
    "# Define the optimizer\n",
    "sgd = optim.SGD(model.parameters(), lr=lr_sgd)\n",
    "adm = optim.Adam(model.parameters(), lr=lr_adm)\n",
    "ada = optim.Adagrad(model.parameters(), lr=lr_ada)\n",
    "admw = optim.AdamW(model.parameters(), lr=lr_admw, weight_decay=wd_admw)"
   ]
  },
  {
   "cell_type": "code",
   "execution_count": 132,
   "metadata": {},
   "outputs": [
    {
     "data": {
      "text/plain": [
       "NNClassifier(\n",
       "  (layers): Sequential(\n",
       "    (0): KANLinear(\n",
       "      (base_activation): SiLU()\n",
       "    )\n",
       "    (1): Dropout(p=0.5, inplace=False)\n",
       "    (2): KANLinear(\n",
       "      (base_activation): SiLU()\n",
       "    )\n",
       "    (3): Dropout(p=0.5, inplace=False)\n",
       "    (4): KANLinear(\n",
       "      (base_activation): SiLU()\n",
       "    )\n",
       "    (5): Dropout(p=0.5, inplace=False)\n",
       "    (6): KANLinear(\n",
       "      (base_activation): SiLU()\n",
       "    )\n",
       "    (7): Dropout(p=0.5, inplace=False)\n",
       "    (8): KANLinear(\n",
       "      (base_activation): SiLU()\n",
       "    )\n",
       "    (9): Dropout(p=0.5, inplace=False)\n",
       "    (10): KANLinear(\n",
       "      (base_activation): SiLU()\n",
       "    )\n",
       "    (11): Dropout(p=0.5, inplace=False)\n",
       "    (12): KANLinear(\n",
       "      (base_activation): SiLU()\n",
       "    )\n",
       "  )\n",
       ")"
      ]
     },
     "execution_count": 132,
     "metadata": {},
     "output_type": "execute_result"
    }
   ],
   "source": [
    "model"
   ]
  },
  {
   "cell_type": "code",
   "execution_count": 139,
   "metadata": {},
   "outputs": [],
   "source": [
    "train_config = [\n",
    "    #[5, data_loader, admw],\n",
    "    #[100, data_loader_smart, admw],\n",
    "    #[10, data_loader_drop, admw],\n",
    "    [10, data_loader, ada]\n",
    "]"
   ]
  },
  {
   "cell_type": "code",
   "execution_count": 134,
   "metadata": {},
   "outputs": [
    {
     "name": "stderr",
     "output_type": "stream",
     "text": [
      "  0%|          | 0/10 [00:00<?, ?it/s]"
     ]
    },
    {
     "name": "stdout",
     "output_type": "stream",
     "text": [
      "Epoch 1, Loss: 1.7166516889858505\n"
     ]
    },
    {
     "name": "stderr",
     "output_type": "stream",
     "text": [
      " 10%|█         | 1/10 [00:32<04:56, 32.98s/it]"
     ]
    },
    {
     "name": "stdout",
     "output_type": "stream",
     "text": [
      "F1 Score: 0.9615170105967652\n",
      "Recall: 0.9607132906101978\n",
      "Accuracy on test: 96.24387588459444%\n",
      "Epoch 2, Loss: 0.2694588975009063\n"
     ]
    },
    {
     "name": "stderr",
     "output_type": "stream",
     "text": [
      " 20%|██        | 2/10 [01:05<04:23, 32.99s/it]"
     ]
    },
    {
     "name": "stdout",
     "output_type": "stream",
     "text": [
      "F1 Score: 0.9705679148818571\n",
      "Recall: 0.9785455558651435\n",
      "Accuracy on test: 97.1012520413718%\n",
      "Epoch 3, Loss: 0.12117850319684847\n"
     ]
    },
    {
     "name": "stderr",
     "output_type": "stream",
     "text": [
      " 30%|███       | 3/10 [01:38<03:50, 32.96s/it]"
     ]
    },
    {
     "name": "stdout",
     "output_type": "stream",
     "text": [
      "F1 Score: 0.9713331477873643\n",
      "Recall: 0.9724157146837559\n",
      "Accuracy on test: 97.1965160587915%\n",
      "Epoch 4, Loss: 0.09130795563206724\n"
     ]
    },
    {
     "name": "stderr",
     "output_type": "stream",
     "text": [
      " 40%|████      | 4/10 [02:11<03:17, 32.94s/it]"
     ]
    },
    {
     "name": "stdout",
     "output_type": "stream",
     "text": [
      "F1 Score: 0.9708111142295818\n",
      "Recall: 0.9637782112008916\n",
      "Accuracy on test: 97.16929776810017%\n",
      "Epoch 5, Loss: 0.0496516864038194\n"
     ]
    },
    {
     "name": "stderr",
     "output_type": "stream",
     "text": [
      " 50%|█████     | 5/10 [02:44<02:44, 32.92s/it]"
     ]
    },
    {
     "name": "stdout",
     "output_type": "stream",
     "text": [
      "F1 Score: 0.9718841796055392\n",
      "Recall: 0.9679576483700195\n",
      "Accuracy on test: 97.26456178551986%\n"
     ]
    },
    {
     "name": "stderr",
     "output_type": "stream",
     "text": [
      " 50%|█████     | 5/10 [02:55<02:55, 35.04s/it]\n"
     ]
    },
    {
     "ename": "KeyboardInterrupt",
     "evalue": "",
     "output_type": "error",
     "traceback": [
      "\u001b[0;31m---------------------------------------------------------------------------\u001b[0m",
      "\u001b[0;31mKeyboardInterrupt\u001b[0m                         Traceback (most recent call last)",
      "Cell \u001b[0;32mIn[134], line 27\u001b[0m\n\u001b[1;32m     24\u001b[0m     optimizer\u001b[38;5;241m.\u001b[39mstep()\n\u001b[1;32m     26\u001b[0m     \u001b[38;5;66;03m# Print statistics\u001b[39;00m\n\u001b[0;32m---> 27\u001b[0m     running_loss \u001b[38;5;241m+\u001b[39m\u001b[38;5;241m=\u001b[39m \u001b[43mloss\u001b[49m\u001b[38;5;241;43m.\u001b[39;49m\u001b[43mitem\u001b[49m\u001b[43m(\u001b[49m\u001b[43m)\u001b[49m\n\u001b[1;32m     29\u001b[0m writer\u001b[38;5;241m.\u001b[39madd_scalar(\u001b[38;5;124m\"\u001b[39m\u001b[38;5;124mLoss/train\u001b[39m\u001b[38;5;124m\"\u001b[39m, running_loss\u001b[38;5;241m/\u001b[39m\u001b[38;5;28mlen\u001b[39m(data_loader), epoch)\n\u001b[1;32m     30\u001b[0m \u001b[38;5;28mprint\u001b[39m(\u001b[38;5;124mf\u001b[39m\u001b[38;5;124m\"\u001b[39m\u001b[38;5;124mEpoch \u001b[39m\u001b[38;5;132;01m{\u001b[39;00mepoch\u001b[38;5;241m+\u001b[39m\u001b[38;5;241m1\u001b[39m\u001b[38;5;132;01m}\u001b[39;00m\u001b[38;5;124m, Loss: \u001b[39m\u001b[38;5;132;01m{\u001b[39;00mrunning_loss\u001b[38;5;241m/\u001b[39m\u001b[38;5;28mlen\u001b[39m(data_loader)\u001b[38;5;132;01m}\u001b[39;00m\u001b[38;5;124m\"\u001b[39m, flush\u001b[38;5;241m=\u001b[39m\u001b[38;5;28;01mTrue\u001b[39;00m)\n",
      "\u001b[0;31mKeyboardInterrupt\u001b[0m: "
     ]
    }
   ],
   "source": [
    "total_epochs = 0\n",
    "# Training loop\n",
    "for segment in train_config:\n",
    "    num_epochs = segment[0]\n",
    "    data_loaderr = segment[1]\n",
    "    optimizer = segment[2]\n",
    "    for epoch in tqdm(range(num_epochs)):\n",
    "        running_loss = 0.0\n",
    "        for inputs, labels in data_loaderr:\n",
    "            # Zero the parameter gradients\n",
    "            optimizer.zero_grad()\n",
    "\n",
    "            # Forward pass\n",
    "            outputs = model(inputs)\n",
    "            # Compute loss\n",
    "            loss = criterion(outputs[:, 0], labels)\n",
    "\n",
    "            # Backward pass and optimize\n",
    "            loss.backward()\n",
    "\n",
    "            # Clip gradients\n",
    "            nn.utils.clip_grad_norm_(model.parameters(), 1.0)\n",
    "\n",
    "            optimizer.step()\n",
    "\n",
    "            # Print statistics\n",
    "            running_loss += loss.item()\n",
    "\n",
    "        writer.add_scalar(\"Loss/train\", running_loss/len(data_loader), epoch)\n",
    "        print(f\"Epoch {epoch+1}, Loss: {running_loss/len(data_loader)}\", flush=True)\n",
    "        measure_model_log(writer, model, test_loader, total_epochs)\n",
    "        writer.flush()\n",
    "        total_epochs += 1"
   ]
  },
  {
   "cell_type": "code",
   "execution_count": null,
   "metadata": {},
   "outputs": [],
   "source": []
  },
  {
   "cell_type": "code",
   "execution_count": null,
   "metadata": {},
   "outputs": [],
   "source": []
  },
  {
   "cell_type": "code",
   "execution_count": 135,
   "metadata": {},
   "outputs": [
    {
     "name": "stdout",
     "output_type": "stream",
     "text": [
      "F1 Score: 0.9699775533108866\n",
      "Recall: 0.9632209529116745\n",
      "Accuracy of the network on the 7348 test images: 98.20359281437125%\n"
     ]
    },
    {
     "data": {
      "image/png": "[encoded data removed]",
      "text/plain": [
       "<Figure size 640x480 with 1 Axes>"
      ]
     },
     "metadata": {},
     "output_type": "display_data"
    },
    {
     "data": {
      "image/png": "[encoded data removed]",
      "text/plain": [
       "<Figure size 1200x700 with 2 Axes>"
      ]
     },
     "metadata": {},
     "output_type": "display_data"
    }
   ],
   "source": [
    "measure_model(model, test_loader)"
   ]
  },
  {
   "cell_type": "code",
   "execution_count": 136,
   "metadata": {},
   "outputs": [
    {
     "name": "stdout",
     "output_type": "stream",
     "text": [
      "F1 Score: 0.9736842105263158\n",
      "Recall: 0.9487179487179487\n",
      "Accuracy of the network on the 86 test images: 97.67441860465115%\n"
     ]
    },
    {
     "data": {
      "image/png": "[encoded data removed]",
      "text/plain": [
       "<Figure size 640x480 with 1 Axes>"
      ]
     },
     "metadata": {},
     "output_type": "display_data"
    },
    {
     "data": {
      "image/png": "[encoded data removed]",
      "text/plain": [
       "<Figure size 1200x700 with 2 Axes>"
      ]
     },
     "metadata": {},
     "output_type": "display_data"
    }
   ],
   "source": [
    "measure_model(model, test_loader_smart)"
   ]
  },
  {
   "cell_type": "code",
   "execution_count": 137,
   "metadata": {},
   "outputs": [
    {
     "name": "stdout",
     "output_type": "stream",
     "text": [
      "F1 Score: 0.97105561861521\n",
      "Recall: 0.963943661971831\n",
      "Accuracy of the network on the 7262 test images: 98.23740016524374%\n"
     ]
    },
    {
     "data": {
      "image/png": "[encoded data removed]",
      "text/plain": [
       "<Figure size 640x480 with 1 Axes>"
      ]
     },
     "metadata": {},
     "output_type": "display_data"
    },
    {
     "data": {
      "image/png": "[encoded data removed]",
      "text/plain": [
       "<Figure size 1200x700 with 2 Axes>"
      ]
     },
     "metadata": {},
     "output_type": "display_data"
    }
   ],
   "source": [
    "\n",
    "measure_model(model, test_loader_drop)"
   ]
  },
  {
   "cell_type": "code",
   "execution_count": null,
   "metadata": {},
   "outputs": [],
   "source": [
    "torch.save(model.state_dict(), \"KAN_SMART_HCC_2.checkpoint\")"
   ]
  },
  {
   "cell_type": "code",
   "execution_count": 121,
   "metadata": {},
   "outputs": [],
   "source": [
    "import gc\n",
    "\n",
    "model.cpu()\n",
    "del model, admw\n",
    "gc.collect()\n",
    "torch.cuda.empty_cache()"
   ]
  },
  {
   "cell_type": "code",
   "execution_count": null,
   "metadata": {},
   "outputs": [],
   "source": []
  }
 ],
 "metadata": {
  "kernelspec": {
   "display_name": "Python 3",
   "language": "python",
   "name": "python3"
  },
  "language_info": {
   "codemirror_mode": {
    "name": "ipython",
    "version": 3
   },
   "file_extension": ".py",
   "mimetype": "text/x-python",
   "name": "python",
   "nbconvert_exporter": "python",
   "pygments_lexer": "ipython3",
   "version": "3.12.3"
  }
 },
 "nbformat": 4,
 "nbformat_minor": 2
}

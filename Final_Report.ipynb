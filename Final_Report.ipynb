{
 "cells": [
  {
   "cell_type": "markdown",
   "metadata": {},
   "source": [
    "# AI LAB REPORT <br /> Application of ML to transcriptomics\n",
    "<br />\n",
    "Group: <br />Calda Lorenzo (3194670), Lolli Alberto Paolo (3224481), Masiello Mariano (3200991), Senel Ali Emre (3221337)"
   ]
  },
  {
   "cell_type": "code",
   "execution_count": null,
   "metadata": {},
   "outputs": [],
   "source": []
  }
 ],
 "metadata": {
  "language_info": {
   "name": "python"
  }
 },
 "nbformat": 4,
 "nbformat_minor": 2
}

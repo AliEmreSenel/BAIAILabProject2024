{
 "cells": [
  {
   "cell_type": "markdown",
   "metadata": {},
   "source": [
    "# AI LAB REPORT <br /> Application of ML to transcriptomics\n",
    "<br />\n",
    "Group: <br />Calda Lorenzo (3194670), Lolli Alberto Paolo (3224481), Masiello Mariano (3200991), Senel Ali Emre (3221337)"
   ]
  },
  {
   "cell_type": "markdown",
   "metadata": {},
   "source": [
    "## INTRODUCTION:"
   ]
  },
  {
   "cell_type": "markdown",
   "metadata": {},
   "source": [
    "#### **Background**<br />\n",
    "\n",
    "Studying the relationship between cancer and the human genome is challenging due to the high variability in gene expression among individuals and even within a single person’s cancer cells. Cancer cells accumulate numerous mutations over time, making them complex to understand and treat. To effectively tackle cancer, it’s essential to study both DNA and RNA, as RNA provides the instructions that guide cell behavior, revealing how cancer cells interact with their environment, such as evading immune cells.<br />\n",
    "\n",
    "Hypoxia, a condition where cancer cells are deprived of sufficient oxygen, is critical in understanding cancer. These rapidly growing cells require more oxygen than normal cells. In areas with large tumors, the blood supply often falls short, leading to hypoxic conditions. Under hypoxia, cancer cells may express abnormal genes to survive, becoming more aggressive and harder to treat. Identifying hypoxic cells and understanding their survival mechanisms can provide valuable insights for better treatments.<br />\n",
    "\n",
    "The experiment involved growing cells under normal oxygen levels (21%) and reduced oxygen levels (1%). A single-cell RNA sequencing was then performed using Smart-Seq and Drop-Seq methods to analyze gene expression. <br /><br />\n",
    "\n",
    "#### **Overall Aim**<br />\n",
    "The data provided originates from two breast cancer cell lines: HCC1086 and MCF7. By comparing gene expression profiles of cells grown under hypoxic and normoxic conditions, we aim to uncover the molecular mechanisms and effects of hypoxia in these cancer cells. Using various techniques, we trained algorithms to distinguish between hypoxic and normoxic cells, aiming to identify more aggressive hypoxic cancer cells and potentially leading to better treatment strategies.<br /><br />\n",
    "\n",
    "\n",
    "#### **Dataset**\n",
    "The data were provided in .csv and .tsv format. Each column represents a single sequenced cell, identified by a unique name that includes information about whether the cell was grown in hypoxic or normoxic conditions, and for Smart-Seq, its position on the culture plate. Each row corresponds to a gene, identified by its official gene symbol. Entries in the table represent gene expression counts for Smart-Seq sequenced cells and Unique Molecular Identifier (UMI) counts for Drop-Seq sequenced cells. This structure allows for detailed analysis of gene expression in different environmental conditions.<br /><br />\n",
    "\n",
    "#### **Methods**\n",
    "Our work will be divided into 3 main sections:\n",
    "1. Exploratory Data Analysis\n",
    "2. Unsupervised Learning methods\n",
    "3. Supervised Learning methods\n",
    "\n"
   ]
  },
  {
   "cell_type": "markdown",
   "metadata": {},
   "source": [
    "## Exploratory Data Analysis:"
   ]
  },
  {
   "cell_type": "code",
   "execution_count": null,
   "metadata": {},
   "outputs": [],
   "source": []
  }
 ],
 "metadata": {
  "language_info": {
   "name": "python"
  }
 },
 "nbformat": 4,
 "nbformat_minor": 2
}
